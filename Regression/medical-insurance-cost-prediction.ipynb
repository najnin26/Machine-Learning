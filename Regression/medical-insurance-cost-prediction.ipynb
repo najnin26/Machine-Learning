{
 "cells": [
  {
   "cell_type": "code",
   "execution_count": 1,
   "id": "a5a8244e",
   "metadata": {
    "_cell_guid": "b1076dfc-b9ad-4769-8c92-a6c4dae69d19",
    "_uuid": "8f2839f25d086af736a60e9eeb907d3b93b6e0e5",
    "execution": {
     "iopub.execute_input": "2024-03-31T15:52:32.489547Z",
     "iopub.status.busy": "2024-03-31T15:52:32.488816Z",
     "iopub.status.idle": "2024-03-31T15:52:35.599502Z",
     "shell.execute_reply": "2024-03-31T15:52:35.598176Z"
    },
    "papermill": {
     "duration": 3.121999,
     "end_time": "2024-03-31T15:52:35.602976",
     "exception": false,
     "start_time": "2024-03-31T15:52:32.480977",
     "status": "completed"
    },
    "tags": []
   },
   "outputs": [],
   "source": [
    "import numpy as np\n",
    "import pandas as pd\n",
    "import matplotlib.pyplot as plt\n",
    "import seaborn as sns\n",
    "from sklearn.model_selection import train_test_split\n",
    "from sklearn.linear_model import LinearRegression\n",
    "from sklearn import metrics"
   ]
  },
  {
   "cell_type": "code",
   "execution_count": 2,
   "id": "264ffdb2",
   "metadata": {
    "execution": {
     "iopub.execute_input": "2024-03-31T15:52:35.616984Z",
     "iopub.status.busy": "2024-03-31T15:52:35.616333Z",
     "iopub.status.idle": "2024-03-31T15:52:35.644366Z",
     "shell.execute_reply": "2024-03-31T15:52:35.642950Z"
    },
    "papermill": {
     "duration": 0.038067,
     "end_time": "2024-03-31T15:52:35.647300",
     "exception": false,
     "start_time": "2024-03-31T15:52:35.609233",
     "status": "completed"
    },
    "tags": []
   },
   "outputs": [],
   "source": [
    "data=pd.read_csv('/kaggle/input/insurance/insurance.csv')"
   ]
  },
  {
   "cell_type": "code",
   "execution_count": 3,
   "id": "d54feb41",
   "metadata": {
    "execution": {
     "iopub.execute_input": "2024-03-31T15:52:35.660889Z",
     "iopub.status.busy": "2024-03-31T15:52:35.660105Z",
     "iopub.status.idle": "2024-03-31T15:52:35.684788Z",
     "shell.execute_reply": "2024-03-31T15:52:35.683428Z"
    },
    "papermill": {
     "duration": 0.034487,
     "end_time": "2024-03-31T15:52:35.687391",
     "exception": false,
     "start_time": "2024-03-31T15:52:35.652904",
     "status": "completed"
    },
    "tags": []
   },
   "outputs": [
    {
     "data": {
      "text/html": [
       "<div>\n",
       "<style scoped>\n",
       "    .dataframe tbody tr th:only-of-type {\n",
       "        vertical-align: middle;\n",
       "    }\n",
       "\n",
       "    .dataframe tbody tr th {\n",
       "        vertical-align: top;\n",
       "    }\n",
       "\n",
       "    .dataframe thead th {\n",
       "        text-align: right;\n",
       "    }\n",
       "</style>\n",
       "<table border=\"1\" class=\"dataframe\">\n",
       "  <thead>\n",
       "    <tr style=\"text-align: right;\">\n",
       "      <th></th>\n",
       "      <th>age</th>\n",
       "      <th>sex</th>\n",
       "      <th>bmi</th>\n",
       "      <th>children</th>\n",
       "      <th>smoker</th>\n",
       "      <th>region</th>\n",
       "      <th>charges</th>\n",
       "    </tr>\n",
       "  </thead>\n",
       "  <tbody>\n",
       "    <tr>\n",
       "      <th>0</th>\n",
       "      <td>19</td>\n",
       "      <td>female</td>\n",
       "      <td>27.900</td>\n",
       "      <td>0</td>\n",
       "      <td>yes</td>\n",
       "      <td>southwest</td>\n",
       "      <td>16884.92400</td>\n",
       "    </tr>\n",
       "    <tr>\n",
       "      <th>1</th>\n",
       "      <td>18</td>\n",
       "      <td>male</td>\n",
       "      <td>33.770</td>\n",
       "      <td>1</td>\n",
       "      <td>no</td>\n",
       "      <td>southeast</td>\n",
       "      <td>1725.55230</td>\n",
       "    </tr>\n",
       "    <tr>\n",
       "      <th>2</th>\n",
       "      <td>28</td>\n",
       "      <td>male</td>\n",
       "      <td>33.000</td>\n",
       "      <td>3</td>\n",
       "      <td>no</td>\n",
       "      <td>southeast</td>\n",
       "      <td>4449.46200</td>\n",
       "    </tr>\n",
       "    <tr>\n",
       "      <th>3</th>\n",
       "      <td>33</td>\n",
       "      <td>male</td>\n",
       "      <td>22.705</td>\n",
       "      <td>0</td>\n",
       "      <td>no</td>\n",
       "      <td>northwest</td>\n",
       "      <td>21984.47061</td>\n",
       "    </tr>\n",
       "    <tr>\n",
       "      <th>4</th>\n",
       "      <td>32</td>\n",
       "      <td>male</td>\n",
       "      <td>28.880</td>\n",
       "      <td>0</td>\n",
       "      <td>no</td>\n",
       "      <td>northwest</td>\n",
       "      <td>3866.85520</td>\n",
       "    </tr>\n",
       "  </tbody>\n",
       "</table>\n",
       "</div>"
      ],
      "text/plain": [
       "   age     sex     bmi  children smoker     region      charges\n",
       "0   19  female  27.900         0    yes  southwest  16884.92400\n",
       "1   18    male  33.770         1     no  southeast   1725.55230\n",
       "2   28    male  33.000         3     no  southeast   4449.46200\n",
       "3   33    male  22.705         0     no  northwest  21984.47061\n",
       "4   32    male  28.880         0     no  northwest   3866.85520"
      ]
     },
     "execution_count": 3,
     "metadata": {},
     "output_type": "execute_result"
    }
   ],
   "source": [
    "data.head()"
   ]
  },
  {
   "cell_type": "code",
   "execution_count": 4,
   "id": "2e9aa08f",
   "metadata": {
    "execution": {
     "iopub.execute_input": "2024-03-31T15:52:35.703073Z",
     "iopub.status.busy": "2024-03-31T15:52:35.702568Z",
     "iopub.status.idle": "2024-03-31T15:52:35.736433Z",
     "shell.execute_reply": "2024-03-31T15:52:35.734591Z"
    },
    "papermill": {
     "duration": 0.045943,
     "end_time": "2024-03-31T15:52:35.739536",
     "exception": false,
     "start_time": "2024-03-31T15:52:35.693593",
     "status": "completed"
    },
    "tags": []
   },
   "outputs": [
    {
     "name": "stdout",
     "output_type": "stream",
     "text": [
      "<class 'pandas.core.frame.DataFrame'>\n",
      "RangeIndex: 1338 entries, 0 to 1337\n",
      "Data columns (total 7 columns):\n",
      " #   Column    Non-Null Count  Dtype  \n",
      "---  ------    --------------  -----  \n",
      " 0   age       1338 non-null   int64  \n",
      " 1   sex       1338 non-null   object \n",
      " 2   bmi       1338 non-null   float64\n",
      " 3   children  1338 non-null   int64  \n",
      " 4   smoker    1338 non-null   object \n",
      " 5   region    1338 non-null   object \n",
      " 6   charges   1338 non-null   float64\n",
      "dtypes: float64(2), int64(2), object(3)\n",
      "memory usage: 73.3+ KB\n"
     ]
    }
   ],
   "source": [
    "data.info()"
   ]
  },
  {
   "cell_type": "markdown",
   "id": "95b63ed1",
   "metadata": {
    "papermill": {
     "duration": 0.005607,
     "end_time": "2024-03-31T15:52:35.751208",
     "exception": false,
     "start_time": "2024-03-31T15:52:35.745601",
     "status": "completed"
    },
    "tags": []
   },
   "source": [
    "**Catagirical Data**\n",
    "\n",
    "**1.sex**\n",
    "\n",
    "**2.smoker**\n",
    "\n",
    "**3.region**"
   ]
  },
  {
   "cell_type": "code",
   "execution_count": 5,
   "id": "20bba392",
   "metadata": {
    "execution": {
     "iopub.execute_input": "2024-03-31T15:52:35.765328Z",
     "iopub.status.busy": "2024-03-31T15:52:35.764887Z",
     "iopub.status.idle": "2024-03-31T15:52:35.772472Z",
     "shell.execute_reply": "2024-03-31T15:52:35.771250Z"
    },
    "papermill": {
     "duration": 0.01747,
     "end_time": "2024-03-31T15:52:35.774952",
     "exception": false,
     "start_time": "2024-03-31T15:52:35.757482",
     "status": "completed"
    },
    "tags": []
   },
   "outputs": [
    {
     "data": {
      "text/plain": [
       "(1338, 7)"
      ]
     },
     "execution_count": 5,
     "metadata": {},
     "output_type": "execute_result"
    }
   ],
   "source": [
    "data.shape"
   ]
  },
  {
   "cell_type": "code",
   "execution_count": 6,
   "id": "7a41cfeb",
   "metadata": {
    "execution": {
     "iopub.execute_input": "2024-03-31T15:52:35.788962Z",
     "iopub.status.busy": "2024-03-31T15:52:35.788522Z",
     "iopub.status.idle": "2024-03-31T15:52:35.798973Z",
     "shell.execute_reply": "2024-03-31T15:52:35.797838Z"
    },
    "papermill": {
     "duration": 0.020204,
     "end_time": "2024-03-31T15:52:35.801384",
     "exception": false,
     "start_time": "2024-03-31T15:52:35.781180",
     "status": "completed"
    },
    "tags": []
   },
   "outputs": [
    {
     "data": {
      "text/plain": [
       "age         0\n",
       "sex         0\n",
       "bmi         0\n",
       "children    0\n",
       "smoker      0\n",
       "region      0\n",
       "charges     0\n",
       "dtype: int64"
      ]
     },
     "execution_count": 6,
     "metadata": {},
     "output_type": "execute_result"
    }
   ],
   "source": [
    "data.isnull().sum()"
   ]
  },
  {
   "cell_type": "code",
   "execution_count": 7,
   "id": "05c7a4ff",
   "metadata": {
    "execution": {
     "iopub.execute_input": "2024-03-31T15:52:35.817267Z",
     "iopub.status.busy": "2024-03-31T15:52:35.816795Z",
     "iopub.status.idle": "2024-03-31T15:52:35.847597Z",
     "shell.execute_reply": "2024-03-31T15:52:35.846227Z"
    },
    "papermill": {
     "duration": 0.042723,
     "end_time": "2024-03-31T15:52:35.850697",
     "exception": false,
     "start_time": "2024-03-31T15:52:35.807974",
     "status": "completed"
    },
    "tags": []
   },
   "outputs": [
    {
     "data": {
      "text/html": [
       "<div>\n",
       "<style scoped>\n",
       "    .dataframe tbody tr th:only-of-type {\n",
       "        vertical-align: middle;\n",
       "    }\n",
       "\n",
       "    .dataframe tbody tr th {\n",
       "        vertical-align: top;\n",
       "    }\n",
       "\n",
       "    .dataframe thead th {\n",
       "        text-align: right;\n",
       "    }\n",
       "</style>\n",
       "<table border=\"1\" class=\"dataframe\">\n",
       "  <thead>\n",
       "    <tr style=\"text-align: right;\">\n",
       "      <th></th>\n",
       "      <th>age</th>\n",
       "      <th>bmi</th>\n",
       "      <th>children</th>\n",
       "      <th>charges</th>\n",
       "    </tr>\n",
       "  </thead>\n",
       "  <tbody>\n",
       "    <tr>\n",
       "      <th>count</th>\n",
       "      <td>1338.000000</td>\n",
       "      <td>1338.000000</td>\n",
       "      <td>1338.000000</td>\n",
       "      <td>1338.000000</td>\n",
       "    </tr>\n",
       "    <tr>\n",
       "      <th>mean</th>\n",
       "      <td>39.207025</td>\n",
       "      <td>30.663397</td>\n",
       "      <td>1.094918</td>\n",
       "      <td>13270.422265</td>\n",
       "    </tr>\n",
       "    <tr>\n",
       "      <th>std</th>\n",
       "      <td>14.049960</td>\n",
       "      <td>6.098187</td>\n",
       "      <td>1.205493</td>\n",
       "      <td>12110.011237</td>\n",
       "    </tr>\n",
       "    <tr>\n",
       "      <th>min</th>\n",
       "      <td>18.000000</td>\n",
       "      <td>15.960000</td>\n",
       "      <td>0.000000</td>\n",
       "      <td>1121.873900</td>\n",
       "    </tr>\n",
       "    <tr>\n",
       "      <th>25%</th>\n",
       "      <td>27.000000</td>\n",
       "      <td>26.296250</td>\n",
       "      <td>0.000000</td>\n",
       "      <td>4740.287150</td>\n",
       "    </tr>\n",
       "    <tr>\n",
       "      <th>50%</th>\n",
       "      <td>39.000000</td>\n",
       "      <td>30.400000</td>\n",
       "      <td>1.000000</td>\n",
       "      <td>9382.033000</td>\n",
       "    </tr>\n",
       "    <tr>\n",
       "      <th>75%</th>\n",
       "      <td>51.000000</td>\n",
       "      <td>34.693750</td>\n",
       "      <td>2.000000</td>\n",
       "      <td>16639.912515</td>\n",
       "    </tr>\n",
       "    <tr>\n",
       "      <th>max</th>\n",
       "      <td>64.000000</td>\n",
       "      <td>53.130000</td>\n",
       "      <td>5.000000</td>\n",
       "      <td>63770.428010</td>\n",
       "    </tr>\n",
       "  </tbody>\n",
       "</table>\n",
       "</div>"
      ],
      "text/plain": [
       "               age          bmi     children       charges\n",
       "count  1338.000000  1338.000000  1338.000000   1338.000000\n",
       "mean     39.207025    30.663397     1.094918  13270.422265\n",
       "std      14.049960     6.098187     1.205493  12110.011237\n",
       "min      18.000000    15.960000     0.000000   1121.873900\n",
       "25%      27.000000    26.296250     0.000000   4740.287150\n",
       "50%      39.000000    30.400000     1.000000   9382.033000\n",
       "75%      51.000000    34.693750     2.000000  16639.912515\n",
       "max      64.000000    53.130000     5.000000  63770.428010"
      ]
     },
     "execution_count": 7,
     "metadata": {},
     "output_type": "execute_result"
    }
   ],
   "source": [
    "data.describe()"
   ]
  },
  {
   "cell_type": "markdown",
   "id": "fd8bc48e",
   "metadata": {
    "papermill": {
     "duration": 0.008066,
     "end_time": "2024-03-31T15:52:35.866198",
     "exception": false,
     "start_time": "2024-03-31T15:52:35.858132",
     "status": "completed"
    },
    "tags": []
   },
   "source": [
    "# Data Analysis"
   ]
  },
  {
   "cell_type": "code",
   "execution_count": 8,
   "id": "dfdef17d",
   "metadata": {
    "execution": {
     "iopub.execute_input": "2024-03-31T15:52:35.882670Z",
     "iopub.status.busy": "2024-03-31T15:52:35.881539Z",
     "iopub.status.idle": "2024-03-31T15:52:36.420953Z",
     "shell.execute_reply": "2024-03-31T15:52:36.419639Z"
    },
    "papermill": {
     "duration": 0.550491,
     "end_time": "2024-03-31T15:52:36.423801",
     "exception": false,
     "start_time": "2024-03-31T15:52:35.873310",
     "status": "completed"
    },
    "tags": []
   },
   "outputs": [
    {
     "name": "stderr",
     "output_type": "stream",
     "text": [
      "/tmp/ipykernel_19/2067655652.py:4: UserWarning: \n",
      "\n",
      "`distplot` is a deprecated function and will be removed in seaborn v0.14.0.\n",
      "\n",
      "Please adapt your code to use either `displot` (a figure-level function with\n",
      "similar flexibility) or `histplot` (an axes-level function for histograms).\n",
      "\n",
      "For a guide to updating your code to use the new functions, please see\n",
      "https://gist.github.com/mwaskom/de44147ed2974457ad6372750bbe5751\n",
      "\n",
      "  sns.distplot(data['age'])\n",
      "/opt/conda/lib/python3.10/site-packages/seaborn/_oldcore.py:1119: FutureWarning: use_inf_as_na option is deprecated and will be removed in a future version. Convert inf values to NaN before operating instead.\n",
      "  with pd.option_context('mode.use_inf_as_na', True):\n"
     ]
    },
    {
     "data": {
      "image/png": "[encoded data removed]",
      "text/plain": [
       "<Figure size 600x600 with 1 Axes>"
      ]
     },
     "metadata": {},
     "output_type": "display_data"
    }
   ],
   "source": [
    "# distribution of age value\n",
    "sns.set()\n",
    "plt.figure(figsize=(6,6))\n",
    "sns.distplot(data['age'])\n",
    "plt.title(\"Age distribution\")\n",
    "plt.show()"
   ]
  },
  {
   "cell_type": "code",
   "execution_count": 9,
   "id": "3f29c542",
   "metadata": {
    "execution": {
     "iopub.execute_input": "2024-03-31T15:52:36.441513Z",
     "iopub.status.busy": "2024-03-31T15:52:36.441106Z",
     "iopub.status.idle": "2024-03-31T15:52:36.748761Z",
     "shell.execute_reply": "2024-03-31T15:52:36.747519Z"
    },
    "papermill": {
     "duration": 0.320109,
     "end_time": "2024-03-31T15:52:36.751381",
     "exception": false,
     "start_time": "2024-03-31T15:52:36.431272",
     "status": "completed"
    },
    "tags": []
   },
   "outputs": [
    {
     "data": {
      "image/png": "[encoded data removed]",
      "text/plain": [
       "<Figure size 600x600 with 1 Axes>"
      ]
     },
     "metadata": {},
     "output_type": "display_data"
    }
   ],
   "source": [
    "# distribution of gender\n",
    "plt.figure(figsize=(6,6))\n",
    "sns.countplot(x='sex',data=data)\n",
    "plt.title(\"Sex distribution\")\n",
    "plt.show()"
   ]
  },
  {
   "cell_type": "code",
   "execution_count": 10,
   "id": "afede182",
   "metadata": {
    "execution": {
     "iopub.execute_input": "2024-03-31T15:52:36.768955Z",
     "iopub.status.busy": "2024-03-31T15:52:36.768502Z",
     "iopub.status.idle": "2024-03-31T15:52:36.777915Z",
     "shell.execute_reply": "2024-03-31T15:52:36.776686Z"
    },
    "papermill": {
     "duration": 0.021066,
     "end_time": "2024-03-31T15:52:36.780336",
     "exception": false,
     "start_time": "2024-03-31T15:52:36.759270",
     "status": "completed"
    },
    "tags": []
   },
   "outputs": [
    {
     "data": {
      "text/plain": [
       "sex\n",
       "male      676\n",
       "female    662\n",
       "Name: count, dtype: int64"
      ]
     },
     "execution_count": 10,
     "metadata": {},
     "output_type": "execute_result"
    }
   ],
   "source": [
    "data['sex'].value_counts()"
   ]
  },
  {
   "cell_type": "code",
   "execution_count": 11,
   "id": "bf76f96c",
   "metadata": {
    "execution": {
     "iopub.execute_input": "2024-03-31T15:52:36.798579Z",
     "iopub.status.busy": "2024-03-31T15:52:36.797516Z",
     "iopub.status.idle": "2024-03-31T15:52:37.324987Z",
     "shell.execute_reply": "2024-03-31T15:52:37.323666Z"
    },
    "papermill": {
     "duration": 0.542781,
     "end_time": "2024-03-31T15:52:37.331113",
     "exception": false,
     "start_time": "2024-03-31T15:52:36.788332",
     "status": "completed"
    },
    "tags": []
   },
   "outputs": [
    {
     "name": "stderr",
     "output_type": "stream",
     "text": [
      "/tmp/ipykernel_19/810861004.py:3: UserWarning: \n",
      "\n",
      "`distplot` is a deprecated function and will be removed in seaborn v0.14.0.\n",
      "\n",
      "Please adapt your code to use either `displot` (a figure-level function with\n",
      "similar flexibility) or `histplot` (an axes-level function for histograms).\n",
      "\n",
      "For a guide to updating your code to use the new functions, please see\n",
      "https://gist.github.com/mwaskom/de44147ed2974457ad6372750bbe5751\n",
      "\n",
      "  sns.distplot(data['bmi'])\n",
      "/opt/conda/lib/python3.10/site-packages/seaborn/_oldcore.py:1119: FutureWarning: use_inf_as_na option is deprecated and will be removed in a future version. Convert inf values to NaN before operating instead.\n",
      "  with pd.option_context('mode.use_inf_as_na', True):\n"
     ]
    },
    {
     "data": {
      "image/png": "[encoded data removed]",
      "text/plain": [
       "<Figure size 600x600 with 1 Axes>"
      ]
     },
     "metadata": {},
     "output_type": "display_data"
    }
   ],
   "source": [
    "# bmi distribution\n",
    "plt.figure(figsize=(6,6))\n",
    "sns.distplot(data['bmi'])\n",
    "plt.title(\"BMI distribution\")\n",
    "plt.show()"
   ]
  },
  {
   "cell_type": "markdown",
   "id": "b318fc99",
   "metadata": {
    "papermill": {
     "duration": 0.009077,
     "end_time": "2024-03-31T15:52:37.350101",
     "exception": false,
     "start_time": "2024-03-31T15:52:37.341024",
     "status": "completed"
    },
    "tags": []
   },
   "source": [
    "**Normal BMI Range --> 18.5 to 24.9**"
   ]
  },
  {
   "cell_type": "code",
   "execution_count": null,
   "id": "5ee3dc60",
   "metadata": {
    "papermill": {
     "duration": 0.008901,
     "end_time": "2024-03-31T15:52:37.368517",
     "exception": false,
     "start_time": "2024-03-31T15:52:37.359616",
     "status": "completed"
    },
    "tags": []
   },
   "outputs": [],
   "source": []
  }
 ],
 "metadata": {
  "kaggle": {
   "accelerator": "none",
   "dataSources": [
    {
     "datasetId": 13720,
     "sourceId": 18513,
     "sourceType": "datasetVersion"
    }
   ],
   "dockerImageVersionId": 30673,
   "isGpuEnabled": false,
   "isInternetEnabled": false,
   "language": "python",
   "sourceType": "notebook"
  },
  "kernelspec": {
   "display_name": "Python 3",
   "language": "python",
   "name": "python3"
  },
  "language_info": {
   "codemirror_mode": {
    "name": "ipython",
    "version": 3
   },
   "file_extension": ".py",
   "mimetype": "text/x-python",
   "name": "python",
   "nbconvert_exporter": "python",
   "pygments_lexer": "ipython3",
   "version": "3.10.13"
  },
  "papermill": {
   "default_parameters": {},
   "duration": 8.905473,
   "end_time": "2024-03-31T15:52:38.101175",
   "environment_variables": {},
   "exception": null,
   "input_path": "__notebook__.ipynb",
   "output_path": "__notebook__.ipynb",
   "parameters": {},
   "start_time": "2024-03-31T15:52:29.195702",
   "version": "2.5.0"
  }
 },
 "nbformat": 4,
 "nbformat_minor": 5
}
