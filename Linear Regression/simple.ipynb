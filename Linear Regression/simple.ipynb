{
 "cells": [
  {
   "cell_type": "code",
   "execution_count": 1,
   "id": "6b1ed59d",
   "metadata": {
    "_cell_guid": "b1076dfc-b9ad-4769-8c92-a6c4dae69d19",
    "_uuid": "8f2839f25d086af736a60e9eeb907d3b93b6e0e5",
    "execution": {
     "iopub.execute_input": "2024-06-06T13:48:50.388204Z",
     "iopub.status.busy": "2024-06-06T13:48:50.387771Z",
     "iopub.status.idle": "2024-06-06T13:48:51.311635Z",
     "shell.execute_reply": "2024-06-06T13:48:51.310686Z"
    },
    "papermill": {
     "duration": 0.9324,
     "end_time": "2024-06-06T13:48:51.314415",
     "exception": false,
     "start_time": "2024-06-06T13:48:50.382015",
     "status": "completed"
    },
    "tags": []
   },
   "outputs": [],
   "source": [
    "import matplotlib.pyplot as plt\n",
    "import pandas as pd\n",
    "import numpy as np"
   ]
  },
  {
   "cell_type": "code",
   "execution_count": 2,
   "id": "65bdba89",
   "metadata": {
    "execution": {
     "iopub.execute_input": "2024-06-06T13:48:51.323959Z",
     "iopub.status.busy": "2024-06-06T13:48:51.323457Z",
     "iopub.status.idle": "2024-06-06T13:48:51.348580Z",
     "shell.execute_reply": "2024-06-06T13:48:51.347601Z"
    },
    "papermill": {
     "duration": 0.032843,
     "end_time": "2024-06-06T13:48:51.351316",
     "exception": false,
     "start_time": "2024-06-06T13:48:51.318473",
     "status": "completed"
    },
    "tags": []
   },
   "outputs": [],
   "source": [
    "df = pd.read_csv('/kaggle/input/new-data/placement (1).csv')"
   ]
  },
  {
   "cell_type": "code",
   "execution_count": 3,
   "id": "9a81c807",
   "metadata": {
    "execution": {
     "iopub.execute_input": "2024-06-06T13:48:51.360793Z",
     "iopub.status.busy": "2024-06-06T13:48:51.360394Z",
     "iopub.status.idle": "2024-06-06T13:48:51.384389Z",
     "shell.execute_reply": "2024-06-06T13:48:51.383259Z"
    },
    "papermill": {
     "duration": 0.031719,
     "end_time": "2024-06-06T13:48:51.387065",
     "exception": false,
     "start_time": "2024-06-06T13:48:51.355346",
     "status": "completed"
    },
    "tags": []
   },
   "outputs": [
    {
     "data": {
      "text/html": [
       "<div>\n",
       "<style scoped>\n",
       "    .dataframe tbody tr th:only-of-type {\n",
       "        vertical-align: middle;\n",
       "    }\n",
       "\n",
       "    .dataframe tbody tr th {\n",
       "        vertical-align: top;\n",
       "    }\n",
       "\n",
       "    .dataframe thead th {\n",
       "        text-align: right;\n",
       "    }\n",
       "</style>\n",
       "<table border=\"1\" class=\"dataframe\">\n",
       "  <thead>\n",
       "    <tr style=\"text-align: right;\">\n",
       "      <th></th>\n",
       "      <th>cgpa</th>\n",
       "      <th>package</th>\n",
       "    </tr>\n",
       "  </thead>\n",
       "  <tbody>\n",
       "    <tr>\n",
       "      <th>0</th>\n",
       "      <td>6.89</td>\n",
       "      <td>3.26</td>\n",
       "    </tr>\n",
       "    <tr>\n",
       "      <th>1</th>\n",
       "      <td>5.12</td>\n",
       "      <td>1.98</td>\n",
       "    </tr>\n",
       "    <tr>\n",
       "      <th>2</th>\n",
       "      <td>7.82</td>\n",
       "      <td>3.25</td>\n",
       "    </tr>\n",
       "    <tr>\n",
       "      <th>3</th>\n",
       "      <td>7.42</td>\n",
       "      <td>3.67</td>\n",
       "    </tr>\n",
       "    <tr>\n",
       "      <th>4</th>\n",
       "      <td>6.94</td>\n",
       "      <td>3.57</td>\n",
       "    </tr>\n",
       "  </tbody>\n",
       "</table>\n",
       "</div>"
      ],
      "text/plain": [
       "   cgpa  package\n",
       "0  6.89     3.26\n",
       "1  5.12     1.98\n",
       "2  7.82     3.25\n",
       "3  7.42     3.67\n",
       "4  6.94     3.57"
      ]
     },
     "execution_count": 3,
     "metadata": {},
     "output_type": "execute_result"
    }
   ],
   "source": [
    "df.head()"
   ]
  },
  {
   "cell_type": "code",
   "execution_count": 4,
   "id": "331c4945",
   "metadata": {
    "execution": {
     "iopub.execute_input": "2024-06-06T13:48:51.397421Z",
     "iopub.status.busy": "2024-06-06T13:48:51.396426Z",
     "iopub.status.idle": "2024-06-06T13:48:51.750364Z",
     "shell.execute_reply": "2024-06-06T13:48:51.748851Z"
    },
    "papermill": {
     "duration": 0.362246,
     "end_time": "2024-06-06T13:48:51.753358",
     "exception": false,
     "start_time": "2024-06-06T13:48:51.391112",
     "status": "completed"
    },
    "tags": []
   },
   "outputs": [
    {
     "data": {
      "text/plain": [
       "Text(0, 0.5, 'Package(in lpa)')"
      ]
     },
     "execution_count": 4,
     "metadata": {},
     "output_type": "execute_result"
    },
    {
     "data": {
      "image/png": "[encoded data removed]",
      "text/plain": [
       "<Figure size 640x480 with 1 Axes>"
      ]
     },
     "metadata": {},
     "output_type": "display_data"
    }
   ],
   "source": [
    "plt.scatter(df['cgpa'],df['package'])\n",
    "plt.xlabel('CGPA')\n",
    "plt.ylabel('Package(in lpa)')"
   ]
  },
  {
   "cell_type": "code",
   "execution_count": 5,
   "id": "5d50ca01",
   "metadata": {
    "execution": {
     "iopub.execute_input": "2024-06-06T13:48:51.764826Z",
     "iopub.status.busy": "2024-06-06T13:48:51.764433Z",
     "iopub.status.idle": "2024-06-06T13:48:51.770517Z",
     "shell.execute_reply": "2024-06-06T13:48:51.769444Z"
    },
    "papermill": {
     "duration": 0.014807,
     "end_time": "2024-06-06T13:48:51.773051",
     "exception": false,
     "start_time": "2024-06-06T13:48:51.758244",
     "status": "completed"
    },
    "tags": []
   },
   "outputs": [],
   "source": [
    "X = df.iloc[:,0:1]\n",
    "y = df.iloc[:,-1]"
   ]
  },
  {
   "cell_type": "code",
   "execution_count": 6,
   "id": "758ad481",
   "metadata": {
    "execution": {
     "iopub.execute_input": "2024-06-06T13:48:51.784267Z",
     "iopub.status.busy": "2024-06-06T13:48:51.783850Z",
     "iopub.status.idle": "2024-06-06T13:48:51.799421Z",
     "shell.execute_reply": "2024-06-06T13:48:51.798028Z"
    },
    "papermill": {
     "duration": 0.024234,
     "end_time": "2024-06-06T13:48:51.802008",
     "exception": false,
     "start_time": "2024-06-06T13:48:51.777774",
     "status": "completed"
    },
    "tags": []
   },
   "outputs": [
    {
     "data": {
      "text/html": [
       "<div>\n",
       "<style scoped>\n",
       "    .dataframe tbody tr th:only-of-type {\n",
       "        vertical-align: middle;\n",
       "    }\n",
       "\n",
       "    .dataframe tbody tr th {\n",
       "        vertical-align: top;\n",
       "    }\n",
       "\n",
       "    .dataframe thead th {\n",
       "        text-align: right;\n",
       "    }\n",
       "</style>\n",
       "<table border=\"1\" class=\"dataframe\">\n",
       "  <thead>\n",
       "    <tr style=\"text-align: right;\">\n",
       "      <th></th>\n",
       "      <th>cgpa</th>\n",
       "    </tr>\n",
       "  </thead>\n",
       "  <tbody>\n",
       "    <tr>\n",
       "      <th>0</th>\n",
       "      <td>6.89</td>\n",
       "    </tr>\n",
       "    <tr>\n",
       "      <th>1</th>\n",
       "      <td>5.12</td>\n",
       "    </tr>\n",
       "    <tr>\n",
       "      <th>2</th>\n",
       "      <td>7.82</td>\n",
       "    </tr>\n",
       "    <tr>\n",
       "      <th>3</th>\n",
       "      <td>7.42</td>\n",
       "    </tr>\n",
       "    <tr>\n",
       "      <th>4</th>\n",
       "      <td>6.94</td>\n",
       "    </tr>\n",
       "    <tr>\n",
       "      <th>...</th>\n",
       "      <td>...</td>\n",
       "    </tr>\n",
       "    <tr>\n",
       "      <th>195</th>\n",
       "      <td>6.93</td>\n",
       "    </tr>\n",
       "    <tr>\n",
       "      <th>196</th>\n",
       "      <td>5.89</td>\n",
       "    </tr>\n",
       "    <tr>\n",
       "      <th>197</th>\n",
       "      <td>7.21</td>\n",
       "    </tr>\n",
       "    <tr>\n",
       "      <th>198</th>\n",
       "      <td>7.63</td>\n",
       "    </tr>\n",
       "    <tr>\n",
       "      <th>199</th>\n",
       "      <td>6.22</td>\n",
       "    </tr>\n",
       "  </tbody>\n",
       "</table>\n",
       "<p>200 rows × 1 columns</p>\n",
       "</div>"
      ],
      "text/plain": [
       "     cgpa\n",
       "0    6.89\n",
       "1    5.12\n",
       "2    7.82\n",
       "3    7.42\n",
       "4    6.94\n",
       "..    ...\n",
       "195  6.93\n",
       "196  5.89\n",
       "197  7.21\n",
       "198  7.63\n",
       "199  6.22\n",
       "\n",
       "[200 rows x 1 columns]"
      ]
     },
     "execution_count": 6,
     "metadata": {},
     "output_type": "execute_result"
    }
   ],
   "source": [
    "X"
   ]
  },
  {
   "cell_type": "code",
   "execution_count": 7,
   "id": "5ec08022",
   "metadata": {
    "execution": {
     "iopub.execute_input": "2024-06-06T13:48:51.813916Z",
     "iopub.status.busy": "2024-06-06T13:48:51.813505Z",
     "iopub.status.idle": "2024-06-06T13:48:51.823587Z",
     "shell.execute_reply": "2024-06-06T13:48:51.822438Z"
    },
    "papermill": {
     "duration": 0.019486,
     "end_time": "2024-06-06T13:48:51.826581",
     "exception": false,
     "start_time": "2024-06-06T13:48:51.807095",
     "status": "completed"
    },
    "tags": []
   },
   "outputs": [
    {
     "data": {
      "text/plain": [
       "0      3.26\n",
       "1      1.98\n",
       "2      3.25\n",
       "3      3.67\n",
       "4      3.57\n",
       "       ... \n",
       "195    2.46\n",
       "196    2.57\n",
       "197    3.24\n",
       "198    3.96\n",
       "199    2.33\n",
       "Name: package, Length: 200, dtype: float64"
      ]
     },
     "execution_count": 7,
     "metadata": {},
     "output_type": "execute_result"
    }
   ],
   "source": [
    "y"
   ]
  },
  {
   "cell_type": "code",
   "execution_count": null,
   "id": "f4d569a6",
   "metadata": {
    "papermill": {
     "duration": 0.005008,
     "end_time": "2024-06-06T13:48:51.837322",
     "exception": false,
     "start_time": "2024-06-06T13:48:51.832314",
     "status": "completed"
    },
    "tags": []
   },
   "outputs": [],
   "source": []
  }
 ],
 "metadata": {
  "kaggle": {
   "accelerator": "none",
   "dataSources": [
    {
     "datasetId": 5160013,
     "sourceId": 8620294,
     "sourceType": "datasetVersion"
    }
   ],
   "dockerImageVersionId": 30732,
   "isGpuEnabled": false,
   "isInternetEnabled": false,
   "language": "python",
   "sourceType": "notebook"
  },
  "kernelspec": {
   "display_name": "Python 3",
   "language": "python",
   "name": "python3"
  },
  "language_info": {
   "codemirror_mode": {
    "name": "ipython",
    "version": 3
   },
   "file_extension": ".py",
   "mimetype": "text/x-python",
   "name": "python",
   "nbconvert_exporter": "python",
   "pygments_lexer": "ipython3",
   "version": "3.10.13"
  },
  "papermill": {
   "default_parameters": {},
   "duration": 5.178832,
   "end_time": "2024-06-06T13:48:52.363881",
   "environment_variables": {},
   "exception": null,
   "input_path": "__notebook__.ipynb",
   "output_path": "__notebook__.ipynb",
   "parameters": {},
   "start_time": "2024-06-06T13:48:47.185049",
   "version": "2.5.0"
  }
 },
 "nbformat": 4,
 "nbformat_minor": 5
}
