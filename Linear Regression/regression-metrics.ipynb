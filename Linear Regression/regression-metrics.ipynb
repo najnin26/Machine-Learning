{
 "cells": [
  {
   "cell_type": "code",
   "execution_count": 1,
   "id": "54181f13",
   "metadata": {
    "_cell_guid": "b1076dfc-b9ad-4769-8c92-a6c4dae69d19",
    "_uuid": "8f2839f25d086af736a60e9eeb907d3b93b6e0e5",
    "execution": {
     "iopub.execute_input": "2024-06-08T05:46:26.673987Z",
     "iopub.status.busy": "2024-06-08T05:46:26.673542Z",
     "iopub.status.idle": "2024-06-08T05:46:27.797298Z",
     "shell.execute_reply": "2024-06-08T05:46:27.795786Z"
    },
    "papermill": {
     "duration": 1.13786,
     "end_time": "2024-06-08T05:46:27.800427",
     "exception": false,
     "start_time": "2024-06-08T05:46:26.662567",
     "status": "completed"
    },
    "tags": []
   },
   "outputs": [],
   "source": [
    "import matplotlib.pyplot as plt\n",
    "import pandas as pd\n",
    "import numpy as np"
   ]
  },
  {
   "cell_type": "code",
   "execution_count": 2,
   "id": "29dcd00a",
   "metadata": {
    "execution": {
     "iopub.execute_input": "2024-06-08T05:46:27.820346Z",
     "iopub.status.busy": "2024-06-08T05:46:27.819804Z",
     "iopub.status.idle": "2024-06-08T05:46:27.842967Z",
     "shell.execute_reply": "2024-06-08T05:46:27.841690Z"
    },
    "papermill": {
     "duration": 0.03638,
     "end_time": "2024-06-08T05:46:27.845858",
     "exception": false,
     "start_time": "2024-06-08T05:46:27.809478",
     "status": "completed"
    },
    "tags": []
   },
   "outputs": [],
   "source": [
    "df = pd.read_csv('/kaggle/input/new-data/placement (1).csv')"
   ]
  },
  {
   "cell_type": "code",
   "execution_count": 3,
   "id": "d69bdc9e",
   "metadata": {
    "execution": {
     "iopub.execute_input": "2024-06-08T05:46:27.865366Z",
     "iopub.status.busy": "2024-06-08T05:46:27.864929Z",
     "iopub.status.idle": "2024-06-08T05:46:27.889256Z",
     "shell.execute_reply": "2024-06-08T05:46:27.888102Z"
    },
    "papermill": {
     "duration": 0.037279,
     "end_time": "2024-06-08T05:46:27.891920",
     "exception": false,
     "start_time": "2024-06-08T05:46:27.854641",
     "status": "completed"
    },
    "tags": []
   },
   "outputs": [
    {
     "data": {
      "text/html": [
       "<div>\n",
       "<style scoped>\n",
       "    .dataframe tbody tr th:only-of-type {\n",
       "        vertical-align: middle;\n",
       "    }\n",
       "\n",
       "    .dataframe tbody tr th {\n",
       "        vertical-align: top;\n",
       "    }\n",
       "\n",
       "    .dataframe thead th {\n",
       "        text-align: right;\n",
       "    }\n",
       "</style>\n",
       "<table border=\"1\" class=\"dataframe\">\n",
       "  <thead>\n",
       "    <tr style=\"text-align: right;\">\n",
       "      <th></th>\n",
       "      <th>cgpa</th>\n",
       "      <th>package</th>\n",
       "    </tr>\n",
       "  </thead>\n",
       "  <tbody>\n",
       "    <tr>\n",
       "      <th>0</th>\n",
       "      <td>6.89</td>\n",
       "      <td>3.26</td>\n",
       "    </tr>\n",
       "    <tr>\n",
       "      <th>1</th>\n",
       "      <td>5.12</td>\n",
       "      <td>1.98</td>\n",
       "    </tr>\n",
       "    <tr>\n",
       "      <th>2</th>\n",
       "      <td>7.82</td>\n",
       "      <td>3.25</td>\n",
       "    </tr>\n",
       "    <tr>\n",
       "      <th>3</th>\n",
       "      <td>7.42</td>\n",
       "      <td>3.67</td>\n",
       "    </tr>\n",
       "    <tr>\n",
       "      <th>4</th>\n",
       "      <td>6.94</td>\n",
       "      <td>3.57</td>\n",
       "    </tr>\n",
       "  </tbody>\n",
       "</table>\n",
       "</div>"
      ],
      "text/plain": [
       "   cgpa  package\n",
       "0  6.89     3.26\n",
       "1  5.12     1.98\n",
       "2  7.82     3.25\n",
       "3  7.42     3.67\n",
       "4  6.94     3.57"
      ]
     },
     "execution_count": 3,
     "metadata": {},
     "output_type": "execute_result"
    }
   ],
   "source": [
    "df.head()"
   ]
  },
  {
   "cell_type": "code",
   "execution_count": 4,
   "id": "9f4cec0c",
   "metadata": {
    "execution": {
     "iopub.execute_input": "2024-06-08T05:46:27.912213Z",
     "iopub.status.busy": "2024-06-08T05:46:27.911702Z",
     "iopub.status.idle": "2024-06-08T05:46:27.919512Z",
     "shell.execute_reply": "2024-06-08T05:46:27.918406Z"
    },
    "papermill": {
     "duration": 0.020927,
     "end_time": "2024-06-08T05:46:27.922046",
     "exception": false,
     "start_time": "2024-06-08T05:46:27.901119",
     "status": "completed"
    },
    "tags": []
   },
   "outputs": [
    {
     "data": {
      "text/plain": [
       "(200, 2)"
      ]
     },
     "execution_count": 4,
     "metadata": {},
     "output_type": "execute_result"
    }
   ],
   "source": [
    "df.shape"
   ]
  },
  {
   "cell_type": "code",
   "execution_count": 5,
   "id": "6f3a128f",
   "metadata": {
    "execution": {
     "iopub.execute_input": "2024-06-08T05:46:27.942548Z",
     "iopub.status.busy": "2024-06-08T05:46:27.942126Z",
     "iopub.status.idle": "2024-06-08T05:46:28.300269Z",
     "shell.execute_reply": "2024-06-08T05:46:28.299152Z"
    },
    "papermill": {
     "duration": 0.371317,
     "end_time": "2024-06-08T05:46:28.302930",
     "exception": false,
     "start_time": "2024-06-08T05:46:27.931613",
     "status": "completed"
    },
    "tags": []
   },
   "outputs": [
    {
     "data": {
      "text/plain": [
       "Text(0, 0.5, 'Package(in lpa)')"
      ]
     },
     "execution_count": 5,
     "metadata": {},
     "output_type": "execute_result"
    },
    {
     "data": {
      "image/png": "[encoded data removed]",
      "text/plain": [
       "<Figure size 640x480 with 1 Axes>"
      ]
     },
     "metadata": {},
     "output_type": "display_data"
    }
   ],
   "source": [
    "plt.scatter(df['cgpa'],df['package'])\n",
    "plt.xlabel('CGPA')\n",
    "plt.ylabel('Package(in lpa)')"
   ]
  },
  {
   "cell_type": "code",
   "execution_count": 6,
   "id": "b10fe769",
   "metadata": {
    "execution": {
     "iopub.execute_input": "2024-06-08T05:46:28.325679Z",
     "iopub.status.busy": "2024-06-08T05:46:28.325244Z",
     "iopub.status.idle": "2024-06-08T05:46:28.331472Z",
     "shell.execute_reply": "2024-06-08T05:46:28.330294Z"
    },
    "papermill": {
     "duration": 0.02143,
     "end_time": "2024-06-08T05:46:28.334250",
     "exception": false,
     "start_time": "2024-06-08T05:46:28.312820",
     "status": "completed"
    },
    "tags": []
   },
   "outputs": [],
   "source": [
    "X = df.iloc[:,0:1]\n",
    "y = df.iloc[:,-1]"
   ]
  },
  {
   "cell_type": "code",
   "execution_count": 7,
   "id": "3e7ed76f",
   "metadata": {
    "execution": {
     "iopub.execute_input": "2024-06-08T05:46:28.355706Z",
     "iopub.status.busy": "2024-06-08T05:46:28.355321Z",
     "iopub.status.idle": "2024-06-08T05:46:28.372261Z",
     "shell.execute_reply": "2024-06-08T05:46:28.370897Z"
    },
    "papermill": {
     "duration": 0.030633,
     "end_time": "2024-06-08T05:46:28.374791",
     "exception": false,
     "start_time": "2024-06-08T05:46:28.344158",
     "status": "completed"
    },
    "tags": []
   },
   "outputs": [
    {
     "data": {
      "text/html": [
       "<div>\n",
       "<style scoped>\n",
       "    .dataframe tbody tr th:only-of-type {\n",
       "        vertical-align: middle;\n",
       "    }\n",
       "\n",
       "    .dataframe tbody tr th {\n",
       "        vertical-align: top;\n",
       "    }\n",
       "\n",
       "    .dataframe thead th {\n",
       "        text-align: right;\n",
       "    }\n",
       "</style>\n",
       "<table border=\"1\" class=\"dataframe\">\n",
       "  <thead>\n",
       "    <tr style=\"text-align: right;\">\n",
       "      <th></th>\n",
       "      <th>cgpa</th>\n",
       "    </tr>\n",
       "  </thead>\n",
       "  <tbody>\n",
       "    <tr>\n",
       "      <th>0</th>\n",
       "      <td>6.89</td>\n",
       "    </tr>\n",
       "    <tr>\n",
       "      <th>1</th>\n",
       "      <td>5.12</td>\n",
       "    </tr>\n",
       "    <tr>\n",
       "      <th>2</th>\n",
       "      <td>7.82</td>\n",
       "    </tr>\n",
       "    <tr>\n",
       "      <th>3</th>\n",
       "      <td>7.42</td>\n",
       "    </tr>\n",
       "    <tr>\n",
       "      <th>4</th>\n",
       "      <td>6.94</td>\n",
       "    </tr>\n",
       "    <tr>\n",
       "      <th>...</th>\n",
       "      <td>...</td>\n",
       "    </tr>\n",
       "    <tr>\n",
       "      <th>195</th>\n",
       "      <td>6.93</td>\n",
       "    </tr>\n",
       "    <tr>\n",
       "      <th>196</th>\n",
       "      <td>5.89</td>\n",
       "    </tr>\n",
       "    <tr>\n",
       "      <th>197</th>\n",
       "      <td>7.21</td>\n",
       "    </tr>\n",
       "    <tr>\n",
       "      <th>198</th>\n",
       "      <td>7.63</td>\n",
       "    </tr>\n",
       "    <tr>\n",
       "      <th>199</th>\n",
       "      <td>6.22</td>\n",
       "    </tr>\n",
       "  </tbody>\n",
       "</table>\n",
       "<p>200 rows × 1 columns</p>\n",
       "</div>"
      ],
      "text/plain": [
       "     cgpa\n",
       "0    6.89\n",
       "1    5.12\n",
       "2    7.82\n",
       "3    7.42\n",
       "4    6.94\n",
       "..    ...\n",
       "195  6.93\n",
       "196  5.89\n",
       "197  7.21\n",
       "198  7.63\n",
       "199  6.22\n",
       "\n",
       "[200 rows x 1 columns]"
      ]
     },
     "execution_count": 7,
     "metadata": {},
     "output_type": "execute_result"
    }
   ],
   "source": [
    "X"
   ]
  },
  {
   "cell_type": "code",
   "execution_count": 8,
   "id": "fa8ce11b",
   "metadata": {
    "execution": {
     "iopub.execute_input": "2024-06-08T05:46:28.397614Z",
     "iopub.status.busy": "2024-06-08T05:46:28.396344Z",
     "iopub.status.idle": "2024-06-08T05:46:28.406546Z",
     "shell.execute_reply": "2024-06-08T05:46:28.405068Z"
    },
    "papermill": {
     "duration": 0.024176,
     "end_time": "2024-06-08T05:46:28.409078",
     "exception": false,
     "start_time": "2024-06-08T05:46:28.384902",
     "status": "completed"
    },
    "tags": []
   },
   "outputs": [
    {
     "data": {
      "text/plain": [
       "0      3.26\n",
       "1      1.98\n",
       "2      3.25\n",
       "3      3.67\n",
       "4      3.57\n",
       "       ... \n",
       "195    2.46\n",
       "196    2.57\n",
       "197    3.24\n",
       "198    3.96\n",
       "199    2.33\n",
       "Name: package, Length: 200, dtype: float64"
      ]
     },
     "execution_count": 8,
     "metadata": {},
     "output_type": "execute_result"
    }
   ],
   "source": [
    "y"
   ]
  },
  {
   "cell_type": "code",
   "execution_count": 9,
   "id": "d3b78966",
   "metadata": {
    "execution": {
     "iopub.execute_input": "2024-06-08T05:46:28.431616Z",
     "iopub.status.busy": "2024-06-08T05:46:28.431160Z",
     "iopub.status.idle": "2024-06-08T05:46:30.036414Z",
     "shell.execute_reply": "2024-06-08T05:46:30.035037Z"
    },
    "papermill": {
     "duration": 1.620072,
     "end_time": "2024-06-08T05:46:30.039533",
     "exception": false,
     "start_time": "2024-06-08T05:46:28.419461",
     "status": "completed"
    },
    "tags": []
   },
   "outputs": [],
   "source": [
    "from sklearn.model_selection import train_test_split\n",
    "X_train,X_test,y_train,y_test = train_test_split(X,y,test_size=0.2,random_state=2)"
   ]
  },
  {
   "cell_type": "code",
   "execution_count": 10,
   "id": "57a101e3",
   "metadata": {
    "execution": {
     "iopub.execute_input": "2024-06-08T05:46:30.062261Z",
     "iopub.status.busy": "2024-06-08T05:46:30.061810Z",
     "iopub.status.idle": "2024-06-08T05:46:30.270443Z",
     "shell.execute_reply": "2024-06-08T05:46:30.269174Z"
    },
    "papermill": {
     "duration": 0.223106,
     "end_time": "2024-06-08T05:46:30.273255",
     "exception": false,
     "start_time": "2024-06-08T05:46:30.050149",
     "status": "completed"
    },
    "tags": []
   },
   "outputs": [],
   "source": [
    "from sklearn.linear_model import LinearRegression"
   ]
  },
  {
   "cell_type": "code",
   "execution_count": 11,
   "id": "0bfa13f1",
   "metadata": {
    "execution": {
     "iopub.execute_input": "2024-06-08T05:46:30.296162Z",
     "iopub.status.busy": "2024-06-08T05:46:30.295700Z",
     "iopub.status.idle": "2024-06-08T05:46:30.300899Z",
     "shell.execute_reply": "2024-06-08T05:46:30.299751Z"
    },
    "papermill": {
     "duration": 0.019759,
     "end_time": "2024-06-08T05:46:30.303451",
     "exception": false,
     "start_time": "2024-06-08T05:46:30.283692",
     "status": "completed"
    },
    "tags": []
   },
   "outputs": [],
   "source": [
    "lr = LinearRegression()"
   ]
  },
  {
   "cell_type": "code",
   "execution_count": 12,
   "id": "810a1c56",
   "metadata": {
    "execution": {
     "iopub.execute_input": "2024-06-08T05:46:30.325802Z",
     "iopub.status.busy": "2024-06-08T05:46:30.325360Z",
     "iopub.status.idle": "2024-06-08T05:46:30.355418Z",
     "shell.execute_reply": "2024-06-08T05:46:30.354148Z"
    },
    "papermill": {
     "duration": 0.044319,
     "end_time": "2024-06-08T05:46:30.358066",
     "exception": false,
     "start_time": "2024-06-08T05:46:30.313747",
     "status": "completed"
    },
    "tags": []
   },
   "outputs": [
    {
     "data": {
      "text/html": [
       "<style>#sk-container-id-1 {color: black;background-color: white;}#sk-container-id-1 pre{padding: 0;}#sk-container-id-1 div.sk-toggleable {background-color: white;}#sk-container-id-1 label.sk-toggleable__label {cursor: pointer;display: block;width: 100%;margin-bottom: 0;padding: 0.3em;box-sizing: border-box;text-align: center;}#sk-container-id-1 label.sk-toggleable__label-arrow:before {content: \"▸\";float: left;margin-right: 0.25em;color: #696969;}#sk-container-id-1 label.sk-toggleable__label-arrow:hover:before {color: black;}#sk-container-id-1 div.sk-estimator:hover label.sk-toggleable__label-arrow:before {color: black;}#sk-container-id-1 div.sk-toggleable__content {max-height: 0;max-width: 0;overflow: hidden;text-align: left;background-color: #f0f8ff;}#sk-container-id-1 div.sk-toggleable__content pre {margin: 0.2em;color: black;border-radius: 0.25em;background-color: #f0f8ff;}#sk-container-id-1 input.sk-toggleable__control:checked~div.sk-toggleable__content {max-height: 200px;max-width: 100%;overflow: auto;}#sk-container-id-1 input.sk-toggleable__control:checked~label.sk-toggleable__label-arrow:before {content: \"▾\";}#sk-container-id-1 div.sk-estimator input.sk-toggleable__control:checked~label.sk-toggleable__label {background-color: #d4ebff;}#sk-container-id-1 div.sk-label input.sk-toggleable__control:checked~label.sk-toggleable__label {background-color: #d4ebff;}#sk-container-id-1 input.sk-hidden--visually {border: 0;clip: rect(1px 1px 1px 1px);clip: rect(1px, 1px, 1px, 1px);height: 1px;margin: -1px;overflow: hidden;padding: 0;position: absolute;width: 1px;}#sk-container-id-1 div.sk-estimator {font-family: monospace;background-color: #f0f8ff;border: 1px dotted black;border-radius: 0.25em;box-sizing: border-box;margin-bottom: 0.5em;}#sk-container-id-1 div.sk-estimator:hover {background-color: #d4ebff;}#sk-container-id-1 div.sk-parallel-item::after {content: \"\";width: 100%;border-bottom: 1px solid gray;flex-grow: 1;}#sk-container-id-1 div.sk-label:hover label.sk-toggleable__label {background-color: #d4ebff;}#sk-container-id-1 div.sk-serial::before {content: \"\";position: absolute;border-left: 1px solid gray;box-sizing: border-box;top: 0;bottom: 0;left: 50%;z-index: 0;}#sk-container-id-1 div.sk-serial {display: flex;flex-direction: column;align-items: center;background-color: white;padding-right: 0.2em;padding-left: 0.2em;position: relative;}#sk-container-id-1 div.sk-item {position: relative;z-index: 1;}#sk-container-id-1 div.sk-parallel {display: flex;align-items: stretch;justify-content: center;background-color: white;position: relative;}#sk-container-id-1 div.sk-item::before, #sk-container-id-1 div.sk-parallel-item::before {content: \"\";position: absolute;border-left: 1px solid gray;box-sizing: border-box;top: 0;bottom: 0;left: 50%;z-index: -1;}#sk-container-id-1 div.sk-parallel-item {display: flex;flex-direction: column;z-index: 1;position: relative;background-color: white;}#sk-container-id-1 div.sk-parallel-item:first-child::after {align-self: flex-end;width: 50%;}#sk-container-id-1 div.sk-parallel-item:last-child::after {align-self: flex-start;width: 50%;}#sk-container-id-1 div.sk-parallel-item:only-child::after {width: 0;}#sk-container-id-1 div.sk-dashed-wrapped {border: 1px dashed gray;margin: 0 0.4em 0.5em 0.4em;box-sizing: border-box;padding-bottom: 0.4em;background-color: white;}#sk-container-id-1 div.sk-label label {font-family: monospace;font-weight: bold;display: inline-block;line-height: 1.2em;}#sk-container-id-1 div.sk-label-container {text-align: center;}#sk-container-id-1 div.sk-container {/* jupyter's `normalize.less` sets `[hidden] { display: none; }` but bootstrap.min.css set `[hidden] { display: none !important; }` so we also need the `!important` here to be able to override the default hidden behavior on the sphinx rendered scikit-learn.org. See: https://github.com/scikit-learn/scikit-learn/issues/21755 */display: inline-block !important;position: relative;}#sk-container-id-1 div.sk-text-repr-fallback {display: none;}</style><div id=\"sk-container-id-1\" class=\"sk-top-container\"><div class=\"sk-text-repr-fallback\"><pre>LinearRegression()</pre><b>In a Jupyter environment, please rerun this cell to show the HTML representation or trust the notebook. <br />On GitHub, the HTML representation is unable to render, please try loading this page with nbviewer.org.</b></div><div class=\"sk-container\" hidden><div class=\"sk-item\"><div class=\"sk-estimator sk-toggleable\"><input class=\"sk-toggleable__control sk-hidden--visually\" id=\"sk-estimator-id-1\" type=\"checkbox\" checked><label for=\"sk-estimator-id-1\" class=\"sk-toggleable__label sk-toggleable__label-arrow\">LinearRegression</label><div class=\"sk-toggleable__content\"><pre>LinearRegression()</pre></div></div></div></div></div>"
      ],
      "text/plain": [
       "LinearRegression()"
      ]
     },
     "execution_count": 12,
     "metadata": {},
     "output_type": "execute_result"
    }
   ],
   "source": [
    "lr.fit(X_train,y_train)"
   ]
  },
  {
   "cell_type": "code",
   "execution_count": 13,
   "id": "db230b5e",
   "metadata": {
    "execution": {
     "iopub.execute_input": "2024-06-08T05:46:30.382464Z",
     "iopub.status.busy": "2024-06-08T05:46:30.381440Z",
     "iopub.status.idle": "2024-06-08T05:46:30.697422Z",
     "shell.execute_reply": "2024-06-08T05:46:30.696140Z"
    },
    "papermill": {
     "duration": 0.331091,
     "end_time": "2024-06-08T05:46:30.700143",
     "exception": false,
     "start_time": "2024-06-08T05:46:30.369052",
     "status": "completed"
    },
    "tags": []
   },
   "outputs": [
    {
     "data": {
      "text/plain": [
       "Text(0, 0.5, 'Package(in lpa)')"
      ]
     },
     "execution_count": 13,
     "metadata": {},
     "output_type": "execute_result"
    },
    {
     "data": {
      "image/png": "[encoded data removed]",
      "text/plain": [
       "<Figure size 640x480 with 1 Axes>"
      ]
     },
     "metadata": {},
     "output_type": "display_data"
    }
   ],
   "source": [
    "plt.scatter(df['cgpa'],df['package'])\n",
    "plt.plot(X_train,lr.predict(X_train),color='red')\n",
    "plt.xlabel('CGPA')\n",
    "plt.ylabel('Package(in lpa)')"
   ]
  },
  {
   "cell_type": "code",
   "execution_count": 14,
   "id": "66a88ef3",
   "metadata": {
    "execution": {
     "iopub.execute_input": "2024-06-08T05:46:30.726609Z",
     "iopub.status.busy": "2024-06-08T05:46:30.725095Z",
     "iopub.status.idle": "2024-06-08T05:46:30.731306Z",
     "shell.execute_reply": "2024-06-08T05:46:30.730206Z"
    },
    "papermill": {
     "duration": 0.022362,
     "end_time": "2024-06-08T05:46:30.733954",
     "exception": false,
     "start_time": "2024-06-08T05:46:30.711592",
     "status": "completed"
    },
    "tags": []
   },
   "outputs": [],
   "source": [
    "from sklearn.metrics import mean_absolute_error,mean_squared_error,r2_score"
   ]
  },
  {
   "cell_type": "code",
   "execution_count": 15,
   "id": "7318bd16",
   "metadata": {
    "execution": {
     "iopub.execute_input": "2024-06-08T05:46:30.759715Z",
     "iopub.status.busy": "2024-06-08T05:46:30.759296Z",
     "iopub.status.idle": "2024-06-08T05:46:30.767086Z",
     "shell.execute_reply": "2024-06-08T05:46:30.765806Z"
    },
    "papermill": {
     "duration": 0.023748,
     "end_time": "2024-06-08T05:46:30.769556",
     "exception": false,
     "start_time": "2024-06-08T05:46:30.745808",
     "status": "completed"
    },
    "tags": []
   },
   "outputs": [],
   "source": [
    "y_pred = lr.predict(X_test)"
   ]
  },
  {
   "cell_type": "code",
   "execution_count": 16,
   "id": "0643d895",
   "metadata": {
    "execution": {
     "iopub.execute_input": "2024-06-08T05:46:30.795274Z",
     "iopub.status.busy": "2024-06-08T05:46:30.794777Z",
     "iopub.status.idle": "2024-06-08T05:46:30.803962Z",
     "shell.execute_reply": "2024-06-08T05:46:30.802699Z"
    },
    "papermill": {
     "duration": 0.025884,
     "end_time": "2024-06-08T05:46:30.807351",
     "exception": false,
     "start_time": "2024-06-08T05:46:30.781467",
     "status": "completed"
    },
    "tags": []
   },
   "outputs": [
    {
     "data": {
      "text/plain": [
       "array([3.89111601, 3.09324469, 2.38464568, 2.57434935, 1.6537286 ,\n",
       "       1.77647803, 2.07219258, 2.93143862, 3.76278706, 2.93701814,\n",
       "       4.09197872, 3.51170867, 2.97049525, 2.40138424, 3.18809652,\n",
       "       3.46707251, 1.94386362, 3.24389172, 2.97607477, 3.41685683,\n",
       "       2.55761079, 3.16577844, 2.85890486, 3.12114229, 3.68467378,\n",
       "       2.8700639 , 3.49497011, 3.34432308, 3.91901361, 1.96060218,\n",
       "       3.65119666, 3.2104146 , 3.74046898, 2.7863711 , 2.78079158,\n",
       "       3.27178932, 3.52844723, 2.61340599, 2.65804215, 2.71383735])"
      ]
     },
     "execution_count": 16,
     "metadata": {},
     "output_type": "execute_result"
    }
   ],
   "source": [
    "y_pred"
   ]
  },
  {
   "cell_type": "code",
   "execution_count": 17,
   "id": "4519a04e",
   "metadata": {
    "execution": {
     "iopub.execute_input": "2024-06-08T05:46:30.833125Z",
     "iopub.status.busy": "2024-06-08T05:46:30.832729Z",
     "iopub.status.idle": "2024-06-08T05:46:30.840870Z",
     "shell.execute_reply": "2024-06-08T05:46:30.839536Z"
    },
    "papermill": {
     "duration": 0.024075,
     "end_time": "2024-06-08T05:46:30.843771",
     "exception": false,
     "start_time": "2024-06-08T05:46:30.819696",
     "status": "completed"
    },
    "tags": []
   },
   "outputs": [
    {
     "name": "stdout",
     "output_type": "stream",
     "text": [
      "MAE 0.2884710931878175\n"
     ]
    }
   ],
   "source": [
    "print(\"MAE\",mean_absolute_error(y_test,y_pred))"
   ]
  },
  {
   "cell_type": "code",
   "execution_count": 18,
   "id": "6ccd010b",
   "metadata": {
    "execution": {
     "iopub.execute_input": "2024-06-08T05:46:30.870772Z",
     "iopub.status.busy": "2024-06-08T05:46:30.870333Z",
     "iopub.status.idle": "2024-06-08T05:46:30.878471Z",
     "shell.execute_reply": "2024-06-08T05:46:30.877047Z"
    },
    "papermill": {
     "duration": 0.024744,
     "end_time": "2024-06-08T05:46:30.881064",
     "exception": false,
     "start_time": "2024-06-08T05:46:30.856320",
     "status": "completed"
    },
    "tags": []
   },
   "outputs": [
    {
     "name": "stdout",
     "output_type": "stream",
     "text": [
      "MSE 0.12129235313495527\n"
     ]
    }
   ],
   "source": [
    "print(\"MSE\",mean_squared_error(y_test,y_pred))"
   ]
  },
  {
   "cell_type": "code",
   "execution_count": 19,
   "id": "031cf9c3",
   "metadata": {
    "execution": {
     "iopub.execute_input": "2024-06-08T05:46:30.906742Z",
     "iopub.status.busy": "2024-06-08T05:46:30.906324Z",
     "iopub.status.idle": "2024-06-08T05:46:30.914147Z",
     "shell.execute_reply": "2024-06-08T05:46:30.912793Z"
    },
    "papermill": {
     "duration": 0.02458,
     "end_time": "2024-06-08T05:46:30.917435",
     "exception": false,
     "start_time": "2024-06-08T05:46:30.892855",
     "status": "completed"
    },
    "tags": []
   },
   "outputs": [
    {
     "name": "stdout",
     "output_type": "stream",
     "text": [
      "RMSE 0.34827051717731616\n"
     ]
    }
   ],
   "source": [
    "print(\"RMSE\",np.sqrt(mean_squared_error(y_test,y_pred)))"
   ]
  },
  {
   "cell_type": "code",
   "execution_count": 20,
   "id": "e8eabfb9",
   "metadata": {
    "execution": {
     "iopub.execute_input": "2024-06-08T05:46:30.944049Z",
     "iopub.status.busy": "2024-06-08T05:46:30.943661Z",
     "iopub.status.idle": "2024-06-08T05:46:30.951416Z",
     "shell.execute_reply": "2024-06-08T05:46:30.950068Z"
    },
    "papermill": {
     "duration": 0.02567,
     "end_time": "2024-06-08T05:46:30.954853",
     "exception": false,
     "start_time": "2024-06-08T05:46:30.929183",
     "status": "completed"
    },
    "tags": []
   },
   "outputs": [
    {
     "name": "stdout",
     "output_type": "stream",
     "text": [
      "R2 0.780730147510384\n"
     ]
    }
   ],
   "source": [
    "r2 = r2_score(y_test,y_pred)\n",
    "print(\"R2\",r2)"
   ]
  },
  {
   "cell_type": "code",
   "execution_count": 21,
   "id": "22753b20",
   "metadata": {
    "execution": {
     "iopub.execute_input": "2024-06-08T05:46:30.981406Z",
     "iopub.status.busy": "2024-06-08T05:46:30.980981Z",
     "iopub.status.idle": "2024-06-08T05:46:30.988877Z",
     "shell.execute_reply": "2024-06-08T05:46:30.987483Z"
    },
    "papermill": {
     "duration": 0.024484,
     "end_time": "2024-06-08T05:46:30.991701",
     "exception": false,
     "start_time": "2024-06-08T05:46:30.967217",
     "status": "completed"
    },
    "tags": []
   },
   "outputs": [
    {
     "data": {
      "text/plain": [
       "(40, 1)"
      ]
     },
     "execution_count": 21,
     "metadata": {},
     "output_type": "execute_result"
    }
   ],
   "source": [
    "# Adjusted R2 score\n",
    "X_test.shape"
   ]
  },
  {
   "cell_type": "code",
   "execution_count": 22,
   "id": "f1e63184",
   "metadata": {
    "execution": {
     "iopub.execute_input": "2024-06-08T05:46:31.017723Z",
     "iopub.status.busy": "2024-06-08T05:46:31.017322Z",
     "iopub.status.idle": "2024-06-08T05:46:31.025671Z",
     "shell.execute_reply": "2024-06-08T05:46:31.024291Z"
    },
    "papermill": {
     "duration": 0.024424,
     "end_time": "2024-06-08T05:46:31.028342",
     "exception": false,
     "start_time": "2024-06-08T05:46:31.003918",
     "status": "completed"
    },
    "tags": []
   },
   "outputs": [
    {
     "data": {
      "text/plain": [
       "0.7749598882343415"
      ]
     },
     "execution_count": 22,
     "metadata": {},
     "output_type": "execute_result"
    }
   ],
   "source": [
    "1 - ((1-r2)*(40-1)/(40-1-1))"
   ]
  },
  {
   "cell_type": "code",
   "execution_count": 23,
   "id": "bca7923a",
   "metadata": {
    "execution": {
     "iopub.execute_input": "2024-06-08T05:46:31.054883Z",
     "iopub.status.busy": "2024-06-08T05:46:31.054426Z",
     "iopub.status.idle": "2024-06-08T05:46:31.074035Z",
     "shell.execute_reply": "2024-06-08T05:46:31.072861Z"
    },
    "papermill": {
     "duration": 0.03614,
     "end_time": "2024-06-08T05:46:31.076900",
     "exception": false,
     "start_time": "2024-06-08T05:46:31.040760",
     "status": "completed"
    },
    "tags": []
   },
   "outputs": [
    {
     "data": {
      "text/html": [
       "<div>\n",
       "<style scoped>\n",
       "    .dataframe tbody tr th:only-of-type {\n",
       "        vertical-align: middle;\n",
       "    }\n",
       "\n",
       "    .dataframe tbody tr th {\n",
       "        vertical-align: top;\n",
       "    }\n",
       "\n",
       "    .dataframe thead th {\n",
       "        text-align: right;\n",
       "    }\n",
       "</style>\n",
       "<table border=\"1\" class=\"dataframe\">\n",
       "  <thead>\n",
       "    <tr style=\"text-align: right;\">\n",
       "      <th></th>\n",
       "      <th>cgpa</th>\n",
       "      <th>random_feature</th>\n",
       "      <th>package</th>\n",
       "    </tr>\n",
       "  </thead>\n",
       "  <tbody>\n",
       "    <tr>\n",
       "      <th>0</th>\n",
       "      <td>6.89</td>\n",
       "      <td>0.745532</td>\n",
       "      <td>3.26</td>\n",
       "    </tr>\n",
       "    <tr>\n",
       "      <th>1</th>\n",
       "      <td>5.12</td>\n",
       "      <td>0.962616</td>\n",
       "      <td>1.98</td>\n",
       "    </tr>\n",
       "    <tr>\n",
       "      <th>2</th>\n",
       "      <td>7.82</td>\n",
       "      <td>0.307169</td>\n",
       "      <td>3.25</td>\n",
       "    </tr>\n",
       "    <tr>\n",
       "      <th>3</th>\n",
       "      <td>7.42</td>\n",
       "      <td>0.169625</td>\n",
       "      <td>3.67</td>\n",
       "    </tr>\n",
       "    <tr>\n",
       "      <th>4</th>\n",
       "      <td>6.94</td>\n",
       "      <td>0.128459</td>\n",
       "      <td>3.57</td>\n",
       "    </tr>\n",
       "  </tbody>\n",
       "</table>\n",
       "</div>"
      ],
      "text/plain": [
       "   cgpa  random_feature  package\n",
       "0  6.89        0.745532     3.26\n",
       "1  5.12        0.962616     1.98\n",
       "2  7.82        0.307169     3.25\n",
       "3  7.42        0.169625     3.67\n",
       "4  6.94        0.128459     3.57"
      ]
     },
     "execution_count": 23,
     "metadata": {},
     "output_type": "execute_result"
    }
   ],
   "source": [
    "new_df1 = df.copy()\n",
    "new_df1['random_feature'] = np.random.random(200)\n",
    "\n",
    "new_df1 = new_df1[['cgpa','random_feature','package']]\n",
    "new_df1.head()"
   ]
  },
  {
   "cell_type": "code",
   "execution_count": 24,
   "id": "f1e36ba1",
   "metadata": {
    "execution": {
     "iopub.execute_input": "2024-06-08T05:46:31.104235Z",
     "iopub.status.busy": "2024-06-08T05:46:31.103792Z",
     "iopub.status.idle": "2024-06-08T05:46:31.423752Z",
     "shell.execute_reply": "2024-06-08T05:46:31.421806Z"
    },
    "papermill": {
     "duration": 0.337374,
     "end_time": "2024-06-08T05:46:31.427448",
     "exception": false,
     "start_time": "2024-06-08T05:46:31.090074",
     "status": "completed"
    },
    "tags": []
   },
   "outputs": [
    {
     "data": {
      "text/plain": [
       "Text(0, 0.5, 'Package(in lpa)')"
      ]
     },
     "execution_count": 24,
     "metadata": {},
     "output_type": "execute_result"
    },
    {
     "data": {
      "image/png": "[encoded data removed]",
      "text/plain": [
       "<Figure size 640x480 with 1 Axes>"
      ]
     },
     "metadata": {},
     "output_type": "display_data"
    }
   ],
   "source": [
    "plt.scatter(new_df1['random_feature'],new_df1['package'])\n",
    "plt.xlabel('random_feature')\n",
    "plt.ylabel('Package(in lpa)')"
   ]
  },
  {
   "cell_type": "code",
   "execution_count": 25,
   "id": "187aedeb",
   "metadata": {
    "execution": {
     "iopub.execute_input": "2024-06-08T05:46:31.456242Z",
     "iopub.status.busy": "2024-06-08T05:46:31.455756Z",
     "iopub.status.idle": "2024-06-08T05:46:31.464048Z",
     "shell.execute_reply": "2024-06-08T05:46:31.462548Z"
    },
    "papermill": {
     "duration": 0.026166,
     "end_time": "2024-06-08T05:46:31.467060",
     "exception": false,
     "start_time": "2024-06-08T05:46:31.440894",
     "status": "completed"
    },
    "tags": []
   },
   "outputs": [],
   "source": [
    "X = new_df1.iloc[:,0:2]\n",
    "y = new_df1.iloc[:,-1]"
   ]
  },
  {
   "cell_type": "code",
   "execution_count": null,
   "id": "11983da4",
   "metadata": {
    "papermill": {
     "duration": 0.016438,
     "end_time": "2024-06-08T05:46:31.501882",
     "exception": false,
     "start_time": "2024-06-08T05:46:31.485444",
     "status": "completed"
    },
    "tags": []
   },
   "outputs": [],
   "source": []
  }
 ],
 "metadata": {
  "kaggle": {
   "accelerator": "none",
   "dataSources": [
    {
     "datasetId": 5160013,
     "sourceId": 8620294,
     "sourceType": "datasetVersion"
    }
   ],
   "dockerImageVersionId": 30732,
   "isGpuEnabled": false,
   "isInternetEnabled": false,
   "language": "python",
   "sourceType": "notebook"
  },
  "kernelspec": {
   "display_name": "Python 3",
   "language": "python",
   "name": "python3"
  },
  "language_info": {
   "codemirror_mode": {
    "name": "ipython",
    "version": 3
   },
   "file_extension": ".py",
   "mimetype": "text/x-python",
   "name": "python",
   "nbconvert_exporter": "python",
   "pygments_lexer": "ipython3",
   "version": "3.10.13"
  },
  "papermill": {
   "default_parameters": {},
   "duration": 8.930434,
   "end_time": "2024-06-08T05:46:32.245568",
   "environment_variables": {},
   "exception": null,
   "input_path": "__notebook__.ipynb",
   "output_path": "__notebook__.ipynb",
   "parameters": {},
   "start_time": "2024-06-08T05:46:23.315134",
   "version": "2.5.0"
  }
 },
 "nbformat": 4,
 "nbformat_minor": 5
}
