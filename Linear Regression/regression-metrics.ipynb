{
 "cells": [
  {
   "cell_type": "code",
   "execution_count": 1,
   "id": "5d5202c1",
   "metadata": {
    "_cell_guid": "b1076dfc-b9ad-4769-8c92-a6c4dae69d19",
    "_uuid": "8f2839f25d086af736a60e9eeb907d3b93b6e0e5",
    "execution": {
     "iopub.execute_input": "2024-06-08T05:57:52.806227Z",
     "iopub.status.busy": "2024-06-08T05:57:52.805783Z",
     "iopub.status.idle": "2024-06-08T05:57:53.897747Z",
     "shell.execute_reply": "2024-06-08T05:57:53.896087Z"
    },
    "papermill": {
     "duration": 1.111936,
     "end_time": "2024-06-08T05:57:53.901420",
     "exception": false,
     "start_time": "2024-06-08T05:57:52.789484",
     "status": "completed"
    },
    "tags": []
   },
   "outputs": [],
   "source": [
    "import matplotlib.pyplot as plt\n",
    "import pandas as pd\n",
    "import numpy as np"
   ]
  },
  {
   "cell_type": "code",
   "execution_count": 2,
   "id": "5dd98635",
   "metadata": {
    "execution": {
     "iopub.execute_input": "2024-06-08T05:57:53.937539Z",
     "iopub.status.busy": "2024-06-08T05:57:53.936564Z",
     "iopub.status.idle": "2024-06-08T05:57:53.968573Z",
     "shell.execute_reply": "2024-06-08T05:57:53.966909Z"
    },
    "papermill": {
     "duration": 0.053252,
     "end_time": "2024-06-08T05:57:53.973100",
     "exception": false,
     "start_time": "2024-06-08T05:57:53.919848",
     "status": "completed"
    },
    "tags": []
   },
   "outputs": [],
   "source": [
    "df = pd.read_csv('/kaggle/input/new-data/placement (1).csv')"
   ]
  },
  {
   "cell_type": "code",
   "execution_count": 3,
   "id": "46338bfe",
   "metadata": {
    "execution": {
     "iopub.execute_input": "2024-06-08T05:57:54.002760Z",
     "iopub.status.busy": "2024-06-08T05:57:54.002283Z",
     "iopub.status.idle": "2024-06-08T05:57:54.032299Z",
     "shell.execute_reply": "2024-06-08T05:57:54.030778Z"
    },
    "papermill": {
     "duration": 0.048492,
     "end_time": "2024-06-08T05:57:54.035500",
     "exception": false,
     "start_time": "2024-06-08T05:57:53.987008",
     "status": "completed"
    },
    "tags": []
   },
   "outputs": [
    {
     "data": {
      "text/html": [
       "<div>\n",
       "<style scoped>\n",
       "    .dataframe tbody tr th:only-of-type {\n",
       "        vertical-align: middle;\n",
       "    }\n",
       "\n",
       "    .dataframe tbody tr th {\n",
       "        vertical-align: top;\n",
       "    }\n",
       "\n",
       "    .dataframe thead th {\n",
       "        text-align: right;\n",
       "    }\n",
       "</style>\n",
       "<table border=\"1\" class=\"dataframe\">\n",
       "  <thead>\n",
       "    <tr style=\"text-align: right;\">\n",
       "      <th></th>\n",
       "      <th>cgpa</th>\n",
       "      <th>package</th>\n",
       "    </tr>\n",
       "  </thead>\n",
       "  <tbody>\n",
       "    <tr>\n",
       "      <th>0</th>\n",
       "      <td>6.89</td>\n",
       "      <td>3.26</td>\n",
       "    </tr>\n",
       "    <tr>\n",
       "      <th>1</th>\n",
       "      <td>5.12</td>\n",
       "      <td>1.98</td>\n",
       "    </tr>\n",
       "    <tr>\n",
       "      <th>2</th>\n",
       "      <td>7.82</td>\n",
       "      <td>3.25</td>\n",
       "    </tr>\n",
       "    <tr>\n",
       "      <th>3</th>\n",
       "      <td>7.42</td>\n",
       "      <td>3.67</td>\n",
       "    </tr>\n",
       "    <tr>\n",
       "      <th>4</th>\n",
       "      <td>6.94</td>\n",
       "      <td>3.57</td>\n",
       "    </tr>\n",
       "  </tbody>\n",
       "</table>\n",
       "</div>"
      ],
      "text/plain": [
       "   cgpa  package\n",
       "0  6.89     3.26\n",
       "1  5.12     1.98\n",
       "2  7.82     3.25\n",
       "3  7.42     3.67\n",
       "4  6.94     3.57"
      ]
     },
     "execution_count": 3,
     "metadata": {},
     "output_type": "execute_result"
    }
   ],
   "source": [
    "df.head()"
   ]
  },
  {
   "cell_type": "code",
   "execution_count": 4,
   "id": "2903b2d1",
   "metadata": {
    "execution": {
     "iopub.execute_input": "2024-06-08T05:57:54.065941Z",
     "iopub.status.busy": "2024-06-08T05:57:54.065466Z",
     "iopub.status.idle": "2024-06-08T05:57:54.074617Z",
     "shell.execute_reply": "2024-06-08T05:57:54.072875Z"
    },
    "papermill": {
     "duration": 0.027578,
     "end_time": "2024-06-08T05:57:54.077570",
     "exception": false,
     "start_time": "2024-06-08T05:57:54.049992",
     "status": "completed"
    },
    "tags": []
   },
   "outputs": [
    {
     "data": {
      "text/plain": [
       "(200, 2)"
      ]
     },
     "execution_count": 4,
     "metadata": {},
     "output_type": "execute_result"
    }
   ],
   "source": [
    "df.shape"
   ]
  },
  {
   "cell_type": "code",
   "execution_count": 5,
   "id": "d7592a4f",
   "metadata": {
    "execution": {
     "iopub.execute_input": "2024-06-08T05:57:54.111367Z",
     "iopub.status.busy": "2024-06-08T05:57:54.110915Z",
     "iopub.status.idle": "2024-06-08T05:57:54.475535Z",
     "shell.execute_reply": "2024-06-08T05:57:54.474256Z"
    },
    "papermill": {
     "duration": 0.385029,
     "end_time": "2024-06-08T05:57:54.478948",
     "exception": false,
     "start_time": "2024-06-08T05:57:54.093919",
     "status": "completed"
    },
    "tags": []
   },
   "outputs": [
    {
     "data": {
      "text/plain": [
       "Text(0, 0.5, 'Package(in lpa)')"
      ]
     },
     "execution_count": 5,
     "metadata": {},
     "output_type": "execute_result"
    },
    {
     "data": {
      "image/png": "[encoded data removed]",
      "text/plain": [
       "<Figure size 640x480 with 1 Axes>"
      ]
     },
     "metadata": {},
     "output_type": "display_data"
    }
   ],
   "source": [
    "plt.scatter(df['cgpa'],df['package'])\n",
    "plt.xlabel('CGPA')\n",
    "plt.ylabel('Package(in lpa)')"
   ]
  },
  {
   "cell_type": "code",
   "execution_count": 6,
   "id": "782bbf91",
   "metadata": {
    "execution": {
     "iopub.execute_input": "2024-06-08T05:57:54.510865Z",
     "iopub.status.busy": "2024-06-08T05:57:54.510367Z",
     "iopub.status.idle": "2024-06-08T05:57:54.517722Z",
     "shell.execute_reply": "2024-06-08T05:57:54.516306Z"
    },
    "papermill": {
     "duration": 0.027112,
     "end_time": "2024-06-08T05:57:54.520661",
     "exception": false,
     "start_time": "2024-06-08T05:57:54.493549",
     "status": "completed"
    },
    "tags": []
   },
   "outputs": [],
   "source": [
    "X = df.iloc[:,0:1]\n",
    "y = df.iloc[:,-1]"
   ]
  },
  {
   "cell_type": "code",
   "execution_count": 7,
   "id": "35337b0e",
   "metadata": {
    "execution": {
     "iopub.execute_input": "2024-06-08T05:57:54.553302Z",
     "iopub.status.busy": "2024-06-08T05:57:54.551677Z",
     "iopub.status.idle": "2024-06-08T05:57:54.573010Z",
     "shell.execute_reply": "2024-06-08T05:57:54.571625Z"
    },
    "papermill": {
     "duration": 0.041043,
     "end_time": "2024-06-08T05:57:54.576330",
     "exception": false,
     "start_time": "2024-06-08T05:57:54.535287",
     "status": "completed"
    },
    "tags": []
   },
   "outputs": [
    {
     "data": {
      "text/html": [
       "<div>\n",
       "<style scoped>\n",
       "    .dataframe tbody tr th:only-of-type {\n",
       "        vertical-align: middle;\n",
       "    }\n",
       "\n",
       "    .dataframe tbody tr th {\n",
       "        vertical-align: top;\n",
       "    }\n",
       "\n",
       "    .dataframe thead th {\n",
       "        text-align: right;\n",
       "    }\n",
       "</style>\n",
       "<table border=\"1\" class=\"dataframe\">\n",
       "  <thead>\n",
       "    <tr style=\"text-align: right;\">\n",
       "      <th></th>\n",
       "      <th>cgpa</th>\n",
       "    </tr>\n",
       "  </thead>\n",
       "  <tbody>\n",
       "    <tr>\n",
       "      <th>0</th>\n",
       "      <td>6.89</td>\n",
       "    </tr>\n",
       "    <tr>\n",
       "      <th>1</th>\n",
       "      <td>5.12</td>\n",
       "    </tr>\n",
       "    <tr>\n",
       "      <th>2</th>\n",
       "      <td>7.82</td>\n",
       "    </tr>\n",
       "    <tr>\n",
       "      <th>3</th>\n",
       "      <td>7.42</td>\n",
       "    </tr>\n",
       "    <tr>\n",
       "      <th>4</th>\n",
       "      <td>6.94</td>\n",
       "    </tr>\n",
       "    <tr>\n",
       "      <th>...</th>\n",
       "      <td>...</td>\n",
       "    </tr>\n",
       "    <tr>\n",
       "      <th>195</th>\n",
       "      <td>6.93</td>\n",
       "    </tr>\n",
       "    <tr>\n",
       "      <th>196</th>\n",
       "      <td>5.89</td>\n",
       "    </tr>\n",
       "    <tr>\n",
       "      <th>197</th>\n",
       "      <td>7.21</td>\n",
       "    </tr>\n",
       "    <tr>\n",
       "      <th>198</th>\n",
       "      <td>7.63</td>\n",
       "    </tr>\n",
       "    <tr>\n",
       "      <th>199</th>\n",
       "      <td>6.22</td>\n",
       "    </tr>\n",
       "  </tbody>\n",
       "</table>\n",
       "<p>200 rows × 1 columns</p>\n",
       "</div>"
      ],
      "text/plain": [
       "     cgpa\n",
       "0    6.89\n",
       "1    5.12\n",
       "2    7.82\n",
       "3    7.42\n",
       "4    6.94\n",
       "..    ...\n",
       "195  6.93\n",
       "196  5.89\n",
       "197  7.21\n",
       "198  7.63\n",
       "199  6.22\n",
       "\n",
       "[200 rows x 1 columns]"
      ]
     },
     "execution_count": 7,
     "metadata": {},
     "output_type": "execute_result"
    }
   ],
   "source": [
    "X"
   ]
  },
  {
   "cell_type": "code",
   "execution_count": 8,
   "id": "1009e6a4",
   "metadata": {
    "execution": {
     "iopub.execute_input": "2024-06-08T05:57:54.610226Z",
     "iopub.status.busy": "2024-06-08T05:57:54.609739Z",
     "iopub.status.idle": "2024-06-08T05:57:54.621672Z",
     "shell.execute_reply": "2024-06-08T05:57:54.620249Z"
    },
    "papermill": {
     "duration": 0.032144,
     "end_time": "2024-06-08T05:57:54.624769",
     "exception": false,
     "start_time": "2024-06-08T05:57:54.592625",
     "status": "completed"
    },
    "tags": []
   },
   "outputs": [
    {
     "data": {
      "text/plain": [
       "0      3.26\n",
       "1      1.98\n",
       "2      3.25\n",
       "3      3.67\n",
       "4      3.57\n",
       "       ... \n",
       "195    2.46\n",
       "196    2.57\n",
       "197    3.24\n",
       "198    3.96\n",
       "199    2.33\n",
       "Name: package, Length: 200, dtype: float64"
      ]
     },
     "execution_count": 8,
     "metadata": {},
     "output_type": "execute_result"
    }
   ],
   "source": [
    "y"
   ]
  },
  {
   "cell_type": "code",
   "execution_count": 9,
   "id": "3d1b8997",
   "metadata": {
    "execution": {
     "iopub.execute_input": "2024-06-08T05:57:54.659860Z",
     "iopub.status.busy": "2024-06-08T05:57:54.659382Z",
     "iopub.status.idle": "2024-06-08T05:57:56.278165Z",
     "shell.execute_reply": "2024-06-08T05:57:56.276693Z"
    },
    "papermill": {
     "duration": 1.639097,
     "end_time": "2024-06-08T05:57:56.281363",
     "exception": false,
     "start_time": "2024-06-08T05:57:54.642266",
     "status": "completed"
    },
    "tags": []
   },
   "outputs": [],
   "source": [
    "from sklearn.model_selection import train_test_split\n",
    "X_train,X_test,y_train,y_test = train_test_split(X,y,test_size=0.2,random_state=2)"
   ]
  },
  {
   "cell_type": "code",
   "execution_count": 10,
   "id": "3b5fac23",
   "metadata": {
    "execution": {
     "iopub.execute_input": "2024-06-08T05:57:56.312748Z",
     "iopub.status.busy": "2024-06-08T05:57:56.312293Z",
     "iopub.status.idle": "2024-06-08T05:57:56.522868Z",
     "shell.execute_reply": "2024-06-08T05:57:56.521425Z"
    },
    "papermill": {
     "duration": 0.230065,
     "end_time": "2024-06-08T05:57:56.526034",
     "exception": false,
     "start_time": "2024-06-08T05:57:56.295969",
     "status": "completed"
    },
    "tags": []
   },
   "outputs": [],
   "source": [
    "from sklearn.linear_model import LinearRegression"
   ]
  },
  {
   "cell_type": "code",
   "execution_count": 11,
   "id": "03a45953",
   "metadata": {
    "execution": {
     "iopub.execute_input": "2024-06-08T05:57:56.556668Z",
     "iopub.status.busy": "2024-06-08T05:57:56.556265Z",
     "iopub.status.idle": "2024-06-08T05:57:56.562603Z",
     "shell.execute_reply": "2024-06-08T05:57:56.561144Z"
    },
    "papermill": {
     "duration": 0.024845,
     "end_time": "2024-06-08T05:57:56.565266",
     "exception": false,
     "start_time": "2024-06-08T05:57:56.540421",
     "status": "completed"
    },
    "tags": []
   },
   "outputs": [],
   "source": [
    "lr = LinearRegression()"
   ]
  },
  {
   "cell_type": "code",
   "execution_count": 12,
   "id": "7f1abaf4",
   "metadata": {
    "execution": {
     "iopub.execute_input": "2024-06-08T05:57:56.596795Z",
     "iopub.status.busy": "2024-06-08T05:57:56.596332Z",
     "iopub.status.idle": "2024-06-08T05:57:56.624601Z",
     "shell.execute_reply": "2024-06-08T05:57:56.623147Z"
    },
    "papermill": {
     "duration": 0.047975,
     "end_time": "2024-06-08T05:57:56.627600",
     "exception": false,
     "start_time": "2024-06-08T05:57:56.579625",
     "status": "completed"
    },
    "tags": []
   },
   "outputs": [
    {
     "data": {
      "text/html": [
       "<style>#sk-container-id-1 {color: black;background-color: white;}#sk-container-id-1 pre{padding: 0;}#sk-container-id-1 div.sk-toggleable {background-color: white;}#sk-container-id-1 label.sk-toggleable__label {cursor: pointer;display: block;width: 100%;margin-bottom: 0;padding: 0.3em;box-sizing: border-box;text-align: center;}#sk-container-id-1 label.sk-toggleable__label-arrow:before {content: \"▸\";float: left;margin-right: 0.25em;color: #696969;}#sk-container-id-1 label.sk-toggleable__label-arrow:hover:before {color: black;}#sk-container-id-1 div.sk-estimator:hover label.sk-toggleable__label-arrow:before {color: black;}#sk-container-id-1 div.sk-toggleable__content {max-height: 0;max-width: 0;overflow: hidden;text-align: left;background-color: #f0f8ff;}#sk-container-id-1 div.sk-toggleable__content pre {margin: 0.2em;color: black;border-radius: 0.25em;background-color: #f0f8ff;}#sk-container-id-1 input.sk-toggleable__control:checked~div.sk-toggleable__content {max-height: 200px;max-width: 100%;overflow: auto;}#sk-container-id-1 input.sk-toggleable__control:checked~label.sk-toggleable__label-arrow:before {content: \"▾\";}#sk-container-id-1 div.sk-estimator input.sk-toggleable__control:checked~label.sk-toggleable__label {background-color: #d4ebff;}#sk-container-id-1 div.sk-label input.sk-toggleable__control:checked~label.sk-toggleable__label {background-color: #d4ebff;}#sk-container-id-1 input.sk-hidden--visually {border: 0;clip: rect(1px 1px 1px 1px);clip: rect(1px, 1px, 1px, 1px);height: 1px;margin: -1px;overflow: hidden;padding: 0;position: absolute;width: 1px;}#sk-container-id-1 div.sk-estimator {font-family: monospace;background-color: #f0f8ff;border: 1px dotted black;border-radius: 0.25em;box-sizing: border-box;margin-bottom: 0.5em;}#sk-container-id-1 div.sk-estimator:hover {background-color: #d4ebff;}#sk-container-id-1 div.sk-parallel-item::after {content: \"\";width: 100%;border-bottom: 1px solid gray;flex-grow: 1;}#sk-container-id-1 div.sk-label:hover label.sk-toggleable__label {background-color: #d4ebff;}#sk-container-id-1 div.sk-serial::before {content: \"\";position: absolute;border-left: 1px solid gray;box-sizing: border-box;top: 0;bottom: 0;left: 50%;z-index: 0;}#sk-container-id-1 div.sk-serial {display: flex;flex-direction: column;align-items: center;background-color: white;padding-right: 0.2em;padding-left: 0.2em;position: relative;}#sk-container-id-1 div.sk-item {position: relative;z-index: 1;}#sk-container-id-1 div.sk-parallel {display: flex;align-items: stretch;justify-content: center;background-color: white;position: relative;}#sk-container-id-1 div.sk-item::before, #sk-container-id-1 div.sk-parallel-item::before {content: \"\";position: absolute;border-left: 1px solid gray;box-sizing: border-box;top: 0;bottom: 0;left: 50%;z-index: -1;}#sk-container-id-1 div.sk-parallel-item {display: flex;flex-direction: column;z-index: 1;position: relative;background-color: white;}#sk-container-id-1 div.sk-parallel-item:first-child::after {align-self: flex-end;width: 50%;}#sk-container-id-1 div.sk-parallel-item:last-child::after {align-self: flex-start;width: 50%;}#sk-container-id-1 div.sk-parallel-item:only-child::after {width: 0;}#sk-container-id-1 div.sk-dashed-wrapped {border: 1px dashed gray;margin: 0 0.4em 0.5em 0.4em;box-sizing: border-box;padding-bottom: 0.4em;background-color: white;}#sk-container-id-1 div.sk-label label {font-family: monospace;font-weight: bold;display: inline-block;line-height: 1.2em;}#sk-container-id-1 div.sk-label-container {text-align: center;}#sk-container-id-1 div.sk-container {/* jupyter's `normalize.less` sets `[hidden] { display: none; }` but bootstrap.min.css set `[hidden] { display: none !important; }` so we also need the `!important` here to be able to override the default hidden behavior on the sphinx rendered scikit-learn.org. See: https://github.com/scikit-learn/scikit-learn/issues/21755 */display: inline-block !important;position: relative;}#sk-container-id-1 div.sk-text-repr-fallback {display: none;}</style><div id=\"sk-container-id-1\" class=\"sk-top-container\"><div class=\"sk-text-repr-fallback\"><pre>LinearRegression()</pre><b>In a Jupyter environment, please rerun this cell to show the HTML representation or trust the notebook. <br />On GitHub, the HTML representation is unable to render, please try loading this page with nbviewer.org.</b></div><div class=\"sk-container\" hidden><div class=\"sk-item\"><div class=\"sk-estimator sk-toggleable\"><input class=\"sk-toggleable__control sk-hidden--visually\" id=\"sk-estimator-id-1\" type=\"checkbox\" checked><label for=\"sk-estimator-id-1\" class=\"sk-toggleable__label sk-toggleable__label-arrow\">LinearRegression</label><div class=\"sk-toggleable__content\"><pre>LinearRegression()</pre></div></div></div></div></div>"
      ],
      "text/plain": [
       "LinearRegression()"
      ]
     },
     "execution_count": 12,
     "metadata": {},
     "output_type": "execute_result"
    }
   ],
   "source": [
    "lr.fit(X_train,y_train)"
   ]
  },
  {
   "cell_type": "code",
   "execution_count": 13,
   "id": "33cd3b7f",
   "metadata": {
    "execution": {
     "iopub.execute_input": "2024-06-08T05:57:56.661753Z",
     "iopub.status.busy": "2024-06-08T05:57:56.661259Z",
     "iopub.status.idle": "2024-06-08T05:57:56.929997Z",
     "shell.execute_reply": "2024-06-08T05:57:56.928652Z"
    },
    "papermill": {
     "duration": 0.289929,
     "end_time": "2024-06-08T05:57:56.933053",
     "exception": false,
     "start_time": "2024-06-08T05:57:56.643124",
     "status": "completed"
    },
    "tags": []
   },
   "outputs": [
    {
     "data": {
      "text/plain": [
       "Text(0, 0.5, 'Package(in lpa)')"
      ]
     },
     "execution_count": 13,
     "metadata": {},
     "output_type": "execute_result"
    },
    {
     "data": {
      "image/png": "[encoded data removed]",
      "text/plain": [
       "<Figure size 640x480 with 1 Axes>"
      ]
     },
     "metadata": {},
     "output_type": "display_data"
    }
   ],
   "source": [
    "plt.scatter(df['cgpa'],df['package'])\n",
    "plt.plot(X_train,lr.predict(X_train),color='red')\n",
    "plt.xlabel('CGPA')\n",
    "plt.ylabel('Package(in lpa)')"
   ]
  },
  {
   "cell_type": "code",
   "execution_count": 14,
   "id": "62f9edd4",
   "metadata": {
    "execution": {
     "iopub.execute_input": "2024-06-08T05:57:56.968161Z",
     "iopub.status.busy": "2024-06-08T05:57:56.967713Z",
     "iopub.status.idle": "2024-06-08T05:57:56.974422Z",
     "shell.execute_reply": "2024-06-08T05:57:56.972789Z"
    },
    "papermill": {
     "duration": 0.02828,
     "end_time": "2024-06-08T05:57:56.977438",
     "exception": false,
     "start_time": "2024-06-08T05:57:56.949158",
     "status": "completed"
    },
    "tags": []
   },
   "outputs": [],
   "source": [
    "from sklearn.metrics import mean_absolute_error,mean_squared_error,r2_score"
   ]
  },
  {
   "cell_type": "code",
   "execution_count": 15,
   "id": "12fb9ea5",
   "metadata": {
    "execution": {
     "iopub.execute_input": "2024-06-08T05:57:57.014040Z",
     "iopub.status.busy": "2024-06-08T05:57:57.012661Z",
     "iopub.status.idle": "2024-06-08T05:57:57.021465Z",
     "shell.execute_reply": "2024-06-08T05:57:57.019752Z"
    },
    "papermill": {
     "duration": 0.030722,
     "end_time": "2024-06-08T05:57:57.024304",
     "exception": false,
     "start_time": "2024-06-08T05:57:56.993582",
     "status": "completed"
    },
    "tags": []
   },
   "outputs": [],
   "source": [
    "y_pred = lr.predict(X_test)"
   ]
  },
  {
   "cell_type": "code",
   "execution_count": 16,
   "id": "fc5c3d06",
   "metadata": {
    "execution": {
     "iopub.execute_input": "2024-06-08T05:57:57.059670Z",
     "iopub.status.busy": "2024-06-08T05:57:57.057987Z",
     "iopub.status.idle": "2024-06-08T05:57:57.068263Z",
     "shell.execute_reply": "2024-06-08T05:57:57.066765Z"
    },
    "papermill": {
     "duration": 0.030441,
     "end_time": "2024-06-08T05:57:57.070757",
     "exception": false,
     "start_time": "2024-06-08T05:57:57.040316",
     "status": "completed"
    },
    "tags": []
   },
   "outputs": [
    {
     "data": {
      "text/plain": [
       "array([3.89111601, 3.09324469, 2.38464568, 2.57434935, 1.6537286 ,\n",
       "       1.77647803, 2.07219258, 2.93143862, 3.76278706, 2.93701814,\n",
       "       4.09197872, 3.51170867, 2.97049525, 2.40138424, 3.18809652,\n",
       "       3.46707251, 1.94386362, 3.24389172, 2.97607477, 3.41685683,\n",
       "       2.55761079, 3.16577844, 2.85890486, 3.12114229, 3.68467378,\n",
       "       2.8700639 , 3.49497011, 3.34432308, 3.91901361, 1.96060218,\n",
       "       3.65119666, 3.2104146 , 3.74046898, 2.7863711 , 2.78079158,\n",
       "       3.27178932, 3.52844723, 2.61340599, 2.65804215, 2.71383735])"
      ]
     },
     "execution_count": 16,
     "metadata": {},
     "output_type": "execute_result"
    }
   ],
   "source": [
    "y_pred"
   ]
  },
  {
   "cell_type": "code",
   "execution_count": 17,
   "id": "08958269",
   "metadata": {
    "execution": {
     "iopub.execute_input": "2024-06-08T05:57:57.105539Z",
     "iopub.status.busy": "2024-06-08T05:57:57.105061Z",
     "iopub.status.idle": "2024-06-08T05:57:57.113747Z",
     "shell.execute_reply": "2024-06-08T05:57:57.112133Z"
    },
    "papermill": {
     "duration": 0.029888,
     "end_time": "2024-06-08T05:57:57.116968",
     "exception": false,
     "start_time": "2024-06-08T05:57:57.087080",
     "status": "completed"
    },
    "tags": []
   },
   "outputs": [
    {
     "name": "stdout",
     "output_type": "stream",
     "text": [
      "MAE 0.2884710931878175\n"
     ]
    }
   ],
   "source": [
    "print(\"MAE\",mean_absolute_error(y_test,y_pred))"
   ]
  },
  {
   "cell_type": "code",
   "execution_count": 18,
   "id": "b9c9525d",
   "metadata": {
    "execution": {
     "iopub.execute_input": "2024-06-08T05:57:57.151650Z",
     "iopub.status.busy": "2024-06-08T05:57:57.151184Z",
     "iopub.status.idle": "2024-06-08T05:57:57.158929Z",
     "shell.execute_reply": "2024-06-08T05:57:57.157567Z"
    },
    "papermill": {
     "duration": 0.02918,
     "end_time": "2024-06-08T05:57:57.162435",
     "exception": false,
     "start_time": "2024-06-08T05:57:57.133255",
     "status": "completed"
    },
    "tags": []
   },
   "outputs": [
    {
     "name": "stdout",
     "output_type": "stream",
     "text": [
      "MSE 0.12129235313495527\n"
     ]
    }
   ],
   "source": [
    "print(\"MSE\",mean_squared_error(y_test,y_pred))"
   ]
  },
  {
   "cell_type": "code",
   "execution_count": 19,
   "id": "987c823f",
   "metadata": {
    "execution": {
     "iopub.execute_input": "2024-06-08T05:57:57.197898Z",
     "iopub.status.busy": "2024-06-08T05:57:57.197451Z",
     "iopub.status.idle": "2024-06-08T05:57:57.205711Z",
     "shell.execute_reply": "2024-06-08T05:57:57.204135Z"
    },
    "papermill": {
     "duration": 0.029331,
     "end_time": "2024-06-08T05:57:57.208923",
     "exception": false,
     "start_time": "2024-06-08T05:57:57.179592",
     "status": "completed"
    },
    "tags": []
   },
   "outputs": [
    {
     "name": "stdout",
     "output_type": "stream",
     "text": [
      "RMSE 0.34827051717731616\n"
     ]
    }
   ],
   "source": [
    "print(\"RMSE\",np.sqrt(mean_squared_error(y_test,y_pred)))"
   ]
  },
  {
   "cell_type": "code",
   "execution_count": 20,
   "id": "15a909dd",
   "metadata": {
    "execution": {
     "iopub.execute_input": "2024-06-08T05:57:57.243963Z",
     "iopub.status.busy": "2024-06-08T05:57:57.243493Z",
     "iopub.status.idle": "2024-06-08T05:57:57.251566Z",
     "shell.execute_reply": "2024-06-08T05:57:57.250152Z"
    },
    "papermill": {
     "duration": 0.028798,
     "end_time": "2024-06-08T05:57:57.254263",
     "exception": false,
     "start_time": "2024-06-08T05:57:57.225465",
     "status": "completed"
    },
    "tags": []
   },
   "outputs": [
    {
     "name": "stdout",
     "output_type": "stream",
     "text": [
      "R2 0.780730147510384\n"
     ]
    }
   ],
   "source": [
    "r2 = r2_score(y_test,y_pred)\n",
    "print(\"R2\",r2)"
   ]
  },
  {
   "cell_type": "code",
   "execution_count": 21,
   "id": "1d4aba05",
   "metadata": {
    "execution": {
     "iopub.execute_input": "2024-06-08T05:57:57.288937Z",
     "iopub.status.busy": "2024-06-08T05:57:57.288468Z",
     "iopub.status.idle": "2024-06-08T05:57:57.296881Z",
     "shell.execute_reply": "2024-06-08T05:57:57.295350Z"
    },
    "papermill": {
     "duration": 0.029738,
     "end_time": "2024-06-08T05:57:57.300563",
     "exception": false,
     "start_time": "2024-06-08T05:57:57.270825",
     "status": "completed"
    },
    "tags": []
   },
   "outputs": [
    {
     "data": {
      "text/plain": [
       "(40, 1)"
      ]
     },
     "execution_count": 21,
     "metadata": {},
     "output_type": "execute_result"
    }
   ],
   "source": [
    "# Adjusted R2 score\n",
    "X_test.shape"
   ]
  },
  {
   "cell_type": "code",
   "execution_count": 22,
   "id": "1ec5a288",
   "metadata": {
    "execution": {
     "iopub.execute_input": "2024-06-08T05:57:57.337879Z",
     "iopub.status.busy": "2024-06-08T05:57:57.337259Z",
     "iopub.status.idle": "2024-06-08T05:57:57.346102Z",
     "shell.execute_reply": "2024-06-08T05:57:57.344734Z"
    },
    "papermill": {
     "duration": 0.031313,
     "end_time": "2024-06-08T05:57:57.349551",
     "exception": false,
     "start_time": "2024-06-08T05:57:57.318238",
     "status": "completed"
    },
    "tags": []
   },
   "outputs": [
    {
     "data": {
      "text/plain": [
       "0.7749598882343415"
      ]
     },
     "execution_count": 22,
     "metadata": {},
     "output_type": "execute_result"
    }
   ],
   "source": [
    "1 - ((1-r2)*(40-1)/(40-1-1))"
   ]
  },
  {
   "cell_type": "code",
   "execution_count": 23,
   "id": "d1be470d",
   "metadata": {
    "execution": {
     "iopub.execute_input": "2024-06-08T05:57:57.389237Z",
     "iopub.status.busy": "2024-06-08T05:57:57.388788Z",
     "iopub.status.idle": "2024-06-08T05:57:57.408150Z",
     "shell.execute_reply": "2024-06-08T05:57:57.406676Z"
    },
    "papermill": {
     "duration": 0.042632,
     "end_time": "2024-06-08T05:57:57.411169",
     "exception": false,
     "start_time": "2024-06-08T05:57:57.368537",
     "status": "completed"
    },
    "tags": []
   },
   "outputs": [
    {
     "data": {
      "text/html": [
       "<div>\n",
       "<style scoped>\n",
       "    .dataframe tbody tr th:only-of-type {\n",
       "        vertical-align: middle;\n",
       "    }\n",
       "\n",
       "    .dataframe tbody tr th {\n",
       "        vertical-align: top;\n",
       "    }\n",
       "\n",
       "    .dataframe thead th {\n",
       "        text-align: right;\n",
       "    }\n",
       "</style>\n",
       "<table border=\"1\" class=\"dataframe\">\n",
       "  <thead>\n",
       "    <tr style=\"text-align: right;\">\n",
       "      <th></th>\n",
       "      <th>cgpa</th>\n",
       "      <th>random_feature</th>\n",
       "      <th>package</th>\n",
       "    </tr>\n",
       "  </thead>\n",
       "  <tbody>\n",
       "    <tr>\n",
       "      <th>0</th>\n",
       "      <td>6.89</td>\n",
       "      <td>0.329183</td>\n",
       "      <td>3.26</td>\n",
       "    </tr>\n",
       "    <tr>\n",
       "      <th>1</th>\n",
       "      <td>5.12</td>\n",
       "      <td>0.862571</td>\n",
       "      <td>1.98</td>\n",
       "    </tr>\n",
       "    <tr>\n",
       "      <th>2</th>\n",
       "      <td>7.82</td>\n",
       "      <td>0.877155</td>\n",
       "      <td>3.25</td>\n",
       "    </tr>\n",
       "    <tr>\n",
       "      <th>3</th>\n",
       "      <td>7.42</td>\n",
       "      <td>0.805936</td>\n",
       "      <td>3.67</td>\n",
       "    </tr>\n",
       "    <tr>\n",
       "      <th>4</th>\n",
       "      <td>6.94</td>\n",
       "      <td>0.969015</td>\n",
       "      <td>3.57</td>\n",
       "    </tr>\n",
       "  </tbody>\n",
       "</table>\n",
       "</div>"
      ],
      "text/plain": [
       "   cgpa  random_feature  package\n",
       "0  6.89        0.329183     3.26\n",
       "1  5.12        0.862571     1.98\n",
       "2  7.82        0.877155     3.25\n",
       "3  7.42        0.805936     3.67\n",
       "4  6.94        0.969015     3.57"
      ]
     },
     "execution_count": 23,
     "metadata": {},
     "output_type": "execute_result"
    }
   ],
   "source": [
    "new_df1 = df.copy()\n",
    "new_df1['random_feature'] = np.random.random(200)\n",
    "\n",
    "new_df1 = new_df1[['cgpa','random_feature','package']]\n",
    "new_df1.head()"
   ]
  },
  {
   "cell_type": "code",
   "execution_count": 24,
   "id": "07196fe8",
   "metadata": {
    "execution": {
     "iopub.execute_input": "2024-06-08T05:57:57.447480Z",
     "iopub.status.busy": "2024-06-08T05:57:57.447070Z",
     "iopub.status.idle": "2024-06-08T05:57:57.791689Z",
     "shell.execute_reply": "2024-06-08T05:57:57.789423Z"
    },
    "papermill": {
     "duration": 0.368454,
     "end_time": "2024-06-08T05:57:57.796754",
     "exception": false,
     "start_time": "2024-06-08T05:57:57.428300",
     "status": "completed"
    },
    "tags": []
   },
   "outputs": [
    {
     "data": {
      "text/plain": [
       "Text(0, 0.5, 'Package(in lpa)')"
      ]
     },
     "execution_count": 24,
     "metadata": {},
     "output_type": "execute_result"
    },
    {
     "data": {
      "image/png": "[encoded data removed]",
      "text/plain": [
       "<Figure size 640x480 with 1 Axes>"
      ]
     },
     "metadata": {},
     "output_type": "display_data"
    }
   ],
   "source": [
    "plt.scatter(new_df1['random_feature'],new_df1['package'])\n",
    "plt.xlabel('random_feature')\n",
    "plt.ylabel('Package(in lpa)')"
   ]
  },
  {
   "cell_type": "code",
   "execution_count": 25,
   "id": "7d45cccd",
   "metadata": {
    "execution": {
     "iopub.execute_input": "2024-06-08T05:57:57.856574Z",
     "iopub.status.busy": "2024-06-08T05:57:57.854478Z",
     "iopub.status.idle": "2024-06-08T05:57:57.867562Z",
     "shell.execute_reply": "2024-06-08T05:57:57.865845Z"
    },
    "papermill": {
     "duration": 0.045905,
     "end_time": "2024-06-08T05:57:57.871856",
     "exception": false,
     "start_time": "2024-06-08T05:57:57.825951",
     "status": "completed"
    },
    "tags": []
   },
   "outputs": [],
   "source": [
    "X = new_df1.iloc[:,0:2]\n",
    "y = new_df1.iloc[:,-1]"
   ]
  },
  {
   "cell_type": "code",
   "execution_count": 26,
   "id": "eef777dd",
   "metadata": {
    "execution": {
     "iopub.execute_input": "2024-06-08T05:57:57.924207Z",
     "iopub.status.busy": "2024-06-08T05:57:57.923751Z",
     "iopub.status.idle": "2024-06-08T05:57:57.932454Z",
     "shell.execute_reply": "2024-06-08T05:57:57.931257Z"
    },
    "papermill": {
     "duration": 0.033644,
     "end_time": "2024-06-08T05:57:57.935889",
     "exception": false,
     "start_time": "2024-06-08T05:57:57.902245",
     "status": "completed"
    },
    "tags": []
   },
   "outputs": [],
   "source": [
    "X_train,X_test,y_train,y_test = train_test_split(X,y,test_size=0.2,random_state=2)"
   ]
  },
  {
   "cell_type": "code",
   "execution_count": 27,
   "id": "180a727c",
   "metadata": {
    "execution": {
     "iopub.execute_input": "2024-06-08T05:57:57.974575Z",
     "iopub.status.busy": "2024-06-08T05:57:57.973724Z",
     "iopub.status.idle": "2024-06-08T05:57:57.982612Z",
     "shell.execute_reply": "2024-06-08T05:57:57.979638Z"
    },
    "papermill": {
     "duration": 0.032003,
     "end_time": "2024-06-08T05:57:57.986165",
     "exception": false,
     "start_time": "2024-06-08T05:57:57.954162",
     "status": "completed"
    },
    "tags": []
   },
   "outputs": [],
   "source": [
    "lr = LinearRegression()"
   ]
  },
  {
   "cell_type": "code",
   "execution_count": 28,
   "id": "9a260e9d",
   "metadata": {
    "execution": {
     "iopub.execute_input": "2024-06-08T05:57:58.039742Z",
     "iopub.status.busy": "2024-06-08T05:57:58.039259Z",
     "iopub.status.idle": "2024-06-08T05:57:58.063869Z",
     "shell.execute_reply": "2024-06-08T05:57:58.062327Z"
    },
    "papermill": {
     "duration": 0.055757,
     "end_time": "2024-06-08T05:57:58.066781",
     "exception": false,
     "start_time": "2024-06-08T05:57:58.011024",
     "status": "completed"
    },
    "tags": []
   },
   "outputs": [
    {
     "data": {
      "text/html": [
       "<style>#sk-container-id-2 {color: black;background-color: white;}#sk-container-id-2 pre{padding: 0;}#sk-container-id-2 div.sk-toggleable {background-color: white;}#sk-container-id-2 label.sk-toggleable__label {cursor: pointer;display: block;width: 100%;margin-bottom: 0;padding: 0.3em;box-sizing: border-box;text-align: center;}#sk-container-id-2 label.sk-toggleable__label-arrow:before {content: \"▸\";float: left;margin-right: 0.25em;color: #696969;}#sk-container-id-2 label.sk-toggleable__label-arrow:hover:before {color: black;}#sk-container-id-2 div.sk-estimator:hover label.sk-toggleable__label-arrow:before {color: black;}#sk-container-id-2 div.sk-toggleable__content {max-height: 0;max-width: 0;overflow: hidden;text-align: left;background-color: #f0f8ff;}#sk-container-id-2 div.sk-toggleable__content pre {margin: 0.2em;color: black;border-radius: 0.25em;background-color: #f0f8ff;}#sk-container-id-2 input.sk-toggleable__control:checked~div.sk-toggleable__content {max-height: 200px;max-width: 100%;overflow: auto;}#sk-container-id-2 input.sk-toggleable__control:checked~label.sk-toggleable__label-arrow:before {content: \"▾\";}#sk-container-id-2 div.sk-estimator input.sk-toggleable__control:checked~label.sk-toggleable__label {background-color: #d4ebff;}#sk-container-id-2 div.sk-label input.sk-toggleable__control:checked~label.sk-toggleable__label {background-color: #d4ebff;}#sk-container-id-2 input.sk-hidden--visually {border: 0;clip: rect(1px 1px 1px 1px);clip: rect(1px, 1px, 1px, 1px);height: 1px;margin: -1px;overflow: hidden;padding: 0;position: absolute;width: 1px;}#sk-container-id-2 div.sk-estimator {font-family: monospace;background-color: #f0f8ff;border: 1px dotted black;border-radius: 0.25em;box-sizing: border-box;margin-bottom: 0.5em;}#sk-container-id-2 div.sk-estimator:hover {background-color: #d4ebff;}#sk-container-id-2 div.sk-parallel-item::after {content: \"\";width: 100%;border-bottom: 1px solid gray;flex-grow: 1;}#sk-container-id-2 div.sk-label:hover label.sk-toggleable__label {background-color: #d4ebff;}#sk-container-id-2 div.sk-serial::before {content: \"\";position: absolute;border-left: 1px solid gray;box-sizing: border-box;top: 0;bottom: 0;left: 50%;z-index: 0;}#sk-container-id-2 div.sk-serial {display: flex;flex-direction: column;align-items: center;background-color: white;padding-right: 0.2em;padding-left: 0.2em;position: relative;}#sk-container-id-2 div.sk-item {position: relative;z-index: 1;}#sk-container-id-2 div.sk-parallel {display: flex;align-items: stretch;justify-content: center;background-color: white;position: relative;}#sk-container-id-2 div.sk-item::before, #sk-container-id-2 div.sk-parallel-item::before {content: \"\";position: absolute;border-left: 1px solid gray;box-sizing: border-box;top: 0;bottom: 0;left: 50%;z-index: -1;}#sk-container-id-2 div.sk-parallel-item {display: flex;flex-direction: column;z-index: 1;position: relative;background-color: white;}#sk-container-id-2 div.sk-parallel-item:first-child::after {align-self: flex-end;width: 50%;}#sk-container-id-2 div.sk-parallel-item:last-child::after {align-self: flex-start;width: 50%;}#sk-container-id-2 div.sk-parallel-item:only-child::after {width: 0;}#sk-container-id-2 div.sk-dashed-wrapped {border: 1px dashed gray;margin: 0 0.4em 0.5em 0.4em;box-sizing: border-box;padding-bottom: 0.4em;background-color: white;}#sk-container-id-2 div.sk-label label {font-family: monospace;font-weight: bold;display: inline-block;line-height: 1.2em;}#sk-container-id-2 div.sk-label-container {text-align: center;}#sk-container-id-2 div.sk-container {/* jupyter's `normalize.less` sets `[hidden] { display: none; }` but bootstrap.min.css set `[hidden] { display: none !important; }` so we also need the `!important` here to be able to override the default hidden behavior on the sphinx rendered scikit-learn.org. See: https://github.com/scikit-learn/scikit-learn/issues/21755 */display: inline-block !important;position: relative;}#sk-container-id-2 div.sk-text-repr-fallback {display: none;}</style><div id=\"sk-container-id-2\" class=\"sk-top-container\"><div class=\"sk-text-repr-fallback\"><pre>LinearRegression()</pre><b>In a Jupyter environment, please rerun this cell to show the HTML representation or trust the notebook. <br />On GitHub, the HTML representation is unable to render, please try loading this page with nbviewer.org.</b></div><div class=\"sk-container\" hidden><div class=\"sk-item\"><div class=\"sk-estimator sk-toggleable\"><input class=\"sk-toggleable__control sk-hidden--visually\" id=\"sk-estimator-id-2\" type=\"checkbox\" checked><label for=\"sk-estimator-id-2\" class=\"sk-toggleable__label sk-toggleable__label-arrow\">LinearRegression</label><div class=\"sk-toggleable__content\"><pre>LinearRegression()</pre></div></div></div></div></div>"
      ],
      "text/plain": [
       "LinearRegression()"
      ]
     },
     "execution_count": 28,
     "metadata": {},
     "output_type": "execute_result"
    }
   ],
   "source": [
    "lr.fit(X_train,y_train)"
   ]
  },
  {
   "cell_type": "code",
   "execution_count": 29,
   "id": "667df54a",
   "metadata": {
    "execution": {
     "iopub.execute_input": "2024-06-08T05:57:58.165259Z",
     "iopub.status.busy": "2024-06-08T05:57:58.164716Z",
     "iopub.status.idle": "2024-06-08T05:57:58.173033Z",
     "shell.execute_reply": "2024-06-08T05:57:58.171695Z"
    },
    "papermill": {
     "duration": 0.0301,
     "end_time": "2024-06-08T05:57:58.175741",
     "exception": false,
     "start_time": "2024-06-08T05:57:58.145641",
     "status": "completed"
    },
    "tags": []
   },
   "outputs": [],
   "source": [
    "y_pred = lr.predict(X_test)"
   ]
  },
  {
   "cell_type": "code",
   "execution_count": 30,
   "id": "e147cfb9",
   "metadata": {
    "execution": {
     "iopub.execute_input": "2024-06-08T05:57:58.213160Z",
     "iopub.status.busy": "2024-06-08T05:57:58.212658Z",
     "iopub.status.idle": "2024-06-08T05:57:58.221420Z",
     "shell.execute_reply": "2024-06-08T05:57:58.219871Z"
    },
    "papermill": {
     "duration": 0.030816,
     "end_time": "2024-06-08T05:57:58.224304",
     "exception": false,
     "start_time": "2024-06-08T05:57:58.193488",
     "status": "completed"
    },
    "tags": []
   },
   "outputs": [
    {
     "name": "stdout",
     "output_type": "stream",
     "text": [
      "R2 score 0.7737300902111548\n"
     ]
    }
   ],
   "source": [
    "r2=r2_score(y_test,y_pred)\n",
    "print(\"R2 score\",r2)"
   ]
  },
  {
   "cell_type": "code",
   "execution_count": 31,
   "id": "40044532",
   "metadata": {
    "execution": {
     "iopub.execute_input": "2024-06-08T05:57:58.261511Z",
     "iopub.status.busy": "2024-06-08T05:57:58.261083Z",
     "iopub.status.idle": "2024-06-08T05:57:58.269758Z",
     "shell.execute_reply": "2024-06-08T05:57:58.268404Z"
    },
    "papermill": {
     "duration": 0.030713,
     "end_time": "2024-06-08T05:57:58.272681",
     "exception": false,
     "start_time": "2024-06-08T05:57:58.241968",
     "status": "completed"
    },
    "tags": []
   },
   "outputs": [
    {
     "data": {
      "text/plain": [
       "0.7614992842766226"
      ]
     },
     "execution_count": 31,
     "metadata": {},
     "output_type": "execute_result"
    }
   ],
   "source": [
    "1 - ((1-r2)*(40-1)/(40-1-2))"
   ]
  },
  {
   "cell_type": "code",
   "execution_count": 32,
   "id": "04abac60",
   "metadata": {
    "execution": {
     "iopub.execute_input": "2024-06-08T05:57:58.311875Z",
     "iopub.status.busy": "2024-06-08T05:57:58.311422Z",
     "iopub.status.idle": "2024-06-08T05:57:58.320913Z",
     "shell.execute_reply": "2024-06-08T05:57:58.319597Z"
    },
    "papermill": {
     "duration": 0.032398,
     "end_time": "2024-06-08T05:57:58.323656",
     "exception": false,
     "start_time": "2024-06-08T05:57:58.291258",
     "status": "completed"
    },
    "tags": []
   },
   "outputs": [],
   "source": [
    "new_df2 = df.copy()\n",
    "\n",
    "new_df2['iq'] = new_df2['package'] + (np.random.randint(-12,12,200)/10)\n",
    "\n",
    "new_df2 = new_df2[['cgpa','iq','package']]"
   ]
  },
  {
   "cell_type": "code",
   "execution_count": 33,
   "id": "9d666029",
   "metadata": {
    "execution": {
     "iopub.execute_input": "2024-06-08T05:57:58.362281Z",
     "iopub.status.busy": "2024-06-08T05:57:58.361702Z",
     "iopub.status.idle": "2024-06-08T05:57:58.377848Z",
     "shell.execute_reply": "2024-06-08T05:57:58.376554Z"
    },
    "papermill": {
     "duration": 0.03893,
     "end_time": "2024-06-08T05:57:58.380656",
     "exception": false,
     "start_time": "2024-06-08T05:57:58.341726",
     "status": "completed"
    },
    "tags": []
   },
   "outputs": [
    {
     "data": {
      "text/html": [
       "<div>\n",
       "<style scoped>\n",
       "    .dataframe tbody tr th:only-of-type {\n",
       "        vertical-align: middle;\n",
       "    }\n",
       "\n",
       "    .dataframe tbody tr th {\n",
       "        vertical-align: top;\n",
       "    }\n",
       "\n",
       "    .dataframe thead th {\n",
       "        text-align: right;\n",
       "    }\n",
       "</style>\n",
       "<table border=\"1\" class=\"dataframe\">\n",
       "  <thead>\n",
       "    <tr style=\"text-align: right;\">\n",
       "      <th></th>\n",
       "      <th>cgpa</th>\n",
       "      <th>iq</th>\n",
       "      <th>package</th>\n",
       "    </tr>\n",
       "  </thead>\n",
       "  <tbody>\n",
       "    <tr>\n",
       "      <th>61</th>\n",
       "      <td>5.48</td>\n",
       "      <td>2.51</td>\n",
       "      <td>1.61</td>\n",
       "    </tr>\n",
       "    <tr>\n",
       "      <th>128</th>\n",
       "      <td>7.93</td>\n",
       "      <td>4.34</td>\n",
       "      <td>3.34</td>\n",
       "    </tr>\n",
       "    <tr>\n",
       "      <th>197</th>\n",
       "      <td>7.21</td>\n",
       "      <td>2.14</td>\n",
       "      <td>3.24</td>\n",
       "    </tr>\n",
       "    <tr>\n",
       "      <th>51</th>\n",
       "      <td>9.26</td>\n",
       "      <td>3.29</td>\n",
       "      <td>3.79</td>\n",
       "    </tr>\n",
       "    <tr>\n",
       "      <th>27</th>\n",
       "      <td>5.42</td>\n",
       "      <td>0.96</td>\n",
       "      <td>2.16</td>\n",
       "    </tr>\n",
       "  </tbody>\n",
       "</table>\n",
       "</div>"
      ],
      "text/plain": [
       "     cgpa    iq  package\n",
       "61   5.48  2.51     1.61\n",
       "128  7.93  4.34     3.34\n",
       "197  7.21  2.14     3.24\n",
       "51   9.26  3.29     3.79\n",
       "27   5.42  0.96     2.16"
      ]
     },
     "execution_count": 33,
     "metadata": {},
     "output_type": "execute_result"
    }
   ],
   "source": [
    "new_df2.sample(5)"
   ]
  },
  {
   "cell_type": "code",
   "execution_count": 34,
   "id": "bdc28025",
   "metadata": {
    "execution": {
     "iopub.execute_input": "2024-06-08T05:57:58.419004Z",
     "iopub.status.busy": "2024-06-08T05:57:58.418476Z",
     "iopub.status.idle": "2024-06-08T05:57:58.681092Z",
     "shell.execute_reply": "2024-06-08T05:57:58.679360Z"
    },
    "papermill": {
     "duration": 0.285067,
     "end_time": "2024-06-08T05:57:58.683932",
     "exception": false,
     "start_time": "2024-06-08T05:57:58.398865",
     "status": "completed"
    },
    "tags": []
   },
   "outputs": [
    {
     "data": {
      "text/plain": [
       "Text(0, 0.5, 'Package(in lpa)')"
      ]
     },
     "execution_count": 34,
     "metadata": {},
     "output_type": "execute_result"
    },
    {
     "data": {
      "image/png": "[encoded data removed]",
      "text/plain": [
       "<Figure size 640x480 with 1 Axes>"
      ]
     },
     "metadata": {},
     "output_type": "display_data"
    }
   ],
   "source": [
    "plt.scatter(new_df2['iq'],new_df2['package'])\n",
    "plt.xlabel('iq')\n",
    "plt.ylabel('Package(in lpa)')"
   ]
  },
  {
   "cell_type": "code",
   "execution_count": 35,
   "id": "535b63c0",
   "metadata": {
    "execution": {
     "iopub.execute_input": "2024-06-08T05:57:58.723739Z",
     "iopub.status.busy": "2024-06-08T05:57:58.723284Z",
     "iopub.status.idle": "2024-06-08T05:57:58.731889Z",
     "shell.execute_reply": "2024-06-08T05:57:58.730508Z"
    },
    "papermill": {
     "duration": 0.031895,
     "end_time": "2024-06-08T05:57:58.734642",
     "exception": false,
     "start_time": "2024-06-08T05:57:58.702747",
     "status": "completed"
    },
    "tags": []
   },
   "outputs": [
    {
     "data": {
      "text/plain": [
       "-91"
      ]
     },
     "execution_count": 35,
     "metadata": {},
     "output_type": "execute_result"
    }
   ],
   "source": [
    "np.random.randint(-100,100)"
   ]
  },
  {
   "cell_type": "code",
   "execution_count": 36,
   "id": "a876fc59",
   "metadata": {
    "execution": {
     "iopub.execute_input": "2024-06-08T05:57:58.777943Z",
     "iopub.status.busy": "2024-06-08T05:57:58.776637Z",
     "iopub.status.idle": "2024-06-08T05:57:58.783992Z",
     "shell.execute_reply": "2024-06-08T05:57:58.782652Z"
    },
    "papermill": {
     "duration": 0.031811,
     "end_time": "2024-06-08T05:57:58.786871",
     "exception": false,
     "start_time": "2024-06-08T05:57:58.755060",
     "status": "completed"
    },
    "tags": []
   },
   "outputs": [],
   "source": [
    "X = new_df2.iloc[:,0:2]\n",
    "y = new_df2.iloc[:,-1]"
   ]
  },
  {
   "cell_type": "code",
   "execution_count": 37,
   "id": "cf08f9d9",
   "metadata": {
    "execution": {
     "iopub.execute_input": "2024-06-08T05:57:58.828530Z",
     "iopub.status.busy": "2024-06-08T05:57:58.827747Z",
     "iopub.status.idle": "2024-06-08T05:57:58.838110Z",
     "shell.execute_reply": "2024-06-08T05:57:58.836907Z"
    },
    "papermill": {
     "duration": 0.034235,
     "end_time": "2024-06-08T05:57:58.840959",
     "exception": false,
     "start_time": "2024-06-08T05:57:58.806724",
     "status": "completed"
    },
    "tags": []
   },
   "outputs": [],
   "source": [
    "X_train,X_test,y_train,y_test = train_test_split(X,y,test_size=0.2,random_state=2)"
   ]
  },
  {
   "cell_type": "code",
   "execution_count": 38,
   "id": "7361ae2b",
   "metadata": {
    "execution": {
     "iopub.execute_input": "2024-06-08T05:57:58.883494Z",
     "iopub.status.busy": "2024-06-08T05:57:58.883029Z",
     "iopub.status.idle": "2024-06-08T05:57:58.896676Z",
     "shell.execute_reply": "2024-06-08T05:57:58.895338Z"
    },
    "papermill": {
     "duration": 0.038767,
     "end_time": "2024-06-08T05:57:58.900280",
     "exception": false,
     "start_time": "2024-06-08T05:57:58.861513",
     "status": "completed"
    },
    "tags": []
   },
   "outputs": [],
   "source": [
    "lr = LinearRegression()\n",
    "lr.fit(X_train,y_train)\n",
    "y_pred = lr.predict(X_test)"
   ]
  },
  {
   "cell_type": "code",
   "execution_count": 39,
   "id": "2e85fac3",
   "metadata": {
    "execution": {
     "iopub.execute_input": "2024-06-08T05:57:58.942682Z",
     "iopub.status.busy": "2024-06-08T05:57:58.942198Z",
     "iopub.status.idle": "2024-06-08T05:57:58.951022Z",
     "shell.execute_reply": "2024-06-08T05:57:58.949383Z"
    },
    "papermill": {
     "duration": 0.034224,
     "end_time": "2024-06-08T05:57:58.954431",
     "exception": false,
     "start_time": "2024-06-08T05:57:58.920207",
     "status": "completed"
    },
    "tags": []
   },
   "outputs": [
    {
     "name": "stdout",
     "output_type": "stream",
     "text": [
      "R2 score 0.7930342779112183\n"
     ]
    }
   ],
   "source": [
    "r2=r2_score(y_test,y_pred)\n",
    "print(\"R2 score\",r2)"
   ]
  },
  {
   "cell_type": "code",
   "execution_count": 40,
   "id": "65430ae2",
   "metadata": {
    "execution": {
     "iopub.execute_input": "2024-06-08T05:57:58.996356Z",
     "iopub.status.busy": "2024-06-08T05:57:58.995895Z",
     "iopub.status.idle": "2024-06-08T05:57:59.006311Z",
     "shell.execute_reply": "2024-06-08T05:57:59.004871Z"
    },
    "papermill": {
     "duration": 0.034693,
     "end_time": "2024-06-08T05:57:59.009257",
     "exception": false,
     "start_time": "2024-06-08T05:57:58.974564",
     "status": "completed"
    },
    "tags": []
   },
   "outputs": [
    {
     "data": {
      "text/plain": [
       "0.781846941582095"
      ]
     },
     "execution_count": 40,
     "metadata": {},
     "output_type": "execute_result"
    }
   ],
   "source": [
    "1 - ((1-r2)*(40-1)/(40-1-2))"
   ]
  },
  {
   "cell_type": "code",
   "execution_count": null,
   "id": "cacac4c8",
   "metadata": {
    "papermill": {
     "duration": 0.019522,
     "end_time": "2024-06-08T05:57:59.049742",
     "exception": false,
     "start_time": "2024-06-08T05:57:59.030220",
     "status": "completed"
    },
    "tags": []
   },
   "outputs": [],
   "source": []
  }
 ],
 "metadata": {
  "kaggle": {
   "accelerator": "none",
   "dataSources": [
    {
     "datasetId": 5160013,
     "sourceId": 8620294,
     "sourceType": "datasetVersion"
    }
   ],
   "dockerImageVersionId": 30732,
   "isGpuEnabled": false,
   "isInternetEnabled": false,
   "language": "python",
   "sourceType": "notebook"
  },
  "kernelspec": {
   "display_name": "Python 3",
   "language": "python",
   "name": "python3"
  },
  "language_info": {
   "codemirror_mode": {
    "name": "ipython",
    "version": 3
   },
   "file_extension": ".py",
   "mimetype": "text/x-python",
   "name": "python",
   "nbconvert_exporter": "python",
   "pygments_lexer": "ipython3",
   "version": "3.10.13"
  },
  "papermill": {
   "default_parameters": {},
   "duration": 10.652415,
   "end_time": "2024-06-08T05:57:59.994692",
   "environment_variables": {},
   "exception": null,
   "input_path": "__notebook__.ipynb",
   "output_path": "__notebook__.ipynb",
   "parameters": {},
   "start_time": "2024-06-08T05:57:49.342277",
   "version": "2.5.0"
  }
 },
 "nbformat": 4,
 "nbformat_minor": 5
}
