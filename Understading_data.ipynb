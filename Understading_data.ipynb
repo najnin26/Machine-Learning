{
 "cells": [
  {
   "cell_type": "code",
   "execution_count": 1,
   "id": "1c666bc6",
   "metadata": {
    "_cell_guid": "b1076dfc-b9ad-4769-8c92-a6c4dae69d19",
    "_uuid": "8f2839f25d086af736a60e9eeb907d3b93b6e0e5",
    "execution": {
     "iopub.execute_input": "2024-01-13T07:07:57.247691Z",
     "iopub.status.busy": "2024-01-13T07:07:57.247205Z",
     "iopub.status.idle": "2024-01-13T07:07:57.940872Z",
     "shell.execute_reply": "2024-01-13T07:07:57.939762Z"
    },
    "papermill": {
     "duration": 0.700885,
     "end_time": "2024-01-13T07:07:57.943411",
     "exception": false,
     "start_time": "2024-01-13T07:07:57.242526",
     "status": "completed"
    },
    "tags": []
   },
   "outputs": [],
   "source": [
    "import pandas as pd"
   ]
  },
  {
   "cell_type": "code",
   "execution_count": 2,
   "id": "ac2b3ae1",
   "metadata": {
    "execution": {
     "iopub.execute_input": "2024-01-13T07:07:57.949808Z",
     "iopub.status.busy": "2024-01-13T07:07:57.949313Z",
     "iopub.status.idle": "2024-01-13T07:07:57.969359Z",
     "shell.execute_reply": "2024-01-13T07:07:57.968389Z"
    },
    "papermill": {
     "duration": 0.026045,
     "end_time": "2024-01-13T07:07:57.971929",
     "exception": false,
     "start_time": "2024-01-13T07:07:57.945884",
     "status": "completed"
    },
    "tags": []
   },
   "outputs": [],
   "source": [
    "df = pd.read_csv('/kaggle/input/dsb-day1-titanic-traincsv/train.csv')"
   ]
  },
  {
   "cell_type": "markdown",
   "id": "e410b8a5",
   "metadata": {
    "papermill": {
     "duration": 0.001955,
     "end_time": "2024-01-13T07:07:57.976182",
     "exception": false,
     "start_time": "2024-01-13T07:07:57.974227",
     "status": "completed"
    },
    "tags": []
   },
   "source": [
    "# **1. How big is the data?**"
   ]
  },
  {
   "cell_type": "code",
   "execution_count": 3,
   "id": "3d654a45",
   "metadata": {
    "execution": {
     "iopub.execute_input": "2024-01-13T07:07:57.982197Z",
     "iopub.status.busy": "2024-01-13T07:07:57.981412Z",
     "iopub.status.idle": "2024-01-13T07:07:57.989841Z",
     "shell.execute_reply": "2024-01-13T07:07:57.988696Z"
    },
    "papermill": {
     "duration": 0.013799,
     "end_time": "2024-01-13T07:07:57.991993",
     "exception": false,
     "start_time": "2024-01-13T07:07:57.978194",
     "status": "completed"
    },
    "tags": []
   },
   "outputs": [
    {
     "data": {
      "text/plain": [
       "(891, 12)"
      ]
     },
     "execution_count": 3,
     "metadata": {},
     "output_type": "execute_result"
    }
   ],
   "source": [
    "df.shape"
   ]
  },
  {
   "cell_type": "markdown",
   "id": "692c125f",
   "metadata": {
    "papermill": {
     "duration": 0.001936,
     "end_time": "2024-01-13T07:07:57.996297",
     "exception": false,
     "start_time": "2024-01-13T07:07:57.994361",
     "status": "completed"
    },
    "tags": []
   },
   "source": []
  }
 ],
 "metadata": {
  "kaggle": {
   "accelerator": "none",
   "dataSources": [
    {
     "datasetId": 2844506,
     "sourceId": 4904769,
     "sourceType": "datasetVersion"
    }
   ],
   "dockerImageVersionId": 30635,
   "isGpuEnabled": false,
   "isInternetEnabled": false,
   "language": "python",
   "sourceType": "notebook"
  },
  "kernelspec": {
   "display_name": "Python 3",
   "language": "python",
   "name": "python3"
  },
  "language_info": {
   "codemirror_mode": {
    "name": "ipython",
    "version": 3
   },
   "file_extension": ".py",
   "mimetype": "text/x-python",
   "name": "python",
   "nbconvert_exporter": "python",
   "pygments_lexer": "ipython3",
   "version": "3.10.12"
  },
  "papermill": {
   "default_parameters": {},
   "duration": 5.131194,
   "end_time": "2024-01-13T07:07:58.518458",
   "environment_variables": {},
   "exception": null,
   "input_path": "__notebook__.ipynb",
   "output_path": "__notebook__.ipynb",
   "parameters": {},
   "start_time": "2024-01-13T07:07:53.387264",
   "version": "2.4.0"
  }
 },
 "nbformat": 4,
 "nbformat_minor": 5
}
