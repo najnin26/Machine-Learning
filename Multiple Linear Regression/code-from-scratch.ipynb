{
 "cells": [
  {
   "cell_type": "code",
   "execution_count": 1,
   "id": "f3a65a79",
   "metadata": {
    "_cell_guid": "b1076dfc-b9ad-4769-8c92-a6c4dae69d19",
    "_uuid": "8f2839f25d086af736a60e9eeb907d3b93b6e0e5",
    "execution": {
     "iopub.execute_input": "2024-06-10T07:06:23.485877Z",
     "iopub.status.busy": "2024-06-10T07:06:23.485370Z",
     "iopub.status.idle": "2024-06-10T07:06:24.897840Z",
     "shell.execute_reply": "2024-06-10T07:06:24.896553Z"
    },
    "papermill": {
     "duration": 1.423976,
     "end_time": "2024-06-10T07:06:24.900622",
     "exception": false,
     "start_time": "2024-06-10T07:06:23.476646",
     "status": "completed"
    },
    "tags": []
   },
   "outputs": [],
   "source": [
    "import numpy as np\n",
    "from sklearn.datasets import load_diabetes"
   ]
  },
  {
   "cell_type": "code",
   "execution_count": 2,
   "id": "b2fd4836",
   "metadata": {
    "execution": {
     "iopub.execute_input": "2024-06-10T07:06:24.915729Z",
     "iopub.status.busy": "2024-06-10T07:06:24.915328Z",
     "iopub.status.idle": "2024-06-10T07:06:24.931880Z",
     "shell.execute_reply": "2024-06-10T07:06:24.930798Z"
    },
    "papermill": {
     "duration": 0.02718,
     "end_time": "2024-06-10T07:06:24.934662",
     "exception": false,
     "start_time": "2024-06-10T07:06:24.907482",
     "status": "completed"
    },
    "tags": []
   },
   "outputs": [],
   "source": [
    "X,y = load_diabetes(return_X_y=True)"
   ]
  },
  {
   "cell_type": "code",
   "execution_count": 3,
   "id": "b0717cb9",
   "metadata": {
    "execution": {
     "iopub.execute_input": "2024-06-10T07:06:24.949481Z",
     "iopub.status.busy": "2024-06-10T07:06:24.949076Z",
     "iopub.status.idle": "2024-06-10T07:06:24.957755Z",
     "shell.execute_reply": "2024-06-10T07:06:24.956580Z"
    },
    "papermill": {
     "duration": 0.018676,
     "end_time": "2024-06-10T07:06:24.959964",
     "exception": false,
     "start_time": "2024-06-10T07:06:24.941288",
     "status": "completed"
    },
    "tags": []
   },
   "outputs": [
    {
     "data": {
      "text/plain": [
       "array([[ 0.03807591,  0.05068012,  0.06169621, ..., -0.00259226,\n",
       "         0.01990749, -0.01764613],\n",
       "       [-0.00188202, -0.04464164, -0.05147406, ..., -0.03949338,\n",
       "        -0.06833155, -0.09220405],\n",
       "       [ 0.08529891,  0.05068012,  0.04445121, ..., -0.00259226,\n",
       "         0.00286131, -0.02593034],\n",
       "       ...,\n",
       "       [ 0.04170844,  0.05068012, -0.01590626, ..., -0.01107952,\n",
       "        -0.04688253,  0.01549073],\n",
       "       [-0.04547248, -0.04464164,  0.03906215, ...,  0.02655962,\n",
       "         0.04452873, -0.02593034],\n",
       "       [-0.04547248, -0.04464164, -0.0730303 , ..., -0.03949338,\n",
       "        -0.00422151,  0.00306441]])"
      ]
     },
     "execution_count": 3,
     "metadata": {},
     "output_type": "execute_result"
    }
   ],
   "source": [
    "X"
   ]
  },
  {
   "cell_type": "code",
   "execution_count": 4,
   "id": "7e5ecaaf",
   "metadata": {
    "execution": {
     "iopub.execute_input": "2024-06-10T07:06:24.974849Z",
     "iopub.status.busy": "2024-06-10T07:06:24.974499Z",
     "iopub.status.idle": "2024-06-10T07:06:24.981249Z",
     "shell.execute_reply": "2024-06-10T07:06:24.980158Z"
    },
    "papermill": {
     "duration": 0.016803,
     "end_time": "2024-06-10T07:06:24.983429",
     "exception": false,
     "start_time": "2024-06-10T07:06:24.966626",
     "status": "completed"
    },
    "tags": []
   },
   "outputs": [
    {
     "data": {
      "text/plain": [
       "(442, 10)"
      ]
     },
     "execution_count": 4,
     "metadata": {},
     "output_type": "execute_result"
    }
   ],
   "source": [
    "X.shape"
   ]
  },
  {
   "cell_type": "code",
   "execution_count": 5,
   "id": "15012c5c",
   "metadata": {
    "execution": {
     "iopub.execute_input": "2024-06-10T07:06:24.998290Z",
     "iopub.status.busy": "2024-06-10T07:06:24.997912Z",
     "iopub.status.idle": "2024-06-10T07:06:25.007520Z",
     "shell.execute_reply": "2024-06-10T07:06:25.006472Z"
    },
    "papermill": {
     "duration": 0.019679,
     "end_time": "2024-06-10T07:06:25.009826",
     "exception": false,
     "start_time": "2024-06-10T07:06:24.990147",
     "status": "completed"
    },
    "tags": []
   },
   "outputs": [
    {
     "data": {
      "text/plain": [
       "array([151.,  75., 141., 206., 135.,  97., 138.,  63., 110., 310., 101.,\n",
       "        69., 179., 185., 118., 171., 166., 144.,  97., 168.,  68.,  49.,\n",
       "        68., 245., 184., 202., 137.,  85., 131., 283., 129.,  59., 341.,\n",
       "        87.,  65., 102., 265., 276., 252.,  90., 100.,  55.,  61.,  92.,\n",
       "       259.,  53., 190., 142.,  75., 142., 155., 225.,  59., 104., 182.,\n",
       "       128.,  52.,  37., 170., 170.,  61., 144.,  52., 128.,  71., 163.,\n",
       "       150.,  97., 160., 178.,  48., 270., 202., 111.,  85.,  42., 170.,\n",
       "       200., 252., 113., 143.,  51.,  52., 210.,  65., 141.,  55., 134.,\n",
       "        42., 111.,  98., 164.,  48.,  96.,  90., 162., 150., 279.,  92.,\n",
       "        83., 128., 102., 302., 198.,  95.,  53., 134., 144., 232.,  81.,\n",
       "       104.,  59., 246., 297., 258., 229., 275., 281., 179., 200., 200.,\n",
       "       173., 180.,  84., 121., 161.,  99., 109., 115., 268., 274., 158.,\n",
       "       107.,  83., 103., 272.,  85., 280., 336., 281., 118., 317., 235.,\n",
       "        60., 174., 259., 178., 128.,  96., 126., 288.,  88., 292.,  71.,\n",
       "       197., 186.,  25.,  84.,  96., 195.,  53., 217., 172., 131., 214.,\n",
       "        59.,  70., 220., 268., 152.,  47.,  74., 295., 101., 151., 127.,\n",
       "       237., 225.,  81., 151., 107.,  64., 138., 185., 265., 101., 137.,\n",
       "       143., 141.,  79., 292., 178.,  91., 116.,  86., 122.,  72., 129.,\n",
       "       142.,  90., 158.,  39., 196., 222., 277.,  99., 196., 202., 155.,\n",
       "        77., 191.,  70.,  73.,  49.,  65., 263., 248., 296., 214., 185.,\n",
       "        78.,  93., 252., 150.,  77., 208.,  77., 108., 160.,  53., 220.,\n",
       "       154., 259.,  90., 246., 124.,  67.,  72., 257., 262., 275., 177.,\n",
       "        71.,  47., 187., 125.,  78.,  51., 258., 215., 303., 243.,  91.,\n",
       "       150., 310., 153., 346.,  63.,  89.,  50.,  39., 103., 308., 116.,\n",
       "       145.,  74.,  45., 115., 264.,  87., 202., 127., 182., 241.,  66.,\n",
       "        94., 283.,  64., 102., 200., 265.,  94., 230., 181., 156., 233.,\n",
       "        60., 219.,  80.,  68., 332., 248.,  84., 200.,  55.,  85.,  89.,\n",
       "        31., 129.,  83., 275.,  65., 198., 236., 253., 124.,  44., 172.,\n",
       "       114., 142., 109., 180., 144., 163., 147.,  97., 220., 190., 109.,\n",
       "       191., 122., 230., 242., 248., 249., 192., 131., 237.,  78., 135.,\n",
       "       244., 199., 270., 164.,  72.,  96., 306.,  91., 214.,  95., 216.,\n",
       "       263., 178., 113., 200., 139., 139.,  88., 148.,  88., 243.,  71.,\n",
       "        77., 109., 272.,  60.,  54., 221.,  90., 311., 281., 182., 321.,\n",
       "        58., 262., 206., 233., 242., 123., 167.,  63., 197.,  71., 168.,\n",
       "       140., 217., 121., 235., 245.,  40.,  52., 104., 132.,  88.,  69.,\n",
       "       219.,  72., 201., 110.,  51., 277.,  63., 118.,  69., 273., 258.,\n",
       "        43., 198., 242., 232., 175.,  93., 168., 275., 293., 281.,  72.,\n",
       "       140., 189., 181., 209., 136., 261., 113., 131., 174., 257.,  55.,\n",
       "        84.,  42., 146., 212., 233.,  91., 111., 152., 120.,  67., 310.,\n",
       "        94., 183.,  66., 173.,  72.,  49.,  64.,  48., 178., 104., 132.,\n",
       "       220.,  57.])"
      ]
     },
     "execution_count": 5,
     "metadata": {},
     "output_type": "execute_result"
    }
   ],
   "source": [
    "y"
   ]
  },
  {
   "cell_type": "code",
   "execution_count": 6,
   "id": "9158ba3e",
   "metadata": {
    "execution": {
     "iopub.execute_input": "2024-06-10T07:06:25.025376Z",
     "iopub.status.busy": "2024-06-10T07:06:25.025004Z",
     "iopub.status.idle": "2024-06-10T07:06:25.031418Z",
     "shell.execute_reply": "2024-06-10T07:06:25.030304Z"
    },
    "papermill": {
     "duration": 0.016991,
     "end_time": "2024-06-10T07:06:25.033674",
     "exception": false,
     "start_time": "2024-06-10T07:06:25.016683",
     "status": "completed"
    },
    "tags": []
   },
   "outputs": [
    {
     "data": {
      "text/plain": [
       "(442,)"
      ]
     },
     "execution_count": 6,
     "metadata": {},
     "output_type": "execute_result"
    }
   ],
   "source": [
    "y.shape"
   ]
  },
  {
   "cell_type": "markdown",
   "id": "b5d70881",
   "metadata": {
    "papermill": {
     "duration": 0.006813,
     "end_time": "2024-06-10T07:06:25.047475",
     "exception": false,
     "start_time": "2024-06-10T07:06:25.040662",
     "status": "completed"
    },
    "tags": []
   },
   "source": [
    "# **Using Sklearn's Linear Regression**"
   ]
  },
  {
   "cell_type": "code",
   "execution_count": 7,
   "id": "43989e3a",
   "metadata": {
    "execution": {
     "iopub.execute_input": "2024-06-10T07:06:25.063020Z",
     "iopub.status.busy": "2024-06-10T07:06:25.062649Z",
     "iopub.status.idle": "2024-06-10T07:06:25.155105Z",
     "shell.execute_reply": "2024-06-10T07:06:25.154112Z"
    },
    "papermill": {
     "duration": 0.103316,
     "end_time": "2024-06-10T07:06:25.157720",
     "exception": false,
     "start_time": "2024-06-10T07:06:25.054404",
     "status": "completed"
    },
    "tags": []
   },
   "outputs": [],
   "source": [
    "from sklearn.model_selection import train_test_split"
   ]
  },
  {
   "cell_type": "code",
   "execution_count": 8,
   "id": "5755cbef",
   "metadata": {
    "execution": {
     "iopub.execute_input": "2024-06-10T07:06:25.173401Z",
     "iopub.status.busy": "2024-06-10T07:06:25.173016Z",
     "iopub.status.idle": "2024-06-10T07:06:25.180060Z",
     "shell.execute_reply": "2024-06-10T07:06:25.179106Z"
    },
    "papermill": {
     "duration": 0.017454,
     "end_time": "2024-06-10T07:06:25.182249",
     "exception": false,
     "start_time": "2024-06-10T07:06:25.164795",
     "status": "completed"
    },
    "tags": []
   },
   "outputs": [],
   "source": [
    "X_train,X_test,y_train,y_test = train_test_split(X,y,test_size=0.2,random_state=2)"
   ]
  },
  {
   "cell_type": "code",
   "execution_count": 9,
   "id": "d6fa93b8",
   "metadata": {
    "execution": {
     "iopub.execute_input": "2024-06-10T07:06:25.197930Z",
     "iopub.status.busy": "2024-06-10T07:06:25.197542Z",
     "iopub.status.idle": "2024-06-10T07:06:25.202928Z",
     "shell.execute_reply": "2024-06-10T07:06:25.201817Z"
    },
    "papermill": {
     "duration": 0.016297,
     "end_time": "2024-06-10T07:06:25.205666",
     "exception": false,
     "start_time": "2024-06-10T07:06:25.189369",
     "status": "completed"
    },
    "tags": []
   },
   "outputs": [
    {
     "name": "stdout",
     "output_type": "stream",
     "text": [
      "(353, 10)\n",
      "(89, 10)\n"
     ]
    }
   ],
   "source": [
    "print(X_train.shape)\n",
    "print(X_test.shape)"
   ]
  },
  {
   "cell_type": "code",
   "execution_count": 10,
   "id": "56d418d3",
   "metadata": {
    "execution": {
     "iopub.execute_input": "2024-06-10T07:06:25.221713Z",
     "iopub.status.busy": "2024-06-10T07:06:25.220759Z",
     "iopub.status.idle": "2024-06-10T07:06:25.313700Z",
     "shell.execute_reply": "2024-06-10T07:06:25.312621Z"
    },
    "papermill": {
     "duration": 0.103901,
     "end_time": "2024-06-10T07:06:25.316550",
     "exception": false,
     "start_time": "2024-06-10T07:06:25.212649",
     "status": "completed"
    },
    "tags": []
   },
   "outputs": [],
   "source": [
    "from sklearn.linear_model import LinearRegression"
   ]
  },
  {
   "cell_type": "code",
   "execution_count": 11,
   "id": "dce05a9a",
   "metadata": {
    "execution": {
     "iopub.execute_input": "2024-06-10T07:06:25.333141Z",
     "iopub.status.busy": "2024-06-10T07:06:25.332690Z",
     "iopub.status.idle": "2024-06-10T07:06:25.337553Z",
     "shell.execute_reply": "2024-06-10T07:06:25.336501Z"
    },
    "papermill": {
     "duration": 0.015335,
     "end_time": "2024-06-10T07:06:25.339705",
     "exception": false,
     "start_time": "2024-06-10T07:06:25.324370",
     "status": "completed"
    },
    "tags": []
   },
   "outputs": [],
   "source": [
    "reg = LinearRegression()"
   ]
  },
  {
   "cell_type": "code",
   "execution_count": 12,
   "id": "b4b9df15",
   "metadata": {
    "execution": {
     "iopub.execute_input": "2024-06-10T07:06:25.356038Z",
     "iopub.status.busy": "2024-06-10T07:06:25.355660Z",
     "iopub.status.idle": "2024-06-10T07:06:25.385276Z",
     "shell.execute_reply": "2024-06-10T07:06:25.384180Z"
    },
    "papermill": {
     "duration": 0.040752,
     "end_time": "2024-06-10T07:06:25.387719",
     "exception": false,
     "start_time": "2024-06-10T07:06:25.346967",
     "status": "completed"
    },
    "tags": []
   },
   "outputs": [
    {
     "data": {
      "text/html": [
       "<style>#sk-container-id-1 {color: black;background-color: white;}#sk-container-id-1 pre{padding: 0;}#sk-container-id-1 div.sk-toggleable {background-color: white;}#sk-container-id-1 label.sk-toggleable__label {cursor: pointer;display: block;width: 100%;margin-bottom: 0;padding: 0.3em;box-sizing: border-box;text-align: center;}#sk-container-id-1 label.sk-toggleable__label-arrow:before {content: \"▸\";float: left;margin-right: 0.25em;color: #696969;}#sk-container-id-1 label.sk-toggleable__label-arrow:hover:before {color: black;}#sk-container-id-1 div.sk-estimator:hover label.sk-toggleable__label-arrow:before {color: black;}#sk-container-id-1 div.sk-toggleable__content {max-height: 0;max-width: 0;overflow: hidden;text-align: left;background-color: #f0f8ff;}#sk-container-id-1 div.sk-toggleable__content pre {margin: 0.2em;color: black;border-radius: 0.25em;background-color: #f0f8ff;}#sk-container-id-1 input.sk-toggleable__control:checked~div.sk-toggleable__content {max-height: 200px;max-width: 100%;overflow: auto;}#sk-container-id-1 input.sk-toggleable__control:checked~label.sk-toggleable__label-arrow:before {content: \"▾\";}#sk-container-id-1 div.sk-estimator input.sk-toggleable__control:checked~label.sk-toggleable__label {background-color: #d4ebff;}#sk-container-id-1 div.sk-label input.sk-toggleable__control:checked~label.sk-toggleable__label {background-color: #d4ebff;}#sk-container-id-1 input.sk-hidden--visually {border: 0;clip: rect(1px 1px 1px 1px);clip: rect(1px, 1px, 1px, 1px);height: 1px;margin: -1px;overflow: hidden;padding: 0;position: absolute;width: 1px;}#sk-container-id-1 div.sk-estimator {font-family: monospace;background-color: #f0f8ff;border: 1px dotted black;border-radius: 0.25em;box-sizing: border-box;margin-bottom: 0.5em;}#sk-container-id-1 div.sk-estimator:hover {background-color: #d4ebff;}#sk-container-id-1 div.sk-parallel-item::after {content: \"\";width: 100%;border-bottom: 1px solid gray;flex-grow: 1;}#sk-container-id-1 div.sk-label:hover label.sk-toggleable__label {background-color: #d4ebff;}#sk-container-id-1 div.sk-serial::before {content: \"\";position: absolute;border-left: 1px solid gray;box-sizing: border-box;top: 0;bottom: 0;left: 50%;z-index: 0;}#sk-container-id-1 div.sk-serial {display: flex;flex-direction: column;align-items: center;background-color: white;padding-right: 0.2em;padding-left: 0.2em;position: relative;}#sk-container-id-1 div.sk-item {position: relative;z-index: 1;}#sk-container-id-1 div.sk-parallel {display: flex;align-items: stretch;justify-content: center;background-color: white;position: relative;}#sk-container-id-1 div.sk-item::before, #sk-container-id-1 div.sk-parallel-item::before {content: \"\";position: absolute;border-left: 1px solid gray;box-sizing: border-box;top: 0;bottom: 0;left: 50%;z-index: -1;}#sk-container-id-1 div.sk-parallel-item {display: flex;flex-direction: column;z-index: 1;position: relative;background-color: white;}#sk-container-id-1 div.sk-parallel-item:first-child::after {align-self: flex-end;width: 50%;}#sk-container-id-1 div.sk-parallel-item:last-child::after {align-self: flex-start;width: 50%;}#sk-container-id-1 div.sk-parallel-item:only-child::after {width: 0;}#sk-container-id-1 div.sk-dashed-wrapped {border: 1px dashed gray;margin: 0 0.4em 0.5em 0.4em;box-sizing: border-box;padding-bottom: 0.4em;background-color: white;}#sk-container-id-1 div.sk-label label {font-family: monospace;font-weight: bold;display: inline-block;line-height: 1.2em;}#sk-container-id-1 div.sk-label-container {text-align: center;}#sk-container-id-1 div.sk-container {/* jupyter's `normalize.less` sets `[hidden] { display: none; }` but bootstrap.min.css set `[hidden] { display: none !important; }` so we also need the `!important` here to be able to override the default hidden behavior on the sphinx rendered scikit-learn.org. See: https://github.com/scikit-learn/scikit-learn/issues/21755 */display: inline-block !important;position: relative;}#sk-container-id-1 div.sk-text-repr-fallback {display: none;}</style><div id=\"sk-container-id-1\" class=\"sk-top-container\"><div class=\"sk-text-repr-fallback\"><pre>LinearRegression()</pre><b>In a Jupyter environment, please rerun this cell to show the HTML representation or trust the notebook. <br />On GitHub, the HTML representation is unable to render, please try loading this page with nbviewer.org.</b></div><div class=\"sk-container\" hidden><div class=\"sk-item\"><div class=\"sk-estimator sk-toggleable\"><input class=\"sk-toggleable__control sk-hidden--visually\" id=\"sk-estimator-id-1\" type=\"checkbox\" checked><label for=\"sk-estimator-id-1\" class=\"sk-toggleable__label sk-toggleable__label-arrow\">LinearRegression</label><div class=\"sk-toggleable__content\"><pre>LinearRegression()</pre></div></div></div></div></div>"
      ],
      "text/plain": [
       "LinearRegression()"
      ]
     },
     "execution_count": 12,
     "metadata": {},
     "output_type": "execute_result"
    }
   ],
   "source": [
    "reg.fit(X_train,y_train)"
   ]
  },
  {
   "cell_type": "code",
   "execution_count": 13,
   "id": "f10e4b8b",
   "metadata": {
    "execution": {
     "iopub.execute_input": "2024-06-10T07:06:25.404643Z",
     "iopub.status.busy": "2024-06-10T07:06:25.404233Z",
     "iopub.status.idle": "2024-06-10T07:06:25.409768Z",
     "shell.execute_reply": "2024-06-10T07:06:25.408641Z"
    },
    "papermill": {
     "duration": 0.016968,
     "end_time": "2024-06-10T07:06:25.412312",
     "exception": false,
     "start_time": "2024-06-10T07:06:25.395344",
     "status": "completed"
    },
    "tags": []
   },
   "outputs": [],
   "source": [
    "y_pred = reg.predict(X_test)"
   ]
  },
  {
   "cell_type": "code",
   "execution_count": 14,
   "id": "86a0908b",
   "metadata": {
    "execution": {
     "iopub.execute_input": "2024-06-10T07:06:25.428522Z",
     "iopub.status.busy": "2024-06-10T07:06:25.428155Z",
     "iopub.status.idle": "2024-06-10T07:06:25.432735Z",
     "shell.execute_reply": "2024-06-10T07:06:25.431695Z"
    },
    "papermill": {
     "duration": 0.015524,
     "end_time": "2024-06-10T07:06:25.435180",
     "exception": false,
     "start_time": "2024-06-10T07:06:25.419656",
     "status": "completed"
    },
    "tags": []
   },
   "outputs": [],
   "source": [
    "from sklearn.metrics import r2_score"
   ]
  },
  {
   "cell_type": "code",
   "execution_count": 15,
   "id": "432a81b8",
   "metadata": {
    "execution": {
     "iopub.execute_input": "2024-06-10T07:06:25.451659Z",
     "iopub.status.busy": "2024-06-10T07:06:25.450641Z",
     "iopub.status.idle": "2024-06-10T07:06:25.458059Z",
     "shell.execute_reply": "2024-06-10T07:06:25.456961Z"
    },
    "papermill": {
     "duration": 0.017905,
     "end_time": "2024-06-10T07:06:25.460312",
     "exception": false,
     "start_time": "2024-06-10T07:06:25.442407",
     "status": "completed"
    },
    "tags": []
   },
   "outputs": [
    {
     "data": {
      "text/plain": [
       "0.4399338661568968"
      ]
     },
     "execution_count": 15,
     "metadata": {},
     "output_type": "execute_result"
    }
   ],
   "source": [
    "r2_score(y_test,y_pred)"
   ]
  },
  {
   "cell_type": "code",
   "execution_count": 16,
   "id": "ff052324",
   "metadata": {
    "execution": {
     "iopub.execute_input": "2024-06-10T07:06:25.477541Z",
     "iopub.status.busy": "2024-06-10T07:06:25.477173Z",
     "iopub.status.idle": "2024-06-10T07:06:25.484197Z",
     "shell.execute_reply": "2024-06-10T07:06:25.483058Z"
    },
    "papermill": {
     "duration": 0.017876,
     "end_time": "2024-06-10T07:06:25.486265",
     "exception": false,
     "start_time": "2024-06-10T07:06:25.468389",
     "status": "completed"
    },
    "tags": []
   },
   "outputs": [
    {
     "data": {
      "text/plain": [
       "array([  -9.15865318, -205.45432163,  516.69374454,  340.61999905,\n",
       "       -895.5520019 ,  561.22067904,  153.89310954,  126.73139688,\n",
       "        861.12700152,   52.42112238])"
      ]
     },
     "execution_count": 16,
     "metadata": {},
     "output_type": "execute_result"
    }
   ],
   "source": [
    "reg.coef_"
   ]
  },
  {
   "cell_type": "code",
   "execution_count": 17,
   "id": "767bc32f",
   "metadata": {
    "execution": {
     "iopub.execute_input": "2024-06-10T07:06:25.502856Z",
     "iopub.status.busy": "2024-06-10T07:06:25.502488Z",
     "iopub.status.idle": "2024-06-10T07:06:25.508881Z",
     "shell.execute_reply": "2024-06-10T07:06:25.507688Z"
    },
    "papermill": {
     "duration": 0.01756,
     "end_time": "2024-06-10T07:06:25.511321",
     "exception": false,
     "start_time": "2024-06-10T07:06:25.493761",
     "status": "completed"
    },
    "tags": []
   },
   "outputs": [
    {
     "data": {
      "text/plain": [
       "151.88331005254167"
      ]
     },
     "execution_count": 17,
     "metadata": {},
     "output_type": "execute_result"
    }
   ],
   "source": [
    "reg.intercept_"
   ]
  },
  {
   "cell_type": "markdown",
   "id": "e89481b0",
   "metadata": {
    "papermill": {
     "duration": 0.007302,
     "end_time": "2024-06-10T07:06:25.526258",
     "exception": false,
     "start_time": "2024-06-10T07:06:25.518956",
     "status": "completed"
    },
    "tags": []
   },
   "source": [
    "# **Making our own Linear Regression Class**"
   ]
  },
  {
   "cell_type": "code",
   "execution_count": 18,
   "id": "73d343ba",
   "metadata": {
    "execution": {
     "iopub.execute_input": "2024-06-10T07:06:25.542992Z",
     "iopub.status.busy": "2024-06-10T07:06:25.542630Z",
     "iopub.status.idle": "2024-06-10T07:06:25.549938Z",
     "shell.execute_reply": "2024-06-10T07:06:25.548720Z"
    },
    "papermill": {
     "duration": 0.018335,
     "end_time": "2024-06-10T07:06:25.552150",
     "exception": false,
     "start_time": "2024-06-10T07:06:25.533815",
     "status": "completed"
    },
    "tags": []
   },
   "outputs": [],
   "source": [
    "class LR:\n",
    "    \n",
    "    def __init__(self):\n",
    "        self.coef_ = None\n",
    "        self.intercept_ = None\n",
    "        \n",
    "    def fit(self,X_train,y_train):\n",
    "        X_train=np.insert(X_train,0,1,axis=1)\n",
    "        \n",
    "        # calcuate the coeffs\n",
    "        betas=np.linalg.inv(np.dot(X_train.T,X_train)).dot(X_train.T).dot(y_train)\n",
    "        self.intercept_ = betas[0]\n",
    "        self.coef_ = betas[1:]\n",
    "        \n",
    "    def predict(self,X_test):\n",
    "        y_pred = np.dot(X_test,self.coef_) + self.intercept_\n",
    "        return y_pred"
   ]
  },
  {
   "cell_type": "code",
   "execution_count": 19,
   "id": "61eff4fe",
   "metadata": {
    "execution": {
     "iopub.execute_input": "2024-06-10T07:06:25.568950Z",
     "iopub.status.busy": "2024-06-10T07:06:25.568573Z",
     "iopub.status.idle": "2024-06-10T07:06:25.573518Z",
     "shell.execute_reply": "2024-06-10T07:06:25.572404Z"
    },
    "papermill": {
     "duration": 0.016399,
     "end_time": "2024-06-10T07:06:25.576143",
     "exception": false,
     "start_time": "2024-06-10T07:06:25.559744",
     "status": "completed"
    },
    "tags": []
   },
   "outputs": [],
   "source": [
    "lr=LR()"
   ]
  },
  {
   "cell_type": "code",
   "execution_count": 20,
   "id": "34447e61",
   "metadata": {
    "execution": {
     "iopub.execute_input": "2024-06-10T07:06:25.593292Z",
     "iopub.status.busy": "2024-06-10T07:06:25.592895Z",
     "iopub.status.idle": "2024-06-10T07:06:25.600257Z",
     "shell.execute_reply": "2024-06-10T07:06:25.599048Z"
    },
    "papermill": {
     "duration": 0.019806,
     "end_time": "2024-06-10T07:06:25.603833",
     "exception": false,
     "start_time": "2024-06-10T07:06:25.584027",
     "status": "completed"
    },
    "tags": []
   },
   "outputs": [],
   "source": [
    "lr.fit(X_train,y_train)"
   ]
  },
  {
   "cell_type": "code",
   "execution_count": 21,
   "id": "5bb321b5",
   "metadata": {
    "execution": {
     "iopub.execute_input": "2024-06-10T07:06:25.631215Z",
     "iopub.status.busy": "2024-06-10T07:06:25.630612Z",
     "iopub.status.idle": "2024-06-10T07:06:25.638679Z",
     "shell.execute_reply": "2024-06-10T07:06:25.637569Z"
    },
    "papermill": {
     "duration": 0.024974,
     "end_time": "2024-06-10T07:06:25.641429",
     "exception": false,
     "start_time": "2024-06-10T07:06:25.616455",
     "status": "completed"
    },
    "tags": []
   },
   "outputs": [
    {
     "data": {
      "text/plain": [
       "(353, 10)"
      ]
     },
     "execution_count": 21,
     "metadata": {},
     "output_type": "execute_result"
    }
   ],
   "source": [
    "X_train.shape"
   ]
  },
  {
   "cell_type": "code",
   "execution_count": 22,
   "id": "987b6c0a",
   "metadata": {
    "execution": {
     "iopub.execute_input": "2024-06-10T07:06:25.669210Z",
     "iopub.status.busy": "2024-06-10T07:06:25.668618Z",
     "iopub.status.idle": "2024-06-10T07:06:25.677248Z",
     "shell.execute_reply": "2024-06-10T07:06:25.676173Z"
    },
    "papermill": {
     "duration": 0.025908,
     "end_time": "2024-06-10T07:06:25.679997",
     "exception": false,
     "start_time": "2024-06-10T07:06:25.654089",
     "status": "completed"
    },
    "tags": []
   },
   "outputs": [
    {
     "data": {
      "text/plain": [
       "(353, 11)"
      ]
     },
     "execution_count": 22,
     "metadata": {},
     "output_type": "execute_result"
    }
   ],
   "source": [
    "np.insert(X_train,0,1,axis=1).shape"
   ]
  },
  {
   "cell_type": "code",
   "execution_count": 23,
   "id": "ffffed54",
   "metadata": {
    "execution": {
     "iopub.execute_input": "2024-06-10T07:06:25.707742Z",
     "iopub.status.busy": "2024-06-10T07:06:25.707182Z",
     "iopub.status.idle": "2024-06-10T07:06:25.713084Z",
     "shell.execute_reply": "2024-06-10T07:06:25.711959Z"
    },
    "papermill": {
     "duration": 0.022949,
     "end_time": "2024-06-10T07:06:25.715812",
     "exception": false,
     "start_time": "2024-06-10T07:06:25.692863",
     "status": "completed"
    },
    "tags": []
   },
   "outputs": [],
   "source": [
    "y_pred = lr.predict(X_test)"
   ]
  },
  {
   "cell_type": "code",
   "execution_count": 24,
   "id": "0fd6ea7e",
   "metadata": {
    "execution": {
     "iopub.execute_input": "2024-06-10T07:06:25.734552Z",
     "iopub.status.busy": "2024-06-10T07:06:25.734174Z",
     "iopub.status.idle": "2024-06-10T07:06:25.740665Z",
     "shell.execute_reply": "2024-06-10T07:06:25.739897Z"
    },
    "papermill": {
     "duration": 0.017375,
     "end_time": "2024-06-10T07:06:25.742570",
     "exception": false,
     "start_time": "2024-06-10T07:06:25.725195",
     "status": "completed"
    },
    "tags": []
   },
   "outputs": [
    {
     "data": {
      "text/plain": [
       "0.43993386615689634"
      ]
     },
     "execution_count": 24,
     "metadata": {},
     "output_type": "execute_result"
    }
   ],
   "source": [
    "r2_score(y_test,y_pred)"
   ]
  },
  {
   "cell_type": "code",
   "execution_count": 25,
   "id": "ae1ffdf5",
   "metadata": {
    "execution": {
     "iopub.execute_input": "2024-06-10T07:06:25.760852Z",
     "iopub.status.busy": "2024-06-10T07:06:25.759956Z",
     "iopub.status.idle": "2024-06-10T07:06:25.767192Z",
     "shell.execute_reply": "2024-06-10T07:06:25.766135Z"
    },
    "papermill": {
     "duration": 0.018738,
     "end_time": "2024-06-10T07:06:25.769232",
     "exception": false,
     "start_time": "2024-06-10T07:06:25.750494",
     "status": "completed"
    },
    "tags": []
   },
   "outputs": [
    {
     "data": {
      "text/plain": [
       "array([  -9.15865318, -205.45432163,  516.69374454,  340.61999905,\n",
       "       -895.5520019 ,  561.22067904,  153.89310954,  126.73139688,\n",
       "        861.12700152,   52.42112238])"
      ]
     },
     "execution_count": 25,
     "metadata": {},
     "output_type": "execute_result"
    }
   ],
   "source": [
    "lr.coef_"
   ]
  },
  {
   "cell_type": "code",
   "execution_count": 26,
   "id": "a258080e",
   "metadata": {
    "execution": {
     "iopub.execute_input": "2024-06-10T07:06:25.786884Z",
     "iopub.status.busy": "2024-06-10T07:06:25.786494Z",
     "iopub.status.idle": "2024-06-10T07:06:25.793158Z",
     "shell.execute_reply": "2024-06-10T07:06:25.792063Z"
    },
    "papermill": {
     "duration": 0.018153,
     "end_time": "2024-06-10T07:06:25.795423",
     "exception": false,
     "start_time": "2024-06-10T07:06:25.777270",
     "status": "completed"
    },
    "tags": []
   },
   "outputs": [
    {
     "data": {
      "text/plain": [
       "151.88331005254165"
      ]
     },
     "execution_count": 26,
     "metadata": {},
     "output_type": "execute_result"
    }
   ],
   "source": [
    "lr.intercept_"
   ]
  },
  {
   "cell_type": "code",
   "execution_count": null,
   "id": "4a39a19e",
   "metadata": {
    "papermill": {
     "duration": 0.007826,
     "end_time": "2024-06-10T07:06:25.811462",
     "exception": false,
     "start_time": "2024-06-10T07:06:25.803636",
     "status": "completed"
    },
    "tags": []
   },
   "outputs": [],
   "source": []
  }
 ],
 "metadata": {
  "kaggle": {
   "accelerator": "none",
   "dataSources": [],
   "dockerImageVersionId": 30732,
   "isGpuEnabled": false,
   "isInternetEnabled": false,
   "language": "python",
   "sourceType": "notebook"
  },
  "kernelspec": {
   "display_name": "Python 3",
   "language": "python",
   "name": "python3"
  },
  "language_info": {
   "codemirror_mode": {
    "name": "ipython",
    "version": 3
   },
   "file_extension": ".py",
   "mimetype": "text/x-python",
   "name": "python",
   "nbconvert_exporter": "python",
   "pygments_lexer": "ipython3",
   "version": "3.10.13"
  },
  "papermill": {
   "default_parameters": {},
   "duration": 5.635145,
   "end_time": "2024-06-10T07:06:26.340099",
   "environment_variables": {},
   "exception": null,
   "input_path": "__notebook__.ipynb",
   "output_path": "__notebook__.ipynb",
   "parameters": {},
   "start_time": "2024-06-10T07:06:20.704954",
   "version": "2.5.0"
  }
 },
 "nbformat": 4,
 "nbformat_minor": 5
}
