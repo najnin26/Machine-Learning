{
 "cells": [
  {
   "cell_type": "code",
   "execution_count": 1,
   "id": "b0c90fa6",
   "metadata": {
    "_cell_guid": "b1076dfc-b9ad-4769-8c92-a6c4dae69d19",
    "_uuid": "8f2839f25d086af736a60e9eeb907d3b93b6e0e5",
    "execution": {
     "iopub.execute_input": "2024-06-10T05:51:40.277519Z",
     "iopub.status.busy": "2024-06-10T05:51:40.277062Z",
     "iopub.status.idle": "2024-06-10T05:51:43.947688Z",
     "shell.execute_reply": "2024-06-10T05:51:43.946119Z"
    },
    "papermill": {
     "duration": 3.682717,
     "end_time": "2024-06-10T05:51:43.950686",
     "exception": false,
     "start_time": "2024-06-10T05:51:40.267969",
     "status": "completed"
    },
    "tags": []
   },
   "outputs": [],
   "source": [
    "from sklearn.datasets import make_regression\n",
    "import pandas as pd\n",
    "import numpy as np\n",
    "\n",
    "import plotly.express as px\n",
    "import plotly.graph_objects as go\n",
    "\n",
    "from sklearn.metrics import mean_absolute_error,mean_squared_error,r2_score"
   ]
  },
  {
   "cell_type": "code",
   "execution_count": 2,
   "id": "68d3ee42",
   "metadata": {
    "execution": {
     "iopub.execute_input": "2024-06-10T05:51:43.966330Z",
     "iopub.status.busy": "2024-06-10T05:51:43.965555Z",
     "iopub.status.idle": "2024-06-10T05:51:43.972778Z",
     "shell.execute_reply": "2024-06-10T05:51:43.971549Z"
    },
    "papermill": {
     "duration": 0.017615,
     "end_time": "2024-06-10T05:51:43.975346",
     "exception": false,
     "start_time": "2024-06-10T05:51:43.957731",
     "status": "completed"
    },
    "tags": []
   },
   "outputs": [],
   "source": [
    "X,y=make_regression(n_samples=100,n_features=2,n_informative=2,n_targets=1,noise=0)"
   ]
  },
  {
   "cell_type": "code",
   "execution_count": 3,
   "id": "c23f9a03",
   "metadata": {
    "execution": {
     "iopub.execute_input": "2024-06-10T05:51:43.990537Z",
     "iopub.status.busy": "2024-06-10T05:51:43.990085Z",
     "iopub.status.idle": "2024-06-10T05:51:44.000317Z",
     "shell.execute_reply": "2024-06-10T05:51:43.998755Z"
    },
    "papermill": {
     "duration": 0.022848,
     "end_time": "2024-06-10T05:51:44.004764",
     "exception": false,
     "start_time": "2024-06-10T05:51:43.981916",
     "status": "completed"
    },
    "tags": []
   },
   "outputs": [],
   "source": [
    "df=pd.DataFrame({'feature1':X[:,0],'feature2':X[:,-1],'target':y})"
   ]
  },
  {
   "cell_type": "code",
   "execution_count": 4,
   "id": "8eaed4c2",
   "metadata": {
    "execution": {
     "iopub.execute_input": "2024-06-10T05:51:44.021184Z",
     "iopub.status.busy": "2024-06-10T05:51:44.020771Z",
     "iopub.status.idle": "2024-06-10T05:51:44.048007Z",
     "shell.execute_reply": "2024-06-10T05:51:44.046777Z"
    },
    "papermill": {
     "duration": 0.03901,
     "end_time": "2024-06-10T05:51:44.050811",
     "exception": false,
     "start_time": "2024-06-10T05:51:44.011801",
     "status": "completed"
    },
    "tags": []
   },
   "outputs": [
    {
     "data": {
      "text/html": [
       "<div>\n",
       "<style scoped>\n",
       "    .dataframe tbody tr th:only-of-type {\n",
       "        vertical-align: middle;\n",
       "    }\n",
       "\n",
       "    .dataframe tbody tr th {\n",
       "        vertical-align: top;\n",
       "    }\n",
       "\n",
       "    .dataframe thead th {\n",
       "        text-align: right;\n",
       "    }\n",
       "</style>\n",
       "<table border=\"1\" class=\"dataframe\">\n",
       "  <thead>\n",
       "    <tr style=\"text-align: right;\">\n",
       "      <th></th>\n",
       "      <th>feature1</th>\n",
       "      <th>feature2</th>\n",
       "      <th>target</th>\n",
       "    </tr>\n",
       "  </thead>\n",
       "  <tbody>\n",
       "    <tr>\n",
       "      <th>0</th>\n",
       "      <td>-0.532282</td>\n",
       "      <td>0.404395</td>\n",
       "      <td>-31.785518</td>\n",
       "    </tr>\n",
       "    <tr>\n",
       "      <th>1</th>\n",
       "      <td>1.532826</td>\n",
       "      <td>-0.743131</td>\n",
       "      <td>95.774046</td>\n",
       "    </tr>\n",
       "    <tr>\n",
       "      <th>2</th>\n",
       "      <td>-0.077142</td>\n",
       "      <td>-0.500268</td>\n",
       "      <td>-10.230329</td>\n",
       "    </tr>\n",
       "    <tr>\n",
       "      <th>3</th>\n",
       "      <td>1.435675</td>\n",
       "      <td>-0.751338</td>\n",
       "      <td>89.147348</td>\n",
       "    </tr>\n",
       "    <tr>\n",
       "      <th>4</th>\n",
       "      <td>-0.240429</td>\n",
       "      <td>1.549277</td>\n",
       "      <td>-0.605742</td>\n",
       "    </tr>\n",
       "  </tbody>\n",
       "</table>\n",
       "</div>"
      ],
      "text/plain": [
       "   feature1  feature2     target\n",
       "0 -0.532282  0.404395 -31.785518\n",
       "1  1.532826 -0.743131  95.774046\n",
       "2 -0.077142 -0.500268 -10.230329\n",
       "3  1.435675 -0.751338  89.147348\n",
       "4 -0.240429  1.549277  -0.605742"
      ]
     },
     "execution_count": 4,
     "metadata": {},
     "output_type": "execute_result"
    }
   ],
   "source": [
    "df.head()"
   ]
  },
  {
   "cell_type": "code",
   "execution_count": 5,
   "id": "aa334713",
   "metadata": {
    "execution": {
     "iopub.execute_input": "2024-06-10T05:51:44.068823Z",
     "iopub.status.busy": "2024-06-10T05:51:44.067833Z",
     "iopub.status.idle": "2024-06-10T05:51:44.076184Z",
     "shell.execute_reply": "2024-06-10T05:51:44.074888Z"
    },
    "papermill": {
     "duration": 0.020315,
     "end_time": "2024-06-10T05:51:44.079180",
     "exception": false,
     "start_time": "2024-06-10T05:51:44.058865",
     "status": "completed"
    },
    "tags": []
   },
   "outputs": [
    {
     "data": {
      "text/plain": [
       "(100, 3)"
      ]
     },
     "execution_count": 5,
     "metadata": {},
     "output_type": "execute_result"
    }
   ],
   "source": [
    "df.shape"
   ]
  },
  {
   "cell_type": "code",
   "execution_count": 6,
   "id": "5141f2d1",
   "metadata": {
    "execution": {
     "iopub.execute_input": "2024-06-10T05:51:44.095993Z",
     "iopub.status.busy": "2024-06-10T05:51:44.095575Z",
     "iopub.status.idle": "2024-06-10T05:51:44.125132Z",
     "shell.execute_reply": "2024-06-10T05:51:44.123854Z"
    },
    "papermill": {
     "duration": 0.0417,
     "end_time": "2024-06-10T05:51:44.128004",
     "exception": false,
     "start_time": "2024-06-10T05:51:44.086304",
     "status": "completed"
    },
    "tags": []
   },
   "outputs": [
    {
     "data": {
      "text/html": [
       "<div>\n",
       "<style scoped>\n",
       "    .dataframe tbody tr th:only-of-type {\n",
       "        vertical-align: middle;\n",
       "    }\n",
       "\n",
       "    .dataframe tbody tr th {\n",
       "        vertical-align: top;\n",
       "    }\n",
       "\n",
       "    .dataframe thead th {\n",
       "        text-align: right;\n",
       "    }\n",
       "</style>\n",
       "<table border=\"1\" class=\"dataframe\">\n",
       "  <thead>\n",
       "    <tr style=\"text-align: right;\">\n",
       "      <th></th>\n",
       "      <th>feature1</th>\n",
       "      <th>feature2</th>\n",
       "      <th>target</th>\n",
       "    </tr>\n",
       "  </thead>\n",
       "  <tbody>\n",
       "    <tr>\n",
       "      <th>count</th>\n",
       "      <td>100.000000</td>\n",
       "      <td>100.000000</td>\n",
       "      <td>100.000000</td>\n",
       "    </tr>\n",
       "    <tr>\n",
       "      <th>mean</th>\n",
       "      <td>-0.063347</td>\n",
       "      <td>0.145224</td>\n",
       "      <td>-2.805741</td>\n",
       "    </tr>\n",
       "    <tr>\n",
       "      <th>std</th>\n",
       "      <td>0.972447</td>\n",
       "      <td>1.039539</td>\n",
       "      <td>65.382922</td>\n",
       "    </tr>\n",
       "    <tr>\n",
       "      <th>min</th>\n",
       "      <td>-2.364419</td>\n",
       "      <td>-1.888777</td>\n",
       "      <td>-148.755128</td>\n",
       "    </tr>\n",
       "    <tr>\n",
       "      <th>25%</th>\n",
       "      <td>-0.738256</td>\n",
       "      <td>-0.589265</td>\n",
       "      <td>-38.567545</td>\n",
       "    </tr>\n",
       "    <tr>\n",
       "      <th>50%</th>\n",
       "      <td>-0.099273</td>\n",
       "      <td>0.066259</td>\n",
       "      <td>-2.485444</td>\n",
       "    </tr>\n",
       "    <tr>\n",
       "      <th>75%</th>\n",
       "      <td>0.681192</td>\n",
       "      <td>0.807237</td>\n",
       "      <td>50.070869</td>\n",
       "    </tr>\n",
       "    <tr>\n",
       "      <th>max</th>\n",
       "      <td>2.690122</td>\n",
       "      <td>3.788469</td>\n",
       "      <td>180.080778</td>\n",
       "    </tr>\n",
       "  </tbody>\n",
       "</table>\n",
       "</div>"
      ],
      "text/plain": [
       "         feature1    feature2      target\n",
       "count  100.000000  100.000000  100.000000\n",
       "mean    -0.063347    0.145224   -2.805741\n",
       "std      0.972447    1.039539   65.382922\n",
       "min     -2.364419   -1.888777 -148.755128\n",
       "25%     -0.738256   -0.589265  -38.567545\n",
       "50%     -0.099273    0.066259   -2.485444\n",
       "75%      0.681192    0.807237   50.070869\n",
       "max      2.690122    3.788469  180.080778"
      ]
     },
     "execution_count": 6,
     "metadata": {},
     "output_type": "execute_result"
    }
   ],
   "source": [
    "df.describe()"
   ]
  },
  {
   "cell_type": "code",
   "execution_count": 7,
   "id": "bf0d3f83",
   "metadata": {
    "execution": {
     "iopub.execute_input": "2024-06-10T05:51:44.144919Z",
     "iopub.status.busy": "2024-06-10T05:51:44.144452Z",
     "iopub.status.idle": "2024-06-10T05:51:46.553240Z",
     "shell.execute_reply": "2024-06-10T05:51:46.551961Z"
    },
    "papermill": {
     "duration": 2.420358,
     "end_time": "2024-06-10T05:51:46.555926",
     "exception": false,
     "start_time": "2024-06-10T05:51:44.135568",
     "status": "completed"
    },
    "tags": []
   },
   "outputs": [
    {
     "data": {
      "text/html": [
       "        <script type=\"text/javascript\">\n",
       "        window.PlotlyConfig = {MathJaxConfig: 'local'};\n",
       "        if (window.MathJax && window.MathJax.Hub && window.MathJax.Hub.Config) {window.MathJax.Hub.Config({SVG: {font: \"STIX-Web\"}});}\n",
       "        if (typeof require !== 'undefined') {\n",
       "        require.undef(\"plotly\");\n",
       "        requirejs.config({\n",
       "            paths: {\n",
       "                'plotly': ['https://cdn.plot.ly/plotly-2.27.0.min']\n",
       "            }\n",
       "        });\n",
       "        require(['plotly'], function(Plotly) {\n",
       "            window._Plotly = Plotly;\n",
       "        });\n",
       "        }\n",
       "        </script>\n",
       "        "
      ]
     },
     "metadata": {},
     "output_type": "display_data"
    },
    {
     "data": {
      "text/html": [
       "<div>                            <div id=\"bae69d54-7be5-47f4-a9c0-34a17fecf792\" class=\"plotly-graph-div\" style=\"height:525px; width:100%;\"></div>            <script type=\"text/javascript\">                require([\"plotly\"], function(Plotly) {                    window.PLOTLYENV=window.PLOTLYENV || {};                                    if (document.getElementById(\"bae69d54-7be5-47f4-a9c0-34a17fecf792\")) {                    Plotly.newPlot(                        \"bae69d54-7be5-47f4-a9c0-34a17fecf792\",                        [{\"hovertemplate\":\"feature1=%{x}\\u003cbr\\u003efeature2=%{y}\\u003cbr\\u003etarget=%{z}\\u003cextra\\u003e\\u003c\\u002fextra\\u003e\",\"legendgroup\":\"\",\"marker\":{\"color\":\"#636efa\",\"symbol\":\"circle\"},\"mode\":\"markers\",\"name\":\"\",\"scene\":\"scene\",\"showlegend\":false,\"x\":[-0.5322820104631457,1.5328255287291368,-0.07714245128556678,1.4356748893879259,-0.24042945047812256,-0.7331577040153108,0.1979772010178779,0.7699975258434874,0.856436180306386,-0.636280530733257,0.15887736989897222,-2.1818376419848495,-0.1231716718632231,-0.017300171081009612,-0.19770591636602416,-1.0399161563269204,-0.5862491300505775,1.8797001871812224,0.4499735535968359,-0.3888987560476523,-1.1179001563575128,-1.2302067406073494,-0.879030064693905,0.14013573242964095,-0.48773430712286936,-0.9026638556850535,-0.013910450544037622,-2.235522472392381,0.7029849892153225,0.6503809875638726,0.783625085915005,0.7626052050338171,0.22937284684954792,0.09391562709499414,-1.3165797877747447,-1.1387604755212983,-0.12140327008425178,-0.49997688793747164,0.22914294787916528,0.6739279602923399,0.16629995724960228,-0.8922854719893378,-1.2430244607202072,-0.3451338485974725,-0.027858535296974362,-0.9971149005128037,0.7788930175937495,1.1347698030406723,1.0907043696441576,-1.210705339749962,-2.3644192802931565,0.7774779824057824,-1.2311309588671162,0.4322848713038923,-0.22370919874617717,-0.20367812750857797,-0.2037405054616495,-0.14540344674050829,0.4373332622489629,0.5956006888309175,0.8450224074331129,-0.7535525800421016,-0.15820189790595823,0.9427838976364709,-0.3077572618693508,0.8360620114254489,0.2918382413886794,2.6901218005511285,-0.8536122379739781,-1.2740690656282054,0.8447582373945531,0.9043825299447957,0.17145695867629832,0.19064587665435237,-0.27325886220890494,0.2522727697719366,0.7056093521611483,-0.7864987718474435,1.4056034708851919,1.0571056556864242,-0.4548737565869845,-0.16876210840114664,-0.3175849165290031,0.3082313534654755,-0.2604984046733234,0.011741508802889768,-2.0699662821984814,0.5757117485004684,1.9241961632371025,-1.6673202294906666,-0.9231705361538489,-1.9898298104037162,-1.764289931951353,-0.037015168784686456,-0.1303225752527702,-0.21542194280903004,-0.9841670469527706,1.2599803447923534,0.9494690646401983,1.7138527947461992],\"y\":[0.4043949376608636,-0.7431312660074821,-0.5002678621138029,-0.7513384162074398,1.5492771542848436,0.8658762768481254,-0.14137821251963548,0.4397224699681254,2.0872715434538094,-1.3388456107583422,0.05975819072788224,-0.17744124574542713,-0.5260269968142796,-1.31901411638195,2.6189978803654217,-0.21695800155908043,0.4876688385176456,-0.6499036235371874,-0.44211532619123833,-0.4601978137197624,0.697848416151962,-0.10765022476581769,0.012256528137811471,-0.8003158857414601,-0.043399752330146445,-0.5765230440473427,-0.855023451953909,1.339506794319859,0.5761380327646098,-0.8056110570230144,0.8606109208012969,0.8939089592498314,1.1116257763326691,1.000062276284122,-0.7650778663706507,-1.03073145646163,0.49043453243797747,1.363075177339987,-1.3520786109050649,0.10521220274174418,-0.9722199825252472,0.07276024550244249,0.4543470220744044,-0.9693610552330679,-0.32194338998850247,-0.6274915209485546,-0.2839454314430785,0.18364437213157345,0.23271742204371407,-1.1889776023597374,2.407236960376045,-1.518285706501472,-0.15977419448201782,2.2961449702359724,0.9771364972440671,1.1917162930159773,-1.538928781708799,-1.4091947763077513,-0.02799485164261409,1.7951488035505763,0.3625825762988884,1.4299178769353336,0.22117580600638181,0.7894456177322645,0.3700262777976123,-0.1310442461874326,-0.39659415662310954,-0.11200895920189981,-0.29979544682626313,-0.5350576696261162,-0.559819034004811,0.7889076435489782,3.7884685230514417,-0.5667969748863046,0.5594448541600627,0.5240817522713153,1.1295701252062447,1.501920895167451,-1.0189319173582319,0.7625581207087049,0.3628219524055351,1.0971270103488784,-0.22232776624214853,-1.8887768483992793,-1.311731295764201,0.1109368011577981,1.046283558020326,0.5890744996809939,0.08706288316706545,0.513428783136697,1.4003710507149356,-1.0762990127024865,1.9198124556309684,-0.2053964776591376,0.8864320434825613,0.3036191403134231,-1.2855274123259786,1.3885953176271717,-0.7858550952609527,-0.9686589303202087],\"z\":[-31.785517975373082,95.77404617513649,-10.23032895204332,89.14734825896204,-0.6057419889865493,-40.67291440168024,11.913210556492048,56.292132157780735,78.6932474925319,-56.33237568233677,11.30337524431955,-148.75512775769832,-13.590081910790115,-14.438010658276696,13.036267904162083,-72.23239703255949,-34.58281974451383,120.07779603844456,25.861617653172903,-30.827173480733986,-68.28013867204207,-83.95054424309689,-59.08854821585129,1.3863799054542805,-33.290726027077966,-66.60516321972541,-9.540742077308233,-137.10697769954174,53.150826269773496,35.703458273601484,61.44530769472751,60.364462209056,26.63646796806451,16.389390896989283,-96.38408071345296,-87.07924391057233,-3.2427531101827562,-19.96264912396944,1.829800657614532,46.45481013139363,1.4190186006258263,-59.372616229140775,-79.1588190850407,-33.002635964083304,-5.116139816851276,-73.48030372877241,49.60938265876803,78.28656296965023,75.81209523311446,-93.51784579404615,-135.0454252332262,37.093438139763116,-84.5373007632795,52.22401706695413,-5.236659480733567,-1.7281342964089306,-29.209624861831877,-23.974556400956526,29.177275123363952,58.18374205474717,60.56961855578578,-36.37101861068183,-8.430959022772013,71.45021505687818,-17.00726168516468,54.99889092947347,15.66760798646613,180.08077773792692,-60.51643413668766,-91.20594561595576,51.27009939862744,68.85806739375877,49.67112581714076,7.138565884102871,-12.777396787223543,22.26681869144483,58.89655002781982,-37.865754725883356,84.42904677792058,78.88042553167784,-26.98959222927728,-0.3279853981174776,-23.62985717449387,1.7566730528294194,-30.74667468746545,1.9072221557957543,-128.90561189875424,44.70781468320016,130.4908380813545,-107.1450684983089,-48.09388104885243,-144.86620266704745,-99.5251688052387,-4.560174297046809,0.14118827999424854,-11.455737005896946,-79.22965797074025,98.84569928944778,56.048968013177266,105.6987419243887],\"type\":\"scatter3d\"}],                        {\"template\":{\"data\":{\"histogram2dcontour\":[{\"type\":\"histogram2dcontour\",\"colorbar\":{\"outlinewidth\":0,\"ticks\":\"\"},\"colorscale\":[[0.0,\"#0d0887\"],[0.1111111111111111,\"#46039f\"],[0.2222222222222222,\"#7201a8\"],[0.3333333333333333,\"#9c179e\"],[0.4444444444444444,\"#bd3786\"],[0.5555555555555556,\"#d8576b\"],[0.6666666666666666,\"#ed7953\"],[0.7777777777777778,\"#fb9f3a\"],[0.8888888888888888,\"#fdca26\"],[1.0,\"#f0f921\"]]}],\"choropleth\":[{\"type\":\"choropleth\",\"colorbar\":{\"outlinewidth\":0,\"ticks\":\"\"}}],\"histogram2d\":[{\"type\":\"histogram2d\",\"colorbar\":{\"outlinewidth\":0,\"ticks\":\"\"},\"colorscale\":[[0.0,\"#0d0887\"],[0.1111111111111111,\"#46039f\"],[0.2222222222222222,\"#7201a8\"],[0.3333333333333333,\"#9c179e\"],[0.4444444444444444,\"#bd3786\"],[0.5555555555555556,\"#d8576b\"],[0.6666666666666666,\"#ed7953\"],[0.7777777777777778,\"#fb9f3a\"],[0.8888888888888888,\"#fdca26\"],[1.0,\"#f0f921\"]]}],\"heatmap\":[{\"type\":\"heatmap\",\"colorbar\":{\"outlinewidth\":0,\"ticks\":\"\"},\"colorscale\":[[0.0,\"#0d0887\"],[0.1111111111111111,\"#46039f\"],[0.2222222222222222,\"#7201a8\"],[0.3333333333333333,\"#9c179e\"],[0.4444444444444444,\"#bd3786\"],[0.5555555555555556,\"#d8576b\"],[0.6666666666666666,\"#ed7953\"],[0.7777777777777778,\"#fb9f3a\"],[0.8888888888888888,\"#fdca26\"],[1.0,\"#f0f921\"]]}],\"heatmapgl\":[{\"type\":\"heatmapgl\",\"colorbar\":{\"outlinewidth\":0,\"ticks\":\"\"},\"colorscale\":[[0.0,\"#0d0887\"],[0.1111111111111111,\"#46039f\"],[0.2222222222222222,\"#7201a8\"],[0.3333333333333333,\"#9c179e\"],[0.4444444444444444,\"#bd3786\"],[0.5555555555555556,\"#d8576b\"],[0.6666666666666666,\"#ed7953\"],[0.7777777777777778,\"#fb9f3a\"],[0.8888888888888888,\"#fdca26\"],[1.0,\"#f0f921\"]]}],\"contourcarpet\":[{\"type\":\"contourcarpet\",\"colorbar\":{\"outlinewidth\":0,\"ticks\":\"\"}}],\"contour\":[{\"type\":\"contour\",\"colorbar\":{\"outlinewidth\":0,\"ticks\":\"\"},\"colorscale\":[[0.0,\"#0d0887\"],[0.1111111111111111,\"#46039f\"],[0.2222222222222222,\"#7201a8\"],[0.3333333333333333,\"#9c179e\"],[0.4444444444444444,\"#bd3786\"],[0.5555555555555556,\"#d8576b\"],[0.6666666666666666,\"#ed7953\"],[0.7777777777777778,\"#fb9f3a\"],[0.8888888888888888,\"#fdca26\"],[1.0,\"#f0f921\"]]}],\"surface\":[{\"type\":\"surface\",\"colorbar\":{\"outlinewidth\":0,\"ticks\":\"\"},\"colorscale\":[[0.0,\"#0d0887\"],[0.1111111111111111,\"#46039f\"],[0.2222222222222222,\"#7201a8\"],[0.3333333333333333,\"#9c179e\"],[0.4444444444444444,\"#bd3786\"],[0.5555555555555556,\"#d8576b\"],[0.6666666666666666,\"#ed7953\"],[0.7777777777777778,\"#fb9f3a\"],[0.8888888888888888,\"#fdca26\"],[1.0,\"#f0f921\"]]}],\"mesh3d\":[{\"type\":\"mesh3d\",\"colorbar\":{\"outlinewidth\":0,\"ticks\":\"\"}}],\"scatter\":[{\"fillpattern\":{\"fillmode\":\"overlay\",\"size\":10,\"solidity\":0.2},\"type\":\"scatter\"}],\"parcoords\":[{\"type\":\"parcoords\",\"line\":{\"colorbar\":{\"outlinewidth\":0,\"ticks\":\"\"}}}],\"scatterpolargl\":[{\"type\":\"scatterpolargl\",\"marker\":{\"colorbar\":{\"outlinewidth\":0,\"ticks\":\"\"}}}],\"bar\":[{\"error_x\":{\"color\":\"#2a3f5f\"},\"error_y\":{\"color\":\"#2a3f5f\"},\"marker\":{\"line\":{\"color\":\"#E5ECF6\",\"width\":0.5},\"pattern\":{\"fillmode\":\"overlay\",\"size\":10,\"solidity\":0.2}},\"type\":\"bar\"}],\"scattergeo\":[{\"type\":\"scattergeo\",\"marker\":{\"colorbar\":{\"outlinewidth\":0,\"ticks\":\"\"}}}],\"scatterpolar\":[{\"type\":\"scatterpolar\",\"marker\":{\"colorbar\":{\"outlinewidth\":0,\"ticks\":\"\"}}}],\"histogram\":[{\"marker\":{\"pattern\":{\"fillmode\":\"overlay\",\"size\":10,\"solidity\":0.2}},\"type\":\"histogram\"}],\"scattergl\":[{\"type\":\"scattergl\",\"marker\":{\"colorbar\":{\"outlinewidth\":0,\"ticks\":\"\"}}}],\"scatter3d\":[{\"type\":\"scatter3d\",\"line\":{\"colorbar\":{\"outlinewidth\":0,\"ticks\":\"\"}},\"marker\":{\"colorbar\":{\"outlinewidth\":0,\"ticks\":\"\"}}}],\"scattermapbox\":[{\"type\":\"scattermapbox\",\"marker\":{\"colorbar\":{\"outlinewidth\":0,\"ticks\":\"\"}}}],\"scatterternary\":[{\"type\":\"scatterternary\",\"marker\":{\"colorbar\":{\"outlinewidth\":0,\"ticks\":\"\"}}}],\"scattercarpet\":[{\"type\":\"scattercarpet\",\"marker\":{\"colorbar\":{\"outlinewidth\":0,\"ticks\":\"\"}}}],\"carpet\":[{\"aaxis\":{\"endlinecolor\":\"#2a3f5f\",\"gridcolor\":\"white\",\"linecolor\":\"white\",\"minorgridcolor\":\"white\",\"startlinecolor\":\"#2a3f5f\"},\"baxis\":{\"endlinecolor\":\"#2a3f5f\",\"gridcolor\":\"white\",\"linecolor\":\"white\",\"minorgridcolor\":\"white\",\"startlinecolor\":\"#2a3f5f\"},\"type\":\"carpet\"}],\"table\":[{\"cells\":{\"fill\":{\"color\":\"#EBF0F8\"},\"line\":{\"color\":\"white\"}},\"header\":{\"fill\":{\"color\":\"#C8D4E3\"},\"line\":{\"color\":\"white\"}},\"type\":\"table\"}],\"barpolar\":[{\"marker\":{\"line\":{\"color\":\"#E5ECF6\",\"width\":0.5},\"pattern\":{\"fillmode\":\"overlay\",\"size\":10,\"solidity\":0.2}},\"type\":\"barpolar\"}],\"pie\":[{\"automargin\":true,\"type\":\"pie\"}]},\"layout\":{\"autotypenumbers\":\"strict\",\"colorway\":[\"#636efa\",\"#EF553B\",\"#00cc96\",\"#ab63fa\",\"#FFA15A\",\"#19d3f3\",\"#FF6692\",\"#B6E880\",\"#FF97FF\",\"#FECB52\"],\"font\":{\"color\":\"#2a3f5f\"},\"hovermode\":\"closest\",\"hoverlabel\":{\"align\":\"left\"},\"paper_bgcolor\":\"white\",\"plot_bgcolor\":\"#E5ECF6\",\"polar\":{\"bgcolor\":\"#E5ECF6\",\"angularaxis\":{\"gridcolor\":\"white\",\"linecolor\":\"white\",\"ticks\":\"\"},\"radialaxis\":{\"gridcolor\":\"white\",\"linecolor\":\"white\",\"ticks\":\"\"}},\"ternary\":{\"bgcolor\":\"#E5ECF6\",\"aaxis\":{\"gridcolor\":\"white\",\"linecolor\":\"white\",\"ticks\":\"\"},\"baxis\":{\"gridcolor\":\"white\",\"linecolor\":\"white\",\"ticks\":\"\"},\"caxis\":{\"gridcolor\":\"white\",\"linecolor\":\"white\",\"ticks\":\"\"}},\"coloraxis\":{\"colorbar\":{\"outlinewidth\":0,\"ticks\":\"\"}},\"colorscale\":{\"sequential\":[[0.0,\"#0d0887\"],[0.1111111111111111,\"#46039f\"],[0.2222222222222222,\"#7201a8\"],[0.3333333333333333,\"#9c179e\"],[0.4444444444444444,\"#bd3786\"],[0.5555555555555556,\"#d8576b\"],[0.6666666666666666,\"#ed7953\"],[0.7777777777777778,\"#fb9f3a\"],[0.8888888888888888,\"#fdca26\"],[1.0,\"#f0f921\"]],\"sequentialminus\":[[0.0,\"#0d0887\"],[0.1111111111111111,\"#46039f\"],[0.2222222222222222,\"#7201a8\"],[0.3333333333333333,\"#9c179e\"],[0.4444444444444444,\"#bd3786\"],[0.5555555555555556,\"#d8576b\"],[0.6666666666666666,\"#ed7953\"],[0.7777777777777778,\"#fb9f3a\"],[0.8888888888888888,\"#fdca26\"],[1.0,\"#f0f921\"]],\"diverging\":[[0,\"#8e0152\"],[0.1,\"#c51b7d\"],[0.2,\"#de77ae\"],[0.3,\"#f1b6da\"],[0.4,\"#fde0ef\"],[0.5,\"#f7f7f7\"],[0.6,\"#e6f5d0\"],[0.7,\"#b8e186\"],[0.8,\"#7fbc41\"],[0.9,\"#4d9221\"],[1,\"#276419\"]]},\"xaxis\":{\"gridcolor\":\"white\",\"linecolor\":\"white\",\"ticks\":\"\",\"title\":{\"standoff\":15},\"zerolinecolor\":\"white\",\"automargin\":true,\"zerolinewidth\":2},\"yaxis\":{\"gridcolor\":\"white\",\"linecolor\":\"white\",\"ticks\":\"\",\"title\":{\"standoff\":15},\"zerolinecolor\":\"white\",\"automargin\":true,\"zerolinewidth\":2},\"scene\":{\"xaxis\":{\"backgroundcolor\":\"#E5ECF6\",\"gridcolor\":\"white\",\"linecolor\":\"white\",\"showbackground\":true,\"ticks\":\"\",\"zerolinecolor\":\"white\",\"gridwidth\":2},\"yaxis\":{\"backgroundcolor\":\"#E5ECF6\",\"gridcolor\":\"white\",\"linecolor\":\"white\",\"showbackground\":true,\"ticks\":\"\",\"zerolinecolor\":\"white\",\"gridwidth\":2},\"zaxis\":{\"backgroundcolor\":\"#E5ECF6\",\"gridcolor\":\"white\",\"linecolor\":\"white\",\"showbackground\":true,\"ticks\":\"\",\"zerolinecolor\":\"white\",\"gridwidth\":2}},\"shapedefaults\":{\"line\":{\"color\":\"#2a3f5f\"}},\"annotationdefaults\":{\"arrowcolor\":\"#2a3f5f\",\"arrowhead\":0,\"arrowwidth\":1},\"geo\":{\"bgcolor\":\"white\",\"landcolor\":\"#E5ECF6\",\"subunitcolor\":\"white\",\"showland\":true,\"showlakes\":true,\"lakecolor\":\"white\"},\"title\":{\"x\":0.05},\"mapbox\":{\"style\":\"light\"}}},\"scene\":{\"domain\":{\"x\":[0.0,1.0],\"y\":[0.0,1.0]},\"xaxis\":{\"title\":{\"text\":\"feature1\"}},\"yaxis\":{\"title\":{\"text\":\"feature2\"}},\"zaxis\":{\"title\":{\"text\":\"target\"}}},\"legend\":{\"tracegroupgap\":0},\"margin\":{\"t\":60}},                        {\"responsive\": true}                    ).then(function(){\n",
       "                            \n",
       "var gd = document.getElementById('bae69d54-7be5-47f4-a9c0-34a17fecf792');\n",
       "var x = new MutationObserver(function (mutations, observer) {{\n",
       "        var display = window.getComputedStyle(gd).display;\n",
       "        if (!display || display === 'none') {{\n",
       "            console.log([gd, 'removed!']);\n",
       "            Plotly.purge(gd);\n",
       "            observer.disconnect();\n",
       "        }}\n",
       "}});\n",
       "\n",
       "// Listen for the removal of the full notebook cells\n",
       "var notebookContainer = gd.closest('#notebook-container');\n",
       "if (notebookContainer) {{\n",
       "    x.observe(notebookContainer, {childList: true});\n",
       "}}\n",
       "\n",
       "// Listen for the clearing of the current output cell\n",
       "var outputEl = gd.closest('.output');\n",
       "if (outputEl) {{\n",
       "    x.observe(outputEl, {childList: true});\n",
       "}}\n",
       "\n",
       "                        })                };                });            </script>        </div>"
      ]
     },
     "metadata": {},
     "output_type": "display_data"
    }
   ],
   "source": [
    "fig = px.scatter_3d(df, x='feature1', y='feature2', z='target')\n",
    "\n",
    "fig.show()"
   ]
  },
  {
   "cell_type": "code",
   "execution_count": 8,
   "id": "7a409fe6",
   "metadata": {
    "execution": {
     "iopub.execute_input": "2024-06-10T05:51:46.573764Z",
     "iopub.status.busy": "2024-06-10T05:51:46.573346Z",
     "iopub.status.idle": "2024-06-10T05:51:46.590764Z",
     "shell.execute_reply": "2024-06-10T05:51:46.589186Z"
    },
    "papermill": {
     "duration": 0.029923,
     "end_time": "2024-06-10T05:51:46.593874",
     "exception": false,
     "start_time": "2024-06-10T05:51:46.563951",
     "status": "completed"
    },
    "tags": []
   },
   "outputs": [],
   "source": [
    "from sklearn.model_selection import train_test_split\n",
    "X_train,X_test,y_train,y_test = train_test_split(X,y,test_size=0.2,random_state=3)"
   ]
  },
  {
   "cell_type": "code",
   "execution_count": 9,
   "id": "1f50baee",
   "metadata": {
    "execution": {
     "iopub.execute_input": "2024-06-10T05:51:46.612376Z",
     "iopub.status.busy": "2024-06-10T05:51:46.611940Z",
     "iopub.status.idle": "2024-06-10T05:51:46.859279Z",
     "shell.execute_reply": "2024-06-10T05:51:46.858189Z"
    },
    "papermill": {
     "duration": 0.259795,
     "end_time": "2024-06-10T05:51:46.862096",
     "exception": false,
     "start_time": "2024-06-10T05:51:46.602301",
     "status": "completed"
    },
    "tags": []
   },
   "outputs": [],
   "source": [
    "from sklearn.linear_model import LinearRegression"
   ]
  },
  {
   "cell_type": "code",
   "execution_count": 10,
   "id": "eb344136",
   "metadata": {
    "execution": {
     "iopub.execute_input": "2024-06-10T05:51:46.879775Z",
     "iopub.status.busy": "2024-06-10T05:51:46.879304Z",
     "iopub.status.idle": "2024-06-10T05:51:46.884778Z",
     "shell.execute_reply": "2024-06-10T05:51:46.883530Z"
    },
    "papermill": {
     "duration": 0.017408,
     "end_time": "2024-06-10T05:51:46.887475",
     "exception": false,
     "start_time": "2024-06-10T05:51:46.870067",
     "status": "completed"
    },
    "tags": []
   },
   "outputs": [],
   "source": [
    "lr = LinearRegression()"
   ]
  },
  {
   "cell_type": "code",
   "execution_count": 11,
   "id": "09224265",
   "metadata": {
    "execution": {
     "iopub.execute_input": "2024-06-10T05:51:46.905551Z",
     "iopub.status.busy": "2024-06-10T05:51:46.905071Z",
     "iopub.status.idle": "2024-06-10T05:51:46.937894Z",
     "shell.execute_reply": "2024-06-10T05:51:46.936599Z"
    },
    "papermill": {
     "duration": 0.045445,
     "end_time": "2024-06-10T05:51:46.940802",
     "exception": false,
     "start_time": "2024-06-10T05:51:46.895357",
     "status": "completed"
    },
    "tags": []
   },
   "outputs": [
    {
     "data": {
      "text/html": [
       "<style>#sk-container-id-1 {color: black;background-color: white;}#sk-container-id-1 pre{padding: 0;}#sk-container-id-1 div.sk-toggleable {background-color: white;}#sk-container-id-1 label.sk-toggleable__label {cursor: pointer;display: block;width: 100%;margin-bottom: 0;padding: 0.3em;box-sizing: border-box;text-align: center;}#sk-container-id-1 label.sk-toggleable__label-arrow:before {content: \"▸\";float: left;margin-right: 0.25em;color: #696969;}#sk-container-id-1 label.sk-toggleable__label-arrow:hover:before {color: black;}#sk-container-id-1 div.sk-estimator:hover label.sk-toggleable__label-arrow:before {color: black;}#sk-container-id-1 div.sk-toggleable__content {max-height: 0;max-width: 0;overflow: hidden;text-align: left;background-color: #f0f8ff;}#sk-container-id-1 div.sk-toggleable__content pre {margin: 0.2em;color: black;border-radius: 0.25em;background-color: #f0f8ff;}#sk-container-id-1 input.sk-toggleable__control:checked~div.sk-toggleable__content {max-height: 200px;max-width: 100%;overflow: auto;}#sk-container-id-1 input.sk-toggleable__control:checked~label.sk-toggleable__label-arrow:before {content: \"▾\";}#sk-container-id-1 div.sk-estimator input.sk-toggleable__control:checked~label.sk-toggleable__label {background-color: #d4ebff;}#sk-container-id-1 div.sk-label input.sk-toggleable__control:checked~label.sk-toggleable__label {background-color: #d4ebff;}#sk-container-id-1 input.sk-hidden--visually {border: 0;clip: rect(1px 1px 1px 1px);clip: rect(1px, 1px, 1px, 1px);height: 1px;margin: -1px;overflow: hidden;padding: 0;position: absolute;width: 1px;}#sk-container-id-1 div.sk-estimator {font-family: monospace;background-color: #f0f8ff;border: 1px dotted black;border-radius: 0.25em;box-sizing: border-box;margin-bottom: 0.5em;}#sk-container-id-1 div.sk-estimator:hover {background-color: #d4ebff;}#sk-container-id-1 div.sk-parallel-item::after {content: \"\";width: 100%;border-bottom: 1px solid gray;flex-grow: 1;}#sk-container-id-1 div.sk-label:hover label.sk-toggleable__label {background-color: #d4ebff;}#sk-container-id-1 div.sk-serial::before {content: \"\";position: absolute;border-left: 1px solid gray;box-sizing: border-box;top: 0;bottom: 0;left: 50%;z-index: 0;}#sk-container-id-1 div.sk-serial {display: flex;flex-direction: column;align-items: center;background-color: white;padding-right: 0.2em;padding-left: 0.2em;position: relative;}#sk-container-id-1 div.sk-item {position: relative;z-index: 1;}#sk-container-id-1 div.sk-parallel {display: flex;align-items: stretch;justify-content: center;background-color: white;position: relative;}#sk-container-id-1 div.sk-item::before, #sk-container-id-1 div.sk-parallel-item::before {content: \"\";position: absolute;border-left: 1px solid gray;box-sizing: border-box;top: 0;bottom: 0;left: 50%;z-index: -1;}#sk-container-id-1 div.sk-parallel-item {display: flex;flex-direction: column;z-index: 1;position: relative;background-color: white;}#sk-container-id-1 div.sk-parallel-item:first-child::after {align-self: flex-end;width: 50%;}#sk-container-id-1 div.sk-parallel-item:last-child::after {align-self: flex-start;width: 50%;}#sk-container-id-1 div.sk-parallel-item:only-child::after {width: 0;}#sk-container-id-1 div.sk-dashed-wrapped {border: 1px dashed gray;margin: 0 0.4em 0.5em 0.4em;box-sizing: border-box;padding-bottom: 0.4em;background-color: white;}#sk-container-id-1 div.sk-label label {font-family: monospace;font-weight: bold;display: inline-block;line-height: 1.2em;}#sk-container-id-1 div.sk-label-container {text-align: center;}#sk-container-id-1 div.sk-container {/* jupyter's `normalize.less` sets `[hidden] { display: none; }` but bootstrap.min.css set `[hidden] { display: none !important; }` so we also need the `!important` here to be able to override the default hidden behavior on the sphinx rendered scikit-learn.org. See: https://github.com/scikit-learn/scikit-learn/issues/21755 */display: inline-block !important;position: relative;}#sk-container-id-1 div.sk-text-repr-fallback {display: none;}</style><div id=\"sk-container-id-1\" class=\"sk-top-container\"><div class=\"sk-text-repr-fallback\"><pre>LinearRegression()</pre><b>In a Jupyter environment, please rerun this cell to show the HTML representation or trust the notebook. <br />On GitHub, the HTML representation is unable to render, please try loading this page with nbviewer.org.</b></div><div class=\"sk-container\" hidden><div class=\"sk-item\"><div class=\"sk-estimator sk-toggleable\"><input class=\"sk-toggleable__control sk-hidden--visually\" id=\"sk-estimator-id-1\" type=\"checkbox\" checked><label for=\"sk-estimator-id-1\" class=\"sk-toggleable__label sk-toggleable__label-arrow\">LinearRegression</label><div class=\"sk-toggleable__content\"><pre>LinearRegression()</pre></div></div></div></div></div>"
      ],
      "text/plain": [
       "LinearRegression()"
      ]
     },
     "execution_count": 11,
     "metadata": {},
     "output_type": "execute_result"
    }
   ],
   "source": [
    "lr.fit(X_train,y_train)"
   ]
  },
  {
   "cell_type": "code",
   "execution_count": 12,
   "id": "a391532d",
   "metadata": {
    "execution": {
     "iopub.execute_input": "2024-06-10T05:51:46.958982Z",
     "iopub.status.busy": "2024-06-10T05:51:46.958514Z",
     "iopub.status.idle": "2024-06-10T05:51:46.965272Z",
     "shell.execute_reply": "2024-06-10T05:51:46.963554Z"
    },
    "papermill": {
     "duration": 0.01918,
     "end_time": "2024-06-10T05:51:46.968096",
     "exception": false,
     "start_time": "2024-06-10T05:51:46.948916",
     "status": "completed"
    },
    "tags": []
   },
   "outputs": [],
   "source": [
    "y_pred = lr.predict(X_test)"
   ]
  },
  {
   "cell_type": "code",
   "execution_count": 13,
   "id": "cac65599",
   "metadata": {
    "execution": {
     "iopub.execute_input": "2024-06-10T05:51:46.987124Z",
     "iopub.status.busy": "2024-06-10T05:51:46.986678Z",
     "iopub.status.idle": "2024-06-10T05:51:46.996595Z",
     "shell.execute_reply": "2024-06-10T05:51:46.995315Z"
    },
    "papermill": {
     "duration": 0.022615,
     "end_time": "2024-06-10T05:51:46.999343",
     "exception": false,
     "start_time": "2024-06-10T05:51:46.976728",
     "status": "completed"
    },
    "tags": []
   },
   "outputs": [
    {
     "name": "stdout",
     "output_type": "stream",
     "text": [
      "MAE 1.1068923555512811e-14\n",
      "MSE 1.8844161392499802e-28\n",
      "R2 score 1.0\n"
     ]
    }
   ],
   "source": [
    "print(\"MAE\",mean_absolute_error(y_test,y_pred))\n",
    "print(\"MSE\",mean_squared_error(y_test,y_pred))\n",
    "print(\"R2 score\",r2_score(y_test,y_pred))"
   ]
  },
  {
   "cell_type": "code",
   "execution_count": 14,
   "id": "07939be9",
   "metadata": {
    "execution": {
     "iopub.execute_input": "2024-06-10T05:51:47.021167Z",
     "iopub.status.busy": "2024-06-10T05:51:47.020669Z",
     "iopub.status.idle": "2024-06-10T05:51:47.031532Z",
     "shell.execute_reply": "2024-06-10T05:51:47.029848Z"
    },
    "papermill": {
     "duration": 0.025746,
     "end_time": "2024-06-10T05:51:47.034833",
     "exception": false,
     "start_time": "2024-06-10T05:51:47.009087",
     "status": "completed"
    },
    "tags": []
   },
   "outputs": [],
   "source": [
    "x = np.linspace(-5, 5, 10)\n",
    "y = np.linspace(-5, 5, 10)\n",
    "xGrid, yGrid = np.meshgrid(y, x)\n",
    "\n",
    "final = np.vstack((xGrid.ravel().reshape(1,100),yGrid.ravel().reshape(1,100))).T\n",
    "\n",
    "z_final = lr.predict(final).reshape(10,10)\n",
    "\n",
    "z = z_final\n"
   ]
  },
  {
   "cell_type": "code",
   "execution_count": 15,
   "id": "60f95456",
   "metadata": {
    "execution": {
     "iopub.execute_input": "2024-06-10T05:51:47.053984Z",
     "iopub.status.busy": "2024-06-10T05:51:47.053550Z",
     "iopub.status.idle": "2024-06-10T05:51:47.142073Z",
     "shell.execute_reply": "2024-06-10T05:51:47.140672Z"
    },
    "papermill": {
     "duration": 0.10182,
     "end_time": "2024-06-10T05:51:47.144889",
     "exception": false,
     "start_time": "2024-06-10T05:51:47.043069",
     "status": "completed"
    },
    "tags": []
   },
   "outputs": [
    {
     "data": {
      "text/html": [
       "<div>                            <div id=\"795ac5b7-dca0-4dd4-9b74-0486db721fad\" class=\"plotly-graph-div\" style=\"height:525px; width:100%;\"></div>            <script type=\"text/javascript\">                require([\"plotly\"], function(Plotly) {                    window.PLOTLYENV=window.PLOTLYENV || {};                                    if (document.getElementById(\"795ac5b7-dca0-4dd4-9b74-0486db721fad\")) {                    Plotly.newPlot(                        \"795ac5b7-dca0-4dd4-9b74-0486db721fad\",                        [{\"hovertemplate\":\"feature1=%{x}\\u003cbr\\u003efeature2=%{y}\\u003cbr\\u003etarget=%{z}\\u003cextra\\u003e\\u003c\\u002fextra\\u003e\",\"legendgroup\":\"\",\"marker\":{\"color\":\"#636efa\",\"symbol\":\"circle\"},\"mode\":\"markers\",\"name\":\"\",\"scene\":\"scene\",\"showlegend\":false,\"x\":[-0.5322820104631457,1.5328255287291368,-0.07714245128556678,1.4356748893879259,-0.24042945047812256,-0.7331577040153108,0.1979772010178779,0.7699975258434874,0.856436180306386,-0.636280530733257,0.15887736989897222,-2.1818376419848495,-0.1231716718632231,-0.017300171081009612,-0.19770591636602416,-1.0399161563269204,-0.5862491300505775,1.8797001871812224,0.4499735535968359,-0.3888987560476523,-1.1179001563575128,-1.2302067406073494,-0.879030064693905,0.14013573242964095,-0.48773430712286936,-0.9026638556850535,-0.013910450544037622,-2.235522472392381,0.7029849892153225,0.6503809875638726,0.783625085915005,0.7626052050338171,0.22937284684954792,0.09391562709499414,-1.3165797877747447,-1.1387604755212983,-0.12140327008425178,-0.49997688793747164,0.22914294787916528,0.6739279602923399,0.16629995724960228,-0.8922854719893378,-1.2430244607202072,-0.3451338485974725,-0.027858535296974362,-0.9971149005128037,0.7788930175937495,1.1347698030406723,1.0907043696441576,-1.210705339749962,-2.3644192802931565,0.7774779824057824,-1.2311309588671162,0.4322848713038923,-0.22370919874617717,-0.20367812750857797,-0.2037405054616495,-0.14540344674050829,0.4373332622489629,0.5956006888309175,0.8450224074331129,-0.7535525800421016,-0.15820189790595823,0.9427838976364709,-0.3077572618693508,0.8360620114254489,0.2918382413886794,2.6901218005511285,-0.8536122379739781,-1.2740690656282054,0.8447582373945531,0.9043825299447957,0.17145695867629832,0.19064587665435237,-0.27325886220890494,0.2522727697719366,0.7056093521611483,-0.7864987718474435,1.4056034708851919,1.0571056556864242,-0.4548737565869845,-0.16876210840114664,-0.3175849165290031,0.3082313534654755,-0.2604984046733234,0.011741508802889768,-2.0699662821984814,0.5757117485004684,1.9241961632371025,-1.6673202294906666,-0.9231705361538489,-1.9898298104037162,-1.764289931951353,-0.037015168784686456,-0.1303225752527702,-0.21542194280903004,-0.9841670469527706,1.2599803447923534,0.9494690646401983,1.7138527947461992],\"y\":[0.4043949376608636,-0.7431312660074821,-0.5002678621138029,-0.7513384162074398,1.5492771542848436,0.8658762768481254,-0.14137821251963548,0.4397224699681254,2.0872715434538094,-1.3388456107583422,0.05975819072788224,-0.17744124574542713,-0.5260269968142796,-1.31901411638195,2.6189978803654217,-0.21695800155908043,0.4876688385176456,-0.6499036235371874,-0.44211532619123833,-0.4601978137197624,0.697848416151962,-0.10765022476581769,0.012256528137811471,-0.8003158857414601,-0.043399752330146445,-0.5765230440473427,-0.855023451953909,1.339506794319859,0.5761380327646098,-0.8056110570230144,0.8606109208012969,0.8939089592498314,1.1116257763326691,1.000062276284122,-0.7650778663706507,-1.03073145646163,0.49043453243797747,1.363075177339987,-1.3520786109050649,0.10521220274174418,-0.9722199825252472,0.07276024550244249,0.4543470220744044,-0.9693610552330679,-0.32194338998850247,-0.6274915209485546,-0.2839454314430785,0.18364437213157345,0.23271742204371407,-1.1889776023597374,2.407236960376045,-1.518285706501472,-0.15977419448201782,2.2961449702359724,0.9771364972440671,1.1917162930159773,-1.538928781708799,-1.4091947763077513,-0.02799485164261409,1.7951488035505763,0.3625825762988884,1.4299178769353336,0.22117580600638181,0.7894456177322645,0.3700262777976123,-0.1310442461874326,-0.39659415662310954,-0.11200895920189981,-0.29979544682626313,-0.5350576696261162,-0.559819034004811,0.7889076435489782,3.7884685230514417,-0.5667969748863046,0.5594448541600627,0.5240817522713153,1.1295701252062447,1.501920895167451,-1.0189319173582319,0.7625581207087049,0.3628219524055351,1.0971270103488784,-0.22232776624214853,-1.8887768483992793,-1.311731295764201,0.1109368011577981,1.046283558020326,0.5890744996809939,0.08706288316706545,0.513428783136697,1.4003710507149356,-1.0762990127024865,1.9198124556309684,-0.2053964776591376,0.8864320434825613,0.3036191403134231,-1.2855274123259786,1.3885953176271717,-0.7858550952609527,-0.9686589303202087],\"z\":[-31.785517975373082,95.77404617513649,-10.23032895204332,89.14734825896204,-0.6057419889865493,-40.67291440168024,11.913210556492048,56.292132157780735,78.6932474925319,-56.33237568233677,11.30337524431955,-148.75512775769832,-13.590081910790115,-14.438010658276696,13.036267904162083,-72.23239703255949,-34.58281974451383,120.07779603844456,25.861617653172903,-30.827173480733986,-68.28013867204207,-83.95054424309689,-59.08854821585129,1.3863799054542805,-33.290726027077966,-66.60516321972541,-9.540742077308233,-137.10697769954174,53.150826269773496,35.703458273601484,61.44530769472751,60.364462209056,26.63646796806451,16.389390896989283,-96.38408071345296,-87.07924391057233,-3.2427531101827562,-19.96264912396944,1.829800657614532,46.45481013139363,1.4190186006258263,-59.372616229140775,-79.1588190850407,-33.002635964083304,-5.116139816851276,-73.48030372877241,49.60938265876803,78.28656296965023,75.81209523311446,-93.51784579404615,-135.0454252332262,37.093438139763116,-84.5373007632795,52.22401706695413,-5.236659480733567,-1.7281342964089306,-29.209624861831877,-23.974556400956526,29.177275123363952,58.18374205474717,60.56961855578578,-36.37101861068183,-8.430959022772013,71.45021505687818,-17.00726168516468,54.99889092947347,15.66760798646613,180.08077773792692,-60.51643413668766,-91.20594561595576,51.27009939862744,68.85806739375877,49.67112581714076,7.138565884102871,-12.777396787223543,22.26681869144483,58.89655002781982,-37.865754725883356,84.42904677792058,78.88042553167784,-26.98959222927728,-0.3279853981174776,-23.62985717449387,1.7566730528294194,-30.74667468746545,1.9072221557957543,-128.90561189875424,44.70781468320016,130.4908380813545,-107.1450684983089,-48.09388104885243,-144.86620266704745,-99.5251688052387,-4.560174297046809,0.14118827999424854,-11.455737005896946,-79.22965797074025,98.84569928944778,56.048968013177266,105.6987419243887],\"type\":\"scatter3d\"},{\"x\":[-5.0,-3.888888888888889,-2.7777777777777777,-1.6666666666666665,-0.5555555555555554,0.5555555555555554,1.666666666666667,2.7777777777777786,3.8888888888888893,5.0],\"y\":[-5.0,-3.888888888888889,-2.7777777777777777,-1.6666666666666665,-0.5555555555555554,0.5555555555555554,1.666666666666667,2.7777777777777786,3.8888888888888893,5.0],\"z\":[[-387.1151776079921,-312.2702084089145,-237.42523920983695,-162.58027001075936,-87.73530081168181,-12.89033161260426,61.95463758647334,136.79960678555096,211.6445759846285,286.489545183706],[-375.9345517830714,-301.08958258399383,-226.24461338491628,-151.3996441858387,-76.55467498676113,-1.7097057876835864,73.13526341139402,147.98023261047163,222.82520180954918,297.6701710086267],[-364.7539259581507,-289.90895675907313,-215.0639875599956,-140.21901836091803,-65.37404916184045,9.47092003723709,84.31588923631469,159.1608584353923,234.00582763446985,308.8507968335474],[-353.5733001332301,-278.7283309341525,-203.88336173507494,-129.03839253599736,-54.19342333691978,20.651545862157764,95.49651506123536,170.34148426031297,245.18645345939052,320.03142265846805],[-342.3926743083094,-267.5477051092318,-192.70273591015427,-117.85776671107668,-43.0127975119991,31.83217168707844,106.67714088615604,181.52211008523363,256.3670792843112,331.21204848338874],[-331.21204848338874,-256.36707928431116,-181.52211008523358,-106.67714088615601,-31.832171687078432,43.0127975119991,117.8577667110767,192.70273591015433,267.54770510923186,342.3926743083094],[-320.03142265846805,-245.18645345939046,-170.3414842603129,-95.49651506123533,-20.651545862157754,54.19342333691978,129.0383925359974,203.883361735075,278.72833093415255,353.5733001332301],[-308.85079683354735,-234.0058276344698,-159.16085843539224,-84.31588923631466,-9.470920037237075,65.37404916184046,140.21901836091806,215.06398755999567,289.90895675907325,364.7539259581508],[-297.6701710086267,-222.82520180954913,-147.98023261047157,-73.13526341139399,1.7097057876835917,76.55467498676113,151.39964418583872,226.24461338491633,301.0895825839939,375.9345517830714],[-286.489545183706,-211.64457598462843,-136.7996067855509,-61.95463758647331,12.890331612604268,87.73530081168181,162.58027001075942,237.425239209837,312.2702084089146,387.1151776079921]],\"type\":\"surface\"}],                        {\"template\":{\"data\":{\"histogram2dcontour\":[{\"type\":\"histogram2dcontour\",\"colorbar\":{\"outlinewidth\":0,\"ticks\":\"\"},\"colorscale\":[[0.0,\"#0d0887\"],[0.1111111111111111,\"#46039f\"],[0.2222222222222222,\"#7201a8\"],[0.3333333333333333,\"#9c179e\"],[0.4444444444444444,\"#bd3786\"],[0.5555555555555556,\"#d8576b\"],[0.6666666666666666,\"#ed7953\"],[0.7777777777777778,\"#fb9f3a\"],[0.8888888888888888,\"#fdca26\"],[1.0,\"#f0f921\"]]}],\"choropleth\":[{\"type\":\"choropleth\",\"colorbar\":{\"outlinewidth\":0,\"ticks\":\"\"}}],\"histogram2d\":[{\"type\":\"histogram2d\",\"colorbar\":{\"outlinewidth\":0,\"ticks\":\"\"},\"colorscale\":[[0.0,\"#0d0887\"],[0.1111111111111111,\"#46039f\"],[0.2222222222222222,\"#7201a8\"],[0.3333333333333333,\"#9c179e\"],[0.4444444444444444,\"#bd3786\"],[0.5555555555555556,\"#d8576b\"],[0.6666666666666666,\"#ed7953\"],[0.7777777777777778,\"#fb9f3a\"],[0.8888888888888888,\"#fdca26\"],[1.0,\"#f0f921\"]]}],\"heatmap\":[{\"type\":\"heatmap\",\"colorbar\":{\"outlinewidth\":0,\"ticks\":\"\"},\"colorscale\":[[0.0,\"#0d0887\"],[0.1111111111111111,\"#46039f\"],[0.2222222222222222,\"#7201a8\"],[0.3333333333333333,\"#9c179e\"],[0.4444444444444444,\"#bd3786\"],[0.5555555555555556,\"#d8576b\"],[0.6666666666666666,\"#ed7953\"],[0.7777777777777778,\"#fb9f3a\"],[0.8888888888888888,\"#fdca26\"],[1.0,\"#f0f921\"]]}],\"heatmapgl\":[{\"type\":\"heatmapgl\",\"colorbar\":{\"outlinewidth\":0,\"ticks\":\"\"},\"colorscale\":[[0.0,\"#0d0887\"],[0.1111111111111111,\"#46039f\"],[0.2222222222222222,\"#7201a8\"],[0.3333333333333333,\"#9c179e\"],[0.4444444444444444,\"#bd3786\"],[0.5555555555555556,\"#d8576b\"],[0.6666666666666666,\"#ed7953\"],[0.7777777777777778,\"#fb9f3a\"],[0.8888888888888888,\"#fdca26\"],[1.0,\"#f0f921\"]]}],\"contourcarpet\":[{\"type\":\"contourcarpet\",\"colorbar\":{\"outlinewidth\":0,\"ticks\":\"\"}}],\"contour\":[{\"type\":\"contour\",\"colorbar\":{\"outlinewidth\":0,\"ticks\":\"\"},\"colorscale\":[[0.0,\"#0d0887\"],[0.1111111111111111,\"#46039f\"],[0.2222222222222222,\"#7201a8\"],[0.3333333333333333,\"#9c179e\"],[0.4444444444444444,\"#bd3786\"],[0.5555555555555556,\"#d8576b\"],[0.6666666666666666,\"#ed7953\"],[0.7777777777777778,\"#fb9f3a\"],[0.8888888888888888,\"#fdca26\"],[1.0,\"#f0f921\"]]}],\"surface\":[{\"type\":\"surface\",\"colorbar\":{\"outlinewidth\":0,\"ticks\":\"\"},\"colorscale\":[[0.0,\"#0d0887\"],[0.1111111111111111,\"#46039f\"],[0.2222222222222222,\"#7201a8\"],[0.3333333333333333,\"#9c179e\"],[0.4444444444444444,\"#bd3786\"],[0.5555555555555556,\"#d8576b\"],[0.6666666666666666,\"#ed7953\"],[0.7777777777777778,\"#fb9f3a\"],[0.8888888888888888,\"#fdca26\"],[1.0,\"#f0f921\"]]}],\"mesh3d\":[{\"type\":\"mesh3d\",\"colorbar\":{\"outlinewidth\":0,\"ticks\":\"\"}}],\"scatter\":[{\"fillpattern\":{\"fillmode\":\"overlay\",\"size\":10,\"solidity\":0.2},\"type\":\"scatter\"}],\"parcoords\":[{\"type\":\"parcoords\",\"line\":{\"colorbar\":{\"outlinewidth\":0,\"ticks\":\"\"}}}],\"scatterpolargl\":[{\"type\":\"scatterpolargl\",\"marker\":{\"colorbar\":{\"outlinewidth\":0,\"ticks\":\"\"}}}],\"bar\":[{\"error_x\":{\"color\":\"#2a3f5f\"},\"error_y\":{\"color\":\"#2a3f5f\"},\"marker\":{\"line\":{\"color\":\"#E5ECF6\",\"width\":0.5},\"pattern\":{\"fillmode\":\"overlay\",\"size\":10,\"solidity\":0.2}},\"type\":\"bar\"}],\"scattergeo\":[{\"type\":\"scattergeo\",\"marker\":{\"colorbar\":{\"outlinewidth\":0,\"ticks\":\"\"}}}],\"scatterpolar\":[{\"type\":\"scatterpolar\",\"marker\":{\"colorbar\":{\"outlinewidth\":0,\"ticks\":\"\"}}}],\"histogram\":[{\"marker\":{\"pattern\":{\"fillmode\":\"overlay\",\"size\":10,\"solidity\":0.2}},\"type\":\"histogram\"}],\"scattergl\":[{\"type\":\"scattergl\",\"marker\":{\"colorbar\":{\"outlinewidth\":0,\"ticks\":\"\"}}}],\"scatter3d\":[{\"type\":\"scatter3d\",\"line\":{\"colorbar\":{\"outlinewidth\":0,\"ticks\":\"\"}},\"marker\":{\"colorbar\":{\"outlinewidth\":0,\"ticks\":\"\"}}}],\"scattermapbox\":[{\"type\":\"scattermapbox\",\"marker\":{\"colorbar\":{\"outlinewidth\":0,\"ticks\":\"\"}}}],\"scatterternary\":[{\"type\":\"scatterternary\",\"marker\":{\"colorbar\":{\"outlinewidth\":0,\"ticks\":\"\"}}}],\"scattercarpet\":[{\"type\":\"scattercarpet\",\"marker\":{\"colorbar\":{\"outlinewidth\":0,\"ticks\":\"\"}}}],\"carpet\":[{\"aaxis\":{\"endlinecolor\":\"#2a3f5f\",\"gridcolor\":\"white\",\"linecolor\":\"white\",\"minorgridcolor\":\"white\",\"startlinecolor\":\"#2a3f5f\"},\"baxis\":{\"endlinecolor\":\"#2a3f5f\",\"gridcolor\":\"white\",\"linecolor\":\"white\",\"minorgridcolor\":\"white\",\"startlinecolor\":\"#2a3f5f\"},\"type\":\"carpet\"}],\"table\":[{\"cells\":{\"fill\":{\"color\":\"#EBF0F8\"},\"line\":{\"color\":\"white\"}},\"header\":{\"fill\":{\"color\":\"#C8D4E3\"},\"line\":{\"color\":\"white\"}},\"type\":\"table\"}],\"barpolar\":[{\"marker\":{\"line\":{\"color\":\"#E5ECF6\",\"width\":0.5},\"pattern\":{\"fillmode\":\"overlay\",\"size\":10,\"solidity\":0.2}},\"type\":\"barpolar\"}],\"pie\":[{\"automargin\":true,\"type\":\"pie\"}]},\"layout\":{\"autotypenumbers\":\"strict\",\"colorway\":[\"#636efa\",\"#EF553B\",\"#00cc96\",\"#ab63fa\",\"#FFA15A\",\"#19d3f3\",\"#FF6692\",\"#B6E880\",\"#FF97FF\",\"#FECB52\"],\"font\":{\"color\":\"#2a3f5f\"},\"hovermode\":\"closest\",\"hoverlabel\":{\"align\":\"left\"},\"paper_bgcolor\":\"white\",\"plot_bgcolor\":\"#E5ECF6\",\"polar\":{\"bgcolor\":\"#E5ECF6\",\"angularaxis\":{\"gridcolor\":\"white\",\"linecolor\":\"white\",\"ticks\":\"\"},\"radialaxis\":{\"gridcolor\":\"white\",\"linecolor\":\"white\",\"ticks\":\"\"}},\"ternary\":{\"bgcolor\":\"#E5ECF6\",\"aaxis\":{\"gridcolor\":\"white\",\"linecolor\":\"white\",\"ticks\":\"\"},\"baxis\":{\"gridcolor\":\"white\",\"linecolor\":\"white\",\"ticks\":\"\"},\"caxis\":{\"gridcolor\":\"white\",\"linecolor\":\"white\",\"ticks\":\"\"}},\"coloraxis\":{\"colorbar\":{\"outlinewidth\":0,\"ticks\":\"\"}},\"colorscale\":{\"sequential\":[[0.0,\"#0d0887\"],[0.1111111111111111,\"#46039f\"],[0.2222222222222222,\"#7201a8\"],[0.3333333333333333,\"#9c179e\"],[0.4444444444444444,\"#bd3786\"],[0.5555555555555556,\"#d8576b\"],[0.6666666666666666,\"#ed7953\"],[0.7777777777777778,\"#fb9f3a\"],[0.8888888888888888,\"#fdca26\"],[1.0,\"#f0f921\"]],\"sequentialminus\":[[0.0,\"#0d0887\"],[0.1111111111111111,\"#46039f\"],[0.2222222222222222,\"#7201a8\"],[0.3333333333333333,\"#9c179e\"],[0.4444444444444444,\"#bd3786\"],[0.5555555555555556,\"#d8576b\"],[0.6666666666666666,\"#ed7953\"],[0.7777777777777778,\"#fb9f3a\"],[0.8888888888888888,\"#fdca26\"],[1.0,\"#f0f921\"]],\"diverging\":[[0,\"#8e0152\"],[0.1,\"#c51b7d\"],[0.2,\"#de77ae\"],[0.3,\"#f1b6da\"],[0.4,\"#fde0ef\"],[0.5,\"#f7f7f7\"],[0.6,\"#e6f5d0\"],[0.7,\"#b8e186\"],[0.8,\"#7fbc41\"],[0.9,\"#4d9221\"],[1,\"#276419\"]]},\"xaxis\":{\"gridcolor\":\"white\",\"linecolor\":\"white\",\"ticks\":\"\",\"title\":{\"standoff\":15},\"zerolinecolor\":\"white\",\"automargin\":true,\"zerolinewidth\":2},\"yaxis\":{\"gridcolor\":\"white\",\"linecolor\":\"white\",\"ticks\":\"\",\"title\":{\"standoff\":15},\"zerolinecolor\":\"white\",\"automargin\":true,\"zerolinewidth\":2},\"scene\":{\"xaxis\":{\"backgroundcolor\":\"#E5ECF6\",\"gridcolor\":\"white\",\"linecolor\":\"white\",\"showbackground\":true,\"ticks\":\"\",\"zerolinecolor\":\"white\",\"gridwidth\":2},\"yaxis\":{\"backgroundcolor\":\"#E5ECF6\",\"gridcolor\":\"white\",\"linecolor\":\"white\",\"showbackground\":true,\"ticks\":\"\",\"zerolinecolor\":\"white\",\"gridwidth\":2},\"zaxis\":{\"backgroundcolor\":\"#E5ECF6\",\"gridcolor\":\"white\",\"linecolor\":\"white\",\"showbackground\":true,\"ticks\":\"\",\"zerolinecolor\":\"white\",\"gridwidth\":2}},\"shapedefaults\":{\"line\":{\"color\":\"#2a3f5f\"}},\"annotationdefaults\":{\"arrowcolor\":\"#2a3f5f\",\"arrowhead\":0,\"arrowwidth\":1},\"geo\":{\"bgcolor\":\"white\",\"landcolor\":\"#E5ECF6\",\"subunitcolor\":\"white\",\"showland\":true,\"showlakes\":true,\"lakecolor\":\"white\"},\"title\":{\"x\":0.05},\"mapbox\":{\"style\":\"light\"}}},\"scene\":{\"domain\":{\"x\":[0.0,1.0],\"y\":[0.0,1.0]},\"xaxis\":{\"title\":{\"text\":\"feature1\"}},\"yaxis\":{\"title\":{\"text\":\"feature2\"}},\"zaxis\":{\"title\":{\"text\":\"target\"}}},\"legend\":{\"tracegroupgap\":0},\"margin\":{\"t\":60}},                        {\"responsive\": true}                    ).then(function(){\n",
       "                            \n",
       "var gd = document.getElementById('795ac5b7-dca0-4dd4-9b74-0486db721fad');\n",
       "var x = new MutationObserver(function (mutations, observer) {{\n",
       "        var display = window.getComputedStyle(gd).display;\n",
       "        if (!display || display === 'none') {{\n",
       "            console.log([gd, 'removed!']);\n",
       "            Plotly.purge(gd);\n",
       "            observer.disconnect();\n",
       "        }}\n",
       "}});\n",
       "\n",
       "// Listen for the removal of the full notebook cells\n",
       "var notebookContainer = gd.closest('#notebook-container');\n",
       "if (notebookContainer) {{\n",
       "    x.observe(notebookContainer, {childList: true});\n",
       "}}\n",
       "\n",
       "// Listen for the clearing of the current output cell\n",
       "var outputEl = gd.closest('.output');\n",
       "if (outputEl) {{\n",
       "    x.observe(outputEl, {childList: true});\n",
       "}}\n",
       "\n",
       "                        })                };                });            </script>        </div>"
      ]
     },
     "metadata": {},
     "output_type": "display_data"
    }
   ],
   "source": [
    "fig = px.scatter_3d(df, x='feature1', y='feature2', z='target')\n",
    "\n",
    "fig.add_trace(go.Surface(x = x, y = y, z =z ))\n",
    "\n",
    "fig.show()\n",
    "     "
   ]
  },
  {
   "cell_type": "code",
   "execution_count": 16,
   "id": "d43bad39",
   "metadata": {
    "execution": {
     "iopub.execute_input": "2024-06-10T05:51:47.164991Z",
     "iopub.status.busy": "2024-06-10T05:51:47.164537Z",
     "iopub.status.idle": "2024-06-10T05:51:47.173158Z",
     "shell.execute_reply": "2024-06-10T05:51:47.171740Z"
    },
    "papermill": {
     "duration": 0.022127,
     "end_time": "2024-06-10T05:51:47.176078",
     "exception": false,
     "start_time": "2024-06-10T05:51:47.153951",
     "status": "completed"
    },
    "tags": []
   },
   "outputs": [
    {
     "data": {
      "text/plain": [
       "array([67.36047228, 10.06256324])"
      ]
     },
     "execution_count": 16,
     "metadata": {},
     "output_type": "execute_result"
    }
   ],
   "source": [
    "lr.coef_"
   ]
  },
  {
   "cell_type": "code",
   "execution_count": 17,
   "id": "2ac79aab",
   "metadata": {
    "execution": {
     "iopub.execute_input": "2024-06-10T05:51:47.196907Z",
     "iopub.status.busy": "2024-06-10T05:51:47.195962Z",
     "iopub.status.idle": "2024-06-10T05:51:47.203660Z",
     "shell.execute_reply": "2024-06-10T05:51:47.202489Z"
    },
    "papermill": {
     "duration": 0.021035,
     "end_time": "2024-06-10T05:51:47.206466",
     "exception": false,
     "start_time": "2024-06-10T05:51:47.185431",
     "status": "completed"
    },
    "tags": []
   },
   "outputs": [
    {
     "data": {
      "text/plain": [
       "2.6645352591003757e-15"
      ]
     },
     "execution_count": 17,
     "metadata": {},
     "output_type": "execute_result"
    }
   ],
   "source": [
    "lr.intercept_"
   ]
  },
  {
   "cell_type": "code",
   "execution_count": null,
   "id": "951ddb9d",
   "metadata": {
    "papermill": {
     "duration": 0.008546,
     "end_time": "2024-06-10T05:51:47.223898",
     "exception": false,
     "start_time": "2024-06-10T05:51:47.215352",
     "status": "completed"
    },
    "tags": []
   },
   "outputs": [],
   "source": []
  }
 ],
 "metadata": {
  "kaggle": {
   "accelerator": "none",
   "dataSources": [],
   "dockerImageVersionId": 30732,
   "isGpuEnabled": false,
   "isInternetEnabled": false,
   "language": "python",
   "sourceType": "notebook"
  },
  "kernelspec": {
   "display_name": "Python 3",
   "language": "python",
   "name": "python3"
  },
  "language_info": {
   "codemirror_mode": {
    "name": "ipython",
    "version": 3
   },
   "file_extension": ".py",
   "mimetype": "text/x-python",
   "name": "python",
   "nbconvert_exporter": "python",
   "pygments_lexer": "ipython3",
   "version": "3.10.13"
  },
  "papermill": {
   "default_parameters": {},
   "duration": 13.255767,
   "end_time": "2024-06-10T05:51:50.125478",
   "environment_variables": {},
   "exception": null,
   "input_path": "__notebook__.ipynb",
   "output_path": "__notebook__.ipynb",
   "parameters": {},
   "start_time": "2024-06-10T05:51:36.869711",
   "version": "2.5.0"
  }
 },
 "nbformat": 4,
 "nbformat_minor": 5
}
