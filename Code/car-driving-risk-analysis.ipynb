{
 "cells": [
  {
   "cell_type": "code",
   "execution_count": 1,
   "id": "2b59c923",
   "metadata": {
    "_cell_guid": "b1076dfc-b9ad-4769-8c92-a6c4dae69d19",
    "_uuid": "8f2839f25d086af736a60e9eeb907d3b93b6e0e5",
    "execution": {
     "iopub.execute_input": "2023-10-19T06:06:57.947769Z",
     "iopub.status.busy": "2023-10-19T06:06:57.946991Z",
     "iopub.status.idle": "2023-10-19T06:06:58.327401Z",
     "shell.execute_reply": "2023-10-19T06:06:58.326228Z"
    },
    "papermill": {
     "duration": 0.392662,
     "end_time": "2023-10-19T06:06:58.329921",
     "exception": false,
     "start_time": "2023-10-19T06:06:57.937259",
     "status": "completed"
    },
    "tags": []
   },
   "outputs": [],
   "source": [
    "import numpy as np\n",
    "import matplotlib.pyplot as plt\n",
    "import pandas as pd"
   ]
  },
  {
   "cell_type": "code",
   "execution_count": 2,
   "id": "c13197ab",
   "metadata": {
    "execution": {
     "iopub.execute_input": "2023-10-19T06:06:58.344353Z",
     "iopub.status.busy": "2023-10-19T06:06:58.342907Z",
     "iopub.status.idle": "2023-10-19T06:06:58.365297Z",
     "shell.execute_reply": "2023-10-19T06:06:58.363915Z"
    },
    "papermill": {
     "duration": 0.032013,
     "end_time": "2023-10-19T06:06:58.367814",
     "exception": false,
     "start_time": "2023-10-19T06:06:58.335801",
     "status": "completed"
    },
    "tags": []
   },
   "outputs": [],
   "source": [
    "df=pd.read_csv('/kaggle/input/car-driving-risk-analysis/car driving risk analysis.csv')"
   ]
  },
  {
   "cell_type": "code",
   "execution_count": 3,
   "id": "40d93749",
   "metadata": {
    "execution": {
     "iopub.execute_input": "2023-10-19T06:06:58.381245Z",
     "iopub.status.busy": "2023-10-19T06:06:58.380555Z",
     "iopub.status.idle": "2023-10-19T06:06:58.400623Z",
     "shell.execute_reply": "2023-10-19T06:06:58.399833Z"
    },
    "papermill": {
     "duration": 0.028996,
     "end_time": "2023-10-19T06:06:58.402641",
     "exception": false,
     "start_time": "2023-10-19T06:06:58.373645",
     "status": "completed"
    },
    "tags": []
   },
   "outputs": [
    {
     "data": {
      "text/html": [
       "<div>\n",
       "<style scoped>\n",
       "    .dataframe tbody tr th:only-of-type {\n",
       "        vertical-align: middle;\n",
       "    }\n",
       "\n",
       "    .dataframe tbody tr th {\n",
       "        vertical-align: top;\n",
       "    }\n",
       "\n",
       "    .dataframe thead th {\n",
       "        text-align: right;\n",
       "    }\n",
       "</style>\n",
       "<table border=\"1\" class=\"dataframe\">\n",
       "  <thead>\n",
       "    <tr style=\"text-align: right;\">\n",
       "      <th></th>\n",
       "      <th>speed</th>\n",
       "      <th>risk</th>\n",
       "    </tr>\n",
       "  </thead>\n",
       "  <tbody>\n",
       "    <tr>\n",
       "      <th>0</th>\n",
       "      <td>200</td>\n",
       "      <td>95</td>\n",
       "    </tr>\n",
       "    <tr>\n",
       "      <th>1</th>\n",
       "      <td>90</td>\n",
       "      <td>20</td>\n",
       "    </tr>\n",
       "    <tr>\n",
       "      <th>2</th>\n",
       "      <td>300</td>\n",
       "      <td>98</td>\n",
       "    </tr>\n",
       "    <tr>\n",
       "      <th>3</th>\n",
       "      <td>110</td>\n",
       "      <td>60</td>\n",
       "    </tr>\n",
       "    <tr>\n",
       "      <th>4</th>\n",
       "      <td>240</td>\n",
       "      <td>72</td>\n",
       "    </tr>\n",
       "    <tr>\n",
       "      <th>5</th>\n",
       "      <td>115</td>\n",
       "      <td>10</td>\n",
       "    </tr>\n",
       "    <tr>\n",
       "      <th>6</th>\n",
       "      <td>50</td>\n",
       "      <td>7</td>\n",
       "    </tr>\n",
       "    <tr>\n",
       "      <th>7</th>\n",
       "      <td>230</td>\n",
       "      <td>85</td>\n",
       "    </tr>\n",
       "    <tr>\n",
       "      <th>8</th>\n",
       "      <td>190</td>\n",
       "      <td>45</td>\n",
       "    </tr>\n",
       "    <tr>\n",
       "      <th>9</th>\n",
       "      <td>260</td>\n",
       "      <td>91</td>\n",
       "    </tr>\n",
       "    <tr>\n",
       "      <th>10</th>\n",
       "      <td>290</td>\n",
       "      <td>82</td>\n",
       "    </tr>\n",
       "    <tr>\n",
       "      <th>11</th>\n",
       "      <td>185</td>\n",
       "      <td>59</td>\n",
       "    </tr>\n",
       "    <tr>\n",
       "      <th>12</th>\n",
       "      <td>310</td>\n",
       "      <td>93</td>\n",
       "    </tr>\n",
       "    <tr>\n",
       "      <th>13</th>\n",
       "      <td>95</td>\n",
       "      <td>18</td>\n",
       "    </tr>\n",
       "    <tr>\n",
       "      <th>14</th>\n",
       "      <td>30</td>\n",
       "      <td>2</td>\n",
       "    </tr>\n",
       "  </tbody>\n",
       "</table>\n",
       "</div>"
      ],
      "text/plain": [
       "    speed  risk\n",
       "0     200    95\n",
       "1      90    20\n",
       "2     300    98\n",
       "3     110    60\n",
       "4     240    72\n",
       "5     115    10\n",
       "6      50     7\n",
       "7     230    85\n",
       "8     190    45\n",
       "9     260    91\n",
       "10    290    82\n",
       "11    185    59\n",
       "12    310    93\n",
       "13     95    18\n",
       "14     30     2"
      ]
     },
     "execution_count": 3,
     "metadata": {},
     "output_type": "execute_result"
    }
   ],
   "source": [
    "df"
   ]
  },
  {
   "cell_type": "code",
   "execution_count": 4,
   "id": "bf020674",
   "metadata": {
    "execution": {
     "iopub.execute_input": "2023-10-19T06:06:58.416388Z",
     "iopub.status.busy": "2023-10-19T06:06:58.416026Z",
     "iopub.status.idle": "2023-10-19T06:06:58.422493Z",
     "shell.execute_reply": "2023-10-19T06:06:58.421457Z"
    },
    "papermill": {
     "duration": 0.016219,
     "end_time": "2023-10-19T06:06:58.424798",
     "exception": false,
     "start_time": "2023-10-19T06:06:58.408579",
     "status": "completed"
    },
    "tags": []
   },
   "outputs": [
    {
     "data": {
      "text/plain": [
       "(15, 2)"
      ]
     },
     "execution_count": 4,
     "metadata": {},
     "output_type": "execute_result"
    }
   ],
   "source": [
    "df.shape"
   ]
  },
  {
   "cell_type": "code",
   "execution_count": 5,
   "id": "6b4f3347",
   "metadata": {
    "execution": {
     "iopub.execute_input": "2023-10-19T06:06:58.438524Z",
     "iopub.status.busy": "2023-10-19T06:06:58.438183Z",
     "iopub.status.idle": "2023-10-19T06:06:58.446003Z",
     "shell.execute_reply": "2023-10-19T06:06:58.444794Z"
    },
    "papermill": {
     "duration": 0.017635,
     "end_time": "2023-10-19T06:06:58.448466",
     "exception": false,
     "start_time": "2023-10-19T06:06:58.430831",
     "status": "completed"
    },
    "tags": []
   },
   "outputs": [
    {
     "data": {
      "text/plain": [
       "30"
      ]
     },
     "execution_count": 5,
     "metadata": {},
     "output_type": "execute_result"
    }
   ],
   "source": [
    "df.size"
   ]
  },
  {
   "cell_type": "code",
   "execution_count": 6,
   "id": "246d9474",
   "metadata": {
    "execution": {
     "iopub.execute_input": "2023-10-19T06:06:58.462718Z",
     "iopub.status.busy": "2023-10-19T06:06:58.462293Z",
     "iopub.status.idle": "2023-10-19T06:06:58.473042Z",
     "shell.execute_reply": "2023-10-19T06:06:58.471973Z"
    },
    "papermill": {
     "duration": 0.020685,
     "end_time": "2023-10-19T06:06:58.475432",
     "exception": false,
     "start_time": "2023-10-19T06:06:58.454747",
     "status": "completed"
    },
    "tags": []
   },
   "outputs": [
    {
     "data": {
      "text/plain": [
       "speed    0\n",
       "risk     0\n",
       "dtype: int64"
      ]
     },
     "execution_count": 6,
     "metadata": {},
     "output_type": "execute_result"
    }
   ],
   "source": [
    "df.isnull().sum()"
   ]
  },
  {
   "cell_type": "code",
   "execution_count": 7,
   "id": "e52076c0",
   "metadata": {
    "execution": {
     "iopub.execute_input": "2023-10-19T06:06:58.489542Z",
     "iopub.status.busy": "2023-10-19T06:06:58.489150Z",
     "iopub.status.idle": "2023-10-19T06:06:58.814983Z",
     "shell.execute_reply": "2023-10-19T06:06:58.813876Z"
    },
    "papermill": {
     "duration": 0.335489,
     "end_time": "2023-10-19T06:06:58.817220",
     "exception": false,
     "start_time": "2023-10-19T06:06:58.481731",
     "status": "completed"
    },
    "tags": []
   },
   "outputs": [
    {
     "data": {
      "text/plain": [
       "Text(0.5, 1.0, 'Car driving risk analysis')"
      ]
     },
     "execution_count": 7,
     "metadata": {},
     "output_type": "execute_result"
    },
    {
     "data": {
      "image/png": "[encoded data removed]",
      "text/plain": [
       "<Figure size 640x480 with 1 Axes>"
      ]
     },
     "metadata": {},
     "output_type": "display_data"
    }
   ],
   "source": [
    "plt.scatter(df['speed'],df['risk'],color='r')\n",
    "plt.xlabel(\"Speed\")\n",
    "plt.ylabel(\"Risk\")\n",
    "plt.title(\"Car driving risk analysis\")"
   ]
  },
  {
   "cell_type": "code",
   "execution_count": 8,
   "id": "68ce540b",
   "metadata": {
    "execution": {
     "iopub.execute_input": "2023-10-19T06:06:58.832554Z",
     "iopub.status.busy": "2023-10-19T06:06:58.831540Z",
     "iopub.status.idle": "2023-10-19T06:06:58.844898Z",
     "shell.execute_reply": "2023-10-19T06:06:58.843875Z"
    },
    "papermill": {
     "duration": 0.023303,
     "end_time": "2023-10-19T06:06:58.847040",
     "exception": false,
     "start_time": "2023-10-19T06:06:58.823737",
     "status": "completed"
    },
    "tags": []
   },
   "outputs": [],
   "source": [
    "x=df[['speed']]"
   ]
  },
  {
   "cell_type": "code",
   "execution_count": 9,
   "id": "9d158b39",
   "metadata": {
    "execution": {
     "iopub.execute_input": "2023-10-19T06:06:58.862127Z",
     "iopub.status.busy": "2023-10-19T06:06:58.861710Z",
     "iopub.status.idle": "2023-10-19T06:06:58.867335Z",
     "shell.execute_reply": "2023-10-19T06:06:58.866145Z"
    },
    "papermill": {
     "duration": 0.015643,
     "end_time": "2023-10-19T06:06:58.869500",
     "exception": false,
     "start_time": "2023-10-19T06:06:58.853857",
     "status": "completed"
    },
    "tags": []
   },
   "outputs": [],
   "source": [
    "y=df[['risk']]"
   ]
  },
  {
   "cell_type": "code",
   "execution_count": 10,
   "id": "9ede9d41",
   "metadata": {
    "execution": {
     "iopub.execute_input": "2023-10-19T06:06:58.884466Z",
     "iopub.status.busy": "2023-10-19T06:06:58.884126Z",
     "iopub.status.idle": "2023-10-19T06:06:58.894088Z",
     "shell.execute_reply": "2023-10-19T06:06:58.892832Z"
    },
    "papermill": {
     "duration": 0.019731,
     "end_time": "2023-10-19T06:06:58.896123",
     "exception": false,
     "start_time": "2023-10-19T06:06:58.876392",
     "status": "completed"
    },
    "tags": []
   },
   "outputs": [
    {
     "data": {
      "text/html": [
       "<div>\n",
       "<style scoped>\n",
       "    .dataframe tbody tr th:only-of-type {\n",
       "        vertical-align: middle;\n",
       "    }\n",
       "\n",
       "    .dataframe tbody tr th {\n",
       "        vertical-align: top;\n",
       "    }\n",
       "\n",
       "    .dataframe thead th {\n",
       "        text-align: right;\n",
       "    }\n",
       "</style>\n",
       "<table border=\"1\" class=\"dataframe\">\n",
       "  <thead>\n",
       "    <tr style=\"text-align: right;\">\n",
       "      <th></th>\n",
       "      <th>speed</th>\n",
       "    </tr>\n",
       "  </thead>\n",
       "  <tbody>\n",
       "    <tr>\n",
       "      <th>0</th>\n",
       "      <td>200</td>\n",
       "    </tr>\n",
       "    <tr>\n",
       "      <th>1</th>\n",
       "      <td>90</td>\n",
       "    </tr>\n",
       "    <tr>\n",
       "      <th>2</th>\n",
       "      <td>300</td>\n",
       "    </tr>\n",
       "    <tr>\n",
       "      <th>3</th>\n",
       "      <td>110</td>\n",
       "    </tr>\n",
       "    <tr>\n",
       "      <th>4</th>\n",
       "      <td>240</td>\n",
       "    </tr>\n",
       "    <tr>\n",
       "      <th>5</th>\n",
       "      <td>115</td>\n",
       "    </tr>\n",
       "    <tr>\n",
       "      <th>6</th>\n",
       "      <td>50</td>\n",
       "    </tr>\n",
       "    <tr>\n",
       "      <th>7</th>\n",
       "      <td>230</td>\n",
       "    </tr>\n",
       "    <tr>\n",
       "      <th>8</th>\n",
       "      <td>190</td>\n",
       "    </tr>\n",
       "    <tr>\n",
       "      <th>9</th>\n",
       "      <td>260</td>\n",
       "    </tr>\n",
       "    <tr>\n",
       "      <th>10</th>\n",
       "      <td>290</td>\n",
       "    </tr>\n",
       "    <tr>\n",
       "      <th>11</th>\n",
       "      <td>185</td>\n",
       "    </tr>\n",
       "    <tr>\n",
       "      <th>12</th>\n",
       "      <td>310</td>\n",
       "    </tr>\n",
       "    <tr>\n",
       "      <th>13</th>\n",
       "      <td>95</td>\n",
       "    </tr>\n",
       "    <tr>\n",
       "      <th>14</th>\n",
       "      <td>30</td>\n",
       "    </tr>\n",
       "  </tbody>\n",
       "</table>\n",
       "</div>"
      ],
      "text/plain": [
       "    speed\n",
       "0     200\n",
       "1      90\n",
       "2     300\n",
       "3     110\n",
       "4     240\n",
       "5     115\n",
       "6      50\n",
       "7     230\n",
       "8     190\n",
       "9     260\n",
       "10    290\n",
       "11    185\n",
       "12    310\n",
       "13     95\n",
       "14     30"
      ]
     },
     "execution_count": 10,
     "metadata": {},
     "output_type": "execute_result"
    }
   ],
   "source": [
    "x"
   ]
  },
  {
   "cell_type": "code",
   "execution_count": 11,
   "id": "e59e3de0",
   "metadata": {
    "execution": {
     "iopub.execute_input": "2023-10-19T06:06:58.911592Z",
     "iopub.status.busy": "2023-10-19T06:06:58.910978Z",
     "iopub.status.idle": "2023-10-19T06:06:58.920261Z",
     "shell.execute_reply": "2023-10-19T06:06:58.919329Z"
    },
    "papermill": {
     "duration": 0.019342,
     "end_time": "2023-10-19T06:06:58.922286",
     "exception": false,
     "start_time": "2023-10-19T06:06:58.902944",
     "status": "completed"
    },
    "tags": []
   },
   "outputs": [
    {
     "data": {
      "text/html": [
       "<div>\n",
       "<style scoped>\n",
       "    .dataframe tbody tr th:only-of-type {\n",
       "        vertical-align: middle;\n",
       "    }\n",
       "\n",
       "    .dataframe tbody tr th {\n",
       "        vertical-align: top;\n",
       "    }\n",
       "\n",
       "    .dataframe thead th {\n",
       "        text-align: right;\n",
       "    }\n",
       "</style>\n",
       "<table border=\"1\" class=\"dataframe\">\n",
       "  <thead>\n",
       "    <tr style=\"text-align: right;\">\n",
       "      <th></th>\n",
       "      <th>risk</th>\n",
       "    </tr>\n",
       "  </thead>\n",
       "  <tbody>\n",
       "    <tr>\n",
       "      <th>0</th>\n",
       "      <td>95</td>\n",
       "    </tr>\n",
       "    <tr>\n",
       "      <th>1</th>\n",
       "      <td>20</td>\n",
       "    </tr>\n",
       "    <tr>\n",
       "      <th>2</th>\n",
       "      <td>98</td>\n",
       "    </tr>\n",
       "    <tr>\n",
       "      <th>3</th>\n",
       "      <td>60</td>\n",
       "    </tr>\n",
       "    <tr>\n",
       "      <th>4</th>\n",
       "      <td>72</td>\n",
       "    </tr>\n",
       "    <tr>\n",
       "      <th>5</th>\n",
       "      <td>10</td>\n",
       "    </tr>\n",
       "    <tr>\n",
       "      <th>6</th>\n",
       "      <td>7</td>\n",
       "    </tr>\n",
       "    <tr>\n",
       "      <th>7</th>\n",
       "      <td>85</td>\n",
       "    </tr>\n",
       "    <tr>\n",
       "      <th>8</th>\n",
       "      <td>45</td>\n",
       "    </tr>\n",
       "    <tr>\n",
       "      <th>9</th>\n",
       "      <td>91</td>\n",
       "    </tr>\n",
       "    <tr>\n",
       "      <th>10</th>\n",
       "      <td>82</td>\n",
       "    </tr>\n",
       "    <tr>\n",
       "      <th>11</th>\n",
       "      <td>59</td>\n",
       "    </tr>\n",
       "    <tr>\n",
       "      <th>12</th>\n",
       "      <td>93</td>\n",
       "    </tr>\n",
       "    <tr>\n",
       "      <th>13</th>\n",
       "      <td>18</td>\n",
       "    </tr>\n",
       "    <tr>\n",
       "      <th>14</th>\n",
       "      <td>2</td>\n",
       "    </tr>\n",
       "  </tbody>\n",
       "</table>\n",
       "</div>"
      ],
      "text/plain": [
       "    risk\n",
       "0     95\n",
       "1     20\n",
       "2     98\n",
       "3     60\n",
       "4     72\n",
       "5     10\n",
       "6      7\n",
       "7     85\n",
       "8     45\n",
       "9     91\n",
       "10    82\n",
       "11    59\n",
       "12    93\n",
       "13    18\n",
       "14     2"
      ]
     },
     "execution_count": 11,
     "metadata": {},
     "output_type": "execute_result"
    }
   ],
   "source": [
    "y"
   ]
  },
  {
   "cell_type": "code",
   "execution_count": 12,
   "id": "f78f0383",
   "metadata": {
    "execution": {
     "iopub.execute_input": "2023-10-19T06:06:58.938370Z",
     "iopub.status.busy": "2023-10-19T06:06:58.938013Z",
     "iopub.status.idle": "2023-10-19T06:07:00.523342Z",
     "shell.execute_reply": "2023-10-19T06:07:00.522231Z"
    },
    "papermill": {
     "duration": 1.59634,
     "end_time": "2023-10-19T06:07:00.525867",
     "exception": false,
     "start_time": "2023-10-19T06:06:58.929527",
     "status": "completed"
    },
    "tags": []
   },
   "outputs": [],
   "source": [
    "from sklearn.model_selection import train_test_split"
   ]
  },
  {
   "cell_type": "code",
   "execution_count": 13,
   "id": "5252208a",
   "metadata": {
    "execution": {
     "iopub.execute_input": "2023-10-19T06:07:00.541564Z",
     "iopub.status.busy": "2023-10-19T06:07:00.541177Z",
     "iopub.status.idle": "2023-10-19T06:07:00.549052Z",
     "shell.execute_reply": "2023-10-19T06:07:00.547794Z"
    },
    "papermill": {
     "duration": 0.018427,
     "end_time": "2023-10-19T06:07:00.551374",
     "exception": false,
     "start_time": "2023-10-19T06:07:00.532947",
     "status": "completed"
    },
    "tags": []
   },
   "outputs": [],
   "source": [
    "xtrain,xtest,ytrain,ytest=train_test_split(x,y,test_size=0.40,random_state=1)"
   ]
  },
  {
   "cell_type": "code",
   "execution_count": 14,
   "id": "6b498896",
   "metadata": {
    "execution": {
     "iopub.execute_input": "2023-10-19T06:07:00.568204Z",
     "iopub.status.busy": "2023-10-19T06:07:00.567833Z",
     "iopub.status.idle": "2023-10-19T06:07:00.577460Z",
     "shell.execute_reply": "2023-10-19T06:07:00.576258Z"
    },
    "papermill": {
     "duration": 0.020307,
     "end_time": "2023-10-19T06:07:00.579639",
     "exception": false,
     "start_time": "2023-10-19T06:07:00.559332",
     "status": "completed"
    },
    "tags": []
   },
   "outputs": [
    {
     "data": {
      "text/html": [
       "<div>\n",
       "<style scoped>\n",
       "    .dataframe tbody tr th:only-of-type {\n",
       "        vertical-align: middle;\n",
       "    }\n",
       "\n",
       "    .dataframe tbody tr th {\n",
       "        vertical-align: top;\n",
       "    }\n",
       "\n",
       "    .dataframe thead th {\n",
       "        text-align: right;\n",
       "    }\n",
       "</style>\n",
       "<table border=\"1\" class=\"dataframe\">\n",
       "  <thead>\n",
       "    <tr style=\"text-align: right;\">\n",
       "      <th></th>\n",
       "      <th>speed</th>\n",
       "    </tr>\n",
       "  </thead>\n",
       "  <tbody>\n",
       "    <tr>\n",
       "      <th>1</th>\n",
       "      <td>90</td>\n",
       "    </tr>\n",
       "    <tr>\n",
       "      <th>13</th>\n",
       "      <td>95</td>\n",
       "    </tr>\n",
       "    <tr>\n",
       "      <th>0</th>\n",
       "      <td>200</td>\n",
       "    </tr>\n",
       "    <tr>\n",
       "      <th>14</th>\n",
       "      <td>30</td>\n",
       "    </tr>\n",
       "    <tr>\n",
       "      <th>9</th>\n",
       "      <td>260</td>\n",
       "    </tr>\n",
       "    <tr>\n",
       "      <th>8</th>\n",
       "      <td>190</td>\n",
       "    </tr>\n",
       "    <tr>\n",
       "      <th>12</th>\n",
       "      <td>310</td>\n",
       "    </tr>\n",
       "    <tr>\n",
       "      <th>11</th>\n",
       "      <td>185</td>\n",
       "    </tr>\n",
       "    <tr>\n",
       "      <th>5</th>\n",
       "      <td>115</td>\n",
       "    </tr>\n",
       "  </tbody>\n",
       "</table>\n",
       "</div>"
      ],
      "text/plain": [
       "    speed\n",
       "1      90\n",
       "13     95\n",
       "0     200\n",
       "14     30\n",
       "9     260\n",
       "8     190\n",
       "12    310\n",
       "11    185\n",
       "5     115"
      ]
     },
     "execution_count": 14,
     "metadata": {},
     "output_type": "execute_result"
    }
   ],
   "source": [
    "xtrain"
   ]
  },
  {
   "cell_type": "code",
   "execution_count": 15,
   "id": "bd111466",
   "metadata": {
    "execution": {
     "iopub.execute_input": "2023-10-19T06:07:00.596179Z",
     "iopub.status.busy": "2023-10-19T06:07:00.595647Z",
     "iopub.status.idle": "2023-10-19T06:07:00.606420Z",
     "shell.execute_reply": "2023-10-19T06:07:00.604651Z"
    },
    "papermill": {
     "duration": 0.021867,
     "end_time": "2023-10-19T06:07:00.608789",
     "exception": false,
     "start_time": "2023-10-19T06:07:00.586922",
     "status": "completed"
    },
    "tags": []
   },
   "outputs": [
    {
     "data": {
      "text/html": [
       "<div>\n",
       "<style scoped>\n",
       "    .dataframe tbody tr th:only-of-type {\n",
       "        vertical-align: middle;\n",
       "    }\n",
       "\n",
       "    .dataframe tbody tr th {\n",
       "        vertical-align: top;\n",
       "    }\n",
       "\n",
       "    .dataframe thead th {\n",
       "        text-align: right;\n",
       "    }\n",
       "</style>\n",
       "<table border=\"1\" class=\"dataframe\">\n",
       "  <thead>\n",
       "    <tr style=\"text-align: right;\">\n",
       "      <th></th>\n",
       "      <th>speed</th>\n",
       "    </tr>\n",
       "  </thead>\n",
       "  <tbody>\n",
       "    <tr>\n",
       "      <th>3</th>\n",
       "      <td>110</td>\n",
       "    </tr>\n",
       "    <tr>\n",
       "      <th>7</th>\n",
       "      <td>230</td>\n",
       "    </tr>\n",
       "    <tr>\n",
       "      <th>6</th>\n",
       "      <td>50</td>\n",
       "    </tr>\n",
       "    <tr>\n",
       "      <th>2</th>\n",
       "      <td>300</td>\n",
       "    </tr>\n",
       "    <tr>\n",
       "      <th>10</th>\n",
       "      <td>290</td>\n",
       "    </tr>\n",
       "    <tr>\n",
       "      <th>4</th>\n",
       "      <td>240</td>\n",
       "    </tr>\n",
       "  </tbody>\n",
       "</table>\n",
       "</div>"
      ],
      "text/plain": [
       "    speed\n",
       "3     110\n",
       "7     230\n",
       "6      50\n",
       "2     300\n",
       "10    290\n",
       "4     240"
      ]
     },
     "execution_count": 15,
     "metadata": {},
     "output_type": "execute_result"
    }
   ],
   "source": [
    "xtest"
   ]
  },
  {
   "cell_type": "code",
   "execution_count": 16,
   "id": "d7c22ab5",
   "metadata": {
    "execution": {
     "iopub.execute_input": "2023-10-19T06:07:00.625786Z",
     "iopub.status.busy": "2023-10-19T06:07:00.625356Z",
     "iopub.status.idle": "2023-10-19T06:07:00.635202Z",
     "shell.execute_reply": "2023-10-19T06:07:00.633904Z"
    },
    "papermill": {
     "duration": 0.020879,
     "end_time": "2023-10-19T06:07:00.637434",
     "exception": false,
     "start_time": "2023-10-19T06:07:00.616555",
     "status": "completed"
    },
    "tags": []
   },
   "outputs": [
    {
     "data": {
      "text/html": [
       "<div>\n",
       "<style scoped>\n",
       "    .dataframe tbody tr th:only-of-type {\n",
       "        vertical-align: middle;\n",
       "    }\n",
       "\n",
       "    .dataframe tbody tr th {\n",
       "        vertical-align: top;\n",
       "    }\n",
       "\n",
       "    .dataframe thead th {\n",
       "        text-align: right;\n",
       "    }\n",
       "</style>\n",
       "<table border=\"1\" class=\"dataframe\">\n",
       "  <thead>\n",
       "    <tr style=\"text-align: right;\">\n",
       "      <th></th>\n",
       "      <th>risk</th>\n",
       "    </tr>\n",
       "  </thead>\n",
       "  <tbody>\n",
       "    <tr>\n",
       "      <th>1</th>\n",
       "      <td>20</td>\n",
       "    </tr>\n",
       "    <tr>\n",
       "      <th>13</th>\n",
       "      <td>18</td>\n",
       "    </tr>\n",
       "    <tr>\n",
       "      <th>0</th>\n",
       "      <td>95</td>\n",
       "    </tr>\n",
       "    <tr>\n",
       "      <th>14</th>\n",
       "      <td>2</td>\n",
       "    </tr>\n",
       "    <tr>\n",
       "      <th>9</th>\n",
       "      <td>91</td>\n",
       "    </tr>\n",
       "    <tr>\n",
       "      <th>8</th>\n",
       "      <td>45</td>\n",
       "    </tr>\n",
       "    <tr>\n",
       "      <th>12</th>\n",
       "      <td>93</td>\n",
       "    </tr>\n",
       "    <tr>\n",
       "      <th>11</th>\n",
       "      <td>59</td>\n",
       "    </tr>\n",
       "    <tr>\n",
       "      <th>5</th>\n",
       "      <td>10</td>\n",
       "    </tr>\n",
       "  </tbody>\n",
       "</table>\n",
       "</div>"
      ],
      "text/plain": [
       "    risk\n",
       "1     20\n",
       "13    18\n",
       "0     95\n",
       "14     2\n",
       "9     91\n",
       "8     45\n",
       "12    93\n",
       "11    59\n",
       "5     10"
      ]
     },
     "execution_count": 16,
     "metadata": {},
     "output_type": "execute_result"
    }
   ],
   "source": [
    "ytrain"
   ]
  },
  {
   "cell_type": "code",
   "execution_count": 17,
   "id": "a197e0aa",
   "metadata": {
    "execution": {
     "iopub.execute_input": "2023-10-19T06:07:00.654358Z",
     "iopub.status.busy": "2023-10-19T06:07:00.653959Z",
     "iopub.status.idle": "2023-10-19T06:07:00.662546Z",
     "shell.execute_reply": "2023-10-19T06:07:00.661479Z"
    },
    "papermill": {
     "duration": 0.020004,
     "end_time": "2023-10-19T06:07:00.665060",
     "exception": false,
     "start_time": "2023-10-19T06:07:00.645056",
     "status": "completed"
    },
    "tags": []
   },
   "outputs": [
    {
     "data": {
      "text/html": [
       "<div>\n",
       "<style scoped>\n",
       "    .dataframe tbody tr th:only-of-type {\n",
       "        vertical-align: middle;\n",
       "    }\n",
       "\n",
       "    .dataframe tbody tr th {\n",
       "        vertical-align: top;\n",
       "    }\n",
       "\n",
       "    .dataframe thead th {\n",
       "        text-align: right;\n",
       "    }\n",
       "</style>\n",
       "<table border=\"1\" class=\"dataframe\">\n",
       "  <thead>\n",
       "    <tr style=\"text-align: right;\">\n",
       "      <th></th>\n",
       "      <th>risk</th>\n",
       "    </tr>\n",
       "  </thead>\n",
       "  <tbody>\n",
       "    <tr>\n",
       "      <th>3</th>\n",
       "      <td>60</td>\n",
       "    </tr>\n",
       "    <tr>\n",
       "      <th>7</th>\n",
       "      <td>85</td>\n",
       "    </tr>\n",
       "    <tr>\n",
       "      <th>6</th>\n",
       "      <td>7</td>\n",
       "    </tr>\n",
       "    <tr>\n",
       "      <th>2</th>\n",
       "      <td>98</td>\n",
       "    </tr>\n",
       "    <tr>\n",
       "      <th>10</th>\n",
       "      <td>82</td>\n",
       "    </tr>\n",
       "    <tr>\n",
       "      <th>4</th>\n",
       "      <td>72</td>\n",
       "    </tr>\n",
       "  </tbody>\n",
       "</table>\n",
       "</div>"
      ],
      "text/plain": [
       "    risk\n",
       "3     60\n",
       "7     85\n",
       "6      7\n",
       "2     98\n",
       "10    82\n",
       "4     72"
      ]
     },
     "execution_count": 17,
     "metadata": {},
     "output_type": "execute_result"
    }
   ],
   "source": [
    "ytest"
   ]
  },
  {
   "cell_type": "code",
   "execution_count": 18,
   "id": "ad6f1553",
   "metadata": {
    "execution": {
     "iopub.execute_input": "2023-10-19T06:07:00.682512Z",
     "iopub.status.busy": "2023-10-19T06:07:00.682134Z",
     "iopub.status.idle": "2023-10-19T06:07:00.809793Z",
     "shell.execute_reply": "2023-10-19T06:07:00.808674Z"
    },
    "papermill": {
     "duration": 0.139115,
     "end_time": "2023-10-19T06:07:00.812245",
     "exception": false,
     "start_time": "2023-10-19T06:07:00.673130",
     "status": "completed"
    },
    "tags": []
   },
   "outputs": [],
   "source": [
    "from sklearn.linear_model import LinearRegression "
   ]
  },
  {
   "cell_type": "code",
   "execution_count": 19,
   "id": "73e79d30",
   "metadata": {
    "execution": {
     "iopub.execute_input": "2023-10-19T06:07:00.829033Z",
     "iopub.status.busy": "2023-10-19T06:07:00.828632Z",
     "iopub.status.idle": "2023-10-19T06:07:00.834049Z",
     "shell.execute_reply": "2023-10-19T06:07:00.832714Z"
    },
    "papermill": {
     "duration": 0.016368,
     "end_time": "2023-10-19T06:07:00.836216",
     "exception": false,
     "start_time": "2023-10-19T06:07:00.819848",
     "status": "completed"
    },
    "tags": []
   },
   "outputs": [],
   "source": [
    "reg=LinearRegression()"
   ]
  },
  {
   "cell_type": "code",
   "execution_count": 20,
   "id": "18c953d3",
   "metadata": {
    "execution": {
     "iopub.execute_input": "2023-10-19T06:07:00.854117Z",
     "iopub.status.busy": "2023-10-19T06:07:00.852803Z",
     "iopub.status.idle": "2023-10-19T06:07:00.888996Z",
     "shell.execute_reply": "2023-10-19T06:07:00.887774Z"
    },
    "papermill": {
     "duration": 0.047818,
     "end_time": "2023-10-19T06:07:00.891732",
     "exception": false,
     "start_time": "2023-10-19T06:07:00.843914",
     "status": "completed"
    },
    "tags": []
   },
   "outputs": [
    {
     "data": {
      "text/html": [
       "<style>#sk-container-id-1 {color: black;background-color: white;}#sk-container-id-1 pre{padding: 0;}#sk-container-id-1 div.sk-toggleable {background-color: white;}#sk-container-id-1 label.sk-toggleable__label {cursor: pointer;display: block;width: 100%;margin-bottom: 0;padding: 0.3em;box-sizing: border-box;text-align: center;}#sk-container-id-1 label.sk-toggleable__label-arrow:before {content: \"▸\";float: left;margin-right: 0.25em;color: #696969;}#sk-container-id-1 label.sk-toggleable__label-arrow:hover:before {color: black;}#sk-container-id-1 div.sk-estimator:hover label.sk-toggleable__label-arrow:before {color: black;}#sk-container-id-1 div.sk-toggleable__content {max-height: 0;max-width: 0;overflow: hidden;text-align: left;background-color: #f0f8ff;}#sk-container-id-1 div.sk-toggleable__content pre {margin: 0.2em;color: black;border-radius: 0.25em;background-color: #f0f8ff;}#sk-container-id-1 input.sk-toggleable__control:checked~div.sk-toggleable__content {max-height: 200px;max-width: 100%;overflow: auto;}#sk-container-id-1 input.sk-toggleable__control:checked~label.sk-toggleable__label-arrow:before {content: \"▾\";}#sk-container-id-1 div.sk-estimator input.sk-toggleable__control:checked~label.sk-toggleable__label {background-color: #d4ebff;}#sk-container-id-1 div.sk-label input.sk-toggleable__control:checked~label.sk-toggleable__label {background-color: #d4ebff;}#sk-container-id-1 input.sk-hidden--visually {border: 0;clip: rect(1px 1px 1px 1px);clip: rect(1px, 1px, 1px, 1px);height: 1px;margin: -1px;overflow: hidden;padding: 0;position: absolute;width: 1px;}#sk-container-id-1 div.sk-estimator {font-family: monospace;background-color: #f0f8ff;border: 1px dotted black;border-radius: 0.25em;box-sizing: border-box;margin-bottom: 0.5em;}#sk-container-id-1 div.sk-estimator:hover {background-color: #d4ebff;}#sk-container-id-1 div.sk-parallel-item::after {content: \"\";width: 100%;border-bottom: 1px solid gray;flex-grow: 1;}#sk-container-id-1 div.sk-label:hover label.sk-toggleable__label {background-color: #d4ebff;}#sk-container-id-1 div.sk-serial::before {content: \"\";position: absolute;border-left: 1px solid gray;box-sizing: border-box;top: 0;bottom: 0;left: 50%;z-index: 0;}#sk-container-id-1 div.sk-serial {display: flex;flex-direction: column;align-items: center;background-color: white;padding-right: 0.2em;padding-left: 0.2em;position: relative;}#sk-container-id-1 div.sk-item {position: relative;z-index: 1;}#sk-container-id-1 div.sk-parallel {display: flex;align-items: stretch;justify-content: center;background-color: white;position: relative;}#sk-container-id-1 div.sk-item::before, #sk-container-id-1 div.sk-parallel-item::before {content: \"\";position: absolute;border-left: 1px solid gray;box-sizing: border-box;top: 0;bottom: 0;left: 50%;z-index: -1;}#sk-container-id-1 div.sk-parallel-item {display: flex;flex-direction: column;z-index: 1;position: relative;background-color: white;}#sk-container-id-1 div.sk-parallel-item:first-child::after {align-self: flex-end;width: 50%;}#sk-container-id-1 div.sk-parallel-item:last-child::after {align-self: flex-start;width: 50%;}#sk-container-id-1 div.sk-parallel-item:only-child::after {width: 0;}#sk-container-id-1 div.sk-dashed-wrapped {border: 1px dashed gray;margin: 0 0.4em 0.5em 0.4em;box-sizing: border-box;padding-bottom: 0.4em;background-color: white;}#sk-container-id-1 div.sk-label label {font-family: monospace;font-weight: bold;display: inline-block;line-height: 1.2em;}#sk-container-id-1 div.sk-label-container {text-align: center;}#sk-container-id-1 div.sk-container {/* jupyter's `normalize.less` sets `[hidden] { display: none; }` but bootstrap.min.css set `[hidden] { display: none !important; }` so we also need the `!important` here to be able to override the default hidden behavior on the sphinx rendered scikit-learn.org. See: https://github.com/scikit-learn/scikit-learn/issues/21755 */display: inline-block !important;position: relative;}#sk-container-id-1 div.sk-text-repr-fallback {display: none;}</style><div id=\"sk-container-id-1\" class=\"sk-top-container\"><div class=\"sk-text-repr-fallback\"><pre>LinearRegression()</pre><b>In a Jupyter environment, please rerun this cell to show the HTML representation or trust the notebook. <br />On GitHub, the HTML representation is unable to render, please try loading this page with nbviewer.org.</b></div><div class=\"sk-container\" hidden><div class=\"sk-item\"><div class=\"sk-estimator sk-toggleable\"><input class=\"sk-toggleable__control sk-hidden--visually\" id=\"sk-estimator-id-1\" type=\"checkbox\" checked><label for=\"sk-estimator-id-1\" class=\"sk-toggleable__label sk-toggleable__label-arrow\">LinearRegression</label><div class=\"sk-toggleable__content\"><pre>LinearRegression()</pre></div></div></div></div></div>"
      ],
      "text/plain": [
       "LinearRegression()"
      ]
     },
     "execution_count": 20,
     "metadata": {},
     "output_type": "execute_result"
    }
   ],
   "source": [
    "reg.fit(xtrain,ytrain)"
   ]
  },
  {
   "cell_type": "code",
   "execution_count": 21,
   "id": "536e5d27",
   "metadata": {
    "execution": {
     "iopub.execute_input": "2023-10-19T06:07:00.910319Z",
     "iopub.status.busy": "2023-10-19T06:07:00.909347Z",
     "iopub.status.idle": "2023-10-19T06:07:00.915899Z",
     "shell.execute_reply": "2023-10-19T06:07:00.914567Z"
    },
    "papermill": {
     "duration": 0.018294,
     "end_time": "2023-10-19T06:07:00.918566",
     "exception": false,
     "start_time": "2023-10-19T06:07:00.900272",
     "status": "completed"
    },
    "tags": []
   },
   "outputs": [],
   "source": [
    "p=reg.predict(xtest)"
   ]
  },
  {
   "cell_type": "code",
   "execution_count": 22,
   "id": "9e132b65",
   "metadata": {
    "execution": {
     "iopub.execute_input": "2023-10-19T06:07:00.937509Z",
     "iopub.status.busy": "2023-10-19T06:07:00.936807Z",
     "iopub.status.idle": "2023-10-19T06:07:01.240269Z",
     "shell.execute_reply": "2023-10-19T06:07:01.239162Z"
    },
    "papermill": {
     "duration": 0.315326,
     "end_time": "2023-10-19T06:07:01.242349",
     "exception": false,
     "start_time": "2023-10-19T06:07:00.927023",
     "status": "completed"
    },
    "tags": []
   },
   "outputs": [
    {
     "data": {
      "text/plain": [
       "Text(0.5, 1.0, 'Car driving risk analysis')"
      ]
     },
     "execution_count": 22,
     "metadata": {},
     "output_type": "execute_result"
    },
    {
     "data": {
      "image/png": "[encoded data removed]",
      "text/plain": [
       "<Figure size 640x480 with 1 Axes>"
      ]
     },
     "metadata": {},
     "output_type": "display_data"
    }
   ],
   "source": [
    "plt.scatter(df['speed'],df['risk'],color='r')\n",
    "plt.plot(df.speed,reg.predict(df[['speed']]))\n",
    "plt.xlabel(\"Speed\")\n",
    "plt.ylabel(\"Risk\")\n",
    "plt.title(\"Car driving risk analysis\")"
   ]
  },
  {
   "cell_type": "code",
   "execution_count": 23,
   "id": "af417a3d",
   "metadata": {
    "execution": {
     "iopub.execute_input": "2023-10-19T06:07:01.262282Z",
     "iopub.status.busy": "2023-10-19T06:07:01.261634Z",
     "iopub.status.idle": "2023-10-19T06:07:01.269155Z",
     "shell.execute_reply": "2023-10-19T06:07:01.267772Z"
    },
    "papermill": {
     "duration": 0.020487,
     "end_time": "2023-10-19T06:07:01.271424",
     "exception": false,
     "start_time": "2023-10-19T06:07:01.250937",
     "status": "completed"
    },
    "tags": []
   },
   "outputs": [
    {
     "data": {
      "text/plain": [
       "array([[0.38891318]])"
      ]
     },
     "execution_count": 23,
     "metadata": {},
     "output_type": "execute_result"
    }
   ],
   "source": [
    "reg.coef_"
   ]
  },
  {
   "cell_type": "code",
   "execution_count": 24,
   "id": "ad12c5b7",
   "metadata": {
    "execution": {
     "iopub.execute_input": "2023-10-19T06:07:01.290554Z",
     "iopub.status.busy": "2023-10-19T06:07:01.289521Z",
     "iopub.status.idle": "2023-10-19T06:07:01.296732Z",
     "shell.execute_reply": "2023-10-19T06:07:01.295602Z"
    },
    "papermill": {
     "duration": 0.019027,
     "end_time": "2023-10-19T06:07:01.298930",
     "exception": false,
     "start_time": "2023-10-19T06:07:01.279903",
     "status": "completed"
    },
    "tags": []
   },
   "outputs": [
    {
     "data": {
      "text/plain": [
       "array([-15.62743727])"
      ]
     },
     "execution_count": 24,
     "metadata": {},
     "output_type": "execute_result"
    }
   ],
   "source": [
    "reg.intercept_"
   ]
  },
  {
   "cell_type": "code",
   "execution_count": 25,
   "id": "f27db86f",
   "metadata": {
    "execution": {
     "iopub.execute_input": "2023-10-19T06:07:01.318071Z",
     "iopub.status.busy": "2023-10-19T06:07:01.317177Z",
     "iopub.status.idle": "2023-10-19T06:07:01.329091Z",
     "shell.execute_reply": "2023-10-19T06:07:01.327533Z"
    },
    "papermill": {
     "duration": 0.023936,
     "end_time": "2023-10-19T06:07:01.331446",
     "exception": false,
     "start_time": "2023-10-19T06:07:01.307510",
     "status": "completed"
    },
    "tags": []
   },
   "outputs": [
    {
     "name": "stderr",
     "output_type": "stream",
     "text": [
      "/opt/conda/lib/python3.10/site-packages/sklearn/base.py:439: UserWarning: X does not have valid feature names, but LinearRegression was fitted with feature names\n",
      "  warnings.warn(\n"
     ]
    },
    {
     "data": {
      "text/plain": [
       "array([[93.26825216]])"
      ]
     },
     "execution_count": 25,
     "metadata": {},
     "output_type": "execute_result"
    }
   ],
   "source": [
    "reg.predict([[280]])"
   ]
  },
  {
   "cell_type": "code",
   "execution_count": 26,
   "id": "545c4a53",
   "metadata": {
    "execution": {
     "iopub.execute_input": "2023-10-19T06:07:01.351993Z",
     "iopub.status.busy": "2023-10-19T06:07:01.350652Z",
     "iopub.status.idle": "2023-10-19T06:07:01.356595Z",
     "shell.execute_reply": "2023-10-19T06:07:01.355389Z"
    },
    "papermill": {
     "duration": 0.018327,
     "end_time": "2023-10-19T06:07:01.359006",
     "exception": false,
     "start_time": "2023-10-19T06:07:01.340679",
     "status": "completed"
    },
    "tags": []
   },
   "outputs": [],
   "source": [
    "from sklearn.metrics import mean_squared_error,r2_score,accuracy_score"
   ]
  },
  {
   "cell_type": "code",
   "execution_count": 27,
   "id": "1fc386a2",
   "metadata": {
    "execution": {
     "iopub.execute_input": "2023-10-19T06:07:01.382579Z",
     "iopub.status.busy": "2023-10-19T06:07:01.381875Z",
     "iopub.status.idle": "2023-10-19T06:07:01.389269Z",
     "shell.execute_reply": "2023-10-19T06:07:01.388252Z"
    },
    "papermill": {
     "duration": 0.019784,
     "end_time": "2023-10-19T06:07:01.391412",
     "exception": false,
     "start_time": "2023-10-19T06:07:01.371628",
     "status": "completed"
    },
    "tags": []
   },
   "outputs": [
    {
     "data": {
      "text/plain": [
       "247.6056822377545"
      ]
     },
     "execution_count": 27,
     "metadata": {},
     "output_type": "execute_result"
    }
   ],
   "source": [
    "mean_squared_error(ytest,p)"
   ]
  },
  {
   "cell_type": "code",
   "execution_count": 28,
   "id": "38a6bebc",
   "metadata": {
    "execution": {
     "iopub.execute_input": "2023-10-19T06:07:01.411850Z",
     "iopub.status.busy": "2023-10-19T06:07:01.411141Z",
     "iopub.status.idle": "2023-10-19T06:07:01.419443Z",
     "shell.execute_reply": "2023-10-19T06:07:01.418326Z"
    },
    "papermill": {
     "duration": 0.021124,
     "end_time": "2023-10-19T06:07:01.421771",
     "exception": false,
     "start_time": "2023-10-19T06:07:01.400647",
     "status": "completed"
    },
    "tags": []
   },
   "outputs": [
    {
     "data": {
      "text/plain": [
       "0.7133824900141749"
      ]
     },
     "execution_count": 28,
     "metadata": {},
     "output_type": "execute_result"
    }
   ],
   "source": [
    "r2_score(ytest,p)"
   ]
  },
  {
   "cell_type": "code",
   "execution_count": null,
   "id": "470095d8",
   "metadata": {
    "papermill": {
     "duration": 0.008679,
     "end_time": "2023-10-19T06:07:01.440048",
     "exception": false,
     "start_time": "2023-10-19T06:07:01.431369",
     "status": "completed"
    },
    "tags": []
   },
   "outputs": [],
   "source": []
  }
 ],
 "metadata": {
  "kernelspec": {
   "display_name": "Python 3",
   "language": "python",
   "name": "python3"
  },
  "language_info": {
   "codemirror_mode": {
    "name": "ipython",
    "version": 3
   },
   "file_extension": ".py",
   "mimetype": "text/x-python",
   "name": "python",
   "nbconvert_exporter": "python",
   "pygments_lexer": "ipython3",
   "version": "3.10.12"
  },
  "papermill": {
   "default_parameters": {},
   "duration": 7.526316,
   "end_time": "2023-10-19T06:07:02.069906",
   "environment_variables": {},
   "exception": null,
   "input_path": "__notebook__.ipynb",
   "output_path": "__notebook__.ipynb",
   "parameters": {},
   "start_time": "2023-10-19T06:06:54.543590",
   "version": "2.4.0"
  }
 },
 "nbformat": 4,
 "nbformat_minor": 5
}
