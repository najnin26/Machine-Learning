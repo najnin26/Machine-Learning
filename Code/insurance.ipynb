{
 "cells": [
  {
   "cell_type": "code",
   "execution_count": 1,
   "id": "8b7aa8af",
   "metadata": {
    "_cell_guid": "b1076dfc-b9ad-4769-8c92-a6c4dae69d19",
    "_uuid": "8f2839f25d086af736a60e9eeb907d3b93b6e0e5",
    "execution": {
     "iopub.execute_input": "2023-10-19T15:32:19.886642Z",
     "iopub.status.busy": "2023-10-19T15:32:19.885770Z",
     "iopub.status.idle": "2023-10-19T15:32:20.328809Z",
     "shell.execute_reply": "2023-10-19T15:32:20.327820Z"
    },
    "papermill": {
     "duration": 0.452998,
     "end_time": "2023-10-19T15:32:20.331450",
     "exception": false,
     "start_time": "2023-10-19T15:32:19.878452",
     "status": "completed"
    },
    "tags": []
   },
   "outputs": [],
   "source": [
    "import numpy as np\n",
    "import matplotlib.pyplot as plt\n",
    "import pandas as pd"
   ]
  },
  {
   "cell_type": "code",
   "execution_count": 2,
   "id": "f54ec364",
   "metadata": {
    "execution": {
     "iopub.execute_input": "2023-10-19T15:32:20.344494Z",
     "iopub.status.busy": "2023-10-19T15:32:20.343853Z",
     "iopub.status.idle": "2023-10-19T15:32:20.383488Z",
     "shell.execute_reply": "2023-10-19T15:32:20.382156Z"
    },
    "papermill": {
     "duration": 0.048211,
     "end_time": "2023-10-19T15:32:20.386148",
     "exception": false,
     "start_time": "2023-10-19T15:32:20.337937",
     "status": "completed"
    },
    "tags": []
   },
   "outputs": [
    {
     "data": {
      "text/html": [
       "<div>\n",
       "<style scoped>\n",
       "    .dataframe tbody tr th:only-of-type {\n",
       "        vertical-align: middle;\n",
       "    }\n",
       "\n",
       "    .dataframe tbody tr th {\n",
       "        vertical-align: top;\n",
       "    }\n",
       "\n",
       "    .dataframe thead th {\n",
       "        text-align: right;\n",
       "    }\n",
       "</style>\n",
       "<table border=\"1\" class=\"dataframe\">\n",
       "  <thead>\n",
       "    <tr style=\"text-align: right;\">\n",
       "      <th></th>\n",
       "      <th>age</th>\n",
       "      <th>height</th>\n",
       "      <th>weight</th>\n",
       "      <th>premium</th>\n",
       "    </tr>\n",
       "  </thead>\n",
       "  <tbody>\n",
       "    <tr>\n",
       "      <th>0</th>\n",
       "      <td>25</td>\n",
       "      <td>162.56</td>\n",
       "      <td>70</td>\n",
       "      <td>18000</td>\n",
       "    </tr>\n",
       "    <tr>\n",
       "      <th>1</th>\n",
       "      <td>30</td>\n",
       "      <td>172.72</td>\n",
       "      <td>95</td>\n",
       "      <td>38000</td>\n",
       "    </tr>\n",
       "    <tr>\n",
       "      <th>2</th>\n",
       "      <td>35</td>\n",
       "      <td>167.64</td>\n",
       "      <td>78</td>\n",
       "      <td>38000</td>\n",
       "    </tr>\n",
       "    <tr>\n",
       "      <th>3</th>\n",
       "      <td>40</td>\n",
       "      <td>NaN</td>\n",
       "      <td>110</td>\n",
       "      <td>60000</td>\n",
       "    </tr>\n",
       "    <tr>\n",
       "      <th>4</th>\n",
       "      <td>45</td>\n",
       "      <td>157.48</td>\n",
       "      <td>85</td>\n",
       "      <td>70000</td>\n",
       "    </tr>\n",
       "  </tbody>\n",
       "</table>\n",
       "</div>"
      ],
      "text/plain": [
       "   age  height  weight  premium\n",
       "0   25  162.56      70    18000\n",
       "1   30  172.72      95    38000\n",
       "2   35  167.64      78    38000\n",
       "3   40     NaN     110    60000\n",
       "4   45  157.48      85    70000"
      ]
     },
     "execution_count": 2,
     "metadata": {},
     "output_type": "execute_result"
    }
   ],
   "source": [
    "df=pd.read_csv('/kaggle/input/linear-regression-multiple-variable-ml/Insurance.csv')\n",
    "df"
   ]
  },
  {
   "cell_type": "code",
   "execution_count": 3,
   "id": "58c8ce65",
   "metadata": {
    "execution": {
     "iopub.execute_input": "2023-10-19T15:32:20.397804Z",
     "iopub.status.busy": "2023-10-19T15:32:20.396513Z",
     "iopub.status.idle": "2023-10-19T15:32:20.414637Z",
     "shell.execute_reply": "2023-10-19T15:32:20.413321Z"
    },
    "papermill": {
     "duration": 0.026288,
     "end_time": "2023-10-19T15:32:20.417004",
     "exception": false,
     "start_time": "2023-10-19T15:32:20.390716",
     "status": "completed"
    },
    "tags": []
   },
   "outputs": [
    {
     "data": {
      "text/html": [
       "<div>\n",
       "<style scoped>\n",
       "    .dataframe tbody tr th:only-of-type {\n",
       "        vertical-align: middle;\n",
       "    }\n",
       "\n",
       "    .dataframe tbody tr th {\n",
       "        vertical-align: top;\n",
       "    }\n",
       "\n",
       "    .dataframe thead th {\n",
       "        text-align: right;\n",
       "    }\n",
       "</style>\n",
       "<table border=\"1\" class=\"dataframe\">\n",
       "  <thead>\n",
       "    <tr style=\"text-align: right;\">\n",
       "      <th></th>\n",
       "      <th>height</th>\n",
       "    </tr>\n",
       "  </thead>\n",
       "  <tbody>\n",
       "    <tr>\n",
       "      <th>0</th>\n",
       "      <td>162.56</td>\n",
       "    </tr>\n",
       "    <tr>\n",
       "      <th>1</th>\n",
       "      <td>172.72</td>\n",
       "    </tr>\n",
       "    <tr>\n",
       "      <th>2</th>\n",
       "      <td>167.64</td>\n",
       "    </tr>\n",
       "    <tr>\n",
       "      <th>3</th>\n",
       "      <td>NaN</td>\n",
       "    </tr>\n",
       "    <tr>\n",
       "      <th>4</th>\n",
       "      <td>157.48</td>\n",
       "    </tr>\n",
       "  </tbody>\n",
       "</table>\n",
       "</div>"
      ],
      "text/plain": [
       "   height\n",
       "0  162.56\n",
       "1  172.72\n",
       "2  167.64\n",
       "3     NaN\n",
       "4  157.48"
      ]
     },
     "execution_count": 3,
     "metadata": {},
     "output_type": "execute_result"
    }
   ],
   "source": [
    "df[['height']]"
   ]
  },
  {
   "cell_type": "code",
   "execution_count": 4,
   "id": "18a7b377",
   "metadata": {
    "execution": {
     "iopub.execute_input": "2023-10-19T15:32:20.427863Z",
     "iopub.status.busy": "2023-10-19T15:32:20.427491Z",
     "iopub.status.idle": "2023-10-19T15:32:20.436697Z",
     "shell.execute_reply": "2023-10-19T15:32:20.435539Z"
    },
    "papermill": {
     "duration": 0.017042,
     "end_time": "2023-10-19T15:32:20.438828",
     "exception": false,
     "start_time": "2023-10-19T15:32:20.421786",
     "status": "completed"
    },
    "tags": []
   },
   "outputs": [
    {
     "data": {
      "text/plain": [
       "age        0\n",
       "height     1\n",
       "weight     0\n",
       "premium    0\n",
       "dtype: int64"
      ]
     },
     "execution_count": 4,
     "metadata": {},
     "output_type": "execute_result"
    }
   ],
   "source": [
    "df.isnull().sum()"
   ]
  },
  {
   "cell_type": "code",
   "execution_count": 5,
   "id": "323c2b04",
   "metadata": {
    "execution": {
     "iopub.execute_input": "2023-10-19T15:32:20.449644Z",
     "iopub.status.busy": "2023-10-19T15:32:20.449310Z",
     "iopub.status.idle": "2023-10-19T15:32:20.457567Z",
     "shell.execute_reply": "2023-10-19T15:32:20.456234Z"
    },
    "papermill": {
     "duration": 0.016561,
     "end_time": "2023-10-19T15:32:20.460050",
     "exception": false,
     "start_time": "2023-10-19T15:32:20.443489",
     "status": "completed"
    },
    "tags": []
   },
   "outputs": [
    {
     "data": {
      "text/plain": [
       "165.1"
      ]
     },
     "execution_count": 5,
     "metadata": {},
     "output_type": "execute_result"
    }
   ],
   "source": [
    "df.height.mean()"
   ]
  },
  {
   "cell_type": "code",
   "execution_count": 6,
   "id": "8d6ae7df",
   "metadata": {
    "execution": {
     "iopub.execute_input": "2023-10-19T15:32:20.472001Z",
     "iopub.status.busy": "2023-10-19T15:32:20.471615Z",
     "iopub.status.idle": "2023-10-19T15:32:20.479543Z",
     "shell.execute_reply": "2023-10-19T15:32:20.478743Z"
    },
    "papermill": {
     "duration": 0.015981,
     "end_time": "2023-10-19T15:32:20.481323",
     "exception": false,
     "start_time": "2023-10-19T15:32:20.465342",
     "status": "completed"
    },
    "tags": []
   },
   "outputs": [
    {
     "data": {
      "text/plain": [
       "165.1"
      ]
     },
     "execution_count": 6,
     "metadata": {},
     "output_type": "execute_result"
    }
   ],
   "source": [
    "df.height.median()"
   ]
  },
  {
   "cell_type": "code",
   "execution_count": 7,
   "id": "1e2f8f37",
   "metadata": {
    "execution": {
     "iopub.execute_input": "2023-10-19T15:32:20.493076Z",
     "iopub.status.busy": "2023-10-19T15:32:20.492706Z",
     "iopub.status.idle": "2023-10-19T15:32:20.497722Z",
     "shell.execute_reply": "2023-10-19T15:32:20.496702Z"
    },
    "papermill": {
     "duration": 0.013615,
     "end_time": "2023-10-19T15:32:20.499957",
     "exception": false,
     "start_time": "2023-10-19T15:32:20.486342",
     "status": "completed"
    },
    "tags": []
   },
   "outputs": [],
   "source": [
    "h_fit=df.height.median()"
   ]
  },
  {
   "cell_type": "code",
   "execution_count": 8,
   "id": "bd86c9a8",
   "metadata": {
    "execution": {
     "iopub.execute_input": "2023-10-19T15:32:20.512380Z",
     "iopub.status.busy": "2023-10-19T15:32:20.511993Z",
     "iopub.status.idle": "2023-10-19T15:32:20.518456Z",
     "shell.execute_reply": "2023-10-19T15:32:20.517368Z"
    },
    "papermill": {
     "duration": 0.015537,
     "end_time": "2023-10-19T15:32:20.520994",
     "exception": false,
     "start_time": "2023-10-19T15:32:20.505457",
     "status": "completed"
    },
    "tags": []
   },
   "outputs": [
    {
     "data": {
      "text/plain": [
       "165.1"
      ]
     },
     "execution_count": 8,
     "metadata": {},
     "output_type": "execute_result"
    }
   ],
   "source": [
    "h_fit"
   ]
  },
  {
   "cell_type": "code",
   "execution_count": 9,
   "id": "e36fe9ba",
   "metadata": {
    "execution": {
     "iopub.execute_input": "2023-10-19T15:32:20.533085Z",
     "iopub.status.busy": "2023-10-19T15:32:20.532699Z",
     "iopub.status.idle": "2023-10-19T15:32:20.539043Z",
     "shell.execute_reply": "2023-10-19T15:32:20.537751Z"
    },
    "papermill": {
     "duration": 0.01515,
     "end_time": "2023-10-19T15:32:20.541468",
     "exception": false,
     "start_time": "2023-10-19T15:32:20.526318",
     "status": "completed"
    },
    "tags": []
   },
   "outputs": [],
   "source": [
    "df.height=df.height.fillna(h_fit)"
   ]
  },
  {
   "cell_type": "code",
   "execution_count": 10,
   "id": "1de5dede",
   "metadata": {
    "execution": {
     "iopub.execute_input": "2023-10-19T15:32:20.553202Z",
     "iopub.status.busy": "2023-10-19T15:32:20.552813Z",
     "iopub.status.idle": "2023-10-19T15:32:20.561876Z",
     "shell.execute_reply": "2023-10-19T15:32:20.560713Z"
    },
    "papermill": {
     "duration": 0.017657,
     "end_time": "2023-10-19T15:32:20.564233",
     "exception": false,
     "start_time": "2023-10-19T15:32:20.546576",
     "status": "completed"
    },
    "tags": []
   },
   "outputs": [
    {
     "data": {
      "text/plain": [
       "0    162.56\n",
       "1    172.72\n",
       "2    167.64\n",
       "3    165.10\n",
       "4    157.48\n",
       "Name: height, dtype: float64"
      ]
     },
     "execution_count": 10,
     "metadata": {},
     "output_type": "execute_result"
    }
   ],
   "source": [
    "df.height"
   ]
  },
  {
   "cell_type": "code",
   "execution_count": 11,
   "id": "f6e9f910",
   "metadata": {
    "execution": {
     "iopub.execute_input": "2023-10-19T15:32:20.577040Z",
     "iopub.status.busy": "2023-10-19T15:32:20.575792Z",
     "iopub.status.idle": "2023-10-19T15:32:20.589546Z",
     "shell.execute_reply": "2023-10-19T15:32:20.588551Z"
    },
    "papermill": {
     "duration": 0.02247,
     "end_time": "2023-10-19T15:32:20.591870",
     "exception": false,
     "start_time": "2023-10-19T15:32:20.569400",
     "status": "completed"
    },
    "tags": []
   },
   "outputs": [
    {
     "data": {
      "text/html": [
       "<div>\n",
       "<style scoped>\n",
       "    .dataframe tbody tr th:only-of-type {\n",
       "        vertical-align: middle;\n",
       "    }\n",
       "\n",
       "    .dataframe tbody tr th {\n",
       "        vertical-align: top;\n",
       "    }\n",
       "\n",
       "    .dataframe thead th {\n",
       "        text-align: right;\n",
       "    }\n",
       "</style>\n",
       "<table border=\"1\" class=\"dataframe\">\n",
       "  <thead>\n",
       "    <tr style=\"text-align: right;\">\n",
       "      <th></th>\n",
       "      <th>age</th>\n",
       "      <th>height</th>\n",
       "      <th>weight</th>\n",
       "      <th>premium</th>\n",
       "    </tr>\n",
       "  </thead>\n",
       "  <tbody>\n",
       "    <tr>\n",
       "      <th>0</th>\n",
       "      <td>25</td>\n",
       "      <td>162.56</td>\n",
       "      <td>70</td>\n",
       "      <td>18000</td>\n",
       "    </tr>\n",
       "    <tr>\n",
       "      <th>1</th>\n",
       "      <td>30</td>\n",
       "      <td>172.72</td>\n",
       "      <td>95</td>\n",
       "      <td>38000</td>\n",
       "    </tr>\n",
       "    <tr>\n",
       "      <th>2</th>\n",
       "      <td>35</td>\n",
       "      <td>167.64</td>\n",
       "      <td>78</td>\n",
       "      <td>38000</td>\n",
       "    </tr>\n",
       "    <tr>\n",
       "      <th>3</th>\n",
       "      <td>40</td>\n",
       "      <td>165.10</td>\n",
       "      <td>110</td>\n",
       "      <td>60000</td>\n",
       "    </tr>\n",
       "    <tr>\n",
       "      <th>4</th>\n",
       "      <td>45</td>\n",
       "      <td>157.48</td>\n",
       "      <td>85</td>\n",
       "      <td>70000</td>\n",
       "    </tr>\n",
       "  </tbody>\n",
       "</table>\n",
       "</div>"
      ],
      "text/plain": [
       "   age  height  weight  premium\n",
       "0   25  162.56      70    18000\n",
       "1   30  172.72      95    38000\n",
       "2   35  167.64      78    38000\n",
       "3   40  165.10     110    60000\n",
       "4   45  157.48      85    70000"
      ]
     },
     "execution_count": 11,
     "metadata": {},
     "output_type": "execute_result"
    }
   ],
   "source": [
    "df"
   ]
  },
  {
   "cell_type": "code",
   "execution_count": 12,
   "id": "4ee54dfa",
   "metadata": {
    "execution": {
     "iopub.execute_input": "2023-10-19T15:32:20.605018Z",
     "iopub.status.busy": "2023-10-19T15:32:20.604330Z",
     "iopub.status.idle": "2023-10-19T15:32:21.910979Z",
     "shell.execute_reply": "2023-10-19T15:32:21.909590Z"
    },
    "papermill": {
     "duration": 1.316567,
     "end_time": "2023-10-19T15:32:21.914024",
     "exception": false,
     "start_time": "2023-10-19T15:32:20.597457",
     "status": "completed"
    },
    "tags": []
   },
   "outputs": [],
   "source": [
    "from sklearn.linear_model import LinearRegression"
   ]
  },
  {
   "cell_type": "code",
   "execution_count": 13,
   "id": "c88b9ce3",
   "metadata": {
    "execution": {
     "iopub.execute_input": "2023-10-19T15:32:21.926523Z",
     "iopub.status.busy": "2023-10-19T15:32:21.926016Z",
     "iopub.status.idle": "2023-10-19T15:32:21.931186Z",
     "shell.execute_reply": "2023-10-19T15:32:21.930051Z"
    },
    "papermill": {
     "duration": 0.014379,
     "end_time": "2023-10-19T15:32:21.933860",
     "exception": false,
     "start_time": "2023-10-19T15:32:21.919481",
     "status": "completed"
    },
    "tags": []
   },
   "outputs": [],
   "source": [
    "reg=LinearRegression()"
   ]
  },
  {
   "cell_type": "code",
   "execution_count": 14,
   "id": "e6d3d137",
   "metadata": {
    "execution": {
     "iopub.execute_input": "2023-10-19T15:32:21.946945Z",
     "iopub.status.busy": "2023-10-19T15:32:21.946582Z",
     "iopub.status.idle": "2023-10-19T15:32:21.997554Z",
     "shell.execute_reply": "2023-10-19T15:32:21.996310Z"
    },
    "papermill": {
     "duration": 0.060647,
     "end_time": "2023-10-19T15:32:22.000158",
     "exception": false,
     "start_time": "2023-10-19T15:32:21.939511",
     "status": "completed"
    },
    "tags": []
   },
   "outputs": [
    {
     "data": {
      "text/html": [
       "<style>#sk-container-id-1 {color: black;background-color: white;}#sk-container-id-1 pre{padding: 0;}#sk-container-id-1 div.sk-toggleable {background-color: white;}#sk-container-id-1 label.sk-toggleable__label {cursor: pointer;display: block;width: 100%;margin-bottom: 0;padding: 0.3em;box-sizing: border-box;text-align: center;}#sk-container-id-1 label.sk-toggleable__label-arrow:before {content: \"▸\";float: left;margin-right: 0.25em;color: #696969;}#sk-container-id-1 label.sk-toggleable__label-arrow:hover:before {color: black;}#sk-container-id-1 div.sk-estimator:hover label.sk-toggleable__label-arrow:before {color: black;}#sk-container-id-1 div.sk-toggleable__content {max-height: 0;max-width: 0;overflow: hidden;text-align: left;background-color: #f0f8ff;}#sk-container-id-1 div.sk-toggleable__content pre {margin: 0.2em;color: black;border-radius: 0.25em;background-color: #f0f8ff;}#sk-container-id-1 input.sk-toggleable__control:checked~div.sk-toggleable__content {max-height: 200px;max-width: 100%;overflow: auto;}#sk-container-id-1 input.sk-toggleable__control:checked~label.sk-toggleable__label-arrow:before {content: \"▾\";}#sk-container-id-1 div.sk-estimator input.sk-toggleable__control:checked~label.sk-toggleable__label {background-color: #d4ebff;}#sk-container-id-1 div.sk-label input.sk-toggleable__control:checked~label.sk-toggleable__label {background-color: #d4ebff;}#sk-container-id-1 input.sk-hidden--visually {border: 0;clip: rect(1px 1px 1px 1px);clip: rect(1px, 1px, 1px, 1px);height: 1px;margin: -1px;overflow: hidden;padding: 0;position: absolute;width: 1px;}#sk-container-id-1 div.sk-estimator {font-family: monospace;background-color: #f0f8ff;border: 1px dotted black;border-radius: 0.25em;box-sizing: border-box;margin-bottom: 0.5em;}#sk-container-id-1 div.sk-estimator:hover {background-color: #d4ebff;}#sk-container-id-1 div.sk-parallel-item::after {content: \"\";width: 100%;border-bottom: 1px solid gray;flex-grow: 1;}#sk-container-id-1 div.sk-label:hover label.sk-toggleable__label {background-color: #d4ebff;}#sk-container-id-1 div.sk-serial::before {content: \"\";position: absolute;border-left: 1px solid gray;box-sizing: border-box;top: 0;bottom: 0;left: 50%;z-index: 0;}#sk-container-id-1 div.sk-serial {display: flex;flex-direction: column;align-items: center;background-color: white;padding-right: 0.2em;padding-left: 0.2em;position: relative;}#sk-container-id-1 div.sk-item {position: relative;z-index: 1;}#sk-container-id-1 div.sk-parallel {display: flex;align-items: stretch;justify-content: center;background-color: white;position: relative;}#sk-container-id-1 div.sk-item::before, #sk-container-id-1 div.sk-parallel-item::before {content: \"\";position: absolute;border-left: 1px solid gray;box-sizing: border-box;top: 0;bottom: 0;left: 50%;z-index: -1;}#sk-container-id-1 div.sk-parallel-item {display: flex;flex-direction: column;z-index: 1;position: relative;background-color: white;}#sk-container-id-1 div.sk-parallel-item:first-child::after {align-self: flex-end;width: 50%;}#sk-container-id-1 div.sk-parallel-item:last-child::after {align-self: flex-start;width: 50%;}#sk-container-id-1 div.sk-parallel-item:only-child::after {width: 0;}#sk-container-id-1 div.sk-dashed-wrapped {border: 1px dashed gray;margin: 0 0.4em 0.5em 0.4em;box-sizing: border-box;padding-bottom: 0.4em;background-color: white;}#sk-container-id-1 div.sk-label label {font-family: monospace;font-weight: bold;display: inline-block;line-height: 1.2em;}#sk-container-id-1 div.sk-label-container {text-align: center;}#sk-container-id-1 div.sk-container {/* jupyter's `normalize.less` sets `[hidden] { display: none; }` but bootstrap.min.css set `[hidden] { display: none !important; }` so we also need the `!important` here to be able to override the default hidden behavior on the sphinx rendered scikit-learn.org. See: https://github.com/scikit-learn/scikit-learn/issues/21755 */display: inline-block !important;position: relative;}#sk-container-id-1 div.sk-text-repr-fallback {display: none;}</style><div id=\"sk-container-id-1\" class=\"sk-top-container\"><div class=\"sk-text-repr-fallback\"><pre>LinearRegression()</pre><b>In a Jupyter environment, please rerun this cell to show the HTML representation or trust the notebook. <br />On GitHub, the HTML representation is unable to render, please try loading this page with nbviewer.org.</b></div><div class=\"sk-container\" hidden><div class=\"sk-item\"><div class=\"sk-estimator sk-toggleable\"><input class=\"sk-toggleable__control sk-hidden--visually\" id=\"sk-estimator-id-1\" type=\"checkbox\" checked><label for=\"sk-estimator-id-1\" class=\"sk-toggleable__label sk-toggleable__label-arrow\">LinearRegression</label><div class=\"sk-toggleable__content\"><pre>LinearRegression()</pre></div></div></div></div></div>"
      ],
      "text/plain": [
       "LinearRegression()"
      ]
     },
     "execution_count": 14,
     "metadata": {},
     "output_type": "execute_result"
    }
   ],
   "source": [
    "reg.fit(df[['age','height','weight']],df.premium)"
   ]
  },
  {
   "cell_type": "code",
   "execution_count": 15,
   "id": "04aaaa56",
   "metadata": {
    "execution": {
     "iopub.execute_input": "2023-10-19T15:32:22.015986Z",
     "iopub.status.busy": "2023-10-19T15:32:22.015048Z",
     "iopub.status.idle": "2023-10-19T15:32:22.027472Z",
     "shell.execute_reply": "2023-10-19T15:32:22.026297Z"
    },
    "papermill": {
     "duration": 0.023118,
     "end_time": "2023-10-19T15:32:22.030300",
     "exception": false,
     "start_time": "2023-10-19T15:32:22.007182",
     "status": "completed"
    },
    "tags": []
   },
   "outputs": [
    {
     "name": "stderr",
     "output_type": "stream",
     "text": [
      "/opt/conda/lib/python3.10/site-packages/sklearn/base.py:439: UserWarning: X does not have valid feature names, but LinearRegression was fitted with feature names\n",
      "  warnings.warn(\n"
     ]
    },
    {
     "data": {
      "text/plain": [
       "array([38148.16261425])"
      ]
     },
     "execution_count": 15,
     "metadata": {},
     "output_type": "execute_result"
    }
   ],
   "source": [
    "reg.predict([[33,165,80]])"
   ]
  },
  {
   "cell_type": "code",
   "execution_count": 16,
   "id": "15c581bf",
   "metadata": {
    "execution": {
     "iopub.execute_input": "2023-10-19T15:32:22.044397Z",
     "iopub.status.busy": "2023-10-19T15:32:22.043910Z",
     "iopub.status.idle": "2023-10-19T15:32:22.051811Z",
     "shell.execute_reply": "2023-10-19T15:32:22.050639Z"
    },
    "papermill": {
     "duration": 0.017766,
     "end_time": "2023-10-19T15:32:22.053858",
     "exception": false,
     "start_time": "2023-10-19T15:32:22.036092",
     "status": "completed"
    },
    "tags": []
   },
   "outputs": [
    {
     "data": {
      "text/plain": [
       "array([2150.26052416, -248.45851574,  312.65291961])"
      ]
     },
     "execution_count": 16,
     "metadata": {},
     "output_type": "execute_result"
    }
   ],
   "source": [
    "reg.coef_"
   ]
  },
  {
   "cell_type": "code",
   "execution_count": 17,
   "id": "6a65e3ef",
   "metadata": {
    "execution": {
     "iopub.execute_input": "2023-10-19T15:32:22.068339Z",
     "iopub.status.busy": "2023-10-19T15:32:22.067617Z",
     "iopub.status.idle": "2023-10-19T15:32:22.073548Z",
     "shell.execute_reply": "2023-10-19T15:32:22.072822Z"
    },
    "papermill": {
     "duration": 0.015657,
     "end_time": "2023-10-19T15:32:22.075620",
     "exception": false,
     "start_time": "2023-10-19T15:32:22.059963",
     "status": "completed"
    },
    "tags": []
   },
   "outputs": [
    {
     "data": {
      "text/plain": [
       "-16827.01315482489"
      ]
     },
     "execution_count": 17,
     "metadata": {},
     "output_type": "execute_result"
    }
   ],
   "source": [
    "reg.intercept_"
   ]
  },
  {
   "cell_type": "code",
   "execution_count": 18,
   "id": "7537cf57",
   "metadata": {
    "execution": {
     "iopub.execute_input": "2023-10-19T15:32:22.090347Z",
     "iopub.status.busy": "2023-10-19T15:32:22.089946Z",
     "iopub.status.idle": "2023-10-19T15:32:22.096620Z",
     "shell.execute_reply": "2023-10-19T15:32:22.095371Z"
    },
    "papermill": {
     "duration": 0.016648,
     "end_time": "2023-10-19T15:32:22.098645",
     "exception": false,
     "start_time": "2023-10-19T15:32:22.081997",
     "status": "completed"
    },
    "tags": []
   },
   "outputs": [
    {
     "data": {
      "text/plain": [
       "38148.16261415511"
      ]
     },
     "execution_count": 18,
     "metadata": {},
     "output_type": "execute_result"
    }
   ],
   "source": [
    "2150.26052416*33+165*-248.45851574+80*312.65291961-16827.01315482489"
   ]
  },
  {
   "cell_type": "code",
   "execution_count": null,
   "id": "ee55f181",
   "metadata": {
    "papermill": {
     "duration": 0.006119,
     "end_time": "2023-10-19T15:32:22.111931",
     "exception": false,
     "start_time": "2023-10-19T15:32:22.105812",
     "status": "completed"
    },
    "tags": []
   },
   "outputs": [],
   "source": []
  }
 ],
 "metadata": {
  "kernelspec": {
   "display_name": "Python 3",
   "language": "python",
   "name": "python3"
  },
  "language_info": {
   "codemirror_mode": {
    "name": "ipython",
    "version": 3
   },
   "file_extension": ".py",
   "mimetype": "text/x-python",
   "name": "python",
   "nbconvert_exporter": "python",
   "pygments_lexer": "ipython3",
   "version": "3.10.12"
  },
  "papermill": {
   "default_parameters": {},
   "duration": 6.391405,
   "end_time": "2023-10-19T15:32:22.840685",
   "environment_variables": {},
   "exception": null,
   "input_path": "__notebook__.ipynb",
   "output_path": "__notebook__.ipynb",
   "parameters": {},
   "start_time": "2023-10-19T15:32:16.449280",
   "version": "2.4.0"
  }
 },
 "nbformat": 4,
 "nbformat_minor": 5
}
