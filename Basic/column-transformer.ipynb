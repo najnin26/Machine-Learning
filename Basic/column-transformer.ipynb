{
 "cells": [
  {
   "cell_type": "code",
   "execution_count": 1,
   "id": "a57a56d1",
   "metadata": {
    "_cell_guid": "b1076dfc-b9ad-4769-8c92-a6c4dae69d19",
    "_uuid": "8f2839f25d086af736a60e9eeb907d3b93b6e0e5",
    "execution": {
     "iopub.execute_input": "2024-05-01T06:27:56.769367Z",
     "iopub.status.busy": "2024-05-01T06:27:56.768834Z",
     "iopub.status.idle": "2024-05-01T06:27:57.782259Z",
     "shell.execute_reply": "2024-05-01T06:27:57.781108Z"
    },
    "papermill": {
     "duration": 1.028314,
     "end_time": "2024-05-01T06:27:57.785273",
     "exception": false,
     "start_time": "2024-05-01T06:27:56.756959",
     "status": "completed"
    },
    "tags": []
   },
   "outputs": [],
   "source": [
    "import numpy as np\n",
    "import pandas as pd"
   ]
  },
  {
   "cell_type": "code",
   "execution_count": 2,
   "id": "cc43a5bf",
   "metadata": {
    "execution": {
     "iopub.execute_input": "2024-05-01T06:27:57.807756Z",
     "iopub.status.busy": "2024-05-01T06:27:57.806689Z",
     "iopub.status.idle": "2024-05-01T06:27:57.827134Z",
     "shell.execute_reply": "2024-05-01T06:27:57.825701Z"
    },
    "papermill": {
     "duration": 0.035384,
     "end_time": "2024-05-01T06:27:57.830231",
     "exception": false,
     "start_time": "2024-05-01T06:27:57.794847",
     "status": "completed"
    },
    "tags": []
   },
   "outputs": [],
   "source": [
    "df = pd.read_csv('/kaggle/input/covid-toy/covid_toy.csv')"
   ]
  },
  {
   "cell_type": "code",
   "execution_count": 3,
   "id": "235e9fb9",
   "metadata": {
    "execution": {
     "iopub.execute_input": "2024-05-01T06:27:57.851988Z",
     "iopub.status.busy": "2024-05-01T06:27:57.851608Z",
     "iopub.status.idle": "2024-05-01T06:27:57.879577Z",
     "shell.execute_reply": "2024-05-01T06:27:57.878054Z"
    },
    "papermill": {
     "duration": 0.041869,
     "end_time": "2024-05-01T06:27:57.882056",
     "exception": false,
     "start_time": "2024-05-01T06:27:57.840187",
     "status": "completed"
    },
    "tags": []
   },
   "outputs": [
    {
     "data": {
      "text/html": [
       "<div>\n",
       "<style scoped>\n",
       "    .dataframe tbody tr th:only-of-type {\n",
       "        vertical-align: middle;\n",
       "    }\n",
       "\n",
       "    .dataframe tbody tr th {\n",
       "        vertical-align: top;\n",
       "    }\n",
       "\n",
       "    .dataframe thead th {\n",
       "        text-align: right;\n",
       "    }\n",
       "</style>\n",
       "<table border=\"1\" class=\"dataframe\">\n",
       "  <thead>\n",
       "    <tr style=\"text-align: right;\">\n",
       "      <th></th>\n",
       "      <th>age</th>\n",
       "      <th>gender</th>\n",
       "      <th>fever</th>\n",
       "      <th>cough</th>\n",
       "      <th>city</th>\n",
       "      <th>has_covid</th>\n",
       "    </tr>\n",
       "  </thead>\n",
       "  <tbody>\n",
       "    <tr>\n",
       "      <th>0</th>\n",
       "      <td>60</td>\n",
       "      <td>Male</td>\n",
       "      <td>103.0</td>\n",
       "      <td>Mild</td>\n",
       "      <td>Kolkata</td>\n",
       "      <td>No</td>\n",
       "    </tr>\n",
       "    <tr>\n",
       "      <th>1</th>\n",
       "      <td>27</td>\n",
       "      <td>Male</td>\n",
       "      <td>100.0</td>\n",
       "      <td>Mild</td>\n",
       "      <td>Delhi</td>\n",
       "      <td>Yes</td>\n",
       "    </tr>\n",
       "    <tr>\n",
       "      <th>2</th>\n",
       "      <td>42</td>\n",
       "      <td>Male</td>\n",
       "      <td>101.0</td>\n",
       "      <td>Mild</td>\n",
       "      <td>Delhi</td>\n",
       "      <td>No</td>\n",
       "    </tr>\n",
       "    <tr>\n",
       "      <th>3</th>\n",
       "      <td>31</td>\n",
       "      <td>Female</td>\n",
       "      <td>98.0</td>\n",
       "      <td>Mild</td>\n",
       "      <td>Kolkata</td>\n",
       "      <td>No</td>\n",
       "    </tr>\n",
       "    <tr>\n",
       "      <th>4</th>\n",
       "      <td>65</td>\n",
       "      <td>Female</td>\n",
       "      <td>101.0</td>\n",
       "      <td>Mild</td>\n",
       "      <td>Mumbai</td>\n",
       "      <td>No</td>\n",
       "    </tr>\n",
       "  </tbody>\n",
       "</table>\n",
       "</div>"
      ],
      "text/plain": [
       "   age  gender  fever cough     city has_covid\n",
       "0   60    Male  103.0  Mild  Kolkata        No\n",
       "1   27    Male  100.0  Mild    Delhi       Yes\n",
       "2   42    Male  101.0  Mild    Delhi        No\n",
       "3   31  Female   98.0  Mild  Kolkata        No\n",
       "4   65  Female  101.0  Mild   Mumbai        No"
      ]
     },
     "execution_count": 3,
     "metadata": {},
     "output_type": "execute_result"
    }
   ],
   "source": [
    "df.head()"
   ]
  },
  {
   "cell_type": "code",
   "execution_count": 4,
   "id": "c2f9af21",
   "metadata": {
    "execution": {
     "iopub.execute_input": "2024-05-01T06:27:57.904710Z",
     "iopub.status.busy": "2024-05-01T06:27:57.904288Z",
     "iopub.status.idle": "2024-05-01T06:27:57.918894Z",
     "shell.execute_reply": "2024-05-01T06:27:57.917724Z"
    },
    "papermill": {
     "duration": 0.028495,
     "end_time": "2024-05-01T06:27:57.921236",
     "exception": false,
     "start_time": "2024-05-01T06:27:57.892741",
     "status": "completed"
    },
    "tags": []
   },
   "outputs": [
    {
     "data": {
      "text/plain": [
       "cough\n",
       "Mild      62\n",
       "Strong    38\n",
       "Name: count, dtype: int64"
      ]
     },
     "execution_count": 4,
     "metadata": {},
     "output_type": "execute_result"
    }
   ],
   "source": [
    "df['cough'].value_counts()"
   ]
  },
  {
   "cell_type": "code",
   "execution_count": 5,
   "id": "e467f912",
   "metadata": {
    "execution": {
     "iopub.execute_input": "2024-05-01T06:27:57.944515Z",
     "iopub.status.busy": "2024-05-01T06:27:57.943598Z",
     "iopub.status.idle": "2024-05-01T06:27:57.953168Z",
     "shell.execute_reply": "2024-05-01T06:27:57.951946Z"
    },
    "papermill": {
     "duration": 0.023849,
     "end_time": "2024-05-01T06:27:57.955423",
     "exception": false,
     "start_time": "2024-05-01T06:27:57.931574",
     "status": "completed"
    },
    "tags": []
   },
   "outputs": [
    {
     "data": {
      "text/plain": [
       "city\n",
       "Kolkata      32\n",
       "Bangalore    30\n",
       "Delhi        22\n",
       "Mumbai       16\n",
       "Name: count, dtype: int64"
      ]
     },
     "execution_count": 5,
     "metadata": {},
     "output_type": "execute_result"
    }
   ],
   "source": [
    "df['city'].value_counts()"
   ]
  },
  {
   "cell_type": "code",
   "execution_count": 6,
   "id": "58f270c1",
   "metadata": {
    "execution": {
     "iopub.execute_input": "2024-05-01T06:27:57.978927Z",
     "iopub.status.busy": "2024-05-01T06:27:57.978279Z",
     "iopub.status.idle": "2024-05-01T06:27:57.989357Z",
     "shell.execute_reply": "2024-05-01T06:27:57.988072Z"
    },
    "papermill": {
     "duration": 0.025884,
     "end_time": "2024-05-01T06:27:57.991925",
     "exception": false,
     "start_time": "2024-05-01T06:27:57.966041",
     "status": "completed"
    },
    "tags": []
   },
   "outputs": [
    {
     "data": {
      "text/plain": [
       "age           0\n",
       "gender        0\n",
       "fever        10\n",
       "cough         0\n",
       "city          0\n",
       "has_covid     0\n",
       "dtype: int64"
      ]
     },
     "execution_count": 6,
     "metadata": {},
     "output_type": "execute_result"
    }
   ],
   "source": [
    "df.isnull().sum()"
   ]
  },
  {
   "cell_type": "code",
   "execution_count": 7,
   "id": "2cbd81e2",
   "metadata": {
    "execution": {
     "iopub.execute_input": "2024-05-01T06:27:58.016291Z",
     "iopub.status.busy": "2024-05-01T06:27:58.015832Z",
     "iopub.status.idle": "2024-05-01T06:27:59.738860Z",
     "shell.execute_reply": "2024-05-01T06:27:59.737672Z"
    },
    "papermill": {
     "duration": 1.738888,
     "end_time": "2024-05-01T06:27:59.741567",
     "exception": false,
     "start_time": "2024-05-01T06:27:58.002679",
     "status": "completed"
    },
    "tags": []
   },
   "outputs": [],
   "source": [
    "from sklearn.impute import SimpleImputer\n",
    "from sklearn.preprocessing import OneHotEncoder\n",
    "from sklearn.preprocessing import OrdinalEncoder"
   ]
  },
  {
   "cell_type": "code",
   "execution_count": 8,
   "id": "b4ca99b0",
   "metadata": {
    "execution": {
     "iopub.execute_input": "2024-05-01T06:27:59.763989Z",
     "iopub.status.busy": "2024-05-01T06:27:59.763557Z",
     "iopub.status.idle": "2024-05-01T06:27:59.768549Z",
     "shell.execute_reply": "2024-05-01T06:27:59.767450Z"
    },
    "papermill": {
     "duration": 0.018763,
     "end_time": "2024-05-01T06:27:59.770778",
     "exception": false,
     "start_time": "2024-05-01T06:27:59.752015",
     "status": "completed"
    },
    "tags": []
   },
   "outputs": [],
   "source": [
    "from sklearn.model_selection import train_test_split"
   ]
  },
  {
   "cell_type": "code",
   "execution_count": 9,
   "id": "b86091a2",
   "metadata": {
    "execution": {
     "iopub.execute_input": "2024-05-01T06:27:59.793276Z",
     "iopub.status.busy": "2024-05-01T06:27:59.792453Z",
     "iopub.status.idle": "2024-05-01T06:27:59.809502Z",
     "shell.execute_reply": "2024-05-01T06:27:59.808291Z"
    },
    "papermill": {
     "duration": 0.031392,
     "end_time": "2024-05-01T06:27:59.812355",
     "exception": false,
     "start_time": "2024-05-01T06:27:59.780963",
     "status": "completed"
    },
    "tags": []
   },
   "outputs": [],
   "source": [
    "X_train, X_test, y_train, y_test = train_test_split(df.drop(columns='has_covid'),\n",
    "                                                    df['has_covid'],\n",
    "                                                    test_size=0.2,\n",
    "                                                    random_state=0)"
   ]
  },
  {
   "cell_type": "code",
   "execution_count": 10,
   "id": "b9e5f910",
   "metadata": {
    "execution": {
     "iopub.execute_input": "2024-05-01T06:27:59.837328Z",
     "iopub.status.busy": "2024-05-01T06:27:59.836887Z",
     "iopub.status.idle": "2024-05-01T06:27:59.853641Z",
     "shell.execute_reply": "2024-05-01T06:27:59.852180Z"
    },
    "papermill": {
     "duration": 0.031053,
     "end_time": "2024-05-01T06:27:59.856069",
     "exception": false,
     "start_time": "2024-05-01T06:27:59.825016",
     "status": "completed"
    },
    "tags": []
   },
   "outputs": [
    {
     "data": {
      "text/html": [
       "<div>\n",
       "<style scoped>\n",
       "    .dataframe tbody tr th:only-of-type {\n",
       "        vertical-align: middle;\n",
       "    }\n",
       "\n",
       "    .dataframe tbody tr th {\n",
       "        vertical-align: top;\n",
       "    }\n",
       "\n",
       "    .dataframe thead th {\n",
       "        text-align: right;\n",
       "    }\n",
       "</style>\n",
       "<table border=\"1\" class=\"dataframe\">\n",
       "  <thead>\n",
       "    <tr style=\"text-align: right;\">\n",
       "      <th></th>\n",
       "      <th>age</th>\n",
       "      <th>gender</th>\n",
       "      <th>fever</th>\n",
       "      <th>cough</th>\n",
       "      <th>city</th>\n",
       "    </tr>\n",
       "  </thead>\n",
       "  <tbody>\n",
       "    <tr>\n",
       "      <th>43</th>\n",
       "      <td>22</td>\n",
       "      <td>Female</td>\n",
       "      <td>99.0</td>\n",
       "      <td>Mild</td>\n",
       "      <td>Bangalore</td>\n",
       "    </tr>\n",
       "    <tr>\n",
       "      <th>62</th>\n",
       "      <td>56</td>\n",
       "      <td>Female</td>\n",
       "      <td>104.0</td>\n",
       "      <td>Strong</td>\n",
       "      <td>Bangalore</td>\n",
       "    </tr>\n",
       "    <tr>\n",
       "      <th>3</th>\n",
       "      <td>31</td>\n",
       "      <td>Female</td>\n",
       "      <td>98.0</td>\n",
       "      <td>Mild</td>\n",
       "      <td>Kolkata</td>\n",
       "    </tr>\n",
       "    <tr>\n",
       "      <th>71</th>\n",
       "      <td>75</td>\n",
       "      <td>Female</td>\n",
       "      <td>104.0</td>\n",
       "      <td>Strong</td>\n",
       "      <td>Delhi</td>\n",
       "    </tr>\n",
       "    <tr>\n",
       "      <th>45</th>\n",
       "      <td>72</td>\n",
       "      <td>Male</td>\n",
       "      <td>99.0</td>\n",
       "      <td>Mild</td>\n",
       "      <td>Bangalore</td>\n",
       "    </tr>\n",
       "    <tr>\n",
       "      <th>...</th>\n",
       "      <td>...</td>\n",
       "      <td>...</td>\n",
       "      <td>...</td>\n",
       "      <td>...</td>\n",
       "      <td>...</td>\n",
       "    </tr>\n",
       "    <tr>\n",
       "      <th>96</th>\n",
       "      <td>51</td>\n",
       "      <td>Female</td>\n",
       "      <td>101.0</td>\n",
       "      <td>Strong</td>\n",
       "      <td>Kolkata</td>\n",
       "    </tr>\n",
       "    <tr>\n",
       "      <th>67</th>\n",
       "      <td>65</td>\n",
       "      <td>Male</td>\n",
       "      <td>99.0</td>\n",
       "      <td>Mild</td>\n",
       "      <td>Bangalore</td>\n",
       "    </tr>\n",
       "    <tr>\n",
       "      <th>64</th>\n",
       "      <td>42</td>\n",
       "      <td>Male</td>\n",
       "      <td>104.0</td>\n",
       "      <td>Mild</td>\n",
       "      <td>Mumbai</td>\n",
       "    </tr>\n",
       "    <tr>\n",
       "      <th>47</th>\n",
       "      <td>18</td>\n",
       "      <td>Female</td>\n",
       "      <td>104.0</td>\n",
       "      <td>Mild</td>\n",
       "      <td>Bangalore</td>\n",
       "    </tr>\n",
       "    <tr>\n",
       "      <th>44</th>\n",
       "      <td>20</td>\n",
       "      <td>Male</td>\n",
       "      <td>102.0</td>\n",
       "      <td>Strong</td>\n",
       "      <td>Delhi</td>\n",
       "    </tr>\n",
       "  </tbody>\n",
       "</table>\n",
       "<p>80 rows × 5 columns</p>\n",
       "</div>"
      ],
      "text/plain": [
       "    age  gender  fever   cough       city\n",
       "43   22  Female   99.0    Mild  Bangalore\n",
       "62   56  Female  104.0  Strong  Bangalore\n",
       "3    31  Female   98.0    Mild    Kolkata\n",
       "71   75  Female  104.0  Strong      Delhi\n",
       "45   72    Male   99.0    Mild  Bangalore\n",
       "..  ...     ...    ...     ...        ...\n",
       "96   51  Female  101.0  Strong    Kolkata\n",
       "67   65    Male   99.0    Mild  Bangalore\n",
       "64   42    Male  104.0    Mild     Mumbai\n",
       "47   18  Female  104.0    Mild  Bangalore\n",
       "44   20    Male  102.0  Strong      Delhi\n",
       "\n",
       "[80 rows x 5 columns]"
      ]
     },
     "execution_count": 10,
     "metadata": {},
     "output_type": "execute_result"
    }
   ],
   "source": [
    "X_train"
   ]
  },
  {
   "cell_type": "markdown",
   "id": "60aeb731",
   "metadata": {
    "papermill": {
     "duration": 0.010331,
     "end_time": "2024-05-01T06:27:59.877045",
     "exception": false,
     "start_time": "2024-05-01T06:27:59.866714",
     "status": "completed"
    },
    "tags": []
   },
   "source": [
    "# **Adding simple imputer to fever col**"
   ]
  },
  {
   "cell_type": "code",
   "execution_count": 11,
   "id": "b787a3c2",
   "metadata": {
    "execution": {
     "iopub.execute_input": "2024-05-01T06:27:59.900196Z",
     "iopub.status.busy": "2024-05-01T06:27:59.899749Z",
     "iopub.status.idle": "2024-05-01T06:27:59.904948Z",
     "shell.execute_reply": "2024-05-01T06:27:59.903568Z"
    },
    "papermill": {
     "duration": 0.019993,
     "end_time": "2024-05-01T06:27:59.907589",
     "exception": false,
     "start_time": "2024-05-01T06:27:59.887596",
     "status": "completed"
    },
    "tags": []
   },
   "outputs": [],
   "source": [
    "si=SimpleImputer()"
   ]
  },
  {
   "cell_type": "code",
   "execution_count": 12,
   "id": "672c17f8",
   "metadata": {
    "execution": {
     "iopub.execute_input": "2024-05-01T06:27:59.930851Z",
     "iopub.status.busy": "2024-05-01T06:27:59.930471Z",
     "iopub.status.idle": "2024-05-01T06:27:59.940472Z",
     "shell.execute_reply": "2024-05-01T06:27:59.939151Z"
    },
    "papermill": {
     "duration": 0.025017,
     "end_time": "2024-05-01T06:27:59.943363",
     "exception": false,
     "start_time": "2024-05-01T06:27:59.918346",
     "status": "completed"
    },
    "tags": []
   },
   "outputs": [],
   "source": [
    "X_train_fever=si.fit_transform(X_train[['fever']])"
   ]
  },
  {
   "cell_type": "code",
   "execution_count": 13,
   "id": "a09ca1d7",
   "metadata": {
    "execution": {
     "iopub.execute_input": "2024-05-01T06:27:59.968399Z",
     "iopub.status.busy": "2024-05-01T06:27:59.967924Z",
     "iopub.status.idle": "2024-05-01T06:27:59.978004Z",
     "shell.execute_reply": "2024-05-01T06:27:59.976946Z"
    },
    "papermill": {
     "duration": 0.025717,
     "end_time": "2024-05-01T06:27:59.980336",
     "exception": false,
     "start_time": "2024-05-01T06:27:59.954619",
     "status": "completed"
    },
    "tags": []
   },
   "outputs": [],
   "source": [
    "X_test_fever=si.fit_transform(X_test[['fever']])"
   ]
  },
  {
   "cell_type": "code",
   "execution_count": 14,
   "id": "1ef18e0e",
   "metadata": {
    "execution": {
     "iopub.execute_input": "2024-05-01T06:28:00.004656Z",
     "iopub.status.busy": "2024-05-01T06:28:00.004128Z",
     "iopub.status.idle": "2024-05-01T06:28:00.014001Z",
     "shell.execute_reply": "2024-05-01T06:28:00.012640Z"
    },
    "papermill": {
     "duration": 0.025546,
     "end_time": "2024-05-01T06:28:00.016941",
     "exception": false,
     "start_time": "2024-05-01T06:27:59.991395",
     "status": "completed"
    },
    "tags": []
   },
   "outputs": [
    {
     "data": {
      "text/plain": [
       "array([[ 99.        ],\n",
       "       [104.        ],\n",
       "       [ 98.        ],\n",
       "       [104.        ],\n",
       "       [ 99.        ],\n",
       "       [ 99.        ],\n",
       "       [101.        ],\n",
       "       [ 98.        ],\n",
       "       [ 98.        ],\n",
       "       [100.        ],\n",
       "       [102.        ],\n",
       "       [ 99.        ],\n",
       "       [ 99.        ],\n",
       "       [104.        ],\n",
       "       [100.        ],\n",
       "       [102.        ],\n",
       "       [ 98.        ],\n",
       "       [100.91549296],\n",
       "       [100.        ],\n",
       "       [104.        ],\n",
       "       [100.        ],\n",
       "       [ 98.        ],\n",
       "       [100.        ],\n",
       "       [100.91549296],\n",
       "       [101.        ],\n",
       "       [103.        ],\n",
       "       [ 98.        ],\n",
       "       [102.        ],\n",
       "       [101.        ],\n",
       "       [100.91549296],\n",
       "       [100.91549296],\n",
       "       [104.        ],\n",
       "       [103.        ],\n",
       "       [102.        ],\n",
       "       [104.        ],\n",
       "       [101.        ],\n",
       "       [ 98.        ],\n",
       "       [102.        ],\n",
       "       [ 98.        ],\n",
       "       [100.        ],\n",
       "       [100.91549296],\n",
       "       [103.        ],\n",
       "       [104.        ],\n",
       "       [ 99.        ],\n",
       "       [103.        ],\n",
       "       [103.        ],\n",
       "       [101.        ],\n",
       "       [ 98.        ],\n",
       "       [104.        ],\n",
       "       [103.        ],\n",
       "       [100.91549296],\n",
       "       [100.91549296],\n",
       "       [104.        ],\n",
       "       [101.        ],\n",
       "       [ 98.        ],\n",
       "       [103.        ],\n",
       "       [ 98.        ],\n",
       "       [100.91549296],\n",
       "       [101.        ],\n",
       "       [101.        ],\n",
       "       [100.91549296],\n",
       "       [100.        ],\n",
       "       [ 99.        ],\n",
       "       [101.        ],\n",
       "       [103.        ],\n",
       "       [102.        ],\n",
       "       [ 98.        ],\n",
       "       [ 99.        ],\n",
       "       [100.        ],\n",
       "       [101.        ],\n",
       "       [101.        ],\n",
       "       [101.        ],\n",
       "       [ 98.        ],\n",
       "       [104.        ],\n",
       "       [101.        ],\n",
       "       [101.        ],\n",
       "       [ 99.        ],\n",
       "       [104.        ],\n",
       "       [104.        ],\n",
       "       [102.        ]])"
      ]
     },
     "execution_count": 14,
     "metadata": {},
     "output_type": "execute_result"
    }
   ],
   "source": [
    "X_train_fever"
   ]
  },
  {
   "cell_type": "code",
   "execution_count": 15,
   "id": "4233b173",
   "metadata": {
    "execution": {
     "iopub.execute_input": "2024-05-01T06:28:00.041202Z",
     "iopub.status.busy": "2024-05-01T06:28:00.040792Z",
     "iopub.status.idle": "2024-05-01T06:28:00.048030Z",
     "shell.execute_reply": "2024-05-01T06:28:00.046665Z"
    },
    "papermill": {
     "duration": 0.022486,
     "end_time": "2024-05-01T06:28:00.050644",
     "exception": false,
     "start_time": "2024-05-01T06:28:00.028158",
     "status": "completed"
    },
    "tags": []
   },
   "outputs": [
    {
     "data": {
      "text/plain": [
       "(80, 1)"
      ]
     },
     "execution_count": 15,
     "metadata": {},
     "output_type": "execute_result"
    }
   ],
   "source": [
    "X_train_fever.shape"
   ]
  },
  {
   "cell_type": "markdown",
   "id": "52b9bfb8",
   "metadata": {
    "papermill": {
     "duration": 0.011635,
     "end_time": "2024-05-01T06:28:00.073381",
     "exception": false,
     "start_time": "2024-05-01T06:28:00.061746",
     "status": "completed"
    },
    "tags": []
   },
   "source": [
    "# **Ordinalencoding -> cough**"
   ]
  },
  {
   "cell_type": "code",
   "execution_count": 16,
   "id": "ed360b12",
   "metadata": {
    "execution": {
     "iopub.execute_input": "2024-05-01T06:28:00.098397Z",
     "iopub.status.busy": "2024-05-01T06:28:00.097962Z",
     "iopub.status.idle": "2024-05-01T06:28:00.110448Z",
     "shell.execute_reply": "2024-05-01T06:28:00.109077Z"
    },
    "papermill": {
     "duration": 0.028246,
     "end_time": "2024-05-01T06:28:00.112923",
     "exception": false,
     "start_time": "2024-05-01T06:28:00.084677",
     "status": "completed"
    },
    "tags": []
   },
   "outputs": [
    {
     "data": {
      "text/plain": [
       "(80, 1)"
      ]
     },
     "execution_count": 16,
     "metadata": {},
     "output_type": "execute_result"
    }
   ],
   "source": [
    "custom_categories=catagories=[['Mild','Strong']]\n",
    "oe=OrdinalEncoder(categories=custom_categories)\n",
    "X_train_cough=oe.fit_transform(X_train[['cough']])\n",
    "\n",
    "X_test_cough=oe.fit_transform(X_test[['cough']])\n",
    "X_train_cough.shape"
   ]
  },
  {
   "cell_type": "markdown",
   "id": "35882ebb",
   "metadata": {
    "papermill": {
     "duration": 0.011139,
     "end_time": "2024-05-01T06:28:00.135319",
     "exception": false,
     "start_time": "2024-05-01T06:28:00.124180",
     "status": "completed"
    },
    "tags": []
   },
   "source": [
    "# **OneHotEncoding -> gender,city**"
   ]
  },
  {
   "cell_type": "code",
   "execution_count": 17,
   "id": "d772bb9d",
   "metadata": {
    "execution": {
     "iopub.execute_input": "2024-05-01T06:28:00.160106Z",
     "iopub.status.busy": "2024-05-01T06:28:00.159690Z",
     "iopub.status.idle": "2024-05-01T06:28:00.181731Z",
     "shell.execute_reply": "2024-05-01T06:28:00.180564Z"
    },
    "papermill": {
     "duration": 0.038224,
     "end_time": "2024-05-01T06:28:00.184833",
     "exception": false,
     "start_time": "2024-05-01T06:28:00.146609",
     "status": "completed"
    },
    "tags": []
   },
   "outputs": [
    {
     "name": "stderr",
     "output_type": "stream",
     "text": [
      "/opt/conda/lib/python3.10/site-packages/sklearn/preprocessing/_encoders.py:868: FutureWarning: `sparse` was renamed to `sparse_output` in version 1.2 and will be removed in 1.4. `sparse_output` is ignored unless you leave `sparse` to its default value.\n",
      "  warnings.warn(\n",
      "/opt/conda/lib/python3.10/site-packages/sklearn/preprocessing/_encoders.py:868: FutureWarning: `sparse` was renamed to `sparse_output` in version 1.2 and will be removed in 1.4. `sparse_output` is ignored unless you leave `sparse` to its default value.\n",
      "  warnings.warn(\n"
     ]
    },
    {
     "data": {
      "text/plain": [
       "(80, 4)"
      ]
     },
     "execution_count": 17,
     "metadata": {},
     "output_type": "execute_result"
    }
   ],
   "source": [
    "ohe = OneHotEncoder(drop='first',sparse=False)\n",
    "X_train_gender_city = ohe.fit_transform(X_train[['gender','city']])\n",
    "X_test_gender_city = ohe.fit_transform(X_test[['gender','city']])\n",
    "\n",
    "X_train_gender_city.shape"
   ]
  },
  {
   "cell_type": "code",
   "execution_count": 18,
   "id": "38e19a09",
   "metadata": {
    "execution": {
     "iopub.execute_input": "2024-05-01T06:28:00.210991Z",
     "iopub.status.busy": "2024-05-01T06:28:00.210559Z",
     "iopub.status.idle": "2024-05-01T06:28:00.221191Z",
     "shell.execute_reply": "2024-05-01T06:28:00.219771Z"
    },
    "papermill": {
     "duration": 0.026453,
     "end_time": "2024-05-01T06:28:00.223785",
     "exception": false,
     "start_time": "2024-05-01T06:28:00.197332",
     "status": "completed"
    },
    "tags": []
   },
   "outputs": [
    {
     "data": {
      "text/plain": [
       "(80, 1)"
      ]
     },
     "execution_count": 18,
     "metadata": {},
     "output_type": "execute_result"
    }
   ],
   "source": [
    "# Extracting Age\n",
    "X_train_age = X_train.drop(columns=['gender','fever','cough','city']).values\n",
    "X_test_age = X_test.drop(columns=['gender','fever','cough','city']).values\n",
    "\n",
    "X_train_age.shape"
   ]
  },
  {
   "cell_type": "code",
   "execution_count": 19,
   "id": "b731ab3c",
   "metadata": {
    "execution": {
     "iopub.execute_input": "2024-05-01T06:28:00.248940Z",
     "iopub.status.busy": "2024-05-01T06:28:00.248548Z",
     "iopub.status.idle": "2024-05-01T06:28:00.254747Z",
     "shell.execute_reply": "2024-05-01T06:28:00.253181Z"
    },
    "papermill": {
     "duration": 0.021903,
     "end_time": "2024-05-01T06:28:00.257420",
     "exception": false,
     "start_time": "2024-05-01T06:28:00.235517",
     "status": "completed"
    },
    "tags": []
   },
   "outputs": [],
   "source": [
    "X_train_transformed = np.concatenate((X_train_age,X_train_fever,X_train_gender_city,X_train_cough),axis=1)"
   ]
  },
  {
   "cell_type": "code",
   "execution_count": 20,
   "id": "77b09224",
   "metadata": {
    "execution": {
     "iopub.execute_input": "2024-05-01T06:28:00.283631Z",
     "iopub.status.busy": "2024-05-01T06:28:00.283226Z",
     "iopub.status.idle": "2024-05-01T06:28:00.288747Z",
     "shell.execute_reply": "2024-05-01T06:28:00.287411Z"
    },
    "papermill": {
     "duration": 0.021294,
     "end_time": "2024-05-01T06:28:00.290907",
     "exception": false,
     "start_time": "2024-05-01T06:28:00.269613",
     "status": "completed"
    },
    "tags": []
   },
   "outputs": [],
   "source": [
    "X_test_transformed = np.concatenate((X_test_age,X_test_fever,X_test_gender_city,X_test_cough),axis=1)"
   ]
  },
  {
   "cell_type": "code",
   "execution_count": 21,
   "id": "d4f2a463",
   "metadata": {
    "execution": {
     "iopub.execute_input": "2024-05-01T06:28:00.316115Z",
     "iopub.status.busy": "2024-05-01T06:28:00.315675Z",
     "iopub.status.idle": "2024-05-01T06:28:00.323179Z",
     "shell.execute_reply": "2024-05-01T06:28:00.322132Z"
    },
    "papermill": {
     "duration": 0.022831,
     "end_time": "2024-05-01T06:28:00.325672",
     "exception": false,
     "start_time": "2024-05-01T06:28:00.302841",
     "status": "completed"
    },
    "tags": []
   },
   "outputs": [
    {
     "data": {
      "text/plain": [
       "(80, 7)"
      ]
     },
     "execution_count": 21,
     "metadata": {},
     "output_type": "execute_result"
    }
   ],
   "source": [
    "X_train_transformed.shape"
   ]
  },
  {
   "cell_type": "markdown",
   "id": "ba1e82ec",
   "metadata": {
    "papermill": {
     "duration": 0.011476,
     "end_time": "2024-05-01T06:28:00.349403",
     "exception": false,
     "start_time": "2024-05-01T06:28:00.337927",
     "status": "completed"
    },
    "tags": []
   },
   "source": [
    "# **Using Sklearn Column Transformer**"
   ]
  },
  {
   "cell_type": "code",
   "execution_count": 22,
   "id": "ab1363c4",
   "metadata": {
    "execution": {
     "iopub.execute_input": "2024-05-01T06:28:00.374874Z",
     "iopub.status.busy": "2024-05-01T06:28:00.374445Z",
     "iopub.status.idle": "2024-05-01T06:28:00.389859Z",
     "shell.execute_reply": "2024-05-01T06:28:00.388508Z"
    },
    "papermill": {
     "duration": 0.032488,
     "end_time": "2024-05-01T06:28:00.393506",
     "exception": false,
     "start_time": "2024-05-01T06:28:00.361018",
     "status": "completed"
    },
    "tags": []
   },
   "outputs": [],
   "source": [
    "from sklearn.compose import ColumnTransformer"
   ]
  },
  {
   "cell_type": "code",
   "execution_count": 23,
   "id": "1e2b43c1",
   "metadata": {
    "execution": {
     "iopub.execute_input": "2024-05-01T06:28:00.420019Z",
     "iopub.status.busy": "2024-05-01T06:28:00.419610Z",
     "iopub.status.idle": "2024-05-01T06:28:00.510404Z",
     "shell.execute_reply": "2024-05-01T06:28:00.509404Z"
    },
    "papermill": {
     "duration": 0.107152,
     "end_time": "2024-05-01T06:28:00.512855",
     "exception": false,
     "start_time": "2024-05-01T06:28:00.405703",
     "status": "completed"
    },
    "tags": []
   },
   "outputs": [],
   "source": [
    "transformer=ColumnTransformer(transformers=[\n",
    "    ('tnf1',SimpleImputer(),['fever']),\n",
    "    ('tnf2',OrdinalEncoder(categories=custom_categories),['cough']),\n",
    "    ('tnf3',OneHotEncoder(sparse=False,drop='first'),['gender','city'])\n",
    "],remainder='passthrough')"
   ]
  },
  {
   "cell_type": "code",
   "execution_count": 24,
   "id": "981b35ac",
   "metadata": {
    "execution": {
     "iopub.execute_input": "2024-05-01T06:28:00.538077Z",
     "iopub.status.busy": "2024-05-01T06:28:00.537646Z",
     "iopub.status.idle": "2024-05-01T06:28:00.557420Z",
     "shell.execute_reply": "2024-05-01T06:28:00.556135Z"
    },
    "papermill": {
     "duration": 0.03704,
     "end_time": "2024-05-01T06:28:00.561749",
     "exception": false,
     "start_time": "2024-05-01T06:28:00.524709",
     "status": "completed"
    },
    "tags": []
   },
   "outputs": [
    {
     "name": "stderr",
     "output_type": "stream",
     "text": [
      "/opt/conda/lib/python3.10/site-packages/sklearn/preprocessing/_encoders.py:868: FutureWarning: `sparse` was renamed to `sparse_output` in version 1.2 and will be removed in 1.4. `sparse_output` is ignored unless you leave `sparse` to its default value.\n",
      "  warnings.warn(\n"
     ]
    },
    {
     "data": {
      "text/plain": [
       "(80, 7)"
      ]
     },
     "execution_count": 24,
     "metadata": {},
     "output_type": "execute_result"
    }
   ],
   "source": [
    "transformer.fit_transform(X_train).shape"
   ]
  },
  {
   "cell_type": "code",
   "execution_count": 25,
   "id": "3cdd5de4",
   "metadata": {
    "execution": {
     "iopub.execute_input": "2024-05-01T06:28:00.587911Z",
     "iopub.status.busy": "2024-05-01T06:28:00.587489Z",
     "iopub.status.idle": "2024-05-01T06:28:00.608306Z",
     "shell.execute_reply": "2024-05-01T06:28:00.606450Z"
    },
    "papermill": {
     "duration": 0.036847,
     "end_time": "2024-05-01T06:28:00.610831",
     "exception": false,
     "start_time": "2024-05-01T06:28:00.573984",
     "status": "completed"
    },
    "tags": []
   },
   "outputs": [
    {
     "name": "stderr",
     "output_type": "stream",
     "text": [
      "/opt/conda/lib/python3.10/site-packages/sklearn/preprocessing/_encoders.py:868: FutureWarning: `sparse` was renamed to `sparse_output` in version 1.2 and will be removed in 1.4. `sparse_output` is ignored unless you leave `sparse` to its default value.\n",
      "  warnings.warn(\n"
     ]
    },
    {
     "data": {
      "text/plain": [
       "(20, 7)"
      ]
     },
     "execution_count": 25,
     "metadata": {},
     "output_type": "execute_result"
    }
   ],
   "source": [
    "transformer.fit_transform(X_test).shape"
   ]
  },
  {
   "cell_type": "code",
   "execution_count": null,
   "id": "f75ddf4f",
   "metadata": {
    "papermill": {
     "duration": 0.011603,
     "end_time": "2024-05-01T06:28:00.634670",
     "exception": false,
     "start_time": "2024-05-01T06:28:00.623067",
     "status": "completed"
    },
    "tags": []
   },
   "outputs": [],
   "source": []
  }
 ],
 "metadata": {
  "kaggle": {
   "accelerator": "none",
   "dataSources": [
    {
     "datasetId": 4235671,
     "sourceId": 7301228,
     "sourceType": "datasetVersion"
    }
   ],
   "dockerImageVersionId": 30698,
   "isGpuEnabled": false,
   "isInternetEnabled": false,
   "language": "python",
   "sourceType": "notebook"
  },
  "kernelspec": {
   "display_name": "Python 3",
   "language": "python",
   "name": "python3"
  },
  "language_info": {
   "codemirror_mode": {
    "name": "ipython",
    "version": 3
   },
   "file_extension": ".py",
   "mimetype": "text/x-python",
   "name": "python",
   "nbconvert_exporter": "python",
   "pygments_lexer": "ipython3",
   "version": "3.10.13"
  },
  "papermill": {
   "default_parameters": {},
   "duration": 7.736927,
   "end_time": "2024-05-01T06:28:01.269536",
   "environment_variables": {},
   "exception": null,
   "input_path": "__notebook__.ipynb",
   "output_path": "__notebook__.ipynb",
   "parameters": {},
   "start_time": "2024-05-01T06:27:53.532609",
   "version": "2.5.0"
  }
 },
 "nbformat": 4,
 "nbformat_minor": 5
}
