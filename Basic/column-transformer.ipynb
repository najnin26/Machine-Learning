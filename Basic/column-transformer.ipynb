{
 "cells": [
  {
   "cell_type": "code",
   "execution_count": 1,
   "id": "62403a68",
   "metadata": {
    "_cell_guid": "b1076dfc-b9ad-4769-8c92-a6c4dae69d19",
    "_uuid": "8f2839f25d086af736a60e9eeb907d3b93b6e0e5",
    "execution": {
     "iopub.execute_input": "2024-05-01T06:15:56.368546Z",
     "iopub.status.busy": "2024-05-01T06:15:56.368084Z",
     "iopub.status.idle": "2024-05-01T06:15:57.608072Z",
     "shell.execute_reply": "2024-05-01T06:15:57.606276Z"
    },
    "papermill": {
     "duration": 1.254896,
     "end_time": "2024-05-01T06:15:57.611730",
     "exception": false,
     "start_time": "2024-05-01T06:15:56.356834",
     "status": "completed"
    },
    "tags": []
   },
   "outputs": [],
   "source": [
    "import numpy as np\n",
    "import pandas as pd"
   ]
  },
  {
   "cell_type": "code",
   "execution_count": 2,
   "id": "da170338",
   "metadata": {
    "execution": {
     "iopub.execute_input": "2024-05-01T06:15:57.632622Z",
     "iopub.status.busy": "2024-05-01T06:15:57.631069Z",
     "iopub.status.idle": "2024-05-01T06:15:57.657089Z",
     "shell.execute_reply": "2024-05-01T06:15:57.655579Z"
    },
    "papermill": {
     "duration": 0.039356,
     "end_time": "2024-05-01T06:15:57.660208",
     "exception": false,
     "start_time": "2024-05-01T06:15:57.620852",
     "status": "completed"
    },
    "tags": []
   },
   "outputs": [],
   "source": [
    "df = pd.read_csv('/kaggle/input/covid-toy/covid_toy.csv')"
   ]
  },
  {
   "cell_type": "code",
   "execution_count": 3,
   "id": "9063010d",
   "metadata": {
    "execution": {
     "iopub.execute_input": "2024-05-01T06:15:57.678704Z",
     "iopub.status.busy": "2024-05-01T06:15:57.678306Z",
     "iopub.status.idle": "2024-05-01T06:15:57.711107Z",
     "shell.execute_reply": "2024-05-01T06:15:57.709690Z"
    },
    "papermill": {
     "duration": 0.045684,
     "end_time": "2024-05-01T06:15:57.714125",
     "exception": false,
     "start_time": "2024-05-01T06:15:57.668441",
     "status": "completed"
    },
    "tags": []
   },
   "outputs": [
    {
     "data": {
      "text/html": [
       "<div>\n",
       "<style scoped>\n",
       "    .dataframe tbody tr th:only-of-type {\n",
       "        vertical-align: middle;\n",
       "    }\n",
       "\n",
       "    .dataframe tbody tr th {\n",
       "        vertical-align: top;\n",
       "    }\n",
       "\n",
       "    .dataframe thead th {\n",
       "        text-align: right;\n",
       "    }\n",
       "</style>\n",
       "<table border=\"1\" class=\"dataframe\">\n",
       "  <thead>\n",
       "    <tr style=\"text-align: right;\">\n",
       "      <th></th>\n",
       "      <th>age</th>\n",
       "      <th>gender</th>\n",
       "      <th>fever</th>\n",
       "      <th>cough</th>\n",
       "      <th>city</th>\n",
       "      <th>has_covid</th>\n",
       "    </tr>\n",
       "  </thead>\n",
       "  <tbody>\n",
       "    <tr>\n",
       "      <th>0</th>\n",
       "      <td>60</td>\n",
       "      <td>Male</td>\n",
       "      <td>103.0</td>\n",
       "      <td>Mild</td>\n",
       "      <td>Kolkata</td>\n",
       "      <td>No</td>\n",
       "    </tr>\n",
       "    <tr>\n",
       "      <th>1</th>\n",
       "      <td>27</td>\n",
       "      <td>Male</td>\n",
       "      <td>100.0</td>\n",
       "      <td>Mild</td>\n",
       "      <td>Delhi</td>\n",
       "      <td>Yes</td>\n",
       "    </tr>\n",
       "    <tr>\n",
       "      <th>2</th>\n",
       "      <td>42</td>\n",
       "      <td>Male</td>\n",
       "      <td>101.0</td>\n",
       "      <td>Mild</td>\n",
       "      <td>Delhi</td>\n",
       "      <td>No</td>\n",
       "    </tr>\n",
       "    <tr>\n",
       "      <th>3</th>\n",
       "      <td>31</td>\n",
       "      <td>Female</td>\n",
       "      <td>98.0</td>\n",
       "      <td>Mild</td>\n",
       "      <td>Kolkata</td>\n",
       "      <td>No</td>\n",
       "    </tr>\n",
       "    <tr>\n",
       "      <th>4</th>\n",
       "      <td>65</td>\n",
       "      <td>Female</td>\n",
       "      <td>101.0</td>\n",
       "      <td>Mild</td>\n",
       "      <td>Mumbai</td>\n",
       "      <td>No</td>\n",
       "    </tr>\n",
       "  </tbody>\n",
       "</table>\n",
       "</div>"
      ],
      "text/plain": [
       "   age  gender  fever cough     city has_covid\n",
       "0   60    Male  103.0  Mild  Kolkata        No\n",
       "1   27    Male  100.0  Mild    Delhi       Yes\n",
       "2   42    Male  101.0  Mild    Delhi        No\n",
       "3   31  Female   98.0  Mild  Kolkata        No\n",
       "4   65  Female  101.0  Mild   Mumbai        No"
      ]
     },
     "execution_count": 3,
     "metadata": {},
     "output_type": "execute_result"
    }
   ],
   "source": [
    "df.head()"
   ]
  },
  {
   "cell_type": "code",
   "execution_count": 4,
   "id": "caf461c6",
   "metadata": {
    "execution": {
     "iopub.execute_input": "2024-05-01T06:15:57.734648Z",
     "iopub.status.busy": "2024-05-01T06:15:57.733713Z",
     "iopub.status.idle": "2024-05-01T06:15:57.750741Z",
     "shell.execute_reply": "2024-05-01T06:15:57.749192Z"
    },
    "papermill": {
     "duration": 0.030779,
     "end_time": "2024-05-01T06:15:57.753603",
     "exception": false,
     "start_time": "2024-05-01T06:15:57.722824",
     "status": "completed"
    },
    "tags": []
   },
   "outputs": [
    {
     "data": {
      "text/plain": [
       "cough\n",
       "Mild      62\n",
       "Strong    38\n",
       "Name: count, dtype: int64"
      ]
     },
     "execution_count": 4,
     "metadata": {},
     "output_type": "execute_result"
    }
   ],
   "source": [
    "df['cough'].value_counts()"
   ]
  },
  {
   "cell_type": "code",
   "execution_count": 5,
   "id": "e57cdaa4",
   "metadata": {
    "execution": {
     "iopub.execute_input": "2024-05-01T06:15:57.774478Z",
     "iopub.status.busy": "2024-05-01T06:15:57.773108Z",
     "iopub.status.idle": "2024-05-01T06:15:57.782989Z",
     "shell.execute_reply": "2024-05-01T06:15:57.781866Z"
    },
    "papermill": {
     "duration": 0.023029,
     "end_time": "2024-05-01T06:15:57.785514",
     "exception": false,
     "start_time": "2024-05-01T06:15:57.762485",
     "status": "completed"
    },
    "tags": []
   },
   "outputs": [
    {
     "data": {
      "text/plain": [
       "city\n",
       "Kolkata      32\n",
       "Bangalore    30\n",
       "Delhi        22\n",
       "Mumbai       16\n",
       "Name: count, dtype: int64"
      ]
     },
     "execution_count": 5,
     "metadata": {},
     "output_type": "execute_result"
    }
   ],
   "source": [
    "df['city'].value_counts()"
   ]
  },
  {
   "cell_type": "code",
   "execution_count": 6,
   "id": "e13fb58c",
   "metadata": {
    "execution": {
     "iopub.execute_input": "2024-05-01T06:15:57.805563Z",
     "iopub.status.busy": "2024-05-01T06:15:57.805072Z",
     "iopub.status.idle": "2024-05-01T06:15:57.817583Z",
     "shell.execute_reply": "2024-05-01T06:15:57.816048Z"
    },
    "papermill": {
     "duration": 0.025768,
     "end_time": "2024-05-01T06:15:57.820134",
     "exception": false,
     "start_time": "2024-05-01T06:15:57.794366",
     "status": "completed"
    },
    "tags": []
   },
   "outputs": [
    {
     "data": {
      "text/plain": [
       "age           0\n",
       "gender        0\n",
       "fever        10\n",
       "cough         0\n",
       "city          0\n",
       "has_covid     0\n",
       "dtype: int64"
      ]
     },
     "execution_count": 6,
     "metadata": {},
     "output_type": "execute_result"
    }
   ],
   "source": [
    "df.isnull().sum()"
   ]
  },
  {
   "cell_type": "code",
   "execution_count": 7,
   "id": "ffe304d9",
   "metadata": {
    "execution": {
     "iopub.execute_input": "2024-05-01T06:15:57.840559Z",
     "iopub.status.busy": "2024-05-01T06:15:57.840051Z",
     "iopub.status.idle": "2024-05-01T06:15:59.743022Z",
     "shell.execute_reply": "2024-05-01T06:15:59.741616Z"
    },
    "papermill": {
     "duration": 1.917114,
     "end_time": "2024-05-01T06:15:59.746242",
     "exception": false,
     "start_time": "2024-05-01T06:15:57.829128",
     "status": "completed"
    },
    "tags": []
   },
   "outputs": [],
   "source": [
    "from sklearn.impute import SimpleImputer\n",
    "from sklearn.preprocessing import OneHotEncoder\n",
    "from sklearn.preprocessing import OrdinalEncoder"
   ]
  },
  {
   "cell_type": "code",
   "execution_count": 8,
   "id": "2163f06a",
   "metadata": {
    "execution": {
     "iopub.execute_input": "2024-05-01T06:15:59.767155Z",
     "iopub.status.busy": "2024-05-01T06:15:59.766623Z",
     "iopub.status.idle": "2024-05-01T06:15:59.772847Z",
     "shell.execute_reply": "2024-05-01T06:15:59.771193Z"
    },
    "papermill": {
     "duration": 0.019968,
     "end_time": "2024-05-01T06:15:59.775493",
     "exception": false,
     "start_time": "2024-05-01T06:15:59.755525",
     "status": "completed"
    },
    "tags": []
   },
   "outputs": [],
   "source": [
    "from sklearn.model_selection import train_test_split"
   ]
  },
  {
   "cell_type": "code",
   "execution_count": 9,
   "id": "bd7e0a20",
   "metadata": {
    "execution": {
     "iopub.execute_input": "2024-05-01T06:15:59.796090Z",
     "iopub.status.busy": "2024-05-01T06:15:59.795590Z",
     "iopub.status.idle": "2024-05-01T06:15:59.817758Z",
     "shell.execute_reply": "2024-05-01T06:15:59.816068Z"
    },
    "papermill": {
     "duration": 0.036107,
     "end_time": "2024-05-01T06:15:59.820709",
     "exception": false,
     "start_time": "2024-05-01T06:15:59.784602",
     "status": "completed"
    },
    "tags": []
   },
   "outputs": [],
   "source": [
    "X_train, X_test, y_train, y_test = train_test_split(df.drop(columns='has_covid'),\n",
    "                                                    df['has_covid'],\n",
    "                                                    test_size=0.2,\n",
    "                                                    random_state=0)"
   ]
  },
  {
   "cell_type": "code",
   "execution_count": 10,
   "id": "d906c100",
   "metadata": {
    "execution": {
     "iopub.execute_input": "2024-05-01T06:15:59.842432Z",
     "iopub.status.busy": "2024-05-01T06:15:59.841817Z",
     "iopub.status.idle": "2024-05-01T06:15:59.861827Z",
     "shell.execute_reply": "2024-05-01T06:15:59.860265Z"
    },
    "papermill": {
     "duration": 0.033775,
     "end_time": "2024-05-01T06:15:59.864670",
     "exception": false,
     "start_time": "2024-05-01T06:15:59.830895",
     "status": "completed"
    },
    "tags": []
   },
   "outputs": [
    {
     "data": {
      "text/html": [
       "<div>\n",
       "<style scoped>\n",
       "    .dataframe tbody tr th:only-of-type {\n",
       "        vertical-align: middle;\n",
       "    }\n",
       "\n",
       "    .dataframe tbody tr th {\n",
       "        vertical-align: top;\n",
       "    }\n",
       "\n",
       "    .dataframe thead th {\n",
       "        text-align: right;\n",
       "    }\n",
       "</style>\n",
       "<table border=\"1\" class=\"dataframe\">\n",
       "  <thead>\n",
       "    <tr style=\"text-align: right;\">\n",
       "      <th></th>\n",
       "      <th>age</th>\n",
       "      <th>gender</th>\n",
       "      <th>fever</th>\n",
       "      <th>cough</th>\n",
       "      <th>city</th>\n",
       "    </tr>\n",
       "  </thead>\n",
       "  <tbody>\n",
       "    <tr>\n",
       "      <th>43</th>\n",
       "      <td>22</td>\n",
       "      <td>Female</td>\n",
       "      <td>99.0</td>\n",
       "      <td>Mild</td>\n",
       "      <td>Bangalore</td>\n",
       "    </tr>\n",
       "    <tr>\n",
       "      <th>62</th>\n",
       "      <td>56</td>\n",
       "      <td>Female</td>\n",
       "      <td>104.0</td>\n",
       "      <td>Strong</td>\n",
       "      <td>Bangalore</td>\n",
       "    </tr>\n",
       "    <tr>\n",
       "      <th>3</th>\n",
       "      <td>31</td>\n",
       "      <td>Female</td>\n",
       "      <td>98.0</td>\n",
       "      <td>Mild</td>\n",
       "      <td>Kolkata</td>\n",
       "    </tr>\n",
       "    <tr>\n",
       "      <th>71</th>\n",
       "      <td>75</td>\n",
       "      <td>Female</td>\n",
       "      <td>104.0</td>\n",
       "      <td>Strong</td>\n",
       "      <td>Delhi</td>\n",
       "    </tr>\n",
       "    <tr>\n",
       "      <th>45</th>\n",
       "      <td>72</td>\n",
       "      <td>Male</td>\n",
       "      <td>99.0</td>\n",
       "      <td>Mild</td>\n",
       "      <td>Bangalore</td>\n",
       "    </tr>\n",
       "    <tr>\n",
       "      <th>...</th>\n",
       "      <td>...</td>\n",
       "      <td>...</td>\n",
       "      <td>...</td>\n",
       "      <td>...</td>\n",
       "      <td>...</td>\n",
       "    </tr>\n",
       "    <tr>\n",
       "      <th>96</th>\n",
       "      <td>51</td>\n",
       "      <td>Female</td>\n",
       "      <td>101.0</td>\n",
       "      <td>Strong</td>\n",
       "      <td>Kolkata</td>\n",
       "    </tr>\n",
       "    <tr>\n",
       "      <th>67</th>\n",
       "      <td>65</td>\n",
       "      <td>Male</td>\n",
       "      <td>99.0</td>\n",
       "      <td>Mild</td>\n",
       "      <td>Bangalore</td>\n",
       "    </tr>\n",
       "    <tr>\n",
       "      <th>64</th>\n",
       "      <td>42</td>\n",
       "      <td>Male</td>\n",
       "      <td>104.0</td>\n",
       "      <td>Mild</td>\n",
       "      <td>Mumbai</td>\n",
       "    </tr>\n",
       "    <tr>\n",
       "      <th>47</th>\n",
       "      <td>18</td>\n",
       "      <td>Female</td>\n",
       "      <td>104.0</td>\n",
       "      <td>Mild</td>\n",
       "      <td>Bangalore</td>\n",
       "    </tr>\n",
       "    <tr>\n",
       "      <th>44</th>\n",
       "      <td>20</td>\n",
       "      <td>Male</td>\n",
       "      <td>102.0</td>\n",
       "      <td>Strong</td>\n",
       "      <td>Delhi</td>\n",
       "    </tr>\n",
       "  </tbody>\n",
       "</table>\n",
       "<p>80 rows × 5 columns</p>\n",
       "</div>"
      ],
      "text/plain": [
       "    age  gender  fever   cough       city\n",
       "43   22  Female   99.0    Mild  Bangalore\n",
       "62   56  Female  104.0  Strong  Bangalore\n",
       "3    31  Female   98.0    Mild    Kolkata\n",
       "71   75  Female  104.0  Strong      Delhi\n",
       "45   72    Male   99.0    Mild  Bangalore\n",
       "..  ...     ...    ...     ...        ...\n",
       "96   51  Female  101.0  Strong    Kolkata\n",
       "67   65    Male   99.0    Mild  Bangalore\n",
       "64   42    Male  104.0    Mild     Mumbai\n",
       "47   18  Female  104.0    Mild  Bangalore\n",
       "44   20    Male  102.0  Strong      Delhi\n",
       "\n",
       "[80 rows x 5 columns]"
      ]
     },
     "execution_count": 10,
     "metadata": {},
     "output_type": "execute_result"
    }
   ],
   "source": [
    "X_train"
   ]
  },
  {
   "cell_type": "markdown",
   "id": "646f3db6",
   "metadata": {
    "papermill": {
     "duration": 0.009259,
     "end_time": "2024-05-01T06:15:59.883523",
     "exception": false,
     "start_time": "2024-05-01T06:15:59.874264",
     "status": "completed"
    },
    "tags": []
   },
   "source": [
    "# **Adding simple imputer to fever col**"
   ]
  },
  {
   "cell_type": "code",
   "execution_count": 11,
   "id": "a49a951b",
   "metadata": {
    "execution": {
     "iopub.execute_input": "2024-05-01T06:15:59.905390Z",
     "iopub.status.busy": "2024-05-01T06:15:59.904887Z",
     "iopub.status.idle": "2024-05-01T06:15:59.910640Z",
     "shell.execute_reply": "2024-05-01T06:15:59.909213Z"
    },
    "papermill": {
     "duration": 0.019225,
     "end_time": "2024-05-01T06:15:59.913181",
     "exception": false,
     "start_time": "2024-05-01T06:15:59.893956",
     "status": "completed"
    },
    "tags": []
   },
   "outputs": [],
   "source": [
    "si=SimpleImputer()"
   ]
  },
  {
   "cell_type": "code",
   "execution_count": 12,
   "id": "caf54376",
   "metadata": {
    "execution": {
     "iopub.execute_input": "2024-05-01T06:15:59.934909Z",
     "iopub.status.busy": "2024-05-01T06:15:59.933615Z",
     "iopub.status.idle": "2024-05-01T06:15:59.945023Z",
     "shell.execute_reply": "2024-05-01T06:15:59.943760Z"
    },
    "papermill": {
     "duration": 0.025694,
     "end_time": "2024-05-01T06:15:59.948216",
     "exception": false,
     "start_time": "2024-05-01T06:15:59.922522",
     "status": "completed"
    },
    "tags": []
   },
   "outputs": [],
   "source": [
    "X_train_fever=si.fit_transform(X_train[['fever']])"
   ]
  },
  {
   "cell_type": "code",
   "execution_count": 13,
   "id": "c8b19b4e",
   "metadata": {
    "execution": {
     "iopub.execute_input": "2024-05-01T06:15:59.970366Z",
     "iopub.status.busy": "2024-05-01T06:15:59.969728Z",
     "iopub.status.idle": "2024-05-01T06:15:59.981413Z",
     "shell.execute_reply": "2024-05-01T06:15:59.979711Z"
    },
    "papermill": {
     "duration": 0.02645,
     "end_time": "2024-05-01T06:15:59.984448",
     "exception": false,
     "start_time": "2024-05-01T06:15:59.957998",
     "status": "completed"
    },
    "tags": []
   },
   "outputs": [],
   "source": [
    "X_test_fever=si.fit_transform(X_test[['fever']])"
   ]
  },
  {
   "cell_type": "code",
   "execution_count": 14,
   "id": "93b7ceb5",
   "metadata": {
    "execution": {
     "iopub.execute_input": "2024-05-01T06:16:00.009358Z",
     "iopub.status.busy": "2024-05-01T06:16:00.008796Z",
     "iopub.status.idle": "2024-05-01T06:16:00.020716Z",
     "shell.execute_reply": "2024-05-01T06:16:00.019011Z"
    },
    "papermill": {
     "duration": 0.030048,
     "end_time": "2024-05-01T06:16:00.024224",
     "exception": false,
     "start_time": "2024-05-01T06:15:59.994176",
     "status": "completed"
    },
    "tags": []
   },
   "outputs": [
    {
     "data": {
      "text/plain": [
       "array([[ 99.        ],\n",
       "       [104.        ],\n",
       "       [ 98.        ],\n",
       "       [104.        ],\n",
       "       [ 99.        ],\n",
       "       [ 99.        ],\n",
       "       [101.        ],\n",
       "       [ 98.        ],\n",
       "       [ 98.        ],\n",
       "       [100.        ],\n",
       "       [102.        ],\n",
       "       [ 99.        ],\n",
       "       [ 99.        ],\n",
       "       [104.        ],\n",
       "       [100.        ],\n",
       "       [102.        ],\n",
       "       [ 98.        ],\n",
       "       [100.91549296],\n",
       "       [100.        ],\n",
       "       [104.        ],\n",
       "       [100.        ],\n",
       "       [ 98.        ],\n",
       "       [100.        ],\n",
       "       [100.91549296],\n",
       "       [101.        ],\n",
       "       [103.        ],\n",
       "       [ 98.        ],\n",
       "       [102.        ],\n",
       "       [101.        ],\n",
       "       [100.91549296],\n",
       "       [100.91549296],\n",
       "       [104.        ],\n",
       "       [103.        ],\n",
       "       [102.        ],\n",
       "       [104.        ],\n",
       "       [101.        ],\n",
       "       [ 98.        ],\n",
       "       [102.        ],\n",
       "       [ 98.        ],\n",
       "       [100.        ],\n",
       "       [100.91549296],\n",
       "       [103.        ],\n",
       "       [104.        ],\n",
       "       [ 99.        ],\n",
       "       [103.        ],\n",
       "       [103.        ],\n",
       "       [101.        ],\n",
       "       [ 98.        ],\n",
       "       [104.        ],\n",
       "       [103.        ],\n",
       "       [100.91549296],\n",
       "       [100.91549296],\n",
       "       [104.        ],\n",
       "       [101.        ],\n",
       "       [ 98.        ],\n",
       "       [103.        ],\n",
       "       [ 98.        ],\n",
       "       [100.91549296],\n",
       "       [101.        ],\n",
       "       [101.        ],\n",
       "       [100.91549296],\n",
       "       [100.        ],\n",
       "       [ 99.        ],\n",
       "       [101.        ],\n",
       "       [103.        ],\n",
       "       [102.        ],\n",
       "       [ 98.        ],\n",
       "       [ 99.        ],\n",
       "       [100.        ],\n",
       "       [101.        ],\n",
       "       [101.        ],\n",
       "       [101.        ],\n",
       "       [ 98.        ],\n",
       "       [104.        ],\n",
       "       [101.        ],\n",
       "       [101.        ],\n",
       "       [ 99.        ],\n",
       "       [104.        ],\n",
       "       [104.        ],\n",
       "       [102.        ]])"
      ]
     },
     "execution_count": 14,
     "metadata": {},
     "output_type": "execute_result"
    }
   ],
   "source": [
    "X_train_fever"
   ]
  },
  {
   "cell_type": "code",
   "execution_count": 15,
   "id": "fc13be0a",
   "metadata": {
    "execution": {
     "iopub.execute_input": "2024-05-01T06:16:00.047588Z",
     "iopub.status.busy": "2024-05-01T06:16:00.047061Z",
     "iopub.status.idle": "2024-05-01T06:16:00.055035Z",
     "shell.execute_reply": "2024-05-01T06:16:00.053639Z"
    },
    "papermill": {
     "duration": 0.023532,
     "end_time": "2024-05-01T06:16:00.058207",
     "exception": false,
     "start_time": "2024-05-01T06:16:00.034675",
     "status": "completed"
    },
    "tags": []
   },
   "outputs": [
    {
     "data": {
      "text/plain": [
       "(80, 1)"
      ]
     },
     "execution_count": 15,
     "metadata": {},
     "output_type": "execute_result"
    }
   ],
   "source": [
    "X_train_fever.shape"
   ]
  },
  {
   "cell_type": "markdown",
   "id": "9858c000",
   "metadata": {
    "papermill": {
     "duration": 0.011101,
     "end_time": "2024-05-01T06:16:00.079504",
     "exception": false,
     "start_time": "2024-05-01T06:16:00.068403",
     "status": "completed"
    },
    "tags": []
   },
   "source": [
    "# **Ordinalencoding -> cough**"
   ]
  },
  {
   "cell_type": "code",
   "execution_count": 16,
   "id": "315a5ced",
   "metadata": {
    "execution": {
     "iopub.execute_input": "2024-05-01T06:16:00.106587Z",
     "iopub.status.busy": "2024-05-01T06:16:00.106175Z",
     "iopub.status.idle": "2024-05-01T06:16:00.121709Z",
     "shell.execute_reply": "2024-05-01T06:16:00.119741Z"
    },
    "papermill": {
     "duration": 0.035082,
     "end_time": "2024-05-01T06:16:00.126840",
     "exception": false,
     "start_time": "2024-05-01T06:16:00.091758",
     "status": "completed"
    },
    "tags": []
   },
   "outputs": [
    {
     "data": {
      "text/plain": [
       "(80, 1)"
      ]
     },
     "execution_count": 16,
     "metadata": {},
     "output_type": "execute_result"
    }
   ],
   "source": [
    "custom_categories=catagories=[['Mild','Strong']]\n",
    "oe=OrdinalEncoder(categories=custom_categories)\n",
    "X_train_cough=oe.fit_transform(X_train[['cough']])\n",
    "\n",
    "X_test_cough=oe.fit_transform(X_test[['cough']])\n",
    "X_train_cough.shape"
   ]
  },
  {
   "cell_type": "markdown",
   "id": "c6a6cd76",
   "metadata": {
    "papermill": {
     "duration": 0.010815,
     "end_time": "2024-05-01T06:16:00.148813",
     "exception": false,
     "start_time": "2024-05-01T06:16:00.137998",
     "status": "completed"
    },
    "tags": []
   },
   "source": [
    "# **OneHotEncoding -> gender,city**"
   ]
  },
  {
   "cell_type": "code",
   "execution_count": 17,
   "id": "d15963d7",
   "metadata": {
    "execution": {
     "iopub.execute_input": "2024-05-01T06:16:00.172453Z",
     "iopub.status.busy": "2024-05-01T06:16:00.171908Z",
     "iopub.status.idle": "2024-05-01T06:16:00.197051Z",
     "shell.execute_reply": "2024-05-01T06:16:00.195554Z"
    },
    "papermill": {
     "duration": 0.041674,
     "end_time": "2024-05-01T06:16:00.201207",
     "exception": false,
     "start_time": "2024-05-01T06:16:00.159533",
     "status": "completed"
    },
    "tags": []
   },
   "outputs": [
    {
     "name": "stderr",
     "output_type": "stream",
     "text": [
      "/opt/conda/lib/python3.10/site-packages/sklearn/preprocessing/_encoders.py:868: FutureWarning: `sparse` was renamed to `sparse_output` in version 1.2 and will be removed in 1.4. `sparse_output` is ignored unless you leave `sparse` to its default value.\n",
      "  warnings.warn(\n",
      "/opt/conda/lib/python3.10/site-packages/sklearn/preprocessing/_encoders.py:868: FutureWarning: `sparse` was renamed to `sparse_output` in version 1.2 and will be removed in 1.4. `sparse_output` is ignored unless you leave `sparse` to its default value.\n",
      "  warnings.warn(\n"
     ]
    },
    {
     "data": {
      "text/plain": [
       "(80, 4)"
      ]
     },
     "execution_count": 17,
     "metadata": {},
     "output_type": "execute_result"
    }
   ],
   "source": [
    "ohe = OneHotEncoder(drop='first',sparse=False)\n",
    "X_train_gender_city = ohe.fit_transform(X_train[['gender','city']])\n",
    "X_test_gender_city = ohe.fit_transform(X_test[['gender','city']])\n",
    "\n",
    "X_train_gender_city.shape"
   ]
  },
  {
   "cell_type": "code",
   "execution_count": 18,
   "id": "06600b71",
   "metadata": {
    "execution": {
     "iopub.execute_input": "2024-05-01T06:16:00.225946Z",
     "iopub.status.busy": "2024-05-01T06:16:00.225460Z",
     "iopub.status.idle": "2024-05-01T06:16:00.237058Z",
     "shell.execute_reply": "2024-05-01T06:16:00.235477Z"
    },
    "papermill": {
     "duration": 0.027791,
     "end_time": "2024-05-01T06:16:00.240005",
     "exception": false,
     "start_time": "2024-05-01T06:16:00.212214",
     "status": "completed"
    },
    "tags": []
   },
   "outputs": [
    {
     "data": {
      "text/plain": [
       "(80, 1)"
      ]
     },
     "execution_count": 18,
     "metadata": {},
     "output_type": "execute_result"
    }
   ],
   "source": [
    "# Extracting Age\n",
    "X_train_age = X_train.drop(columns=['gender','fever','cough','city']).values\n",
    "X_test_age = X_test.drop(columns=['gender','fever','cough','city']).values\n",
    "\n",
    "X_train_age.shape"
   ]
  },
  {
   "cell_type": "code",
   "execution_count": 19,
   "id": "a0c9e9cb",
   "metadata": {
    "execution": {
     "iopub.execute_input": "2024-05-01T06:16:00.264002Z",
     "iopub.status.busy": "2024-05-01T06:16:00.263497Z",
     "iopub.status.idle": "2024-05-01T06:16:00.269934Z",
     "shell.execute_reply": "2024-05-01T06:16:00.268261Z"
    },
    "papermill": {
     "duration": 0.022219,
     "end_time": "2024-05-01T06:16:00.273018",
     "exception": false,
     "start_time": "2024-05-01T06:16:00.250799",
     "status": "completed"
    },
    "tags": []
   },
   "outputs": [],
   "source": [
    "X_train_transformed = np.concatenate((X_train_age,X_train_fever,X_train_gender_city,X_train_cough),axis=1)"
   ]
  },
  {
   "cell_type": "code",
   "execution_count": 20,
   "id": "bbb3b00c",
   "metadata": {
    "execution": {
     "iopub.execute_input": "2024-05-01T06:16:00.297895Z",
     "iopub.status.busy": "2024-05-01T06:16:00.297395Z",
     "iopub.status.idle": "2024-05-01T06:16:00.303803Z",
     "shell.execute_reply": "2024-05-01T06:16:00.302259Z"
    },
    "papermill": {
     "duration": 0.023825,
     "end_time": "2024-05-01T06:16:00.307687",
     "exception": false,
     "start_time": "2024-05-01T06:16:00.283862",
     "status": "completed"
    },
    "tags": []
   },
   "outputs": [],
   "source": [
    "X_test_transformed = np.concatenate((X_test_age,X_test_fever,X_test_gender_city,X_test_cough),axis=1)"
   ]
  },
  {
   "cell_type": "code",
   "execution_count": 21,
   "id": "62241117",
   "metadata": {
    "execution": {
     "iopub.execute_input": "2024-05-01T06:16:00.333212Z",
     "iopub.status.busy": "2024-05-01T06:16:00.332685Z",
     "iopub.status.idle": "2024-05-01T06:16:00.341200Z",
     "shell.execute_reply": "2024-05-01T06:16:00.339589Z"
    },
    "papermill": {
     "duration": 0.024732,
     "end_time": "2024-05-01T06:16:00.344239",
     "exception": false,
     "start_time": "2024-05-01T06:16:00.319507",
     "status": "completed"
    },
    "tags": []
   },
   "outputs": [
    {
     "data": {
      "text/plain": [
       "(80, 7)"
      ]
     },
     "execution_count": 21,
     "metadata": {},
     "output_type": "execute_result"
    }
   ],
   "source": [
    "X_train_transformed.shape"
   ]
  },
  {
   "cell_type": "code",
   "execution_count": null,
   "id": "55a543b5",
   "metadata": {
    "papermill": {
     "duration": 0.010848,
     "end_time": "2024-05-01T06:16:00.365927",
     "exception": false,
     "start_time": "2024-05-01T06:16:00.355079",
     "status": "completed"
    },
    "tags": []
   },
   "outputs": [],
   "source": []
  }
 ],
 "metadata": {
  "kaggle": {
   "accelerator": "none",
   "dataSources": [
    {
     "datasetId": 4235671,
     "sourceId": 7301228,
     "sourceType": "datasetVersion"
    }
   ],
   "dockerImageVersionId": 30698,
   "isGpuEnabled": false,
   "isInternetEnabled": false,
   "language": "python",
   "sourceType": "notebook"
  },
  "kernelspec": {
   "display_name": "Python 3",
   "language": "python",
   "name": "python3"
  },
  "language_info": {
   "codemirror_mode": {
    "name": "ipython",
    "version": 3
   },
   "file_extension": ".py",
   "mimetype": "text/x-python",
   "name": "python",
   "nbconvert_exporter": "python",
   "pygments_lexer": "ipython3",
   "version": "3.10.13"
  },
  "papermill": {
   "default_parameters": {},
   "duration": 8.614214,
   "end_time": "2024-05-01T06:16:01.303524",
   "environment_variables": {},
   "exception": null,
   "input_path": "__notebook__.ipynb",
   "output_path": "__notebook__.ipynb",
   "parameters": {},
   "start_time": "2024-05-01T06:15:52.689310",
   "version": "2.5.0"
  }
 },
 "nbformat": 4,
 "nbformat_minor": 5
}
