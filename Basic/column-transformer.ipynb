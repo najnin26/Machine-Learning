{
 "cells": [
  {
   "cell_type": "code",
   "execution_count": 1,
   "id": "7a3b7ffb",
   "metadata": {
    "_cell_guid": "b1076dfc-b9ad-4769-8c92-a6c4dae69d19",
    "_uuid": "8f2839f25d086af736a60e9eeb907d3b93b6e0e5",
    "execution": {
     "iopub.execute_input": "2024-05-01T06:07:45.341544Z",
     "iopub.status.busy": "2024-05-01T06:07:45.341073Z",
     "iopub.status.idle": "2024-05-01T06:07:46.415191Z",
     "shell.execute_reply": "2024-05-01T06:07:46.413886Z"
    },
    "papermill": {
     "duration": 1.087337,
     "end_time": "2024-05-01T06:07:46.418305",
     "exception": false,
     "start_time": "2024-05-01T06:07:45.330968",
     "status": "completed"
    },
    "tags": []
   },
   "outputs": [],
   "source": [
    "import numpy as np\n",
    "import pandas as pd"
   ]
  },
  {
   "cell_type": "code",
   "execution_count": 2,
   "id": "140ffca0",
   "metadata": {
    "execution": {
     "iopub.execute_input": "2024-05-01T06:07:46.434899Z",
     "iopub.status.busy": "2024-05-01T06:07:46.434277Z",
     "iopub.status.idle": "2024-05-01T06:07:46.459159Z",
     "shell.execute_reply": "2024-05-01T06:07:46.457881Z"
    },
    "papermill": {
     "duration": 0.036552,
     "end_time": "2024-05-01T06:07:46.462166",
     "exception": false,
     "start_time": "2024-05-01T06:07:46.425614",
     "status": "completed"
    },
    "tags": []
   },
   "outputs": [],
   "source": [
    "df = pd.read_csv('/kaggle/input/covid-toy/covid_toy.csv')"
   ]
  },
  {
   "cell_type": "code",
   "execution_count": 3,
   "id": "6e35e2f5",
   "metadata": {
    "execution": {
     "iopub.execute_input": "2024-05-01T06:07:46.478610Z",
     "iopub.status.busy": "2024-05-01T06:07:46.478153Z",
     "iopub.status.idle": "2024-05-01T06:07:46.505472Z",
     "shell.execute_reply": "2024-05-01T06:07:46.504287Z"
    },
    "papermill": {
     "duration": 0.038395,
     "end_time": "2024-05-01T06:07:46.508040",
     "exception": false,
     "start_time": "2024-05-01T06:07:46.469645",
     "status": "completed"
    },
    "tags": []
   },
   "outputs": [
    {
     "data": {
      "text/html": [
       "<div>\n",
       "<style scoped>\n",
       "    .dataframe tbody tr th:only-of-type {\n",
       "        vertical-align: middle;\n",
       "    }\n",
       "\n",
       "    .dataframe tbody tr th {\n",
       "        vertical-align: top;\n",
       "    }\n",
       "\n",
       "    .dataframe thead th {\n",
       "        text-align: right;\n",
       "    }\n",
       "</style>\n",
       "<table border=\"1\" class=\"dataframe\">\n",
       "  <thead>\n",
       "    <tr style=\"text-align: right;\">\n",
       "      <th></th>\n",
       "      <th>age</th>\n",
       "      <th>gender</th>\n",
       "      <th>fever</th>\n",
       "      <th>cough</th>\n",
       "      <th>city</th>\n",
       "      <th>has_covid</th>\n",
       "    </tr>\n",
       "  </thead>\n",
       "  <tbody>\n",
       "    <tr>\n",
       "      <th>0</th>\n",
       "      <td>60</td>\n",
       "      <td>Male</td>\n",
       "      <td>103.0</td>\n",
       "      <td>Mild</td>\n",
       "      <td>Kolkata</td>\n",
       "      <td>No</td>\n",
       "    </tr>\n",
       "    <tr>\n",
       "      <th>1</th>\n",
       "      <td>27</td>\n",
       "      <td>Male</td>\n",
       "      <td>100.0</td>\n",
       "      <td>Mild</td>\n",
       "      <td>Delhi</td>\n",
       "      <td>Yes</td>\n",
       "    </tr>\n",
       "    <tr>\n",
       "      <th>2</th>\n",
       "      <td>42</td>\n",
       "      <td>Male</td>\n",
       "      <td>101.0</td>\n",
       "      <td>Mild</td>\n",
       "      <td>Delhi</td>\n",
       "      <td>No</td>\n",
       "    </tr>\n",
       "    <tr>\n",
       "      <th>3</th>\n",
       "      <td>31</td>\n",
       "      <td>Female</td>\n",
       "      <td>98.0</td>\n",
       "      <td>Mild</td>\n",
       "      <td>Kolkata</td>\n",
       "      <td>No</td>\n",
       "    </tr>\n",
       "    <tr>\n",
       "      <th>4</th>\n",
       "      <td>65</td>\n",
       "      <td>Female</td>\n",
       "      <td>101.0</td>\n",
       "      <td>Mild</td>\n",
       "      <td>Mumbai</td>\n",
       "      <td>No</td>\n",
       "    </tr>\n",
       "  </tbody>\n",
       "</table>\n",
       "</div>"
      ],
      "text/plain": [
       "   age  gender  fever cough     city has_covid\n",
       "0   60    Male  103.0  Mild  Kolkata        No\n",
       "1   27    Male  100.0  Mild    Delhi       Yes\n",
       "2   42    Male  101.0  Mild    Delhi        No\n",
       "3   31  Female   98.0  Mild  Kolkata        No\n",
       "4   65  Female  101.0  Mild   Mumbai        No"
      ]
     },
     "execution_count": 3,
     "metadata": {},
     "output_type": "execute_result"
    }
   ],
   "source": [
    "df.head()"
   ]
  },
  {
   "cell_type": "code",
   "execution_count": 4,
   "id": "bdc397e8",
   "metadata": {
    "execution": {
     "iopub.execute_input": "2024-05-01T06:07:46.526134Z",
     "iopub.status.busy": "2024-05-01T06:07:46.524926Z",
     "iopub.status.idle": "2024-05-01T06:07:46.555746Z",
     "shell.execute_reply": "2024-05-01T06:07:46.554593Z"
    },
    "papermill": {
     "duration": 0.042499,
     "end_time": "2024-05-01T06:07:46.558171",
     "exception": false,
     "start_time": "2024-05-01T06:07:46.515672",
     "status": "completed"
    },
    "tags": []
   },
   "outputs": [
    {
     "data": {
      "text/plain": [
       "cough\n",
       "Mild      62\n",
       "Strong    38\n",
       "Name: count, dtype: int64"
      ]
     },
     "execution_count": 4,
     "metadata": {},
     "output_type": "execute_result"
    }
   ],
   "source": [
    "df['cough'].value_counts()"
   ]
  },
  {
   "cell_type": "code",
   "execution_count": 5,
   "id": "2e926b9b",
   "metadata": {
    "execution": {
     "iopub.execute_input": "2024-05-01T06:07:46.575667Z",
     "iopub.status.busy": "2024-05-01T06:07:46.574940Z",
     "iopub.status.idle": "2024-05-01T06:07:46.584409Z",
     "shell.execute_reply": "2024-05-01T06:07:46.583208Z"
    },
    "papermill": {
     "duration": 0.021055,
     "end_time": "2024-05-01T06:07:46.586755",
     "exception": false,
     "start_time": "2024-05-01T06:07:46.565700",
     "status": "completed"
    },
    "tags": []
   },
   "outputs": [
    {
     "data": {
      "text/plain": [
       "city\n",
       "Kolkata      32\n",
       "Bangalore    30\n",
       "Delhi        22\n",
       "Mumbai       16\n",
       "Name: count, dtype: int64"
      ]
     },
     "execution_count": 5,
     "metadata": {},
     "output_type": "execute_result"
    }
   ],
   "source": [
    "df['city'].value_counts()"
   ]
  },
  {
   "cell_type": "code",
   "execution_count": 6,
   "id": "707cabd9",
   "metadata": {
    "execution": {
     "iopub.execute_input": "2024-05-01T06:07:46.604228Z",
     "iopub.status.busy": "2024-05-01T06:07:46.603555Z",
     "iopub.status.idle": "2024-05-01T06:07:46.615982Z",
     "shell.execute_reply": "2024-05-01T06:07:46.614976Z"
    },
    "papermill": {
     "duration": 0.023861,
     "end_time": "2024-05-01T06:07:46.618266",
     "exception": false,
     "start_time": "2024-05-01T06:07:46.594405",
     "status": "completed"
    },
    "tags": []
   },
   "outputs": [
    {
     "data": {
      "text/plain": [
       "age           0\n",
       "gender        0\n",
       "fever        10\n",
       "cough         0\n",
       "city          0\n",
       "has_covid     0\n",
       "dtype: int64"
      ]
     },
     "execution_count": 6,
     "metadata": {},
     "output_type": "execute_result"
    }
   ],
   "source": [
    "df.isnull().sum()"
   ]
  },
  {
   "cell_type": "code",
   "execution_count": 7,
   "id": "52f090e7",
   "metadata": {
    "execution": {
     "iopub.execute_input": "2024-05-01T06:07:46.636707Z",
     "iopub.status.busy": "2024-05-01T06:07:46.636229Z",
     "iopub.status.idle": "2024-05-01T06:07:48.251738Z",
     "shell.execute_reply": "2024-05-01T06:07:48.250621Z"
    },
    "papermill": {
     "duration": 1.628,
     "end_time": "2024-05-01T06:07:48.254398",
     "exception": false,
     "start_time": "2024-05-01T06:07:46.626398",
     "status": "completed"
    },
    "tags": []
   },
   "outputs": [],
   "source": [
    "from sklearn.impute import SimpleImputer\n",
    "from sklearn.preprocessing import OneHotEncoder\n",
    "from sklearn.preprocessing import OrdinalEncoder"
   ]
  },
  {
   "cell_type": "code",
   "execution_count": 8,
   "id": "b5cfe1bf",
   "metadata": {
    "execution": {
     "iopub.execute_input": "2024-05-01T06:07:48.272601Z",
     "iopub.status.busy": "2024-05-01T06:07:48.272105Z",
     "iopub.status.idle": "2024-05-01T06:07:48.278203Z",
     "shell.execute_reply": "2024-05-01T06:07:48.276767Z"
    },
    "papermill": {
     "duration": 0.018257,
     "end_time": "2024-05-01T06:07:48.280950",
     "exception": false,
     "start_time": "2024-05-01T06:07:48.262693",
     "status": "completed"
    },
    "tags": []
   },
   "outputs": [],
   "source": [
    "from sklearn.model_selection import train_test_split"
   ]
  },
  {
   "cell_type": "code",
   "execution_count": 9,
   "id": "dc441599",
   "metadata": {
    "execution": {
     "iopub.execute_input": "2024-05-01T06:07:48.299645Z",
     "iopub.status.busy": "2024-05-01T06:07:48.298625Z",
     "iopub.status.idle": "2024-05-01T06:07:48.316897Z",
     "shell.execute_reply": "2024-05-01T06:07:48.315750Z"
    },
    "papermill": {
     "duration": 0.030813,
     "end_time": "2024-05-01T06:07:48.319825",
     "exception": false,
     "start_time": "2024-05-01T06:07:48.289012",
     "status": "completed"
    },
    "tags": []
   },
   "outputs": [],
   "source": [
    "X_train, X_test, y_train, y_test = train_test_split(df.drop(columns='has_covid'),\n",
    "                                                    df['has_covid'],\n",
    "                                                    test_size=0.2,\n",
    "                                                    random_state=0)"
   ]
  },
  {
   "cell_type": "code",
   "execution_count": 10,
   "id": "f55a9eb7",
   "metadata": {
    "execution": {
     "iopub.execute_input": "2024-05-01T06:07:48.339122Z",
     "iopub.status.busy": "2024-05-01T06:07:48.338700Z",
     "iopub.status.idle": "2024-05-01T06:07:48.356045Z",
     "shell.execute_reply": "2024-05-01T06:07:48.354751Z"
    },
    "papermill": {
     "duration": 0.030709,
     "end_time": "2024-05-01T06:07:48.358473",
     "exception": false,
     "start_time": "2024-05-01T06:07:48.327764",
     "status": "completed"
    },
    "tags": []
   },
   "outputs": [
    {
     "data": {
      "text/html": [
       "<div>\n",
       "<style scoped>\n",
       "    .dataframe tbody tr th:only-of-type {\n",
       "        vertical-align: middle;\n",
       "    }\n",
       "\n",
       "    .dataframe tbody tr th {\n",
       "        vertical-align: top;\n",
       "    }\n",
       "\n",
       "    .dataframe thead th {\n",
       "        text-align: right;\n",
       "    }\n",
       "</style>\n",
       "<table border=\"1\" class=\"dataframe\">\n",
       "  <thead>\n",
       "    <tr style=\"text-align: right;\">\n",
       "      <th></th>\n",
       "      <th>age</th>\n",
       "      <th>gender</th>\n",
       "      <th>fever</th>\n",
       "      <th>cough</th>\n",
       "      <th>city</th>\n",
       "    </tr>\n",
       "  </thead>\n",
       "  <tbody>\n",
       "    <tr>\n",
       "      <th>43</th>\n",
       "      <td>22</td>\n",
       "      <td>Female</td>\n",
       "      <td>99.0</td>\n",
       "      <td>Mild</td>\n",
       "      <td>Bangalore</td>\n",
       "    </tr>\n",
       "    <tr>\n",
       "      <th>62</th>\n",
       "      <td>56</td>\n",
       "      <td>Female</td>\n",
       "      <td>104.0</td>\n",
       "      <td>Strong</td>\n",
       "      <td>Bangalore</td>\n",
       "    </tr>\n",
       "    <tr>\n",
       "      <th>3</th>\n",
       "      <td>31</td>\n",
       "      <td>Female</td>\n",
       "      <td>98.0</td>\n",
       "      <td>Mild</td>\n",
       "      <td>Kolkata</td>\n",
       "    </tr>\n",
       "    <tr>\n",
       "      <th>71</th>\n",
       "      <td>75</td>\n",
       "      <td>Female</td>\n",
       "      <td>104.0</td>\n",
       "      <td>Strong</td>\n",
       "      <td>Delhi</td>\n",
       "    </tr>\n",
       "    <tr>\n",
       "      <th>45</th>\n",
       "      <td>72</td>\n",
       "      <td>Male</td>\n",
       "      <td>99.0</td>\n",
       "      <td>Mild</td>\n",
       "      <td>Bangalore</td>\n",
       "    </tr>\n",
       "    <tr>\n",
       "      <th>...</th>\n",
       "      <td>...</td>\n",
       "      <td>...</td>\n",
       "      <td>...</td>\n",
       "      <td>...</td>\n",
       "      <td>...</td>\n",
       "    </tr>\n",
       "    <tr>\n",
       "      <th>96</th>\n",
       "      <td>51</td>\n",
       "      <td>Female</td>\n",
       "      <td>101.0</td>\n",
       "      <td>Strong</td>\n",
       "      <td>Kolkata</td>\n",
       "    </tr>\n",
       "    <tr>\n",
       "      <th>67</th>\n",
       "      <td>65</td>\n",
       "      <td>Male</td>\n",
       "      <td>99.0</td>\n",
       "      <td>Mild</td>\n",
       "      <td>Bangalore</td>\n",
       "    </tr>\n",
       "    <tr>\n",
       "      <th>64</th>\n",
       "      <td>42</td>\n",
       "      <td>Male</td>\n",
       "      <td>104.0</td>\n",
       "      <td>Mild</td>\n",
       "      <td>Mumbai</td>\n",
       "    </tr>\n",
       "    <tr>\n",
       "      <th>47</th>\n",
       "      <td>18</td>\n",
       "      <td>Female</td>\n",
       "      <td>104.0</td>\n",
       "      <td>Mild</td>\n",
       "      <td>Bangalore</td>\n",
       "    </tr>\n",
       "    <tr>\n",
       "      <th>44</th>\n",
       "      <td>20</td>\n",
       "      <td>Male</td>\n",
       "      <td>102.0</td>\n",
       "      <td>Strong</td>\n",
       "      <td>Delhi</td>\n",
       "    </tr>\n",
       "  </tbody>\n",
       "</table>\n",
       "<p>80 rows × 5 columns</p>\n",
       "</div>"
      ],
      "text/plain": [
       "    age  gender  fever   cough       city\n",
       "43   22  Female   99.0    Mild  Bangalore\n",
       "62   56  Female  104.0  Strong  Bangalore\n",
       "3    31  Female   98.0    Mild    Kolkata\n",
       "71   75  Female  104.0  Strong      Delhi\n",
       "45   72    Male   99.0    Mild  Bangalore\n",
       "..  ...     ...    ...     ...        ...\n",
       "96   51  Female  101.0  Strong    Kolkata\n",
       "67   65    Male   99.0    Mild  Bangalore\n",
       "64   42    Male  104.0    Mild     Mumbai\n",
       "47   18  Female  104.0    Mild  Bangalore\n",
       "44   20    Male  102.0  Strong      Delhi\n",
       "\n",
       "[80 rows x 5 columns]"
      ]
     },
     "execution_count": 10,
     "metadata": {},
     "output_type": "execute_result"
    }
   ],
   "source": [
    "X_train"
   ]
  },
  {
   "cell_type": "markdown",
   "id": "3c385f13",
   "metadata": {
    "papermill": {
     "duration": 0.007989,
     "end_time": "2024-05-01T06:07:48.374877",
     "exception": false,
     "start_time": "2024-05-01T06:07:48.366888",
     "status": "completed"
    },
    "tags": []
   },
   "source": [
    "# **Adding simple imputer to fever col**"
   ]
  },
  {
   "cell_type": "code",
   "execution_count": 11,
   "id": "23fefb26",
   "metadata": {
    "execution": {
     "iopub.execute_input": "2024-05-01T06:07:48.393447Z",
     "iopub.status.busy": "2024-05-01T06:07:48.392980Z",
     "iopub.status.idle": "2024-05-01T06:07:48.398641Z",
     "shell.execute_reply": "2024-05-01T06:07:48.397466Z"
    },
    "papermill": {
     "duration": 0.018218,
     "end_time": "2024-05-01T06:07:48.401299",
     "exception": false,
     "start_time": "2024-05-01T06:07:48.383081",
     "status": "completed"
    },
    "tags": []
   },
   "outputs": [],
   "source": [
    "si=SimpleImputer()"
   ]
  },
  {
   "cell_type": "code",
   "execution_count": 12,
   "id": "f484cf2c",
   "metadata": {
    "execution": {
     "iopub.execute_input": "2024-05-01T06:07:48.420302Z",
     "iopub.status.busy": "2024-05-01T06:07:48.419822Z",
     "iopub.status.idle": "2024-05-01T06:07:48.431428Z",
     "shell.execute_reply": "2024-05-01T06:07:48.430061Z"
    },
    "papermill": {
     "duration": 0.024038,
     "end_time": "2024-05-01T06:07:48.433847",
     "exception": false,
     "start_time": "2024-05-01T06:07:48.409809",
     "status": "completed"
    },
    "tags": []
   },
   "outputs": [],
   "source": [
    "X_train_fever=si.fit_transform(X_train[['fever']])"
   ]
  },
  {
   "cell_type": "code",
   "execution_count": 13,
   "id": "88099479",
   "metadata": {
    "execution": {
     "iopub.execute_input": "2024-05-01T06:07:48.452326Z",
     "iopub.status.busy": "2024-05-01T06:07:48.451887Z",
     "iopub.status.idle": "2024-05-01T06:07:48.463723Z",
     "shell.execute_reply": "2024-05-01T06:07:48.462440Z"
    },
    "papermill": {
     "duration": 0.023789,
     "end_time": "2024-05-01T06:07:48.465960",
     "exception": false,
     "start_time": "2024-05-01T06:07:48.442171",
     "status": "completed"
    },
    "tags": []
   },
   "outputs": [],
   "source": [
    "X_tesr_fever=si.fit_transform(X_test[['fever']])"
   ]
  },
  {
   "cell_type": "code",
   "execution_count": 14,
   "id": "dee4cdba",
   "metadata": {
    "execution": {
     "iopub.execute_input": "2024-05-01T06:07:48.484708Z",
     "iopub.status.busy": "2024-05-01T06:07:48.484139Z",
     "iopub.status.idle": "2024-05-01T06:07:48.494215Z",
     "shell.execute_reply": "2024-05-01T06:07:48.493061Z"
    },
    "papermill": {
     "duration": 0.022151,
     "end_time": "2024-05-01T06:07:48.496503",
     "exception": false,
     "start_time": "2024-05-01T06:07:48.474352",
     "status": "completed"
    },
    "tags": []
   },
   "outputs": [
    {
     "data": {
      "text/plain": [
       "array([[ 99.        ],\n",
       "       [104.        ],\n",
       "       [ 98.        ],\n",
       "       [104.        ],\n",
       "       [ 99.        ],\n",
       "       [ 99.        ],\n",
       "       [101.        ],\n",
       "       [ 98.        ],\n",
       "       [ 98.        ],\n",
       "       [100.        ],\n",
       "       [102.        ],\n",
       "       [ 99.        ],\n",
       "       [ 99.        ],\n",
       "       [104.        ],\n",
       "       [100.        ],\n",
       "       [102.        ],\n",
       "       [ 98.        ],\n",
       "       [100.91549296],\n",
       "       [100.        ],\n",
       "       [104.        ],\n",
       "       [100.        ],\n",
       "       [ 98.        ],\n",
       "       [100.        ],\n",
       "       [100.91549296],\n",
       "       [101.        ],\n",
       "       [103.        ],\n",
       "       [ 98.        ],\n",
       "       [102.        ],\n",
       "       [101.        ],\n",
       "       [100.91549296],\n",
       "       [100.91549296],\n",
       "       [104.        ],\n",
       "       [103.        ],\n",
       "       [102.        ],\n",
       "       [104.        ],\n",
       "       [101.        ],\n",
       "       [ 98.        ],\n",
       "       [102.        ],\n",
       "       [ 98.        ],\n",
       "       [100.        ],\n",
       "       [100.91549296],\n",
       "       [103.        ],\n",
       "       [104.        ],\n",
       "       [ 99.        ],\n",
       "       [103.        ],\n",
       "       [103.        ],\n",
       "       [101.        ],\n",
       "       [ 98.        ],\n",
       "       [104.        ],\n",
       "       [103.        ],\n",
       "       [100.91549296],\n",
       "       [100.91549296],\n",
       "       [104.        ],\n",
       "       [101.        ],\n",
       "       [ 98.        ],\n",
       "       [103.        ],\n",
       "       [ 98.        ],\n",
       "       [100.91549296],\n",
       "       [101.        ],\n",
       "       [101.        ],\n",
       "       [100.91549296],\n",
       "       [100.        ],\n",
       "       [ 99.        ],\n",
       "       [101.        ],\n",
       "       [103.        ],\n",
       "       [102.        ],\n",
       "       [ 98.        ],\n",
       "       [ 99.        ],\n",
       "       [100.        ],\n",
       "       [101.        ],\n",
       "       [101.        ],\n",
       "       [101.        ],\n",
       "       [ 98.        ],\n",
       "       [104.        ],\n",
       "       [101.        ],\n",
       "       [101.        ],\n",
       "       [ 99.        ],\n",
       "       [104.        ],\n",
       "       [104.        ],\n",
       "       [102.        ]])"
      ]
     },
     "execution_count": 14,
     "metadata": {},
     "output_type": "execute_result"
    }
   ],
   "source": [
    "X_train_fever"
   ]
  },
  {
   "cell_type": "code",
   "execution_count": 15,
   "id": "891a8adf",
   "metadata": {
    "execution": {
     "iopub.execute_input": "2024-05-01T06:07:48.515956Z",
     "iopub.status.busy": "2024-05-01T06:07:48.515120Z",
     "iopub.status.idle": "2024-05-01T06:07:48.523090Z",
     "shell.execute_reply": "2024-05-01T06:07:48.521921Z"
    },
    "papermill": {
     "duration": 0.020489,
     "end_time": "2024-05-01T06:07:48.525621",
     "exception": false,
     "start_time": "2024-05-01T06:07:48.505132",
     "status": "completed"
    },
    "tags": []
   },
   "outputs": [
    {
     "data": {
      "text/plain": [
       "(80, 1)"
      ]
     },
     "execution_count": 15,
     "metadata": {},
     "output_type": "execute_result"
    }
   ],
   "source": [
    "X_train_fever.shape"
   ]
  },
  {
   "cell_type": "markdown",
   "id": "19e82a03",
   "metadata": {
    "papermill": {
     "duration": 0.00839,
     "end_time": "2024-05-01T06:07:48.542727",
     "exception": false,
     "start_time": "2024-05-01T06:07:48.534337",
     "status": "completed"
    },
    "tags": []
   },
   "source": [
    "# **Ordinalencoding -> cough**"
   ]
  },
  {
   "cell_type": "code",
   "execution_count": 16,
   "id": "3e6067a5",
   "metadata": {
    "execution": {
     "iopub.execute_input": "2024-05-01T06:07:48.561738Z",
     "iopub.status.busy": "2024-05-01T06:07:48.561286Z",
     "iopub.status.idle": "2024-05-01T06:07:48.573362Z",
     "shell.execute_reply": "2024-05-01T06:07:48.572496Z"
    },
    "papermill": {
     "duration": 0.024556,
     "end_time": "2024-05-01T06:07:48.575705",
     "exception": false,
     "start_time": "2024-05-01T06:07:48.551149",
     "status": "completed"
    },
    "tags": []
   },
   "outputs": [
    {
     "data": {
      "text/plain": [
       "(80, 1)"
      ]
     },
     "execution_count": 16,
     "metadata": {},
     "output_type": "execute_result"
    }
   ],
   "source": [
    "custom_categories=catagories=[['Mild','Strong']]\n",
    "oe=OrdinalEncoder(categories=custom_categories)\n",
    "X_train_cough=oe.fit_transform(X_train[['cough']])\n",
    "\n",
    "X_test_cough=oe.fit_transform(X_test[['cough']])\n",
    "X_train_cough.shape"
   ]
  },
  {
   "cell_type": "markdown",
   "id": "79079331",
   "metadata": {
    "papermill": {
     "duration": 0.008393,
     "end_time": "2024-05-01T06:07:48.592849",
     "exception": false,
     "start_time": "2024-05-01T06:07:48.584456",
     "status": "completed"
    },
    "tags": []
   },
   "source": [
    "# **OneHotEncoding -> gender,city**"
   ]
  },
  {
   "cell_type": "code",
   "execution_count": 17,
   "id": "ca49c25b",
   "metadata": {
    "execution": {
     "iopub.execute_input": "2024-05-01T06:07:48.612641Z",
     "iopub.status.busy": "2024-05-01T06:07:48.612144Z",
     "iopub.status.idle": "2024-05-01T06:07:48.636957Z",
     "shell.execute_reply": "2024-05-01T06:07:48.635600Z"
    },
    "papermill": {
     "duration": 0.038048,
     "end_time": "2024-05-01T06:07:48.639882",
     "exception": false,
     "start_time": "2024-05-01T06:07:48.601834",
     "status": "completed"
    },
    "tags": []
   },
   "outputs": [
    {
     "name": "stderr",
     "output_type": "stream",
     "text": [
      "/opt/conda/lib/python3.10/site-packages/sklearn/preprocessing/_encoders.py:868: FutureWarning: `sparse` was renamed to `sparse_output` in version 1.2 and will be removed in 1.4. `sparse_output` is ignored unless you leave `sparse` to its default value.\n",
      "  warnings.warn(\n",
      "/opt/conda/lib/python3.10/site-packages/sklearn/preprocessing/_encoders.py:868: FutureWarning: `sparse` was renamed to `sparse_output` in version 1.2 and will be removed in 1.4. `sparse_output` is ignored unless you leave `sparse` to its default value.\n",
      "  warnings.warn(\n"
     ]
    },
    {
     "data": {
      "text/plain": [
       "(80, 4)"
      ]
     },
     "execution_count": 17,
     "metadata": {},
     "output_type": "execute_result"
    }
   ],
   "source": [
    "ohe = OneHotEncoder(drop='first',sparse=False)\n",
    "X_train_gender_city = ohe.fit_transform(X_train[['gender','city']])\n",
    "X_test_gender_city = ohe.fit_transform(X_test[['gender','city']])\n",
    "\n",
    "X_train_gender_city.shape"
   ]
  },
  {
   "cell_type": "code",
   "execution_count": null,
   "id": "1be6154e",
   "metadata": {
    "papermill": {
     "duration": 0.00867,
     "end_time": "2024-05-01T06:07:48.658254",
     "exception": false,
     "start_time": "2024-05-01T06:07:48.649584",
     "status": "completed"
    },
    "tags": []
   },
   "outputs": [],
   "source": []
  }
 ],
 "metadata": {
  "kaggle": {
   "accelerator": "none",
   "dataSources": [
    {
     "datasetId": 4235671,
     "sourceId": 7301228,
     "sourceType": "datasetVersion"
    }
   ],
   "dockerImageVersionId": 30698,
   "isGpuEnabled": false,
   "isInternetEnabled": false,
   "language": "python",
   "sourceType": "notebook"
  },
  "kernelspec": {
   "display_name": "Python 3",
   "language": "python",
   "name": "python3"
  },
  "language_info": {
   "codemirror_mode": {
    "name": "ipython",
    "version": 3
   },
   "file_extension": ".py",
   "mimetype": "text/x-python",
   "name": "python",
   "nbconvert_exporter": "python",
   "pygments_lexer": "ipython3",
   "version": "3.10.13"
  },
  "papermill": {
   "default_parameters": {},
   "duration": 7.462907,
   "end_time": "2024-05-01T06:07:49.489553",
   "environment_variables": {},
   "exception": null,
   "input_path": "__notebook__.ipynb",
   "output_path": "__notebook__.ipynb",
   "parameters": {},
   "start_time": "2024-05-01T06:07:42.026646",
   "version": "2.5.0"
  }
 },
 "nbformat": 4,
 "nbformat_minor": 5
}
