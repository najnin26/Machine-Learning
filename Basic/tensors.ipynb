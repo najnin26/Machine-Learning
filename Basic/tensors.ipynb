{
 "cells": [
  {
   "cell_type": "markdown",
   "id": "209801ad",
   "metadata": {
    "papermill": {
     "duration": 0.005673,
     "end_time": "2024-03-30T13:50:39.520987",
     "exception": false,
     "start_time": "2024-03-30T13:50:39.515314",
     "status": "completed"
    },
    "tags": []
   },
   "source": [
    "# 0-D Tensors "
   ]
  },
  {
   "cell_type": "code",
   "execution_count": 1,
   "id": "fca006d6",
   "metadata": {
    "_cell_guid": "b1076dfc-b9ad-4769-8c92-a6c4dae69d19",
    "_uuid": "8f2839f25d086af736a60e9eeb907d3b93b6e0e5",
    "execution": {
     "iopub.execute_input": "2024-03-30T13:50:39.534241Z",
     "iopub.status.busy": "2024-03-30T13:50:39.533334Z",
     "iopub.status.idle": "2024-03-30T13:50:39.546732Z",
     "shell.execute_reply": "2024-03-30T13:50:39.545349Z"
    },
    "papermill": {
     "duration": 0.02311,
     "end_time": "2024-03-30T13:50:39.549676",
     "exception": false,
     "start_time": "2024-03-30T13:50:39.526566",
     "status": "completed"
    },
    "tags": []
   },
   "outputs": [],
   "source": [
    "import numpy as np"
   ]
  },
  {
   "cell_type": "code",
   "execution_count": 2,
   "id": "b24d843a",
   "metadata": {
    "execution": {
     "iopub.execute_input": "2024-03-30T13:50:39.563042Z",
     "iopub.status.busy": "2024-03-30T13:50:39.562281Z",
     "iopub.status.idle": "2024-03-30T13:50:39.566556Z",
     "shell.execute_reply": "2024-03-30T13:50:39.565748Z"
    },
    "papermill": {
     "duration": 0.013559,
     "end_time": "2024-03-30T13:50:39.568786",
     "exception": false,
     "start_time": "2024-03-30T13:50:39.555227",
     "status": "completed"
    },
    "tags": []
   },
   "outputs": [],
   "source": [
    "a=np.array(4)"
   ]
  },
  {
   "cell_type": "code",
   "execution_count": 3,
   "id": "1a9be16d",
   "metadata": {
    "execution": {
     "iopub.execute_input": "2024-03-30T13:50:39.581517Z",
     "iopub.status.busy": "2024-03-30T13:50:39.581104Z",
     "iopub.status.idle": "2024-03-30T13:50:39.589413Z",
     "shell.execute_reply": "2024-03-30T13:50:39.588232Z"
    },
    "papermill": {
     "duration": 0.017552,
     "end_time": "2024-03-30T13:50:39.592006",
     "exception": false,
     "start_time": "2024-03-30T13:50:39.574454",
     "status": "completed"
    },
    "tags": []
   },
   "outputs": [
    {
     "data": {
      "text/plain": [
       "array(4)"
      ]
     },
     "execution_count": 3,
     "metadata": {},
     "output_type": "execute_result"
    }
   ],
   "source": [
    "a"
   ]
  },
  {
   "cell_type": "code",
   "execution_count": 4,
   "id": "665b72ea",
   "metadata": {
    "execution": {
     "iopub.execute_input": "2024-03-30T13:50:39.605262Z",
     "iopub.status.busy": "2024-03-30T13:50:39.604845Z",
     "iopub.status.idle": "2024-03-30T13:50:39.612165Z",
     "shell.execute_reply": "2024-03-30T13:50:39.610948Z"
    },
    "papermill": {
     "duration": 0.017009,
     "end_time": "2024-03-30T13:50:39.614632",
     "exception": false,
     "start_time": "2024-03-30T13:50:39.597623",
     "status": "completed"
    },
    "tags": []
   },
   "outputs": [
    {
     "data": {
      "text/plain": [
       "0"
      ]
     },
     "execution_count": 4,
     "metadata": {},
     "output_type": "execute_result"
    }
   ],
   "source": [
    "a.ndim"
   ]
  },
  {
   "cell_type": "markdown",
   "id": "b1dc4f06",
   "metadata": {
    "papermill": {
     "duration": 0.005659,
     "end_time": "2024-03-30T13:50:39.626398",
     "exception": false,
     "start_time": "2024-03-30T13:50:39.620739",
     "status": "completed"
    },
    "tags": []
   },
   "source": [
    "# 1-D Tensors"
   ]
  },
  {
   "cell_type": "code",
   "execution_count": 5,
   "id": "a7738761",
   "metadata": {
    "execution": {
     "iopub.execute_input": "2024-03-30T13:50:39.640730Z",
     "iopub.status.busy": "2024-03-30T13:50:39.639712Z",
     "iopub.status.idle": "2024-03-30T13:50:39.645327Z",
     "shell.execute_reply": "2024-03-30T13:50:39.644294Z"
    },
    "papermill": {
     "duration": 0.01591,
     "end_time": "2024-03-30T13:50:39.648056",
     "exception": false,
     "start_time": "2024-03-30T13:50:39.632146",
     "status": "completed"
    },
    "tags": []
   },
   "outputs": [],
   "source": [
    "b=np.array([1,2,3])"
   ]
  },
  {
   "cell_type": "code",
   "execution_count": 6,
   "id": "873b394f",
   "metadata": {
    "execution": {
     "iopub.execute_input": "2024-03-30T13:50:39.663133Z",
     "iopub.status.busy": "2024-03-30T13:50:39.662376Z",
     "iopub.status.idle": "2024-03-30T13:50:39.671017Z",
     "shell.execute_reply": "2024-03-30T13:50:39.670046Z"
    },
    "papermill": {
     "duration": 0.018957,
     "end_time": "2024-03-30T13:50:39.673593",
     "exception": false,
     "start_time": "2024-03-30T13:50:39.654636",
     "status": "completed"
    },
    "tags": []
   },
   "outputs": [
    {
     "data": {
      "text/plain": [
       "array([1, 2, 3])"
      ]
     },
     "execution_count": 6,
     "metadata": {},
     "output_type": "execute_result"
    }
   ],
   "source": [
    "b"
   ]
  },
  {
   "cell_type": "code",
   "execution_count": 7,
   "id": "e305b146",
   "metadata": {
    "execution": {
     "iopub.execute_input": "2024-03-30T13:50:39.688105Z",
     "iopub.status.busy": "2024-03-30T13:50:39.686917Z",
     "iopub.status.idle": "2024-03-30T13:50:39.693718Z",
     "shell.execute_reply": "2024-03-30T13:50:39.692634Z"
    },
    "papermill": {
     "duration": 0.016737,
     "end_time": "2024-03-30T13:50:39.696202",
     "exception": false,
     "start_time": "2024-03-30T13:50:39.679465",
     "status": "completed"
    },
    "tags": []
   },
   "outputs": [
    {
     "data": {
      "text/plain": [
       "1"
      ]
     },
     "execution_count": 7,
     "metadata": {},
     "output_type": "execute_result"
    }
   ],
   "source": [
    "b.ndim"
   ]
  },
  {
   "cell_type": "markdown",
   "id": "24900a37",
   "metadata": {
    "papermill": {
     "duration": 0.005742,
     "end_time": "2024-03-30T13:50:39.707899",
     "exception": false,
     "start_time": "2024-03-30T13:50:39.702157",
     "status": "completed"
    },
    "tags": []
   },
   "source": [
    "# 2-D Tensor"
   ]
  },
  {
   "cell_type": "code",
   "execution_count": 8,
   "id": "e0c396c8",
   "metadata": {
    "execution": {
     "iopub.execute_input": "2024-03-30T13:50:39.722720Z",
     "iopub.status.busy": "2024-03-30T13:50:39.722312Z",
     "iopub.status.idle": "2024-03-30T13:50:39.727566Z",
     "shell.execute_reply": "2024-03-30T13:50:39.726676Z"
    },
    "papermill": {
     "duration": 0.015512,
     "end_time": "2024-03-30T13:50:39.729825",
     "exception": false,
     "start_time": "2024-03-30T13:50:39.714313",
     "status": "completed"
    },
    "tags": []
   },
   "outputs": [],
   "source": [
    "c=np.array([[1,2,3],[4,5,6],[7,8,9]])"
   ]
  },
  {
   "cell_type": "code",
   "execution_count": 9,
   "id": "281c8350",
   "metadata": {
    "execution": {
     "iopub.execute_input": "2024-03-30T13:50:39.744260Z",
     "iopub.status.busy": "2024-03-30T13:50:39.743562Z",
     "iopub.status.idle": "2024-03-30T13:50:39.749477Z",
     "shell.execute_reply": "2024-03-30T13:50:39.748528Z"
    },
    "papermill": {
     "duration": 0.015844,
     "end_time": "2024-03-30T13:50:39.751725",
     "exception": false,
     "start_time": "2024-03-30T13:50:39.735881",
     "status": "completed"
    },
    "tags": []
   },
   "outputs": [
    {
     "data": {
      "text/plain": [
       "array([[1, 2, 3],\n",
       "       [4, 5, 6],\n",
       "       [7, 8, 9]])"
      ]
     },
     "execution_count": 9,
     "metadata": {},
     "output_type": "execute_result"
    }
   ],
   "source": [
    "c"
   ]
  },
  {
   "cell_type": "code",
   "execution_count": 10,
   "id": "bb582234",
   "metadata": {
    "execution": {
     "iopub.execute_input": "2024-03-30T13:50:39.766245Z",
     "iopub.status.busy": "2024-03-30T13:50:39.765355Z",
     "iopub.status.idle": "2024-03-30T13:50:39.772287Z",
     "shell.execute_reply": "2024-03-30T13:50:39.771191Z"
    },
    "papermill": {
     "duration": 0.017027,
     "end_time": "2024-03-30T13:50:39.774865",
     "exception": false,
     "start_time": "2024-03-30T13:50:39.757838",
     "status": "completed"
    },
    "tags": []
   },
   "outputs": [
    {
     "data": {
      "text/plain": [
       "2"
      ]
     },
     "execution_count": 10,
     "metadata": {},
     "output_type": "execute_result"
    }
   ],
   "source": [
    "c.ndim"
   ]
  },
  {
   "cell_type": "markdown",
   "id": "1fb86b42",
   "metadata": {
    "papermill": {
     "duration": 0.006012,
     "end_time": "2024-03-30T13:50:39.787642",
     "exception": false,
     "start_time": "2024-03-30T13:50:39.781630",
     "status": "completed"
    },
    "tags": []
   },
   "source": []
  },
  {
   "cell_type": "code",
   "execution_count": null,
   "id": "4d9ce17f",
   "metadata": {
    "papermill": {
     "duration": 0.005812,
     "end_time": "2024-03-30T13:50:39.799660",
     "exception": false,
     "start_time": "2024-03-30T13:50:39.793848",
     "status": "completed"
    },
    "tags": []
   },
   "outputs": [],
   "source": []
  }
 ],
 "metadata": {
  "kaggle": {
   "accelerator": "none",
   "dataSources": [
    {
     "datasetId": 13720,
     "sourceId": 18513,
     "sourceType": "datasetVersion"
    }
   ],
   "dockerImageVersionId": 30673,
   "isGpuEnabled": false,
   "isInternetEnabled": false,
   "language": "python",
   "sourceType": "notebook"
  },
  "kernelspec": {
   "display_name": "Python 3",
   "language": "python",
   "name": "python3"
  },
  "language_info": {
   "codemirror_mode": {
    "name": "ipython",
    "version": 3
   },
   "file_extension": ".py",
   "mimetype": "text/x-python",
   "name": "python",
   "nbconvert_exporter": "python",
   "pygments_lexer": "ipython3",
   "version": "3.10.13"
  },
  "papermill": {
   "default_parameters": {},
   "duration": 3.898588,
   "end_time": "2024-03-30T13:50:40.226987",
   "environment_variables": {},
   "exception": null,
   "input_path": "__notebook__.ipynb",
   "output_path": "__notebook__.ipynb",
   "parameters": {},
   "start_time": "2024-03-30T13:50:36.328399",
   "version": "2.5.0"
  }
 },
 "nbformat": 4,
 "nbformat_minor": 5
}
