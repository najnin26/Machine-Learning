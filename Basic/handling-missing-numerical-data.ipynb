{
 "cells": [
  {
   "cell_type": "code",
   "execution_count": 1,
   "id": "8354d500",
   "metadata": {
    "_cell_guid": "b1076dfc-b9ad-4769-8c92-a6c4dae69d19",
    "_uuid": "8f2839f25d086af736a60e9eeb907d3b93b6e0e5",
    "execution": {
     "iopub.execute_input": "2024-05-14T14:17:16.397249Z",
     "iopub.status.busy": "2024-05-14T14:17:16.396819Z",
     "iopub.status.idle": "2024-05-14T14:17:17.503242Z",
     "shell.execute_reply": "2024-05-14T14:17:17.501856Z"
    },
    "papermill": {
     "duration": 1.117343,
     "end_time": "2024-05-14T14:17:17.506649",
     "exception": false,
     "start_time": "2024-05-14T14:17:16.389306",
     "status": "completed"
    },
    "tags": []
   },
   "outputs": [],
   "source": [
    "import pandas as pd\n",
    "import numpy as np\n",
    "import matplotlib.pyplot as plt"
   ]
  },
  {
   "cell_type": "code",
   "execution_count": 2,
   "id": "5682abb7",
   "metadata": {
    "execution": {
     "iopub.execute_input": "2024-05-14T14:17:17.519000Z",
     "iopub.status.busy": "2024-05-14T14:17:17.518308Z",
     "iopub.status.idle": "2024-05-14T14:17:19.241981Z",
     "shell.execute_reply": "2024-05-14T14:17:19.240550Z"
    },
    "papermill": {
     "duration": 1.733317,
     "end_time": "2024-05-14T14:17:19.245209",
     "exception": false,
     "start_time": "2024-05-14T14:17:17.511892",
     "status": "completed"
    },
    "tags": []
   },
   "outputs": [],
   "source": [
    "from sklearn.model_selection import train_test_split\n",
    "from sklearn.impute import SimpleImputer\n",
    "from sklearn.compose import ColumnTransformer"
   ]
  },
  {
   "cell_type": "code",
   "execution_count": 3,
   "id": "7704a726",
   "metadata": {
    "execution": {
     "iopub.execute_input": "2024-05-14T14:17:19.256820Z",
     "iopub.status.busy": "2024-05-14T14:17:19.256388Z",
     "iopub.status.idle": "2024-05-14T14:17:19.283763Z",
     "shell.execute_reply": "2024-05-14T14:17:19.281516Z"
    },
    "papermill": {
     "duration": 0.037088,
     "end_time": "2024-05-14T14:17:19.287256",
     "exception": false,
     "start_time": "2024-05-14T14:17:19.250168",
     "status": "completed"
    },
    "tags": []
   },
   "outputs": [],
   "source": [
    "df=pd.read_csv('/kaggle/input/titanic-toy/titanic_toy.csv')"
   ]
  },
  {
   "cell_type": "code",
   "execution_count": 4,
   "id": "3cf098ab",
   "metadata": {
    "execution": {
     "iopub.execute_input": "2024-05-14T14:17:19.299411Z",
     "iopub.status.busy": "2024-05-14T14:17:19.298884Z",
     "iopub.status.idle": "2024-05-14T14:17:19.331995Z",
     "shell.execute_reply": "2024-05-14T14:17:19.330251Z"
    },
    "papermill": {
     "duration": 0.042796,
     "end_time": "2024-05-14T14:17:19.335267",
     "exception": false,
     "start_time": "2024-05-14T14:17:19.292471",
     "status": "completed"
    },
    "tags": []
   },
   "outputs": [
    {
     "data": {
      "text/html": [
       "<div>\n",
       "<style scoped>\n",
       "    .dataframe tbody tr th:only-of-type {\n",
       "        vertical-align: middle;\n",
       "    }\n",
       "\n",
       "    .dataframe tbody tr th {\n",
       "        vertical-align: top;\n",
       "    }\n",
       "\n",
       "    .dataframe thead th {\n",
       "        text-align: right;\n",
       "    }\n",
       "</style>\n",
       "<table border=\"1\" class=\"dataframe\">\n",
       "  <thead>\n",
       "    <tr style=\"text-align: right;\">\n",
       "      <th></th>\n",
       "      <th>Age</th>\n",
       "      <th>Fare</th>\n",
       "      <th>Family</th>\n",
       "      <th>Survived</th>\n",
       "    </tr>\n",
       "  </thead>\n",
       "  <tbody>\n",
       "    <tr>\n",
       "      <th>0</th>\n",
       "      <td>22.0</td>\n",
       "      <td>7.2500</td>\n",
       "      <td>1</td>\n",
       "      <td>0</td>\n",
       "    </tr>\n",
       "    <tr>\n",
       "      <th>1</th>\n",
       "      <td>38.0</td>\n",
       "      <td>71.2833</td>\n",
       "      <td>1</td>\n",
       "      <td>1</td>\n",
       "    </tr>\n",
       "    <tr>\n",
       "      <th>2</th>\n",
       "      <td>26.0</td>\n",
       "      <td>7.9250</td>\n",
       "      <td>0</td>\n",
       "      <td>1</td>\n",
       "    </tr>\n",
       "    <tr>\n",
       "      <th>3</th>\n",
       "      <td>35.0</td>\n",
       "      <td>53.1000</td>\n",
       "      <td>1</td>\n",
       "      <td>1</td>\n",
       "    </tr>\n",
       "    <tr>\n",
       "      <th>4</th>\n",
       "      <td>35.0</td>\n",
       "      <td>8.0500</td>\n",
       "      <td>0</td>\n",
       "      <td>0</td>\n",
       "    </tr>\n",
       "  </tbody>\n",
       "</table>\n",
       "</div>"
      ],
      "text/plain": [
       "    Age     Fare  Family  Survived\n",
       "0  22.0   7.2500       1         0\n",
       "1  38.0  71.2833       1         1\n",
       "2  26.0   7.9250       0         1\n",
       "3  35.0  53.1000       1         1\n",
       "4  35.0   8.0500       0         0"
      ]
     },
     "execution_count": 4,
     "metadata": {},
     "output_type": "execute_result"
    }
   ],
   "source": [
    "df.head()"
   ]
  },
  {
   "cell_type": "code",
   "execution_count": 5,
   "id": "27dbdb89",
   "metadata": {
    "execution": {
     "iopub.execute_input": "2024-05-14T14:17:19.347725Z",
     "iopub.status.busy": "2024-05-14T14:17:19.347210Z",
     "iopub.status.idle": "2024-05-14T14:17:19.377869Z",
     "shell.execute_reply": "2024-05-14T14:17:19.376042Z"
    },
    "papermill": {
     "duration": 0.040625,
     "end_time": "2024-05-14T14:17:19.381084",
     "exception": false,
     "start_time": "2024-05-14T14:17:19.340459",
     "status": "completed"
    },
    "tags": []
   },
   "outputs": [
    {
     "name": "stdout",
     "output_type": "stream",
     "text": [
      "<class 'pandas.core.frame.DataFrame'>\n",
      "RangeIndex: 891 entries, 0 to 890\n",
      "Data columns (total 4 columns):\n",
      " #   Column    Non-Null Count  Dtype  \n",
      "---  ------    --------------  -----  \n",
      " 0   Age       714 non-null    float64\n",
      " 1   Fare      846 non-null    float64\n",
      " 2   Family    891 non-null    int64  \n",
      " 3   Survived  891 non-null    int64  \n",
      "dtypes: float64(2), int64(2)\n",
      "memory usage: 28.0 KB\n"
     ]
    }
   ],
   "source": [
    "df.info()"
   ]
  },
  {
   "cell_type": "code",
   "execution_count": 6,
   "id": "61e06df3",
   "metadata": {
    "execution": {
     "iopub.execute_input": "2024-05-14T14:17:19.393926Z",
     "iopub.status.busy": "2024-05-14T14:17:19.393457Z",
     "iopub.status.idle": "2024-05-14T14:17:19.404165Z",
     "shell.execute_reply": "2024-05-14T14:17:19.402511Z"
    },
    "papermill": {
     "duration": 0.020561,
     "end_time": "2024-05-14T14:17:19.406878",
     "exception": false,
     "start_time": "2024-05-14T14:17:19.386317",
     "status": "completed"
    },
    "tags": []
   },
   "outputs": [
    {
     "data": {
      "text/plain": [
       "Age         0.198653\n",
       "Fare        0.050505\n",
       "Family      0.000000\n",
       "Survived    0.000000\n",
       "dtype: float64"
      ]
     },
     "execution_count": 6,
     "metadata": {},
     "output_type": "execute_result"
    }
   ],
   "source": [
    "df.isnull().mean()"
   ]
  },
  {
   "cell_type": "code",
   "execution_count": 7,
   "id": "2dcf26c2",
   "metadata": {
    "execution": {
     "iopub.execute_input": "2024-05-14T14:17:19.419428Z",
     "iopub.status.busy": "2024-05-14T14:17:19.419043Z",
     "iopub.status.idle": "2024-05-14T14:17:19.426932Z",
     "shell.execute_reply": "2024-05-14T14:17:19.425656Z"
    },
    "papermill": {
     "duration": 0.017267,
     "end_time": "2024-05-14T14:17:19.429492",
     "exception": false,
     "start_time": "2024-05-14T14:17:19.412225",
     "status": "completed"
    },
    "tags": []
   },
   "outputs": [],
   "source": [
    "X = df.drop(columns=['Survived'])\n",
    "y = df['Survived']"
   ]
  },
  {
   "cell_type": "code",
   "execution_count": 8,
   "id": "2ba58e5d",
   "metadata": {
    "execution": {
     "iopub.execute_input": "2024-05-14T14:17:19.442573Z",
     "iopub.status.busy": "2024-05-14T14:17:19.441434Z",
     "iopub.status.idle": "2024-05-14T14:17:19.452780Z",
     "shell.execute_reply": "2024-05-14T14:17:19.451358Z"
    },
    "papermill": {
     "duration": 0.021489,
     "end_time": "2024-05-14T14:17:19.456113",
     "exception": false,
     "start_time": "2024-05-14T14:17:19.434624",
     "status": "completed"
    },
    "tags": []
   },
   "outputs": [],
   "source": [
    "X_train,X_test,y_train,y_test = train_test_split(X,y,test_size=0.2,random_state=2)"
   ]
  },
  {
   "cell_type": "code",
   "execution_count": 9,
   "id": "2ed315ad",
   "metadata": {
    "execution": {
     "iopub.execute_input": "2024-05-14T14:17:19.469169Z",
     "iopub.status.busy": "2024-05-14T14:17:19.468672Z",
     "iopub.status.idle": "2024-05-14T14:17:19.477219Z",
     "shell.execute_reply": "2024-05-14T14:17:19.475798Z"
    },
    "papermill": {
     "duration": 0.018119,
     "end_time": "2024-05-14T14:17:19.479815",
     "exception": false,
     "start_time": "2024-05-14T14:17:19.461696",
     "status": "completed"
    },
    "tags": []
   },
   "outputs": [
    {
     "data": {
      "text/plain": [
       "((712, 3), (179, 3))"
      ]
     },
     "execution_count": 9,
     "metadata": {},
     "output_type": "execute_result"
    }
   ],
   "source": [
    "X_train.shape, X_test.shape"
   ]
  },
  {
   "cell_type": "code",
   "execution_count": 10,
   "id": "60556c64",
   "metadata": {
    "execution": {
     "iopub.execute_input": "2024-05-14T14:17:19.492817Z",
     "iopub.status.busy": "2024-05-14T14:17:19.492365Z",
     "iopub.status.idle": "2024-05-14T14:17:19.502718Z",
     "shell.execute_reply": "2024-05-14T14:17:19.501792Z"
    },
    "papermill": {
     "duration": 0.019688,
     "end_time": "2024-05-14T14:17:19.505009",
     "exception": false,
     "start_time": "2024-05-14T14:17:19.485321",
     "status": "completed"
    },
    "tags": []
   },
   "outputs": [
    {
     "data": {
      "text/plain": [
       "Age       0.207865\n",
       "Fare      0.050562\n",
       "Family    0.000000\n",
       "dtype: float64"
      ]
     },
     "execution_count": 10,
     "metadata": {},
     "output_type": "execute_result"
    }
   ],
   "source": [
    "X_train.isnull().mean()"
   ]
  },
  {
   "cell_type": "code",
   "execution_count": null,
   "id": "9adfa1bd",
   "metadata": {
    "papermill": {
     "duration": 0.005367,
     "end_time": "2024-05-14T14:17:19.515988",
     "exception": false,
     "start_time": "2024-05-14T14:17:19.510621",
     "status": "completed"
    },
    "tags": []
   },
   "outputs": [],
   "source": []
  }
 ],
 "metadata": {
  "kaggle": {
   "accelerator": "none",
   "dataSources": [
    {
     "datasetId": 5006429,
     "sourceId": 8411652,
     "sourceType": "datasetVersion"
    }
   ],
   "dockerImageVersionId": 30698,
   "isGpuEnabled": false,
   "isInternetEnabled": false,
   "language": "python",
   "sourceType": "notebook"
  },
  "kernelspec": {
   "display_name": "Python 3",
   "language": "python",
   "name": "python3"
  },
  "language_info": {
   "codemirror_mode": {
    "name": "ipython",
    "version": 3
   },
   "file_extension": ".py",
   "mimetype": "text/x-python",
   "name": "python",
   "nbconvert_exporter": "python",
   "pygments_lexer": "ipython3",
   "version": "3.10.13"
  },
  "papermill": {
   "default_parameters": {},
   "duration": 9.296202,
   "end_time": "2024-05-14T14:17:22.310769",
   "environment_variables": {},
   "exception": null,
   "input_path": "__notebook__.ipynb",
   "output_path": "__notebook__.ipynb",
   "parameters": {},
   "start_time": "2024-05-14T14:17:13.014567",
   "version": "2.5.0"
  }
 },
 "nbformat": 4,
 "nbformat_minor": 5
}
