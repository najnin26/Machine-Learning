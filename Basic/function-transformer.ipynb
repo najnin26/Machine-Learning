{
 "cells": [
  {
   "cell_type": "code",
   "execution_count": 1,
   "id": "87681557",
   "metadata": {
    "_cell_guid": "b1076dfc-b9ad-4769-8c92-a6c4dae69d19",
    "_uuid": "8f2839f25d086af736a60e9eeb907d3b93b6e0e5",
    "execution": {
     "iopub.execute_input": "2024-05-06T15:00:00.615234Z",
     "iopub.status.busy": "2024-05-06T15:00:00.614287Z",
     "iopub.status.idle": "2024-05-06T15:00:03.873357Z",
     "shell.execute_reply": "2024-05-06T15:00:03.871603Z"
    },
    "papermill": {
     "duration": 3.271648,
     "end_time": "2024-05-06T15:00:03.876352",
     "exception": false,
     "start_time": "2024-05-06T15:00:00.604704",
     "status": "completed"
    },
    "tags": []
   },
   "outputs": [],
   "source": [
    "import pandas as pd\n",
    "import numpy as np\n",
    "import seaborn as sns\n",
    "import matplotlib.pyplot as plt\n",
    "from sklearn.model_selection import train_test_split\n",
    "from sklearn.metrics import accuracy_score\n",
    "from sklearn.model_selection import cross_val_score\n",
    "from sklearn.linear_model import LogisticRegression\n",
    "from sklearn.tree import DecisionTreeClassifier\n",
    "from sklearn.preprocessing import FunctionTransformer\n",
    "from sklearn.compose import ColumnTransformer\n",
    "import scipy.stats as stats"
   ]
  },
  {
   "cell_type": "code",
   "execution_count": 2,
   "id": "767fc1f5",
   "metadata": {
    "execution": {
     "iopub.execute_input": "2024-05-06T15:00:03.893410Z",
     "iopub.status.busy": "2024-05-06T15:00:03.892819Z",
     "iopub.status.idle": "2024-05-06T15:00:03.926853Z",
     "shell.execute_reply": "2024-05-06T15:00:03.925186Z"
    },
    "papermill": {
     "duration": 0.046011,
     "end_time": "2024-05-06T15:00:03.929788",
     "exception": false,
     "start_time": "2024-05-06T15:00:03.883777",
     "status": "completed"
    },
    "tags": []
   },
   "outputs": [],
   "source": [
    "df=pd.read_csv('/kaggle/input/data-science-day1-titanic/DSB_Day1_Titanic_train.csv',usecols=['Age','Fare','Survived'])"
   ]
  },
  {
   "cell_type": "code",
   "execution_count": 3,
   "id": "5137133e",
   "metadata": {
    "execution": {
     "iopub.execute_input": "2024-05-06T15:00:03.947380Z",
     "iopub.status.busy": "2024-05-06T15:00:03.946257Z",
     "iopub.status.idle": "2024-05-06T15:00:03.975688Z",
     "shell.execute_reply": "2024-05-06T15:00:03.973690Z"
    },
    "papermill": {
     "duration": 0.041373,
     "end_time": "2024-05-06T15:00:03.979076",
     "exception": false,
     "start_time": "2024-05-06T15:00:03.937703",
     "status": "completed"
    },
    "tags": []
   },
   "outputs": [
    {
     "data": {
      "text/html": [
       "<div>\n",
       "<style scoped>\n",
       "    .dataframe tbody tr th:only-of-type {\n",
       "        vertical-align: middle;\n",
       "    }\n",
       "\n",
       "    .dataframe tbody tr th {\n",
       "        vertical-align: top;\n",
       "    }\n",
       "\n",
       "    .dataframe thead th {\n",
       "        text-align: right;\n",
       "    }\n",
       "</style>\n",
       "<table border=\"1\" class=\"dataframe\">\n",
       "  <thead>\n",
       "    <tr style=\"text-align: right;\">\n",
       "      <th></th>\n",
       "      <th>Survived</th>\n",
       "      <th>Age</th>\n",
       "      <th>Fare</th>\n",
       "    </tr>\n",
       "  </thead>\n",
       "  <tbody>\n",
       "    <tr>\n",
       "      <th>0</th>\n",
       "      <td>0</td>\n",
       "      <td>22.0</td>\n",
       "      <td>7.2500</td>\n",
       "    </tr>\n",
       "    <tr>\n",
       "      <th>1</th>\n",
       "      <td>1</td>\n",
       "      <td>38.0</td>\n",
       "      <td>71.2833</td>\n",
       "    </tr>\n",
       "    <tr>\n",
       "      <th>2</th>\n",
       "      <td>1</td>\n",
       "      <td>26.0</td>\n",
       "      <td>7.9250</td>\n",
       "    </tr>\n",
       "    <tr>\n",
       "      <th>3</th>\n",
       "      <td>1</td>\n",
       "      <td>35.0</td>\n",
       "      <td>53.1000</td>\n",
       "    </tr>\n",
       "    <tr>\n",
       "      <th>4</th>\n",
       "      <td>0</td>\n",
       "      <td>35.0</td>\n",
       "      <td>8.0500</td>\n",
       "    </tr>\n",
       "  </tbody>\n",
       "</table>\n",
       "</div>"
      ],
      "text/plain": [
       "   Survived   Age     Fare\n",
       "0         0  22.0   7.2500\n",
       "1         1  38.0  71.2833\n",
       "2         1  26.0   7.9250\n",
       "3         1  35.0  53.1000\n",
       "4         0  35.0   8.0500"
      ]
     },
     "execution_count": 3,
     "metadata": {},
     "output_type": "execute_result"
    }
   ],
   "source": [
    "df.head()"
   ]
  },
  {
   "cell_type": "code",
   "execution_count": 4,
   "id": "aa46b68a",
   "metadata": {
    "execution": {
     "iopub.execute_input": "2024-05-06T15:00:03.996974Z",
     "iopub.status.busy": "2024-05-06T15:00:03.996534Z",
     "iopub.status.idle": "2024-05-06T15:00:04.008107Z",
     "shell.execute_reply": "2024-05-06T15:00:04.006889Z"
    },
    "papermill": {
     "duration": 0.023847,
     "end_time": "2024-05-06T15:00:04.010882",
     "exception": false,
     "start_time": "2024-05-06T15:00:03.987035",
     "status": "completed"
    },
    "tags": []
   },
   "outputs": [
    {
     "data": {
      "text/plain": [
       "Survived      0\n",
       "Age         177\n",
       "Fare          0\n",
       "dtype: int64"
      ]
     },
     "execution_count": 4,
     "metadata": {},
     "output_type": "execute_result"
    }
   ],
   "source": [
    "df.isnull().sum()"
   ]
  },
  {
   "cell_type": "code",
   "execution_count": 5,
   "id": "dfb19d7d",
   "metadata": {
    "execution": {
     "iopub.execute_input": "2024-05-06T15:00:04.028570Z",
     "iopub.status.busy": "2024-05-06T15:00:04.028143Z",
     "iopub.status.idle": "2024-05-06T15:00:04.036968Z",
     "shell.execute_reply": "2024-05-06T15:00:04.034933Z"
    },
    "papermill": {
     "duration": 0.02052,
     "end_time": "2024-05-06T15:00:04.039393",
     "exception": false,
     "start_time": "2024-05-06T15:00:04.018873",
     "status": "completed"
    },
    "tags": []
   },
   "outputs": [
    {
     "name": "stderr",
     "output_type": "stream",
     "text": [
      "/tmp/ipykernel_18/694922604.py:1: FutureWarning: A value is trying to be set on a copy of a DataFrame or Series through chained assignment using an inplace method.\n",
      "The behavior will change in pandas 3.0. This inplace method will never work because the intermediate object on which we are setting values always behaves as a copy.\n",
      "\n",
      "For example, when doing 'df[col].method(value, inplace=True)', try using 'df.method({col: value}, inplace=True)' or df[col] = df[col].method(value) instead, to perform the operation inplace on the original object.\n",
      "\n",
      "\n",
      "  df['Age'].fillna(df['Age'].mean(),inplace=True)\n"
     ]
    }
   ],
   "source": [
    "df['Age'].fillna(df['Age'].mean(),inplace=True)"
   ]
  },
  {
   "cell_type": "code",
   "execution_count": 6,
   "id": "41b97065",
   "metadata": {
    "execution": {
     "iopub.execute_input": "2024-05-06T15:00:04.057002Z",
     "iopub.status.busy": "2024-05-06T15:00:04.056579Z",
     "iopub.status.idle": "2024-05-06T15:00:04.071015Z",
     "shell.execute_reply": "2024-05-06T15:00:04.069581Z"
    },
    "papermill": {
     "duration": 0.02623,
     "end_time": "2024-05-06T15:00:04.073620",
     "exception": false,
     "start_time": "2024-05-06T15:00:04.047390",
     "status": "completed"
    },
    "tags": []
   },
   "outputs": [
    {
     "data": {
      "text/html": [
       "<div>\n",
       "<style scoped>\n",
       "    .dataframe tbody tr th:only-of-type {\n",
       "        vertical-align: middle;\n",
       "    }\n",
       "\n",
       "    .dataframe tbody tr th {\n",
       "        vertical-align: top;\n",
       "    }\n",
       "\n",
       "    .dataframe thead th {\n",
       "        text-align: right;\n",
       "    }\n",
       "</style>\n",
       "<table border=\"1\" class=\"dataframe\">\n",
       "  <thead>\n",
       "    <tr style=\"text-align: right;\">\n",
       "      <th></th>\n",
       "      <th>Survived</th>\n",
       "      <th>Age</th>\n",
       "      <th>Fare</th>\n",
       "    </tr>\n",
       "  </thead>\n",
       "  <tbody>\n",
       "    <tr>\n",
       "      <th>0</th>\n",
       "      <td>0</td>\n",
       "      <td>22.0</td>\n",
       "      <td>7.2500</td>\n",
       "    </tr>\n",
       "    <tr>\n",
       "      <th>1</th>\n",
       "      <td>1</td>\n",
       "      <td>38.0</td>\n",
       "      <td>71.2833</td>\n",
       "    </tr>\n",
       "    <tr>\n",
       "      <th>2</th>\n",
       "      <td>1</td>\n",
       "      <td>26.0</td>\n",
       "      <td>7.9250</td>\n",
       "    </tr>\n",
       "    <tr>\n",
       "      <th>3</th>\n",
       "      <td>1</td>\n",
       "      <td>35.0</td>\n",
       "      <td>53.1000</td>\n",
       "    </tr>\n",
       "    <tr>\n",
       "      <th>4</th>\n",
       "      <td>0</td>\n",
       "      <td>35.0</td>\n",
       "      <td>8.0500</td>\n",
       "    </tr>\n",
       "  </tbody>\n",
       "</table>\n",
       "</div>"
      ],
      "text/plain": [
       "   Survived   Age     Fare\n",
       "0         0  22.0   7.2500\n",
       "1         1  38.0  71.2833\n",
       "2         1  26.0   7.9250\n",
       "3         1  35.0  53.1000\n",
       "4         0  35.0   8.0500"
      ]
     },
     "execution_count": 6,
     "metadata": {},
     "output_type": "execute_result"
    }
   ],
   "source": [
    "df.head()"
   ]
  },
  {
   "cell_type": "code",
   "execution_count": 7,
   "id": "29fe2e46",
   "metadata": {
    "execution": {
     "iopub.execute_input": "2024-05-06T15:00:04.092468Z",
     "iopub.status.busy": "2024-05-06T15:00:04.092069Z",
     "iopub.status.idle": "2024-05-06T15:00:04.103315Z",
     "shell.execute_reply": "2024-05-06T15:00:04.101945Z"
    },
    "papermill": {
     "duration": 0.024269,
     "end_time": "2024-05-06T15:00:04.106654",
     "exception": false,
     "start_time": "2024-05-06T15:00:04.082385",
     "status": "completed"
    },
    "tags": []
   },
   "outputs": [
    {
     "data": {
      "text/plain": [
       "Survived    0\n",
       "Age         0\n",
       "Fare        0\n",
       "dtype: int64"
      ]
     },
     "execution_count": 7,
     "metadata": {},
     "output_type": "execute_result"
    }
   ],
   "source": [
    "df.isnull().sum()"
   ]
  },
  {
   "cell_type": "code",
   "execution_count": 8,
   "id": "cdb1c6b8",
   "metadata": {
    "execution": {
     "iopub.execute_input": "2024-05-06T15:00:04.127631Z",
     "iopub.status.busy": "2024-05-06T15:00:04.127207Z",
     "iopub.status.idle": "2024-05-06T15:00:04.136339Z",
     "shell.execute_reply": "2024-05-06T15:00:04.134965Z"
    },
    "papermill": {
     "duration": 0.023809,
     "end_time": "2024-05-06T15:00:04.139648",
     "exception": false,
     "start_time": "2024-05-06T15:00:04.115839",
     "status": "completed"
    },
    "tags": []
   },
   "outputs": [],
   "source": [
    "x=df.iloc[:,1:3]\n",
    "y=df.iloc[:,0]"
   ]
  },
  {
   "cell_type": "code",
   "execution_count": 9,
   "id": "632023e4",
   "metadata": {
    "execution": {
     "iopub.execute_input": "2024-05-06T15:00:04.158852Z",
     "iopub.status.busy": "2024-05-06T15:00:04.158144Z",
     "iopub.status.idle": "2024-05-06T15:00:04.169673Z",
     "shell.execute_reply": "2024-05-06T15:00:04.168359Z"
    },
    "papermill": {
     "duration": 0.024848,
     "end_time": "2024-05-06T15:00:04.173041",
     "exception": false,
     "start_time": "2024-05-06T15:00:04.148193",
     "status": "completed"
    },
    "tags": []
   },
   "outputs": [],
   "source": [
    "x_train,x_test,y_train,y_test=train_test_split(x,y,test_size=0.2,random_state=42)"
   ]
  },
  {
   "cell_type": "code",
   "execution_count": 10,
   "id": "94a4f713",
   "metadata": {
    "execution": {
     "iopub.execute_input": "2024-05-06T15:00:04.193313Z",
     "iopub.status.busy": "2024-05-06T15:00:04.192350Z",
     "iopub.status.idle": "2024-05-06T15:00:04.923095Z",
     "shell.execute_reply": "2024-05-06T15:00:04.921625Z"
    },
    "papermill": {
     "duration": 0.744076,
     "end_time": "2024-05-06T15:00:04.925680",
     "exception": false,
     "start_time": "2024-05-06T15:00:04.181604",
     "status": "completed"
    },
    "tags": []
   },
   "outputs": [
    {
     "name": "stderr",
     "output_type": "stream",
     "text": [
      "/tmp/ipykernel_18/1642527001.py:3: UserWarning: \n",
      "\n",
      "`distplot` is a deprecated function and will be removed in seaborn v0.14.0.\n",
      "\n",
      "Please adapt your code to use either `displot` (a figure-level function with\n",
      "similar flexibility) or `histplot` (an axes-level function for histograms).\n",
      "\n",
      "For a guide to updating your code to use the new functions, please see\n",
      "https://gist.github.com/mwaskom/de44147ed2974457ad6372750bbe5751\n",
      "\n",
      "  sns.distplot(x_train['Age'])\n",
      "/opt/conda/lib/python3.10/site-packages/seaborn/_oldcore.py:1119: FutureWarning: use_inf_as_na option is deprecated and will be removed in a future version. Convert inf values to NaN before operating instead.\n",
      "  with pd.option_context('mode.use_inf_as_na', True):\n"
     ]
    },
    {
     "data": {
      "text/plain": [
       "Text(0.5, 1.0, 'Age QQ Plot')"
      ]
     },
     "execution_count": 10,
     "metadata": {},
     "output_type": "execute_result"
    },
    {
     "data": {
      "image/png": "[encoded data removed]",
      "text/plain": [
       "<Figure size 1400x400 with 2 Axes>"
      ]
     },
     "metadata": {},
     "output_type": "display_data"
    }
   ],
   "source": [
    "plt.figure(figsize=(14,4))\n",
    "plt.subplot(121)\n",
    "sns.distplot(x_train['Age'])\n",
    "plt.title('Age PDF')\n",
    "\n",
    "plt.subplot(122)\n",
    "stats.probplot(x_train['Age'],dist='norm',plot=plt)\n",
    "plt.title('Age QQ Plot')"
   ]
  },
  {
   "cell_type": "code",
   "execution_count": 11,
   "id": "dfd5a404",
   "metadata": {
    "execution": {
     "iopub.execute_input": "2024-05-06T15:00:04.947193Z",
     "iopub.status.busy": "2024-05-06T15:00:04.946769Z",
     "iopub.status.idle": "2024-05-06T15:00:05.682681Z",
     "shell.execute_reply": "2024-05-06T15:00:05.681343Z"
    },
    "papermill": {
     "duration": 0.749768,
     "end_time": "2024-05-06T15:00:05.685175",
     "exception": false,
     "start_time": "2024-05-06T15:00:04.935407",
     "status": "completed"
    },
    "tags": []
   },
   "outputs": [
    {
     "name": "stderr",
     "output_type": "stream",
     "text": [
      "/tmp/ipykernel_18/105768040.py:3: UserWarning: \n",
      "\n",
      "`distplot` is a deprecated function and will be removed in seaborn v0.14.0.\n",
      "\n",
      "Please adapt your code to use either `displot` (a figure-level function with\n",
      "similar flexibility) or `histplot` (an axes-level function for histograms).\n",
      "\n",
      "For a guide to updating your code to use the new functions, please see\n",
      "https://gist.github.com/mwaskom/de44147ed2974457ad6372750bbe5751\n",
      "\n",
      "  sns.distplot(x_train['Fare'])\n",
      "/opt/conda/lib/python3.10/site-packages/seaborn/_oldcore.py:1119: FutureWarning: use_inf_as_na option is deprecated and will be removed in a future version. Convert inf values to NaN before operating instead.\n",
      "  with pd.option_context('mode.use_inf_as_na', True):\n"
     ]
    },
    {
     "data": {
      "text/plain": [
       "Text(0.5, 1.0, 'Fare QQ Plot')"
      ]
     },
     "execution_count": 11,
     "metadata": {},
     "output_type": "execute_result"
    },
    {
     "data": {
      "image/png": "[encoded data removed]",
      "text/plain": [
       "<Figure size 1400x400 with 2 Axes>"
      ]
     },
     "metadata": {},
     "output_type": "display_data"
    }
   ],
   "source": [
    "plt.figure(figsize=(14,4))\n",
    "plt.subplot(121)\n",
    "sns.distplot(x_train['Fare'])\n",
    "plt.title('Fare PDF')\n",
    "\n",
    "plt.subplot(122)\n",
    "stats.probplot(x_train['Fare'],dist='norm',plot=plt)\n",
    "plt.title('Fare QQ Plot')"
   ]
  },
  {
   "cell_type": "code",
   "execution_count": 12,
   "id": "d0cc0cc3",
   "metadata": {
    "execution": {
     "iopub.execute_input": "2024-05-06T15:00:05.711164Z",
     "iopub.status.busy": "2024-05-06T15:00:05.710754Z",
     "iopub.status.idle": "2024-05-06T15:00:05.716759Z",
     "shell.execute_reply": "2024-05-06T15:00:05.715559Z"
    },
    "papermill": {
     "duration": 0.021883,
     "end_time": "2024-05-06T15:00:05.719262",
     "exception": false,
     "start_time": "2024-05-06T15:00:05.697379",
     "status": "completed"
    },
    "tags": []
   },
   "outputs": [],
   "source": [
    "clf = LogisticRegression()\n",
    "clf2 = DecisionTreeClassifier()"
   ]
  },
  {
   "cell_type": "code",
   "execution_count": 13,
   "id": "bf381bc7",
   "metadata": {
    "execution": {
     "iopub.execute_input": "2024-05-06T15:00:05.742563Z",
     "iopub.status.busy": "2024-05-06T15:00:05.741726Z",
     "iopub.status.idle": "2024-05-06T15:00:05.770829Z",
     "shell.execute_reply": "2024-05-06T15:00:05.769414Z"
    },
    "papermill": {
     "duration": 0.044087,
     "end_time": "2024-05-06T15:00:05.774044",
     "exception": false,
     "start_time": "2024-05-06T15:00:05.729957",
     "status": "completed"
    },
    "tags": []
   },
   "outputs": [
    {
     "data": {
      "text/html": [
       "<style>#sk-container-id-1 {color: black;background-color: white;}#sk-container-id-1 pre{padding: 0;}#sk-container-id-1 div.sk-toggleable {background-color: white;}#sk-container-id-1 label.sk-toggleable__label {cursor: pointer;display: block;width: 100%;margin-bottom: 0;padding: 0.3em;box-sizing: border-box;text-align: center;}#sk-container-id-1 label.sk-toggleable__label-arrow:before {content: \"▸\";float: left;margin-right: 0.25em;color: #696969;}#sk-container-id-1 label.sk-toggleable__label-arrow:hover:before {color: black;}#sk-container-id-1 div.sk-estimator:hover label.sk-toggleable__label-arrow:before {color: black;}#sk-container-id-1 div.sk-toggleable__content {max-height: 0;max-width: 0;overflow: hidden;text-align: left;background-color: #f0f8ff;}#sk-container-id-1 div.sk-toggleable__content pre {margin: 0.2em;color: black;border-radius: 0.25em;background-color: #f0f8ff;}#sk-container-id-1 input.sk-toggleable__control:checked~div.sk-toggleable__content {max-height: 200px;max-width: 100%;overflow: auto;}#sk-container-id-1 input.sk-toggleable__control:checked~label.sk-toggleable__label-arrow:before {content: \"▾\";}#sk-container-id-1 div.sk-estimator input.sk-toggleable__control:checked~label.sk-toggleable__label {background-color: #d4ebff;}#sk-container-id-1 div.sk-label input.sk-toggleable__control:checked~label.sk-toggleable__label {background-color: #d4ebff;}#sk-container-id-1 input.sk-hidden--visually {border: 0;clip: rect(1px 1px 1px 1px);clip: rect(1px, 1px, 1px, 1px);height: 1px;margin: -1px;overflow: hidden;padding: 0;position: absolute;width: 1px;}#sk-container-id-1 div.sk-estimator {font-family: monospace;background-color: #f0f8ff;border: 1px dotted black;border-radius: 0.25em;box-sizing: border-box;margin-bottom: 0.5em;}#sk-container-id-1 div.sk-estimator:hover {background-color: #d4ebff;}#sk-container-id-1 div.sk-parallel-item::after {content: \"\";width: 100%;border-bottom: 1px solid gray;flex-grow: 1;}#sk-container-id-1 div.sk-label:hover label.sk-toggleable__label {background-color: #d4ebff;}#sk-container-id-1 div.sk-serial::before {content: \"\";position: absolute;border-left: 1px solid gray;box-sizing: border-box;top: 0;bottom: 0;left: 50%;z-index: 0;}#sk-container-id-1 div.sk-serial {display: flex;flex-direction: column;align-items: center;background-color: white;padding-right: 0.2em;padding-left: 0.2em;position: relative;}#sk-container-id-1 div.sk-item {position: relative;z-index: 1;}#sk-container-id-1 div.sk-parallel {display: flex;align-items: stretch;justify-content: center;background-color: white;position: relative;}#sk-container-id-1 div.sk-item::before, #sk-container-id-1 div.sk-parallel-item::before {content: \"\";position: absolute;border-left: 1px solid gray;box-sizing: border-box;top: 0;bottom: 0;left: 50%;z-index: -1;}#sk-container-id-1 div.sk-parallel-item {display: flex;flex-direction: column;z-index: 1;position: relative;background-color: white;}#sk-container-id-1 div.sk-parallel-item:first-child::after {align-self: flex-end;width: 50%;}#sk-container-id-1 div.sk-parallel-item:last-child::after {align-self: flex-start;width: 50%;}#sk-container-id-1 div.sk-parallel-item:only-child::after {width: 0;}#sk-container-id-1 div.sk-dashed-wrapped {border: 1px dashed gray;margin: 0 0.4em 0.5em 0.4em;box-sizing: border-box;padding-bottom: 0.4em;background-color: white;}#sk-container-id-1 div.sk-label label {font-family: monospace;font-weight: bold;display: inline-block;line-height: 1.2em;}#sk-container-id-1 div.sk-label-container {text-align: center;}#sk-container-id-1 div.sk-container {/* jupyter's `normalize.less` sets `[hidden] { display: none; }` but bootstrap.min.css set `[hidden] { display: none !important; }` so we also need the `!important` here to be able to override the default hidden behavior on the sphinx rendered scikit-learn.org. See: https://github.com/scikit-learn/scikit-learn/issues/21755 */display: inline-block !important;position: relative;}#sk-container-id-1 div.sk-text-repr-fallback {display: none;}</style><div id=\"sk-container-id-1\" class=\"sk-top-container\"><div class=\"sk-text-repr-fallback\"><pre>DecisionTreeClassifier()</pre><b>In a Jupyter environment, please rerun this cell to show the HTML representation or trust the notebook. <br />On GitHub, the HTML representation is unable to render, please try loading this page with nbviewer.org.</b></div><div class=\"sk-container\" hidden><div class=\"sk-item\"><div class=\"sk-estimator sk-toggleable\"><input class=\"sk-toggleable__control sk-hidden--visually\" id=\"sk-estimator-id-1\" type=\"checkbox\" checked><label for=\"sk-estimator-id-1\" class=\"sk-toggleable__label sk-toggleable__label-arrow\">DecisionTreeClassifier</label><div class=\"sk-toggleable__content\"><pre>DecisionTreeClassifier()</pre></div></div></div></div></div>"
      ],
      "text/plain": [
       "DecisionTreeClassifier()"
      ]
     },
     "execution_count": 13,
     "metadata": {},
     "output_type": "execute_result"
    }
   ],
   "source": [
    "clf.fit(x_train,y_train)\n",
    "clf2.fit(x_train,y_train)"
   ]
  },
  {
   "cell_type": "code",
   "execution_count": 14,
   "id": "ec3a8368",
   "metadata": {
    "execution": {
     "iopub.execute_input": "2024-05-06T15:00:05.804948Z",
     "iopub.status.busy": "2024-05-06T15:00:05.803620Z",
     "iopub.status.idle": "2024-05-06T15:00:05.817728Z",
     "shell.execute_reply": "2024-05-06T15:00:05.816540Z"
    },
    "papermill": {
     "duration": 0.030959,
     "end_time": "2024-05-06T15:00:05.820512",
     "exception": false,
     "start_time": "2024-05-06T15:00:05.789553",
     "status": "completed"
    },
    "tags": []
   },
   "outputs": [
    {
     "name": "stdout",
     "output_type": "stream",
     "text": [
      "Accuracy LR 0.6480446927374302\n",
      "Accuracy DT 0.659217877094972\n"
     ]
    }
   ],
   "source": [
    "y_pred = clf.predict(x_test)\n",
    "y_pred1 = clf2.predict(x_test)\n",
    "    \n",
    "print(\"Accuracy LR\",accuracy_score(y_test,y_pred))\n",
    "print(\"Accuracy DT\",accuracy_score(y_test,y_pred1))"
   ]
  },
  {
   "cell_type": "code",
   "execution_count": 15,
   "id": "d91f25e7",
   "metadata": {
    "execution": {
     "iopub.execute_input": "2024-05-06T15:00:05.844101Z",
     "iopub.status.busy": "2024-05-06T15:00:05.843181Z",
     "iopub.status.idle": "2024-05-06T15:00:05.848630Z",
     "shell.execute_reply": "2024-05-06T15:00:05.847833Z"
    },
    "papermill": {
     "duration": 0.019775,
     "end_time": "2024-05-06T15:00:05.850946",
     "exception": false,
     "start_time": "2024-05-06T15:00:05.831171",
     "status": "completed"
    },
    "tags": []
   },
   "outputs": [],
   "source": [
    "trf=FunctionTransformer(func=np.log1p)"
   ]
  },
  {
   "cell_type": "code",
   "execution_count": 16,
   "id": "b824368e",
   "metadata": {
    "execution": {
     "iopub.execute_input": "2024-05-06T15:00:05.873967Z",
     "iopub.status.busy": "2024-05-06T15:00:05.873586Z",
     "iopub.status.idle": "2024-05-06T15:00:05.879822Z",
     "shell.execute_reply": "2024-05-06T15:00:05.878517Z"
    },
    "papermill": {
     "duration": 0.020602,
     "end_time": "2024-05-06T15:00:05.882252",
     "exception": false,
     "start_time": "2024-05-06T15:00:05.861650",
     "status": "completed"
    },
    "tags": []
   },
   "outputs": [],
   "source": [
    "x_train_trans=trf.fit_transform(x_train)\n",
    "x_test_trans=trf.fit_transform(x_test)"
   ]
  },
  {
   "cell_type": "code",
   "execution_count": 17,
   "id": "42aa79cf",
   "metadata": {
    "execution": {
     "iopub.execute_input": "2024-05-06T15:00:05.908824Z",
     "iopub.status.busy": "2024-05-06T15:00:05.907919Z",
     "iopub.status.idle": "2024-05-06T15:00:05.940462Z",
     "shell.execute_reply": "2024-05-06T15:00:05.938528Z"
    },
    "papermill": {
     "duration": 0.051889,
     "end_time": "2024-05-06T15:00:05.945004",
     "exception": false,
     "start_time": "2024-05-06T15:00:05.893115",
     "status": "completed"
    },
    "tags": []
   },
   "outputs": [
    {
     "name": "stdout",
     "output_type": "stream",
     "text": [
      "Accuracy LR 0.6815642458100558\n",
      "Accuracy DT 0.6927374301675978\n"
     ]
    }
   ],
   "source": [
    "clf = LogisticRegression()\n",
    "clf2 = DecisionTreeClassifier()\n",
    "\n",
    "clf.fit(x_train_trans,y_train)\n",
    "clf2.fit(x_train_trans,y_train)\n",
    "\n",
    "y_pred = clf.predict(x_test_trans)\n",
    "y_pred1 = clf2.predict(x_test_trans)\n",
    "    \n",
    "print(\"Accuracy LR\",accuracy_score(y_test,y_pred))\n",
    "print(\"Accuracy DT\",accuracy_score(y_test,y_pred1))"
   ]
  },
  {
   "cell_type": "code",
   "execution_count": 18,
   "id": "c0f8c7f9",
   "metadata": {
    "execution": {
     "iopub.execute_input": "2024-05-06T15:00:05.971977Z",
     "iopub.status.busy": "2024-05-06T15:00:05.971572Z",
     "iopub.status.idle": "2024-05-06T15:00:05.978305Z",
     "shell.execute_reply": "2024-05-06T15:00:05.977165Z"
    },
    "papermill": {
     "duration": 0.024195,
     "end_time": "2024-05-06T15:00:05.981785",
     "exception": false,
     "start_time": "2024-05-06T15:00:05.957590",
     "status": "completed"
    },
    "tags": []
   },
   "outputs": [],
   "source": [
    "x_trans=trf.fit_transform(x)"
   ]
  },
  {
   "cell_type": "code",
   "execution_count": 19,
   "id": "443662af",
   "metadata": {
    "execution": {
     "iopub.execute_input": "2024-05-06T15:00:06.012089Z",
     "iopub.status.busy": "2024-05-06T15:00:06.011449Z",
     "iopub.status.idle": "2024-05-06T15:00:06.204563Z",
     "shell.execute_reply": "2024-05-06T15:00:06.202858Z"
    },
    "papermill": {
     "duration": 0.210347,
     "end_time": "2024-05-06T15:00:06.207315",
     "exception": false,
     "start_time": "2024-05-06T15:00:05.996968",
     "status": "completed"
    },
    "tags": []
   },
   "outputs": [
    {
     "name": "stdout",
     "output_type": "stream",
     "text": [
      "LR 0.678027465667915\n",
      "DT 0.6577028714107366\n"
     ]
    }
   ],
   "source": [
    "clf = LogisticRegression()\n",
    "clf2 = DecisionTreeClassifier()\n",
    "print(\"LR\",np.mean(cross_val_score(clf,x_trans,y,scoring='accuracy',cv=10)))\n",
    "print(\"DT\",np.mean(cross_val_score(clf2,x_trans,y,scoring='accuracy',cv=10)))"
   ]
  },
  {
   "cell_type": "code",
   "execution_count": null,
   "id": "a40d88d7",
   "metadata": {
    "papermill": {
     "duration": 0.01153,
     "end_time": "2024-05-06T15:00:06.230717",
     "exception": false,
     "start_time": "2024-05-06T15:00:06.219187",
     "status": "completed"
    },
    "tags": []
   },
   "outputs": [],
   "source": []
  }
 ],
 "metadata": {
  "kaggle": {
   "accelerator": "none",
   "dataSources": [
    {
     "datasetId": 1247358,
     "sourceId": 2080558,
     "sourceType": "datasetVersion"
    }
   ],
   "dockerImageVersionId": 30698,
   "isGpuEnabled": false,
   "isInternetEnabled": false,
   "language": "python",
   "sourceType": "notebook"
  },
  "kernelspec": {
   "display_name": "Python 3",
   "language": "python",
   "name": "python3"
  },
  "language_info": {
   "codemirror_mode": {
    "name": "ipython",
    "version": 3
   },
   "file_extension": ".py",
   "mimetype": "text/x-python",
   "name": "python",
   "nbconvert_exporter": "python",
   "pygments_lexer": "ipython3",
   "version": "3.10.13"
  },
  "papermill": {
   "default_parameters": {},
   "duration": 9.522805,
   "end_time": "2024-05-06T15:00:06.964777",
   "environment_variables": {},
   "exception": null,
   "input_path": "__notebook__.ipynb",
   "output_path": "__notebook__.ipynb",
   "parameters": {},
   "start_time": "2024-05-06T14:59:57.441972",
   "version": "2.5.0"
  }
 },
 "nbformat": 4,
 "nbformat_minor": 5
}
