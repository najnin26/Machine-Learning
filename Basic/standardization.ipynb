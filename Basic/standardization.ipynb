{
 "cells": [
  {
   "cell_type": "code",
   "execution_count": 1,
   "id": "12c1b9ad",
   "metadata": {
    "_cell_guid": "b1076dfc-b9ad-4769-8c92-a6c4dae69d19",
    "_uuid": "8f2839f25d086af736a60e9eeb907d3b93b6e0e5",
    "execution": {
     "iopub.execute_input": "2024-04-28T17:04:16.757234Z",
     "iopub.status.busy": "2024-04-28T17:04:16.756815Z",
     "iopub.status.idle": "2024-04-28T17:04:19.208139Z",
     "shell.execute_reply": "2024-04-28T17:04:19.206784Z"
    },
    "papermill": {
     "duration": 2.46108,
     "end_time": "2024-04-28T17:04:19.211071",
     "exception": false,
     "start_time": "2024-04-28T17:04:16.749991",
     "status": "completed"
    },
    "tags": []
   },
   "outputs": [],
   "source": [
    "import numpy as np\n",
    "import pandas as pd\n",
    "import seaborn as sns\n",
    "import matplotlib.pyplot as plt"
   ]
  },
  {
   "cell_type": "code",
   "execution_count": 2,
   "id": "a25b73e4",
   "metadata": {
    "execution": {
     "iopub.execute_input": "2024-04-28T17:04:19.222583Z",
     "iopub.status.busy": "2024-04-28T17:04:19.222024Z",
     "iopub.status.idle": "2024-04-28T17:04:19.244871Z",
     "shell.execute_reply": "2024-04-28T17:04:19.243705Z"
    },
    "papermill": {
     "duration": 0.031863,
     "end_time": "2024-04-28T17:04:19.247875",
     "exception": false,
     "start_time": "2024-04-28T17:04:19.216012",
     "status": "completed"
    },
    "tags": []
   },
   "outputs": [],
   "source": [
    "df=pd.read_csv(\"/kaggle/input/social-network-ads/Social_Network_Ads.csv\")"
   ]
  },
  {
   "cell_type": "code",
   "execution_count": 3,
   "id": "6ffba0ce",
   "metadata": {
    "execution": {
     "iopub.execute_input": "2024-04-28T17:04:19.258704Z",
     "iopub.status.busy": "2024-04-28T17:04:19.258290Z",
     "iopub.status.idle": "2024-04-28T17:04:19.280928Z",
     "shell.execute_reply": "2024-04-28T17:04:19.279791Z"
    },
    "papermill": {
     "duration": 0.030835,
     "end_time": "2024-04-28T17:04:19.283393",
     "exception": false,
     "start_time": "2024-04-28T17:04:19.252558",
     "status": "completed"
    },
    "tags": []
   },
   "outputs": [
    {
     "data": {
      "text/html": [
       "<div>\n",
       "<style scoped>\n",
       "    .dataframe tbody tr th:only-of-type {\n",
       "        vertical-align: middle;\n",
       "    }\n",
       "\n",
       "    .dataframe tbody tr th {\n",
       "        vertical-align: top;\n",
       "    }\n",
       "\n",
       "    .dataframe thead th {\n",
       "        text-align: right;\n",
       "    }\n",
       "</style>\n",
       "<table border=\"1\" class=\"dataframe\">\n",
       "  <thead>\n",
       "    <tr style=\"text-align: right;\">\n",
       "      <th></th>\n",
       "      <th>User ID</th>\n",
       "      <th>Gender</th>\n",
       "      <th>Age</th>\n",
       "      <th>EstimatedSalary</th>\n",
       "      <th>Purchased</th>\n",
       "    </tr>\n",
       "  </thead>\n",
       "  <tbody>\n",
       "    <tr>\n",
       "      <th>0</th>\n",
       "      <td>15624510</td>\n",
       "      <td>Male</td>\n",
       "      <td>19</td>\n",
       "      <td>19000</td>\n",
       "      <td>0</td>\n",
       "    </tr>\n",
       "    <tr>\n",
       "      <th>1</th>\n",
       "      <td>15810944</td>\n",
       "      <td>Male</td>\n",
       "      <td>35</td>\n",
       "      <td>20000</td>\n",
       "      <td>0</td>\n",
       "    </tr>\n",
       "    <tr>\n",
       "      <th>2</th>\n",
       "      <td>15668575</td>\n",
       "      <td>Female</td>\n",
       "      <td>26</td>\n",
       "      <td>43000</td>\n",
       "      <td>0</td>\n",
       "    </tr>\n",
       "    <tr>\n",
       "      <th>3</th>\n",
       "      <td>15603246</td>\n",
       "      <td>Female</td>\n",
       "      <td>27</td>\n",
       "      <td>57000</td>\n",
       "      <td>0</td>\n",
       "    </tr>\n",
       "    <tr>\n",
       "      <th>4</th>\n",
       "      <td>15804002</td>\n",
       "      <td>Male</td>\n",
       "      <td>19</td>\n",
       "      <td>76000</td>\n",
       "      <td>0</td>\n",
       "    </tr>\n",
       "  </tbody>\n",
       "</table>\n",
       "</div>"
      ],
      "text/plain": [
       "    User ID  Gender  Age  EstimatedSalary  Purchased\n",
       "0  15624510    Male   19            19000          0\n",
       "1  15810944    Male   35            20000          0\n",
       "2  15668575  Female   26            43000          0\n",
       "3  15603246  Female   27            57000          0\n",
       "4  15804002    Male   19            76000          0"
      ]
     },
     "execution_count": 3,
     "metadata": {},
     "output_type": "execute_result"
    }
   ],
   "source": [
    "df.head()"
   ]
  },
  {
   "cell_type": "code",
   "execution_count": 4,
   "id": "df8d3f3d",
   "metadata": {
    "execution": {
     "iopub.execute_input": "2024-04-28T17:04:19.295070Z",
     "iopub.status.busy": "2024-04-28T17:04:19.294682Z",
     "iopub.status.idle": "2024-04-28T17:04:19.303581Z",
     "shell.execute_reply": "2024-04-28T17:04:19.302461Z"
    },
    "papermill": {
     "duration": 0.017556,
     "end_time": "2024-04-28T17:04:19.305922",
     "exception": false,
     "start_time": "2024-04-28T17:04:19.288366",
     "status": "completed"
    },
    "tags": []
   },
   "outputs": [],
   "source": [
    "df=df.iloc[:,2:]"
   ]
  },
  {
   "cell_type": "code",
   "execution_count": 5,
   "id": "84f1ca1c",
   "metadata": {
    "execution": {
     "iopub.execute_input": "2024-04-28T17:04:19.317129Z",
     "iopub.status.busy": "2024-04-28T17:04:19.316771Z",
     "iopub.status.idle": "2024-04-28T17:04:19.332516Z",
     "shell.execute_reply": "2024-04-28T17:04:19.331495Z"
    },
    "papermill": {
     "duration": 0.02425,
     "end_time": "2024-04-28T17:04:19.334954",
     "exception": false,
     "start_time": "2024-04-28T17:04:19.310704",
     "status": "completed"
    },
    "tags": []
   },
   "outputs": [
    {
     "data": {
      "text/html": [
       "<div>\n",
       "<style scoped>\n",
       "    .dataframe tbody tr th:only-of-type {\n",
       "        vertical-align: middle;\n",
       "    }\n",
       "\n",
       "    .dataframe tbody tr th {\n",
       "        vertical-align: top;\n",
       "    }\n",
       "\n",
       "    .dataframe thead th {\n",
       "        text-align: right;\n",
       "    }\n",
       "</style>\n",
       "<table border=\"1\" class=\"dataframe\">\n",
       "  <thead>\n",
       "    <tr style=\"text-align: right;\">\n",
       "      <th></th>\n",
       "      <th>Age</th>\n",
       "      <th>EstimatedSalary</th>\n",
       "      <th>Purchased</th>\n",
       "    </tr>\n",
       "  </thead>\n",
       "  <tbody>\n",
       "    <tr>\n",
       "      <th>27</th>\n",
       "      <td>47</td>\n",
       "      <td>30000</td>\n",
       "      <td>1</td>\n",
       "    </tr>\n",
       "    <tr>\n",
       "      <th>57</th>\n",
       "      <td>28</td>\n",
       "      <td>79000</td>\n",
       "      <td>0</td>\n",
       "    </tr>\n",
       "    <tr>\n",
       "      <th>300</th>\n",
       "      <td>58</td>\n",
       "      <td>38000</td>\n",
       "      <td>1</td>\n",
       "    </tr>\n",
       "    <tr>\n",
       "      <th>185</th>\n",
       "      <td>31</td>\n",
       "      <td>66000</td>\n",
       "      <td>0</td>\n",
       "    </tr>\n",
       "    <tr>\n",
       "      <th>87</th>\n",
       "      <td>28</td>\n",
       "      <td>85000</td>\n",
       "      <td>0</td>\n",
       "    </tr>\n",
       "  </tbody>\n",
       "</table>\n",
       "</div>"
      ],
      "text/plain": [
       "     Age  EstimatedSalary  Purchased\n",
       "27    47            30000          1\n",
       "57    28            79000          0\n",
       "300   58            38000          1\n",
       "185   31            66000          0\n",
       "87    28            85000          0"
      ]
     },
     "execution_count": 5,
     "metadata": {},
     "output_type": "execute_result"
    }
   ],
   "source": [
    "df.sample(5)"
   ]
  },
  {
   "cell_type": "markdown",
   "id": "cec4052c",
   "metadata": {
    "papermill": {
     "duration": 0.004796,
     "end_time": "2024-04-28T17:04:19.344870",
     "exception": false,
     "start_time": "2024-04-28T17:04:19.340074",
     "status": "completed"
    },
    "tags": []
   },
   "source": [
    "# **Train Test split**"
   ]
  },
  {
   "cell_type": "code",
   "execution_count": 6,
   "id": "707463cf",
   "metadata": {
    "execution": {
     "iopub.execute_input": "2024-04-28T17:04:19.356755Z",
     "iopub.status.busy": "2024-04-28T17:04:19.356267Z",
     "iopub.status.idle": "2024-04-28T17:04:19.730531Z",
     "shell.execute_reply": "2024-04-28T17:04:19.729476Z"
    },
    "papermill": {
     "duration": 0.383417,
     "end_time": "2024-04-28T17:04:19.733406",
     "exception": false,
     "start_time": "2024-04-28T17:04:19.349989",
     "status": "completed"
    },
    "tags": []
   },
   "outputs": [],
   "source": [
    "from sklearn.model_selection import train_test_split"
   ]
  },
  {
   "cell_type": "code",
   "execution_count": 7,
   "id": "55bf7cd6",
   "metadata": {
    "execution": {
     "iopub.execute_input": "2024-04-28T17:04:19.745308Z",
     "iopub.status.busy": "2024-04-28T17:04:19.744910Z",
     "iopub.status.idle": "2024-04-28T17:04:19.754223Z",
     "shell.execute_reply": "2024-04-28T17:04:19.753033Z"
    },
    "papermill": {
     "duration": 0.018088,
     "end_time": "2024-04-28T17:04:19.756693",
     "exception": false,
     "start_time": "2024-04-28T17:04:19.738605",
     "status": "completed"
    },
    "tags": []
   },
   "outputs": [],
   "source": [
    "X_train,X_test,Y_train,Y_test=train_test_split(df.drop('Purchased',axis=1),\n",
    "                                              df['Purchased'],\n",
    "                                              test_size=0.3,\n",
    "                                              random_state=0)"
   ]
  },
  {
   "cell_type": "code",
   "execution_count": 8,
   "id": "46df71dd",
   "metadata": {
    "execution": {
     "iopub.execute_input": "2024-04-28T17:04:19.768867Z",
     "iopub.status.busy": "2024-04-28T17:04:19.768419Z",
     "iopub.status.idle": "2024-04-28T17:04:19.775953Z",
     "shell.execute_reply": "2024-04-28T17:04:19.774668Z"
    },
    "papermill": {
     "duration": 0.016632,
     "end_time": "2024-04-28T17:04:19.778460",
     "exception": false,
     "start_time": "2024-04-28T17:04:19.761828",
     "status": "completed"
    },
    "tags": []
   },
   "outputs": [
    {
     "data": {
      "text/plain": [
       "((280, 2), (120, 2))"
      ]
     },
     "execution_count": 8,
     "metadata": {},
     "output_type": "execute_result"
    }
   ],
   "source": [
    "X_train.shape,X_test.shape"
   ]
  },
  {
   "cell_type": "markdown",
   "id": "5261a175",
   "metadata": {
    "papermill": {
     "duration": 0.004997,
     "end_time": "2024-04-28T17:04:19.789075",
     "exception": false,
     "start_time": "2024-04-28T17:04:19.784078",
     "status": "completed"
    },
    "tags": []
   },
   "source": [
    "# **StandardScaler**"
   ]
  },
  {
   "cell_type": "code",
   "execution_count": null,
   "id": "2d1717de",
   "metadata": {
    "papermill": {
     "duration": 0.004916,
     "end_time": "2024-04-28T17:04:19.799240",
     "exception": false,
     "start_time": "2024-04-28T17:04:19.794324",
     "status": "completed"
    },
    "tags": []
   },
   "outputs": [],
   "source": []
  },
  {
   "cell_type": "markdown",
   "id": "6ab0120a",
   "metadata": {
    "papermill": {
     "duration": 0.004863,
     "end_time": "2024-04-28T17:04:19.809386",
     "exception": false,
     "start_time": "2024-04-28T17:04:19.804523",
     "status": "completed"
    },
    "tags": []
   },
   "source": []
  }
 ],
 "metadata": {
  "kaggle": {
   "accelerator": "none",
   "dataSources": [
    {
     "datasetId": 3646011,
     "sourceId": 6333866,
     "sourceType": "datasetVersion"
    }
   ],
   "dockerImageVersionId": 30698,
   "isGpuEnabled": false,
   "isInternetEnabled": false,
   "language": "python",
   "sourceType": "notebook"
  },
  "kernelspec": {
   "display_name": "Python 3",
   "language": "python",
   "name": "python3"
  },
  "language_info": {
   "codemirror_mode": {
    "name": "ipython",
    "version": 3
   },
   "file_extension": ".py",
   "mimetype": "text/x-python",
   "name": "python",
   "nbconvert_exporter": "python",
   "pygments_lexer": "ipython3",
   "version": "3.10.13"
  },
  "papermill": {
   "default_parameters": {},
   "duration": 6.859664,
   "end_time": "2024-04-28T17:04:20.437813",
   "environment_variables": {},
   "exception": null,
   "input_path": "__notebook__.ipynb",
   "output_path": "__notebook__.ipynb",
   "parameters": {},
   "start_time": "2024-04-28T17:04:13.578149",
   "version": "2.5.0"
  }
 },
 "nbformat": 4,
 "nbformat_minor": 5
}
