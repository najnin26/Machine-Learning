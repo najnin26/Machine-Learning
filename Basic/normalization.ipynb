{
 "cells": [
  {
   "cell_type": "code",
   "execution_count": 1,
   "id": "c42c49b4",
   "metadata": {
    "_cell_guid": "b1076dfc-b9ad-4769-8c92-a6c4dae69d19",
    "_uuid": "8f2839f25d086af736a60e9eeb907d3b93b6e0e5",
    "execution": {
     "iopub.execute_input": "2024-04-29T15:38:06.811162Z",
     "iopub.status.busy": "2024-04-29T15:38:06.810406Z",
     "iopub.status.idle": "2024-04-29T15:38:09.399991Z",
     "shell.execute_reply": "2024-04-29T15:38:09.398508Z"
    },
    "papermill": {
     "duration": 2.602247,
     "end_time": "2024-04-29T15:38:09.403077",
     "exception": false,
     "start_time": "2024-04-29T15:38:06.800830",
     "status": "completed"
    },
    "tags": []
   },
   "outputs": [],
   "source": [
    "import numpy as np # linear algebra\n",
    "import pandas as pd # data processing\n",
    "import matplotlib.pyplot as plt\n",
    "import seaborn as sns"
   ]
  },
  {
   "cell_type": "code",
   "execution_count": 2,
   "id": "6d8d9f5b",
   "metadata": {
    "execution": {
     "iopub.execute_input": "2024-04-29T15:38:09.418839Z",
     "iopub.status.busy": "2024-04-29T15:38:09.418320Z",
     "iopub.status.idle": "2024-04-29T15:38:09.446461Z",
     "shell.execute_reply": "2024-04-29T15:38:09.445181Z"
    },
    "papermill": {
     "duration": 0.039625,
     "end_time": "2024-04-29T15:38:09.449944",
     "exception": false,
     "start_time": "2024-04-29T15:38:09.410319",
     "status": "completed"
    },
    "tags": []
   },
   "outputs": [],
   "source": [
    "df = pd.read_csv('/kaggle/input/wine-data/wine_data.csv',header=None,usecols=[0,1,2])\n",
    "df.columns=['Class label', 'Alcohol', 'Malic acid']"
   ]
  },
  {
   "cell_type": "code",
   "execution_count": 3,
   "id": "8180259f",
   "metadata": {
    "execution": {
     "iopub.execute_input": "2024-04-29T15:38:09.466299Z",
     "iopub.status.busy": "2024-04-29T15:38:09.465884Z",
     "iopub.status.idle": "2024-04-29T15:38:09.505106Z",
     "shell.execute_reply": "2024-04-29T15:38:09.503263Z"
    },
    "papermill": {
     "duration": 0.053451,
     "end_time": "2024-04-29T15:38:09.510756",
     "exception": false,
     "start_time": "2024-04-29T15:38:09.457305",
     "status": "completed"
    },
    "tags": []
   },
   "outputs": [
    {
     "data": {
      "text/html": [
       "<div>\n",
       "<style scoped>\n",
       "    .dataframe tbody tr th:only-of-type {\n",
       "        vertical-align: middle;\n",
       "    }\n",
       "\n",
       "    .dataframe tbody tr th {\n",
       "        vertical-align: top;\n",
       "    }\n",
       "\n",
       "    .dataframe thead th {\n",
       "        text-align: right;\n",
       "    }\n",
       "</style>\n",
       "<table border=\"1\" class=\"dataframe\">\n",
       "  <thead>\n",
       "    <tr style=\"text-align: right;\">\n",
       "      <th></th>\n",
       "      <th>Class label</th>\n",
       "      <th>Alcohol</th>\n",
       "      <th>Malic acid</th>\n",
       "    </tr>\n",
       "  </thead>\n",
       "  <tbody>\n",
       "    <tr>\n",
       "      <th>0</th>\n",
       "      <td>1</td>\n",
       "      <td>14.23</td>\n",
       "      <td>1.71</td>\n",
       "    </tr>\n",
       "    <tr>\n",
       "      <th>1</th>\n",
       "      <td>1</td>\n",
       "      <td>13.20</td>\n",
       "      <td>1.78</td>\n",
       "    </tr>\n",
       "    <tr>\n",
       "      <th>2</th>\n",
       "      <td>1</td>\n",
       "      <td>13.16</td>\n",
       "      <td>2.36</td>\n",
       "    </tr>\n",
       "    <tr>\n",
       "      <th>3</th>\n",
       "      <td>1</td>\n",
       "      <td>14.37</td>\n",
       "      <td>1.95</td>\n",
       "    </tr>\n",
       "    <tr>\n",
       "      <th>4</th>\n",
       "      <td>1</td>\n",
       "      <td>13.24</td>\n",
       "      <td>2.59</td>\n",
       "    </tr>\n",
       "    <tr>\n",
       "      <th>...</th>\n",
       "      <td>...</td>\n",
       "      <td>...</td>\n",
       "      <td>...</td>\n",
       "    </tr>\n",
       "    <tr>\n",
       "      <th>173</th>\n",
       "      <td>3</td>\n",
       "      <td>13.71</td>\n",
       "      <td>5.65</td>\n",
       "    </tr>\n",
       "    <tr>\n",
       "      <th>174</th>\n",
       "      <td>3</td>\n",
       "      <td>13.40</td>\n",
       "      <td>3.91</td>\n",
       "    </tr>\n",
       "    <tr>\n",
       "      <th>175</th>\n",
       "      <td>3</td>\n",
       "      <td>13.27</td>\n",
       "      <td>4.28</td>\n",
       "    </tr>\n",
       "    <tr>\n",
       "      <th>176</th>\n",
       "      <td>3</td>\n",
       "      <td>13.17</td>\n",
       "      <td>2.59</td>\n",
       "    </tr>\n",
       "    <tr>\n",
       "      <th>177</th>\n",
       "      <td>3</td>\n",
       "      <td>14.13</td>\n",
       "      <td>4.10</td>\n",
       "    </tr>\n",
       "  </tbody>\n",
       "</table>\n",
       "<p>178 rows × 3 columns</p>\n",
       "</div>"
      ],
      "text/plain": [
       "     Class label  Alcohol  Malic acid\n",
       "0              1    14.23        1.71\n",
       "1              1    13.20        1.78\n",
       "2              1    13.16        2.36\n",
       "3              1    14.37        1.95\n",
       "4              1    13.24        2.59\n",
       "..           ...      ...         ...\n",
       "173            3    13.71        5.65\n",
       "174            3    13.40        3.91\n",
       "175            3    13.27        4.28\n",
       "176            3    13.17        2.59\n",
       "177            3    14.13        4.10\n",
       "\n",
       "[178 rows x 3 columns]"
      ]
     },
     "execution_count": 3,
     "metadata": {},
     "output_type": "execute_result"
    }
   ],
   "source": [
    "df"
   ]
  },
  {
   "cell_type": "code",
   "execution_count": 4,
   "id": "afaca39b",
   "metadata": {
    "execution": {
     "iopub.execute_input": "2024-04-29T15:38:09.529148Z",
     "iopub.status.busy": "2024-04-29T15:38:09.528668Z",
     "iopub.status.idle": "2024-04-29T15:38:10.036806Z",
     "shell.execute_reply": "2024-04-29T15:38:10.035483Z"
    },
    "papermill": {
     "duration": 0.521287,
     "end_time": "2024-04-29T15:38:10.039864",
     "exception": false,
     "start_time": "2024-04-29T15:38:09.518577",
     "status": "completed"
    },
    "tags": []
   },
   "outputs": [
    {
     "name": "stderr",
     "output_type": "stream",
     "text": [
      "/opt/conda/lib/python3.10/site-packages/seaborn/_oldcore.py:1119: FutureWarning: use_inf_as_na option is deprecated and will be removed in a future version. Convert inf values to NaN before operating instead.\n",
      "  with pd.option_context('mode.use_inf_as_na', True):\n"
     ]
    },
    {
     "data": {
      "text/plain": [
       "<Axes: xlabel='Alcohol', ylabel='Density'>"
      ]
     },
     "execution_count": 4,
     "metadata": {},
     "output_type": "execute_result"
    },
    {
     "data": {
      "image/png": "[encoded data removed]",
      "text/plain": [
       "<Figure size 640x480 with 1 Axes>"
      ]
     },
     "metadata": {},
     "output_type": "display_data"
    }
   ],
   "source": [
    "sns.kdeplot(df['Alcohol'])"
   ]
  },
  {
   "cell_type": "code",
   "execution_count": 5,
   "id": "eeed2d8c",
   "metadata": {
    "execution": {
     "iopub.execute_input": "2024-04-29T15:38:10.059201Z",
     "iopub.status.busy": "2024-04-29T15:38:10.058715Z",
     "iopub.status.idle": "2024-04-29T15:38:10.407392Z",
     "shell.execute_reply": "2024-04-29T15:38:10.406061Z"
    },
    "papermill": {
     "duration": 0.36236,
     "end_time": "2024-04-29T15:38:10.410636",
     "exception": false,
     "start_time": "2024-04-29T15:38:10.048276",
     "status": "completed"
    },
    "tags": []
   },
   "outputs": [
    {
     "name": "stderr",
     "output_type": "stream",
     "text": [
      "/opt/conda/lib/python3.10/site-packages/seaborn/_oldcore.py:1119: FutureWarning: use_inf_as_na option is deprecated and will be removed in a future version. Convert inf values to NaN before operating instead.\n",
      "  with pd.option_context('mode.use_inf_as_na', True):\n"
     ]
    },
    {
     "data": {
      "text/plain": [
       "<Axes: xlabel='Malic acid', ylabel='Density'>"
      ]
     },
     "execution_count": 5,
     "metadata": {},
     "output_type": "execute_result"
    },
    {
     "data": {
      "image/png": "[encoded data removed]",
      "text/plain": [
       "<Figure size 640x480 with 1 Axes>"
      ]
     },
     "metadata": {},
     "output_type": "display_data"
    }
   ],
   "source": [
    "sns.kdeplot(df['Malic acid'])"
   ]
  },
  {
   "cell_type": "code",
   "execution_count": 6,
   "id": "1bb378ea",
   "metadata": {
    "execution": {
     "iopub.execute_input": "2024-04-29T15:38:10.439003Z",
     "iopub.status.busy": "2024-04-29T15:38:10.437586Z",
     "iopub.status.idle": "2024-04-29T15:38:10.964760Z",
     "shell.execute_reply": "2024-04-29T15:38:10.963358Z"
    },
    "papermill": {
     "duration": 0.544907,
     "end_time": "2024-04-29T15:38:10.968213",
     "exception": false,
     "start_time": "2024-04-29T15:38:10.423306",
     "status": "completed"
    },
    "tags": []
   },
   "outputs": [
    {
     "data": {
      "text/plain": [
       "<Axes: xlabel='Alcohol', ylabel='Malic acid'>"
      ]
     },
     "execution_count": 6,
     "metadata": {},
     "output_type": "execute_result"
    },
    {
     "data": {
      "image/png": "[encoded data removed]",
      "text/plain": [
       "<Figure size 640x480 with 1 Axes>"
      ]
     },
     "metadata": {},
     "output_type": "display_data"
    }
   ],
   "source": [
    "color_dict={1:'red',3:'green',2:'blue'}\n",
    "sns.scatterplot(x='Alcohol', y='Malic acid', hue='Class label', palette=color_dict, data=df)"
   ]
  },
  {
   "cell_type": "code",
   "execution_count": 7,
   "id": "080bbbda",
   "metadata": {
    "execution": {
     "iopub.execute_input": "2024-04-29T15:38:10.991021Z",
     "iopub.status.busy": "2024-04-29T15:38:10.990550Z",
     "iopub.status.idle": "2024-04-29T15:38:11.329423Z",
     "shell.execute_reply": "2024-04-29T15:38:11.327858Z"
    },
    "papermill": {
     "duration": 0.354476,
     "end_time": "2024-04-29T15:38:11.332631",
     "exception": false,
     "start_time": "2024-04-29T15:38:10.978155",
     "status": "completed"
    },
    "tags": []
   },
   "outputs": [
    {
     "data": {
      "text/plain": [
       "((124, 2), (54, 2))"
      ]
     },
     "execution_count": 7,
     "metadata": {},
     "output_type": "execute_result"
    }
   ],
   "source": [
    "from sklearn.model_selection import train_test_split\n",
    "X_train, X_test, y_train, y_test = train_test_split(df.drop('Class label', axis=1),\n",
    "                                                    df['Class label'],\n",
    "                                                    test_size=0.3,\n",
    "                                                    random_state=0)\n",
    "\n",
    "X_train.shape, X_test.shape"
   ]
  },
  {
   "cell_type": "code",
   "execution_count": 8,
   "id": "dc86de82",
   "metadata": {
    "execution": {
     "iopub.execute_input": "2024-04-29T15:38:11.356664Z",
     "iopub.status.busy": "2024-04-29T15:38:11.355547Z",
     "iopub.status.idle": "2024-04-29T15:38:11.361436Z",
     "shell.execute_reply": "2024-04-29T15:38:11.360386Z"
    },
    "papermill": {
     "duration": 0.020911,
     "end_time": "2024-04-29T15:38:11.364317",
     "exception": false,
     "start_time": "2024-04-29T15:38:11.343406",
     "status": "completed"
    },
    "tags": []
   },
   "outputs": [],
   "source": [
    "from sklearn.preprocessing import MinMaxScaler"
   ]
  },
  {
   "cell_type": "code",
   "execution_count": 9,
   "id": "77831793",
   "metadata": {
    "execution": {
     "iopub.execute_input": "2024-04-29T15:38:11.387575Z",
     "iopub.status.busy": "2024-04-29T15:38:11.386211Z",
     "iopub.status.idle": "2024-04-29T15:38:11.392070Z",
     "shell.execute_reply": "2024-04-29T15:38:11.390899Z"
    },
    "papermill": {
     "duration": 0.02021,
     "end_time": "2024-04-29T15:38:11.394694",
     "exception": false,
     "start_time": "2024-04-29T15:38:11.374484",
     "status": "completed"
    },
    "tags": []
   },
   "outputs": [],
   "source": [
    "scaler=MinMaxScaler()"
   ]
  },
  {
   "cell_type": "code",
   "execution_count": 10,
   "id": "c14ae43f",
   "metadata": {
    "execution": {
     "iopub.execute_input": "2024-04-29T15:38:11.422632Z",
     "iopub.status.busy": "2024-04-29T15:38:11.421344Z",
     "iopub.status.idle": "2024-04-29T15:38:11.431352Z",
     "shell.execute_reply": "2024-04-29T15:38:11.430424Z"
    },
    "papermill": {
     "duration": 0.025343,
     "end_time": "2024-04-29T15:38:11.434038",
     "exception": false,
     "start_time": "2024-04-29T15:38:11.408695",
     "status": "completed"
    },
    "tags": []
   },
   "outputs": [],
   "source": [
    "scaler.fit(X_train)\n",
    "\n",
    "X_train_scaled=scaler.transform(X_train)\n",
    "X_test_scaled=scaler.transform(X_test)"
   ]
  },
  {
   "cell_type": "code",
   "execution_count": 11,
   "id": "8dcec6da",
   "metadata": {
    "execution": {
     "iopub.execute_input": "2024-04-29T15:38:11.457460Z",
     "iopub.status.busy": "2024-04-29T15:38:11.456757Z",
     "iopub.status.idle": "2024-04-29T15:38:11.461018Z",
     "shell.execute_reply": "2024-04-29T15:38:11.459785Z"
    },
    "papermill": {
     "duration": 0.019114,
     "end_time": "2024-04-29T15:38:11.464439",
     "exception": false,
     "start_time": "2024-04-29T15:38:11.445325",
     "status": "completed"
    },
    "tags": []
   },
   "outputs": [],
   "source": [
    "# X_train_scaled = pd.DataFrame(X_train_scaled, columns=X_train.columns)\n",
    "# X_test_scaled = pd.DataFrame(X_test_scaled, columns=X_test.columns)"
   ]
  },
  {
   "cell_type": "code",
   "execution_count": 12,
   "id": "153c4e12",
   "metadata": {
    "execution": {
     "iopub.execute_input": "2024-04-29T15:38:11.491575Z",
     "iopub.status.busy": "2024-04-29T15:38:11.491043Z",
     "iopub.status.idle": "2024-04-29T15:38:11.496729Z",
     "shell.execute_reply": "2024-04-29T15:38:11.495182Z"
    },
    "papermill": {
     "duration": 0.024223,
     "end_time": "2024-04-29T15:38:11.499863",
     "exception": false,
     "start_time": "2024-04-29T15:38:11.475640",
     "status": "completed"
    },
    "tags": []
   },
   "outputs": [],
   "source": [
    "# np.round(X_train.describe(),1)"
   ]
  },
  {
   "cell_type": "code",
   "execution_count": 13,
   "id": "47f2dea8",
   "metadata": {
    "execution": {
     "iopub.execute_input": "2024-04-29T15:38:11.526869Z",
     "iopub.status.busy": "2024-04-29T15:38:11.526385Z",
     "iopub.status.idle": "2024-04-29T15:38:11.532587Z",
     "shell.execute_reply": "2024-04-29T15:38:11.531007Z"
    },
    "papermill": {
     "duration": 0.025249,
     "end_time": "2024-04-29T15:38:11.535747",
     "exception": false,
     "start_time": "2024-04-29T15:38:11.510498",
     "status": "completed"
    },
    "tags": []
   },
   "outputs": [],
   "source": [
    "# np.round(X_train_scaled.describe(), 1)"
   ]
  },
  {
   "cell_type": "code",
   "execution_count": 14,
   "id": "55dadc06",
   "metadata": {
    "execution": {
     "iopub.execute_input": "2024-04-29T15:38:11.558276Z",
     "iopub.status.busy": "2024-04-29T15:38:11.557086Z",
     "iopub.status.idle": "2024-04-29T15:38:11.562259Z",
     "shell.execute_reply": "2024-04-29T15:38:11.561110Z"
    },
    "papermill": {
     "duration": 0.018547,
     "end_time": "2024-04-29T15:38:11.564622",
     "exception": false,
     "start_time": "2024-04-29T15:38:11.546075",
     "status": "completed"
    },
    "tags": []
   },
   "outputs": [],
   "source": [
    "# fig, (ax1, ax2) = plt.subplots(ncols=2, figsize=(12, 5))\n",
    "\n",
    "# ax1.scatter(X_train['Alcohol'], X_train['Malic acid'],c=y_train)\n",
    "# ax1.set_title(\"Before Scaling\")\n",
    "# ax2.scatter(X_train_scaled['Alcohol'], X_train_scaled['Malic acid'],c=y_train)\n",
    "# ax2.set_title(\"After Scaling\")\n",
    "# plt.show()"
   ]
  },
  {
   "cell_type": "code",
   "execution_count": 15,
   "id": "c69baac5",
   "metadata": {
    "execution": {
     "iopub.execute_input": "2024-04-29T15:38:11.585858Z",
     "iopub.status.busy": "2024-04-29T15:38:11.585381Z",
     "iopub.status.idle": "2024-04-29T15:38:11.595523Z",
     "shell.execute_reply": "2024-04-29T15:38:11.592714Z"
    },
    "papermill": {
     "duration": 0.024488,
     "end_time": "2024-04-29T15:38:11.598642",
     "exception": false,
     "start_time": "2024-04-29T15:38:11.574154",
     "status": "completed"
    },
    "tags": []
   },
   "outputs": [],
   "source": [
    "# fig, (ax1, ax2) = plt.subplots(ncols=2, figsize=(12, 5))\n",
    "\n",
    "# # before scaling\n",
    "# ax1.set_title('Before Scaling')\n",
    "# sns.kdeplot(X_train['Alcohol'], ax=ax1)\n",
    "# sns.kdeplot(X_train['Malic acid'], ax=ax1)\n",
    "\n",
    "# # after scaling\n",
    "# ax2.set_title('After Standard Scaling')\n",
    "# sns.kdeplot(X_train_scaled['Alcohol'], ax=ax2)\n",
    "# sns.kdeplot(X_train_scaled['Malic acid'], ax=ax2)\n",
    "# plt.show()"
   ]
  },
  {
   "cell_type": "code",
   "execution_count": 16,
   "id": "f04abf2c",
   "metadata": {
    "execution": {
     "iopub.execute_input": "2024-04-29T15:38:11.623654Z",
     "iopub.status.busy": "2024-04-29T15:38:11.622592Z",
     "iopub.status.idle": "2024-04-29T15:38:11.630950Z",
     "shell.execute_reply": "2024-04-29T15:38:11.628792Z"
    },
    "papermill": {
     "duration": 0.025959,
     "end_time": "2024-04-29T15:38:11.634861",
     "exception": false,
     "start_time": "2024-04-29T15:38:11.608902",
     "status": "completed"
    },
    "tags": []
   },
   "outputs": [],
   "source": [
    "# fig, (ax1, ax2) = plt.subplots(ncols=2, figsize=(12, 5))\n",
    "\n",
    "# # before scaling\n",
    "# ax1.set_title('Alcohol Distribution Before Scaling')\n",
    "# sns.kdeplot(X_train['Alcohol'], ax=ax1)\n",
    "\n",
    "# # after scaling\n",
    "# ax2.set_title('Alcohol Distribution After Standard Scaling')\n",
    "# sns.kdeplot(X_train_scaled['Alcohol'], ax=ax2)\n",
    "# plt.show()"
   ]
  },
  {
   "cell_type": "code",
   "execution_count": 17,
   "id": "4e885e91",
   "metadata": {
    "execution": {
     "iopub.execute_input": "2024-04-29T15:38:11.666368Z",
     "iopub.status.busy": "2024-04-29T15:38:11.665870Z",
     "iopub.status.idle": "2024-04-29T15:38:11.671234Z",
     "shell.execute_reply": "2024-04-29T15:38:11.670314Z"
    },
    "papermill": {
     "duration": 0.023538,
     "end_time": "2024-04-29T15:38:11.674542",
     "exception": false,
     "start_time": "2024-04-29T15:38:11.651004",
     "status": "completed"
    },
    "tags": []
   },
   "outputs": [],
   "source": [
    "# fig, (ax1, ax2) = plt.subplots(ncols=2, figsize=(12, 5))\n",
    "\n",
    "# # before scaling\n",
    "# ax1.set_title('Malic acid Distribution Before Scaling')\n",
    "# sns.kdeplot(X_train['Malic acid'], ax=ax1)\n",
    "\n",
    "# # after scaling\n",
    "# ax2.set_title('Malic acid Distribution After Standard Scaling')\n",
    "# sns.kdeplot(X_train_scaled['Malic acid'], ax=ax2)\n",
    "# plt.show()"
   ]
  },
  {
   "cell_type": "code",
   "execution_count": null,
   "id": "311bf7ef",
   "metadata": {
    "papermill": {
     "duration": 0.014007,
     "end_time": "2024-04-29T15:38:11.703913",
     "exception": false,
     "start_time": "2024-04-29T15:38:11.689906",
     "status": "completed"
    },
    "tags": []
   },
   "outputs": [],
   "source": []
  }
 ],
 "metadata": {
  "kaggle": {
   "accelerator": "none",
   "dataSources": [
    {
     "datasetId": 4902747,
     "sourceId": 8260445,
     "sourceType": "datasetVersion"
    }
   ],
   "dockerImageVersionId": 30698,
   "isGpuEnabled": false,
   "isInternetEnabled": false,
   "language": "python",
   "sourceType": "notebook"
  },
  "kernelspec": {
   "display_name": "Python 3",
   "language": "python",
   "name": "python3"
  },
  "language_info": {
   "codemirror_mode": {
    "name": "ipython",
    "version": 3
   },
   "file_extension": ".py",
   "mimetype": "text/x-python",
   "name": "python",
   "nbconvert_exporter": "python",
   "pygments_lexer": "ipython3",
   "version": "3.10.13"
  },
  "papermill": {
   "default_parameters": {},
   "duration": 9.089095,
   "end_time": "2024-04-29T15:38:12.442677",
   "environment_variables": {},
   "exception": null,
   "input_path": "__notebook__.ipynb",
   "output_path": "__notebook__.ipynb",
   "parameters": {},
   "start_time": "2024-04-29T15:38:03.353582",
   "version": "2.5.0"
  }
 },
 "nbformat": 4,
 "nbformat_minor": 5
}
