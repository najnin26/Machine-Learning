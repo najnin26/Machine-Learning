{
 "cells": [
  {
   "cell_type": "code",
   "execution_count": 1,
   "id": "791a3b29",
   "metadata": {
    "_cell_guid": "b1076dfc-b9ad-4769-8c92-a6c4dae69d19",
    "_uuid": "8f2839f25d086af736a60e9eeb907d3b93b6e0e5",
    "execution": {
     "iopub.execute_input": "2024-05-10T18:35:09.267657Z",
     "iopub.status.busy": "2024-05-10T18:35:09.266914Z",
     "iopub.status.idle": "2024-05-10T18:35:09.992362Z",
     "shell.execute_reply": "2024-05-10T18:35:09.991068Z"
    },
    "papermill": {
     "duration": 0.734915,
     "end_time": "2024-05-10T18:35:09.995017",
     "exception": false,
     "start_time": "2024-05-10T18:35:09.260102",
     "status": "completed"
    },
    "tags": []
   },
   "outputs": [],
   "source": [
    "import numpy as np\n",
    "import pandas as pd"
   ]
  },
  {
   "cell_type": "code",
   "execution_count": 2,
   "id": "ab60c2a5",
   "metadata": {
    "execution": {
     "iopub.execute_input": "2024-05-10T18:35:10.005402Z",
     "iopub.status.busy": "2024-05-10T18:35:10.004931Z",
     "iopub.status.idle": "2024-05-10T18:35:11.147612Z",
     "shell.execute_reply": "2024-05-10T18:35:11.146540Z"
    },
    "papermill": {
     "duration": 1.150464,
     "end_time": "2024-05-10T18:35:11.150081",
     "exception": false,
     "start_time": "2024-05-10T18:35:09.999617",
     "status": "completed"
    },
    "tags": []
   },
   "outputs": [],
   "source": [
    "from sklearn.model_selection import train_test_split,cross_val_score\n",
    "from sklearn.tree import DecisionTreeClassifier\n",
    "\n",
    "from sklearn.metrics import accuracy_score\n",
    "\n",
    "from sklearn.compose import ColumnTransformer\n"
   ]
  },
  {
   "cell_type": "code",
   "execution_count": 3,
   "id": "ea0797e0",
   "metadata": {
    "execution": {
     "iopub.execute_input": "2024-05-10T18:35:11.160690Z",
     "iopub.status.busy": "2024-05-10T18:35:11.159804Z",
     "iopub.status.idle": "2024-05-10T18:35:11.189609Z",
     "shell.execute_reply": "2024-05-10T18:35:11.188541Z"
    },
    "papermill": {
     "duration": 0.037698,
     "end_time": "2024-05-10T18:35:11.192087",
     "exception": false,
     "start_time": "2024-05-10T18:35:11.154389",
     "status": "completed"
    },
    "tags": []
   },
   "outputs": [],
   "source": [
    "df = pd.read_csv('/kaggle/input/data-science-day1-titanic/DSB_Day1_Titanic_train.csv')[['Age','Fare','SibSp','Parch','Survived']]"
   ]
  },
  {
   "cell_type": "code",
   "execution_count": 4,
   "id": "6f127e75",
   "metadata": {
    "execution": {
     "iopub.execute_input": "2024-05-10T18:35:11.202319Z",
     "iopub.status.busy": "2024-05-10T18:35:11.201933Z",
     "iopub.status.idle": "2024-05-10T18:35:11.208795Z",
     "shell.execute_reply": "2024-05-10T18:35:11.207736Z"
    },
    "papermill": {
     "duration": 0.01454,
     "end_time": "2024-05-10T18:35:11.211056",
     "exception": false,
     "start_time": "2024-05-10T18:35:11.196516",
     "status": "completed"
    },
    "tags": []
   },
   "outputs": [],
   "source": [
    "df.dropna(inplace=True)"
   ]
  },
  {
   "cell_type": "code",
   "execution_count": 5,
   "id": "69b22089",
   "metadata": {
    "execution": {
     "iopub.execute_input": "2024-05-10T18:35:11.221049Z",
     "iopub.status.busy": "2024-05-10T18:35:11.220680Z",
     "iopub.status.idle": "2024-05-10T18:35:11.315696Z",
     "shell.execute_reply": "2024-05-10T18:35:11.314664Z"
    },
    "papermill": {
     "duration": 0.102542,
     "end_time": "2024-05-10T18:35:11.317858",
     "exception": false,
     "start_time": "2024-05-10T18:35:11.215316",
     "status": "completed"
    },
    "tags": []
   },
   "outputs": [
    {
     "data": {
      "text/html": [
       "<div>\n",
       "<style scoped>\n",
       "    .dataframe tbody tr th:only-of-type {\n",
       "        vertical-align: middle;\n",
       "    }\n",
       "\n",
       "    .dataframe tbody tr th {\n",
       "        vertical-align: top;\n",
       "    }\n",
       "\n",
       "    .dataframe thead th {\n",
       "        text-align: right;\n",
       "    }\n",
       "</style>\n",
       "<table border=\"1\" class=\"dataframe\">\n",
       "  <thead>\n",
       "    <tr style=\"text-align: right;\">\n",
       "      <th></th>\n",
       "      <th>Age</th>\n",
       "      <th>Fare</th>\n",
       "      <th>SibSp</th>\n",
       "      <th>Parch</th>\n",
       "      <th>Survived</th>\n",
       "    </tr>\n",
       "  </thead>\n",
       "  <tbody>\n",
       "    <tr>\n",
       "      <th>0</th>\n",
       "      <td>22.0</td>\n",
       "      <td>7.2500</td>\n",
       "      <td>1</td>\n",
       "      <td>0</td>\n",
       "      <td>0</td>\n",
       "    </tr>\n",
       "    <tr>\n",
       "      <th>1</th>\n",
       "      <td>38.0</td>\n",
       "      <td>71.2833</td>\n",
       "      <td>1</td>\n",
       "      <td>0</td>\n",
       "      <td>1</td>\n",
       "    </tr>\n",
       "    <tr>\n",
       "      <th>2</th>\n",
       "      <td>26.0</td>\n",
       "      <td>7.9250</td>\n",
       "      <td>0</td>\n",
       "      <td>0</td>\n",
       "      <td>1</td>\n",
       "    </tr>\n",
       "    <tr>\n",
       "      <th>3</th>\n",
       "      <td>35.0</td>\n",
       "      <td>53.1000</td>\n",
       "      <td>1</td>\n",
       "      <td>0</td>\n",
       "      <td>1</td>\n",
       "    </tr>\n",
       "    <tr>\n",
       "      <th>4</th>\n",
       "      <td>35.0</td>\n",
       "      <td>8.0500</td>\n",
       "      <td>0</td>\n",
       "      <td>0</td>\n",
       "      <td>0</td>\n",
       "    </tr>\n",
       "  </tbody>\n",
       "</table>\n",
       "</div>"
      ],
      "text/plain": [
       "    Age     Fare  SibSp  Parch  Survived\n",
       "0  22.0   7.2500      1      0         0\n",
       "1  38.0  71.2833      1      0         1\n",
       "2  26.0   7.9250      0      0         1\n",
       "3  35.0  53.1000      1      0         1\n",
       "4  35.0   8.0500      0      0         0"
      ]
     },
     "execution_count": 5,
     "metadata": {},
     "output_type": "execute_result"
    }
   ],
   "source": [
    "df.head()"
   ]
  },
  {
   "cell_type": "code",
   "execution_count": 6,
   "id": "bba04d10",
   "metadata": {
    "execution": {
     "iopub.execute_input": "2024-05-10T18:35:11.328561Z",
     "iopub.status.busy": "2024-05-10T18:35:11.328186Z",
     "iopub.status.idle": "2024-05-10T18:35:11.333942Z",
     "shell.execute_reply": "2024-05-10T18:35:11.332981Z"
    },
    "papermill": {
     "duration": 0.013512,
     "end_time": "2024-05-10T18:35:11.335935",
     "exception": false,
     "start_time": "2024-05-10T18:35:11.322423",
     "status": "completed"
    },
    "tags": []
   },
   "outputs": [],
   "source": [
    "df['family'] = df['SibSp'] + df['Parch']"
   ]
  },
  {
   "cell_type": "code",
   "execution_count": 7,
   "id": "f54aab50",
   "metadata": {
    "execution": {
     "iopub.execute_input": "2024-05-10T18:35:11.346268Z",
     "iopub.status.busy": "2024-05-10T18:35:11.345901Z",
     "iopub.status.idle": "2024-05-10T18:35:11.357803Z",
     "shell.execute_reply": "2024-05-10T18:35:11.356848Z"
    },
    "papermill": {
     "duration": 0.019349,
     "end_time": "2024-05-10T18:35:11.359786",
     "exception": false,
     "start_time": "2024-05-10T18:35:11.340437",
     "status": "completed"
    },
    "tags": []
   },
   "outputs": [
    {
     "data": {
      "text/html": [
       "<div>\n",
       "<style scoped>\n",
       "    .dataframe tbody tr th:only-of-type {\n",
       "        vertical-align: middle;\n",
       "    }\n",
       "\n",
       "    .dataframe tbody tr th {\n",
       "        vertical-align: top;\n",
       "    }\n",
       "\n",
       "    .dataframe thead th {\n",
       "        text-align: right;\n",
       "    }\n",
       "</style>\n",
       "<table border=\"1\" class=\"dataframe\">\n",
       "  <thead>\n",
       "    <tr style=\"text-align: right;\">\n",
       "      <th></th>\n",
       "      <th>Age</th>\n",
       "      <th>Fare</th>\n",
       "      <th>SibSp</th>\n",
       "      <th>Parch</th>\n",
       "      <th>Survived</th>\n",
       "      <th>family</th>\n",
       "    </tr>\n",
       "  </thead>\n",
       "  <tbody>\n",
       "    <tr>\n",
       "      <th>0</th>\n",
       "      <td>22.0</td>\n",
       "      <td>7.2500</td>\n",
       "      <td>1</td>\n",
       "      <td>0</td>\n",
       "      <td>0</td>\n",
       "      <td>1</td>\n",
       "    </tr>\n",
       "    <tr>\n",
       "      <th>1</th>\n",
       "      <td>38.0</td>\n",
       "      <td>71.2833</td>\n",
       "      <td>1</td>\n",
       "      <td>0</td>\n",
       "      <td>1</td>\n",
       "      <td>1</td>\n",
       "    </tr>\n",
       "    <tr>\n",
       "      <th>2</th>\n",
       "      <td>26.0</td>\n",
       "      <td>7.9250</td>\n",
       "      <td>0</td>\n",
       "      <td>0</td>\n",
       "      <td>1</td>\n",
       "      <td>0</td>\n",
       "    </tr>\n",
       "    <tr>\n",
       "      <th>3</th>\n",
       "      <td>35.0</td>\n",
       "      <td>53.1000</td>\n",
       "      <td>1</td>\n",
       "      <td>0</td>\n",
       "      <td>1</td>\n",
       "      <td>1</td>\n",
       "    </tr>\n",
       "    <tr>\n",
       "      <th>4</th>\n",
       "      <td>35.0</td>\n",
       "      <td>8.0500</td>\n",
       "      <td>0</td>\n",
       "      <td>0</td>\n",
       "      <td>0</td>\n",
       "      <td>0</td>\n",
       "    </tr>\n",
       "  </tbody>\n",
       "</table>\n",
       "</div>"
      ],
      "text/plain": [
       "    Age     Fare  SibSp  Parch  Survived  family\n",
       "0  22.0   7.2500      1      0         0       1\n",
       "1  38.0  71.2833      1      0         1       1\n",
       "2  26.0   7.9250      0      0         1       0\n",
       "3  35.0  53.1000      1      0         1       1\n",
       "4  35.0   8.0500      0      0         0       0"
      ]
     },
     "execution_count": 7,
     "metadata": {},
     "output_type": "execute_result"
    }
   ],
   "source": [
    "df.head()"
   ]
  },
  {
   "cell_type": "code",
   "execution_count": 8,
   "id": "427c7201",
   "metadata": {
    "execution": {
     "iopub.execute_input": "2024-05-10T18:35:11.371052Z",
     "iopub.status.busy": "2024-05-10T18:35:11.370305Z",
     "iopub.status.idle": "2024-05-10T18:35:11.375986Z",
     "shell.execute_reply": "2024-05-10T18:35:11.374907Z"
    },
    "papermill": {
     "duration": 0.013408,
     "end_time": "2024-05-10T18:35:11.378039",
     "exception": false,
     "start_time": "2024-05-10T18:35:11.364631",
     "status": "completed"
    },
    "tags": []
   },
   "outputs": [],
   "source": [
    "df.drop(columns=['SibSp','Parch'],inplace=True)"
   ]
  },
  {
   "cell_type": "code",
   "execution_count": 9,
   "id": "74a8c64d",
   "metadata": {
    "execution": {
     "iopub.execute_input": "2024-05-10T18:35:11.388993Z",
     "iopub.status.busy": "2024-05-10T18:35:11.388369Z",
     "iopub.status.idle": "2024-05-10T18:35:11.398641Z",
     "shell.execute_reply": "2024-05-10T18:35:11.397881Z"
    },
    "papermill": {
     "duration": 0.017805,
     "end_time": "2024-05-10T18:35:11.400527",
     "exception": false,
     "start_time": "2024-05-10T18:35:11.382722",
     "status": "completed"
    },
    "tags": []
   },
   "outputs": [
    {
     "data": {
      "text/html": [
       "<div>\n",
       "<style scoped>\n",
       "    .dataframe tbody tr th:only-of-type {\n",
       "        vertical-align: middle;\n",
       "    }\n",
       "\n",
       "    .dataframe tbody tr th {\n",
       "        vertical-align: top;\n",
       "    }\n",
       "\n",
       "    .dataframe thead th {\n",
       "        text-align: right;\n",
       "    }\n",
       "</style>\n",
       "<table border=\"1\" class=\"dataframe\">\n",
       "  <thead>\n",
       "    <tr style=\"text-align: right;\">\n",
       "      <th></th>\n",
       "      <th>Age</th>\n",
       "      <th>Fare</th>\n",
       "      <th>Survived</th>\n",
       "      <th>family</th>\n",
       "    </tr>\n",
       "  </thead>\n",
       "  <tbody>\n",
       "    <tr>\n",
       "      <th>0</th>\n",
       "      <td>22.0</td>\n",
       "      <td>7.2500</td>\n",
       "      <td>0</td>\n",
       "      <td>1</td>\n",
       "    </tr>\n",
       "    <tr>\n",
       "      <th>1</th>\n",
       "      <td>38.0</td>\n",
       "      <td>71.2833</td>\n",
       "      <td>1</td>\n",
       "      <td>1</td>\n",
       "    </tr>\n",
       "    <tr>\n",
       "      <th>2</th>\n",
       "      <td>26.0</td>\n",
       "      <td>7.9250</td>\n",
       "      <td>1</td>\n",
       "      <td>0</td>\n",
       "    </tr>\n",
       "    <tr>\n",
       "      <th>3</th>\n",
       "      <td>35.0</td>\n",
       "      <td>53.1000</td>\n",
       "      <td>1</td>\n",
       "      <td>1</td>\n",
       "    </tr>\n",
       "    <tr>\n",
       "      <th>4</th>\n",
       "      <td>35.0</td>\n",
       "      <td>8.0500</td>\n",
       "      <td>0</td>\n",
       "      <td>0</td>\n",
       "    </tr>\n",
       "  </tbody>\n",
       "</table>\n",
       "</div>"
      ],
      "text/plain": [
       "    Age     Fare  Survived  family\n",
       "0  22.0   7.2500         0       1\n",
       "1  38.0  71.2833         1       1\n",
       "2  26.0   7.9250         1       0\n",
       "3  35.0  53.1000         1       1\n",
       "4  35.0   8.0500         0       0"
      ]
     },
     "execution_count": 9,
     "metadata": {},
     "output_type": "execute_result"
    }
   ],
   "source": [
    "df.head()"
   ]
  },
  {
   "cell_type": "code",
   "execution_count": 10,
   "id": "e14eda6f",
   "metadata": {
    "execution": {
     "iopub.execute_input": "2024-05-10T18:35:11.411698Z",
     "iopub.status.busy": "2024-05-10T18:35:11.411243Z",
     "iopub.status.idle": "2024-05-10T18:35:11.416776Z",
     "shell.execute_reply": "2024-05-10T18:35:11.415800Z"
    },
    "papermill": {
     "duration": 0.013393,
     "end_time": "2024-05-10T18:35:11.418795",
     "exception": false,
     "start_time": "2024-05-10T18:35:11.405402",
     "status": "completed"
    },
    "tags": []
   },
   "outputs": [],
   "source": [
    "X = df.drop(columns=['Survived'])\n",
    "y = df['Survived']"
   ]
  },
  {
   "cell_type": "code",
   "execution_count": 11,
   "id": "5fa1f057",
   "metadata": {
    "execution": {
     "iopub.execute_input": "2024-05-10T18:35:11.429792Z",
     "iopub.status.busy": "2024-05-10T18:35:11.429393Z",
     "iopub.status.idle": "2024-05-10T18:35:11.437334Z",
     "shell.execute_reply": "2024-05-10T18:35:11.436528Z"
    },
    "papermill": {
     "duration": 0.01579,
     "end_time": "2024-05-10T18:35:11.439422",
     "exception": false,
     "start_time": "2024-05-10T18:35:11.423632",
     "status": "completed"
    },
    "tags": []
   },
   "outputs": [],
   "source": [
    "X_train,X_test,y_train,y_test = train_test_split(X,y,test_size=0.2,random_state=42)"
   ]
  },
  {
   "cell_type": "code",
   "execution_count": 12,
   "id": "28eadb47",
   "metadata": {
    "execution": {
     "iopub.execute_input": "2024-05-10T18:35:11.451083Z",
     "iopub.status.busy": "2024-05-10T18:35:11.450363Z",
     "iopub.status.idle": "2024-05-10T18:35:11.461127Z",
     "shell.execute_reply": "2024-05-10T18:35:11.460161Z"
    },
    "papermill": {
     "duration": 0.018788,
     "end_time": "2024-05-10T18:35:11.463211",
     "exception": false,
     "start_time": "2024-05-10T18:35:11.444423",
     "status": "completed"
    },
    "tags": []
   },
   "outputs": [
    {
     "data": {
      "text/html": [
       "<div>\n",
       "<style scoped>\n",
       "    .dataframe tbody tr th:only-of-type {\n",
       "        vertical-align: middle;\n",
       "    }\n",
       "\n",
       "    .dataframe tbody tr th {\n",
       "        vertical-align: top;\n",
       "    }\n",
       "\n",
       "    .dataframe thead th {\n",
       "        text-align: right;\n",
       "    }\n",
       "</style>\n",
       "<table border=\"1\" class=\"dataframe\">\n",
       "  <thead>\n",
       "    <tr style=\"text-align: right;\">\n",
       "      <th></th>\n",
       "      <th>Age</th>\n",
       "      <th>Fare</th>\n",
       "      <th>family</th>\n",
       "    </tr>\n",
       "  </thead>\n",
       "  <tbody>\n",
       "    <tr>\n",
       "      <th>328</th>\n",
       "      <td>31.0</td>\n",
       "      <td>20.5250</td>\n",
       "      <td>2</td>\n",
       "    </tr>\n",
       "    <tr>\n",
       "      <th>73</th>\n",
       "      <td>26.0</td>\n",
       "      <td>14.4542</td>\n",
       "      <td>1</td>\n",
       "    </tr>\n",
       "    <tr>\n",
       "      <th>253</th>\n",
       "      <td>30.0</td>\n",
       "      <td>16.1000</td>\n",
       "      <td>1</td>\n",
       "    </tr>\n",
       "    <tr>\n",
       "      <th>719</th>\n",
       "      <td>33.0</td>\n",
       "      <td>7.7750</td>\n",
       "      <td>0</td>\n",
       "    </tr>\n",
       "    <tr>\n",
       "      <th>666</th>\n",
       "      <td>25.0</td>\n",
       "      <td>13.0000</td>\n",
       "      <td>0</td>\n",
       "    </tr>\n",
       "  </tbody>\n",
       "</table>\n",
       "</div>"
      ],
      "text/plain": [
       "      Age     Fare  family\n",
       "328  31.0  20.5250       2\n",
       "73   26.0  14.4542       1\n",
       "253  30.0  16.1000       1\n",
       "719  33.0   7.7750       0\n",
       "666  25.0  13.0000       0"
      ]
     },
     "execution_count": 12,
     "metadata": {},
     "output_type": "execute_result"
    }
   ],
   "source": [
    "X_train.head()"
   ]
  },
  {
   "cell_type": "code",
   "execution_count": 13,
   "id": "43abcacd",
   "metadata": {
    "execution": {
     "iopub.execute_input": "2024-05-10T18:35:11.474926Z",
     "iopub.status.busy": "2024-05-10T18:35:11.474247Z",
     "iopub.status.idle": "2024-05-10T18:35:11.488482Z",
     "shell.execute_reply": "2024-05-10T18:35:11.487529Z"
    },
    "papermill": {
     "duration": 0.02238,
     "end_time": "2024-05-10T18:35:11.490568",
     "exception": false,
     "start_time": "2024-05-10T18:35:11.468188",
     "status": "completed"
    },
    "tags": []
   },
   "outputs": [
    {
     "data": {
      "text/plain": [
       "0.6223776223776224"
      ]
     },
     "execution_count": 13,
     "metadata": {},
     "output_type": "execute_result"
    }
   ],
   "source": [
    "# Without binarization\n",
    "\n",
    "clf = DecisionTreeClassifier()\n",
    "\n",
    "clf.fit(X_train,y_train)\n",
    "\n",
    "y_pred = clf.predict(X_test)\n",
    "\n",
    "accuracy_score(y_test,y_pred)"
   ]
  },
  {
   "cell_type": "code",
   "execution_count": 14,
   "id": "0cc1ffd4",
   "metadata": {
    "execution": {
     "iopub.execute_input": "2024-05-10T18:35:11.503648Z",
     "iopub.status.busy": "2024-05-10T18:35:11.502961Z",
     "iopub.status.idle": "2024-05-10T18:35:11.567940Z",
     "shell.execute_reply": "2024-05-10T18:35:11.566973Z"
    },
    "papermill": {
     "duration": 0.073366,
     "end_time": "2024-05-10T18:35:11.570138",
     "exception": false,
     "start_time": "2024-05-10T18:35:11.496772",
     "status": "completed"
    },
    "tags": []
   },
   "outputs": [
    {
     "data": {
      "text/plain": [
       "0.6471439749608764"
      ]
     },
     "execution_count": 14,
     "metadata": {},
     "output_type": "execute_result"
    }
   ],
   "source": [
    "np.mean(cross_val_score(DecisionTreeClassifier(),X,y,cv=10,scoring='accuracy'))"
   ]
  },
  {
   "cell_type": "code",
   "execution_count": 15,
   "id": "9f0e4457",
   "metadata": {
    "execution": {
     "iopub.execute_input": "2024-05-10T18:35:11.581980Z",
     "iopub.status.busy": "2024-05-10T18:35:11.581608Z",
     "iopub.status.idle": "2024-05-10T18:35:11.585967Z",
     "shell.execute_reply": "2024-05-10T18:35:11.585068Z"
    },
    "papermill": {
     "duration": 0.01257,
     "end_time": "2024-05-10T18:35:11.587999",
     "exception": false,
     "start_time": "2024-05-10T18:35:11.575429",
     "status": "completed"
    },
    "tags": []
   },
   "outputs": [],
   "source": [
    "# Applying Binarization\n",
    "\n",
    "from sklearn.preprocessing import Binarizer"
   ]
  },
  {
   "cell_type": "code",
   "execution_count": null,
   "id": "dab41786",
   "metadata": {
    "papermill": {
     "duration": 0.004798,
     "end_time": "2024-05-10T18:35:11.597994",
     "exception": false,
     "start_time": "2024-05-10T18:35:11.593196",
     "status": "completed"
    },
    "tags": []
   },
   "outputs": [],
   "source": []
  }
 ],
 "metadata": {
  "kaggle": {
   "accelerator": "none",
   "dataSources": [
    {
     "datasetId": 1247358,
     "sourceId": 2080558,
     "sourceType": "datasetVersion"
    },
    {
     "datasetId": 414522,
     "sourceId": 792851,
     "sourceType": "datasetVersion"
    }
   ],
   "dockerImageVersionId": 30698,
   "isGpuEnabled": false,
   "isInternetEnabled": false,
   "language": "python",
   "sourceType": "notebook"
  },
  "kernelspec": {
   "display_name": "Python 3",
   "language": "python",
   "name": "python3"
  },
  "language_info": {
   "codemirror_mode": {
    "name": "ipython",
    "version": 3
   },
   "file_extension": ".py",
   "mimetype": "text/x-python",
   "name": "python",
   "nbconvert_exporter": "python",
   "pygments_lexer": "ipython3",
   "version": "3.10.13"
  },
  "papermill": {
   "default_parameters": {},
   "duration": 5.422117,
   "end_time": "2024-05-10T18:35:12.123496",
   "environment_variables": {},
   "exception": null,
   "input_path": "__notebook__.ipynb",
   "output_path": "__notebook__.ipynb",
   "parameters": {},
   "start_time": "2024-05-10T18:35:06.701379",
   "version": "2.5.0"
  }
 },
 "nbformat": 4,
 "nbformat_minor": 5
}
