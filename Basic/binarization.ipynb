{
 "cells": [
  {
   "cell_type": "code",
   "execution_count": 1,
   "id": "0b33018d",
   "metadata": {
    "_cell_guid": "b1076dfc-b9ad-4769-8c92-a6c4dae69d19",
    "_uuid": "8f2839f25d086af736a60e9eeb907d3b93b6e0e5",
    "execution": {
     "iopub.execute_input": "2024-05-11T05:28:12.664065Z",
     "iopub.status.busy": "2024-05-11T05:28:12.663606Z",
     "iopub.status.idle": "2024-05-11T05:28:13.498135Z",
     "shell.execute_reply": "2024-05-11T05:28:13.497062Z"
    },
    "papermill": {
     "duration": 0.844306,
     "end_time": "2024-05-11T05:28:13.500691",
     "exception": false,
     "start_time": "2024-05-11T05:28:12.656385",
     "status": "completed"
    },
    "tags": []
   },
   "outputs": [],
   "source": [
    "import numpy as np\n",
    "import pandas as pd"
   ]
  },
  {
   "cell_type": "code",
   "execution_count": 2,
   "id": "d77b233e",
   "metadata": {
    "execution": {
     "iopub.execute_input": "2024-05-11T05:28:13.515748Z",
     "iopub.status.busy": "2024-05-11T05:28:13.514102Z",
     "iopub.status.idle": "2024-05-11T05:28:14.836301Z",
     "shell.execute_reply": "2024-05-11T05:28:14.835193Z"
    },
    "papermill": {
     "duration": 1.331839,
     "end_time": "2024-05-11T05:28:14.839125",
     "exception": false,
     "start_time": "2024-05-11T05:28:13.507286",
     "status": "completed"
    },
    "tags": []
   },
   "outputs": [],
   "source": [
    "from sklearn.model_selection import train_test_split,cross_val_score\n",
    "from sklearn.tree import DecisionTreeClassifier\n",
    "\n",
    "from sklearn.metrics import accuracy_score\n",
    "\n",
    "from sklearn.compose import ColumnTransformer\n"
   ]
  },
  {
   "cell_type": "code",
   "execution_count": 3,
   "id": "41d012de",
   "metadata": {
    "execution": {
     "iopub.execute_input": "2024-05-11T05:28:14.851224Z",
     "iopub.status.busy": "2024-05-11T05:28:14.850803Z",
     "iopub.status.idle": "2024-05-11T05:28:14.892249Z",
     "shell.execute_reply": "2024-05-11T05:28:14.891167Z"
    },
    "papermill": {
     "duration": 0.050609,
     "end_time": "2024-05-11T05:28:14.895107",
     "exception": false,
     "start_time": "2024-05-11T05:28:14.844498",
     "status": "completed"
    },
    "tags": []
   },
   "outputs": [],
   "source": [
    "df = pd.read_csv('/kaggle/input/data-science-day1-titanic/DSB_Day1_Titanic_train.csv')[['Age','Fare','SibSp','Parch','Survived']]"
   ]
  },
  {
   "cell_type": "code",
   "execution_count": 4,
   "id": "985afcc4",
   "metadata": {
    "execution": {
     "iopub.execute_input": "2024-05-11T05:28:14.908200Z",
     "iopub.status.busy": "2024-05-11T05:28:14.907069Z",
     "iopub.status.idle": "2024-05-11T05:28:14.915910Z",
     "shell.execute_reply": "2024-05-11T05:28:14.914717Z"
    },
    "papermill": {
     "duration": 0.017757,
     "end_time": "2024-05-11T05:28:14.918282",
     "exception": false,
     "start_time": "2024-05-11T05:28:14.900525",
     "status": "completed"
    },
    "tags": []
   },
   "outputs": [],
   "source": [
    "df.dropna(inplace=True)"
   ]
  },
  {
   "cell_type": "code",
   "execution_count": 5,
   "id": "7bfcd9f5",
   "metadata": {
    "execution": {
     "iopub.execute_input": "2024-05-11T05:28:14.931065Z",
     "iopub.status.busy": "2024-05-11T05:28:14.930260Z",
     "iopub.status.idle": "2024-05-11T05:28:15.025403Z",
     "shell.execute_reply": "2024-05-11T05:28:15.023943Z"
    },
    "papermill": {
     "duration": 0.104173,
     "end_time": "2024-05-11T05:28:15.027987",
     "exception": false,
     "start_time": "2024-05-11T05:28:14.923814",
     "status": "completed"
    },
    "tags": []
   },
   "outputs": [
    {
     "data": {
      "text/html": [
       "<div>\n",
       "<style scoped>\n",
       "    .dataframe tbody tr th:only-of-type {\n",
       "        vertical-align: middle;\n",
       "    }\n",
       "\n",
       "    .dataframe tbody tr th {\n",
       "        vertical-align: top;\n",
       "    }\n",
       "\n",
       "    .dataframe thead th {\n",
       "        text-align: right;\n",
       "    }\n",
       "</style>\n",
       "<table border=\"1\" class=\"dataframe\">\n",
       "  <thead>\n",
       "    <tr style=\"text-align: right;\">\n",
       "      <th></th>\n",
       "      <th>Age</th>\n",
       "      <th>Fare</th>\n",
       "      <th>SibSp</th>\n",
       "      <th>Parch</th>\n",
       "      <th>Survived</th>\n",
       "    </tr>\n",
       "  </thead>\n",
       "  <tbody>\n",
       "    <tr>\n",
       "      <th>0</th>\n",
       "      <td>22.0</td>\n",
       "      <td>7.2500</td>\n",
       "      <td>1</td>\n",
       "      <td>0</td>\n",
       "      <td>0</td>\n",
       "    </tr>\n",
       "    <tr>\n",
       "      <th>1</th>\n",
       "      <td>38.0</td>\n",
       "      <td>71.2833</td>\n",
       "      <td>1</td>\n",
       "      <td>0</td>\n",
       "      <td>1</td>\n",
       "    </tr>\n",
       "    <tr>\n",
       "      <th>2</th>\n",
       "      <td>26.0</td>\n",
       "      <td>7.9250</td>\n",
       "      <td>0</td>\n",
       "      <td>0</td>\n",
       "      <td>1</td>\n",
       "    </tr>\n",
       "    <tr>\n",
       "      <th>3</th>\n",
       "      <td>35.0</td>\n",
       "      <td>53.1000</td>\n",
       "      <td>1</td>\n",
       "      <td>0</td>\n",
       "      <td>1</td>\n",
       "    </tr>\n",
       "    <tr>\n",
       "      <th>4</th>\n",
       "      <td>35.0</td>\n",
       "      <td>8.0500</td>\n",
       "      <td>0</td>\n",
       "      <td>0</td>\n",
       "      <td>0</td>\n",
       "    </tr>\n",
       "  </tbody>\n",
       "</table>\n",
       "</div>"
      ],
      "text/plain": [
       "    Age     Fare  SibSp  Parch  Survived\n",
       "0  22.0   7.2500      1      0         0\n",
       "1  38.0  71.2833      1      0         1\n",
       "2  26.0   7.9250      0      0         1\n",
       "3  35.0  53.1000      1      0         1\n",
       "4  35.0   8.0500      0      0         0"
      ]
     },
     "execution_count": 5,
     "metadata": {},
     "output_type": "execute_result"
    }
   ],
   "source": [
    "df.head()"
   ]
  },
  {
   "cell_type": "code",
   "execution_count": 6,
   "id": "8194ac6c",
   "metadata": {
    "execution": {
     "iopub.execute_input": "2024-05-11T05:28:15.041223Z",
     "iopub.status.busy": "2024-05-11T05:28:15.040461Z",
     "iopub.status.idle": "2024-05-11T05:28:15.046521Z",
     "shell.execute_reply": "2024-05-11T05:28:15.045399Z"
    },
    "papermill": {
     "duration": 0.014927,
     "end_time": "2024-05-11T05:28:15.048570",
     "exception": false,
     "start_time": "2024-05-11T05:28:15.033643",
     "status": "completed"
    },
    "tags": []
   },
   "outputs": [],
   "source": [
    "df['family'] = df['SibSp'] + df['Parch']"
   ]
  },
  {
   "cell_type": "code",
   "execution_count": 7,
   "id": "4e83c345",
   "metadata": {
    "execution": {
     "iopub.execute_input": "2024-05-11T05:28:15.061233Z",
     "iopub.status.busy": "2024-05-11T05:28:15.060809Z",
     "iopub.status.idle": "2024-05-11T05:28:15.072566Z",
     "shell.execute_reply": "2024-05-11T05:28:15.071532Z"
    },
    "papermill": {
     "duration": 0.021,
     "end_time": "2024-05-11T05:28:15.075045",
     "exception": false,
     "start_time": "2024-05-11T05:28:15.054045",
     "status": "completed"
    },
    "tags": []
   },
   "outputs": [
    {
     "data": {
      "text/html": [
       "<div>\n",
       "<style scoped>\n",
       "    .dataframe tbody tr th:only-of-type {\n",
       "        vertical-align: middle;\n",
       "    }\n",
       "\n",
       "    .dataframe tbody tr th {\n",
       "        vertical-align: top;\n",
       "    }\n",
       "\n",
       "    .dataframe thead th {\n",
       "        text-align: right;\n",
       "    }\n",
       "</style>\n",
       "<table border=\"1\" class=\"dataframe\">\n",
       "  <thead>\n",
       "    <tr style=\"text-align: right;\">\n",
       "      <th></th>\n",
       "      <th>Age</th>\n",
       "      <th>Fare</th>\n",
       "      <th>SibSp</th>\n",
       "      <th>Parch</th>\n",
       "      <th>Survived</th>\n",
       "      <th>family</th>\n",
       "    </tr>\n",
       "  </thead>\n",
       "  <tbody>\n",
       "    <tr>\n",
       "      <th>0</th>\n",
       "      <td>22.0</td>\n",
       "      <td>7.2500</td>\n",
       "      <td>1</td>\n",
       "      <td>0</td>\n",
       "      <td>0</td>\n",
       "      <td>1</td>\n",
       "    </tr>\n",
       "    <tr>\n",
       "      <th>1</th>\n",
       "      <td>38.0</td>\n",
       "      <td>71.2833</td>\n",
       "      <td>1</td>\n",
       "      <td>0</td>\n",
       "      <td>1</td>\n",
       "      <td>1</td>\n",
       "    </tr>\n",
       "    <tr>\n",
       "      <th>2</th>\n",
       "      <td>26.0</td>\n",
       "      <td>7.9250</td>\n",
       "      <td>0</td>\n",
       "      <td>0</td>\n",
       "      <td>1</td>\n",
       "      <td>0</td>\n",
       "    </tr>\n",
       "    <tr>\n",
       "      <th>3</th>\n",
       "      <td>35.0</td>\n",
       "      <td>53.1000</td>\n",
       "      <td>1</td>\n",
       "      <td>0</td>\n",
       "      <td>1</td>\n",
       "      <td>1</td>\n",
       "    </tr>\n",
       "    <tr>\n",
       "      <th>4</th>\n",
       "      <td>35.0</td>\n",
       "      <td>8.0500</td>\n",
       "      <td>0</td>\n",
       "      <td>0</td>\n",
       "      <td>0</td>\n",
       "      <td>0</td>\n",
       "    </tr>\n",
       "  </tbody>\n",
       "</table>\n",
       "</div>"
      ],
      "text/plain": [
       "    Age     Fare  SibSp  Parch  Survived  family\n",
       "0  22.0   7.2500      1      0         0       1\n",
       "1  38.0  71.2833      1      0         1       1\n",
       "2  26.0   7.9250      0      0         1       0\n",
       "3  35.0  53.1000      1      0         1       1\n",
       "4  35.0   8.0500      0      0         0       0"
      ]
     },
     "execution_count": 7,
     "metadata": {},
     "output_type": "execute_result"
    }
   ],
   "source": [
    "df.head()"
   ]
  },
  {
   "cell_type": "code",
   "execution_count": 8,
   "id": "d4328689",
   "metadata": {
    "execution": {
     "iopub.execute_input": "2024-05-11T05:28:15.088359Z",
     "iopub.status.busy": "2024-05-11T05:28:15.087537Z",
     "iopub.status.idle": "2024-05-11T05:28:15.093627Z",
     "shell.execute_reply": "2024-05-11T05:28:15.092547Z"
    },
    "papermill": {
     "duration": 0.015079,
     "end_time": "2024-05-11T05:28:15.095776",
     "exception": false,
     "start_time": "2024-05-11T05:28:15.080697",
     "status": "completed"
    },
    "tags": []
   },
   "outputs": [],
   "source": [
    "df.drop(columns=['SibSp','Parch'],inplace=True)"
   ]
  },
  {
   "cell_type": "code",
   "execution_count": 9,
   "id": "c0409307",
   "metadata": {
    "execution": {
     "iopub.execute_input": "2024-05-11T05:28:15.108951Z",
     "iopub.status.busy": "2024-05-11T05:28:15.108266Z",
     "iopub.status.idle": "2024-05-11T05:28:15.119230Z",
     "shell.execute_reply": "2024-05-11T05:28:15.118150Z"
    },
    "papermill": {
     "duration": 0.019889,
     "end_time": "2024-05-11T05:28:15.121361",
     "exception": false,
     "start_time": "2024-05-11T05:28:15.101472",
     "status": "completed"
    },
    "tags": []
   },
   "outputs": [
    {
     "data": {
      "text/html": [
       "<div>\n",
       "<style scoped>\n",
       "    .dataframe tbody tr th:only-of-type {\n",
       "        vertical-align: middle;\n",
       "    }\n",
       "\n",
       "    .dataframe tbody tr th {\n",
       "        vertical-align: top;\n",
       "    }\n",
       "\n",
       "    .dataframe thead th {\n",
       "        text-align: right;\n",
       "    }\n",
       "</style>\n",
       "<table border=\"1\" class=\"dataframe\">\n",
       "  <thead>\n",
       "    <tr style=\"text-align: right;\">\n",
       "      <th></th>\n",
       "      <th>Age</th>\n",
       "      <th>Fare</th>\n",
       "      <th>Survived</th>\n",
       "      <th>family</th>\n",
       "    </tr>\n",
       "  </thead>\n",
       "  <tbody>\n",
       "    <tr>\n",
       "      <th>0</th>\n",
       "      <td>22.0</td>\n",
       "      <td>7.2500</td>\n",
       "      <td>0</td>\n",
       "      <td>1</td>\n",
       "    </tr>\n",
       "    <tr>\n",
       "      <th>1</th>\n",
       "      <td>38.0</td>\n",
       "      <td>71.2833</td>\n",
       "      <td>1</td>\n",
       "      <td>1</td>\n",
       "    </tr>\n",
       "    <tr>\n",
       "      <th>2</th>\n",
       "      <td>26.0</td>\n",
       "      <td>7.9250</td>\n",
       "      <td>1</td>\n",
       "      <td>0</td>\n",
       "    </tr>\n",
       "    <tr>\n",
       "      <th>3</th>\n",
       "      <td>35.0</td>\n",
       "      <td>53.1000</td>\n",
       "      <td>1</td>\n",
       "      <td>1</td>\n",
       "    </tr>\n",
       "    <tr>\n",
       "      <th>4</th>\n",
       "      <td>35.0</td>\n",
       "      <td>8.0500</td>\n",
       "      <td>0</td>\n",
       "      <td>0</td>\n",
       "    </tr>\n",
       "  </tbody>\n",
       "</table>\n",
       "</div>"
      ],
      "text/plain": [
       "    Age     Fare  Survived  family\n",
       "0  22.0   7.2500         0       1\n",
       "1  38.0  71.2833         1       1\n",
       "2  26.0   7.9250         1       0\n",
       "3  35.0  53.1000         1       1\n",
       "4  35.0   8.0500         0       0"
      ]
     },
     "execution_count": 9,
     "metadata": {},
     "output_type": "execute_result"
    }
   ],
   "source": [
    "df.head()"
   ]
  },
  {
   "cell_type": "code",
   "execution_count": 10,
   "id": "484e41f7",
   "metadata": {
    "execution": {
     "iopub.execute_input": "2024-05-11T05:28:15.136012Z",
     "iopub.status.busy": "2024-05-11T05:28:15.135233Z",
     "iopub.status.idle": "2024-05-11T05:28:15.141206Z",
     "shell.execute_reply": "2024-05-11T05:28:15.140111Z"
    },
    "papermill": {
     "duration": 0.016451,
     "end_time": "2024-05-11T05:28:15.143564",
     "exception": false,
     "start_time": "2024-05-11T05:28:15.127113",
     "status": "completed"
    },
    "tags": []
   },
   "outputs": [],
   "source": [
    "X = df.drop(columns=['Survived'])\n",
    "y = df['Survived']"
   ]
  },
  {
   "cell_type": "code",
   "execution_count": 11,
   "id": "97fdce56",
   "metadata": {
    "execution": {
     "iopub.execute_input": "2024-05-11T05:28:15.156883Z",
     "iopub.status.busy": "2024-05-11T05:28:15.156543Z",
     "iopub.status.idle": "2024-05-11T05:28:15.164346Z",
     "shell.execute_reply": "2024-05-11T05:28:15.163439Z"
    },
    "papermill": {
     "duration": 0.017289,
     "end_time": "2024-05-11T05:28:15.166610",
     "exception": false,
     "start_time": "2024-05-11T05:28:15.149321",
     "status": "completed"
    },
    "tags": []
   },
   "outputs": [],
   "source": [
    "X_train,X_test,y_train,y_test = train_test_split(X,y,test_size=0.2,random_state=42)"
   ]
  },
  {
   "cell_type": "code",
   "execution_count": 12,
   "id": "8a7b752b",
   "metadata": {
    "execution": {
     "iopub.execute_input": "2024-05-11T05:28:15.180030Z",
     "iopub.status.busy": "2024-05-11T05:28:15.179683Z",
     "iopub.status.idle": "2024-05-11T05:28:15.190314Z",
     "shell.execute_reply": "2024-05-11T05:28:15.189257Z"
    },
    "papermill": {
     "duration": 0.019985,
     "end_time": "2024-05-11T05:28:15.192463",
     "exception": false,
     "start_time": "2024-05-11T05:28:15.172478",
     "status": "completed"
    },
    "tags": []
   },
   "outputs": [
    {
     "data": {
      "text/html": [
       "<div>\n",
       "<style scoped>\n",
       "    .dataframe tbody tr th:only-of-type {\n",
       "        vertical-align: middle;\n",
       "    }\n",
       "\n",
       "    .dataframe tbody tr th {\n",
       "        vertical-align: top;\n",
       "    }\n",
       "\n",
       "    .dataframe thead th {\n",
       "        text-align: right;\n",
       "    }\n",
       "</style>\n",
       "<table border=\"1\" class=\"dataframe\">\n",
       "  <thead>\n",
       "    <tr style=\"text-align: right;\">\n",
       "      <th></th>\n",
       "      <th>Age</th>\n",
       "      <th>Fare</th>\n",
       "      <th>family</th>\n",
       "    </tr>\n",
       "  </thead>\n",
       "  <tbody>\n",
       "    <tr>\n",
       "      <th>328</th>\n",
       "      <td>31.0</td>\n",
       "      <td>20.5250</td>\n",
       "      <td>2</td>\n",
       "    </tr>\n",
       "    <tr>\n",
       "      <th>73</th>\n",
       "      <td>26.0</td>\n",
       "      <td>14.4542</td>\n",
       "      <td>1</td>\n",
       "    </tr>\n",
       "    <tr>\n",
       "      <th>253</th>\n",
       "      <td>30.0</td>\n",
       "      <td>16.1000</td>\n",
       "      <td>1</td>\n",
       "    </tr>\n",
       "    <tr>\n",
       "      <th>719</th>\n",
       "      <td>33.0</td>\n",
       "      <td>7.7750</td>\n",
       "      <td>0</td>\n",
       "    </tr>\n",
       "    <tr>\n",
       "      <th>666</th>\n",
       "      <td>25.0</td>\n",
       "      <td>13.0000</td>\n",
       "      <td>0</td>\n",
       "    </tr>\n",
       "  </tbody>\n",
       "</table>\n",
       "</div>"
      ],
      "text/plain": [
       "      Age     Fare  family\n",
       "328  31.0  20.5250       2\n",
       "73   26.0  14.4542       1\n",
       "253  30.0  16.1000       1\n",
       "719  33.0   7.7750       0\n",
       "666  25.0  13.0000       0"
      ]
     },
     "execution_count": 12,
     "metadata": {},
     "output_type": "execute_result"
    }
   ],
   "source": [
    "X_train.head()"
   ]
  },
  {
   "cell_type": "code",
   "execution_count": 13,
   "id": "9215c166",
   "metadata": {
    "execution": {
     "iopub.execute_input": "2024-05-11T05:28:15.206328Z",
     "iopub.status.busy": "2024-05-11T05:28:15.205719Z",
     "iopub.status.idle": "2024-05-11T05:28:15.219704Z",
     "shell.execute_reply": "2024-05-11T05:28:15.218552Z"
    },
    "papermill": {
     "duration": 0.023542,
     "end_time": "2024-05-11T05:28:15.221976",
     "exception": false,
     "start_time": "2024-05-11T05:28:15.198434",
     "status": "completed"
    },
    "tags": []
   },
   "outputs": [
    {
     "data": {
      "text/plain": [
       "0.6293706293706294"
      ]
     },
     "execution_count": 13,
     "metadata": {},
     "output_type": "execute_result"
    }
   ],
   "source": [
    "# Without binarization\n",
    "\n",
    "clf = DecisionTreeClassifier()\n",
    "\n",
    "clf.fit(X_train,y_train)\n",
    "\n",
    "y_pred = clf.predict(X_test)\n",
    "\n",
    "accuracy_score(y_test,y_pred)"
   ]
  },
  {
   "cell_type": "code",
   "execution_count": 14,
   "id": "8750d7d4",
   "metadata": {
    "execution": {
     "iopub.execute_input": "2024-05-11T05:28:15.236173Z",
     "iopub.status.busy": "2024-05-11T05:28:15.235551Z",
     "iopub.status.idle": "2024-05-11T05:28:15.301977Z",
     "shell.execute_reply": "2024-05-11T05:28:15.300844Z"
    },
    "papermill": {
     "duration": 0.07624,
     "end_time": "2024-05-11T05:28:15.304369",
     "exception": false,
     "start_time": "2024-05-11T05:28:15.228129",
     "status": "completed"
    },
    "tags": []
   },
   "outputs": [
    {
     "data": {
      "text/plain": [
       "0.6485328638497654"
      ]
     },
     "execution_count": 14,
     "metadata": {},
     "output_type": "execute_result"
    }
   ],
   "source": [
    "np.mean(cross_val_score(DecisionTreeClassifier(),X,y,cv=10,scoring='accuracy'))"
   ]
  },
  {
   "cell_type": "code",
   "execution_count": 15,
   "id": "0d76b6d5",
   "metadata": {
    "execution": {
     "iopub.execute_input": "2024-05-11T05:28:15.320889Z",
     "iopub.status.busy": "2024-05-11T05:28:15.320506Z",
     "iopub.status.idle": "2024-05-11T05:28:15.326125Z",
     "shell.execute_reply": "2024-05-11T05:28:15.324230Z"
    },
    "papermill": {
     "duration": 0.018003,
     "end_time": "2024-05-11T05:28:15.328590",
     "exception": false,
     "start_time": "2024-05-11T05:28:15.310587",
     "status": "completed"
    },
    "tags": []
   },
   "outputs": [],
   "source": [
    "# Applying Binarization\n",
    "\n",
    "from sklearn.preprocessing import Binarizer"
   ]
  },
  {
   "cell_type": "code",
   "execution_count": 16,
   "id": "9004a72a",
   "metadata": {
    "execution": {
     "iopub.execute_input": "2024-05-11T05:28:15.342909Z",
     "iopub.status.busy": "2024-05-11T05:28:15.342290Z",
     "iopub.status.idle": "2024-05-11T05:28:15.347019Z",
     "shell.execute_reply": "2024-05-11T05:28:15.346251Z"
    },
    "papermill": {
     "duration": 0.014222,
     "end_time": "2024-05-11T05:28:15.348974",
     "exception": false,
     "start_time": "2024-05-11T05:28:15.334752",
     "status": "completed"
    },
    "tags": []
   },
   "outputs": [],
   "source": [
    "trf=ColumnTransformer([\n",
    "    ('bin',Binarizer(copy=False),['family'])\n",
    "],remainder='passthrough')"
   ]
  },
  {
   "cell_type": "code",
   "execution_count": 17,
   "id": "68e29d23",
   "metadata": {
    "execution": {
     "iopub.execute_input": "2024-05-11T05:28:15.363142Z",
     "iopub.status.busy": "2024-05-11T05:28:15.362544Z",
     "iopub.status.idle": "2024-05-11T05:28:15.374474Z",
     "shell.execute_reply": "2024-05-11T05:28:15.373708Z"
    },
    "papermill": {
     "duration": 0.021676,
     "end_time": "2024-05-11T05:28:15.376713",
     "exception": false,
     "start_time": "2024-05-11T05:28:15.355037",
     "status": "completed"
    },
    "tags": []
   },
   "outputs": [],
   "source": [
    "X_train_trf = trf.fit_transform(X_train)\n",
    "X_test_trf = trf.transform(X_test)"
   ]
  },
  {
   "cell_type": "code",
   "execution_count": 18,
   "id": "fd496559",
   "metadata": {
    "execution": {
     "iopub.execute_input": "2024-05-11T05:28:15.390869Z",
     "iopub.status.busy": "2024-05-11T05:28:15.390265Z",
     "iopub.status.idle": "2024-05-11T05:28:15.403890Z",
     "shell.execute_reply": "2024-05-11T05:28:15.402794Z"
    },
    "papermill": {
     "duration": 0.023152,
     "end_time": "2024-05-11T05:28:15.405970",
     "exception": false,
     "start_time": "2024-05-11T05:28:15.382818",
     "status": "completed"
    },
    "tags": []
   },
   "outputs": [
    {
     "data": {
      "text/html": [
       "<div>\n",
       "<style scoped>\n",
       "    .dataframe tbody tr th:only-of-type {\n",
       "        vertical-align: middle;\n",
       "    }\n",
       "\n",
       "    .dataframe tbody tr th {\n",
       "        vertical-align: top;\n",
       "    }\n",
       "\n",
       "    .dataframe thead th {\n",
       "        text-align: right;\n",
       "    }\n",
       "</style>\n",
       "<table border=\"1\" class=\"dataframe\">\n",
       "  <thead>\n",
       "    <tr style=\"text-align: right;\">\n",
       "      <th></th>\n",
       "      <th>family</th>\n",
       "      <th>Age</th>\n",
       "      <th>Fare</th>\n",
       "    </tr>\n",
       "  </thead>\n",
       "  <tbody>\n",
       "    <tr>\n",
       "      <th>0</th>\n",
       "      <td>1.0</td>\n",
       "      <td>31.0</td>\n",
       "      <td>20.5250</td>\n",
       "    </tr>\n",
       "    <tr>\n",
       "      <th>1</th>\n",
       "      <td>1.0</td>\n",
       "      <td>26.0</td>\n",
       "      <td>14.4542</td>\n",
       "    </tr>\n",
       "    <tr>\n",
       "      <th>2</th>\n",
       "      <td>1.0</td>\n",
       "      <td>30.0</td>\n",
       "      <td>16.1000</td>\n",
       "    </tr>\n",
       "    <tr>\n",
       "      <th>3</th>\n",
       "      <td>0.0</td>\n",
       "      <td>33.0</td>\n",
       "      <td>7.7750</td>\n",
       "    </tr>\n",
       "    <tr>\n",
       "      <th>4</th>\n",
       "      <td>0.0</td>\n",
       "      <td>25.0</td>\n",
       "      <td>13.0000</td>\n",
       "    </tr>\n",
       "    <tr>\n",
       "      <th>...</th>\n",
       "      <td>...</td>\n",
       "      <td>...</td>\n",
       "      <td>...</td>\n",
       "    </tr>\n",
       "    <tr>\n",
       "      <th>566</th>\n",
       "      <td>1.0</td>\n",
       "      <td>46.0</td>\n",
       "      <td>61.1750</td>\n",
       "    </tr>\n",
       "    <tr>\n",
       "      <th>567</th>\n",
       "      <td>0.0</td>\n",
       "      <td>25.0</td>\n",
       "      <td>13.0000</td>\n",
       "    </tr>\n",
       "    <tr>\n",
       "      <th>568</th>\n",
       "      <td>0.0</td>\n",
       "      <td>41.0</td>\n",
       "      <td>134.5000</td>\n",
       "    </tr>\n",
       "    <tr>\n",
       "      <th>569</th>\n",
       "      <td>1.0</td>\n",
       "      <td>33.0</td>\n",
       "      <td>20.5250</td>\n",
       "    </tr>\n",
       "    <tr>\n",
       "      <th>570</th>\n",
       "      <td>0.0</td>\n",
       "      <td>33.0</td>\n",
       "      <td>7.8958</td>\n",
       "    </tr>\n",
       "  </tbody>\n",
       "</table>\n",
       "<p>571 rows × 3 columns</p>\n",
       "</div>"
      ],
      "text/plain": [
       "     family   Age      Fare\n",
       "0       1.0  31.0   20.5250\n",
       "1       1.0  26.0   14.4542\n",
       "2       1.0  30.0   16.1000\n",
       "3       0.0  33.0    7.7750\n",
       "4       0.0  25.0   13.0000\n",
       "..      ...   ...       ...\n",
       "566     1.0  46.0   61.1750\n",
       "567     0.0  25.0   13.0000\n",
       "568     0.0  41.0  134.5000\n",
       "569     1.0  33.0   20.5250\n",
       "570     0.0  33.0    7.8958\n",
       "\n",
       "[571 rows x 3 columns]"
      ]
     },
     "execution_count": 18,
     "metadata": {},
     "output_type": "execute_result"
    }
   ],
   "source": [
    "pd.DataFrame(X_train_trf,columns=['family','Age','Fare'])"
   ]
  },
  {
   "cell_type": "code",
   "execution_count": 19,
   "id": "513f17eb",
   "metadata": {
    "execution": {
     "iopub.execute_input": "2024-05-11T05:28:15.420742Z",
     "iopub.status.busy": "2024-05-11T05:28:15.420103Z",
     "iopub.status.idle": "2024-05-11T05:28:15.430794Z",
     "shell.execute_reply": "2024-05-11T05:28:15.429645Z"
    },
    "papermill": {
     "duration": 0.0206,
     "end_time": "2024-05-11T05:28:15.432893",
     "exception": false,
     "start_time": "2024-05-11T05:28:15.412293",
     "status": "completed"
    },
    "tags": []
   },
   "outputs": [
    {
     "data": {
      "text/plain": [
       "0.6223776223776224"
      ]
     },
     "execution_count": 19,
     "metadata": {},
     "output_type": "execute_result"
    }
   ],
   "source": [
    "clf = DecisionTreeClassifier()\n",
    "clf.fit(X_train_trf,y_train)\n",
    "y_pred2 = clf.predict(X_test_trf)\n",
    "\n",
    "accuracy_score(y_test,y_pred2)"
   ]
  },
  {
   "cell_type": "code",
   "execution_count": 20,
   "id": "b318a27b",
   "metadata": {
    "execution": {
     "iopub.execute_input": "2024-05-11T05:28:15.448032Z",
     "iopub.status.busy": "2024-05-11T05:28:15.447459Z",
     "iopub.status.idle": "2024-05-11T05:28:15.495974Z",
     "shell.execute_reply": "2024-05-11T05:28:15.494859Z"
    },
    "papermill": {
     "duration": 0.058827,
     "end_time": "2024-05-11T05:28:15.498432",
     "exception": false,
     "start_time": "2024-05-11T05:28:15.439605",
     "status": "completed"
    },
    "tags": []
   },
   "outputs": [
    {
     "data": {
      "text/plain": [
       "0.6275821596244132"
      ]
     },
     "execution_count": 20,
     "metadata": {},
     "output_type": "execute_result"
    }
   ],
   "source": [
    "X_trf = trf.fit_transform(X)\n",
    "np.mean(cross_val_score(DecisionTreeClassifier(),X_trf,y,cv=10,scoring='accuracy'))"
   ]
  },
  {
   "cell_type": "code",
   "execution_count": null,
   "id": "8a5cc82f",
   "metadata": {
    "papermill": {
     "duration": 0.006423,
     "end_time": "2024-05-11T05:28:15.511521",
     "exception": false,
     "start_time": "2024-05-11T05:28:15.505098",
     "status": "completed"
    },
    "tags": []
   },
   "outputs": [],
   "source": []
  }
 ],
 "metadata": {
  "kaggle": {
   "accelerator": "none",
   "dataSources": [
    {
     "datasetId": 414522,
     "sourceId": 792851,
     "sourceType": "datasetVersion"
    },
    {
     "datasetId": 1247358,
     "sourceId": 2080558,
     "sourceType": "datasetVersion"
    }
   ],
   "dockerImageVersionId": 30698,
   "isGpuEnabled": false,
   "isInternetEnabled": false,
   "language": "python",
   "sourceType": "notebook"
  },
  "kernelspec": {
   "display_name": "Python 3",
   "language": "python",
   "name": "python3"
  },
  "language_info": {
   "codemirror_mode": {
    "name": "ipython",
    "version": 3
   },
   "file_extension": ".py",
   "mimetype": "text/x-python",
   "name": "python",
   "nbconvert_exporter": "python",
   "pygments_lexer": "ipython3",
   "version": "3.10.13"
  },
  "papermill": {
   "default_parameters": {},
   "duration": 6.168186,
   "end_time": "2024-05-11T05:28:16.138969",
   "environment_variables": {},
   "exception": null,
   "input_path": "__notebook__.ipynb",
   "output_path": "__notebook__.ipynb",
   "parameters": {},
   "start_time": "2024-05-11T05:28:09.970783",
   "version": "2.5.0"
  }
 },
 "nbformat": 4,
 "nbformat_minor": 5
}
