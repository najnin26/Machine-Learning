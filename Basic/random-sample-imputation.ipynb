{
 "cells": [
  {
   "cell_type": "code",
   "execution_count": 1,
   "id": "09420af7",
   "metadata": {
    "_cell_guid": "b1076dfc-b9ad-4769-8c92-a6c4dae69d19",
    "_uuid": "8f2839f25d086af736a60e9eeb907d3b93b6e0e5",
    "execution": {
     "iopub.execute_input": "2024-06-05T06:42:17.210251Z",
     "iopub.status.busy": "2024-06-05T06:42:17.209856Z",
     "iopub.status.idle": "2024-06-05T06:42:19.952258Z",
     "shell.execute_reply": "2024-06-05T06:42:19.951112Z"
    },
    "papermill": {
     "duration": 2.752039,
     "end_time": "2024-06-05T06:42:19.954911",
     "exception": false,
     "start_time": "2024-06-05T06:42:17.202872",
     "status": "completed"
    },
    "tags": []
   },
   "outputs": [],
   "source": [
    "import numpy as np\n",
    "import pandas as pd\n",
    "\n",
    "from sklearn.model_selection import train_test_split\n",
    "\n",
    "import matplotlib.pyplot as plt\n",
    "import seaborn as sns"
   ]
  },
  {
   "cell_type": "code",
   "execution_count": 2,
   "id": "13ccc056",
   "metadata": {
    "execution": {
     "iopub.execute_input": "2024-06-05T06:42:19.966303Z",
     "iopub.status.busy": "2024-06-05T06:42:19.965763Z",
     "iopub.status.idle": "2024-06-05T06:42:19.991490Z",
     "shell.execute_reply": "2024-06-05T06:42:19.990411Z"
    },
    "papermill": {
     "duration": 0.034472,
     "end_time": "2024-06-05T06:42:19.994371",
     "exception": false,
     "start_time": "2024-06-05T06:42:19.959899",
     "status": "completed"
    },
    "tags": []
   },
   "outputs": [],
   "source": [
    "df=pd.read_csv(\"/kaggle/input/titanic-toy/titanic_toy.csv\",usecols=['Age','Fare','Survived'])"
   ]
  },
  {
   "cell_type": "code",
   "execution_count": 3,
   "id": "b88dc011",
   "metadata": {
    "execution": {
     "iopub.execute_input": "2024-06-05T06:42:20.005842Z",
     "iopub.status.busy": "2024-06-05T06:42:20.005077Z",
     "iopub.status.idle": "2024-06-05T06:42:20.030105Z",
     "shell.execute_reply": "2024-06-05T06:42:20.028885Z"
    },
    "papermill": {
     "duration": 0.033423,
     "end_time": "2024-06-05T06:42:20.032649",
     "exception": false,
     "start_time": "2024-06-05T06:42:19.999226",
     "status": "completed"
    },
    "tags": []
   },
   "outputs": [
    {
     "data": {
      "text/html": [
       "<div>\n",
       "<style scoped>\n",
       "    .dataframe tbody tr th:only-of-type {\n",
       "        vertical-align: middle;\n",
       "    }\n",
       "\n",
       "    .dataframe tbody tr th {\n",
       "        vertical-align: top;\n",
       "    }\n",
       "\n",
       "    .dataframe thead th {\n",
       "        text-align: right;\n",
       "    }\n",
       "</style>\n",
       "<table border=\"1\" class=\"dataframe\">\n",
       "  <thead>\n",
       "    <tr style=\"text-align: right;\">\n",
       "      <th></th>\n",
       "      <th>Age</th>\n",
       "      <th>Fare</th>\n",
       "      <th>Survived</th>\n",
       "    </tr>\n",
       "  </thead>\n",
       "  <tbody>\n",
       "    <tr>\n",
       "      <th>0</th>\n",
       "      <td>22.0</td>\n",
       "      <td>7.2500</td>\n",
       "      <td>0</td>\n",
       "    </tr>\n",
       "    <tr>\n",
       "      <th>1</th>\n",
       "      <td>38.0</td>\n",
       "      <td>71.2833</td>\n",
       "      <td>1</td>\n",
       "    </tr>\n",
       "    <tr>\n",
       "      <th>2</th>\n",
       "      <td>26.0</td>\n",
       "      <td>7.9250</td>\n",
       "      <td>1</td>\n",
       "    </tr>\n",
       "  </tbody>\n",
       "</table>\n",
       "</div>"
      ],
      "text/plain": [
       "    Age     Fare  Survived\n",
       "0  22.0   7.2500         0\n",
       "1  38.0  71.2833         1\n",
       "2  26.0   7.9250         1"
      ]
     },
     "execution_count": 3,
     "metadata": {},
     "output_type": "execute_result"
    }
   ],
   "source": [
    "df.head(3)"
   ]
  },
  {
   "cell_type": "code",
   "execution_count": 4,
   "id": "fe86ed53",
   "metadata": {
    "execution": {
     "iopub.execute_input": "2024-06-05T06:42:20.043915Z",
     "iopub.status.busy": "2024-06-05T06:42:20.043482Z",
     "iopub.status.idle": "2024-06-05T06:42:20.056177Z",
     "shell.execute_reply": "2024-06-05T06:42:20.055108Z"
    },
    "papermill": {
     "duration": 0.021163,
     "end_time": "2024-06-05T06:42:20.058602",
     "exception": false,
     "start_time": "2024-06-05T06:42:20.037439",
     "status": "completed"
    },
    "tags": []
   },
   "outputs": [
    {
     "data": {
      "text/plain": [
       "Age         19.865320\n",
       "Fare         5.050505\n",
       "Survived     0.000000\n",
       "dtype: float64"
      ]
     },
     "execution_count": 4,
     "metadata": {},
     "output_type": "execute_result"
    }
   ],
   "source": [
    "df.isnull().mean() * 100 "
   ]
  },
  {
   "cell_type": "code",
   "execution_count": 5,
   "id": "013c2c48",
   "metadata": {
    "execution": {
     "iopub.execute_input": "2024-06-05T06:42:20.070314Z",
     "iopub.status.busy": "2024-06-05T06:42:20.069656Z",
     "iopub.status.idle": "2024-06-05T06:42:20.080257Z",
     "shell.execute_reply": "2024-06-05T06:42:20.079117Z"
    },
    "papermill": {
     "duration": 0.018828,
     "end_time": "2024-06-05T06:42:20.082445",
     "exception": false,
     "start_time": "2024-06-05T06:42:20.063617",
     "status": "completed"
    },
    "tags": []
   },
   "outputs": [],
   "source": [
    "X = df.drop(columns=['Survived'])\n",
    "y = df['Survived']"
   ]
  },
  {
   "cell_type": "code",
   "execution_count": 6,
   "id": "0e45dc09",
   "metadata": {
    "execution": {
     "iopub.execute_input": "2024-06-05T06:42:20.093864Z",
     "iopub.status.busy": "2024-06-05T06:42:20.093472Z",
     "iopub.status.idle": "2024-06-05T06:42:20.102694Z",
     "shell.execute_reply": "2024-06-05T06:42:20.101637Z"
    },
    "papermill": {
     "duration": 0.017723,
     "end_time": "2024-06-05T06:42:20.105086",
     "exception": false,
     "start_time": "2024-06-05T06:42:20.087363",
     "status": "completed"
    },
    "tags": []
   },
   "outputs": [],
   "source": [
    "X_train,X_test,y_train,y_test = train_test_split(X,y,test_size=0.2,random_state=2)"
   ]
  },
  {
   "cell_type": "code",
   "execution_count": 7,
   "id": "5a4bd2c7",
   "metadata": {
    "execution": {
     "iopub.execute_input": "2024-06-05T06:42:20.117138Z",
     "iopub.status.busy": "2024-06-05T06:42:20.116107Z",
     "iopub.status.idle": "2024-06-05T06:42:20.129114Z",
     "shell.execute_reply": "2024-06-05T06:42:20.128114Z"
    },
    "papermill": {
     "duration": 0.021319,
     "end_time": "2024-06-05T06:42:20.131440",
     "exception": false,
     "start_time": "2024-06-05T06:42:20.110121",
     "status": "completed"
    },
    "tags": []
   },
   "outputs": [
    {
     "data": {
      "text/html": [
       "<div>\n",
       "<style scoped>\n",
       "    .dataframe tbody tr th:only-of-type {\n",
       "        vertical-align: middle;\n",
       "    }\n",
       "\n",
       "    .dataframe tbody tr th {\n",
       "        vertical-align: top;\n",
       "    }\n",
       "\n",
       "    .dataframe thead th {\n",
       "        text-align: right;\n",
       "    }\n",
       "</style>\n",
       "<table border=\"1\" class=\"dataframe\">\n",
       "  <thead>\n",
       "    <tr style=\"text-align: right;\">\n",
       "      <th></th>\n",
       "      <th>Age</th>\n",
       "      <th>Fare</th>\n",
       "    </tr>\n",
       "  </thead>\n",
       "  <tbody>\n",
       "    <tr>\n",
       "      <th>30</th>\n",
       "      <td>40.0</td>\n",
       "      <td>27.7208</td>\n",
       "    </tr>\n",
       "    <tr>\n",
       "      <th>10</th>\n",
       "      <td>4.0</td>\n",
       "      <td>16.7000</td>\n",
       "    </tr>\n",
       "    <tr>\n",
       "      <th>873</th>\n",
       "      <td>47.0</td>\n",
       "      <td>9.0000</td>\n",
       "    </tr>\n",
       "    <tr>\n",
       "      <th>182</th>\n",
       "      <td>9.0</td>\n",
       "      <td>31.3875</td>\n",
       "    </tr>\n",
       "    <tr>\n",
       "      <th>876</th>\n",
       "      <td>20.0</td>\n",
       "      <td>9.8458</td>\n",
       "    </tr>\n",
       "    <tr>\n",
       "      <th>...</th>\n",
       "      <td>...</td>\n",
       "      <td>...</td>\n",
       "    </tr>\n",
       "    <tr>\n",
       "      <th>534</th>\n",
       "      <td>30.0</td>\n",
       "      <td>8.6625</td>\n",
       "    </tr>\n",
       "    <tr>\n",
       "      <th>584</th>\n",
       "      <td>NaN</td>\n",
       "      <td>8.7125</td>\n",
       "    </tr>\n",
       "    <tr>\n",
       "      <th>493</th>\n",
       "      <td>71.0</td>\n",
       "      <td>49.5042</td>\n",
       "    </tr>\n",
       "    <tr>\n",
       "      <th>527</th>\n",
       "      <td>NaN</td>\n",
       "      <td>221.7792</td>\n",
       "    </tr>\n",
       "    <tr>\n",
       "      <th>168</th>\n",
       "      <td>NaN</td>\n",
       "      <td>25.9250</td>\n",
       "    </tr>\n",
       "  </tbody>\n",
       "</table>\n",
       "<p>712 rows × 2 columns</p>\n",
       "</div>"
      ],
      "text/plain": [
       "      Age      Fare\n",
       "30   40.0   27.7208\n",
       "10    4.0   16.7000\n",
       "873  47.0    9.0000\n",
       "182   9.0   31.3875\n",
       "876  20.0    9.8458\n",
       "..    ...       ...\n",
       "534  30.0    8.6625\n",
       "584   NaN    8.7125\n",
       "493  71.0   49.5042\n",
       "527   NaN  221.7792\n",
       "168   NaN   25.9250\n",
       "\n",
       "[712 rows x 2 columns]"
      ]
     },
     "execution_count": 7,
     "metadata": {},
     "output_type": "execute_result"
    }
   ],
   "source": [
    "X_train"
   ]
  },
  {
   "cell_type": "code",
   "execution_count": 8,
   "id": "20e13982",
   "metadata": {
    "execution": {
     "iopub.execute_input": "2024-06-05T06:42:20.143460Z",
     "iopub.status.busy": "2024-06-05T06:42:20.143062Z",
     "iopub.status.idle": "2024-06-05T06:42:20.149839Z",
     "shell.execute_reply": "2024-06-05T06:42:20.148784Z"
    },
    "papermill": {
     "duration": 0.015676,
     "end_time": "2024-06-05T06:42:20.152201",
     "exception": false,
     "start_time": "2024-06-05T06:42:20.136525",
     "status": "completed"
    },
    "tags": []
   },
   "outputs": [],
   "source": [
    "X_train['Age_imputed'] = X_train['Age']\n",
    "X_test['Age_imputed'] = X_test['Age']"
   ]
  },
  {
   "cell_type": "code",
   "execution_count": 9,
   "id": "ee8fa2dc",
   "metadata": {
    "execution": {
     "iopub.execute_input": "2024-06-05T06:42:20.164230Z",
     "iopub.status.busy": "2024-06-05T06:42:20.163835Z",
     "iopub.status.idle": "2024-06-05T06:42:20.175980Z",
     "shell.execute_reply": "2024-06-05T06:42:20.174878Z"
    },
    "papermill": {
     "duration": 0.020752,
     "end_time": "2024-06-05T06:42:20.178230",
     "exception": false,
     "start_time": "2024-06-05T06:42:20.157478",
     "status": "completed"
    },
    "tags": []
   },
   "outputs": [
    {
     "data": {
      "text/html": [
       "<div>\n",
       "<style scoped>\n",
       "    .dataframe tbody tr th:only-of-type {\n",
       "        vertical-align: middle;\n",
       "    }\n",
       "\n",
       "    .dataframe tbody tr th {\n",
       "        vertical-align: top;\n",
       "    }\n",
       "\n",
       "    .dataframe thead th {\n",
       "        text-align: right;\n",
       "    }\n",
       "</style>\n",
       "<table border=\"1\" class=\"dataframe\">\n",
       "  <thead>\n",
       "    <tr style=\"text-align: right;\">\n",
       "      <th></th>\n",
       "      <th>Age</th>\n",
       "      <th>Fare</th>\n",
       "      <th>Age_imputed</th>\n",
       "    </tr>\n",
       "  </thead>\n",
       "  <tbody>\n",
       "    <tr>\n",
       "      <th>89</th>\n",
       "      <td>24.0</td>\n",
       "      <td>8.0500</td>\n",
       "      <td>24.0</td>\n",
       "    </tr>\n",
       "    <tr>\n",
       "      <th>80</th>\n",
       "      <td>22.0</td>\n",
       "      <td>9.0000</td>\n",
       "      <td>22.0</td>\n",
       "    </tr>\n",
       "    <tr>\n",
       "      <th>846</th>\n",
       "      <td>NaN</td>\n",
       "      <td>69.5500</td>\n",
       "      <td>NaN</td>\n",
       "    </tr>\n",
       "    <tr>\n",
       "      <th>870</th>\n",
       "      <td>26.0</td>\n",
       "      <td>7.8958</td>\n",
       "      <td>26.0</td>\n",
       "    </tr>\n",
       "    <tr>\n",
       "      <th>251</th>\n",
       "      <td>29.0</td>\n",
       "      <td>NaN</td>\n",
       "      <td>29.0</td>\n",
       "    </tr>\n",
       "  </tbody>\n",
       "</table>\n",
       "</div>"
      ],
      "text/plain": [
       "      Age     Fare  Age_imputed\n",
       "89   24.0   8.0500         24.0\n",
       "80   22.0   9.0000         22.0\n",
       "846   NaN  69.5500          NaN\n",
       "870  26.0   7.8958         26.0\n",
       "251  29.0      NaN         29.0"
      ]
     },
     "execution_count": 9,
     "metadata": {},
     "output_type": "execute_result"
    }
   ],
   "source": [
    "X_test.tail()"
   ]
  },
  {
   "cell_type": "code",
   "execution_count": 10,
   "id": "fecef724",
   "metadata": {
    "execution": {
     "iopub.execute_input": "2024-06-05T06:42:20.190354Z",
     "iopub.status.busy": "2024-06-05T06:42:20.189950Z",
     "iopub.status.idle": "2024-06-05T06:42:20.199255Z",
     "shell.execute_reply": "2024-06-05T06:42:20.198149Z"
    },
    "papermill": {
     "duration": 0.01835,
     "end_time": "2024-06-05T06:42:20.201877",
     "exception": false,
     "start_time": "2024-06-05T06:42:20.183527",
     "status": "completed"
    },
    "tags": []
   },
   "outputs": [
    {
     "data": {
      "text/plain": [
       "77    NaN\n",
       "868   NaN\n",
       "334   NaN\n",
       "295   NaN\n",
       "792   NaN\n",
       "       ..\n",
       "674   NaN\n",
       "466   NaN\n",
       "584   NaN\n",
       "527   NaN\n",
       "168   NaN\n",
       "Name: Age_imputed, Length: 148, dtype: float64"
      ]
     },
     "execution_count": 10,
     "metadata": {},
     "output_type": "execute_result"
    }
   ],
   "source": [
    "X_train['Age_imputed'][X_train['Age_imputed'].isnull()]"
   ]
  },
  {
   "cell_type": "code",
   "execution_count": 11,
   "id": "f1354a7d",
   "metadata": {
    "execution": {
     "iopub.execute_input": "2024-06-05T06:42:20.214847Z",
     "iopub.status.busy": "2024-06-05T06:42:20.214096Z",
     "iopub.status.idle": "2024-06-05T06:42:20.225021Z",
     "shell.execute_reply": "2024-06-05T06:42:20.223817Z"
    },
    "papermill": {
     "duration": 0.019906,
     "end_time": "2024-06-05T06:42:20.227363",
     "exception": false,
     "start_time": "2024-06-05T06:42:20.207457",
     "status": "completed"
    },
    "tags": []
   },
   "outputs": [
    {
     "data": {
      "text/plain": [
       "array([40.  ,  9.  ,  3.  , 18.  , 20.  , 30.  , 51.  ,  5.  , 30.  ,\n",
       "       21.  , 19.  , 60.  , 21.  , 22.  , 25.  , 16.  , 19.  , 57.  ,\n",
       "       27.  , 36.5 , 52.  , 29.  , 42.  , 30.  , 36.  , 36.  , 32.  ,\n",
       "       25.  ,  1.  , 25.  , 24.  , 26.  , 51.  , 14.  , 22.  , 35.  ,\n",
       "       22.  , 23.  ,  2.  ,  7.  , 36.  , 54.  , 29.  ,  0.75, 39.  ,\n",
       "       29.  , 58.  , 24.  , 16.  ,  7.  , 62.  , 32.  , 21.  , 52.  ,\n",
       "       49.  ,  9.  , 45.  , 39.  , 19.  , 27.  , 20.  , 39.  , 25.  ,\n",
       "       46.  , 34.  , 36.  , 23.  , 29.  , 25.  , 23.  , 19.  , 40.5 ,\n",
       "       36.  , 18.  , 50.  , 23.  , 46.  , 14.5 ,  1.  , 38.  , 40.  ,\n",
       "       32.  , 54.  , 54.  , 33.  , 52.  , 24.  , 20.  , 25.  , 17.  ,\n",
       "       30.  ,  4.  , 28.  , 44.  , 41.  , 27.  ,  0.42, 23.  , 36.  ,\n",
       "       22.  , 20.  , 36.  ,  3.  , 48.  , 47.  , 24.  , 41.  , 32.  ,\n",
       "       34.  , 28.  , 30.  , 32.  , 21.  , 26.  , 16.  , 65.  , 42.  ,\n",
       "       19.  , 26.  , 15.  , 35.  , 24.  , 33.  , 27.  , 24.  , 40.  ,\n",
       "       29.  , 22.  , 30.5 , 29.  ,  4.  , 43.  , 31.  , 57.  , 30.  ,\n",
       "       22.  , 24.  , 22.  , 30.  , 71.  , 18.  , 25.  , 42.  , 31.  ,\n",
       "       56.  , 18.  , 24.  , 19.  ])"
      ]
     },
     "execution_count": 11,
     "metadata": {},
     "output_type": "execute_result"
    }
   ],
   "source": [
    "X_train['Age'].dropna().sample(X_train['Age'].isnull().sum()).values"
   ]
  },
  {
   "cell_type": "code",
   "execution_count": 12,
   "id": "2703bed9",
   "metadata": {
    "execution": {
     "iopub.execute_input": "2024-06-05T06:42:20.240556Z",
     "iopub.status.busy": "2024-06-05T06:42:20.240169Z",
     "iopub.status.idle": "2024-06-05T06:42:20.252608Z",
     "shell.execute_reply": "2024-06-05T06:42:20.251455Z"
    },
    "papermill": {
     "duration": 0.022611,
     "end_time": "2024-06-05T06:42:20.255606",
     "exception": false,
     "start_time": "2024-06-05T06:42:20.232995",
     "status": "completed"
    },
    "tags": []
   },
   "outputs": [
    {
     "name": "stderr",
     "output_type": "stream",
     "text": [
      "/tmp/ipykernel_18/4072170967.py:1: FutureWarning: ChainedAssignmentError: behaviour will change in pandas 3.0!\n",
      "You are setting values through chained assignment. Currently this works in certain cases, but when using Copy-on-Write (which will become the default behaviour in pandas 3.0) this will never work to update the original DataFrame or Series, because the intermediate object on which we are setting values will behave as a copy.\n",
      "A typical example is when you are setting values in a column of a DataFrame, like:\n",
      "\n",
      "df[\"col\"][row_indexer] = value\n",
      "\n",
      "Use `df.loc[row_indexer, \"col\"] = values` instead, to perform the assignment in a single step and ensure this keeps updating the original `df`.\n",
      "\n",
      "See the caveats in the documentation: https://pandas.pydata.org/pandas-docs/stable/user_guide/indexing.html#returning-a-view-versus-a-copy\n",
      "\n",
      "  X_train['Age_imputed'][X_train['Age_imputed'].isnull()]=X_train['Age'].dropna().sample(X_train['Age'].isnull().sum()).values\n",
      "/tmp/ipykernel_18/4072170967.py:2: FutureWarning: ChainedAssignmentError: behaviour will change in pandas 3.0!\n",
      "You are setting values through chained assignment. Currently this works in certain cases, but when using Copy-on-Write (which will become the default behaviour in pandas 3.0) this will never work to update the original DataFrame or Series, because the intermediate object on which we are setting values will behave as a copy.\n",
      "A typical example is when you are setting values in a column of a DataFrame, like:\n",
      "\n",
      "df[\"col\"][row_indexer] = value\n",
      "\n",
      "Use `df.loc[row_indexer, \"col\"] = values` instead, to perform the assignment in a single step and ensure this keeps updating the original `df`.\n",
      "\n",
      "See the caveats in the documentation: https://pandas.pydata.org/pandas-docs/stable/user_guide/indexing.html#returning-a-view-versus-a-copy\n",
      "\n",
      "  X_test['Age_imputed'][X_test['Age_imputed'].isnull()] = X_train['Age'].dropna().sample(X_test['Age'].isnull().sum()).values\n"
     ]
    }
   ],
   "source": [
    "X_train['Age_imputed'][X_train['Age_imputed'].isnull()]=X_train['Age'].dropna().sample(X_train['Age'].isnull().sum()).values\n",
    "X_test['Age_imputed'][X_test['Age_imputed'].isnull()] = X_train['Age'].dropna().sample(X_test['Age'].isnull().sum()).values"
   ]
  },
  {
   "cell_type": "code",
   "execution_count": 13,
   "id": "c45bdb1e",
   "metadata": {
    "execution": {
     "iopub.execute_input": "2024-06-05T06:42:20.268997Z",
     "iopub.status.busy": "2024-06-05T06:42:20.268270Z",
     "iopub.status.idle": "2024-06-05T06:42:20.283033Z",
     "shell.execute_reply": "2024-06-05T06:42:20.281990Z"
    },
    "papermill": {
     "duration": 0.024018,
     "end_time": "2024-06-05T06:42:20.285390",
     "exception": false,
     "start_time": "2024-06-05T06:42:20.261372",
     "status": "completed"
    },
    "tags": []
   },
   "outputs": [
    {
     "data": {
      "text/html": [
       "<div>\n",
       "<style scoped>\n",
       "    .dataframe tbody tr th:only-of-type {\n",
       "        vertical-align: middle;\n",
       "    }\n",
       "\n",
       "    .dataframe tbody tr th {\n",
       "        vertical-align: top;\n",
       "    }\n",
       "\n",
       "    .dataframe thead th {\n",
       "        text-align: right;\n",
       "    }\n",
       "</style>\n",
       "<table border=\"1\" class=\"dataframe\">\n",
       "  <thead>\n",
       "    <tr style=\"text-align: right;\">\n",
       "      <th></th>\n",
       "      <th>Age</th>\n",
       "      <th>Fare</th>\n",
       "      <th>Age_imputed</th>\n",
       "    </tr>\n",
       "  </thead>\n",
       "  <tbody>\n",
       "    <tr>\n",
       "      <th>30</th>\n",
       "      <td>40.0</td>\n",
       "      <td>27.7208</td>\n",
       "      <td>40.0</td>\n",
       "    </tr>\n",
       "    <tr>\n",
       "      <th>10</th>\n",
       "      <td>4.0</td>\n",
       "      <td>16.7000</td>\n",
       "      <td>4.0</td>\n",
       "    </tr>\n",
       "    <tr>\n",
       "      <th>873</th>\n",
       "      <td>47.0</td>\n",
       "      <td>9.0000</td>\n",
       "      <td>47.0</td>\n",
       "    </tr>\n",
       "    <tr>\n",
       "      <th>182</th>\n",
       "      <td>9.0</td>\n",
       "      <td>31.3875</td>\n",
       "      <td>9.0</td>\n",
       "    </tr>\n",
       "    <tr>\n",
       "      <th>876</th>\n",
       "      <td>20.0</td>\n",
       "      <td>9.8458</td>\n",
       "      <td>20.0</td>\n",
       "    </tr>\n",
       "    <tr>\n",
       "      <th>...</th>\n",
       "      <td>...</td>\n",
       "      <td>...</td>\n",
       "      <td>...</td>\n",
       "    </tr>\n",
       "    <tr>\n",
       "      <th>534</th>\n",
       "      <td>30.0</td>\n",
       "      <td>8.6625</td>\n",
       "      <td>30.0</td>\n",
       "    </tr>\n",
       "    <tr>\n",
       "      <th>584</th>\n",
       "      <td>NaN</td>\n",
       "      <td>8.7125</td>\n",
       "      <td>26.0</td>\n",
       "    </tr>\n",
       "    <tr>\n",
       "      <th>493</th>\n",
       "      <td>71.0</td>\n",
       "      <td>49.5042</td>\n",
       "      <td>71.0</td>\n",
       "    </tr>\n",
       "    <tr>\n",
       "      <th>527</th>\n",
       "      <td>NaN</td>\n",
       "      <td>221.7792</td>\n",
       "      <td>32.5</td>\n",
       "    </tr>\n",
       "    <tr>\n",
       "      <th>168</th>\n",
       "      <td>NaN</td>\n",
       "      <td>25.9250</td>\n",
       "      <td>28.0</td>\n",
       "    </tr>\n",
       "  </tbody>\n",
       "</table>\n",
       "<p>712 rows × 3 columns</p>\n",
       "</div>"
      ],
      "text/plain": [
       "      Age      Fare  Age_imputed\n",
       "30   40.0   27.7208         40.0\n",
       "10    4.0   16.7000          4.0\n",
       "873  47.0    9.0000         47.0\n",
       "182   9.0   31.3875          9.0\n",
       "876  20.0    9.8458         20.0\n",
       "..    ...       ...          ...\n",
       "534  30.0    8.6625         30.0\n",
       "584   NaN    8.7125         26.0\n",
       "493  71.0   49.5042         71.0\n",
       "527   NaN  221.7792         32.5\n",
       "168   NaN   25.9250         28.0\n",
       "\n",
       "[712 rows x 3 columns]"
      ]
     },
     "execution_count": 13,
     "metadata": {},
     "output_type": "execute_result"
    }
   ],
   "source": [
    "X_train"
   ]
  },
  {
   "cell_type": "code",
   "execution_count": 14,
   "id": "023d4e4e",
   "metadata": {
    "execution": {
     "iopub.execute_input": "2024-06-05T06:42:20.298770Z",
     "iopub.status.busy": "2024-06-05T06:42:20.298415Z",
     "iopub.status.idle": "2024-06-05T06:42:20.697599Z",
     "shell.execute_reply": "2024-06-05T06:42:20.696363Z"
    },
    "papermill": {
     "duration": 0.408786,
     "end_time": "2024-06-05T06:42:20.700119",
     "exception": false,
     "start_time": "2024-06-05T06:42:20.291333",
     "status": "completed"
    },
    "tags": []
   },
   "outputs": [
    {
     "name": "stderr",
     "output_type": "stream",
     "text": [
      "/tmp/ipykernel_18/2642582470.py:1: UserWarning: \n",
      "\n",
      "`distplot` is a deprecated function and will be removed in seaborn v0.14.0.\n",
      "\n",
      "Please adapt your code to use either `displot` (a figure-level function with\n",
      "similar flexibility) or `kdeplot` (an axes-level function for kernel density plots).\n",
      "\n",
      "For a guide to updating your code to use the new functions, please see\n",
      "https://gist.github.com/mwaskom/de44147ed2974457ad6372750bbe5751\n",
      "\n",
      "  sns.distplot(X_train['Age'],label='Original',hist=False)\n",
      "/opt/conda/lib/python3.10/site-packages/seaborn/_oldcore.py:1119: FutureWarning: use_inf_as_na option is deprecated and will be removed in a future version. Convert inf values to NaN before operating instead.\n",
      "  with pd.option_context('mode.use_inf_as_na', True):\n",
      "/tmp/ipykernel_18/2642582470.py:2: UserWarning: \n",
      "\n",
      "`distplot` is a deprecated function and will be removed in seaborn v0.14.0.\n",
      "\n",
      "Please adapt your code to use either `displot` (a figure-level function with\n",
      "similar flexibility) or `kdeplot` (an axes-level function for kernel density plots).\n",
      "\n",
      "For a guide to updating your code to use the new functions, please see\n",
      "https://gist.github.com/mwaskom/de44147ed2974457ad6372750bbe5751\n",
      "\n",
      "  sns.distplot(X_train['Age_imputed'],label = 'Imputed',hist=False)\n",
      "/opt/conda/lib/python3.10/site-packages/seaborn/_oldcore.py:1119: FutureWarning: use_inf_as_na option is deprecated and will be removed in a future version. Convert inf values to NaN before operating instead.\n",
      "  with pd.option_context('mode.use_inf_as_na', True):\n"
     ]
    },
    {
     "data": {
      "image/png": "[encoded data removed]",
      "text/plain": [
       "<Figure size 640x480 with 1 Axes>"
      ]
     },
     "metadata": {},
     "output_type": "display_data"
    }
   ],
   "source": [
    "sns.distplot(X_train['Age'],label='Original',hist=False)\n",
    "sns.distplot(X_train['Age_imputed'],label = 'Imputed',hist=False)\n",
    "\n",
    "plt.legend()\n",
    "plt.show()"
   ]
  },
  {
   "cell_type": "code",
   "execution_count": 15,
   "id": "4b72e304",
   "metadata": {
    "execution": {
     "iopub.execute_input": "2024-06-05T06:42:20.715217Z",
     "iopub.status.busy": "2024-06-05T06:42:20.714805Z",
     "iopub.status.idle": "2024-06-05T06:42:20.722735Z",
     "shell.execute_reply": "2024-06-05T06:42:20.721526Z"
    },
    "papermill": {
     "duration": 0.018457,
     "end_time": "2024-06-05T06:42:20.725261",
     "exception": false,
     "start_time": "2024-06-05T06:42:20.706804",
     "status": "completed"
    },
    "tags": []
   },
   "outputs": [
    {
     "name": "stdout",
     "output_type": "stream",
     "text": [
      "Original variable variance:  204.34951339046142\n",
      "Variance after random imputation:  208.39837099333903\n"
     ]
    }
   ],
   "source": [
    "print('Original variable variance: ', X_train['Age'].var())\n",
    "print('Variance after random imputation: ', X_train['Age_imputed'].var())"
   ]
  },
  {
   "cell_type": "code",
   "execution_count": 16,
   "id": "19494338",
   "metadata": {
    "execution": {
     "iopub.execute_input": "2024-06-05T06:42:20.740863Z",
     "iopub.status.busy": "2024-06-05T06:42:20.740445Z",
     "iopub.status.idle": "2024-06-05T06:42:20.755057Z",
     "shell.execute_reply": "2024-06-05T06:42:20.753746Z"
    },
    "papermill": {
     "duration": 0.024864,
     "end_time": "2024-06-05T06:42:20.757373",
     "exception": false,
     "start_time": "2024-06-05T06:42:20.732509",
     "status": "completed"
    },
    "tags": []
   },
   "outputs": [
    {
     "data": {
      "text/html": [
       "<div>\n",
       "<style scoped>\n",
       "    .dataframe tbody tr th:only-of-type {\n",
       "        vertical-align: middle;\n",
       "    }\n",
       "\n",
       "    .dataframe tbody tr th {\n",
       "        vertical-align: top;\n",
       "    }\n",
       "\n",
       "    .dataframe thead th {\n",
       "        text-align: right;\n",
       "    }\n",
       "</style>\n",
       "<table border=\"1\" class=\"dataframe\">\n",
       "  <thead>\n",
       "    <tr style=\"text-align: right;\">\n",
       "      <th></th>\n",
       "      <th>Fare</th>\n",
       "      <th>Age</th>\n",
       "      <th>Age_imputed</th>\n",
       "    </tr>\n",
       "  </thead>\n",
       "  <tbody>\n",
       "    <tr>\n",
       "      <th>Fare</th>\n",
       "      <td>2448.197914</td>\n",
       "      <td>70.719262</td>\n",
       "      <td>51.706201</td>\n",
       "    </tr>\n",
       "    <tr>\n",
       "      <th>Age</th>\n",
       "      <td>70.719262</td>\n",
       "      <td>204.349513</td>\n",
       "      <td>204.349513</td>\n",
       "    </tr>\n",
       "    <tr>\n",
       "      <th>Age_imputed</th>\n",
       "      <td>51.706201</td>\n",
       "      <td>204.349513</td>\n",
       "      <td>208.398371</td>\n",
       "    </tr>\n",
       "  </tbody>\n",
       "</table>\n",
       "</div>"
      ],
      "text/plain": [
       "                    Fare         Age  Age_imputed\n",
       "Fare         2448.197914   70.719262    51.706201\n",
       "Age            70.719262  204.349513   204.349513\n",
       "Age_imputed    51.706201  204.349513   208.398371"
      ]
     },
     "execution_count": 16,
     "metadata": {},
     "output_type": "execute_result"
    }
   ],
   "source": [
    "X_train[['Fare', 'Age', 'Age_imputed']].cov()"
   ]
  },
  {
   "cell_type": "code",
   "execution_count": null,
   "id": "36fad9a7",
   "metadata": {
    "papermill": {
     "duration": 0.007203,
     "end_time": "2024-06-05T06:42:20.771821",
     "exception": false,
     "start_time": "2024-06-05T06:42:20.764618",
     "status": "completed"
    },
    "tags": []
   },
   "outputs": [],
   "source": []
  }
 ],
 "metadata": {
  "kaggle": {
   "accelerator": "none",
   "dataSources": [
    {
     "datasetId": 3484025,
     "sourceId": 6084836,
     "sourceType": "datasetVersion"
    },
    {
     "datasetId": 5006429,
     "sourceId": 8411652,
     "sourceType": "datasetVersion"
    }
   ],
   "dockerImageVersionId": 30732,
   "isGpuEnabled": false,
   "isInternetEnabled": false,
   "language": "python",
   "sourceType": "notebook"
  },
  "kernelspec": {
   "display_name": "Python 3",
   "language": "python",
   "name": "python3"
  },
  "language_info": {
   "codemirror_mode": {
    "name": "ipython",
    "version": 3
   },
   "file_extension": ".py",
   "mimetype": "text/x-python",
   "name": "python",
   "nbconvert_exporter": "python",
   "pygments_lexer": "ipython3",
   "version": "3.10.13"
  },
  "papermill": {
   "default_parameters": {},
   "duration": 7.06678,
   "end_time": "2024-06-05T06:42:21.400180",
   "environment_variables": {},
   "exception": null,
   "input_path": "__notebook__.ipynb",
   "output_path": "__notebook__.ipynb",
   "parameters": {},
   "start_time": "2024-06-05T06:42:14.333400",
   "version": "2.5.0"
  }
 },
 "nbformat": 4,
 "nbformat_minor": 5
}
