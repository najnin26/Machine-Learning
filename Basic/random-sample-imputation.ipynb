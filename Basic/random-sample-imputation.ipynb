{
 "cells": [
  {
   "cell_type": "markdown",
   "id": "6b8b1b05",
   "metadata": {
    "papermill": {
     "duration": 0.007013,
     "end_time": "2024-06-05T06:56:49.016249",
     "exception": false,
     "start_time": "2024-06-05T06:56:49.009236",
     "status": "completed"
    },
    "tags": []
   },
   "source": [
    "# Numerical Data"
   ]
  },
  {
   "cell_type": "code",
   "execution_count": 1,
   "id": "7f0ac0c7",
   "metadata": {
    "_cell_guid": "b1076dfc-b9ad-4769-8c92-a6c4dae69d19",
    "_uuid": "8f2839f25d086af736a60e9eeb907d3b93b6e0e5",
    "execution": {
     "iopub.execute_input": "2024-06-05T06:56:49.031620Z",
     "iopub.status.busy": "2024-06-05T06:56:49.031155Z",
     "iopub.status.idle": "2024-06-05T06:56:51.886422Z",
     "shell.execute_reply": "2024-06-05T06:56:51.885254Z"
    },
    "papermill": {
     "duration": 2.866106,
     "end_time": "2024-06-05T06:56:51.889046",
     "exception": false,
     "start_time": "2024-06-05T06:56:49.022940",
     "status": "completed"
    },
    "tags": []
   },
   "outputs": [],
   "source": [
    "import numpy as np\n",
    "import pandas as pd\n",
    "\n",
    "from sklearn.model_selection import train_test_split\n",
    "\n",
    "import matplotlib.pyplot as plt\n",
    "import seaborn as sns"
   ]
  },
  {
   "cell_type": "code",
   "execution_count": 2,
   "id": "308325d7",
   "metadata": {
    "execution": {
     "iopub.execute_input": "2024-06-05T06:56:51.904774Z",
     "iopub.status.busy": "2024-06-05T06:56:51.904214Z",
     "iopub.status.idle": "2024-06-05T06:56:51.933846Z",
     "shell.execute_reply": "2024-06-05T06:56:51.932499Z"
    },
    "papermill": {
     "duration": 0.040683,
     "end_time": "2024-06-05T06:56:51.936499",
     "exception": false,
     "start_time": "2024-06-05T06:56:51.895816",
     "status": "completed"
    },
    "tags": []
   },
   "outputs": [],
   "source": [
    "df=pd.read_csv(\"/kaggle/input/titanic-toy/titanic_toy.csv\",usecols=['Age','Fare','Survived'])"
   ]
  },
  {
   "cell_type": "code",
   "execution_count": 3,
   "id": "133df0d8",
   "metadata": {
    "execution": {
     "iopub.execute_input": "2024-06-05T06:56:51.952352Z",
     "iopub.status.busy": "2024-06-05T06:56:51.951243Z",
     "iopub.status.idle": "2024-06-05T06:56:51.976483Z",
     "shell.execute_reply": "2024-06-05T06:56:51.975197Z"
    },
    "papermill": {
     "duration": 0.035875,
     "end_time": "2024-06-05T06:56:51.979089",
     "exception": false,
     "start_time": "2024-06-05T06:56:51.943214",
     "status": "completed"
    },
    "tags": []
   },
   "outputs": [
    {
     "data": {
      "text/html": [
       "<div>\n",
       "<style scoped>\n",
       "    .dataframe tbody tr th:only-of-type {\n",
       "        vertical-align: middle;\n",
       "    }\n",
       "\n",
       "    .dataframe tbody tr th {\n",
       "        vertical-align: top;\n",
       "    }\n",
       "\n",
       "    .dataframe thead th {\n",
       "        text-align: right;\n",
       "    }\n",
       "</style>\n",
       "<table border=\"1\" class=\"dataframe\">\n",
       "  <thead>\n",
       "    <tr style=\"text-align: right;\">\n",
       "      <th></th>\n",
       "      <th>Age</th>\n",
       "      <th>Fare</th>\n",
       "      <th>Survived</th>\n",
       "    </tr>\n",
       "  </thead>\n",
       "  <tbody>\n",
       "    <tr>\n",
       "      <th>0</th>\n",
       "      <td>22.0</td>\n",
       "      <td>7.2500</td>\n",
       "      <td>0</td>\n",
       "    </tr>\n",
       "    <tr>\n",
       "      <th>1</th>\n",
       "      <td>38.0</td>\n",
       "      <td>71.2833</td>\n",
       "      <td>1</td>\n",
       "    </tr>\n",
       "    <tr>\n",
       "      <th>2</th>\n",
       "      <td>26.0</td>\n",
       "      <td>7.9250</td>\n",
       "      <td>1</td>\n",
       "    </tr>\n",
       "  </tbody>\n",
       "</table>\n",
       "</div>"
      ],
      "text/plain": [
       "    Age     Fare  Survived\n",
       "0  22.0   7.2500         0\n",
       "1  38.0  71.2833         1\n",
       "2  26.0   7.9250         1"
      ]
     },
     "execution_count": 3,
     "metadata": {},
     "output_type": "execute_result"
    }
   ],
   "source": [
    "df.head(3)"
   ]
  },
  {
   "cell_type": "code",
   "execution_count": 4,
   "id": "37effbaa",
   "metadata": {
    "execution": {
     "iopub.execute_input": "2024-06-05T06:56:51.995118Z",
     "iopub.status.busy": "2024-06-05T06:56:51.994722Z",
     "iopub.status.idle": "2024-06-05T06:56:52.006547Z",
     "shell.execute_reply": "2024-06-05T06:56:52.005402Z"
    },
    "papermill": {
     "duration": 0.022516,
     "end_time": "2024-06-05T06:56:52.008977",
     "exception": false,
     "start_time": "2024-06-05T06:56:51.986461",
     "status": "completed"
    },
    "tags": []
   },
   "outputs": [
    {
     "data": {
      "text/plain": [
       "Age         19.865320\n",
       "Fare         5.050505\n",
       "Survived     0.000000\n",
       "dtype: float64"
      ]
     },
     "execution_count": 4,
     "metadata": {},
     "output_type": "execute_result"
    }
   ],
   "source": [
    "df.isnull().mean() * 100 "
   ]
  },
  {
   "cell_type": "code",
   "execution_count": 5,
   "id": "751857b3",
   "metadata": {
    "execution": {
     "iopub.execute_input": "2024-06-05T06:56:52.024828Z",
     "iopub.status.busy": "2024-06-05T06:56:52.024417Z",
     "iopub.status.idle": "2024-06-05T06:56:52.035437Z",
     "shell.execute_reply": "2024-06-05T06:56:52.034228Z"
    },
    "papermill": {
     "duration": 0.02181,
     "end_time": "2024-06-05T06:56:52.037856",
     "exception": false,
     "start_time": "2024-06-05T06:56:52.016046",
     "status": "completed"
    },
    "tags": []
   },
   "outputs": [],
   "source": [
    "X = df.drop(columns=['Survived'])\n",
    "y = df['Survived']"
   ]
  },
  {
   "cell_type": "code",
   "execution_count": 6,
   "id": "00511525",
   "metadata": {
    "execution": {
     "iopub.execute_input": "2024-06-05T06:56:52.053784Z",
     "iopub.status.busy": "2024-06-05T06:56:52.053402Z",
     "iopub.status.idle": "2024-06-05T06:56:52.063215Z",
     "shell.execute_reply": "2024-06-05T06:56:52.062184Z"
    },
    "papermill": {
     "duration": 0.020632,
     "end_time": "2024-06-05T06:56:52.065705",
     "exception": false,
     "start_time": "2024-06-05T06:56:52.045073",
     "status": "completed"
    },
    "tags": []
   },
   "outputs": [],
   "source": [
    "X_train,X_test,y_train,y_test = train_test_split(X,y,test_size=0.2,random_state=2)"
   ]
  },
  {
   "cell_type": "code",
   "execution_count": 7,
   "id": "a165d403",
   "metadata": {
    "execution": {
     "iopub.execute_input": "2024-06-05T06:56:52.081553Z",
     "iopub.status.busy": "2024-06-05T06:56:52.081164Z",
     "iopub.status.idle": "2024-06-05T06:56:52.094274Z",
     "shell.execute_reply": "2024-06-05T06:56:52.093095Z"
    },
    "papermill": {
     "duration": 0.023929,
     "end_time": "2024-06-05T06:56:52.096782",
     "exception": false,
     "start_time": "2024-06-05T06:56:52.072853",
     "status": "completed"
    },
    "tags": []
   },
   "outputs": [
    {
     "data": {
      "text/html": [
       "<div>\n",
       "<style scoped>\n",
       "    .dataframe tbody tr th:only-of-type {\n",
       "        vertical-align: middle;\n",
       "    }\n",
       "\n",
       "    .dataframe tbody tr th {\n",
       "        vertical-align: top;\n",
       "    }\n",
       "\n",
       "    .dataframe thead th {\n",
       "        text-align: right;\n",
       "    }\n",
       "</style>\n",
       "<table border=\"1\" class=\"dataframe\">\n",
       "  <thead>\n",
       "    <tr style=\"text-align: right;\">\n",
       "      <th></th>\n",
       "      <th>Age</th>\n",
       "      <th>Fare</th>\n",
       "    </tr>\n",
       "  </thead>\n",
       "  <tbody>\n",
       "    <tr>\n",
       "      <th>30</th>\n",
       "      <td>40.0</td>\n",
       "      <td>27.7208</td>\n",
       "    </tr>\n",
       "    <tr>\n",
       "      <th>10</th>\n",
       "      <td>4.0</td>\n",
       "      <td>16.7000</td>\n",
       "    </tr>\n",
       "    <tr>\n",
       "      <th>873</th>\n",
       "      <td>47.0</td>\n",
       "      <td>9.0000</td>\n",
       "    </tr>\n",
       "    <tr>\n",
       "      <th>182</th>\n",
       "      <td>9.0</td>\n",
       "      <td>31.3875</td>\n",
       "    </tr>\n",
       "    <tr>\n",
       "      <th>876</th>\n",
       "      <td>20.0</td>\n",
       "      <td>9.8458</td>\n",
       "    </tr>\n",
       "    <tr>\n",
       "      <th>...</th>\n",
       "      <td>...</td>\n",
       "      <td>...</td>\n",
       "    </tr>\n",
       "    <tr>\n",
       "      <th>534</th>\n",
       "      <td>30.0</td>\n",
       "      <td>8.6625</td>\n",
       "    </tr>\n",
       "    <tr>\n",
       "      <th>584</th>\n",
       "      <td>NaN</td>\n",
       "      <td>8.7125</td>\n",
       "    </tr>\n",
       "    <tr>\n",
       "      <th>493</th>\n",
       "      <td>71.0</td>\n",
       "      <td>49.5042</td>\n",
       "    </tr>\n",
       "    <tr>\n",
       "      <th>527</th>\n",
       "      <td>NaN</td>\n",
       "      <td>221.7792</td>\n",
       "    </tr>\n",
       "    <tr>\n",
       "      <th>168</th>\n",
       "      <td>NaN</td>\n",
       "      <td>25.9250</td>\n",
       "    </tr>\n",
       "  </tbody>\n",
       "</table>\n",
       "<p>712 rows × 2 columns</p>\n",
       "</div>"
      ],
      "text/plain": [
       "      Age      Fare\n",
       "30   40.0   27.7208\n",
       "10    4.0   16.7000\n",
       "873  47.0    9.0000\n",
       "182   9.0   31.3875\n",
       "876  20.0    9.8458\n",
       "..    ...       ...\n",
       "534  30.0    8.6625\n",
       "584   NaN    8.7125\n",
       "493  71.0   49.5042\n",
       "527   NaN  221.7792\n",
       "168   NaN   25.9250\n",
       "\n",
       "[712 rows x 2 columns]"
      ]
     },
     "execution_count": 7,
     "metadata": {},
     "output_type": "execute_result"
    }
   ],
   "source": [
    "X_train"
   ]
  },
  {
   "cell_type": "code",
   "execution_count": 8,
   "id": "fed03bb9",
   "metadata": {
    "execution": {
     "iopub.execute_input": "2024-06-05T06:56:52.114098Z",
     "iopub.status.busy": "2024-06-05T06:56:52.113698Z",
     "iopub.status.idle": "2024-06-05T06:56:52.121318Z",
     "shell.execute_reply": "2024-06-05T06:56:52.119817Z"
    },
    "papermill": {
     "duration": 0.019794,
     "end_time": "2024-06-05T06:56:52.124392",
     "exception": false,
     "start_time": "2024-06-05T06:56:52.104598",
     "status": "completed"
    },
    "tags": []
   },
   "outputs": [],
   "source": [
    "X_train['Age_imputed'] = X_train['Age']\n",
    "X_test['Age_imputed'] = X_test['Age']"
   ]
  },
  {
   "cell_type": "code",
   "execution_count": 9,
   "id": "ad349710",
   "metadata": {
    "execution": {
     "iopub.execute_input": "2024-06-05T06:56:52.141105Z",
     "iopub.status.busy": "2024-06-05T06:56:52.140690Z",
     "iopub.status.idle": "2024-06-05T06:56:52.155307Z",
     "shell.execute_reply": "2024-06-05T06:56:52.153576Z"
    },
    "papermill": {
     "duration": 0.026294,
     "end_time": "2024-06-05T06:56:52.158276",
     "exception": false,
     "start_time": "2024-06-05T06:56:52.131982",
     "status": "completed"
    },
    "tags": []
   },
   "outputs": [
    {
     "data": {
      "text/html": [
       "<div>\n",
       "<style scoped>\n",
       "    .dataframe tbody tr th:only-of-type {\n",
       "        vertical-align: middle;\n",
       "    }\n",
       "\n",
       "    .dataframe tbody tr th {\n",
       "        vertical-align: top;\n",
       "    }\n",
       "\n",
       "    .dataframe thead th {\n",
       "        text-align: right;\n",
       "    }\n",
       "</style>\n",
       "<table border=\"1\" class=\"dataframe\">\n",
       "  <thead>\n",
       "    <tr style=\"text-align: right;\">\n",
       "      <th></th>\n",
       "      <th>Age</th>\n",
       "      <th>Fare</th>\n",
       "      <th>Age_imputed</th>\n",
       "    </tr>\n",
       "  </thead>\n",
       "  <tbody>\n",
       "    <tr>\n",
       "      <th>89</th>\n",
       "      <td>24.0</td>\n",
       "      <td>8.0500</td>\n",
       "      <td>24.0</td>\n",
       "    </tr>\n",
       "    <tr>\n",
       "      <th>80</th>\n",
       "      <td>22.0</td>\n",
       "      <td>9.0000</td>\n",
       "      <td>22.0</td>\n",
       "    </tr>\n",
       "    <tr>\n",
       "      <th>846</th>\n",
       "      <td>NaN</td>\n",
       "      <td>69.5500</td>\n",
       "      <td>NaN</td>\n",
       "    </tr>\n",
       "    <tr>\n",
       "      <th>870</th>\n",
       "      <td>26.0</td>\n",
       "      <td>7.8958</td>\n",
       "      <td>26.0</td>\n",
       "    </tr>\n",
       "    <tr>\n",
       "      <th>251</th>\n",
       "      <td>29.0</td>\n",
       "      <td>NaN</td>\n",
       "      <td>29.0</td>\n",
       "    </tr>\n",
       "  </tbody>\n",
       "</table>\n",
       "</div>"
      ],
      "text/plain": [
       "      Age     Fare  Age_imputed\n",
       "89   24.0   8.0500         24.0\n",
       "80   22.0   9.0000         22.0\n",
       "846   NaN  69.5500          NaN\n",
       "870  26.0   7.8958         26.0\n",
       "251  29.0      NaN         29.0"
      ]
     },
     "execution_count": 9,
     "metadata": {},
     "output_type": "execute_result"
    }
   ],
   "source": [
    "X_test.tail()"
   ]
  },
  {
   "cell_type": "code",
   "execution_count": 10,
   "id": "adc1dfcd",
   "metadata": {
    "execution": {
     "iopub.execute_input": "2024-06-05T06:56:52.176744Z",
     "iopub.status.busy": "2024-06-05T06:56:52.176295Z",
     "iopub.status.idle": "2024-06-05T06:56:52.186595Z",
     "shell.execute_reply": "2024-06-05T06:56:52.185238Z"
    },
    "papermill": {
     "duration": 0.022711,
     "end_time": "2024-06-05T06:56:52.189202",
     "exception": false,
     "start_time": "2024-06-05T06:56:52.166491",
     "status": "completed"
    },
    "tags": []
   },
   "outputs": [
    {
     "data": {
      "text/plain": [
       "77    NaN\n",
       "868   NaN\n",
       "334   NaN\n",
       "295   NaN\n",
       "792   NaN\n",
       "       ..\n",
       "674   NaN\n",
       "466   NaN\n",
       "584   NaN\n",
       "527   NaN\n",
       "168   NaN\n",
       "Name: Age_imputed, Length: 148, dtype: float64"
      ]
     },
     "execution_count": 10,
     "metadata": {},
     "output_type": "execute_result"
    }
   ],
   "source": [
    "X_train['Age_imputed'][X_train['Age_imputed'].isnull()]"
   ]
  },
  {
   "cell_type": "code",
   "execution_count": 11,
   "id": "2833851d",
   "metadata": {
    "execution": {
     "iopub.execute_input": "2024-06-05T06:56:52.206877Z",
     "iopub.status.busy": "2024-06-05T06:56:52.206457Z",
     "iopub.status.idle": "2024-06-05T06:56:52.217917Z",
     "shell.execute_reply": "2024-06-05T06:56:52.216589Z"
    },
    "papermill": {
     "duration": 0.023155,
     "end_time": "2024-06-05T06:56:52.220371",
     "exception": false,
     "start_time": "2024-06-05T06:56:52.197216",
     "status": "completed"
    },
    "tags": []
   },
   "outputs": [
    {
     "data": {
      "text/plain": [
       "array([16.  ,  6.  , 33.  , 66.  , 70.  , 31.  , 36.  , 24.  , 31.  ,\n",
       "       23.  , 25.  , 35.  , 27.  , 11.  , 18.  , 29.  , 31.  , 24.  ,\n",
       "       31.  , 39.  , 51.  , 34.  , 21.  , 27.  , 14.  ,  4.  , 11.  ,\n",
       "       45.  , 28.  , 58.  ,  4.  , 31.  ,  4.  , 22.  , 21.  ,  0.83,\n",
       "       31.  , 39.  ,  0.75, 34.  , 24.  , 42.  , 19.  , 32.  , 23.  ,\n",
       "       32.  , 29.  , 25.  , 21.  , 33.  , 18.  , 32.  , 19.  , 30.  ,\n",
       "       18.  , 23.  , 30.  ,  6.  , 29.  , 36.  , 43.  , 17.  , 16.  ,\n",
       "       25.  , 56.  , 35.  , 14.  , 30.  , 18.  , 62.  , 44.  , 52.  ,\n",
       "       24.  , 30.  , 40.  , 28.  , 47.  , 45.5 , 36.5 , 39.  , 17.  ,\n",
       "       29.  , 30.  , 62.  , 20.  , 27.  , 35.  , 34.  , 25.  , 37.  ,\n",
       "       24.  ,  1.  , 35.  , 33.  , 49.  , 21.  , 22.  , 28.  ,  7.  ,\n",
       "       27.  , 17.  , 29.  , 21.  ,  2.  , 40.5 , 54.  , 30.  , 19.  ,\n",
       "       71.  , 21.  ,  2.  , 34.5 , 33.  , 50.  , 58.  , 22.  , 45.  ,\n",
       "       45.  , 16.  , 19.  , 19.  , 44.  , 25.  , 18.  , 24.  , 27.  ,\n",
       "       33.  , 37.  , 24.  , 36.  , 36.  , 27.  , 63.  , 18.  , 50.  ,\n",
       "       47.  , 40.  , 16.  , 36.  , 51.  , 38.  , 18.  , 35.  , 51.  ,\n",
       "       25.  , 47.  , 70.5 , 21.  ])"
      ]
     },
     "execution_count": 11,
     "metadata": {},
     "output_type": "execute_result"
    }
   ],
   "source": [
    "X_train['Age'].dropna().sample(X_train['Age'].isnull().sum()).values"
   ]
  },
  {
   "cell_type": "code",
   "execution_count": 12,
   "id": "6dbe345f",
   "metadata": {
    "execution": {
     "iopub.execute_input": "2024-06-05T06:56:52.237780Z",
     "iopub.status.busy": "2024-06-05T06:56:52.237377Z",
     "iopub.status.idle": "2024-06-05T06:56:52.250543Z",
     "shell.execute_reply": "2024-06-05T06:56:52.249245Z"
    },
    "papermill": {
     "duration": 0.024904,
     "end_time": "2024-06-05T06:56:52.253112",
     "exception": false,
     "start_time": "2024-06-05T06:56:52.228208",
     "status": "completed"
    },
    "tags": []
   },
   "outputs": [
    {
     "name": "stderr",
     "output_type": "stream",
     "text": [
      "/tmp/ipykernel_18/4072170967.py:1: FutureWarning: ChainedAssignmentError: behaviour will change in pandas 3.0!\n",
      "You are setting values through chained assignment. Currently this works in certain cases, but when using Copy-on-Write (which will become the default behaviour in pandas 3.0) this will never work to update the original DataFrame or Series, because the intermediate object on which we are setting values will behave as a copy.\n",
      "A typical example is when you are setting values in a column of a DataFrame, like:\n",
      "\n",
      "df[\"col\"][row_indexer] = value\n",
      "\n",
      "Use `df.loc[row_indexer, \"col\"] = values` instead, to perform the assignment in a single step and ensure this keeps updating the original `df`.\n",
      "\n",
      "See the caveats in the documentation: https://pandas.pydata.org/pandas-docs/stable/user_guide/indexing.html#returning-a-view-versus-a-copy\n",
      "\n",
      "  X_train['Age_imputed'][X_train['Age_imputed'].isnull()]=X_train['Age'].dropna().sample(X_train['Age'].isnull().sum()).values\n",
      "/tmp/ipykernel_18/4072170967.py:2: FutureWarning: ChainedAssignmentError: behaviour will change in pandas 3.0!\n",
      "You are setting values through chained assignment. Currently this works in certain cases, but when using Copy-on-Write (which will become the default behaviour in pandas 3.0) this will never work to update the original DataFrame or Series, because the intermediate object on which we are setting values will behave as a copy.\n",
      "A typical example is when you are setting values in a column of a DataFrame, like:\n",
      "\n",
      "df[\"col\"][row_indexer] = value\n",
      "\n",
      "Use `df.loc[row_indexer, \"col\"] = values` instead, to perform the assignment in a single step and ensure this keeps updating the original `df`.\n",
      "\n",
      "See the caveats in the documentation: https://pandas.pydata.org/pandas-docs/stable/user_guide/indexing.html#returning-a-view-versus-a-copy\n",
      "\n",
      "  X_test['Age_imputed'][X_test['Age_imputed'].isnull()] = X_train['Age'].dropna().sample(X_test['Age'].isnull().sum()).values\n"
     ]
    }
   ],
   "source": [
    "X_train['Age_imputed'][X_train['Age_imputed'].isnull()]=X_train['Age'].dropna().sample(X_train['Age'].isnull().sum()).values\n",
    "X_test['Age_imputed'][X_test['Age_imputed'].isnull()] = X_train['Age'].dropna().sample(X_test['Age'].isnull().sum()).values"
   ]
  },
  {
   "cell_type": "code",
   "execution_count": 13,
   "id": "261be5e6",
   "metadata": {
    "execution": {
     "iopub.execute_input": "2024-06-05T06:56:52.271270Z",
     "iopub.status.busy": "2024-06-05T06:56:52.270878Z",
     "iopub.status.idle": "2024-06-05T06:56:52.285639Z",
     "shell.execute_reply": "2024-06-05T06:56:52.284501Z"
    },
    "papermill": {
     "duration": 0.026491,
     "end_time": "2024-06-05T06:56:52.287808",
     "exception": false,
     "start_time": "2024-06-05T06:56:52.261317",
     "status": "completed"
    },
    "tags": []
   },
   "outputs": [
    {
     "data": {
      "text/html": [
       "<div>\n",
       "<style scoped>\n",
       "    .dataframe tbody tr th:only-of-type {\n",
       "        vertical-align: middle;\n",
       "    }\n",
       "\n",
       "    .dataframe tbody tr th {\n",
       "        vertical-align: top;\n",
       "    }\n",
       "\n",
       "    .dataframe thead th {\n",
       "        text-align: right;\n",
       "    }\n",
       "</style>\n",
       "<table border=\"1\" class=\"dataframe\">\n",
       "  <thead>\n",
       "    <tr style=\"text-align: right;\">\n",
       "      <th></th>\n",
       "      <th>Age</th>\n",
       "      <th>Fare</th>\n",
       "      <th>Age_imputed</th>\n",
       "    </tr>\n",
       "  </thead>\n",
       "  <tbody>\n",
       "    <tr>\n",
       "      <th>30</th>\n",
       "      <td>40.0</td>\n",
       "      <td>27.7208</td>\n",
       "      <td>40.0</td>\n",
       "    </tr>\n",
       "    <tr>\n",
       "      <th>10</th>\n",
       "      <td>4.0</td>\n",
       "      <td>16.7000</td>\n",
       "      <td>4.0</td>\n",
       "    </tr>\n",
       "    <tr>\n",
       "      <th>873</th>\n",
       "      <td>47.0</td>\n",
       "      <td>9.0000</td>\n",
       "      <td>47.0</td>\n",
       "    </tr>\n",
       "    <tr>\n",
       "      <th>182</th>\n",
       "      <td>9.0</td>\n",
       "      <td>31.3875</td>\n",
       "      <td>9.0</td>\n",
       "    </tr>\n",
       "    <tr>\n",
       "      <th>876</th>\n",
       "      <td>20.0</td>\n",
       "      <td>9.8458</td>\n",
       "      <td>20.0</td>\n",
       "    </tr>\n",
       "    <tr>\n",
       "      <th>...</th>\n",
       "      <td>...</td>\n",
       "      <td>...</td>\n",
       "      <td>...</td>\n",
       "    </tr>\n",
       "    <tr>\n",
       "      <th>534</th>\n",
       "      <td>30.0</td>\n",
       "      <td>8.6625</td>\n",
       "      <td>30.0</td>\n",
       "    </tr>\n",
       "    <tr>\n",
       "      <th>584</th>\n",
       "      <td>NaN</td>\n",
       "      <td>8.7125</td>\n",
       "      <td>62.0</td>\n",
       "    </tr>\n",
       "    <tr>\n",
       "      <th>493</th>\n",
       "      <td>71.0</td>\n",
       "      <td>49.5042</td>\n",
       "      <td>71.0</td>\n",
       "    </tr>\n",
       "    <tr>\n",
       "      <th>527</th>\n",
       "      <td>NaN</td>\n",
       "      <td>221.7792</td>\n",
       "      <td>21.0</td>\n",
       "    </tr>\n",
       "    <tr>\n",
       "      <th>168</th>\n",
       "      <td>NaN</td>\n",
       "      <td>25.9250</td>\n",
       "      <td>45.0</td>\n",
       "    </tr>\n",
       "  </tbody>\n",
       "</table>\n",
       "<p>712 rows × 3 columns</p>\n",
       "</div>"
      ],
      "text/plain": [
       "      Age      Fare  Age_imputed\n",
       "30   40.0   27.7208         40.0\n",
       "10    4.0   16.7000          4.0\n",
       "873  47.0    9.0000         47.0\n",
       "182   9.0   31.3875          9.0\n",
       "876  20.0    9.8458         20.0\n",
       "..    ...       ...          ...\n",
       "534  30.0    8.6625         30.0\n",
       "584   NaN    8.7125         62.0\n",
       "493  71.0   49.5042         71.0\n",
       "527   NaN  221.7792         21.0\n",
       "168   NaN   25.9250         45.0\n",
       "\n",
       "[712 rows x 3 columns]"
      ]
     },
     "execution_count": 13,
     "metadata": {},
     "output_type": "execute_result"
    }
   ],
   "source": [
    "X_train"
   ]
  },
  {
   "cell_type": "code",
   "execution_count": 14,
   "id": "d4deefe1",
   "metadata": {
    "execution": {
     "iopub.execute_input": "2024-06-05T06:56:52.306294Z",
     "iopub.status.busy": "2024-06-05T06:56:52.305260Z",
     "iopub.status.idle": "2024-06-05T06:56:52.732851Z",
     "shell.execute_reply": "2024-06-05T06:56:52.731666Z"
    },
    "papermill": {
     "duration": 0.439584,
     "end_time": "2024-06-05T06:56:52.735500",
     "exception": false,
     "start_time": "2024-06-05T06:56:52.295916",
     "status": "completed"
    },
    "tags": []
   },
   "outputs": [
    {
     "name": "stderr",
     "output_type": "stream",
     "text": [
      "/tmp/ipykernel_18/2642582470.py:1: UserWarning: \n",
      "\n",
      "`distplot` is a deprecated function and will be removed in seaborn v0.14.0.\n",
      "\n",
      "Please adapt your code to use either `displot` (a figure-level function with\n",
      "similar flexibility) or `kdeplot` (an axes-level function for kernel density plots).\n",
      "\n",
      "For a guide to updating your code to use the new functions, please see\n",
      "https://gist.github.com/mwaskom/de44147ed2974457ad6372750bbe5751\n",
      "\n",
      "  sns.distplot(X_train['Age'],label='Original',hist=False)\n",
      "/opt/conda/lib/python3.10/site-packages/seaborn/_oldcore.py:1119: FutureWarning: use_inf_as_na option is deprecated and will be removed in a future version. Convert inf values to NaN before operating instead.\n",
      "  with pd.option_context('mode.use_inf_as_na', True):\n",
      "/tmp/ipykernel_18/2642582470.py:2: UserWarning: \n",
      "\n",
      "`distplot` is a deprecated function and will be removed in seaborn v0.14.0.\n",
      "\n",
      "Please adapt your code to use either `displot` (a figure-level function with\n",
      "similar flexibility) or `kdeplot` (an axes-level function for kernel density plots).\n",
      "\n",
      "For a guide to updating your code to use the new functions, please see\n",
      "https://gist.github.com/mwaskom/de44147ed2974457ad6372750bbe5751\n",
      "\n",
      "  sns.distplot(X_train['Age_imputed'],label = 'Imputed',hist=False)\n",
      "/opt/conda/lib/python3.10/site-packages/seaborn/_oldcore.py:1119: FutureWarning: use_inf_as_na option is deprecated and will be removed in a future version. Convert inf values to NaN before operating instead.\n",
      "  with pd.option_context('mode.use_inf_as_na', True):\n"
     ]
    },
    {
     "data": {
      "image/png": "[encoded data removed]",
      "text/plain": [
       "<Figure size 640x480 with 1 Axes>"
      ]
     },
     "metadata": {},
     "output_type": "display_data"
    }
   ],
   "source": [
    "sns.distplot(X_train['Age'],label='Original',hist=False)\n",
    "sns.distplot(X_train['Age_imputed'],label = 'Imputed',hist=False)\n",
    "\n",
    "plt.legend()\n",
    "plt.show()"
   ]
  },
  {
   "cell_type": "code",
   "execution_count": 15,
   "id": "051ea9de",
   "metadata": {
    "execution": {
     "iopub.execute_input": "2024-06-05T06:56:52.756190Z",
     "iopub.status.busy": "2024-06-05T06:56:52.755779Z",
     "iopub.status.idle": "2024-06-05T06:56:52.765017Z",
     "shell.execute_reply": "2024-06-05T06:56:52.762714Z"
    },
    "papermill": {
     "duration": 0.023413,
     "end_time": "2024-06-05T06:56:52.768390",
     "exception": false,
     "start_time": "2024-06-05T06:56:52.744977",
     "status": "completed"
    },
    "tags": []
   },
   "outputs": [
    {
     "name": "stdout",
     "output_type": "stream",
     "text": [
      "Original variable variance:  204.34951339046142\n",
      "Variance after random imputation:  202.7884162895668\n"
     ]
    }
   ],
   "source": [
    "print('Original variable variance: ', X_train['Age'].var())\n",
    "print('Variance after random imputation: ', X_train['Age_imputed'].var())"
   ]
  },
  {
   "cell_type": "code",
   "execution_count": 16,
   "id": "f52faeaa",
   "metadata": {
    "execution": {
     "iopub.execute_input": "2024-06-05T06:56:52.788175Z",
     "iopub.status.busy": "2024-06-05T06:56:52.787768Z",
     "iopub.status.idle": "2024-06-05T06:56:52.803797Z",
     "shell.execute_reply": "2024-06-05T06:56:52.801439Z"
    },
    "papermill": {
     "duration": 0.029698,
     "end_time": "2024-06-05T06:56:52.807105",
     "exception": false,
     "start_time": "2024-06-05T06:56:52.777407",
     "status": "completed"
    },
    "tags": []
   },
   "outputs": [
    {
     "data": {
      "text/html": [
       "<div>\n",
       "<style scoped>\n",
       "    .dataframe tbody tr th:only-of-type {\n",
       "        vertical-align: middle;\n",
       "    }\n",
       "\n",
       "    .dataframe tbody tr th {\n",
       "        vertical-align: top;\n",
       "    }\n",
       "\n",
       "    .dataframe thead th {\n",
       "        text-align: right;\n",
       "    }\n",
       "</style>\n",
       "<table border=\"1\" class=\"dataframe\">\n",
       "  <thead>\n",
       "    <tr style=\"text-align: right;\">\n",
       "      <th></th>\n",
       "      <th>Fare</th>\n",
       "      <th>Age</th>\n",
       "      <th>Age_imputed</th>\n",
       "    </tr>\n",
       "  </thead>\n",
       "  <tbody>\n",
       "    <tr>\n",
       "      <th>Fare</th>\n",
       "      <td>2448.197914</td>\n",
       "      <td>70.719262</td>\n",
       "      <td>48.673707</td>\n",
       "    </tr>\n",
       "    <tr>\n",
       "      <th>Age</th>\n",
       "      <td>70.719262</td>\n",
       "      <td>204.349513</td>\n",
       "      <td>204.349513</td>\n",
       "    </tr>\n",
       "    <tr>\n",
       "      <th>Age_imputed</th>\n",
       "      <td>48.673707</td>\n",
       "      <td>204.349513</td>\n",
       "      <td>202.788416</td>\n",
       "    </tr>\n",
       "  </tbody>\n",
       "</table>\n",
       "</div>"
      ],
      "text/plain": [
       "                    Fare         Age  Age_imputed\n",
       "Fare         2448.197914   70.719262    48.673707\n",
       "Age            70.719262  204.349513   204.349513\n",
       "Age_imputed    48.673707  204.349513   202.788416"
      ]
     },
     "execution_count": 16,
     "metadata": {},
     "output_type": "execute_result"
    }
   ],
   "source": [
    "X_train[['Fare', 'Age', 'Age_imputed']].cov()"
   ]
  },
  {
   "cell_type": "code",
   "execution_count": 17,
   "id": "c0e91e81",
   "metadata": {
    "execution": {
     "iopub.execute_input": "2024-06-05T06:56:52.828151Z",
     "iopub.status.busy": "2024-06-05T06:56:52.827733Z",
     "iopub.status.idle": "2024-06-05T06:56:53.030453Z",
     "shell.execute_reply": "2024-06-05T06:56:53.029214Z"
    },
    "papermill": {
     "duration": 0.215644,
     "end_time": "2024-06-05T06:56:53.032927",
     "exception": false,
     "start_time": "2024-06-05T06:56:52.817283",
     "status": "completed"
    },
    "tags": []
   },
   "outputs": [
    {
     "data": {
      "text/plain": [
       "<Axes: >"
      ]
     },
     "execution_count": 17,
     "metadata": {},
     "output_type": "execute_result"
    },
    {
     "data": {
      "image/png": "[encoded data removed]",
      "text/plain": [
       "<Figure size 640x480 with 1 Axes>"
      ]
     },
     "metadata": {},
     "output_type": "display_data"
    }
   ],
   "source": [
    "X_train[['Age', 'Age_imputed']].boxplot()"
   ]
  },
  {
   "cell_type": "code",
   "execution_count": 18,
   "id": "7a9b83ef",
   "metadata": {
    "execution": {
     "iopub.execute_input": "2024-06-05T06:56:53.053453Z",
     "iopub.status.busy": "2024-06-05T06:56:53.053026Z",
     "iopub.status.idle": "2024-06-05T06:56:53.058227Z",
     "shell.execute_reply": "2024-06-05T06:56:53.056922Z"
    },
    "papermill": {
     "duration": 0.01825,
     "end_time": "2024-06-05T06:56:53.060663",
     "exception": false,
     "start_time": "2024-06-05T06:56:53.042413",
     "status": "completed"
    },
    "tags": []
   },
   "outputs": [],
   "source": [
    "# sampled_value = X_train['Age'].dropna().sample(1, random_state=int(df['Fare']))"
   ]
  },
  {
   "cell_type": "markdown",
   "id": "1e74bfde",
   "metadata": {
    "papermill": {
     "duration": 0.009797,
     "end_time": "2024-06-05T06:56:53.081073",
     "exception": false,
     "start_time": "2024-06-05T06:56:53.071276",
     "status": "completed"
    },
    "tags": []
   },
   "source": [
    "# Catagorical Data"
   ]
  },
  {
   "cell_type": "code",
   "execution_count": 19,
   "id": "6c760548",
   "metadata": {
    "execution": {
     "iopub.execute_input": "2024-06-05T06:56:53.101906Z",
     "iopub.status.busy": "2024-06-05T06:56:53.101488Z",
     "iopub.status.idle": "2024-06-05T06:56:53.129478Z",
     "shell.execute_reply": "2024-06-05T06:56:53.128417Z"
    },
    "papermill": {
     "duration": 0.041416,
     "end_time": "2024-06-05T06:56:53.132145",
     "exception": false,
     "start_time": "2024-06-05T06:56:53.090729",
     "status": "completed"
    },
    "tags": []
   },
   "outputs": [],
   "source": [
    "data = pd.read_csv('/kaggle/input/train1/train1.csv',usecols=['GarageQual','FireplaceQu', 'SalePrice'])"
   ]
  },
  {
   "cell_type": "code",
   "execution_count": 20,
   "id": "df4dcfc0",
   "metadata": {
    "execution": {
     "iopub.execute_input": "2024-06-05T06:56:53.154032Z",
     "iopub.status.busy": "2024-06-05T06:56:53.152923Z",
     "iopub.status.idle": "2024-06-05T06:56:53.163551Z",
     "shell.execute_reply": "2024-06-05T06:56:53.162479Z"
    },
    "papermill": {
     "duration": 0.024192,
     "end_time": "2024-06-05T06:56:53.165950",
     "exception": false,
     "start_time": "2024-06-05T06:56:53.141758",
     "status": "completed"
    },
    "tags": []
   },
   "outputs": [
    {
     "data": {
      "text/html": [
       "<div>\n",
       "<style scoped>\n",
       "    .dataframe tbody tr th:only-of-type {\n",
       "        vertical-align: middle;\n",
       "    }\n",
       "\n",
       "    .dataframe tbody tr th {\n",
       "        vertical-align: top;\n",
       "    }\n",
       "\n",
       "    .dataframe thead th {\n",
       "        text-align: right;\n",
       "    }\n",
       "</style>\n",
       "<table border=\"1\" class=\"dataframe\">\n",
       "  <thead>\n",
       "    <tr style=\"text-align: right;\">\n",
       "      <th></th>\n",
       "      <th>FireplaceQu</th>\n",
       "      <th>GarageQual</th>\n",
       "      <th>SalePrice</th>\n",
       "    </tr>\n",
       "  </thead>\n",
       "  <tbody>\n",
       "    <tr>\n",
       "      <th>0</th>\n",
       "      <td>NaN</td>\n",
       "      <td>TA</td>\n",
       "      <td>208500</td>\n",
       "    </tr>\n",
       "    <tr>\n",
       "      <th>1</th>\n",
       "      <td>TA</td>\n",
       "      <td>TA</td>\n",
       "      <td>181500</td>\n",
       "    </tr>\n",
       "    <tr>\n",
       "      <th>2</th>\n",
       "      <td>TA</td>\n",
       "      <td>TA</td>\n",
       "      <td>223500</td>\n",
       "    </tr>\n",
       "    <tr>\n",
       "      <th>3</th>\n",
       "      <td>Gd</td>\n",
       "      <td>TA</td>\n",
       "      <td>140000</td>\n",
       "    </tr>\n",
       "    <tr>\n",
       "      <th>4</th>\n",
       "      <td>TA</td>\n",
       "      <td>TA</td>\n",
       "      <td>250000</td>\n",
       "    </tr>\n",
       "  </tbody>\n",
       "</table>\n",
       "</div>"
      ],
      "text/plain": [
       "  FireplaceQu GarageQual  SalePrice\n",
       "0         NaN         TA     208500\n",
       "1          TA         TA     181500\n",
       "2          TA         TA     223500\n",
       "3          Gd         TA     140000\n",
       "4          TA         TA     250000"
      ]
     },
     "execution_count": 20,
     "metadata": {},
     "output_type": "execute_result"
    }
   ],
   "source": [
    "data.head()"
   ]
  },
  {
   "cell_type": "code",
   "execution_count": 21,
   "id": "39690126",
   "metadata": {
    "execution": {
     "iopub.execute_input": "2024-06-05T06:56:53.187477Z",
     "iopub.status.busy": "2024-06-05T06:56:53.187041Z",
     "iopub.status.idle": "2024-06-05T06:56:53.197070Z",
     "shell.execute_reply": "2024-06-05T06:56:53.195901Z"
    },
    "papermill": {
     "duration": 0.023895,
     "end_time": "2024-06-05T06:56:53.199484",
     "exception": false,
     "start_time": "2024-06-05T06:56:53.175589",
     "status": "completed"
    },
    "tags": []
   },
   "outputs": [
    {
     "data": {
      "text/plain": [
       "FireplaceQu    47.260274\n",
       "GarageQual      5.547945\n",
       "SalePrice       0.000000\n",
       "dtype: float64"
      ]
     },
     "execution_count": 21,
     "metadata": {},
     "output_type": "execute_result"
    }
   ],
   "source": [
    "data.isnull().mean() * 100"
   ]
  },
  {
   "cell_type": "code",
   "execution_count": 22,
   "id": "49c960d7",
   "metadata": {
    "execution": {
     "iopub.execute_input": "2024-06-05T06:56:53.220824Z",
     "iopub.status.busy": "2024-06-05T06:56:53.220434Z",
     "iopub.status.idle": "2024-06-05T06:56:53.226051Z",
     "shell.execute_reply": "2024-06-05T06:56:53.224669Z"
    },
    "papermill": {
     "duration": 0.020454,
     "end_time": "2024-06-05T06:56:53.229803",
     "exception": false,
     "start_time": "2024-06-05T06:56:53.209349",
     "status": "completed"
    },
    "tags": []
   },
   "outputs": [],
   "source": [
    "X = data\n",
    "y = data['SalePrice']"
   ]
  },
  {
   "cell_type": "code",
   "execution_count": 23,
   "id": "90c71daa",
   "metadata": {
    "execution": {
     "iopub.execute_input": "2024-06-05T06:56:53.252127Z",
     "iopub.status.busy": "2024-06-05T06:56:53.251730Z",
     "iopub.status.idle": "2024-06-05T06:56:53.264853Z",
     "shell.execute_reply": "2024-06-05T06:56:53.263545Z"
    },
    "papermill": {
     "duration": 0.026867,
     "end_time": "2024-06-05T06:56:53.267370",
     "exception": false,
     "start_time": "2024-06-05T06:56:53.240503",
     "status": "completed"
    },
    "tags": []
   },
   "outputs": [
    {
     "data": {
      "text/html": [
       "<div>\n",
       "<style scoped>\n",
       "    .dataframe tbody tr th:only-of-type {\n",
       "        vertical-align: middle;\n",
       "    }\n",
       "\n",
       "    .dataframe tbody tr th {\n",
       "        vertical-align: top;\n",
       "    }\n",
       "\n",
       "    .dataframe thead th {\n",
       "        text-align: right;\n",
       "    }\n",
       "</style>\n",
       "<table border=\"1\" class=\"dataframe\">\n",
       "  <thead>\n",
       "    <tr style=\"text-align: right;\">\n",
       "      <th></th>\n",
       "      <th>FireplaceQu</th>\n",
       "      <th>GarageQual</th>\n",
       "      <th>SalePrice</th>\n",
       "    </tr>\n",
       "  </thead>\n",
       "  <tbody>\n",
       "    <tr>\n",
       "      <th>0</th>\n",
       "      <td>NaN</td>\n",
       "      <td>TA</td>\n",
       "      <td>208500</td>\n",
       "    </tr>\n",
       "    <tr>\n",
       "      <th>1</th>\n",
       "      <td>TA</td>\n",
       "      <td>TA</td>\n",
       "      <td>181500</td>\n",
       "    </tr>\n",
       "    <tr>\n",
       "      <th>2</th>\n",
       "      <td>TA</td>\n",
       "      <td>TA</td>\n",
       "      <td>223500</td>\n",
       "    </tr>\n",
       "    <tr>\n",
       "      <th>3</th>\n",
       "      <td>Gd</td>\n",
       "      <td>TA</td>\n",
       "      <td>140000</td>\n",
       "    </tr>\n",
       "    <tr>\n",
       "      <th>4</th>\n",
       "      <td>TA</td>\n",
       "      <td>TA</td>\n",
       "      <td>250000</td>\n",
       "    </tr>\n",
       "    <tr>\n",
       "      <th>...</th>\n",
       "      <td>...</td>\n",
       "      <td>...</td>\n",
       "      <td>...</td>\n",
       "    </tr>\n",
       "    <tr>\n",
       "      <th>1455</th>\n",
       "      <td>TA</td>\n",
       "      <td>TA</td>\n",
       "      <td>175000</td>\n",
       "    </tr>\n",
       "    <tr>\n",
       "      <th>1456</th>\n",
       "      <td>TA</td>\n",
       "      <td>TA</td>\n",
       "      <td>210000</td>\n",
       "    </tr>\n",
       "    <tr>\n",
       "      <th>1457</th>\n",
       "      <td>Gd</td>\n",
       "      <td>TA</td>\n",
       "      <td>266500</td>\n",
       "    </tr>\n",
       "    <tr>\n",
       "      <th>1458</th>\n",
       "      <td>NaN</td>\n",
       "      <td>TA</td>\n",
       "      <td>142125</td>\n",
       "    </tr>\n",
       "    <tr>\n",
       "      <th>1459</th>\n",
       "      <td>NaN</td>\n",
       "      <td>TA</td>\n",
       "      <td>147500</td>\n",
       "    </tr>\n",
       "  </tbody>\n",
       "</table>\n",
       "<p>1460 rows × 3 columns</p>\n",
       "</div>"
      ],
      "text/plain": [
       "     FireplaceQu GarageQual  SalePrice\n",
       "0            NaN         TA     208500\n",
       "1             TA         TA     181500\n",
       "2             TA         TA     223500\n",
       "3             Gd         TA     140000\n",
       "4             TA         TA     250000\n",
       "...          ...        ...        ...\n",
       "1455          TA         TA     175000\n",
       "1456          TA         TA     210000\n",
       "1457          Gd         TA     266500\n",
       "1458         NaN         TA     142125\n",
       "1459         NaN         TA     147500\n",
       "\n",
       "[1460 rows x 3 columns]"
      ]
     },
     "execution_count": 23,
     "metadata": {},
     "output_type": "execute_result"
    }
   ],
   "source": [
    "X"
   ]
  },
  {
   "cell_type": "code",
   "execution_count": 24,
   "id": "6e686540",
   "metadata": {
    "execution": {
     "iopub.execute_input": "2024-06-05T06:56:53.288913Z",
     "iopub.status.busy": "2024-06-05T06:56:53.288505Z",
     "iopub.status.idle": "2024-06-05T06:56:53.296138Z",
     "shell.execute_reply": "2024-06-05T06:56:53.294954Z"
    },
    "papermill": {
     "duration": 0.021169,
     "end_time": "2024-06-05T06:56:53.298522",
     "exception": false,
     "start_time": "2024-06-05T06:56:53.277353",
     "status": "completed"
    },
    "tags": []
   },
   "outputs": [],
   "source": [
    "X_train,X_test,y_train,y_test = train_test_split(X,y,test_size=0.2,random_state=2)"
   ]
  },
  {
   "cell_type": "code",
   "execution_count": 25,
   "id": "a799c153",
   "metadata": {
    "execution": {
     "iopub.execute_input": "2024-06-05T06:56:53.320500Z",
     "iopub.status.busy": "2024-06-05T06:56:53.320076Z",
     "iopub.status.idle": "2024-06-05T06:56:53.328050Z",
     "shell.execute_reply": "2024-06-05T06:56:53.326784Z"
    },
    "papermill": {
     "duration": 0.022025,
     "end_time": "2024-06-05T06:56:53.330901",
     "exception": false,
     "start_time": "2024-06-05T06:56:53.308876",
     "status": "completed"
    },
    "tags": []
   },
   "outputs": [],
   "source": [
    "X_train['GarageQual_imputed'] = X_train['GarageQual']\n",
    "X_test['GarageQual_imputed'] = X_test['GarageQual']\n",
    "\n",
    "X_train['FireplaceQu_imputed'] = X_train['FireplaceQu']\n",
    "X_test['FireplaceQu_imputed'] = X_test['FireplaceQu']"
   ]
  },
  {
   "cell_type": "code",
   "execution_count": 26,
   "id": "32e78c92",
   "metadata": {
    "execution": {
     "iopub.execute_input": "2024-06-05T06:56:53.355636Z",
     "iopub.status.busy": "2024-06-05T06:56:53.354387Z",
     "iopub.status.idle": "2024-06-05T06:56:53.369587Z",
     "shell.execute_reply": "2024-06-05T06:56:53.368370Z"
    },
    "papermill": {
     "duration": 0.030174,
     "end_time": "2024-06-05T06:56:53.372056",
     "exception": false,
     "start_time": "2024-06-05T06:56:53.341882",
     "status": "completed"
    },
    "tags": []
   },
   "outputs": [
    {
     "data": {
      "text/html": [
       "<div>\n",
       "<style scoped>\n",
       "    .dataframe tbody tr th:only-of-type {\n",
       "        vertical-align: middle;\n",
       "    }\n",
       "\n",
       "    .dataframe tbody tr th {\n",
       "        vertical-align: top;\n",
       "    }\n",
       "\n",
       "    .dataframe thead th {\n",
       "        text-align: right;\n",
       "    }\n",
       "</style>\n",
       "<table border=\"1\" class=\"dataframe\">\n",
       "  <thead>\n",
       "    <tr style=\"text-align: right;\">\n",
       "      <th></th>\n",
       "      <th>FireplaceQu</th>\n",
       "      <th>GarageQual</th>\n",
       "      <th>SalePrice</th>\n",
       "      <th>GarageQual_imputed</th>\n",
       "      <th>FireplaceQu_imputed</th>\n",
       "    </tr>\n",
       "  </thead>\n",
       "  <tbody>\n",
       "    <tr>\n",
       "      <th>613</th>\n",
       "      <td>NaN</td>\n",
       "      <td>NaN</td>\n",
       "      <td>147000</td>\n",
       "      <td>NaN</td>\n",
       "      <td>NaN</td>\n",
       "    </tr>\n",
       "    <tr>\n",
       "      <th>574</th>\n",
       "      <td>NaN</td>\n",
       "      <td>TA</td>\n",
       "      <td>139000</td>\n",
       "      <td>TA</td>\n",
       "      <td>NaN</td>\n",
       "    </tr>\n",
       "    <tr>\n",
       "      <th>44</th>\n",
       "      <td>NaN</td>\n",
       "      <td>TA</td>\n",
       "      <td>141000</td>\n",
       "      <td>TA</td>\n",
       "      <td>NaN</td>\n",
       "    </tr>\n",
       "    <tr>\n",
       "      <th>55</th>\n",
       "      <td>Gd</td>\n",
       "      <td>TA</td>\n",
       "      <td>180500</td>\n",
       "      <td>TA</td>\n",
       "      <td>Gd</td>\n",
       "    </tr>\n",
       "    <tr>\n",
       "      <th>700</th>\n",
       "      <td>Gd</td>\n",
       "      <td>TA</td>\n",
       "      <td>312500</td>\n",
       "      <td>TA</td>\n",
       "      <td>Gd</td>\n",
       "    </tr>\n",
       "  </tbody>\n",
       "</table>\n",
       "</div>"
      ],
      "text/plain": [
       "    FireplaceQu GarageQual  SalePrice GarageQual_imputed FireplaceQu_imputed\n",
       "613         NaN        NaN     147000                NaN                 NaN\n",
       "574         NaN         TA     139000                 TA                 NaN\n",
       "44          NaN         TA     141000                 TA                 NaN\n",
       "55           Gd         TA     180500                 TA                  Gd\n",
       "700          Gd         TA     312500                 TA                  Gd"
      ]
     },
     "execution_count": 26,
     "metadata": {},
     "output_type": "execute_result"
    }
   ],
   "source": [
    "X_train.sample(5)"
   ]
  },
  {
   "cell_type": "code",
   "execution_count": null,
   "id": "e838903d",
   "metadata": {
    "papermill": {
     "duration": 0.009689,
     "end_time": "2024-06-05T06:56:53.392164",
     "exception": false,
     "start_time": "2024-06-05T06:56:53.382475",
     "status": "completed"
    },
    "tags": []
   },
   "outputs": [],
   "source": []
  }
 ],
 "metadata": {
  "kaggle": {
   "accelerator": "none",
   "dataSources": [
    {
     "datasetId": 5006429,
     "sourceId": 8411652,
     "sourceType": "datasetVersion"
    },
    {
     "datasetId": 3484025,
     "sourceId": 6084836,
     "sourceType": "datasetVersion"
    }
   ],
   "dockerImageVersionId": 30732,
   "isGpuEnabled": false,
   "isInternetEnabled": false,
   "language": "python",
   "sourceType": "notebook"
  },
  "kernelspec": {
   "display_name": "Python 3",
   "language": "python",
   "name": "python3"
  },
  "language_info": {
   "codemirror_mode": {
    "name": "ipython",
    "version": 3
   },
   "file_extension": ".py",
   "mimetype": "text/x-python",
   "name": "python",
   "nbconvert_exporter": "python",
   "pygments_lexer": "ipython3",
   "version": "3.10.13"
  },
  "papermill": {
   "default_parameters": {},
   "duration": 7.945048,
   "end_time": "2024-06-05T06:56:54.023797",
   "environment_variables": {},
   "exception": null,
   "input_path": "__notebook__.ipynb",
   "output_path": "__notebook__.ipynb",
   "parameters": {},
   "start_time": "2024-06-05T06:56:46.078749",
   "version": "2.5.0"
  }
 },
 "nbformat": 4,
 "nbformat_minor": 5
}
