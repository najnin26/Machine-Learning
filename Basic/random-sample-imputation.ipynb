{
 "cells": [
  {
   "cell_type": "code",
   "execution_count": 1,
   "id": "925b5365",
   "metadata": {
    "_cell_guid": "b1076dfc-b9ad-4769-8c92-a6c4dae69d19",
    "_uuid": "8f2839f25d086af736a60e9eeb907d3b93b6e0e5",
    "execution": {
     "iopub.execute_input": "2024-06-05T06:12:09.524198Z",
     "iopub.status.busy": "2024-06-05T06:12:09.523780Z",
     "iopub.status.idle": "2024-06-05T06:12:12.138967Z",
     "shell.execute_reply": "2024-06-05T06:12:12.137747Z"
    },
    "papermill": {
     "duration": 2.624617,
     "end_time": "2024-06-05T06:12:12.142050",
     "exception": false,
     "start_time": "2024-06-05T06:12:09.517433",
     "status": "completed"
    },
    "tags": []
   },
   "outputs": [],
   "source": [
    "import numpy as np\n",
    "import pandas as pd\n",
    "\n",
    "from sklearn.model_selection import train_test_split\n",
    "\n",
    "import matplotlib.pyplot as plt\n",
    "import seaborn as sns"
   ]
  },
  {
   "cell_type": "code",
   "execution_count": 2,
   "id": "ee8630e9",
   "metadata": {
    "execution": {
     "iopub.execute_input": "2024-06-05T06:12:12.152363Z",
     "iopub.status.busy": "2024-06-05T06:12:12.151299Z",
     "iopub.status.idle": "2024-06-05T06:12:12.178525Z",
     "shell.execute_reply": "2024-06-05T06:12:12.177377Z"
    },
    "papermill": {
     "duration": 0.035596,
     "end_time": "2024-06-05T06:12:12.181736",
     "exception": false,
     "start_time": "2024-06-05T06:12:12.146140",
     "status": "completed"
    },
    "tags": []
   },
   "outputs": [],
   "source": [
    "df=pd.read_csv(\"/kaggle/input/titanic-toy/titanic_toy.csv\",usecols=['Age','Fare','Survived'])"
   ]
  },
  {
   "cell_type": "code",
   "execution_count": 3,
   "id": "5e495df2",
   "metadata": {
    "execution": {
     "iopub.execute_input": "2024-06-05T06:12:12.191347Z",
     "iopub.status.busy": "2024-06-05T06:12:12.190209Z",
     "iopub.status.idle": "2024-06-05T06:12:12.218808Z",
     "shell.execute_reply": "2024-06-05T06:12:12.217536Z"
    },
    "papermill": {
     "duration": 0.036833,
     "end_time": "2024-06-05T06:12:12.222047",
     "exception": false,
     "start_time": "2024-06-05T06:12:12.185214",
     "status": "completed"
    },
    "tags": []
   },
   "outputs": [
    {
     "data": {
      "text/html": [
       "<div>\n",
       "<style scoped>\n",
       "    .dataframe tbody tr th:only-of-type {\n",
       "        vertical-align: middle;\n",
       "    }\n",
       "\n",
       "    .dataframe tbody tr th {\n",
       "        vertical-align: top;\n",
       "    }\n",
       "\n",
       "    .dataframe thead th {\n",
       "        text-align: right;\n",
       "    }\n",
       "</style>\n",
       "<table border=\"1\" class=\"dataframe\">\n",
       "  <thead>\n",
       "    <tr style=\"text-align: right;\">\n",
       "      <th></th>\n",
       "      <th>Age</th>\n",
       "      <th>Fare</th>\n",
       "      <th>Survived</th>\n",
       "    </tr>\n",
       "  </thead>\n",
       "  <tbody>\n",
       "    <tr>\n",
       "      <th>0</th>\n",
       "      <td>22.0</td>\n",
       "      <td>7.2500</td>\n",
       "      <td>0</td>\n",
       "    </tr>\n",
       "    <tr>\n",
       "      <th>1</th>\n",
       "      <td>38.0</td>\n",
       "      <td>71.2833</td>\n",
       "      <td>1</td>\n",
       "    </tr>\n",
       "    <tr>\n",
       "      <th>2</th>\n",
       "      <td>26.0</td>\n",
       "      <td>7.9250</td>\n",
       "      <td>1</td>\n",
       "    </tr>\n",
       "  </tbody>\n",
       "</table>\n",
       "</div>"
      ],
      "text/plain": [
       "    Age     Fare  Survived\n",
       "0  22.0   7.2500         0\n",
       "1  38.0  71.2833         1\n",
       "2  26.0   7.9250         1"
      ]
     },
     "execution_count": 3,
     "metadata": {},
     "output_type": "execute_result"
    }
   ],
   "source": [
    "df.head(3)"
   ]
  },
  {
   "cell_type": "code",
   "execution_count": 4,
   "id": "71db2c08",
   "metadata": {
    "execution": {
     "iopub.execute_input": "2024-06-05T06:12:12.232245Z",
     "iopub.status.busy": "2024-06-05T06:12:12.231800Z",
     "iopub.status.idle": "2024-06-05T06:12:12.245008Z",
     "shell.execute_reply": "2024-06-05T06:12:12.243680Z"
    },
    "papermill": {
     "duration": 0.022029,
     "end_time": "2024-06-05T06:12:12.248169",
     "exception": false,
     "start_time": "2024-06-05T06:12:12.226140",
     "status": "completed"
    },
    "tags": []
   },
   "outputs": [
    {
     "data": {
      "text/plain": [
       "Age         19.865320\n",
       "Fare         5.050505\n",
       "Survived     0.000000\n",
       "dtype: float64"
      ]
     },
     "execution_count": 4,
     "metadata": {},
     "output_type": "execute_result"
    }
   ],
   "source": [
    "df.isnull().mean() * 100 "
   ]
  },
  {
   "cell_type": "code",
   "execution_count": 5,
   "id": "7ffda351",
   "metadata": {
    "execution": {
     "iopub.execute_input": "2024-06-05T06:12:12.259021Z",
     "iopub.status.busy": "2024-06-05T06:12:12.257956Z",
     "iopub.status.idle": "2024-06-05T06:12:12.269183Z",
     "shell.execute_reply": "2024-06-05T06:12:12.267848Z"
    },
    "papermill": {
     "duration": 0.01958,
     "end_time": "2024-06-05T06:12:12.271887",
     "exception": false,
     "start_time": "2024-06-05T06:12:12.252307",
     "status": "completed"
    },
    "tags": []
   },
   "outputs": [],
   "source": [
    "X = df.drop(columns=['Survived'])\n",
    "y = df['Survived']"
   ]
  },
  {
   "cell_type": "code",
   "execution_count": 6,
   "id": "93ea34fb",
   "metadata": {
    "execution": {
     "iopub.execute_input": "2024-06-05T06:12:12.282164Z",
     "iopub.status.busy": "2024-06-05T06:12:12.281723Z",
     "iopub.status.idle": "2024-06-05T06:12:12.292929Z",
     "shell.execute_reply": "2024-06-05T06:12:12.291738Z"
    },
    "papermill": {
     "duration": 0.019644,
     "end_time": "2024-06-05T06:12:12.295693",
     "exception": false,
     "start_time": "2024-06-05T06:12:12.276049",
     "status": "completed"
    },
    "tags": []
   },
   "outputs": [],
   "source": [
    "X_train,X_test,y_train,y_test = train_test_split(X,y,test_size=0.2,random_state=2)"
   ]
  },
  {
   "cell_type": "code",
   "execution_count": null,
   "id": "8c2d9fbe",
   "metadata": {
    "papermill": {
     "duration": 0.003521,
     "end_time": "2024-06-05T06:12:12.303338",
     "exception": false,
     "start_time": "2024-06-05T06:12:12.299817",
     "status": "completed"
    },
    "tags": []
   },
   "outputs": [],
   "source": []
  }
 ],
 "metadata": {
  "kaggle": {
   "accelerator": "none",
   "dataSources": [
    {
     "datasetId": 3484025,
     "sourceId": 6084836,
     "sourceType": "datasetVersion"
    },
    {
     "datasetId": 5006429,
     "sourceId": 8411652,
     "sourceType": "datasetVersion"
    }
   ],
   "dockerImageVersionId": 30732,
   "isGpuEnabled": false,
   "isInternetEnabled": false,
   "language": "python",
   "sourceType": "notebook"
  },
  "kernelspec": {
   "display_name": "Python 3",
   "language": "python",
   "name": "python3"
  },
  "language_info": {
   "codemirror_mode": {
    "name": "ipython",
    "version": 3
   },
   "file_extension": ".py",
   "mimetype": "text/x-python",
   "name": "python",
   "nbconvert_exporter": "python",
   "pygments_lexer": "ipython3",
   "version": "3.10.13"
  },
  "papermill": {
   "default_parameters": {},
   "duration": 6.84397,
   "end_time": "2024-06-05T06:12:13.031725",
   "environment_variables": {},
   "exception": null,
   "input_path": "__notebook__.ipynb",
   "output_path": "__notebook__.ipynb",
   "parameters": {},
   "start_time": "2024-06-05T06:12:06.187755",
   "version": "2.5.0"
  }
 },
 "nbformat": 4,
 "nbformat_minor": 5
}
