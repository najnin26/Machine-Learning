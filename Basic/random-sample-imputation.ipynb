{
 "cells": [
  {
   "cell_type": "markdown",
   "id": "d8a342fb",
   "metadata": {
    "papermill": {
     "duration": 0.008219,
     "end_time": "2024-06-05T07:12:12.929660",
     "exception": false,
     "start_time": "2024-06-05T07:12:12.921441",
     "status": "completed"
    },
    "tags": []
   },
   "source": [
    "# Numerical Data"
   ]
  },
  {
   "cell_type": "code",
   "execution_count": 1,
   "id": "0db54ad4",
   "metadata": {
    "_cell_guid": "b1076dfc-b9ad-4769-8c92-a6c4dae69d19",
    "_uuid": "8f2839f25d086af736a60e9eeb907d3b93b6e0e5",
    "execution": {
     "iopub.execute_input": "2024-06-05T07:12:12.947598Z",
     "iopub.status.busy": "2024-06-05T07:12:12.946822Z",
     "iopub.status.idle": "2024-06-05T07:12:15.429770Z",
     "shell.execute_reply": "2024-06-05T07:12:15.428696Z"
    },
    "papermill": {
     "duration": 2.49455,
     "end_time": "2024-06-05T07:12:15.432279",
     "exception": false,
     "start_time": "2024-06-05T07:12:12.937729",
     "status": "completed"
    },
    "tags": []
   },
   "outputs": [],
   "source": [
    "import numpy as np\n",
    "import pandas as pd\n",
    "\n",
    "from sklearn.model_selection import train_test_split\n",
    "\n",
    "import matplotlib.pyplot as plt\n",
    "import seaborn as sns"
   ]
  },
  {
   "cell_type": "code",
   "execution_count": 2,
   "id": "ee0e03cc",
   "metadata": {
    "execution": {
     "iopub.execute_input": "2024-06-05T07:12:15.449496Z",
     "iopub.status.busy": "2024-06-05T07:12:15.448966Z",
     "iopub.status.idle": "2024-06-05T07:12:15.475562Z",
     "shell.execute_reply": "2024-06-05T07:12:15.474464Z"
    },
    "papermill": {
     "duration": 0.037855,
     "end_time": "2024-06-05T07:12:15.478059",
     "exception": false,
     "start_time": "2024-06-05T07:12:15.440204",
     "status": "completed"
    },
    "tags": []
   },
   "outputs": [],
   "source": [
    "df=pd.read_csv(\"/kaggle/input/titanic-toy/titanic_toy.csv\",usecols=['Age','Fare','Survived'])"
   ]
  },
  {
   "cell_type": "code",
   "execution_count": 3,
   "id": "3aee712a",
   "metadata": {
    "execution": {
     "iopub.execute_input": "2024-06-05T07:12:15.495601Z",
     "iopub.status.busy": "2024-06-05T07:12:15.495166Z",
     "iopub.status.idle": "2024-06-05T07:12:15.517777Z",
     "shell.execute_reply": "2024-06-05T07:12:15.516587Z"
    },
    "papermill": {
     "duration": 0.033798,
     "end_time": "2024-06-05T07:12:15.520072",
     "exception": false,
     "start_time": "2024-06-05T07:12:15.486274",
     "status": "completed"
    },
    "tags": []
   },
   "outputs": [
    {
     "data": {
      "text/html": [
       "<div>\n",
       "<style scoped>\n",
       "    .dataframe tbody tr th:only-of-type {\n",
       "        vertical-align: middle;\n",
       "    }\n",
       "\n",
       "    .dataframe tbody tr th {\n",
       "        vertical-align: top;\n",
       "    }\n",
       "\n",
       "    .dataframe thead th {\n",
       "        text-align: right;\n",
       "    }\n",
       "</style>\n",
       "<table border=\"1\" class=\"dataframe\">\n",
       "  <thead>\n",
       "    <tr style=\"text-align: right;\">\n",
       "      <th></th>\n",
       "      <th>Age</th>\n",
       "      <th>Fare</th>\n",
       "      <th>Survived</th>\n",
       "    </tr>\n",
       "  </thead>\n",
       "  <tbody>\n",
       "    <tr>\n",
       "      <th>0</th>\n",
       "      <td>22.0</td>\n",
       "      <td>7.2500</td>\n",
       "      <td>0</td>\n",
       "    </tr>\n",
       "    <tr>\n",
       "      <th>1</th>\n",
       "      <td>38.0</td>\n",
       "      <td>71.2833</td>\n",
       "      <td>1</td>\n",
       "    </tr>\n",
       "    <tr>\n",
       "      <th>2</th>\n",
       "      <td>26.0</td>\n",
       "      <td>7.9250</td>\n",
       "      <td>1</td>\n",
       "    </tr>\n",
       "  </tbody>\n",
       "</table>\n",
       "</div>"
      ],
      "text/plain": [
       "    Age     Fare  Survived\n",
       "0  22.0   7.2500         0\n",
       "1  38.0  71.2833         1\n",
       "2  26.0   7.9250         1"
      ]
     },
     "execution_count": 3,
     "metadata": {},
     "output_type": "execute_result"
    }
   ],
   "source": [
    "df.head(3)"
   ]
  },
  {
   "cell_type": "code",
   "execution_count": 4,
   "id": "df87f837",
   "metadata": {
    "execution": {
     "iopub.execute_input": "2024-06-05T07:12:15.538108Z",
     "iopub.status.busy": "2024-06-05T07:12:15.537347Z",
     "iopub.status.idle": "2024-06-05T07:12:15.547810Z",
     "shell.execute_reply": "2024-06-05T07:12:15.546820Z"
    },
    "papermill": {
     "duration": 0.021528,
     "end_time": "2024-06-05T07:12:15.549898",
     "exception": false,
     "start_time": "2024-06-05T07:12:15.528370",
     "status": "completed"
    },
    "tags": []
   },
   "outputs": [
    {
     "data": {
      "text/plain": [
       "Age         19.865320\n",
       "Fare         5.050505\n",
       "Survived     0.000000\n",
       "dtype: float64"
      ]
     },
     "execution_count": 4,
     "metadata": {},
     "output_type": "execute_result"
    }
   ],
   "source": [
    "df.isnull().mean() * 100 "
   ]
  },
  {
   "cell_type": "code",
   "execution_count": 5,
   "id": "b8640aff",
   "metadata": {
    "execution": {
     "iopub.execute_input": "2024-06-05T07:12:15.567443Z",
     "iopub.status.busy": "2024-06-05T07:12:15.567030Z",
     "iopub.status.idle": "2024-06-05T07:12:15.577099Z",
     "shell.execute_reply": "2024-06-05T07:12:15.576075Z"
    },
    "papermill": {
     "duration": 0.021412,
     "end_time": "2024-06-05T07:12:15.579339",
     "exception": false,
     "start_time": "2024-06-05T07:12:15.557927",
     "status": "completed"
    },
    "tags": []
   },
   "outputs": [],
   "source": [
    "X = df.drop(columns=['Survived'])\n",
    "y = df['Survived']"
   ]
  },
  {
   "cell_type": "code",
   "execution_count": 6,
   "id": "5a2535bd",
   "metadata": {
    "execution": {
     "iopub.execute_input": "2024-06-05T07:12:15.597206Z",
     "iopub.status.busy": "2024-06-05T07:12:15.596816Z",
     "iopub.status.idle": "2024-06-05T07:12:15.606297Z",
     "shell.execute_reply": "2024-06-05T07:12:15.605251Z"
    },
    "papermill": {
     "duration": 0.021148,
     "end_time": "2024-06-05T07:12:15.608739",
     "exception": false,
     "start_time": "2024-06-05T07:12:15.587591",
     "status": "completed"
    },
    "tags": []
   },
   "outputs": [],
   "source": [
    "X_train,X_test,y_train,y_test = train_test_split(X,y,test_size=0.2,random_state=2)"
   ]
  },
  {
   "cell_type": "code",
   "execution_count": 7,
   "id": "0d2c9ea2",
   "metadata": {
    "execution": {
     "iopub.execute_input": "2024-06-05T07:12:15.626642Z",
     "iopub.status.busy": "2024-06-05T07:12:15.626272Z",
     "iopub.status.idle": "2024-06-05T07:12:15.638553Z",
     "shell.execute_reply": "2024-06-05T07:12:15.637468Z"
    },
    "papermill": {
     "duration": 0.023711,
     "end_time": "2024-06-05T07:12:15.640731",
     "exception": false,
     "start_time": "2024-06-05T07:12:15.617020",
     "status": "completed"
    },
    "tags": []
   },
   "outputs": [
    {
     "data": {
      "text/html": [
       "<div>\n",
       "<style scoped>\n",
       "    .dataframe tbody tr th:only-of-type {\n",
       "        vertical-align: middle;\n",
       "    }\n",
       "\n",
       "    .dataframe tbody tr th {\n",
       "        vertical-align: top;\n",
       "    }\n",
       "\n",
       "    .dataframe thead th {\n",
       "        text-align: right;\n",
       "    }\n",
       "</style>\n",
       "<table border=\"1\" class=\"dataframe\">\n",
       "  <thead>\n",
       "    <tr style=\"text-align: right;\">\n",
       "      <th></th>\n",
       "      <th>Age</th>\n",
       "      <th>Fare</th>\n",
       "    </tr>\n",
       "  </thead>\n",
       "  <tbody>\n",
       "    <tr>\n",
       "      <th>30</th>\n",
       "      <td>40.0</td>\n",
       "      <td>27.7208</td>\n",
       "    </tr>\n",
       "    <tr>\n",
       "      <th>10</th>\n",
       "      <td>4.0</td>\n",
       "      <td>16.7000</td>\n",
       "    </tr>\n",
       "    <tr>\n",
       "      <th>873</th>\n",
       "      <td>47.0</td>\n",
       "      <td>9.0000</td>\n",
       "    </tr>\n",
       "    <tr>\n",
       "      <th>182</th>\n",
       "      <td>9.0</td>\n",
       "      <td>31.3875</td>\n",
       "    </tr>\n",
       "    <tr>\n",
       "      <th>876</th>\n",
       "      <td>20.0</td>\n",
       "      <td>9.8458</td>\n",
       "    </tr>\n",
       "    <tr>\n",
       "      <th>...</th>\n",
       "      <td>...</td>\n",
       "      <td>...</td>\n",
       "    </tr>\n",
       "    <tr>\n",
       "      <th>534</th>\n",
       "      <td>30.0</td>\n",
       "      <td>8.6625</td>\n",
       "    </tr>\n",
       "    <tr>\n",
       "      <th>584</th>\n",
       "      <td>NaN</td>\n",
       "      <td>8.7125</td>\n",
       "    </tr>\n",
       "    <tr>\n",
       "      <th>493</th>\n",
       "      <td>71.0</td>\n",
       "      <td>49.5042</td>\n",
       "    </tr>\n",
       "    <tr>\n",
       "      <th>527</th>\n",
       "      <td>NaN</td>\n",
       "      <td>221.7792</td>\n",
       "    </tr>\n",
       "    <tr>\n",
       "      <th>168</th>\n",
       "      <td>NaN</td>\n",
       "      <td>25.9250</td>\n",
       "    </tr>\n",
       "  </tbody>\n",
       "</table>\n",
       "<p>712 rows × 2 columns</p>\n",
       "</div>"
      ],
      "text/plain": [
       "      Age      Fare\n",
       "30   40.0   27.7208\n",
       "10    4.0   16.7000\n",
       "873  47.0    9.0000\n",
       "182   9.0   31.3875\n",
       "876  20.0    9.8458\n",
       "..    ...       ...\n",
       "534  30.0    8.6625\n",
       "584   NaN    8.7125\n",
       "493  71.0   49.5042\n",
       "527   NaN  221.7792\n",
       "168   NaN   25.9250\n",
       "\n",
       "[712 rows x 2 columns]"
      ]
     },
     "execution_count": 7,
     "metadata": {},
     "output_type": "execute_result"
    }
   ],
   "source": [
    "X_train"
   ]
  },
  {
   "cell_type": "code",
   "execution_count": 8,
   "id": "25a5d3e1",
   "metadata": {
    "execution": {
     "iopub.execute_input": "2024-06-05T07:12:15.659129Z",
     "iopub.status.busy": "2024-06-05T07:12:15.658180Z",
     "iopub.status.idle": "2024-06-05T07:12:15.664498Z",
     "shell.execute_reply": "2024-06-05T07:12:15.663478Z"
    },
    "papermill": {
     "duration": 0.017981,
     "end_time": "2024-06-05T07:12:15.666867",
     "exception": false,
     "start_time": "2024-06-05T07:12:15.648886",
     "status": "completed"
    },
    "tags": []
   },
   "outputs": [],
   "source": [
    "X_train['Age_imputed'] = X_train['Age']\n",
    "X_test['Age_imputed'] = X_test['Age']"
   ]
  },
  {
   "cell_type": "code",
   "execution_count": 9,
   "id": "741a1588",
   "metadata": {
    "execution": {
     "iopub.execute_input": "2024-06-05T07:12:15.688219Z",
     "iopub.status.busy": "2024-06-05T07:12:15.687301Z",
     "iopub.status.idle": "2024-06-05T07:12:15.699440Z",
     "shell.execute_reply": "2024-06-05T07:12:15.698460Z"
    },
    "papermill": {
     "duration": 0.02396,
     "end_time": "2024-06-05T07:12:15.701461",
     "exception": false,
     "start_time": "2024-06-05T07:12:15.677501",
     "status": "completed"
    },
    "tags": []
   },
   "outputs": [
    {
     "data": {
      "text/html": [
       "<div>\n",
       "<style scoped>\n",
       "    .dataframe tbody tr th:only-of-type {\n",
       "        vertical-align: middle;\n",
       "    }\n",
       "\n",
       "    .dataframe tbody tr th {\n",
       "        vertical-align: top;\n",
       "    }\n",
       "\n",
       "    .dataframe thead th {\n",
       "        text-align: right;\n",
       "    }\n",
       "</style>\n",
       "<table border=\"1\" class=\"dataframe\">\n",
       "  <thead>\n",
       "    <tr style=\"text-align: right;\">\n",
       "      <th></th>\n",
       "      <th>Age</th>\n",
       "      <th>Fare</th>\n",
       "      <th>Age_imputed</th>\n",
       "    </tr>\n",
       "  </thead>\n",
       "  <tbody>\n",
       "    <tr>\n",
       "      <th>89</th>\n",
       "      <td>24.0</td>\n",
       "      <td>8.0500</td>\n",
       "      <td>24.0</td>\n",
       "    </tr>\n",
       "    <tr>\n",
       "      <th>80</th>\n",
       "      <td>22.0</td>\n",
       "      <td>9.0000</td>\n",
       "      <td>22.0</td>\n",
       "    </tr>\n",
       "    <tr>\n",
       "      <th>846</th>\n",
       "      <td>NaN</td>\n",
       "      <td>69.5500</td>\n",
       "      <td>NaN</td>\n",
       "    </tr>\n",
       "    <tr>\n",
       "      <th>870</th>\n",
       "      <td>26.0</td>\n",
       "      <td>7.8958</td>\n",
       "      <td>26.0</td>\n",
       "    </tr>\n",
       "    <tr>\n",
       "      <th>251</th>\n",
       "      <td>29.0</td>\n",
       "      <td>NaN</td>\n",
       "      <td>29.0</td>\n",
       "    </tr>\n",
       "  </tbody>\n",
       "</table>\n",
       "</div>"
      ],
      "text/plain": [
       "      Age     Fare  Age_imputed\n",
       "89   24.0   8.0500         24.0\n",
       "80   22.0   9.0000         22.0\n",
       "846   NaN  69.5500          NaN\n",
       "870  26.0   7.8958         26.0\n",
       "251  29.0      NaN         29.0"
      ]
     },
     "execution_count": 9,
     "metadata": {},
     "output_type": "execute_result"
    }
   ],
   "source": [
    "X_test.tail()"
   ]
  },
  {
   "cell_type": "code",
   "execution_count": 10,
   "id": "f01a8a04",
   "metadata": {
    "execution": {
     "iopub.execute_input": "2024-06-05T07:12:15.720867Z",
     "iopub.status.busy": "2024-06-05T07:12:15.719912Z",
     "iopub.status.idle": "2024-06-05T07:12:15.728651Z",
     "shell.execute_reply": "2024-06-05T07:12:15.727559Z"
    },
    "papermill": {
     "duration": 0.020498,
     "end_time": "2024-06-05T07:12:15.730872",
     "exception": false,
     "start_time": "2024-06-05T07:12:15.710374",
     "status": "completed"
    },
    "tags": []
   },
   "outputs": [
    {
     "data": {
      "text/plain": [
       "77    NaN\n",
       "868   NaN\n",
       "334   NaN\n",
       "295   NaN\n",
       "792   NaN\n",
       "       ..\n",
       "674   NaN\n",
       "466   NaN\n",
       "584   NaN\n",
       "527   NaN\n",
       "168   NaN\n",
       "Name: Age_imputed, Length: 148, dtype: float64"
      ]
     },
     "execution_count": 10,
     "metadata": {},
     "output_type": "execute_result"
    }
   ],
   "source": [
    "X_train['Age_imputed'][X_train['Age_imputed'].isnull()]"
   ]
  },
  {
   "cell_type": "code",
   "execution_count": 11,
   "id": "0e76dc5a",
   "metadata": {
    "execution": {
     "iopub.execute_input": "2024-06-05T07:12:15.750069Z",
     "iopub.status.busy": "2024-06-05T07:12:15.749111Z",
     "iopub.status.idle": "2024-06-05T07:12:15.759714Z",
     "shell.execute_reply": "2024-06-05T07:12:15.758696Z"
    },
    "papermill": {
     "duration": 0.022386,
     "end_time": "2024-06-05T07:12:15.761868",
     "exception": false,
     "start_time": "2024-06-05T07:12:15.739482",
     "status": "completed"
    },
    "tags": []
   },
   "outputs": [
    {
     "data": {
      "text/plain": [
       "array([19. , 48. , 21. , 17. , 30. , 45. , 27. , 51. , 52. , 26. , 54. ,\n",
       "       29. , 28. , 28. , 14. ,  9. , 29. , 34. , 31. , 28. , 12. , 24. ,\n",
       "       16. , 26. , 41. , 32. , 39. , 58. , 45.5, 21. , 25. , 18. , 17. ,\n",
       "       45. , 39. , 18. , 32. , 60. , 23. , 20. ,  2. , 36. , 19. , 22. ,\n",
       "       20. , 59. , 21. , 62. , 59. , 54. , 15. , 35. , 40. , 40. , 19. ,\n",
       "       25. , 20. , 28. , 37. , 26. , 25. , 25. , 70.5, 30. , 29. , 34. ,\n",
       "       16. , 21. , 45. , 34. , 39. , 33. , 32. , 27. , 25. , 30. , 54. ,\n",
       "       35. , 30. , 29. , 13. , 29. , 23. , 49. , 20. , 38. , 37. ,  4. ,\n",
       "       40. , 30. , 38. , 26. , 25. , 53. , 20. , 26. , 40.5, 31. , 28. ,\n",
       "       21. , 45.5,  9. , 35. , 46. , 31. , 27. , 19. , 52. , 62. , 40. ,\n",
       "        6. , 11. ,  3. , 19. , 28.5, 24. , 32. , 24. , 16. , 26. , 44. ,\n",
       "       18. , 32. , 16. , 50. , 62. , 27. ,  4. , 19. , 18. , 31. , 34. ,\n",
       "       40. , 22. , 28. , 17. , 32. , 21. , 16. , 24. , 43. , 56. , 31. ,\n",
       "       30. , 43. ,  1. , 27. , 25. ])"
      ]
     },
     "execution_count": 11,
     "metadata": {},
     "output_type": "execute_result"
    }
   ],
   "source": [
    "X_train['Age'].dropna().sample(X_train['Age'].isnull().sum()).values"
   ]
  },
  {
   "cell_type": "code",
   "execution_count": 12,
   "id": "fe1d9c9e",
   "metadata": {
    "execution": {
     "iopub.execute_input": "2024-06-05T07:12:15.781030Z",
     "iopub.status.busy": "2024-06-05T07:12:15.780357Z",
     "iopub.status.idle": "2024-06-05T07:12:15.792424Z",
     "shell.execute_reply": "2024-06-05T07:12:15.791299Z"
    },
    "papermill": {
     "duration": 0.024398,
     "end_time": "2024-06-05T07:12:15.794964",
     "exception": false,
     "start_time": "2024-06-05T07:12:15.770566",
     "status": "completed"
    },
    "tags": []
   },
   "outputs": [
    {
     "name": "stderr",
     "output_type": "stream",
     "text": [
      "/tmp/ipykernel_18/4072170967.py:1: FutureWarning: ChainedAssignmentError: behaviour will change in pandas 3.0!\n",
      "You are setting values through chained assignment. Currently this works in certain cases, but when using Copy-on-Write (which will become the default behaviour in pandas 3.0) this will never work to update the original DataFrame or Series, because the intermediate object on which we are setting values will behave as a copy.\n",
      "A typical example is when you are setting values in a column of a DataFrame, like:\n",
      "\n",
      "df[\"col\"][row_indexer] = value\n",
      "\n",
      "Use `df.loc[row_indexer, \"col\"] = values` instead, to perform the assignment in a single step and ensure this keeps updating the original `df`.\n",
      "\n",
      "See the caveats in the documentation: https://pandas.pydata.org/pandas-docs/stable/user_guide/indexing.html#returning-a-view-versus-a-copy\n",
      "\n",
      "  X_train['Age_imputed'][X_train['Age_imputed'].isnull()]=X_train['Age'].dropna().sample(X_train['Age'].isnull().sum()).values\n",
      "/tmp/ipykernel_18/4072170967.py:2: FutureWarning: ChainedAssignmentError: behaviour will change in pandas 3.0!\n",
      "You are setting values through chained assignment. Currently this works in certain cases, but when using Copy-on-Write (which will become the default behaviour in pandas 3.0) this will never work to update the original DataFrame or Series, because the intermediate object on which we are setting values will behave as a copy.\n",
      "A typical example is when you are setting values in a column of a DataFrame, like:\n",
      "\n",
      "df[\"col\"][row_indexer] = value\n",
      "\n",
      "Use `df.loc[row_indexer, \"col\"] = values` instead, to perform the assignment in a single step and ensure this keeps updating the original `df`.\n",
      "\n",
      "See the caveats in the documentation: https://pandas.pydata.org/pandas-docs/stable/user_guide/indexing.html#returning-a-view-versus-a-copy\n",
      "\n",
      "  X_test['Age_imputed'][X_test['Age_imputed'].isnull()] = X_train['Age'].dropna().sample(X_test['Age'].isnull().sum()).values\n"
     ]
    }
   ],
   "source": [
    "X_train['Age_imputed'][X_train['Age_imputed'].isnull()]=X_train['Age'].dropna().sample(X_train['Age'].isnull().sum()).values\n",
    "X_test['Age_imputed'][X_test['Age_imputed'].isnull()] = X_train['Age'].dropna().sample(X_test['Age'].isnull().sum()).values"
   ]
  },
  {
   "cell_type": "code",
   "execution_count": 13,
   "id": "8f4317c3",
   "metadata": {
    "execution": {
     "iopub.execute_input": "2024-06-05T07:12:15.815145Z",
     "iopub.status.busy": "2024-06-05T07:12:15.814263Z",
     "iopub.status.idle": "2024-06-05T07:12:15.827150Z",
     "shell.execute_reply": "2024-06-05T07:12:15.826197Z"
    },
    "papermill": {
     "duration": 0.025435,
     "end_time": "2024-06-05T07:12:15.829523",
     "exception": false,
     "start_time": "2024-06-05T07:12:15.804088",
     "status": "completed"
    },
    "tags": []
   },
   "outputs": [
    {
     "data": {
      "text/html": [
       "<div>\n",
       "<style scoped>\n",
       "    .dataframe tbody tr th:only-of-type {\n",
       "        vertical-align: middle;\n",
       "    }\n",
       "\n",
       "    .dataframe tbody tr th {\n",
       "        vertical-align: top;\n",
       "    }\n",
       "\n",
       "    .dataframe thead th {\n",
       "        text-align: right;\n",
       "    }\n",
       "</style>\n",
       "<table border=\"1\" class=\"dataframe\">\n",
       "  <thead>\n",
       "    <tr style=\"text-align: right;\">\n",
       "      <th></th>\n",
       "      <th>Age</th>\n",
       "      <th>Fare</th>\n",
       "      <th>Age_imputed</th>\n",
       "    </tr>\n",
       "  </thead>\n",
       "  <tbody>\n",
       "    <tr>\n",
       "      <th>30</th>\n",
       "      <td>40.0</td>\n",
       "      <td>27.7208</td>\n",
       "      <td>40.0</td>\n",
       "    </tr>\n",
       "    <tr>\n",
       "      <th>10</th>\n",
       "      <td>4.0</td>\n",
       "      <td>16.7000</td>\n",
       "      <td>4.0</td>\n",
       "    </tr>\n",
       "    <tr>\n",
       "      <th>873</th>\n",
       "      <td>47.0</td>\n",
       "      <td>9.0000</td>\n",
       "      <td>47.0</td>\n",
       "    </tr>\n",
       "    <tr>\n",
       "      <th>182</th>\n",
       "      <td>9.0</td>\n",
       "      <td>31.3875</td>\n",
       "      <td>9.0</td>\n",
       "    </tr>\n",
       "    <tr>\n",
       "      <th>876</th>\n",
       "      <td>20.0</td>\n",
       "      <td>9.8458</td>\n",
       "      <td>20.0</td>\n",
       "    </tr>\n",
       "    <tr>\n",
       "      <th>...</th>\n",
       "      <td>...</td>\n",
       "      <td>...</td>\n",
       "      <td>...</td>\n",
       "    </tr>\n",
       "    <tr>\n",
       "      <th>534</th>\n",
       "      <td>30.0</td>\n",
       "      <td>8.6625</td>\n",
       "      <td>30.0</td>\n",
       "    </tr>\n",
       "    <tr>\n",
       "      <th>584</th>\n",
       "      <td>NaN</td>\n",
       "      <td>8.7125</td>\n",
       "      <td>16.0</td>\n",
       "    </tr>\n",
       "    <tr>\n",
       "      <th>493</th>\n",
       "      <td>71.0</td>\n",
       "      <td>49.5042</td>\n",
       "      <td>71.0</td>\n",
       "    </tr>\n",
       "    <tr>\n",
       "      <th>527</th>\n",
       "      <td>NaN</td>\n",
       "      <td>221.7792</td>\n",
       "      <td>42.0</td>\n",
       "    </tr>\n",
       "    <tr>\n",
       "      <th>168</th>\n",
       "      <td>NaN</td>\n",
       "      <td>25.9250</td>\n",
       "      <td>36.0</td>\n",
       "    </tr>\n",
       "  </tbody>\n",
       "</table>\n",
       "<p>712 rows × 3 columns</p>\n",
       "</div>"
      ],
      "text/plain": [
       "      Age      Fare  Age_imputed\n",
       "30   40.0   27.7208         40.0\n",
       "10    4.0   16.7000          4.0\n",
       "873  47.0    9.0000         47.0\n",
       "182   9.0   31.3875          9.0\n",
       "876  20.0    9.8458         20.0\n",
       "..    ...       ...          ...\n",
       "534  30.0    8.6625         30.0\n",
       "584   NaN    8.7125         16.0\n",
       "493  71.0   49.5042         71.0\n",
       "527   NaN  221.7792         42.0\n",
       "168   NaN   25.9250         36.0\n",
       "\n",
       "[712 rows x 3 columns]"
      ]
     },
     "execution_count": 13,
     "metadata": {},
     "output_type": "execute_result"
    }
   ],
   "source": [
    "X_train"
   ]
  },
  {
   "cell_type": "code",
   "execution_count": 14,
   "id": "a3b59983",
   "metadata": {
    "execution": {
     "iopub.execute_input": "2024-06-05T07:12:15.849396Z",
     "iopub.status.busy": "2024-06-05T07:12:15.848993Z",
     "iopub.status.idle": "2024-06-05T07:12:16.252608Z",
     "shell.execute_reply": "2024-06-05T07:12:16.251473Z"
    },
    "papermill": {
     "duration": 0.416363,
     "end_time": "2024-06-05T07:12:16.255189",
     "exception": false,
     "start_time": "2024-06-05T07:12:15.838826",
     "status": "completed"
    },
    "tags": []
   },
   "outputs": [
    {
     "name": "stderr",
     "output_type": "stream",
     "text": [
      "/tmp/ipykernel_18/2642582470.py:1: UserWarning: \n",
      "\n",
      "`distplot` is a deprecated function and will be removed in seaborn v0.14.0.\n",
      "\n",
      "Please adapt your code to use either `displot` (a figure-level function with\n",
      "similar flexibility) or `kdeplot` (an axes-level function for kernel density plots).\n",
      "\n",
      "For a guide to updating your code to use the new functions, please see\n",
      "https://gist.github.com/mwaskom/de44147ed2974457ad6372750bbe5751\n",
      "\n",
      "  sns.distplot(X_train['Age'],label='Original',hist=False)\n",
      "/opt/conda/lib/python3.10/site-packages/seaborn/_oldcore.py:1119: FutureWarning: use_inf_as_na option is deprecated and will be removed in a future version. Convert inf values to NaN before operating instead.\n",
      "  with pd.option_context('mode.use_inf_as_na', True):\n",
      "/tmp/ipykernel_18/2642582470.py:2: UserWarning: \n",
      "\n",
      "`distplot` is a deprecated function and will be removed in seaborn v0.14.0.\n",
      "\n",
      "Please adapt your code to use either `displot` (a figure-level function with\n",
      "similar flexibility) or `kdeplot` (an axes-level function for kernel density plots).\n",
      "\n",
      "For a guide to updating your code to use the new functions, please see\n",
      "https://gist.github.com/mwaskom/de44147ed2974457ad6372750bbe5751\n",
      "\n",
      "  sns.distplot(X_train['Age_imputed'],label = 'Imputed',hist=False)\n",
      "/opt/conda/lib/python3.10/site-packages/seaborn/_oldcore.py:1119: FutureWarning: use_inf_as_na option is deprecated and will be removed in a future version. Convert inf values to NaN before operating instead.\n",
      "  with pd.option_context('mode.use_inf_as_na', True):\n"
     ]
    },
    {
     "data": {
      "image/png": "[encoded data removed]",
      "text/plain": [
       "<Figure size 640x480 with 1 Axes>"
      ]
     },
     "metadata": {},
     "output_type": "display_data"
    }
   ],
   "source": [
    "sns.distplot(X_train['Age'],label='Original',hist=False)\n",
    "sns.distplot(X_train['Age_imputed'],label = 'Imputed',hist=False)\n",
    "\n",
    "plt.legend()\n",
    "plt.show()"
   ]
  },
  {
   "cell_type": "code",
   "execution_count": 15,
   "id": "783b45ea",
   "metadata": {
    "execution": {
     "iopub.execute_input": "2024-06-05T07:12:16.277357Z",
     "iopub.status.busy": "2024-06-05T07:12:16.276591Z",
     "iopub.status.idle": "2024-06-05T07:12:16.283530Z",
     "shell.execute_reply": "2024-06-05T07:12:16.282316Z"
    },
    "papermill": {
     "duration": 0.020388,
     "end_time": "2024-06-05T07:12:16.285740",
     "exception": false,
     "start_time": "2024-06-05T07:12:16.265352",
     "status": "completed"
    },
    "tags": []
   },
   "outputs": [
    {
     "name": "stdout",
     "output_type": "stream",
     "text": [
      "Original variable variance:  204.34951339046142\n",
      "Variance after random imputation:  211.5163068529844\n"
     ]
    }
   ],
   "source": [
    "print('Original variable variance: ', X_train['Age'].var())\n",
    "print('Variance after random imputation: ', X_train['Age_imputed'].var())"
   ]
  },
  {
   "cell_type": "code",
   "execution_count": 16,
   "id": "5ba351fb",
   "metadata": {
    "execution": {
     "iopub.execute_input": "2024-06-05T07:12:16.308113Z",
     "iopub.status.busy": "2024-06-05T07:12:16.307261Z",
     "iopub.status.idle": "2024-06-05T07:12:16.319964Z",
     "shell.execute_reply": "2024-06-05T07:12:16.318962Z"
    },
    "papermill": {
     "duration": 0.026242,
     "end_time": "2024-06-05T07:12:16.322148",
     "exception": false,
     "start_time": "2024-06-05T07:12:16.295906",
     "status": "completed"
    },
    "tags": []
   },
   "outputs": [
    {
     "data": {
      "text/html": [
       "<div>\n",
       "<style scoped>\n",
       "    .dataframe tbody tr th:only-of-type {\n",
       "        vertical-align: middle;\n",
       "    }\n",
       "\n",
       "    .dataframe tbody tr th {\n",
       "        vertical-align: top;\n",
       "    }\n",
       "\n",
       "    .dataframe thead th {\n",
       "        text-align: right;\n",
       "    }\n",
       "</style>\n",
       "<table border=\"1\" class=\"dataframe\">\n",
       "  <thead>\n",
       "    <tr style=\"text-align: right;\">\n",
       "      <th></th>\n",
       "      <th>Fare</th>\n",
       "      <th>Age</th>\n",
       "      <th>Age_imputed</th>\n",
       "    </tr>\n",
       "  </thead>\n",
       "  <tbody>\n",
       "    <tr>\n",
       "      <th>Fare</th>\n",
       "      <td>2448.197914</td>\n",
       "      <td>70.719262</td>\n",
       "      <td>56.694819</td>\n",
       "    </tr>\n",
       "    <tr>\n",
       "      <th>Age</th>\n",
       "      <td>70.719262</td>\n",
       "      <td>204.349513</td>\n",
       "      <td>204.349513</td>\n",
       "    </tr>\n",
       "    <tr>\n",
       "      <th>Age_imputed</th>\n",
       "      <td>56.694819</td>\n",
       "      <td>204.349513</td>\n",
       "      <td>211.516307</td>\n",
       "    </tr>\n",
       "  </tbody>\n",
       "</table>\n",
       "</div>"
      ],
      "text/plain": [
       "                    Fare         Age  Age_imputed\n",
       "Fare         2448.197914   70.719262    56.694819\n",
       "Age            70.719262  204.349513   204.349513\n",
       "Age_imputed    56.694819  204.349513   211.516307"
      ]
     },
     "execution_count": 16,
     "metadata": {},
     "output_type": "execute_result"
    }
   ],
   "source": [
    "X_train[['Fare', 'Age', 'Age_imputed']].cov()"
   ]
  },
  {
   "cell_type": "code",
   "execution_count": 17,
   "id": "2c87524a",
   "metadata": {
    "execution": {
     "iopub.execute_input": "2024-06-05T07:12:16.343974Z",
     "iopub.status.busy": "2024-06-05T07:12:16.343297Z",
     "iopub.status.idle": "2024-06-05T07:12:16.579434Z",
     "shell.execute_reply": "2024-06-05T07:12:16.578305Z"
    },
    "papermill": {
     "duration": 0.249533,
     "end_time": "2024-06-05T07:12:16.581700",
     "exception": false,
     "start_time": "2024-06-05T07:12:16.332167",
     "status": "completed"
    },
    "tags": []
   },
   "outputs": [
    {
     "data": {
      "text/plain": [
       "<Axes: >"
      ]
     },
     "execution_count": 17,
     "metadata": {},
     "output_type": "execute_result"
    },
    {
     "data": {
      "image/png": "[encoded data removed]",
      "text/plain": [
       "<Figure size 640x480 with 1 Axes>"
      ]
     },
     "metadata": {},
     "output_type": "display_data"
    }
   ],
   "source": [
    "X_train[['Age', 'Age_imputed']].boxplot()"
   ]
  },
  {
   "cell_type": "code",
   "execution_count": 18,
   "id": "7369eaaf",
   "metadata": {
    "execution": {
     "iopub.execute_input": "2024-06-05T07:12:16.604153Z",
     "iopub.status.busy": "2024-06-05T07:12:16.603738Z",
     "iopub.status.idle": "2024-06-05T07:12:16.608631Z",
     "shell.execute_reply": "2024-06-05T07:12:16.607460Z"
    },
    "papermill": {
     "duration": 0.018732,
     "end_time": "2024-06-05T07:12:16.610914",
     "exception": false,
     "start_time": "2024-06-05T07:12:16.592182",
     "status": "completed"
    },
    "tags": []
   },
   "outputs": [],
   "source": [
    "# sampled_value = X_train['Age'].dropna().sample(1, random_state=int(df['Fare']))"
   ]
  },
  {
   "cell_type": "markdown",
   "id": "2a54cf14",
   "metadata": {
    "papermill": {
     "duration": 0.01038,
     "end_time": "2024-06-05T07:12:16.632084",
     "exception": false,
     "start_time": "2024-06-05T07:12:16.621704",
     "status": "completed"
    },
    "tags": []
   },
   "source": [
    "# Catagorical Data"
   ]
  },
  {
   "cell_type": "code",
   "execution_count": 19,
   "id": "f62a32fd",
   "metadata": {
    "execution": {
     "iopub.execute_input": "2024-06-05T07:12:16.654873Z",
     "iopub.status.busy": "2024-06-05T07:12:16.654491Z",
     "iopub.status.idle": "2024-06-05T07:12:16.678725Z",
     "shell.execute_reply": "2024-06-05T07:12:16.677550Z"
    },
    "papermill": {
     "duration": 0.038479,
     "end_time": "2024-06-05T07:12:16.681191",
     "exception": false,
     "start_time": "2024-06-05T07:12:16.642712",
     "status": "completed"
    },
    "tags": []
   },
   "outputs": [],
   "source": [
    "data = pd.read_csv('/kaggle/input/train1/train1.csv',usecols=['GarageQual','FireplaceQu', 'SalePrice'])"
   ]
  },
  {
   "cell_type": "code",
   "execution_count": 20,
   "id": "a6f35513",
   "metadata": {
    "execution": {
     "iopub.execute_input": "2024-06-05T07:12:16.707128Z",
     "iopub.status.busy": "2024-06-05T07:12:16.706736Z",
     "iopub.status.idle": "2024-06-05T07:12:16.717188Z",
     "shell.execute_reply": "2024-06-05T07:12:16.716098Z"
    },
    "papermill": {
     "duration": 0.02719,
     "end_time": "2024-06-05T07:12:16.719548",
     "exception": false,
     "start_time": "2024-06-05T07:12:16.692358",
     "status": "completed"
    },
    "tags": []
   },
   "outputs": [
    {
     "data": {
      "text/html": [
       "<div>\n",
       "<style scoped>\n",
       "    .dataframe tbody tr th:only-of-type {\n",
       "        vertical-align: middle;\n",
       "    }\n",
       "\n",
       "    .dataframe tbody tr th {\n",
       "        vertical-align: top;\n",
       "    }\n",
       "\n",
       "    .dataframe thead th {\n",
       "        text-align: right;\n",
       "    }\n",
       "</style>\n",
       "<table border=\"1\" class=\"dataframe\">\n",
       "  <thead>\n",
       "    <tr style=\"text-align: right;\">\n",
       "      <th></th>\n",
       "      <th>FireplaceQu</th>\n",
       "      <th>GarageQual</th>\n",
       "      <th>SalePrice</th>\n",
       "    </tr>\n",
       "  </thead>\n",
       "  <tbody>\n",
       "    <tr>\n",
       "      <th>0</th>\n",
       "      <td>NaN</td>\n",
       "      <td>TA</td>\n",
       "      <td>208500</td>\n",
       "    </tr>\n",
       "    <tr>\n",
       "      <th>1</th>\n",
       "      <td>TA</td>\n",
       "      <td>TA</td>\n",
       "      <td>181500</td>\n",
       "    </tr>\n",
       "    <tr>\n",
       "      <th>2</th>\n",
       "      <td>TA</td>\n",
       "      <td>TA</td>\n",
       "      <td>223500</td>\n",
       "    </tr>\n",
       "    <tr>\n",
       "      <th>3</th>\n",
       "      <td>Gd</td>\n",
       "      <td>TA</td>\n",
       "      <td>140000</td>\n",
       "    </tr>\n",
       "    <tr>\n",
       "      <th>4</th>\n",
       "      <td>TA</td>\n",
       "      <td>TA</td>\n",
       "      <td>250000</td>\n",
       "    </tr>\n",
       "  </tbody>\n",
       "</table>\n",
       "</div>"
      ],
      "text/plain": [
       "  FireplaceQu GarageQual  SalePrice\n",
       "0         NaN         TA     208500\n",
       "1          TA         TA     181500\n",
       "2          TA         TA     223500\n",
       "3          Gd         TA     140000\n",
       "4          TA         TA     250000"
      ]
     },
     "execution_count": 20,
     "metadata": {},
     "output_type": "execute_result"
    }
   ],
   "source": [
    "data.head()"
   ]
  },
  {
   "cell_type": "code",
   "execution_count": 21,
   "id": "760d2de2",
   "metadata": {
    "execution": {
     "iopub.execute_input": "2024-06-05T07:12:16.743090Z",
     "iopub.status.busy": "2024-06-05T07:12:16.742707Z",
     "iopub.status.idle": "2024-06-05T07:12:16.751991Z",
     "shell.execute_reply": "2024-06-05T07:12:16.751027Z"
    },
    "papermill": {
     "duration": 0.023576,
     "end_time": "2024-06-05T07:12:16.753886",
     "exception": false,
     "start_time": "2024-06-05T07:12:16.730310",
     "status": "completed"
    },
    "tags": []
   },
   "outputs": [
    {
     "data": {
      "text/plain": [
       "FireplaceQu    47.260274\n",
       "GarageQual      5.547945\n",
       "SalePrice       0.000000\n",
       "dtype: float64"
      ]
     },
     "execution_count": 21,
     "metadata": {},
     "output_type": "execute_result"
    }
   ],
   "source": [
    "data.isnull().mean() * 100"
   ]
  },
  {
   "cell_type": "code",
   "execution_count": 22,
   "id": "6ec733c0",
   "metadata": {
    "execution": {
     "iopub.execute_input": "2024-06-05T07:12:16.777141Z",
     "iopub.status.busy": "2024-06-05T07:12:16.776776Z",
     "iopub.status.idle": "2024-06-05T07:12:16.781770Z",
     "shell.execute_reply": "2024-06-05T07:12:16.780687Z"
    },
    "papermill": {
     "duration": 0.019172,
     "end_time": "2024-06-05T07:12:16.783906",
     "exception": false,
     "start_time": "2024-06-05T07:12:16.764734",
     "status": "completed"
    },
    "tags": []
   },
   "outputs": [],
   "source": [
    "X = data\n",
    "y = data['SalePrice']"
   ]
  },
  {
   "cell_type": "code",
   "execution_count": 23,
   "id": "5f7b247a",
   "metadata": {
    "execution": {
     "iopub.execute_input": "2024-06-05T07:12:16.807686Z",
     "iopub.status.busy": "2024-06-05T07:12:16.807278Z",
     "iopub.status.idle": "2024-06-05T07:12:16.819495Z",
     "shell.execute_reply": "2024-06-05T07:12:16.818318Z"
    },
    "papermill": {
     "duration": 0.026202,
     "end_time": "2024-06-05T07:12:16.821574",
     "exception": false,
     "start_time": "2024-06-05T07:12:16.795372",
     "status": "completed"
    },
    "tags": []
   },
   "outputs": [
    {
     "data": {
      "text/html": [
       "<div>\n",
       "<style scoped>\n",
       "    .dataframe tbody tr th:only-of-type {\n",
       "        vertical-align: middle;\n",
       "    }\n",
       "\n",
       "    .dataframe tbody tr th {\n",
       "        vertical-align: top;\n",
       "    }\n",
       "\n",
       "    .dataframe thead th {\n",
       "        text-align: right;\n",
       "    }\n",
       "</style>\n",
       "<table border=\"1\" class=\"dataframe\">\n",
       "  <thead>\n",
       "    <tr style=\"text-align: right;\">\n",
       "      <th></th>\n",
       "      <th>FireplaceQu</th>\n",
       "      <th>GarageQual</th>\n",
       "      <th>SalePrice</th>\n",
       "    </tr>\n",
       "  </thead>\n",
       "  <tbody>\n",
       "    <tr>\n",
       "      <th>0</th>\n",
       "      <td>NaN</td>\n",
       "      <td>TA</td>\n",
       "      <td>208500</td>\n",
       "    </tr>\n",
       "    <tr>\n",
       "      <th>1</th>\n",
       "      <td>TA</td>\n",
       "      <td>TA</td>\n",
       "      <td>181500</td>\n",
       "    </tr>\n",
       "    <tr>\n",
       "      <th>2</th>\n",
       "      <td>TA</td>\n",
       "      <td>TA</td>\n",
       "      <td>223500</td>\n",
       "    </tr>\n",
       "    <tr>\n",
       "      <th>3</th>\n",
       "      <td>Gd</td>\n",
       "      <td>TA</td>\n",
       "      <td>140000</td>\n",
       "    </tr>\n",
       "    <tr>\n",
       "      <th>4</th>\n",
       "      <td>TA</td>\n",
       "      <td>TA</td>\n",
       "      <td>250000</td>\n",
       "    </tr>\n",
       "    <tr>\n",
       "      <th>...</th>\n",
       "      <td>...</td>\n",
       "      <td>...</td>\n",
       "      <td>...</td>\n",
       "    </tr>\n",
       "    <tr>\n",
       "      <th>1455</th>\n",
       "      <td>TA</td>\n",
       "      <td>TA</td>\n",
       "      <td>175000</td>\n",
       "    </tr>\n",
       "    <tr>\n",
       "      <th>1456</th>\n",
       "      <td>TA</td>\n",
       "      <td>TA</td>\n",
       "      <td>210000</td>\n",
       "    </tr>\n",
       "    <tr>\n",
       "      <th>1457</th>\n",
       "      <td>Gd</td>\n",
       "      <td>TA</td>\n",
       "      <td>266500</td>\n",
       "    </tr>\n",
       "    <tr>\n",
       "      <th>1458</th>\n",
       "      <td>NaN</td>\n",
       "      <td>TA</td>\n",
       "      <td>142125</td>\n",
       "    </tr>\n",
       "    <tr>\n",
       "      <th>1459</th>\n",
       "      <td>NaN</td>\n",
       "      <td>TA</td>\n",
       "      <td>147500</td>\n",
       "    </tr>\n",
       "  </tbody>\n",
       "</table>\n",
       "<p>1460 rows × 3 columns</p>\n",
       "</div>"
      ],
      "text/plain": [
       "     FireplaceQu GarageQual  SalePrice\n",
       "0            NaN         TA     208500\n",
       "1             TA         TA     181500\n",
       "2             TA         TA     223500\n",
       "3             Gd         TA     140000\n",
       "4             TA         TA     250000\n",
       "...          ...        ...        ...\n",
       "1455          TA         TA     175000\n",
       "1456          TA         TA     210000\n",
       "1457          Gd         TA     266500\n",
       "1458         NaN         TA     142125\n",
       "1459         NaN         TA     147500\n",
       "\n",
       "[1460 rows x 3 columns]"
      ]
     },
     "execution_count": 23,
     "metadata": {},
     "output_type": "execute_result"
    }
   ],
   "source": [
    "X"
   ]
  },
  {
   "cell_type": "code",
   "execution_count": 24,
   "id": "d35e4878",
   "metadata": {
    "execution": {
     "iopub.execute_input": "2024-06-05T07:12:16.845168Z",
     "iopub.status.busy": "2024-06-05T07:12:16.844430Z",
     "iopub.status.idle": "2024-06-05T07:12:16.852206Z",
     "shell.execute_reply": "2024-06-05T07:12:16.851299Z"
    },
    "papermill": {
     "duration": 0.021914,
     "end_time": "2024-06-05T07:12:16.854370",
     "exception": false,
     "start_time": "2024-06-05T07:12:16.832456",
     "status": "completed"
    },
    "tags": []
   },
   "outputs": [],
   "source": [
    "X_train,X_test,y_train,y_test = train_test_split(X,y,test_size=0.2,random_state=2)"
   ]
  },
  {
   "cell_type": "code",
   "execution_count": 25,
   "id": "c54c653b",
   "metadata": {
    "execution": {
     "iopub.execute_input": "2024-06-05T07:12:16.879517Z",
     "iopub.status.busy": "2024-06-05T07:12:16.878733Z",
     "iopub.status.idle": "2024-06-05T07:12:16.886287Z",
     "shell.execute_reply": "2024-06-05T07:12:16.885232Z"
    },
    "papermill": {
     "duration": 0.021553,
     "end_time": "2024-06-05T07:12:16.888288",
     "exception": false,
     "start_time": "2024-06-05T07:12:16.866735",
     "status": "completed"
    },
    "tags": []
   },
   "outputs": [],
   "source": [
    "X_train['GarageQual_imputed'] = X_train['GarageQual']\n",
    "X_test['GarageQual_imputed'] = X_test['GarageQual']\n",
    "\n",
    "X_train['FireplaceQu_imputed'] = X_train['FireplaceQu']\n",
    "X_test['FireplaceQu_imputed'] = X_test['FireplaceQu']"
   ]
  },
  {
   "cell_type": "code",
   "execution_count": 26,
   "id": "39f17cdd",
   "metadata": {
    "execution": {
     "iopub.execute_input": "2024-06-05T07:12:16.912060Z",
     "iopub.status.busy": "2024-06-05T07:12:16.911260Z",
     "iopub.status.idle": "2024-06-05T07:12:16.924389Z",
     "shell.execute_reply": "2024-06-05T07:12:16.923386Z"
    },
    "papermill": {
     "duration": 0.027116,
     "end_time": "2024-06-05T07:12:16.926427",
     "exception": false,
     "start_time": "2024-06-05T07:12:16.899311",
     "status": "completed"
    },
    "tags": []
   },
   "outputs": [
    {
     "data": {
      "text/html": [
       "<div>\n",
       "<style scoped>\n",
       "    .dataframe tbody tr th:only-of-type {\n",
       "        vertical-align: middle;\n",
       "    }\n",
       "\n",
       "    .dataframe tbody tr th {\n",
       "        vertical-align: top;\n",
       "    }\n",
       "\n",
       "    .dataframe thead th {\n",
       "        text-align: right;\n",
       "    }\n",
       "</style>\n",
       "<table border=\"1\" class=\"dataframe\">\n",
       "  <thead>\n",
       "    <tr style=\"text-align: right;\">\n",
       "      <th></th>\n",
       "      <th>FireplaceQu</th>\n",
       "      <th>GarageQual</th>\n",
       "      <th>SalePrice</th>\n",
       "      <th>GarageQual_imputed</th>\n",
       "      <th>FireplaceQu_imputed</th>\n",
       "    </tr>\n",
       "  </thead>\n",
       "  <tbody>\n",
       "    <tr>\n",
       "      <th>580</th>\n",
       "      <td>Gd</td>\n",
       "      <td>TA</td>\n",
       "      <td>181900</td>\n",
       "      <td>TA</td>\n",
       "      <td>Gd</td>\n",
       "    </tr>\n",
       "    <tr>\n",
       "      <th>281</th>\n",
       "      <td>NaN</td>\n",
       "      <td>TA</td>\n",
       "      <td>185000</td>\n",
       "      <td>TA</td>\n",
       "      <td>NaN</td>\n",
       "    </tr>\n",
       "    <tr>\n",
       "      <th>1434</th>\n",
       "      <td>Gd</td>\n",
       "      <td>TA</td>\n",
       "      <td>160000</td>\n",
       "      <td>TA</td>\n",
       "      <td>Gd</td>\n",
       "    </tr>\n",
       "    <tr>\n",
       "      <th>1073</th>\n",
       "      <td>NaN</td>\n",
       "      <td>TA</td>\n",
       "      <td>159500</td>\n",
       "      <td>TA</td>\n",
       "      <td>NaN</td>\n",
       "    </tr>\n",
       "    <tr>\n",
       "      <th>395</th>\n",
       "      <td>NaN</td>\n",
       "      <td>TA</td>\n",
       "      <td>129000</td>\n",
       "      <td>TA</td>\n",
       "      <td>NaN</td>\n",
       "    </tr>\n",
       "  </tbody>\n",
       "</table>\n",
       "</div>"
      ],
      "text/plain": [
       "     FireplaceQu GarageQual  SalePrice GarageQual_imputed FireplaceQu_imputed\n",
       "580           Gd         TA     181900                 TA                  Gd\n",
       "281          NaN         TA     185000                 TA                 NaN\n",
       "1434          Gd         TA     160000                 TA                  Gd\n",
       "1073         NaN         TA     159500                 TA                 NaN\n",
       "395          NaN         TA     129000                 TA                 NaN"
      ]
     },
     "execution_count": 26,
     "metadata": {},
     "output_type": "execute_result"
    }
   ],
   "source": [
    "X_train.sample(5)"
   ]
  },
  {
   "cell_type": "code",
   "execution_count": 27,
   "id": "9e3cae08",
   "metadata": {
    "execution": {
     "iopub.execute_input": "2024-06-05T07:12:16.950686Z",
     "iopub.status.busy": "2024-06-05T07:12:16.949855Z",
     "iopub.status.idle": "2024-06-05T07:12:16.969297Z",
     "shell.execute_reply": "2024-06-05T07:12:16.968314Z"
    },
    "papermill": {
     "duration": 0.03453,
     "end_time": "2024-06-05T07:12:16.972132",
     "exception": false,
     "start_time": "2024-06-05T07:12:16.937602",
     "status": "completed"
    },
    "tags": []
   },
   "outputs": [
    {
     "name": "stderr",
     "output_type": "stream",
     "text": [
      "/tmp/ipykernel_18/856878696.py:1: FutureWarning: ChainedAssignmentError: behaviour will change in pandas 3.0!\n",
      "You are setting values through chained assignment. Currently this works in certain cases, but when using Copy-on-Write (which will become the default behaviour in pandas 3.0) this will never work to update the original DataFrame or Series, because the intermediate object on which we are setting values will behave as a copy.\n",
      "A typical example is when you are setting values in a column of a DataFrame, like:\n",
      "\n",
      "df[\"col\"][row_indexer] = value\n",
      "\n",
      "Use `df.loc[row_indexer, \"col\"] = values` instead, to perform the assignment in a single step and ensure this keeps updating the original `df`.\n",
      "\n",
      "See the caveats in the documentation: https://pandas.pydata.org/pandas-docs/stable/user_guide/indexing.html#returning-a-view-versus-a-copy\n",
      "\n",
      "  X_train['GarageQual_imputed'][X_train['GarageQual_imputed'].isnull()] = X_train['GarageQual'].dropna().sample(X_train['GarageQual'].isnull().sum()).values\n",
      "/tmp/ipykernel_18/856878696.py:1: SettingWithCopyWarning: \n",
      "A value is trying to be set on a copy of a slice from a DataFrame\n",
      "\n",
      "See the caveats in the documentation: https://pandas.pydata.org/pandas-docs/stable/user_guide/indexing.html#returning-a-view-versus-a-copy\n",
      "  X_train['GarageQual_imputed'][X_train['GarageQual_imputed'].isnull()] = X_train['GarageQual'].dropna().sample(X_train['GarageQual'].isnull().sum()).values\n",
      "/tmp/ipykernel_18/856878696.py:2: FutureWarning: ChainedAssignmentError: behaviour will change in pandas 3.0!\n",
      "You are setting values through chained assignment. Currently this works in certain cases, but when using Copy-on-Write (which will become the default behaviour in pandas 3.0) this will never work to update the original DataFrame or Series, because the intermediate object on which we are setting values will behave as a copy.\n",
      "A typical example is when you are setting values in a column of a DataFrame, like:\n",
      "\n",
      "df[\"col\"][row_indexer] = value\n",
      "\n",
      "Use `df.loc[row_indexer, \"col\"] = values` instead, to perform the assignment in a single step and ensure this keeps updating the original `df`.\n",
      "\n",
      "See the caveats in the documentation: https://pandas.pydata.org/pandas-docs/stable/user_guide/indexing.html#returning-a-view-versus-a-copy\n",
      "\n",
      "  X_test['GarageQual_imputed'][X_test['GarageQual_imputed'].isnull()] = X_train['GarageQual'].dropna().sample(X_test['GarageQual'].isnull().sum()).values\n",
      "/tmp/ipykernel_18/856878696.py:2: SettingWithCopyWarning: \n",
      "A value is trying to be set on a copy of a slice from a DataFrame\n",
      "\n",
      "See the caveats in the documentation: https://pandas.pydata.org/pandas-docs/stable/user_guide/indexing.html#returning-a-view-versus-a-copy\n",
      "  X_test['GarageQual_imputed'][X_test['GarageQual_imputed'].isnull()] = X_train['GarageQual'].dropna().sample(X_test['GarageQual'].isnull().sum()).values\n",
      "/tmp/ipykernel_18/856878696.py:4: FutureWarning: ChainedAssignmentError: behaviour will change in pandas 3.0!\n",
      "You are setting values through chained assignment. Currently this works in certain cases, but when using Copy-on-Write (which will become the default behaviour in pandas 3.0) this will never work to update the original DataFrame or Series, because the intermediate object on which we are setting values will behave as a copy.\n",
      "A typical example is when you are setting values in a column of a DataFrame, like:\n",
      "\n",
      "df[\"col\"][row_indexer] = value\n",
      "\n",
      "Use `df.loc[row_indexer, \"col\"] = values` instead, to perform the assignment in a single step and ensure this keeps updating the original `df`.\n",
      "\n",
      "See the caveats in the documentation: https://pandas.pydata.org/pandas-docs/stable/user_guide/indexing.html#returning-a-view-versus-a-copy\n",
      "\n",
      "  X_train['FireplaceQu_imputed'][X_train['FireplaceQu_imputed'].isnull()] = X_train['FireplaceQu'].dropna().sample(X_train['FireplaceQu'].isnull().sum()).values\n",
      "/tmp/ipykernel_18/856878696.py:4: SettingWithCopyWarning: \n",
      "A value is trying to be set on a copy of a slice from a DataFrame\n",
      "\n",
      "See the caveats in the documentation: https://pandas.pydata.org/pandas-docs/stable/user_guide/indexing.html#returning-a-view-versus-a-copy\n",
      "  X_train['FireplaceQu_imputed'][X_train['FireplaceQu_imputed'].isnull()] = X_train['FireplaceQu'].dropna().sample(X_train['FireplaceQu'].isnull().sum()).values\n",
      "/tmp/ipykernel_18/856878696.py:5: FutureWarning: ChainedAssignmentError: behaviour will change in pandas 3.0!\n",
      "You are setting values through chained assignment. Currently this works in certain cases, but when using Copy-on-Write (which will become the default behaviour in pandas 3.0) this will never work to update the original DataFrame or Series, because the intermediate object on which we are setting values will behave as a copy.\n",
      "A typical example is when you are setting values in a column of a DataFrame, like:\n",
      "\n",
      "df[\"col\"][row_indexer] = value\n",
      "\n",
      "Use `df.loc[row_indexer, \"col\"] = values` instead, to perform the assignment in a single step and ensure this keeps updating the original `df`.\n",
      "\n",
      "See the caveats in the documentation: https://pandas.pydata.org/pandas-docs/stable/user_guide/indexing.html#returning-a-view-versus-a-copy\n",
      "\n",
      "  X_test['FireplaceQu_imputed'][X_test['FireplaceQu_imputed'].isnull()] = X_train['FireplaceQu'].dropna().sample(X_test['FireplaceQu'].isnull().sum()).values\n",
      "/tmp/ipykernel_18/856878696.py:5: SettingWithCopyWarning: \n",
      "A value is trying to be set on a copy of a slice from a DataFrame\n",
      "\n",
      "See the caveats in the documentation: https://pandas.pydata.org/pandas-docs/stable/user_guide/indexing.html#returning-a-view-versus-a-copy\n",
      "  X_test['FireplaceQu_imputed'][X_test['FireplaceQu_imputed'].isnull()] = X_train['FireplaceQu'].dropna().sample(X_test['FireplaceQu'].isnull().sum()).values\n"
     ]
    }
   ],
   "source": [
    "X_train['GarageQual_imputed'][X_train['GarageQual_imputed'].isnull()] = X_train['GarageQual'].dropna().sample(X_train['GarageQual'].isnull().sum()).values\n",
    "X_test['GarageQual_imputed'][X_test['GarageQual_imputed'].isnull()] = X_train['GarageQual'].dropna().sample(X_test['GarageQual'].isnull().sum()).values\n",
    "\n",
    "X_train['FireplaceQu_imputed'][X_train['FireplaceQu_imputed'].isnull()] = X_train['FireplaceQu'].dropna().sample(X_train['FireplaceQu'].isnull().sum()).values\n",
    "X_test['FireplaceQu_imputed'][X_test['FireplaceQu_imputed'].isnull()] = X_train['FireplaceQu'].dropna().sample(X_test['FireplaceQu'].isnull().sum()).values"
   ]
  },
  {
   "cell_type": "code",
   "execution_count": 28,
   "id": "60040ff3",
   "metadata": {
    "execution": {
     "iopub.execute_input": "2024-06-05T07:12:16.996289Z",
     "iopub.status.busy": "2024-06-05T07:12:16.995901Z",
     "iopub.status.idle": "2024-06-05T07:12:17.010301Z",
     "shell.execute_reply": "2024-06-05T07:12:17.009265Z"
    },
    "papermill": {
     "duration": 0.029132,
     "end_time": "2024-06-05T07:12:17.012574",
     "exception": false,
     "start_time": "2024-06-05T07:12:16.983442",
     "status": "completed"
    },
    "tags": []
   },
   "outputs": [],
   "source": [
    "temp = pd.concat(\n",
    "        [\n",
    "            X_train['GarageQual'].value_counts() / len(X_train['GarageQual'].dropna()),\n",
    "            X_train['GarageQual_imputed'].value_counts() / len(X_train)\n",
    "        ],\n",
    "        axis=1)\n",
    "\n",
    "temp.columns = ['original', 'imputed']"
   ]
  },
  {
   "cell_type": "code",
   "execution_count": 29,
   "id": "f7d11e61",
   "metadata": {
    "execution": {
     "iopub.execute_input": "2024-06-05T07:12:17.037399Z",
     "iopub.status.busy": "2024-06-05T07:12:17.036556Z",
     "iopub.status.idle": "2024-06-05T07:12:17.047622Z",
     "shell.execute_reply": "2024-06-05T07:12:17.046518Z"
    },
    "papermill": {
     "duration": 0.025558,
     "end_time": "2024-06-05T07:12:17.049617",
     "exception": false,
     "start_time": "2024-06-05T07:12:17.024059",
     "status": "completed"
    },
    "tags": []
   },
   "outputs": [
    {
     "data": {
      "text/html": [
       "<div>\n",
       "<style scoped>\n",
       "    .dataframe tbody tr th:only-of-type {\n",
       "        vertical-align: middle;\n",
       "    }\n",
       "\n",
       "    .dataframe tbody tr th {\n",
       "        vertical-align: top;\n",
       "    }\n",
       "\n",
       "    .dataframe thead th {\n",
       "        text-align: right;\n",
       "    }\n",
       "</style>\n",
       "<table border=\"1\" class=\"dataframe\">\n",
       "  <thead>\n",
       "    <tr style=\"text-align: right;\">\n",
       "      <th></th>\n",
       "      <th>original</th>\n",
       "      <th>imputed</th>\n",
       "    </tr>\n",
       "  </thead>\n",
       "  <tbody>\n",
       "    <tr>\n",
       "      <th>TA</th>\n",
       "      <td>0.951043</td>\n",
       "      <td>0.950342</td>\n",
       "    </tr>\n",
       "    <tr>\n",
       "      <th>Fa</th>\n",
       "      <td>0.037171</td>\n",
       "      <td>0.037671</td>\n",
       "    </tr>\n",
       "    <tr>\n",
       "      <th>Gd</th>\n",
       "      <td>0.009973</td>\n",
       "      <td>0.009418</td>\n",
       "    </tr>\n",
       "    <tr>\n",
       "      <th>Po</th>\n",
       "      <td>0.000907</td>\n",
       "      <td>0.001712</td>\n",
       "    </tr>\n",
       "    <tr>\n",
       "      <th>Ex</th>\n",
       "      <td>0.000907</td>\n",
       "      <td>0.000856</td>\n",
       "    </tr>\n",
       "  </tbody>\n",
       "</table>\n",
       "</div>"
      ],
      "text/plain": [
       "    original   imputed\n",
       "TA  0.951043  0.950342\n",
       "Fa  0.037171  0.037671\n",
       "Gd  0.009973  0.009418\n",
       "Po  0.000907  0.001712\n",
       "Ex  0.000907  0.000856"
      ]
     },
     "execution_count": 29,
     "metadata": {},
     "output_type": "execute_result"
    }
   ],
   "source": [
    "temp"
   ]
  },
  {
   "cell_type": "code",
   "execution_count": 30,
   "id": "e47002bd",
   "metadata": {
    "execution": {
     "iopub.execute_input": "2024-06-05T07:12:17.075215Z",
     "iopub.status.busy": "2024-06-05T07:12:17.074420Z",
     "iopub.status.idle": "2024-06-05T07:12:17.088950Z",
     "shell.execute_reply": "2024-06-05T07:12:17.087917Z"
    },
    "papermill": {
     "duration": 0.029842,
     "end_time": "2024-06-05T07:12:17.091008",
     "exception": false,
     "start_time": "2024-06-05T07:12:17.061166",
     "status": "completed"
    },
    "tags": []
   },
   "outputs": [
    {
     "data": {
      "text/html": [
       "<div>\n",
       "<style scoped>\n",
       "    .dataframe tbody tr th:only-of-type {\n",
       "        vertical-align: middle;\n",
       "    }\n",
       "\n",
       "    .dataframe tbody tr th {\n",
       "        vertical-align: top;\n",
       "    }\n",
       "\n",
       "    .dataframe thead th {\n",
       "        text-align: right;\n",
       "    }\n",
       "</style>\n",
       "<table border=\"1\" class=\"dataframe\">\n",
       "  <thead>\n",
       "    <tr style=\"text-align: right;\">\n",
       "      <th></th>\n",
       "      <th>original</th>\n",
       "      <th>imputed</th>\n",
       "    </tr>\n",
       "  </thead>\n",
       "  <tbody>\n",
       "    <tr>\n",
       "      <th>Gd</th>\n",
       "      <td>0.494272</td>\n",
       "      <td>0.646465</td>\n",
       "    </tr>\n",
       "    <tr>\n",
       "      <th>TA</th>\n",
       "      <td>0.412439</td>\n",
       "      <td>0.539843</td>\n",
       "    </tr>\n",
       "    <tr>\n",
       "      <th>Fa</th>\n",
       "      <td>0.040917</td>\n",
       "      <td>0.056117</td>\n",
       "    </tr>\n",
       "    <tr>\n",
       "      <th>Po</th>\n",
       "      <td>0.027823</td>\n",
       "      <td>0.035915</td>\n",
       "    </tr>\n",
       "    <tr>\n",
       "      <th>Ex</th>\n",
       "      <td>0.024550</td>\n",
       "      <td>0.032548</td>\n",
       "    </tr>\n",
       "  </tbody>\n",
       "</table>\n",
       "</div>"
      ],
      "text/plain": [
       "    original   imputed\n",
       "Gd  0.494272  0.646465\n",
       "TA  0.412439  0.539843\n",
       "Fa  0.040917  0.056117\n",
       "Po  0.027823  0.035915\n",
       "Ex  0.024550  0.032548"
      ]
     },
     "execution_count": 30,
     "metadata": {},
     "output_type": "execute_result"
    }
   ],
   "source": [
    "temp = pd.concat(\n",
    "        [\n",
    "            X_train['FireplaceQu'].value_counts() / len(X_train['FireplaceQu'].dropna()),\n",
    "            X_train['FireplaceQu_imputed'].value_counts() / len(df)\n",
    "        ],\n",
    "        axis=1)\n",
    "\n",
    "temp.columns = ['original', 'imputed']\n",
    "\n",
    "temp"
   ]
  },
  {
   "cell_type": "code",
   "execution_count": 31,
   "id": "94cca45f",
   "metadata": {
    "execution": {
     "iopub.execute_input": "2024-06-05T07:12:17.116334Z",
     "iopub.status.busy": "2024-06-05T07:12:17.115505Z",
     "iopub.status.idle": "2024-06-05T07:12:17.493723Z",
     "shell.execute_reply": "2024-06-05T07:12:17.492678Z"
    },
    "papermill": {
     "duration": 0.393433,
     "end_time": "2024-06-05T07:12:17.496145",
     "exception": false,
     "start_time": "2024-06-05T07:12:17.102712",
     "status": "completed"
    },
    "tags": []
   },
   "outputs": [
    {
     "name": "stderr",
     "output_type": "stream",
     "text": [
      "/tmp/ipykernel_18/1827688635.py:2: UserWarning: \n",
      "\n",
      "`distplot` is a deprecated function and will be removed in seaborn v0.14.0.\n",
      "\n",
      "Please adapt your code to use either `displot` (a figure-level function with\n",
      "similar flexibility) or `kdeplot` (an axes-level function for kernel density plots).\n",
      "\n",
      "For a guide to updating your code to use the new functions, please see\n",
      "https://gist.github.com/mwaskom/de44147ed2974457ad6372750bbe5751\n",
      "\n",
      "  sns.distplot(X_train[X_train['FireplaceQu'] == category]['SalePrice'],hist=False,label=category)\n",
      "/opt/conda/lib/python3.10/site-packages/seaborn/_oldcore.py:1119: FutureWarning: use_inf_as_na option is deprecated and will be removed in a future version. Convert inf values to NaN before operating instead.\n",
      "  with pd.option_context('mode.use_inf_as_na', True):\n",
      "/tmp/ipykernel_18/1827688635.py:2: UserWarning: \n",
      "\n",
      "`distplot` is a deprecated function and will be removed in seaborn v0.14.0.\n",
      "\n",
      "Please adapt your code to use either `displot` (a figure-level function with\n",
      "similar flexibility) or `kdeplot` (an axes-level function for kernel density plots).\n",
      "\n",
      "For a guide to updating your code to use the new functions, please see\n",
      "https://gist.github.com/mwaskom/de44147ed2974457ad6372750bbe5751\n",
      "\n",
      "  sns.distplot(X_train[X_train['FireplaceQu'] == category]['SalePrice'],hist=False,label=category)\n",
      "/opt/conda/lib/python3.10/site-packages/seaborn/_oldcore.py:1119: FutureWarning: use_inf_as_na option is deprecated and will be removed in a future version. Convert inf values to NaN before operating instead.\n",
      "  with pd.option_context('mode.use_inf_as_na', True):\n",
      "/tmp/ipykernel_18/1827688635.py:2: UserWarning: \n",
      "\n",
      "`distplot` is a deprecated function and will be removed in seaborn v0.14.0.\n",
      "\n",
      "Please adapt your code to use either `displot` (a figure-level function with\n",
      "similar flexibility) or `kdeplot` (an axes-level function for kernel density plots).\n",
      "\n",
      "For a guide to updating your code to use the new functions, please see\n",
      "https://gist.github.com/mwaskom/de44147ed2974457ad6372750bbe5751\n",
      "\n",
      "  sns.distplot(X_train[X_train['FireplaceQu'] == category]['SalePrice'],hist=False,label=category)\n",
      "/opt/conda/lib/python3.10/site-packages/seaborn/_oldcore.py:1119: FutureWarning: use_inf_as_na option is deprecated and will be removed in a future version. Convert inf values to NaN before operating instead.\n",
      "  with pd.option_context('mode.use_inf_as_na', True):\n",
      "/tmp/ipykernel_18/1827688635.py:2: UserWarning: \n",
      "\n",
      "`distplot` is a deprecated function and will be removed in seaborn v0.14.0.\n",
      "\n",
      "Please adapt your code to use either `displot` (a figure-level function with\n",
      "similar flexibility) or `kdeplot` (an axes-level function for kernel density plots).\n",
      "\n",
      "For a guide to updating your code to use the new functions, please see\n",
      "https://gist.github.com/mwaskom/de44147ed2974457ad6372750bbe5751\n",
      "\n",
      "  sns.distplot(X_train[X_train['FireplaceQu'] == category]['SalePrice'],hist=False,label=category)\n",
      "/opt/conda/lib/python3.10/site-packages/seaborn/_oldcore.py:1119: FutureWarning: use_inf_as_na option is deprecated and will be removed in a future version. Convert inf values to NaN before operating instead.\n",
      "  with pd.option_context('mode.use_inf_as_na', True):\n",
      "/tmp/ipykernel_18/1827688635.py:2: UserWarning: \n",
      "\n",
      "`distplot` is a deprecated function and will be removed in seaborn v0.14.0.\n",
      "\n",
      "Please adapt your code to use either `displot` (a figure-level function with\n",
      "similar flexibility) or `kdeplot` (an axes-level function for kernel density plots).\n",
      "\n",
      "For a guide to updating your code to use the new functions, please see\n",
      "https://gist.github.com/mwaskom/de44147ed2974457ad6372750bbe5751\n",
      "\n",
      "  sns.distplot(X_train[X_train['FireplaceQu'] == category]['SalePrice'],hist=False,label=category)\n",
      "/opt/conda/lib/python3.10/site-packages/seaborn/_oldcore.py:1119: FutureWarning: use_inf_as_na option is deprecated and will be removed in a future version. Convert inf values to NaN before operating instead.\n",
      "  with pd.option_context('mode.use_inf_as_na', True):\n"
     ]
    },
    {
     "data": {
      "image/png": "[encoded data removed]",
      "text/plain": [
       "<Figure size 640x480 with 1 Axes>"
      ]
     },
     "metadata": {},
     "output_type": "display_data"
    }
   ],
   "source": [
    "for category in X_train['FireplaceQu'].dropna().unique():\n",
    "    sns.distplot(X_train[X_train['FireplaceQu'] == category]['SalePrice'],hist=False,label=category)\n",
    "plt.show()"
   ]
  },
  {
   "cell_type": "code",
   "execution_count": 32,
   "id": "565db10b",
   "metadata": {
    "execution": {
     "iopub.execute_input": "2024-06-05T07:12:17.522711Z",
     "iopub.status.busy": "2024-06-05T07:12:17.522312Z",
     "iopub.status.idle": "2024-06-05T07:12:17.914820Z",
     "shell.execute_reply": "2024-06-05T07:12:17.913635Z"
    },
    "papermill": {
     "duration": 0.408874,
     "end_time": "2024-06-05T07:12:17.917563",
     "exception": false,
     "start_time": "2024-06-05T07:12:17.508689",
     "status": "completed"
    },
    "tags": []
   },
   "outputs": [
    {
     "name": "stderr",
     "output_type": "stream",
     "text": [
      "/tmp/ipykernel_18/722808554.py:2: UserWarning: \n",
      "\n",
      "`distplot` is a deprecated function and will be removed in seaborn v0.14.0.\n",
      "\n",
      "Please adapt your code to use either `displot` (a figure-level function with\n",
      "similar flexibility) or `kdeplot` (an axes-level function for kernel density plots).\n",
      "\n",
      "For a guide to updating your code to use the new functions, please see\n",
      "https://gist.github.com/mwaskom/de44147ed2974457ad6372750bbe5751\n",
      "\n",
      "  sns.distplot(X_train[X_train['FireplaceQu_imputed'] == category]['SalePrice'],hist=False,label=category)\n",
      "/opt/conda/lib/python3.10/site-packages/seaborn/_oldcore.py:1119: FutureWarning: use_inf_as_na option is deprecated and will be removed in a future version. Convert inf values to NaN before operating instead.\n",
      "  with pd.option_context('mode.use_inf_as_na', True):\n",
      "/tmp/ipykernel_18/722808554.py:2: UserWarning: \n",
      "\n",
      "`distplot` is a deprecated function and will be removed in seaborn v0.14.0.\n",
      "\n",
      "Please adapt your code to use either `displot` (a figure-level function with\n",
      "similar flexibility) or `kdeplot` (an axes-level function for kernel density plots).\n",
      "\n",
      "For a guide to updating your code to use the new functions, please see\n",
      "https://gist.github.com/mwaskom/de44147ed2974457ad6372750bbe5751\n",
      "\n",
      "  sns.distplot(X_train[X_train['FireplaceQu_imputed'] == category]['SalePrice'],hist=False,label=category)\n",
      "/opt/conda/lib/python3.10/site-packages/seaborn/_oldcore.py:1119: FutureWarning: use_inf_as_na option is deprecated and will be removed in a future version. Convert inf values to NaN before operating instead.\n",
      "  with pd.option_context('mode.use_inf_as_na', True):\n",
      "/tmp/ipykernel_18/722808554.py:2: UserWarning: \n",
      "\n",
      "`distplot` is a deprecated function and will be removed in seaborn v0.14.0.\n",
      "\n",
      "Please adapt your code to use either `displot` (a figure-level function with\n",
      "similar flexibility) or `kdeplot` (an axes-level function for kernel density plots).\n",
      "\n",
      "For a guide to updating your code to use the new functions, please see\n",
      "https://gist.github.com/mwaskom/de44147ed2974457ad6372750bbe5751\n",
      "\n",
      "  sns.distplot(X_train[X_train['FireplaceQu_imputed'] == category]['SalePrice'],hist=False,label=category)\n",
      "/opt/conda/lib/python3.10/site-packages/seaborn/_oldcore.py:1119: FutureWarning: use_inf_as_na option is deprecated and will be removed in a future version. Convert inf values to NaN before operating instead.\n",
      "  with pd.option_context('mode.use_inf_as_na', True):\n",
      "/tmp/ipykernel_18/722808554.py:2: UserWarning: \n",
      "\n",
      "`distplot` is a deprecated function and will be removed in seaborn v0.14.0.\n",
      "\n",
      "Please adapt your code to use either `displot` (a figure-level function with\n",
      "similar flexibility) or `kdeplot` (an axes-level function for kernel density plots).\n",
      "\n",
      "For a guide to updating your code to use the new functions, please see\n",
      "https://gist.github.com/mwaskom/de44147ed2974457ad6372750bbe5751\n",
      "\n",
      "  sns.distplot(X_train[X_train['FireplaceQu_imputed'] == category]['SalePrice'],hist=False,label=category)\n",
      "/opt/conda/lib/python3.10/site-packages/seaborn/_oldcore.py:1119: FutureWarning: use_inf_as_na option is deprecated and will be removed in a future version. Convert inf values to NaN before operating instead.\n",
      "  with pd.option_context('mode.use_inf_as_na', True):\n",
      "/tmp/ipykernel_18/722808554.py:2: UserWarning: \n",
      "\n",
      "`distplot` is a deprecated function and will be removed in seaborn v0.14.0.\n",
      "\n",
      "Please adapt your code to use either `displot` (a figure-level function with\n",
      "similar flexibility) or `kdeplot` (an axes-level function for kernel density plots).\n",
      "\n",
      "For a guide to updating your code to use the new functions, please see\n",
      "https://gist.github.com/mwaskom/de44147ed2974457ad6372750bbe5751\n",
      "\n",
      "  sns.distplot(X_train[X_train['FireplaceQu_imputed'] == category]['SalePrice'],hist=False,label=category)\n",
      "/opt/conda/lib/python3.10/site-packages/seaborn/_oldcore.py:1119: FutureWarning: use_inf_as_na option is deprecated and will be removed in a future version. Convert inf values to NaN before operating instead.\n",
      "  with pd.option_context('mode.use_inf_as_na', True):\n"
     ]
    },
    {
     "data": {
      "image/png": "[encoded data removed]",
      "text/plain": [
       "<Figure size 640x480 with 1 Axes>"
      ]
     },
     "metadata": {},
     "output_type": "display_data"
    }
   ],
   "source": [
    "for category in X_train['FireplaceQu_imputed'].dropna().unique():\n",
    "    sns.distplot(X_train[X_train['FireplaceQu_imputed'] == category]['SalePrice'],hist=False,label=category)\n",
    "plt.show()"
   ]
  },
  {
   "cell_type": "code",
   "execution_count": null,
   "id": "0e943cae",
   "metadata": {
    "papermill": {
     "duration": 0.014101,
     "end_time": "2024-06-05T07:12:17.945717",
     "exception": false,
     "start_time": "2024-06-05T07:12:17.931616",
     "status": "completed"
    },
    "tags": []
   },
   "outputs": [],
   "source": []
  }
 ],
 "metadata": {
  "kaggle": {
   "accelerator": "none",
   "dataSources": [
    {
     "datasetId": 3484025,
     "sourceId": 6084836,
     "sourceType": "datasetVersion"
    },
    {
     "datasetId": 5006429,
     "sourceId": 8411652,
     "sourceType": "datasetVersion"
    }
   ],
   "dockerImageVersionId": 30732,
   "isGpuEnabled": false,
   "isInternetEnabled": false,
   "language": "python",
   "sourceType": "notebook"
  },
  "kernelspec": {
   "display_name": "Python 3",
   "language": "python",
   "name": "python3"
  },
  "language_info": {
   "codemirror_mode": {
    "name": "ipython",
    "version": 3
   },
   "file_extension": ".py",
   "mimetype": "text/x-python",
   "name": "python",
   "nbconvert_exporter": "python",
   "pygments_lexer": "ipython3",
   "version": "3.10.13"
  },
  "papermill": {
   "default_parameters": {},
   "duration": 8.412534,
   "end_time": "2024-06-05T07:12:18.580003",
   "environment_variables": {},
   "exception": null,
   "input_path": "__notebook__.ipynb",
   "output_path": "__notebook__.ipynb",
   "parameters": {},
   "start_time": "2024-06-05T07:12:10.167469",
   "version": "2.5.0"
  }
 },
 "nbformat": 4,
 "nbformat_minor": 5
}
