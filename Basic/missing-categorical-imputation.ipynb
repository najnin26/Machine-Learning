{
 "cells": [
  {
   "cell_type": "code",
   "execution_count": 1,
   "id": "b8d8afb8",
   "metadata": {
    "_cell_guid": "b1076dfc-b9ad-4769-8c92-a6c4dae69d19",
    "_uuid": "8f2839f25d086af736a60e9eeb907d3b93b6e0e5",
    "execution": {
     "iopub.execute_input": "2024-05-15T16:30:46.062925Z",
     "iopub.status.busy": "2024-05-15T16:30:46.062497Z",
     "iopub.status.idle": "2024-05-15T16:30:46.856675Z",
     "shell.execute_reply": "2024-05-15T16:30:46.855480Z"
    },
    "papermill": {
     "duration": 0.802046,
     "end_time": "2024-05-15T16:30:46.859603",
     "exception": false,
     "start_time": "2024-05-15T16:30:46.057557",
     "status": "completed"
    },
    "tags": []
   },
   "outputs": [],
   "source": [
    "import pandas as pd\n",
    "import numpy as np\n",
    "import matplotlib.pyplot as plt"
   ]
  },
  {
   "cell_type": "code",
   "execution_count": 2,
   "id": "8788bd7f",
   "metadata": {
    "execution": {
     "iopub.execute_input": "2024-05-15T16:30:46.867356Z",
     "iopub.status.busy": "2024-05-15T16:30:46.866845Z",
     "iopub.status.idle": "2024-05-15T16:30:46.907545Z",
     "shell.execute_reply": "2024-05-15T16:30:46.906590Z"
    },
    "papermill": {
     "duration": 0.047722,
     "end_time": "2024-05-15T16:30:46.910238",
     "exception": false,
     "start_time": "2024-05-15T16:30:46.862516",
     "status": "completed"
    },
    "tags": []
   },
   "outputs": [],
   "source": [
    "df = pd.read_csv('/kaggle/input/train1/train1.csv',usecols=['GarageQual','FireplaceQu','SalePrice'])\n"
   ]
  },
  {
   "cell_type": "code",
   "execution_count": 3,
   "id": "6214733a",
   "metadata": {
    "execution": {
     "iopub.execute_input": "2024-05-15T16:30:46.917466Z",
     "iopub.status.busy": "2024-05-15T16:30:46.916554Z",
     "iopub.status.idle": "2024-05-15T16:30:46.937126Z",
     "shell.execute_reply": "2024-05-15T16:30:46.936017Z"
    },
    "papermill": {
     "duration": 0.0268,
     "end_time": "2024-05-15T16:30:46.939634",
     "exception": false,
     "start_time": "2024-05-15T16:30:46.912834",
     "status": "completed"
    },
    "tags": []
   },
   "outputs": [
    {
     "data": {
      "text/html": [
       "<div>\n",
       "<style scoped>\n",
       "    .dataframe tbody tr th:only-of-type {\n",
       "        vertical-align: middle;\n",
       "    }\n",
       "\n",
       "    .dataframe tbody tr th {\n",
       "        vertical-align: top;\n",
       "    }\n",
       "\n",
       "    .dataframe thead th {\n",
       "        text-align: right;\n",
       "    }\n",
       "</style>\n",
       "<table border=\"1\" class=\"dataframe\">\n",
       "  <thead>\n",
       "    <tr style=\"text-align: right;\">\n",
       "      <th></th>\n",
       "      <th>FireplaceQu</th>\n",
       "      <th>GarageQual</th>\n",
       "      <th>SalePrice</th>\n",
       "    </tr>\n",
       "  </thead>\n",
       "  <tbody>\n",
       "    <tr>\n",
       "      <th>0</th>\n",
       "      <td>NaN</td>\n",
       "      <td>TA</td>\n",
       "      <td>208500</td>\n",
       "    </tr>\n",
       "    <tr>\n",
       "      <th>1</th>\n",
       "      <td>TA</td>\n",
       "      <td>TA</td>\n",
       "      <td>181500</td>\n",
       "    </tr>\n",
       "    <tr>\n",
       "      <th>2</th>\n",
       "      <td>TA</td>\n",
       "      <td>TA</td>\n",
       "      <td>223500</td>\n",
       "    </tr>\n",
       "    <tr>\n",
       "      <th>3</th>\n",
       "      <td>Gd</td>\n",
       "      <td>TA</td>\n",
       "      <td>140000</td>\n",
       "    </tr>\n",
       "    <tr>\n",
       "      <th>4</th>\n",
       "      <td>TA</td>\n",
       "      <td>TA</td>\n",
       "      <td>250000</td>\n",
       "    </tr>\n",
       "  </tbody>\n",
       "</table>\n",
       "</div>"
      ],
      "text/plain": [
       "  FireplaceQu GarageQual  SalePrice\n",
       "0         NaN         TA     208500\n",
       "1          TA         TA     181500\n",
       "2          TA         TA     223500\n",
       "3          Gd         TA     140000\n",
       "4          TA         TA     250000"
      ]
     },
     "execution_count": 3,
     "metadata": {},
     "output_type": "execute_result"
    }
   ],
   "source": [
    "df.head()"
   ]
  },
  {
   "cell_type": "code",
   "execution_count": null,
   "id": "b212ffc0",
   "metadata": {
    "papermill": {
     "duration": 0.00237,
     "end_time": "2024-05-15T16:30:46.944799",
     "exception": false,
     "start_time": "2024-05-15T16:30:46.942429",
     "status": "completed"
    },
    "tags": []
   },
   "outputs": [],
   "source": []
  }
 ],
 "metadata": {
  "kaggle": {
   "accelerator": "none",
   "dataSources": [
    {
     "datasetId": 3484025,
     "sourceId": 6084836,
     "sourceType": "datasetVersion"
    }
   ],
   "dockerImageVersionId": 30698,
   "isGpuEnabled": false,
   "isInternetEnabled": false,
   "language": "python",
   "sourceType": "notebook"
  },
  "kernelspec": {
   "display_name": "Python 3",
   "language": "python",
   "name": "python3"
  },
  "language_info": {
   "codemirror_mode": {
    "name": "ipython",
    "version": 3
   },
   "file_extension": ".py",
   "mimetype": "text/x-python",
   "name": "python",
   "nbconvert_exporter": "python",
   "pygments_lexer": "ipython3",
   "version": "3.10.13"
  },
  "papermill": {
   "default_parameters": {},
   "duration": 4.430536,
   "end_time": "2024-05-15T16:30:47.468206",
   "environment_variables": {},
   "exception": null,
   "input_path": "__notebook__.ipynb",
   "output_path": "__notebook__.ipynb",
   "parameters": {},
   "start_time": "2024-05-15T16:30:43.037670",
   "version": "2.5.0"
  }
 },
 "nbformat": 4,
 "nbformat_minor": 5
}
