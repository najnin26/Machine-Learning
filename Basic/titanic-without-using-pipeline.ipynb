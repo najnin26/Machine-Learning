{
 "cells": [
  {
   "cell_type": "code",
   "execution_count": 1,
   "id": "e012d498",
   "metadata": {
    "_cell_guid": "b1076dfc-b9ad-4769-8c92-a6c4dae69d19",
    "_uuid": "8f2839f25d086af736a60e9eeb907d3b93b6e0e5",
    "execution": {
     "iopub.execute_input": "2024-05-02T13:52:36.779096Z",
     "iopub.status.busy": "2024-05-02T13:52:36.778182Z",
     "iopub.status.idle": "2024-05-02T13:52:39.093536Z",
     "shell.execute_reply": "2024-05-02T13:52:39.092181Z"
    },
    "papermill": {
     "duration": 2.327796,
     "end_time": "2024-05-02T13:52:39.096280",
     "exception": false,
     "start_time": "2024-05-02T13:52:36.768484",
     "status": "completed"
    },
    "tags": []
   },
   "outputs": [],
   "source": [
    "import numpy as np\n",
    "import pandas as pd\n",
    "\n",
    "from sklearn.model_selection import train_test_split\n",
    "from sklearn.impute import SimpleImputer\n",
    "from sklearn.preprocessing import OneHotEncoder\n",
    "from sklearn.preprocessing import MinMaxScaler\n",
    "from sklearn.tree import DecisionTreeClassifier"
   ]
  },
  {
   "cell_type": "code",
   "execution_count": 2,
   "id": "8afc62dd",
   "metadata": {
    "execution": {
     "iopub.execute_input": "2024-05-02T13:52:39.113939Z",
     "iopub.status.busy": "2024-05-02T13:52:39.112790Z",
     "iopub.status.idle": "2024-05-02T13:52:39.142372Z",
     "shell.execute_reply": "2024-05-02T13:52:39.141211Z"
    },
    "papermill": {
     "duration": 0.041026,
     "end_time": "2024-05-02T13:52:39.145113",
     "exception": false,
     "start_time": "2024-05-02T13:52:39.104087",
     "status": "completed"
    },
    "tags": []
   },
   "outputs": [],
   "source": [
    "df=pd.read_csv('/kaggle/input/data-science-day1-titanic/DSB_Day1_Titanic_train.csv')"
   ]
  },
  {
   "cell_type": "code",
   "execution_count": 3,
   "id": "ad3f0419",
   "metadata": {
    "execution": {
     "iopub.execute_input": "2024-05-02T13:52:39.161898Z",
     "iopub.status.busy": "2024-05-02T13:52:39.161488Z",
     "iopub.status.idle": "2024-05-02T13:52:39.192235Z",
     "shell.execute_reply": "2024-05-02T13:52:39.191189Z"
    },
    "papermill": {
     "duration": 0.041868,
     "end_time": "2024-05-02T13:52:39.194662",
     "exception": false,
     "start_time": "2024-05-02T13:52:39.152794",
     "status": "completed"
    },
    "tags": []
   },
   "outputs": [
    {
     "data": {
      "text/html": [
       "<div>\n",
       "<style scoped>\n",
       "    .dataframe tbody tr th:only-of-type {\n",
       "        vertical-align: middle;\n",
       "    }\n",
       "\n",
       "    .dataframe tbody tr th {\n",
       "        vertical-align: top;\n",
       "    }\n",
       "\n",
       "    .dataframe thead th {\n",
       "        text-align: right;\n",
       "    }\n",
       "</style>\n",
       "<table border=\"1\" class=\"dataframe\">\n",
       "  <thead>\n",
       "    <tr style=\"text-align: right;\">\n",
       "      <th></th>\n",
       "      <th>PassengerId</th>\n",
       "      <th>Survived</th>\n",
       "      <th>Pclass</th>\n",
       "      <th>Name</th>\n",
       "      <th>Sex</th>\n",
       "      <th>Age</th>\n",
       "      <th>SibSp</th>\n",
       "      <th>Parch</th>\n",
       "      <th>Ticket</th>\n",
       "      <th>Fare</th>\n",
       "      <th>Cabin</th>\n",
       "      <th>Embarked</th>\n",
       "    </tr>\n",
       "  </thead>\n",
       "  <tbody>\n",
       "    <tr>\n",
       "      <th>0</th>\n",
       "      <td>1</td>\n",
       "      <td>0</td>\n",
       "      <td>3</td>\n",
       "      <td>Braund, Mr. Owen Harris</td>\n",
       "      <td>male</td>\n",
       "      <td>22.0</td>\n",
       "      <td>1</td>\n",
       "      <td>0</td>\n",
       "      <td>A/5 21171</td>\n",
       "      <td>7.2500</td>\n",
       "      <td>NaN</td>\n",
       "      <td>S</td>\n",
       "    </tr>\n",
       "    <tr>\n",
       "      <th>1</th>\n",
       "      <td>2</td>\n",
       "      <td>1</td>\n",
       "      <td>1</td>\n",
       "      <td>Cumings, Mrs. John Bradley (Florence Briggs Th...</td>\n",
       "      <td>female</td>\n",
       "      <td>38.0</td>\n",
       "      <td>1</td>\n",
       "      <td>0</td>\n",
       "      <td>PC 17599</td>\n",
       "      <td>71.2833</td>\n",
       "      <td>C85</td>\n",
       "      <td>C</td>\n",
       "    </tr>\n",
       "    <tr>\n",
       "      <th>2</th>\n",
       "      <td>3</td>\n",
       "      <td>1</td>\n",
       "      <td>3</td>\n",
       "      <td>Heikkinen, Miss. Laina</td>\n",
       "      <td>female</td>\n",
       "      <td>26.0</td>\n",
       "      <td>0</td>\n",
       "      <td>0</td>\n",
       "      <td>STON/O2. 3101282</td>\n",
       "      <td>7.9250</td>\n",
       "      <td>NaN</td>\n",
       "      <td>S</td>\n",
       "    </tr>\n",
       "    <tr>\n",
       "      <th>3</th>\n",
       "      <td>4</td>\n",
       "      <td>1</td>\n",
       "      <td>1</td>\n",
       "      <td>Futrelle, Mrs. Jacques Heath (Lily May Peel)</td>\n",
       "      <td>female</td>\n",
       "      <td>35.0</td>\n",
       "      <td>1</td>\n",
       "      <td>0</td>\n",
       "      <td>113803</td>\n",
       "      <td>53.1000</td>\n",
       "      <td>C123</td>\n",
       "      <td>S</td>\n",
       "    </tr>\n",
       "    <tr>\n",
       "      <th>4</th>\n",
       "      <td>5</td>\n",
       "      <td>0</td>\n",
       "      <td>3</td>\n",
       "      <td>Allen, Mr. William Henry</td>\n",
       "      <td>male</td>\n",
       "      <td>35.0</td>\n",
       "      <td>0</td>\n",
       "      <td>0</td>\n",
       "      <td>373450</td>\n",
       "      <td>8.0500</td>\n",
       "      <td>NaN</td>\n",
       "      <td>S</td>\n",
       "    </tr>\n",
       "  </tbody>\n",
       "</table>\n",
       "</div>"
      ],
      "text/plain": [
       "   PassengerId  Survived  Pclass  \\\n",
       "0            1         0       3   \n",
       "1            2         1       1   \n",
       "2            3         1       3   \n",
       "3            4         1       1   \n",
       "4            5         0       3   \n",
       "\n",
       "                                                Name     Sex   Age  SibSp  \\\n",
       "0                            Braund, Mr. Owen Harris    male  22.0      1   \n",
       "1  Cumings, Mrs. John Bradley (Florence Briggs Th...  female  38.0      1   \n",
       "2                             Heikkinen, Miss. Laina  female  26.0      0   \n",
       "3       Futrelle, Mrs. Jacques Heath (Lily May Peel)  female  35.0      1   \n",
       "4                           Allen, Mr. William Henry    male  35.0      0   \n",
       "\n",
       "   Parch            Ticket     Fare Cabin Embarked  \n",
       "0      0         A/5 21171   7.2500   NaN        S  \n",
       "1      0          PC 17599  71.2833   C85        C  \n",
       "2      0  STON/O2. 3101282   7.9250   NaN        S  \n",
       "3      0            113803  53.1000  C123        S  \n",
       "4      0            373450   8.0500   NaN        S  "
      ]
     },
     "execution_count": 3,
     "metadata": {},
     "output_type": "execute_result"
    }
   ],
   "source": [
    "df.head()"
   ]
  },
  {
   "cell_type": "code",
   "execution_count": 4,
   "id": "f1b67dbc",
   "metadata": {
    "execution": {
     "iopub.execute_input": "2024-05-02T13:52:39.212322Z",
     "iopub.status.busy": "2024-05-02T13:52:39.211508Z",
     "iopub.status.idle": "2024-05-02T13:52:39.224097Z",
     "shell.execute_reply": "2024-05-02T13:52:39.222938Z"
    },
    "papermill": {
     "duration": 0.023921,
     "end_time": "2024-05-02T13:52:39.226406",
     "exception": false,
     "start_time": "2024-05-02T13:52:39.202485",
     "status": "completed"
    },
    "tags": []
   },
   "outputs": [],
   "source": [
    "df.drop(columns=['PassengerId','Name','Ticket','Cabin'],inplace=True)"
   ]
  },
  {
   "cell_type": "code",
   "execution_count": 5,
   "id": "8ed05de5",
   "metadata": {
    "execution": {
     "iopub.execute_input": "2024-05-02T13:52:39.244497Z",
     "iopub.status.busy": "2024-05-02T13:52:39.244097Z",
     "iopub.status.idle": "2024-05-02T13:52:39.257886Z",
     "shell.execute_reply": "2024-05-02T13:52:39.256664Z"
    },
    "papermill": {
     "duration": 0.025266,
     "end_time": "2024-05-02T13:52:39.260135",
     "exception": false,
     "start_time": "2024-05-02T13:52:39.234869",
     "status": "completed"
    },
    "tags": []
   },
   "outputs": [
    {
     "data": {
      "text/html": [
       "<div>\n",
       "<style scoped>\n",
       "    .dataframe tbody tr th:only-of-type {\n",
       "        vertical-align: middle;\n",
       "    }\n",
       "\n",
       "    .dataframe tbody tr th {\n",
       "        vertical-align: top;\n",
       "    }\n",
       "\n",
       "    .dataframe thead th {\n",
       "        text-align: right;\n",
       "    }\n",
       "</style>\n",
       "<table border=\"1\" class=\"dataframe\">\n",
       "  <thead>\n",
       "    <tr style=\"text-align: right;\">\n",
       "      <th></th>\n",
       "      <th>Survived</th>\n",
       "      <th>Pclass</th>\n",
       "      <th>Sex</th>\n",
       "      <th>Age</th>\n",
       "      <th>SibSp</th>\n",
       "      <th>Parch</th>\n",
       "      <th>Fare</th>\n",
       "      <th>Embarked</th>\n",
       "    </tr>\n",
       "  </thead>\n",
       "  <tbody>\n",
       "    <tr>\n",
       "      <th>0</th>\n",
       "      <td>0</td>\n",
       "      <td>3</td>\n",
       "      <td>male</td>\n",
       "      <td>22.0</td>\n",
       "      <td>1</td>\n",
       "      <td>0</td>\n",
       "      <td>7.2500</td>\n",
       "      <td>S</td>\n",
       "    </tr>\n",
       "    <tr>\n",
       "      <th>1</th>\n",
       "      <td>1</td>\n",
       "      <td>1</td>\n",
       "      <td>female</td>\n",
       "      <td>38.0</td>\n",
       "      <td>1</td>\n",
       "      <td>0</td>\n",
       "      <td>71.2833</td>\n",
       "      <td>C</td>\n",
       "    </tr>\n",
       "    <tr>\n",
       "      <th>2</th>\n",
       "      <td>1</td>\n",
       "      <td>3</td>\n",
       "      <td>female</td>\n",
       "      <td>26.0</td>\n",
       "      <td>0</td>\n",
       "      <td>0</td>\n",
       "      <td>7.9250</td>\n",
       "      <td>S</td>\n",
       "    </tr>\n",
       "    <tr>\n",
       "      <th>3</th>\n",
       "      <td>1</td>\n",
       "      <td>1</td>\n",
       "      <td>female</td>\n",
       "      <td>35.0</td>\n",
       "      <td>1</td>\n",
       "      <td>0</td>\n",
       "      <td>53.1000</td>\n",
       "      <td>S</td>\n",
       "    </tr>\n",
       "    <tr>\n",
       "      <th>4</th>\n",
       "      <td>0</td>\n",
       "      <td>3</td>\n",
       "      <td>male</td>\n",
       "      <td>35.0</td>\n",
       "      <td>0</td>\n",
       "      <td>0</td>\n",
       "      <td>8.0500</td>\n",
       "      <td>S</td>\n",
       "    </tr>\n",
       "  </tbody>\n",
       "</table>\n",
       "</div>"
      ],
      "text/plain": [
       "   Survived  Pclass     Sex   Age  SibSp  Parch     Fare Embarked\n",
       "0         0       3    male  22.0      1      0   7.2500        S\n",
       "1         1       1  female  38.0      1      0  71.2833        C\n",
       "2         1       3  female  26.0      0      0   7.9250        S\n",
       "3         1       1  female  35.0      1      0  53.1000        S\n",
       "4         0       3    male  35.0      0      0   8.0500        S"
      ]
     },
     "execution_count": 5,
     "metadata": {},
     "output_type": "execute_result"
    }
   ],
   "source": [
    "df.head()"
   ]
  },
  {
   "cell_type": "code",
   "execution_count": 6,
   "id": "fb8c88b1",
   "metadata": {
    "execution": {
     "iopub.execute_input": "2024-05-02T13:52:39.278448Z",
     "iopub.status.busy": "2024-05-02T13:52:39.277497Z",
     "iopub.status.idle": "2024-05-02T13:52:39.288683Z",
     "shell.execute_reply": "2024-05-02T13:52:39.287792Z"
    },
    "papermill": {
     "duration": 0.022711,
     "end_time": "2024-05-02T13:52:39.291018",
     "exception": false,
     "start_time": "2024-05-02T13:52:39.268307",
     "status": "completed"
    },
    "tags": []
   },
   "outputs": [],
   "source": [
    "# Step 1 -> train/test/split\n",
    "X_train,X_test,y_train,y_test = train_test_split(df.drop(columns=['Survived']),\n",
    "                                                 df['Survived'],\n",
    "                                                 test_size=0.2,\n",
    "                                                random_state=42)"
   ]
  },
  {
   "cell_type": "code",
   "execution_count": 7,
   "id": "bd0c39e2",
   "metadata": {
    "execution": {
     "iopub.execute_input": "2024-05-02T13:52:39.309908Z",
     "iopub.status.busy": "2024-05-02T13:52:39.309120Z",
     "iopub.status.idle": "2024-05-02T13:52:39.403348Z",
     "shell.execute_reply": "2024-05-02T13:52:39.402318Z"
    },
    "papermill": {
     "duration": 0.105404,
     "end_time": "2024-05-02T13:52:39.405437",
     "exception": false,
     "start_time": "2024-05-02T13:52:39.300033",
     "status": "completed"
    },
    "tags": []
   },
   "outputs": [
    {
     "data": {
      "text/html": [
       "<div>\n",
       "<style scoped>\n",
       "    .dataframe tbody tr th:only-of-type {\n",
       "        vertical-align: middle;\n",
       "    }\n",
       "\n",
       "    .dataframe tbody tr th {\n",
       "        vertical-align: top;\n",
       "    }\n",
       "\n",
       "    .dataframe thead th {\n",
       "        text-align: right;\n",
       "    }\n",
       "</style>\n",
       "<table border=\"1\" class=\"dataframe\">\n",
       "  <thead>\n",
       "    <tr style=\"text-align: right;\">\n",
       "      <th></th>\n",
       "      <th>Pclass</th>\n",
       "      <th>Sex</th>\n",
       "      <th>Age</th>\n",
       "      <th>SibSp</th>\n",
       "      <th>Parch</th>\n",
       "      <th>Fare</th>\n",
       "      <th>Embarked</th>\n",
       "    </tr>\n",
       "  </thead>\n",
       "  <tbody>\n",
       "    <tr>\n",
       "      <th>331</th>\n",
       "      <td>1</td>\n",
       "      <td>male</td>\n",
       "      <td>45.5</td>\n",
       "      <td>0</td>\n",
       "      <td>0</td>\n",
       "      <td>28.5</td>\n",
       "      <td>S</td>\n",
       "    </tr>\n",
       "    <tr>\n",
       "      <th>733</th>\n",
       "      <td>2</td>\n",
       "      <td>male</td>\n",
       "      <td>23.0</td>\n",
       "      <td>0</td>\n",
       "      <td>0</td>\n",
       "      <td>13.0</td>\n",
       "      <td>S</td>\n",
       "    </tr>\n",
       "  </tbody>\n",
       "</table>\n",
       "</div>"
      ],
      "text/plain": [
       "     Pclass   Sex   Age  SibSp  Parch  Fare Embarked\n",
       "331       1  male  45.5      0      0  28.5        S\n",
       "733       2  male  23.0      0      0  13.0        S"
      ]
     },
     "execution_count": 7,
     "metadata": {},
     "output_type": "execute_result"
    }
   ],
   "source": [
    "X_train.head(2)"
   ]
  },
  {
   "cell_type": "code",
   "execution_count": 8,
   "id": "3ea24b93",
   "metadata": {
    "execution": {
     "iopub.execute_input": "2024-05-02T13:52:39.423454Z",
     "iopub.status.busy": "2024-05-02T13:52:39.422712Z",
     "iopub.status.idle": "2024-05-02T13:52:39.430572Z",
     "shell.execute_reply": "2024-05-02T13:52:39.429449Z"
    },
    "papermill": {
     "duration": 0.019233,
     "end_time": "2024-05-02T13:52:39.432739",
     "exception": false,
     "start_time": "2024-05-02T13:52:39.413506",
     "status": "completed"
    },
    "tags": []
   },
   "outputs": [
    {
     "data": {
      "text/plain": [
       "331    0\n",
       "733    0\n",
       "382    0\n",
       "704    0\n",
       "813    0\n",
       "Name: Survived, dtype: int64"
      ]
     },
     "execution_count": 8,
     "metadata": {},
     "output_type": "execute_result"
    }
   ],
   "source": [
    "y_train.head()"
   ]
  },
  {
   "cell_type": "code",
   "execution_count": 9,
   "id": "0878ede9",
   "metadata": {
    "execution": {
     "iopub.execute_input": "2024-05-02T13:52:39.451428Z",
     "iopub.status.busy": "2024-05-02T13:52:39.450634Z",
     "iopub.status.idle": "2024-05-02T13:52:39.461888Z",
     "shell.execute_reply": "2024-05-02T13:52:39.460783Z"
    },
    "papermill": {
     "duration": 0.023525,
     "end_time": "2024-05-02T13:52:39.464460",
     "exception": false,
     "start_time": "2024-05-02T13:52:39.440935",
     "status": "completed"
    },
    "tags": []
   },
   "outputs": [
    {
     "data": {
      "text/plain": [
       "Survived      0\n",
       "Pclass        0\n",
       "Sex           0\n",
       "Age         177\n",
       "SibSp         0\n",
       "Parch         0\n",
       "Fare          0\n",
       "Embarked      2\n",
       "dtype: int64"
      ]
     },
     "execution_count": 9,
     "metadata": {},
     "output_type": "execute_result"
    }
   ],
   "source": [
    "df.isnull().sum()"
   ]
  },
  {
   "cell_type": "code",
   "execution_count": 10,
   "id": "a6a9a404",
   "metadata": {
    "execution": {
     "iopub.execute_input": "2024-05-02T13:52:39.483281Z",
     "iopub.status.busy": "2024-05-02T13:52:39.482507Z",
     "iopub.status.idle": "2024-05-02T13:52:39.487626Z",
     "shell.execute_reply": "2024-05-02T13:52:39.486637Z"
    },
    "papermill": {
     "duration": 0.016795,
     "end_time": "2024-05-02T13:52:39.489853",
     "exception": false,
     "start_time": "2024-05-02T13:52:39.473058",
     "status": "completed"
    },
    "tags": []
   },
   "outputs": [],
   "source": [
    "# Applying imputation\n",
    "si_age=SimpleImputer()\n",
    "si_embarked=SimpleImputer(strategy='most_frequent')"
   ]
  },
  {
   "cell_type": "code",
   "execution_count": 11,
   "id": "675a3da8",
   "metadata": {
    "execution": {
     "iopub.execute_input": "2024-05-02T13:52:39.508131Z",
     "iopub.status.busy": "2024-05-02T13:52:39.507613Z",
     "iopub.status.idle": "2024-05-02T13:52:39.521804Z",
     "shell.execute_reply": "2024-05-02T13:52:39.520706Z"
    },
    "papermill": {
     "duration": 0.02584,
     "end_time": "2024-05-02T13:52:39.524105",
     "exception": false,
     "start_time": "2024-05-02T13:52:39.498265",
     "status": "completed"
    },
    "tags": []
   },
   "outputs": [],
   "source": [
    "X_train_age=si_age.fit_transform(X_train[['Age']])\n",
    "X_train_embarked=si_embarked.fit_transform(X_train[['Embarked']])"
   ]
  },
  {
   "cell_type": "code",
   "execution_count": 12,
   "id": "c9554c73",
   "metadata": {
    "execution": {
     "iopub.execute_input": "2024-05-02T13:52:39.542897Z",
     "iopub.status.busy": "2024-05-02T13:52:39.542424Z",
     "iopub.status.idle": "2024-05-02T13:52:39.555766Z",
     "shell.execute_reply": "2024-05-02T13:52:39.554761Z"
    },
    "papermill": {
     "duration": 0.025384,
     "end_time": "2024-05-02T13:52:39.558004",
     "exception": false,
     "start_time": "2024-05-02T13:52:39.532620",
     "status": "completed"
    },
    "tags": []
   },
   "outputs": [],
   "source": [
    "X_test_age=si_age.fit_transform(X_test[['Age']])\n",
    "X_test_embarked=si_embarked.fit_transform(X_test[['Embarked']])"
   ]
  },
  {
   "cell_type": "code",
   "execution_count": 13,
   "id": "c81b5181",
   "metadata": {
    "execution": {
     "iopub.execute_input": "2024-05-02T13:52:39.576139Z",
     "iopub.status.busy": "2024-05-02T13:52:39.575717Z",
     "iopub.status.idle": "2024-05-02T13:52:39.588808Z",
     "shell.execute_reply": "2024-05-02T13:52:39.587699Z"
    },
    "papermill": {
     "duration": 0.024921,
     "end_time": "2024-05-02T13:52:39.591181",
     "exception": false,
     "start_time": "2024-05-02T13:52:39.566260",
     "status": "completed"
    },
    "tags": []
   },
   "outputs": [
    {
     "data": {
      "text/plain": [
       "array([['S'],\n",
       "       ['S'],\n",
       "       ['S'],\n",
       "       ['S'],\n",
       "       ['S'],\n",
       "       ['C'],\n",
       "       ['S'],\n",
       "       ['C'],\n",
       "       ['S'],\n",
       "       ['S'],\n",
       "       ['S'],\n",
       "       ['S'],\n",
       "       ['S'],\n",
       "       ['S'],\n",
       "       ['S'],\n",
       "       ['S'],\n",
       "       ['S'],\n",
       "       ['C'],\n",
       "       ['S'],\n",
       "       ['S'],\n",
       "       ['S'],\n",
       "       ['S'],\n",
       "       ['S'],\n",
       "       ['S'],\n",
       "       ['S'],\n",
       "       ['C'],\n",
       "       ['C'],\n",
       "       ['S'],\n",
       "       ['S'],\n",
       "       ['C'],\n",
       "       ['S'],\n",
       "       ['C'],\n",
       "       ['S'],\n",
       "       ['Q'],\n",
       "       ['Q'],\n",
       "       ['S'],\n",
       "       ['S'],\n",
       "       ['S'],\n",
       "       ['C'],\n",
       "       ['S'],\n",
       "       ['S'],\n",
       "       ['S'],\n",
       "       ['S'],\n",
       "       ['S'],\n",
       "       ['S'],\n",
       "       ['S'],\n",
       "       ['S'],\n",
       "       ['S'],\n",
       "       ['S'],\n",
       "       ['S'],\n",
       "       ['S'],\n",
       "       ['S'],\n",
       "       ['C'],\n",
       "       ['Q'],\n",
       "       ['C'],\n",
       "       ['S'],\n",
       "       ['S'],\n",
       "       ['S'],\n",
       "       ['S'],\n",
       "       ['C'],\n",
       "       ['Q'],\n",
       "       ['S'],\n",
       "       ['S'],\n",
       "       ['C'],\n",
       "       ['S'],\n",
       "       ['C'],\n",
       "       ['S'],\n",
       "       ['S'],\n",
       "       ['S'],\n",
       "       ['S'],\n",
       "       ['S'],\n",
       "       ['S'],\n",
       "       ['S'],\n",
       "       ['Q'],\n",
       "       ['C'],\n",
       "       ['S'],\n",
       "       ['S'],\n",
       "       ['S'],\n",
       "       ['S'],\n",
       "       ['S'],\n",
       "       ['S'],\n",
       "       ['S'],\n",
       "       ['C'],\n",
       "       ['S'],\n",
       "       ['S'],\n",
       "       ['S'],\n",
       "       ['S'],\n",
       "       ['S'],\n",
       "       ['S'],\n",
       "       ['S'],\n",
       "       ['S'],\n",
       "       ['S'],\n",
       "       ['S'],\n",
       "       ['S'],\n",
       "       ['S'],\n",
       "       ['S'],\n",
       "       ['S'],\n",
       "       ['S'],\n",
       "       ['C'],\n",
       "       ['C'],\n",
       "       ['S'],\n",
       "       ['S'],\n",
       "       ['S'],\n",
       "       ['S'],\n",
       "       ['S'],\n",
       "       ['C'],\n",
       "       ['S'],\n",
       "       ['Q'],\n",
       "       ['S'],\n",
       "       ['S'],\n",
       "       ['S'],\n",
       "       ['S'],\n",
       "       ['Q'],\n",
       "       ['C'],\n",
       "       ['C'],\n",
       "       ['S'],\n",
       "       ['S'],\n",
       "       ['Q'],\n",
       "       ['C'],\n",
       "       ['C'],\n",
       "       ['S'],\n",
       "       ['S'],\n",
       "       ['C'],\n",
       "       ['S'],\n",
       "       ['S'],\n",
       "       ['S'],\n",
       "       ['C'],\n",
       "       ['S'],\n",
       "       ['S'],\n",
       "       ['S'],\n",
       "       ['S'],\n",
       "       ['S'],\n",
       "       ['S'],\n",
       "       ['C'],\n",
       "       ['S'],\n",
       "       ['S'],\n",
       "       ['S'],\n",
       "       ['S'],\n",
       "       ['S'],\n",
       "       ['S'],\n",
       "       ['S'],\n",
       "       ['S'],\n",
       "       ['S'],\n",
       "       ['S'],\n",
       "       ['S'],\n",
       "       ['S'],\n",
       "       ['S'],\n",
       "       ['S'],\n",
       "       ['Q'],\n",
       "       ['S'],\n",
       "       ['Q'],\n",
       "       ['C'],\n",
       "       ['C'],\n",
       "       ['S'],\n",
       "       ['S'],\n",
       "       ['S'],\n",
       "       ['S'],\n",
       "       ['S'],\n",
       "       ['S'],\n",
       "       ['C'],\n",
       "       ['S'],\n",
       "       ['S'],\n",
       "       ['S'],\n",
       "       ['S'],\n",
       "       ['S'],\n",
       "       ['Q'],\n",
       "       ['S'],\n",
       "       ['C'],\n",
       "       ['S'],\n",
       "       ['C'],\n",
       "       ['S'],\n",
       "       ['C'],\n",
       "       ['S'],\n",
       "       ['S'],\n",
       "       ['S'],\n",
       "       ['S'],\n",
       "       ['S'],\n",
       "       ['S'],\n",
       "       ['S'],\n",
       "       ['Q'],\n",
       "       ['S'],\n",
       "       ['S'],\n",
       "       ['S'],\n",
       "       ['Q'],\n",
       "       ['S'],\n",
       "       ['C'],\n",
       "       ['Q'],\n",
       "       ['S'],\n",
       "       ['S'],\n",
       "       ['S'],\n",
       "       ['S'],\n",
       "       ['C'],\n",
       "       ['C'],\n",
       "       ['Q'],\n",
       "       ['S'],\n",
       "       ['S'],\n",
       "       ['S'],\n",
       "       ['S'],\n",
       "       ['S'],\n",
       "       ['C'],\n",
       "       ['C'],\n",
       "       ['C'],\n",
       "       ['S'],\n",
       "       ['S'],\n",
       "       ['C'],\n",
       "       ['S'],\n",
       "       ['S'],\n",
       "       ['S'],\n",
       "       ['C'],\n",
       "       ['S'],\n",
       "       ['Q'],\n",
       "       ['C'],\n",
       "       ['C'],\n",
       "       ['C'],\n",
       "       ['S'],\n",
       "       ['S'],\n",
       "       ['S'],\n",
       "       ['S'],\n",
       "       ['S'],\n",
       "       ['S'],\n",
       "       ['S'],\n",
       "       ['S'],\n",
       "       ['Q'],\n",
       "       ['C'],\n",
       "       ['S'],\n",
       "       ['C'],\n",
       "       ['Q'],\n",
       "       ['C'],\n",
       "       ['S'],\n",
       "       ['S'],\n",
       "       ['S'],\n",
       "       ['C'],\n",
       "       ['S'],\n",
       "       ['S'],\n",
       "       ['C'],\n",
       "       ['S'],\n",
       "       ['Q'],\n",
       "       ['S'],\n",
       "       ['S'],\n",
       "       ['S'],\n",
       "       ['C'],\n",
       "       ['C'],\n",
       "       ['S'],\n",
       "       ['S'],\n",
       "       ['S'],\n",
       "       ['S'],\n",
       "       ['C'],\n",
       "       ['S'],\n",
       "       ['S'],\n",
       "       ['S'],\n",
       "       ['S'],\n",
       "       ['S'],\n",
       "       ['S'],\n",
       "       ['S'],\n",
       "       ['S'],\n",
       "       ['C'],\n",
       "       ['S'],\n",
       "       ['S'],\n",
       "       ['S'],\n",
       "       ['S'],\n",
       "       ['S'],\n",
       "       ['S'],\n",
       "       ['Q'],\n",
       "       ['Q'],\n",
       "       ['S'],\n",
       "       ['S'],\n",
       "       ['S'],\n",
       "       ['S'],\n",
       "       ['S'],\n",
       "       ['S'],\n",
       "       ['S'],\n",
       "       ['C'],\n",
       "       ['C'],\n",
       "       ['Q'],\n",
       "       ['S'],\n",
       "       ['S'],\n",
       "       ['S'],\n",
       "       ['S'],\n",
       "       ['C'],\n",
       "       ['S'],\n",
       "       ['C'],\n",
       "       ['Q'],\n",
       "       ['Q'],\n",
       "       ['C'],\n",
       "       ['Q'],\n",
       "       ['S'],\n",
       "       ['C'],\n",
       "       ['S'],\n",
       "       ['C'],\n",
       "       ['S'],\n",
       "       ['Q'],\n",
       "       ['S'],\n",
       "       ['S'],\n",
       "       ['S'],\n",
       "       ['S'],\n",
       "       ['S'],\n",
       "       ['S'],\n",
       "       ['S'],\n",
       "       ['C'],\n",
       "       ['S'],\n",
       "       ['S'],\n",
       "       ['C'],\n",
       "       ['S'],\n",
       "       ['C'],\n",
       "       ['C'],\n",
       "       ['Q'],\n",
       "       ['S'],\n",
       "       ['S'],\n",
       "       ['S'],\n",
       "       ['S'],\n",
       "       ['S'],\n",
       "       ['C'],\n",
       "       ['Q'],\n",
       "       ['S'],\n",
       "       ['S'],\n",
       "       ['C'],\n",
       "       ['S'],\n",
       "       ['S'],\n",
       "       ['S'],\n",
       "       ['C'],\n",
       "       ['S'],\n",
       "       ['S'],\n",
       "       ['S'],\n",
       "       ['S'],\n",
       "       ['S'],\n",
       "       ['S'],\n",
       "       ['S'],\n",
       "       ['S'],\n",
       "       ['S'],\n",
       "       ['S'],\n",
       "       ['C'],\n",
       "       ['C'],\n",
       "       ['S'],\n",
       "       ['S'],\n",
       "       ['Q'],\n",
       "       ['S'],\n",
       "       ['S'],\n",
       "       ['S'],\n",
       "       ['S'],\n",
       "       ['S'],\n",
       "       ['S'],\n",
       "       ['S'],\n",
       "       ['S'],\n",
       "       ['C'],\n",
       "       ['S'],\n",
       "       ['S'],\n",
       "       ['S'],\n",
       "       ['S'],\n",
       "       ['C'],\n",
       "       ['S'],\n",
       "       ['S'],\n",
       "       ['Q'],\n",
       "       ['S'],\n",
       "       ['S'],\n",
       "       ['Q'],\n",
       "       ['S'],\n",
       "       ['S'],\n",
       "       ['S'],\n",
       "       ['S'],\n",
       "       ['S'],\n",
       "       ['S'],\n",
       "       ['Q'],\n",
       "       ['C'],\n",
       "       ['S'],\n",
       "       ['S'],\n",
       "       ['S'],\n",
       "       ['S'],\n",
       "       ['C'],\n",
       "       ['S'],\n",
       "       ['Q'],\n",
       "       ['C'],\n",
       "       ['S'],\n",
       "       ['S'],\n",
       "       ['S'],\n",
       "       ['S'],\n",
       "       ['Q'],\n",
       "       ['C'],\n",
       "       ['S'],\n",
       "       ['S'],\n",
       "       ['S'],\n",
       "       ['S'],\n",
       "       ['Q'],\n",
       "       ['Q'],\n",
       "       ['S'],\n",
       "       ['C'],\n",
       "       ['S'],\n",
       "       ['Q'],\n",
       "       ['S'],\n",
       "       ['S'],\n",
       "       ['S'],\n",
       "       ['S'],\n",
       "       ['S'],\n",
       "       ['S'],\n",
       "       ['C'],\n",
       "       ['S'],\n",
       "       ['S'],\n",
       "       ['S'],\n",
       "       ['Q'],\n",
       "       ['S'],\n",
       "       ['S'],\n",
       "       ['S'],\n",
       "       ['S'],\n",
       "       ['C'],\n",
       "       ['C'],\n",
       "       ['S'],\n",
       "       ['S'],\n",
       "       ['C'],\n",
       "       ['S'],\n",
       "       ['S'],\n",
       "       ['S'],\n",
       "       ['S'],\n",
       "       ['S'],\n",
       "       ['S'],\n",
       "       ['S'],\n",
       "       ['S'],\n",
       "       ['S'],\n",
       "       ['S'],\n",
       "       ['S'],\n",
       "       ['Q'],\n",
       "       ['S'],\n",
       "       ['C'],\n",
       "       ['S'],\n",
       "       ['S'],\n",
       "       ['S'],\n",
       "       ['Q'],\n",
       "       ['S'],\n",
       "       ['S'],\n",
       "       ['S'],\n",
       "       ['S'],\n",
       "       ['S'],\n",
       "       ['S'],\n",
       "       ['C'],\n",
       "       ['C'],\n",
       "       ['S'],\n",
       "       ['S'],\n",
       "       ['S'],\n",
       "       ['S'],\n",
       "       ['C'],\n",
       "       ['C'],\n",
       "       ['S'],\n",
       "       ['Q'],\n",
       "       ['S'],\n",
       "       ['S'],\n",
       "       ['S'],\n",
       "       ['S'],\n",
       "       ['S'],\n",
       "       ['S'],\n",
       "       ['S'],\n",
       "       ['S'],\n",
       "       ['S'],\n",
       "       ['S'],\n",
       "       ['C'],\n",
       "       ['C'],\n",
       "       ['S'],\n",
       "       ['S'],\n",
       "       ['S'],\n",
       "       ['S'],\n",
       "       ['S'],\n",
       "       ['S'],\n",
       "       ['S'],\n",
       "       ['S'],\n",
       "       ['C'],\n",
       "       ['Q'],\n",
       "       ['S'],\n",
       "       ['S'],\n",
       "       ['C'],\n",
       "       ['Q'],\n",
       "       ['S'],\n",
       "       ['S'],\n",
       "       ['S'],\n",
       "       ['S'],\n",
       "       ['S'],\n",
       "       ['S'],\n",
       "       ['C'],\n",
       "       ['S'],\n",
       "       ['S'],\n",
       "       ['S'],\n",
       "       ['S'],\n",
       "       ['S'],\n",
       "       ['S'],\n",
       "       ['S'],\n",
       "       ['S'],\n",
       "       ['S'],\n",
       "       ['S'],\n",
       "       ['S'],\n",
       "       ['S'],\n",
       "       ['S'],\n",
       "       ['C'],\n",
       "       ['S'],\n",
       "       ['S'],\n",
       "       ['S'],\n",
       "       ['S'],\n",
       "       ['S'],\n",
       "       ['Q'],\n",
       "       ['S'],\n",
       "       ['S'],\n",
       "       ['S'],\n",
       "       ['S'],\n",
       "       ['S'],\n",
       "       ['S'],\n",
       "       ['C'],\n",
       "       ['S'],\n",
       "       ['S'],\n",
       "       ['S'],\n",
       "       ['S'],\n",
       "       ['S'],\n",
       "       ['C'],\n",
       "       ['S'],\n",
       "       ['S'],\n",
       "       ['S'],\n",
       "       ['S'],\n",
       "       ['S'],\n",
       "       ['S'],\n",
       "       ['S'],\n",
       "       ['S'],\n",
       "       ['C'],\n",
       "       ['Q'],\n",
       "       ['C'],\n",
       "       ['S'],\n",
       "       ['C'],\n",
       "       ['S'],\n",
       "       ['S'],\n",
       "       ['S'],\n",
       "       ['S'],\n",
       "       ['S'],\n",
       "       ['S'],\n",
       "       ['S'],\n",
       "       ['S'],\n",
       "       ['C'],\n",
       "       ['S'],\n",
       "       ['S'],\n",
       "       ['S'],\n",
       "       ['C'],\n",
       "       ['S'],\n",
       "       ['S'],\n",
       "       ['C'],\n",
       "       ['S'],\n",
       "       ['C'],\n",
       "       ['S'],\n",
       "       ['S'],\n",
       "       ['S'],\n",
       "       ['S'],\n",
       "       ['C'],\n",
       "       ['S'],\n",
       "       ['C'],\n",
       "       ['S'],\n",
       "       ['S'],\n",
       "       ['S'],\n",
       "       ['Q'],\n",
       "       ['S'],\n",
       "       ['S'],\n",
       "       ['S'],\n",
       "       ['S'],\n",
       "       ['S'],\n",
       "       ['C'],\n",
       "       ['S'],\n",
       "       ['S'],\n",
       "       ['S'],\n",
       "       ['C'],\n",
       "       ['C'],\n",
       "       ['S'],\n",
       "       ['S'],\n",
       "       ['S'],\n",
       "       ['S'],\n",
       "       ['S'],\n",
       "       ['S'],\n",
       "       ['S'],\n",
       "       ['S'],\n",
       "       ['Q'],\n",
       "       ['S'],\n",
       "       ['S'],\n",
       "       ['S'],\n",
       "       ['S'],\n",
       "       ['S'],\n",
       "       ['Q'],\n",
       "       ['Q'],\n",
       "       ['S'],\n",
       "       ['Q'],\n",
       "       ['Q'],\n",
       "       ['Q'],\n",
       "       ['S'],\n",
       "       ['S'],\n",
       "       ['S'],\n",
       "       ['C'],\n",
       "       ['S'],\n",
       "       ['S'],\n",
       "       ['C'],\n",
       "       ['S'],\n",
       "       ['S'],\n",
       "       ['S'],\n",
       "       ['S'],\n",
       "       ['S'],\n",
       "       ['S'],\n",
       "       ['S'],\n",
       "       ['S'],\n",
       "       ['S'],\n",
       "       ['C'],\n",
       "       ['C'],\n",
       "       ['S'],\n",
       "       ['S'],\n",
       "       ['C'],\n",
       "       ['S'],\n",
       "       ['Q'],\n",
       "       ['S'],\n",
       "       ['S'],\n",
       "       ['S'],\n",
       "       ['S'],\n",
       "       ['S'],\n",
       "       ['S'],\n",
       "       ['C'],\n",
       "       ['C'],\n",
       "       ['S'],\n",
       "       ['S'],\n",
       "       ['S'],\n",
       "       ['C'],\n",
       "       ['S'],\n",
       "       ['S'],\n",
       "       ['S'],\n",
       "       ['S'],\n",
       "       ['C'],\n",
       "       ['S'],\n",
       "       ['S'],\n",
       "       ['S'],\n",
       "       ['S'],\n",
       "       ['S'],\n",
       "       ['S'],\n",
       "       ['S'],\n",
       "       ['C'],\n",
       "       ['S'],\n",
       "       ['S'],\n",
       "       ['S'],\n",
       "       ['S'],\n",
       "       ['C'],\n",
       "       ['C'],\n",
       "       ['C'],\n",
       "       ['S'],\n",
       "       ['S'],\n",
       "       ['S'],\n",
       "       ['C'],\n",
       "       ['S'],\n",
       "       ['S'],\n",
       "       ['S'],\n",
       "       ['S'],\n",
       "       ['C'],\n",
       "       ['S'],\n",
       "       ['S'],\n",
       "       ['S'],\n",
       "       ['S'],\n",
       "       ['Q'],\n",
       "       ['Q'],\n",
       "       ['S'],\n",
       "       ['S'],\n",
       "       ['S'],\n",
       "       ['S'],\n",
       "       ['C'],\n",
       "       ['S'],\n",
       "       ['S'],\n",
       "       ['S'],\n",
       "       ['S'],\n",
       "       ['C'],\n",
       "       ['S'],\n",
       "       ['S'],\n",
       "       ['S'],\n",
       "       ['S'],\n",
       "       ['S'],\n",
       "       ['S'],\n",
       "       ['S'],\n",
       "       ['S'],\n",
       "       ['S'],\n",
       "       ['S'],\n",
       "       ['S'],\n",
       "       ['C'],\n",
       "       ['Q'],\n",
       "       ['S'],\n",
       "       ['S'],\n",
       "       ['Q'],\n",
       "       ['S'],\n",
       "       ['S'],\n",
       "       ['S'],\n",
       "       ['S'],\n",
       "       ['Q'],\n",
       "       ['S'],\n",
       "       ['S'],\n",
       "       ['S'],\n",
       "       ['S'],\n",
       "       ['S'],\n",
       "       ['S'],\n",
       "       ['S'],\n",
       "       ['S'],\n",
       "       ['S'],\n",
       "       ['C'],\n",
       "       ['C'],\n",
       "       ['C'],\n",
       "       ['S'],\n",
       "       ['S'],\n",
       "       ['S'],\n",
       "       ['S'],\n",
       "       ['S'],\n",
       "       ['S'],\n",
       "       ['Q'],\n",
       "       ['Q'],\n",
       "       ['S'],\n",
       "       ['S'],\n",
       "       ['S'],\n",
       "       ['S'],\n",
       "       ['C'],\n",
       "       ['S'],\n",
       "       ['S'],\n",
       "       ['S'],\n",
       "       ['S'],\n",
       "       ['S'],\n",
       "       ['S']], dtype=object)"
      ]
     },
     "execution_count": 13,
     "metadata": {},
     "output_type": "execute_result"
    }
   ],
   "source": [
    "X_train_embarked"
   ]
  },
  {
   "cell_type": "code",
   "execution_count": 14,
   "id": "bc09cba7",
   "metadata": {
    "execution": {
     "iopub.execute_input": "2024-05-02T13:52:39.610748Z",
     "iopub.status.busy": "2024-05-02T13:52:39.610369Z",
     "iopub.status.idle": "2024-05-02T13:52:39.615346Z",
     "shell.execute_reply": "2024-05-02T13:52:39.614321Z"
    },
    "papermill": {
     "duration": 0.017237,
     "end_time": "2024-05-02T13:52:39.617481",
     "exception": false,
     "start_time": "2024-05-02T13:52:39.600244",
     "status": "completed"
    },
    "tags": []
   },
   "outputs": [],
   "source": [
    "# one hot encoding Sex and Embarked\n",
    "ohe_sex=OneHotEncoder(sparse=False,handle_unknown='ignore')\n",
    "ohe_embarked=OneHotEncoder(sparse=False,handle_unknown='ignore')"
   ]
  },
  {
   "cell_type": "code",
   "execution_count": 15,
   "id": "fd754270",
   "metadata": {
    "execution": {
     "iopub.execute_input": "2024-05-02T13:52:39.637466Z",
     "iopub.status.busy": "2024-05-02T13:52:39.637108Z",
     "iopub.status.idle": "2024-05-02T13:52:39.655999Z",
     "shell.execute_reply": "2024-05-02T13:52:39.654900Z"
    },
    "papermill": {
     "duration": 0.032222,
     "end_time": "2024-05-02T13:52:39.658838",
     "exception": false,
     "start_time": "2024-05-02T13:52:39.626616",
     "status": "completed"
    },
    "tags": []
   },
   "outputs": [
    {
     "name": "stderr",
     "output_type": "stream",
     "text": [
      "/opt/conda/lib/python3.10/site-packages/sklearn/preprocessing/_encoders.py:868: FutureWarning: `sparse` was renamed to `sparse_output` in version 1.2 and will be removed in 1.4. `sparse_output` is ignored unless you leave `sparse` to its default value.\n",
      "  warnings.warn(\n",
      "/opt/conda/lib/python3.10/site-packages/sklearn/preprocessing/_encoders.py:868: FutureWarning: `sparse` was renamed to `sparse_output` in version 1.2 and will be removed in 1.4. `sparse_output` is ignored unless you leave `sparse` to its default value.\n",
      "  warnings.warn(\n"
     ]
    }
   ],
   "source": [
    "X_train_sex = ohe_sex.fit_transform(X_train[['Sex']])\n",
    "X_train_embarked = ohe_embarked.fit_transform(X_train_embarked)\n",
    "\n",
    "X_test_sex = ohe_sex.transform(X_test[['Sex']])\n",
    "X_test_embarked = ohe_embarked.transform(X_test_embarked)"
   ]
  },
  {
   "cell_type": "code",
   "execution_count": 16,
   "id": "410404bc",
   "metadata": {
    "execution": {
     "iopub.execute_input": "2024-05-02T13:52:39.679056Z",
     "iopub.status.busy": "2024-05-02T13:52:39.678641Z",
     "iopub.status.idle": "2024-05-02T13:52:39.686268Z",
     "shell.execute_reply": "2024-05-02T13:52:39.685216Z"
    },
    "papermill": {
     "duration": 0.019948,
     "end_time": "2024-05-02T13:52:39.688406",
     "exception": false,
     "start_time": "2024-05-02T13:52:39.668458",
     "status": "completed"
    },
    "tags": []
   },
   "outputs": [
    {
     "data": {
      "text/plain": [
       "array([[0., 1.],\n",
       "       [0., 1.],\n",
       "       [0., 1.],\n",
       "       ...,\n",
       "       [0., 1.],\n",
       "       [1., 0.],\n",
       "       [0., 1.]])"
      ]
     },
     "execution_count": 16,
     "metadata": {},
     "output_type": "execute_result"
    }
   ],
   "source": [
    "X_train_sex"
   ]
  },
  {
   "cell_type": "code",
   "execution_count": 17,
   "id": "2f90e0b5",
   "metadata": {
    "execution": {
     "iopub.execute_input": "2024-05-02T13:52:39.708701Z",
     "iopub.status.busy": "2024-05-02T13:52:39.708326Z",
     "iopub.status.idle": "2024-05-02T13:52:39.715160Z",
     "shell.execute_reply": "2024-05-02T13:52:39.714133Z"
    },
    "papermill": {
     "duration": 0.019488,
     "end_time": "2024-05-02T13:52:39.717473",
     "exception": false,
     "start_time": "2024-05-02T13:52:39.697985",
     "status": "completed"
    },
    "tags": []
   },
   "outputs": [
    {
     "data": {
      "text/plain": [
       "array([[0., 0., 1.],\n",
       "       [0., 0., 1.],\n",
       "       [0., 0., 1.],\n",
       "       ...,\n",
       "       [0., 0., 1.],\n",
       "       [0., 0., 1.],\n",
       "       [0., 0., 1.]])"
      ]
     },
     "execution_count": 17,
     "metadata": {},
     "output_type": "execute_result"
    }
   ],
   "source": [
    "X_train_embarked"
   ]
  },
  {
   "cell_type": "code",
   "execution_count": 18,
   "id": "0ebaed1f",
   "metadata": {
    "execution": {
     "iopub.execute_input": "2024-05-02T13:52:39.738817Z",
     "iopub.status.busy": "2024-05-02T13:52:39.738397Z",
     "iopub.status.idle": "2024-05-02T13:52:39.744390Z",
     "shell.execute_reply": "2024-05-02T13:52:39.743280Z"
    },
    "papermill": {
     "duration": 0.01897,
     "end_time": "2024-05-02T13:52:39.746545",
     "exception": false,
     "start_time": "2024-05-02T13:52:39.727575",
     "status": "completed"
    },
    "tags": []
   },
   "outputs": [],
   "source": [
    "X_train_rem = X_train.drop(columns=['Sex','Age','Embarked'])"
   ]
  },
  {
   "cell_type": "code",
   "execution_count": 19,
   "id": "fd5577a7",
   "metadata": {
    "execution": {
     "iopub.execute_input": "2024-05-02T13:52:39.766873Z",
     "iopub.status.busy": "2024-05-02T13:52:39.766392Z",
     "iopub.status.idle": "2024-05-02T13:52:39.772544Z",
     "shell.execute_reply": "2024-05-02T13:52:39.771500Z"
    },
    "papermill": {
     "duration": 0.018958,
     "end_time": "2024-05-02T13:52:39.774801",
     "exception": false,
     "start_time": "2024-05-02T13:52:39.755843",
     "status": "completed"
    },
    "tags": []
   },
   "outputs": [],
   "source": [
    "X_test_rem = X_test.drop(columns=['Sex','Age','Embarked'])"
   ]
  },
  {
   "cell_type": "code",
   "execution_count": 20,
   "id": "a2458b52",
   "metadata": {
    "execution": {
     "iopub.execute_input": "2024-05-02T13:52:39.794972Z",
     "iopub.status.busy": "2024-05-02T13:52:39.794565Z",
     "iopub.status.idle": "2024-05-02T13:52:39.800570Z",
     "shell.execute_reply": "2024-05-02T13:52:39.799564Z"
    },
    "papermill": {
     "duration": 0.018647,
     "end_time": "2024-05-02T13:52:39.802808",
     "exception": false,
     "start_time": "2024-05-02T13:52:39.784161",
     "status": "completed"
    },
    "tags": []
   },
   "outputs": [],
   "source": [
    "X_train_transformed = np.concatenate((X_train_rem,X_train_age,X_train_sex,X_train_embarked),axis=1)"
   ]
  },
  {
   "cell_type": "code",
   "execution_count": 21,
   "id": "e37f28cf",
   "metadata": {
    "execution": {
     "iopub.execute_input": "2024-05-02T13:52:39.824096Z",
     "iopub.status.busy": "2024-05-02T13:52:39.822655Z",
     "iopub.status.idle": "2024-05-02T13:52:39.830478Z",
     "shell.execute_reply": "2024-05-02T13:52:39.829479Z"
    },
    "papermill": {
     "duration": 0.020617,
     "end_time": "2024-05-02T13:52:39.832833",
     "exception": false,
     "start_time": "2024-05-02T13:52:39.812216",
     "status": "completed"
    },
    "tags": []
   },
   "outputs": [
    {
     "data": {
      "text/plain": [
       "array([[1., 0., 0., ..., 0., 0., 1.],\n",
       "       [2., 0., 0., ..., 0., 0., 1.],\n",
       "       [3., 0., 0., ..., 0., 0., 1.],\n",
       "       ...,\n",
       "       [3., 2., 0., ..., 0., 0., 1.],\n",
       "       [1., 1., 2., ..., 0., 0., 1.],\n",
       "       [1., 0., 1., ..., 0., 0., 1.]])"
      ]
     },
     "execution_count": 21,
     "metadata": {},
     "output_type": "execute_result"
    }
   ],
   "source": [
    "X_train_transformed"
   ]
  },
  {
   "cell_type": "code",
   "execution_count": 22,
   "id": "dc465d53",
   "metadata": {
    "execution": {
     "iopub.execute_input": "2024-05-02T13:52:39.853165Z",
     "iopub.status.busy": "2024-05-02T13:52:39.852789Z",
     "iopub.status.idle": "2024-05-02T13:52:39.858536Z",
     "shell.execute_reply": "2024-05-02T13:52:39.857483Z"
    },
    "papermill": {
     "duration": 0.018555,
     "end_time": "2024-05-02T13:52:39.860862",
     "exception": false,
     "start_time": "2024-05-02T13:52:39.842307",
     "status": "completed"
    },
    "tags": []
   },
   "outputs": [],
   "source": [
    "X_test_transformed = np.concatenate((X_test_rem,X_test_age,X_test_sex,X_test_embarked),axis=1)"
   ]
  },
  {
   "cell_type": "code",
   "execution_count": 23,
   "id": "db2f4704",
   "metadata": {
    "execution": {
     "iopub.execute_input": "2024-05-02T13:52:39.881324Z",
     "iopub.status.busy": "2024-05-02T13:52:39.880951Z",
     "iopub.status.idle": "2024-05-02T13:52:39.888070Z",
     "shell.execute_reply": "2024-05-02T13:52:39.887103Z"
    },
    "papermill": {
     "duration": 0.01978,
     "end_time": "2024-05-02T13:52:39.890131",
     "exception": false,
     "start_time": "2024-05-02T13:52:39.870351",
     "status": "completed"
    },
    "tags": []
   },
   "outputs": [
    {
     "data": {
      "text/plain": [
       "array([[3., 1., 1., ..., 1., 0., 0.],\n",
       "       [2., 0., 0., ..., 0., 0., 1.],\n",
       "       [3., 0., 0., ..., 0., 0., 1.],\n",
       "       ...,\n",
       "       [3., 1., 5., ..., 0., 0., 1.],\n",
       "       [2., 0., 0., ..., 0., 0., 1.],\n",
       "       [3., 1., 1., ..., 0., 0., 1.]])"
      ]
     },
     "execution_count": 23,
     "metadata": {},
     "output_type": "execute_result"
    }
   ],
   "source": [
    "X_test_transformed"
   ]
  },
  {
   "cell_type": "code",
   "execution_count": 24,
   "id": "7b5ff7ee",
   "metadata": {
    "execution": {
     "iopub.execute_input": "2024-05-02T13:52:39.910654Z",
     "iopub.status.busy": "2024-05-02T13:52:39.910270Z",
     "iopub.status.idle": "2024-05-02T13:52:39.917115Z",
     "shell.execute_reply": "2024-05-02T13:52:39.916090Z"
    },
    "papermill": {
     "duration": 0.019625,
     "end_time": "2024-05-02T13:52:39.919242",
     "exception": false,
     "start_time": "2024-05-02T13:52:39.899617",
     "status": "completed"
    },
    "tags": []
   },
   "outputs": [
    {
     "data": {
      "text/plain": [
       "(179, 10)"
      ]
     },
     "execution_count": 24,
     "metadata": {},
     "output_type": "execute_result"
    }
   ],
   "source": [
    "X_test_transformed.shape"
   ]
  },
  {
   "cell_type": "code",
   "execution_count": 25,
   "id": "035a2a78",
   "metadata": {
    "execution": {
     "iopub.execute_input": "2024-05-02T13:52:39.940520Z",
     "iopub.status.busy": "2024-05-02T13:52:39.940101Z",
     "iopub.status.idle": "2024-05-02T13:52:39.945031Z",
     "shell.execute_reply": "2024-05-02T13:52:39.944022Z"
    },
    "papermill": {
     "duration": 0.018061,
     "end_time": "2024-05-02T13:52:39.947260",
     "exception": false,
     "start_time": "2024-05-02T13:52:39.929199",
     "status": "completed"
    },
    "tags": []
   },
   "outputs": [],
   "source": [
    "clf=DecisionTreeClassifier()"
   ]
  },
  {
   "cell_type": "code",
   "execution_count": 26,
   "id": "2aae8342",
   "metadata": {
    "execution": {
     "iopub.execute_input": "2024-05-02T13:52:39.968563Z",
     "iopub.status.busy": "2024-05-02T13:52:39.968178Z",
     "iopub.status.idle": "2024-05-02T13:52:39.982107Z",
     "shell.execute_reply": "2024-05-02T13:52:39.981069Z"
    },
    "papermill": {
     "duration": 0.027251,
     "end_time": "2024-05-02T13:52:39.984535",
     "exception": false,
     "start_time": "2024-05-02T13:52:39.957284",
     "status": "completed"
    },
    "tags": []
   },
   "outputs": [
    {
     "data": {
      "text/html": [
       "<style>#sk-container-id-1 {color: black;background-color: white;}#sk-container-id-1 pre{padding: 0;}#sk-container-id-1 div.sk-toggleable {background-color: white;}#sk-container-id-1 label.sk-toggleable__label {cursor: pointer;display: block;width: 100%;margin-bottom: 0;padding: 0.3em;box-sizing: border-box;text-align: center;}#sk-container-id-1 label.sk-toggleable__label-arrow:before {content: \"▸\";float: left;margin-right: 0.25em;color: #696969;}#sk-container-id-1 label.sk-toggleable__label-arrow:hover:before {color: black;}#sk-container-id-1 div.sk-estimator:hover label.sk-toggleable__label-arrow:before {color: black;}#sk-container-id-1 div.sk-toggleable__content {max-height: 0;max-width: 0;overflow: hidden;text-align: left;background-color: #f0f8ff;}#sk-container-id-1 div.sk-toggleable__content pre {margin: 0.2em;color: black;border-radius: 0.25em;background-color: #f0f8ff;}#sk-container-id-1 input.sk-toggleable__control:checked~div.sk-toggleable__content {max-height: 200px;max-width: 100%;overflow: auto;}#sk-container-id-1 input.sk-toggleable__control:checked~label.sk-toggleable__label-arrow:before {content: \"▾\";}#sk-container-id-1 div.sk-estimator input.sk-toggleable__control:checked~label.sk-toggleable__label {background-color: #d4ebff;}#sk-container-id-1 div.sk-label input.sk-toggleable__control:checked~label.sk-toggleable__label {background-color: #d4ebff;}#sk-container-id-1 input.sk-hidden--visually {border: 0;clip: rect(1px 1px 1px 1px);clip: rect(1px, 1px, 1px, 1px);height: 1px;margin: -1px;overflow: hidden;padding: 0;position: absolute;width: 1px;}#sk-container-id-1 div.sk-estimator {font-family: monospace;background-color: #f0f8ff;border: 1px dotted black;border-radius: 0.25em;box-sizing: border-box;margin-bottom: 0.5em;}#sk-container-id-1 div.sk-estimator:hover {background-color: #d4ebff;}#sk-container-id-1 div.sk-parallel-item::after {content: \"\";width: 100%;border-bottom: 1px solid gray;flex-grow: 1;}#sk-container-id-1 div.sk-label:hover label.sk-toggleable__label {background-color: #d4ebff;}#sk-container-id-1 div.sk-serial::before {content: \"\";position: absolute;border-left: 1px solid gray;box-sizing: border-box;top: 0;bottom: 0;left: 50%;z-index: 0;}#sk-container-id-1 div.sk-serial {display: flex;flex-direction: column;align-items: center;background-color: white;padding-right: 0.2em;padding-left: 0.2em;position: relative;}#sk-container-id-1 div.sk-item {position: relative;z-index: 1;}#sk-container-id-1 div.sk-parallel {display: flex;align-items: stretch;justify-content: center;background-color: white;position: relative;}#sk-container-id-1 div.sk-item::before, #sk-container-id-1 div.sk-parallel-item::before {content: \"\";position: absolute;border-left: 1px solid gray;box-sizing: border-box;top: 0;bottom: 0;left: 50%;z-index: -1;}#sk-container-id-1 div.sk-parallel-item {display: flex;flex-direction: column;z-index: 1;position: relative;background-color: white;}#sk-container-id-1 div.sk-parallel-item:first-child::after {align-self: flex-end;width: 50%;}#sk-container-id-1 div.sk-parallel-item:last-child::after {align-self: flex-start;width: 50%;}#sk-container-id-1 div.sk-parallel-item:only-child::after {width: 0;}#sk-container-id-1 div.sk-dashed-wrapped {border: 1px dashed gray;margin: 0 0.4em 0.5em 0.4em;box-sizing: border-box;padding-bottom: 0.4em;background-color: white;}#sk-container-id-1 div.sk-label label {font-family: monospace;font-weight: bold;display: inline-block;line-height: 1.2em;}#sk-container-id-1 div.sk-label-container {text-align: center;}#sk-container-id-1 div.sk-container {/* jupyter's `normalize.less` sets `[hidden] { display: none; }` but bootstrap.min.css set `[hidden] { display: none !important; }` so we also need the `!important` here to be able to override the default hidden behavior on the sphinx rendered scikit-learn.org. See: https://github.com/scikit-learn/scikit-learn/issues/21755 */display: inline-block !important;position: relative;}#sk-container-id-1 div.sk-text-repr-fallback {display: none;}</style><div id=\"sk-container-id-1\" class=\"sk-top-container\"><div class=\"sk-text-repr-fallback\"><pre>DecisionTreeClassifier()</pre><b>In a Jupyter environment, please rerun this cell to show the HTML representation or trust the notebook. <br />On GitHub, the HTML representation is unable to render, please try loading this page with nbviewer.org.</b></div><div class=\"sk-container\" hidden><div class=\"sk-item\"><div class=\"sk-estimator sk-toggleable\"><input class=\"sk-toggleable__control sk-hidden--visually\" id=\"sk-estimator-id-1\" type=\"checkbox\" checked><label for=\"sk-estimator-id-1\" class=\"sk-toggleable__label sk-toggleable__label-arrow\">DecisionTreeClassifier</label><div class=\"sk-toggleable__content\"><pre>DecisionTreeClassifier()</pre></div></div></div></div></div>"
      ],
      "text/plain": [
       "DecisionTreeClassifier()"
      ]
     },
     "execution_count": 26,
     "metadata": {},
     "output_type": "execute_result"
    }
   ],
   "source": [
    "clf.fit(X_train_transformed,y_train)"
   ]
  },
  {
   "cell_type": "code",
   "execution_count": 27,
   "id": "60cdd35f",
   "metadata": {
    "execution": {
     "iopub.execute_input": "2024-05-02T13:52:40.007246Z",
     "iopub.status.busy": "2024-05-02T13:52:40.006838Z",
     "iopub.status.idle": "2024-05-02T13:52:40.012491Z",
     "shell.execute_reply": "2024-05-02T13:52:40.011353Z"
    },
    "papermill": {
     "duration": 0.019582,
     "end_time": "2024-05-02T13:52:40.014798",
     "exception": false,
     "start_time": "2024-05-02T13:52:39.995216",
     "status": "completed"
    },
    "tags": []
   },
   "outputs": [],
   "source": [
    "y_pred=clf.predict(X_test_transformed)"
   ]
  },
  {
   "cell_type": "code",
   "execution_count": 28,
   "id": "31c5c76e",
   "metadata": {
    "execution": {
     "iopub.execute_input": "2024-05-02T13:52:40.036903Z",
     "iopub.status.busy": "2024-05-02T13:52:40.035859Z",
     "iopub.status.idle": "2024-05-02T13:52:40.043695Z",
     "shell.execute_reply": "2024-05-02T13:52:40.042695Z"
    },
    "papermill": {
     "duration": 0.021243,
     "end_time": "2024-05-02T13:52:40.045956",
     "exception": false,
     "start_time": "2024-05-02T13:52:40.024713",
     "status": "completed"
    },
    "tags": []
   },
   "outputs": [
    {
     "data": {
      "text/plain": [
       "array([0, 0, 0, 1, 1, 0, 1, 0, 1, 1, 0, 0, 0, 0, 0, 1, 0, 1, 0, 0, 0, 0,\n",
       "       0, 0, 1, 0, 0, 0, 0, 0, 0, 1, 1, 1, 0, 0, 1, 1, 1, 1, 0, 0, 1, 0,\n",
       "       0, 0, 0, 0, 1, 0, 1, 1, 0, 1, 1, 1, 1, 0, 1, 0, 1, 1, 1, 0, 0, 1,\n",
       "       0, 0, 0, 1, 1, 1, 1, 1, 0, 0, 1, 1, 1, 1, 0, 1, 1, 0, 0, 0, 1, 1,\n",
       "       0, 0, 1, 0, 0, 0, 1, 0, 1, 0, 1, 0, 0, 0, 1, 0, 0, 1, 1, 0, 0, 0,\n",
       "       1, 0, 1, 1, 0, 0, 0, 0, 1, 0, 0, 1, 1, 1, 0, 0, 1, 1, 0, 0, 1, 0,\n",
       "       0, 1, 1, 0, 1, 0, 0, 0, 0, 1, 0, 0, 0, 1, 0, 1, 1, 0, 0, 1, 0, 0,\n",
       "       1, 0, 0, 1, 1, 1, 0, 0, 0, 1, 1, 0, 0, 1, 0, 0, 0, 1, 1, 1, 0, 0,\n",
       "       0, 1, 1])"
      ]
     },
     "execution_count": 28,
     "metadata": {},
     "output_type": "execute_result"
    }
   ],
   "source": [
    "y_pred"
   ]
  },
  {
   "cell_type": "code",
   "execution_count": 29,
   "id": "bfa38eeb",
   "metadata": {
    "execution": {
     "iopub.execute_input": "2024-05-02T13:52:40.068231Z",
     "iopub.status.busy": "2024-05-02T13:52:40.067378Z",
     "iopub.status.idle": "2024-05-02T13:52:40.072378Z",
     "shell.execute_reply": "2024-05-02T13:52:40.071172Z"
    },
    "papermill": {
     "duration": 0.018463,
     "end_time": "2024-05-02T13:52:40.074541",
     "exception": false,
     "start_time": "2024-05-02T13:52:40.056078",
     "status": "completed"
    },
    "tags": []
   },
   "outputs": [],
   "source": [
    "from sklearn.metrics import accuracy_score"
   ]
  },
  {
   "cell_type": "code",
   "execution_count": 30,
   "id": "db465418",
   "metadata": {
    "execution": {
     "iopub.execute_input": "2024-05-02T13:52:40.096248Z",
     "iopub.status.busy": "2024-05-02T13:52:40.095869Z",
     "iopub.status.idle": "2024-05-02T13:52:40.104955Z",
     "shell.execute_reply": "2024-05-02T13:52:40.103674Z"
    },
    "papermill": {
     "duration": 0.022478,
     "end_time": "2024-05-02T13:52:40.107188",
     "exception": false,
     "start_time": "2024-05-02T13:52:40.084710",
     "status": "completed"
    },
    "tags": []
   },
   "outputs": [
    {
     "data": {
      "text/plain": [
       "0.7541899441340782"
      ]
     },
     "execution_count": 30,
     "metadata": {},
     "output_type": "execute_result"
    }
   ],
   "source": [
    "accuracy_score(y_test,y_pred)"
   ]
  },
  {
   "cell_type": "code",
   "execution_count": 31,
   "id": "8feba99e",
   "metadata": {
    "execution": {
     "iopub.execute_input": "2024-05-02T13:52:40.129382Z",
     "iopub.status.busy": "2024-05-02T13:52:40.128662Z",
     "iopub.status.idle": "2024-05-02T13:52:40.133769Z",
     "shell.execute_reply": "2024-05-02T13:52:40.132545Z"
    },
    "papermill": {
     "duration": 0.0186,
     "end_time": "2024-05-02T13:52:40.136050",
     "exception": false,
     "start_time": "2024-05-02T13:52:40.117450",
     "status": "completed"
    },
    "tags": []
   },
   "outputs": [],
   "source": [
    "import pickle"
   ]
  },
  {
   "cell_type": "code",
   "execution_count": 32,
   "id": "4044f2a1",
   "metadata": {
    "execution": {
     "iopub.execute_input": "2024-05-02T13:52:40.157925Z",
     "iopub.status.busy": "2024-05-02T13:52:40.157522Z",
     "iopub.status.idle": "2024-05-02T13:52:40.162088Z",
     "shell.execute_reply": "2024-05-02T13:52:40.161035Z"
    },
    "papermill": {
     "duration": 0.018037,
     "end_time": "2024-05-02T13:52:40.164229",
     "exception": false,
     "start_time": "2024-05-02T13:52:40.146192",
     "status": "completed"
    },
    "tags": []
   },
   "outputs": [],
   "source": [
    "# pickle.dump(ohe_sex,open('models/ohe_sex.pkl','wb'))\n",
    "# pickle.dump(ohe_embarked,open('models/ohe_embarked.pkl','wb'))\n",
    "# pickle.dump(clf,open('models/clf.pkl','wb'))"
   ]
  },
  {
   "cell_type": "code",
   "execution_count": null,
   "id": "b1a67359",
   "metadata": {
    "papermill": {
     "duration": 0.00984,
     "end_time": "2024-05-02T13:52:40.184268",
     "exception": false,
     "start_time": "2024-05-02T13:52:40.174428",
     "status": "completed"
    },
    "tags": []
   },
   "outputs": [],
   "source": []
  }
 ],
 "metadata": {
  "kaggle": {
   "accelerator": "none",
   "dataSources": [
    {
     "datasetId": 1247358,
     "sourceId": 2080558,
     "sourceType": "datasetVersion"
    }
   ],
   "dockerImageVersionId": 30698,
   "isGpuEnabled": false,
   "isInternetEnabled": false,
   "language": "python",
   "sourceType": "notebook"
  },
  "kernelspec": {
   "display_name": "Python 3",
   "language": "python",
   "name": "python3"
  },
  "language_info": {
   "codemirror_mode": {
    "name": "ipython",
    "version": 3
   },
   "file_extension": ".py",
   "mimetype": "text/x-python",
   "name": "python",
   "nbconvert_exporter": "python",
   "pygments_lexer": "ipython3",
   "version": "3.10.13"
  },
  "papermill": {
   "default_parameters": {},
   "duration": 6.868259,
   "end_time": "2024-05-02T13:52:40.815713",
   "environment_variables": {},
   "exception": null,
   "input_path": "__notebook__.ipynb",
   "output_path": "__notebook__.ipynb",
   "parameters": {},
   "start_time": "2024-05-02T13:52:33.947454",
   "version": "2.5.0"
  }
 },
 "nbformat": 4,
 "nbformat_minor": 5
}
