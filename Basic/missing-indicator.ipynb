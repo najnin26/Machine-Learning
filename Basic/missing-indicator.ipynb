{
 "cells": [
  {
   "cell_type": "code",
   "execution_count": 1,
   "id": "f8469a50",
   "metadata": {
    "_cell_guid": "b1076dfc-b9ad-4769-8c92-a6c4dae69d19",
    "_uuid": "8f2839f25d086af736a60e9eeb907d3b93b6e0e5",
    "execution": {
     "iopub.execute_input": "2024-06-05T15:06:05.150209Z",
     "iopub.status.busy": "2024-06-05T15:06:05.149752Z",
     "iopub.status.idle": "2024-06-05T15:06:07.851245Z",
     "shell.execute_reply": "2024-06-05T15:06:07.850021Z"
    },
    "papermill": {
     "duration": 2.716537,
     "end_time": "2024-06-05T15:06:07.854658",
     "exception": false,
     "start_time": "2024-06-05T15:06:05.138121",
     "status": "completed"
    },
    "tags": []
   },
   "outputs": [],
   "source": [
    "import numpy as np\n",
    "import pandas as pd\n",
    "\n",
    "from sklearn.model_selection import train_test_split\n",
    "\n",
    "from sklearn.impute import MissingIndicator,SimpleImputer"
   ]
  },
  {
   "cell_type": "code",
   "execution_count": 2,
   "id": "ae6e80aa",
   "metadata": {
    "execution": {
     "iopub.execute_input": "2024-06-05T15:06:07.875437Z",
     "iopub.status.busy": "2024-06-05T15:06:07.874229Z",
     "iopub.status.idle": "2024-06-05T15:06:07.898965Z",
     "shell.execute_reply": "2024-06-05T15:06:07.897775Z"
    },
    "papermill": {
     "duration": 0.037983,
     "end_time": "2024-06-05T15:06:07.901674",
     "exception": false,
     "start_time": "2024-06-05T15:06:07.863691",
     "status": "completed"
    },
    "tags": []
   },
   "outputs": [],
   "source": [
    "df=pd.read_csv(\"/kaggle/input/titanic-toy/titanic_toy.csv\",usecols=['Age','Fare','Survived'])"
   ]
  },
  {
   "cell_type": "code",
   "execution_count": 3,
   "id": "91d998ad",
   "metadata": {
    "execution": {
     "iopub.execute_input": "2024-06-05T15:06:07.921065Z",
     "iopub.status.busy": "2024-06-05T15:06:07.920653Z",
     "iopub.status.idle": "2024-06-05T15:06:07.947453Z",
     "shell.execute_reply": "2024-06-05T15:06:07.946143Z"
    },
    "papermill": {
     "duration": 0.03946,
     "end_time": "2024-06-05T15:06:07.950052",
     "exception": false,
     "start_time": "2024-06-05T15:06:07.910592",
     "status": "completed"
    },
    "tags": []
   },
   "outputs": [
    {
     "data": {
      "text/html": [
       "<div>\n",
       "<style scoped>\n",
       "    .dataframe tbody tr th:only-of-type {\n",
       "        vertical-align: middle;\n",
       "    }\n",
       "\n",
       "    .dataframe tbody tr th {\n",
       "        vertical-align: top;\n",
       "    }\n",
       "\n",
       "    .dataframe thead th {\n",
       "        text-align: right;\n",
       "    }\n",
       "</style>\n",
       "<table border=\"1\" class=\"dataframe\">\n",
       "  <thead>\n",
       "    <tr style=\"text-align: right;\">\n",
       "      <th></th>\n",
       "      <th>Age</th>\n",
       "      <th>Fare</th>\n",
       "      <th>Survived</th>\n",
       "    </tr>\n",
       "  </thead>\n",
       "  <tbody>\n",
       "    <tr>\n",
       "      <th>0</th>\n",
       "      <td>22.0</td>\n",
       "      <td>7.2500</td>\n",
       "      <td>0</td>\n",
       "    </tr>\n",
       "    <tr>\n",
       "      <th>1</th>\n",
       "      <td>38.0</td>\n",
       "      <td>71.2833</td>\n",
       "      <td>1</td>\n",
       "    </tr>\n",
       "    <tr>\n",
       "      <th>2</th>\n",
       "      <td>26.0</td>\n",
       "      <td>7.9250</td>\n",
       "      <td>1</td>\n",
       "    </tr>\n",
       "    <tr>\n",
       "      <th>3</th>\n",
       "      <td>35.0</td>\n",
       "      <td>53.1000</td>\n",
       "      <td>1</td>\n",
       "    </tr>\n",
       "    <tr>\n",
       "      <th>4</th>\n",
       "      <td>35.0</td>\n",
       "      <td>8.0500</td>\n",
       "      <td>0</td>\n",
       "    </tr>\n",
       "  </tbody>\n",
       "</table>\n",
       "</div>"
      ],
      "text/plain": [
       "    Age     Fare  Survived\n",
       "0  22.0   7.2500         0\n",
       "1  38.0  71.2833         1\n",
       "2  26.0   7.9250         1\n",
       "3  35.0  53.1000         1\n",
       "4  35.0   8.0500         0"
      ]
     },
     "execution_count": 3,
     "metadata": {},
     "output_type": "execute_result"
    }
   ],
   "source": [
    "df.head()"
   ]
  },
  {
   "cell_type": "code",
   "execution_count": 4,
   "id": "b936fad4",
   "metadata": {
    "execution": {
     "iopub.execute_input": "2024-06-05T15:06:07.970553Z",
     "iopub.status.busy": "2024-06-05T15:06:07.970050Z",
     "iopub.status.idle": "2024-06-05T15:06:07.982377Z",
     "shell.execute_reply": "2024-06-05T15:06:07.981074Z"
    },
    "papermill": {
     "duration": 0.025883,
     "end_time": "2024-06-05T15:06:07.985350",
     "exception": false,
     "start_time": "2024-06-05T15:06:07.959467",
     "status": "completed"
    },
    "tags": []
   },
   "outputs": [],
   "source": [
    "X = df.drop(columns=['Survived'])\n",
    "y = df['Survived']"
   ]
  },
  {
   "cell_type": "code",
   "execution_count": 5,
   "id": "3d611875",
   "metadata": {
    "execution": {
     "iopub.execute_input": "2024-06-05T15:06:08.010094Z",
     "iopub.status.busy": "2024-06-05T15:06:08.009067Z",
     "iopub.status.idle": "2024-06-05T15:06:08.020701Z",
     "shell.execute_reply": "2024-06-05T15:06:08.019506Z"
    },
    "papermill": {
     "duration": 0.025422,
     "end_time": "2024-06-05T15:06:08.023492",
     "exception": false,
     "start_time": "2024-06-05T15:06:07.998070",
     "status": "completed"
    },
    "tags": []
   },
   "outputs": [],
   "source": [
    "X_train,X_test,y_train,y_test = train_test_split(X,y,test_size=0.2,random_state=2)"
   ]
  },
  {
   "cell_type": "code",
   "execution_count": 6,
   "id": "a00670a0",
   "metadata": {
    "execution": {
     "iopub.execute_input": "2024-06-05T15:06:08.045306Z",
     "iopub.status.busy": "2024-06-05T15:06:08.044749Z",
     "iopub.status.idle": "2024-06-05T15:06:08.060259Z",
     "shell.execute_reply": "2024-06-05T15:06:08.058944Z"
    },
    "papermill": {
     "duration": 0.030278,
     "end_time": "2024-06-05T15:06:08.062911",
     "exception": false,
     "start_time": "2024-06-05T15:06:08.032633",
     "status": "completed"
    },
    "tags": []
   },
   "outputs": [
    {
     "data": {
      "text/html": [
       "<div>\n",
       "<style scoped>\n",
       "    .dataframe tbody tr th:only-of-type {\n",
       "        vertical-align: middle;\n",
       "    }\n",
       "\n",
       "    .dataframe tbody tr th {\n",
       "        vertical-align: top;\n",
       "    }\n",
       "\n",
       "    .dataframe thead th {\n",
       "        text-align: right;\n",
       "    }\n",
       "</style>\n",
       "<table border=\"1\" class=\"dataframe\">\n",
       "  <thead>\n",
       "    <tr style=\"text-align: right;\">\n",
       "      <th></th>\n",
       "      <th>Age</th>\n",
       "      <th>Fare</th>\n",
       "    </tr>\n",
       "  </thead>\n",
       "  <tbody>\n",
       "    <tr>\n",
       "      <th>30</th>\n",
       "      <td>40.0</td>\n",
       "      <td>27.7208</td>\n",
       "    </tr>\n",
       "    <tr>\n",
       "      <th>10</th>\n",
       "      <td>4.0</td>\n",
       "      <td>16.7000</td>\n",
       "    </tr>\n",
       "    <tr>\n",
       "      <th>873</th>\n",
       "      <td>47.0</td>\n",
       "      <td>9.0000</td>\n",
       "    </tr>\n",
       "    <tr>\n",
       "      <th>182</th>\n",
       "      <td>9.0</td>\n",
       "      <td>31.3875</td>\n",
       "    </tr>\n",
       "    <tr>\n",
       "      <th>876</th>\n",
       "      <td>20.0</td>\n",
       "      <td>9.8458</td>\n",
       "    </tr>\n",
       "  </tbody>\n",
       "</table>\n",
       "</div>"
      ],
      "text/plain": [
       "      Age     Fare\n",
       "30   40.0  27.7208\n",
       "10    4.0  16.7000\n",
       "873  47.0   9.0000\n",
       "182   9.0  31.3875\n",
       "876  20.0   9.8458"
      ]
     },
     "execution_count": 6,
     "metadata": {},
     "output_type": "execute_result"
    }
   ],
   "source": [
    "X_train.head()"
   ]
  },
  {
   "cell_type": "code",
   "execution_count": 7,
   "id": "a164ec9e",
   "metadata": {
    "execution": {
     "iopub.execute_input": "2024-06-05T15:06:08.085943Z",
     "iopub.status.busy": "2024-06-05T15:06:08.085500Z",
     "iopub.status.idle": "2024-06-05T15:06:08.100165Z",
     "shell.execute_reply": "2024-06-05T15:06:08.098907Z"
    },
    "papermill": {
     "duration": 0.028071,
     "end_time": "2024-06-05T15:06:08.102984",
     "exception": false,
     "start_time": "2024-06-05T15:06:08.074913",
     "status": "completed"
    },
    "tags": []
   },
   "outputs": [],
   "source": [
    "si = SimpleImputer()\n",
    "X_train_trf = si.fit_transform(X_train)\n",
    "X_test_trf = si.transform(X_test)"
   ]
  },
  {
   "cell_type": "code",
   "execution_count": 8,
   "id": "bea9d0d1",
   "metadata": {
    "execution": {
     "iopub.execute_input": "2024-06-05T15:06:08.123757Z",
     "iopub.status.busy": "2024-06-05T15:06:08.122890Z",
     "iopub.status.idle": "2024-06-05T15:06:08.130657Z",
     "shell.execute_reply": "2024-06-05T15:06:08.129513Z"
    },
    "papermill": {
     "duration": 0.020656,
     "end_time": "2024-06-05T15:06:08.133074",
     "exception": false,
     "start_time": "2024-06-05T15:06:08.112418",
     "status": "completed"
    },
    "tags": []
   },
   "outputs": [
    {
     "data": {
      "text/plain": [
       "array([[ 40.        ,  27.7208    ],\n",
       "       [  4.        ,  16.7       ],\n",
       "       [ 47.        ,   9.        ],\n",
       "       ...,\n",
       "       [ 71.        ,  49.5042    ],\n",
       "       [ 29.78590426, 221.7792    ],\n",
       "       [ 29.78590426,  25.925     ]])"
      ]
     },
     "execution_count": 8,
     "metadata": {},
     "output_type": "execute_result"
    }
   ],
   "source": [
    "X_train_trf"
   ]
  },
  {
   "cell_type": "code",
   "execution_count": 9,
   "id": "4dee96c4",
   "metadata": {
    "execution": {
     "iopub.execute_input": "2024-06-05T15:06:08.154069Z",
     "iopub.status.busy": "2024-06-05T15:06:08.153652Z",
     "iopub.status.idle": "2024-06-05T15:06:08.179901Z",
     "shell.execute_reply": "2024-06-05T15:06:08.178441Z"
    },
    "papermill": {
     "duration": 0.039683,
     "end_time": "2024-06-05T15:06:08.182618",
     "exception": false,
     "start_time": "2024-06-05T15:06:08.142935",
     "status": "completed"
    },
    "tags": []
   },
   "outputs": [
    {
     "data": {
      "text/plain": [
       "0.6033519553072626"
      ]
     },
     "execution_count": 9,
     "metadata": {},
     "output_type": "execute_result"
    }
   ],
   "source": [
    "from sklearn.linear_model import LogisticRegression\n",
    "\n",
    "clf = LogisticRegression()\n",
    "\n",
    "clf.fit(X_train_trf,y_train)\n",
    "\n",
    "y_pred = clf.predict(X_test_trf)\n",
    "\n",
    "from sklearn.metrics import accuracy_score\n",
    "accuracy_score(y_test,y_pred)"
   ]
  },
  {
   "cell_type": "code",
   "execution_count": 10,
   "id": "f9a50162",
   "metadata": {
    "execution": {
     "iopub.execute_input": "2024-06-05T15:06:08.203437Z",
     "iopub.status.busy": "2024-06-05T15:06:08.203028Z",
     "iopub.status.idle": "2024-06-05T15:06:08.214277Z",
     "shell.execute_reply": "2024-06-05T15:06:08.213052Z"
    },
    "papermill": {
     "duration": 0.024647,
     "end_time": "2024-06-05T15:06:08.216808",
     "exception": false,
     "start_time": "2024-06-05T15:06:08.192161",
     "status": "completed"
    },
    "tags": []
   },
   "outputs": [
    {
     "data": {
      "text/html": [
       "<style>#sk-container-id-1 {color: black;background-color: white;}#sk-container-id-1 pre{padding: 0;}#sk-container-id-1 div.sk-toggleable {background-color: white;}#sk-container-id-1 label.sk-toggleable__label {cursor: pointer;display: block;width: 100%;margin-bottom: 0;padding: 0.3em;box-sizing: border-box;text-align: center;}#sk-container-id-1 label.sk-toggleable__label-arrow:before {content: \"▸\";float: left;margin-right: 0.25em;color: #696969;}#sk-container-id-1 label.sk-toggleable__label-arrow:hover:before {color: black;}#sk-container-id-1 div.sk-estimator:hover label.sk-toggleable__label-arrow:before {color: black;}#sk-container-id-1 div.sk-toggleable__content {max-height: 0;max-width: 0;overflow: hidden;text-align: left;background-color: #f0f8ff;}#sk-container-id-1 div.sk-toggleable__content pre {margin: 0.2em;color: black;border-radius: 0.25em;background-color: #f0f8ff;}#sk-container-id-1 input.sk-toggleable__control:checked~div.sk-toggleable__content {max-height: 200px;max-width: 100%;overflow: auto;}#sk-container-id-1 input.sk-toggleable__control:checked~label.sk-toggleable__label-arrow:before {content: \"▾\";}#sk-container-id-1 div.sk-estimator input.sk-toggleable__control:checked~label.sk-toggleable__label {background-color: #d4ebff;}#sk-container-id-1 div.sk-label input.sk-toggleable__control:checked~label.sk-toggleable__label {background-color: #d4ebff;}#sk-container-id-1 input.sk-hidden--visually {border: 0;clip: rect(1px 1px 1px 1px);clip: rect(1px, 1px, 1px, 1px);height: 1px;margin: -1px;overflow: hidden;padding: 0;position: absolute;width: 1px;}#sk-container-id-1 div.sk-estimator {font-family: monospace;background-color: #f0f8ff;border: 1px dotted black;border-radius: 0.25em;box-sizing: border-box;margin-bottom: 0.5em;}#sk-container-id-1 div.sk-estimator:hover {background-color: #d4ebff;}#sk-container-id-1 div.sk-parallel-item::after {content: \"\";width: 100%;border-bottom: 1px solid gray;flex-grow: 1;}#sk-container-id-1 div.sk-label:hover label.sk-toggleable__label {background-color: #d4ebff;}#sk-container-id-1 div.sk-serial::before {content: \"\";position: absolute;border-left: 1px solid gray;box-sizing: border-box;top: 0;bottom: 0;left: 50%;z-index: 0;}#sk-container-id-1 div.sk-serial {display: flex;flex-direction: column;align-items: center;background-color: white;padding-right: 0.2em;padding-left: 0.2em;position: relative;}#sk-container-id-1 div.sk-item {position: relative;z-index: 1;}#sk-container-id-1 div.sk-parallel {display: flex;align-items: stretch;justify-content: center;background-color: white;position: relative;}#sk-container-id-1 div.sk-item::before, #sk-container-id-1 div.sk-parallel-item::before {content: \"\";position: absolute;border-left: 1px solid gray;box-sizing: border-box;top: 0;bottom: 0;left: 50%;z-index: -1;}#sk-container-id-1 div.sk-parallel-item {display: flex;flex-direction: column;z-index: 1;position: relative;background-color: white;}#sk-container-id-1 div.sk-parallel-item:first-child::after {align-self: flex-end;width: 50%;}#sk-container-id-1 div.sk-parallel-item:last-child::after {align-self: flex-start;width: 50%;}#sk-container-id-1 div.sk-parallel-item:only-child::after {width: 0;}#sk-container-id-1 div.sk-dashed-wrapped {border: 1px dashed gray;margin: 0 0.4em 0.5em 0.4em;box-sizing: border-box;padding-bottom: 0.4em;background-color: white;}#sk-container-id-1 div.sk-label label {font-family: monospace;font-weight: bold;display: inline-block;line-height: 1.2em;}#sk-container-id-1 div.sk-label-container {text-align: center;}#sk-container-id-1 div.sk-container {/* jupyter's `normalize.less` sets `[hidden] { display: none; }` but bootstrap.min.css set `[hidden] { display: none !important; }` so we also need the `!important` here to be able to override the default hidden behavior on the sphinx rendered scikit-learn.org. See: https://github.com/scikit-learn/scikit-learn/issues/21755 */display: inline-block !important;position: relative;}#sk-container-id-1 div.sk-text-repr-fallback {display: none;}</style><div id=\"sk-container-id-1\" class=\"sk-top-container\"><div class=\"sk-text-repr-fallback\"><pre>MissingIndicator()</pre><b>In a Jupyter environment, please rerun this cell to show the HTML representation or trust the notebook. <br />On GitHub, the HTML representation is unable to render, please try loading this page with nbviewer.org.</b></div><div class=\"sk-container\" hidden><div class=\"sk-item\"><div class=\"sk-estimator sk-toggleable\"><input class=\"sk-toggleable__control sk-hidden--visually\" id=\"sk-estimator-id-1\" type=\"checkbox\" checked><label for=\"sk-estimator-id-1\" class=\"sk-toggleable__label sk-toggleable__label-arrow\">MissingIndicator</label><div class=\"sk-toggleable__content\"><pre>MissingIndicator()</pre></div></div></div></div></div>"
      ],
      "text/plain": [
       "MissingIndicator()"
      ]
     },
     "execution_count": 10,
     "metadata": {},
     "output_type": "execute_result"
    }
   ],
   "source": [
    "mi = MissingIndicator()\n",
    "\n",
    "mi.fit(X_train)"
   ]
  },
  {
   "cell_type": "code",
   "execution_count": 11,
   "id": "b39233b0",
   "metadata": {
    "execution": {
     "iopub.execute_input": "2024-06-05T15:06:08.238402Z",
     "iopub.status.busy": "2024-06-05T15:06:08.237936Z",
     "iopub.status.idle": "2024-06-05T15:06:08.245662Z",
     "shell.execute_reply": "2024-06-05T15:06:08.244414Z"
    },
    "papermill": {
     "duration": 0.021466,
     "end_time": "2024-06-05T15:06:08.248103",
     "exception": false,
     "start_time": "2024-06-05T15:06:08.226637",
     "status": "completed"
    },
    "tags": []
   },
   "outputs": [
    {
     "data": {
      "text/plain": [
       "array([0, 1])"
      ]
     },
     "execution_count": 11,
     "metadata": {},
     "output_type": "execute_result"
    }
   ],
   "source": [
    "mi.features_"
   ]
  },
  {
   "cell_type": "code",
   "execution_count": 12,
   "id": "e9632acb",
   "metadata": {
    "execution": {
     "iopub.execute_input": "2024-06-05T15:06:08.270449Z",
     "iopub.status.busy": "2024-06-05T15:06:08.269978Z",
     "iopub.status.idle": "2024-06-05T15:06:08.277544Z",
     "shell.execute_reply": "2024-06-05T15:06:08.276439Z"
    },
    "papermill": {
     "duration": 0.021566,
     "end_time": "2024-06-05T15:06:08.280048",
     "exception": false,
     "start_time": "2024-06-05T15:06:08.258482",
     "status": "completed"
    },
    "tags": []
   },
   "outputs": [],
   "source": [
    "X_train_missing = mi.transform(X_train)"
   ]
  },
  {
   "cell_type": "code",
   "execution_count": 13,
   "id": "73dcf27c",
   "metadata": {
    "execution": {
     "iopub.execute_input": "2024-06-05T15:06:08.302123Z",
     "iopub.status.busy": "2024-06-05T15:06:08.301308Z",
     "iopub.status.idle": "2024-06-05T15:06:08.309037Z",
     "shell.execute_reply": "2024-06-05T15:06:08.307774Z"
    },
    "papermill": {
     "duration": 0.021396,
     "end_time": "2024-06-05T15:06:08.311409",
     "exception": false,
     "start_time": "2024-06-05T15:06:08.290013",
     "status": "completed"
    },
    "tags": []
   },
   "outputs": [
    {
     "data": {
      "text/plain": [
       "array([[False, False],\n",
       "       [False, False],\n",
       "       [False, False],\n",
       "       ...,\n",
       "       [False, False],\n",
       "       [ True, False],\n",
       "       [ True, False]])"
      ]
     },
     "execution_count": 13,
     "metadata": {},
     "output_type": "execute_result"
    }
   ],
   "source": [
    "X_train_missing"
   ]
  },
  {
   "cell_type": "code",
   "execution_count": 14,
   "id": "fbe2c2dc",
   "metadata": {
    "execution": {
     "iopub.execute_input": "2024-06-05T15:06:08.333324Z",
     "iopub.status.busy": "2024-06-05T15:06:08.332910Z",
     "iopub.status.idle": "2024-06-05T15:06:08.339547Z",
     "shell.execute_reply": "2024-06-05T15:06:08.338366Z"
    },
    "papermill": {
     "duration": 0.020805,
     "end_time": "2024-06-05T15:06:08.342237",
     "exception": false,
     "start_time": "2024-06-05T15:06:08.321432",
     "status": "completed"
    },
    "tags": []
   },
   "outputs": [],
   "source": [
    "X_train['Age_NA'] = X_train_missing.sum(axis=1)  # Summing columns to create a single indicator\n",
    "# or\n"
   ]
  },
  {
   "cell_type": "code",
   "execution_count": 15,
   "id": "909177a0",
   "metadata": {
    "execution": {
     "iopub.execute_input": "2024-06-05T15:06:08.365311Z",
     "iopub.status.busy": "2024-06-05T15:06:08.364346Z",
     "iopub.status.idle": "2024-06-05T15:06:08.380014Z",
     "shell.execute_reply": "2024-06-05T15:06:08.378898Z"
    },
    "papermill": {
     "duration": 0.029813,
     "end_time": "2024-06-05T15:06:08.382277",
     "exception": false,
     "start_time": "2024-06-05T15:06:08.352464",
     "status": "completed"
    },
    "tags": []
   },
   "outputs": [
    {
     "data": {
      "text/html": [
       "<div>\n",
       "<style scoped>\n",
       "    .dataframe tbody tr th:only-of-type {\n",
       "        vertical-align: middle;\n",
       "    }\n",
       "\n",
       "    .dataframe tbody tr th {\n",
       "        vertical-align: top;\n",
       "    }\n",
       "\n",
       "    .dataframe thead th {\n",
       "        text-align: right;\n",
       "    }\n",
       "</style>\n",
       "<table border=\"1\" class=\"dataframe\">\n",
       "  <thead>\n",
       "    <tr style=\"text-align: right;\">\n",
       "      <th></th>\n",
       "      <th>Age</th>\n",
       "      <th>Fare</th>\n",
       "      <th>Age_NA</th>\n",
       "    </tr>\n",
       "  </thead>\n",
       "  <tbody>\n",
       "    <tr>\n",
       "      <th>30</th>\n",
       "      <td>40.0</td>\n",
       "      <td>27.7208</td>\n",
       "      <td>0</td>\n",
       "    </tr>\n",
       "    <tr>\n",
       "      <th>10</th>\n",
       "      <td>4.0</td>\n",
       "      <td>16.7000</td>\n",
       "      <td>0</td>\n",
       "    </tr>\n",
       "    <tr>\n",
       "      <th>873</th>\n",
       "      <td>47.0</td>\n",
       "      <td>9.0000</td>\n",
       "      <td>0</td>\n",
       "    </tr>\n",
       "    <tr>\n",
       "      <th>182</th>\n",
       "      <td>9.0</td>\n",
       "      <td>31.3875</td>\n",
       "      <td>0</td>\n",
       "    </tr>\n",
       "    <tr>\n",
       "      <th>876</th>\n",
       "      <td>20.0</td>\n",
       "      <td>9.8458</td>\n",
       "      <td>0</td>\n",
       "    </tr>\n",
       "    <tr>\n",
       "      <th>...</th>\n",
       "      <td>...</td>\n",
       "      <td>...</td>\n",
       "      <td>...</td>\n",
       "    </tr>\n",
       "    <tr>\n",
       "      <th>534</th>\n",
       "      <td>30.0</td>\n",
       "      <td>8.6625</td>\n",
       "      <td>0</td>\n",
       "    </tr>\n",
       "    <tr>\n",
       "      <th>584</th>\n",
       "      <td>NaN</td>\n",
       "      <td>8.7125</td>\n",
       "      <td>1</td>\n",
       "    </tr>\n",
       "    <tr>\n",
       "      <th>493</th>\n",
       "      <td>71.0</td>\n",
       "      <td>49.5042</td>\n",
       "      <td>0</td>\n",
       "    </tr>\n",
       "    <tr>\n",
       "      <th>527</th>\n",
       "      <td>NaN</td>\n",
       "      <td>221.7792</td>\n",
       "      <td>1</td>\n",
       "    </tr>\n",
       "    <tr>\n",
       "      <th>168</th>\n",
       "      <td>NaN</td>\n",
       "      <td>25.9250</td>\n",
       "      <td>1</td>\n",
       "    </tr>\n",
       "  </tbody>\n",
       "</table>\n",
       "<p>712 rows × 3 columns</p>\n",
       "</div>"
      ],
      "text/plain": [
       "      Age      Fare  Age_NA\n",
       "30   40.0   27.7208       0\n",
       "10    4.0   16.7000       0\n",
       "873  47.0    9.0000       0\n",
       "182   9.0   31.3875       0\n",
       "876  20.0    9.8458       0\n",
       "..    ...       ...     ...\n",
       "534  30.0    8.6625       0\n",
       "584   NaN    8.7125       1\n",
       "493  71.0   49.5042       0\n",
       "527   NaN  221.7792       1\n",
       "168   NaN   25.9250       1\n",
       "\n",
       "[712 rows x 3 columns]"
      ]
     },
     "execution_count": 15,
     "metadata": {},
     "output_type": "execute_result"
    }
   ],
   "source": [
    "X_train"
   ]
  },
  {
   "cell_type": "code",
   "execution_count": 16,
   "id": "4fbfd600",
   "metadata": {
    "execution": {
     "iopub.execute_input": "2024-06-05T15:06:08.404945Z",
     "iopub.status.busy": "2024-06-05T15:06:08.404445Z",
     "iopub.status.idle": "2024-06-05T15:06:08.412469Z",
     "shell.execute_reply": "2024-06-05T15:06:08.411295Z"
    },
    "papermill": {
     "duration": 0.022365,
     "end_time": "2024-06-05T15:06:08.414973",
     "exception": false,
     "start_time": "2024-06-05T15:06:08.392608",
     "status": "completed"
    },
    "tags": []
   },
   "outputs": [],
   "source": [
    "X_test_missing = mi.transform(X_test)"
   ]
  },
  {
   "cell_type": "code",
   "execution_count": 17,
   "id": "b8a6600c",
   "metadata": {
    "execution": {
     "iopub.execute_input": "2024-06-05T15:06:08.438164Z",
     "iopub.status.busy": "2024-06-05T15:06:08.437754Z",
     "iopub.status.idle": "2024-06-05T15:06:08.447960Z",
     "shell.execute_reply": "2024-06-05T15:06:08.446762Z"
    },
    "papermill": {
     "duration": 0.024509,
     "end_time": "2024-06-05T15:06:08.450297",
     "exception": false,
     "start_time": "2024-06-05T15:06:08.425788",
     "status": "completed"
    },
    "tags": []
   },
   "outputs": [
    {
     "data": {
      "text/plain": [
       "array([[False, False],\n",
       "       [False, False],\n",
       "       [False, False],\n",
       "       [False, False],\n",
       "       [False, False],\n",
       "       [False, False],\n",
       "       [False, False],\n",
       "       [False, False],\n",
       "       [False, False],\n",
       "       [False, False],\n",
       "       [False, False],\n",
       "       [False, False],\n",
       "       [False, False],\n",
       "       [ True, False],\n",
       "       [ True, False],\n",
       "       [False, False],\n",
       "       [ True, False],\n",
       "       [False, False],\n",
       "       [False,  True],\n",
       "       [False, False],\n",
       "       [False, False],\n",
       "       [ True, False],\n",
       "       [False, False],\n",
       "       [False, False],\n",
       "       [False, False],\n",
       "       [False, False],\n",
       "       [False, False],\n",
       "       [False, False],\n",
       "       [False,  True],\n",
       "       [False, False],\n",
       "       [False, False],\n",
       "       [False, False],\n",
       "       [False, False],\n",
       "       [ True, False],\n",
       "       [False, False],\n",
       "       [False, False],\n",
       "       [False,  True],\n",
       "       [False, False],\n",
       "       [ True, False],\n",
       "       [False, False],\n",
       "       [False, False],\n",
       "       [False, False],\n",
       "       [False, False],\n",
       "       [False, False],\n",
       "       [False, False],\n",
       "       [ True, False],\n",
       "       [False, False],\n",
       "       [ True, False],\n",
       "       [False, False],\n",
       "       [False, False],\n",
       "       [ True, False],\n",
       "       [False, False],\n",
       "       [False, False],\n",
       "       [False, False],\n",
       "       [False, False],\n",
       "       [False, False],\n",
       "       [False, False],\n",
       "       [False, False],\n",
       "       [False, False],\n",
       "       [False, False],\n",
       "       [False, False],\n",
       "       [False, False],\n",
       "       [False, False],\n",
       "       [ True, False],\n",
       "       [False, False],\n",
       "       [False, False],\n",
       "       [False, False],\n",
       "       [False, False],\n",
       "       [False, False],\n",
       "       [False, False],\n",
       "       [False, False],\n",
       "       [False, False],\n",
       "       [ True, False],\n",
       "       [False, False],\n",
       "       [False, False],\n",
       "       [False, False],\n",
       "       [False, False],\n",
       "       [False, False],\n",
       "       [False, False],\n",
       "       [False, False],\n",
       "       [False, False],\n",
       "       [ True, False],\n",
       "       [False, False],\n",
       "       [False, False],\n",
       "       [False, False],\n",
       "       [False, False],\n",
       "       [False, False],\n",
       "       [ True, False],\n",
       "       [False, False],\n",
       "       [False, False],\n",
       "       [ True, False],\n",
       "       [False, False],\n",
       "       [False, False],\n",
       "       [ True, False],\n",
       "       [False, False],\n",
       "       [False, False],\n",
       "       [False, False],\n",
       "       [False, False],\n",
       "       [ True, False],\n",
       "       [False, False],\n",
       "       [False,  True],\n",
       "       [False, False],\n",
       "       [False, False],\n",
       "       [False, False],\n",
       "       [False, False],\n",
       "       [False, False],\n",
       "       [False, False],\n",
       "       [ True, False],\n",
       "       [False, False],\n",
       "       [False, False],\n",
       "       [ True, False],\n",
       "       [False, False],\n",
       "       [False, False],\n",
       "       [False, False],\n",
       "       [False, False],\n",
       "       [False, False],\n",
       "       [False, False],\n",
       "       [False,  True],\n",
       "       [False, False],\n",
       "       [False, False],\n",
       "       [False, False],\n",
       "       [False, False],\n",
       "       [ True, False],\n",
       "       [False, False],\n",
       "       [False, False],\n",
       "       [ True, False],\n",
       "       [False, False],\n",
       "       [False, False],\n",
       "       [False, False],\n",
       "       [ True, False],\n",
       "       [ True, False],\n",
       "       [False, False],\n",
       "       [False, False],\n",
       "       [False, False],\n",
       "       [False, False],\n",
       "       [False, False],\n",
       "       [False, False],\n",
       "       [ True, False],\n",
       "       [False,  True],\n",
       "       [False, False],\n",
       "       [False,  True],\n",
       "       [False, False],\n",
       "       [False, False],\n",
       "       [False, False],\n",
       "       [ True, False],\n",
       "       [False, False],\n",
       "       [False, False],\n",
       "       [False, False],\n",
       "       [False, False],\n",
       "       [False, False],\n",
       "       [False, False],\n",
       "       [False, False],\n",
       "       [False, False],\n",
       "       [False, False],\n",
       "       [ True, False],\n",
       "       [False, False],\n",
       "       [False, False],\n",
       "       [False, False],\n",
       "       [False, False],\n",
       "       [False, False],\n",
       "       [False,  True],\n",
       "       [ True, False],\n",
       "       [False, False],\n",
       "       [False, False],\n",
       "       [False, False],\n",
       "       [False, False],\n",
       "       [False, False],\n",
       "       [ True, False],\n",
       "       [False, False],\n",
       "       [False, False],\n",
       "       [ True, False],\n",
       "       [False, False],\n",
       "       [False, False],\n",
       "       [False, False],\n",
       "       [False, False],\n",
       "       [False, False],\n",
       "       [ True, False],\n",
       "       [False, False],\n",
       "       [False,  True]])"
      ]
     },
     "execution_count": 17,
     "metadata": {},
     "output_type": "execute_result"
    }
   ],
   "source": [
    "X_test_missing"
   ]
  },
  {
   "cell_type": "code",
   "execution_count": 18,
   "id": "4552514c",
   "metadata": {
    "execution": {
     "iopub.execute_input": "2024-06-05T15:06:08.474475Z",
     "iopub.status.busy": "2024-06-05T15:06:08.473710Z",
     "iopub.status.idle": "2024-06-05T15:06:08.479932Z",
     "shell.execute_reply": "2024-06-05T15:06:08.478814Z"
    },
    "papermill": {
     "duration": 0.021415,
     "end_time": "2024-06-05T15:06:08.482389",
     "exception": false,
     "start_time": "2024-06-05T15:06:08.460974",
     "status": "completed"
    },
    "tags": []
   },
   "outputs": [],
   "source": [
    "X_test['Age_NA'] = X_test_missing.sum(axis=1)  # Summing columns to create a single indicator\n"
   ]
  },
  {
   "cell_type": "code",
   "execution_count": 19,
   "id": "757f7ff9",
   "metadata": {
    "execution": {
     "iopub.execute_input": "2024-06-05T15:06:08.506320Z",
     "iopub.status.busy": "2024-06-05T15:06:08.505389Z",
     "iopub.status.idle": "2024-06-05T15:06:08.520387Z",
     "shell.execute_reply": "2024-06-05T15:06:08.519121Z"
    },
    "papermill": {
     "duration": 0.029654,
     "end_time": "2024-06-05T15:06:08.522762",
     "exception": false,
     "start_time": "2024-06-05T15:06:08.493108",
     "status": "completed"
    },
    "tags": []
   },
   "outputs": [
    {
     "data": {
      "text/html": [
       "<div>\n",
       "<style scoped>\n",
       "    .dataframe tbody tr th:only-of-type {\n",
       "        vertical-align: middle;\n",
       "    }\n",
       "\n",
       "    .dataframe tbody tr th {\n",
       "        vertical-align: top;\n",
       "    }\n",
       "\n",
       "    .dataframe thead th {\n",
       "        text-align: right;\n",
       "    }\n",
       "</style>\n",
       "<table border=\"1\" class=\"dataframe\">\n",
       "  <thead>\n",
       "    <tr style=\"text-align: right;\">\n",
       "      <th></th>\n",
       "      <th>Age</th>\n",
       "      <th>Fare</th>\n",
       "      <th>Age_NA</th>\n",
       "    </tr>\n",
       "  </thead>\n",
       "  <tbody>\n",
       "    <tr>\n",
       "      <th>707</th>\n",
       "      <td>42.0</td>\n",
       "      <td>26.2875</td>\n",
       "      <td>0</td>\n",
       "    </tr>\n",
       "    <tr>\n",
       "      <th>37</th>\n",
       "      <td>21.0</td>\n",
       "      <td>8.0500</td>\n",
       "      <td>0</td>\n",
       "    </tr>\n",
       "    <tr>\n",
       "      <th>615</th>\n",
       "      <td>24.0</td>\n",
       "      <td>65.0000</td>\n",
       "      <td>0</td>\n",
       "    </tr>\n",
       "    <tr>\n",
       "      <th>169</th>\n",
       "      <td>28.0</td>\n",
       "      <td>56.4958</td>\n",
       "      <td>0</td>\n",
       "    </tr>\n",
       "    <tr>\n",
       "      <th>68</th>\n",
       "      <td>17.0</td>\n",
       "      <td>7.9250</td>\n",
       "      <td>0</td>\n",
       "    </tr>\n",
       "    <tr>\n",
       "      <th>...</th>\n",
       "      <td>...</td>\n",
       "      <td>...</td>\n",
       "      <td>...</td>\n",
       "    </tr>\n",
       "    <tr>\n",
       "      <th>89</th>\n",
       "      <td>24.0</td>\n",
       "      <td>8.0500</td>\n",
       "      <td>0</td>\n",
       "    </tr>\n",
       "    <tr>\n",
       "      <th>80</th>\n",
       "      <td>22.0</td>\n",
       "      <td>9.0000</td>\n",
       "      <td>0</td>\n",
       "    </tr>\n",
       "    <tr>\n",
       "      <th>846</th>\n",
       "      <td>NaN</td>\n",
       "      <td>69.5500</td>\n",
       "      <td>1</td>\n",
       "    </tr>\n",
       "    <tr>\n",
       "      <th>870</th>\n",
       "      <td>26.0</td>\n",
       "      <td>7.8958</td>\n",
       "      <td>0</td>\n",
       "    </tr>\n",
       "    <tr>\n",
       "      <th>251</th>\n",
       "      <td>29.0</td>\n",
       "      <td>NaN</td>\n",
       "      <td>1</td>\n",
       "    </tr>\n",
       "  </tbody>\n",
       "</table>\n",
       "<p>179 rows × 3 columns</p>\n",
       "</div>"
      ],
      "text/plain": [
       "      Age     Fare  Age_NA\n",
       "707  42.0  26.2875       0\n",
       "37   21.0   8.0500       0\n",
       "615  24.0  65.0000       0\n",
       "169  28.0  56.4958       0\n",
       "68   17.0   7.9250       0\n",
       "..    ...      ...     ...\n",
       "89   24.0   8.0500       0\n",
       "80   22.0   9.0000       0\n",
       "846   NaN  69.5500       1\n",
       "870  26.0   7.8958       0\n",
       "251  29.0      NaN       1\n",
       "\n",
       "[179 rows x 3 columns]"
      ]
     },
     "execution_count": 19,
     "metadata": {},
     "output_type": "execute_result"
    }
   ],
   "source": [
    "X_test"
   ]
  },
  {
   "cell_type": "code",
   "execution_count": 20,
   "id": "d4ad8e77",
   "metadata": {
    "execution": {
     "iopub.execute_input": "2024-06-05T15:06:08.546919Z",
     "iopub.status.busy": "2024-06-05T15:06:08.546057Z",
     "iopub.status.idle": "2024-06-05T15:06:08.558291Z",
     "shell.execute_reply": "2024-06-05T15:06:08.557081Z"
    },
    "papermill": {
     "duration": 0.027251,
     "end_time": "2024-06-05T15:06:08.561006",
     "exception": false,
     "start_time": "2024-06-05T15:06:08.533755",
     "status": "completed"
    },
    "tags": []
   },
   "outputs": [],
   "source": [
    "si = SimpleImputer()\n",
    "\n",
    "X_train_trf2 = si.fit_transform(X_train)\n",
    "X_test_trf2 = si.transform(X_test)"
   ]
  },
  {
   "cell_type": "code",
   "execution_count": 21,
   "id": "3862fbff",
   "metadata": {
    "execution": {
     "iopub.execute_input": "2024-06-05T15:06:08.585456Z",
     "iopub.status.busy": "2024-06-05T15:06:08.584263Z",
     "iopub.status.idle": "2024-06-05T15:06:08.603330Z",
     "shell.execute_reply": "2024-06-05T15:06:08.602072Z"
    },
    "papermill": {
     "duration": 0.033878,
     "end_time": "2024-06-05T15:06:08.605836",
     "exception": false,
     "start_time": "2024-06-05T15:06:08.571958",
     "status": "completed"
    },
    "tags": []
   },
   "outputs": [
    {
     "data": {
      "text/plain": [
       "0.6089385474860335"
      ]
     },
     "execution_count": 21,
     "metadata": {},
     "output_type": "execute_result"
    }
   ],
   "source": [
    "from sklearn.linear_model import LogisticRegression\n",
    "\n",
    "clf = LogisticRegression()\n",
    "\n",
    "clf.fit(X_train_trf2,y_train)\n",
    "\n",
    "y_pred = clf.predict(X_test_trf2)\n",
    "\n",
    "from sklearn.metrics import accuracy_score\n",
    "accuracy_score(y_test,y_pred)"
   ]
  },
  {
   "cell_type": "code",
   "execution_count": 22,
   "id": "47ba79c3",
   "metadata": {
    "execution": {
     "iopub.execute_input": "2024-06-05T15:06:08.629939Z",
     "iopub.status.busy": "2024-06-05T15:06:08.629525Z",
     "iopub.status.idle": "2024-06-05T15:06:08.634625Z",
     "shell.execute_reply": "2024-06-05T15:06:08.633584Z"
    },
    "papermill": {
     "duration": 0.02033,
     "end_time": "2024-06-05T15:06:08.637381",
     "exception": false,
     "start_time": "2024-06-05T15:06:08.617051",
     "status": "completed"
    },
    "tags": []
   },
   "outputs": [],
   "source": [
    "si = SimpleImputer(add_indicator=True)"
   ]
  },
  {
   "cell_type": "code",
   "execution_count": 23,
   "id": "e3f86698",
   "metadata": {
    "execution": {
     "iopub.execute_input": "2024-06-05T15:06:08.662020Z",
     "iopub.status.busy": "2024-06-05T15:06:08.661598Z",
     "iopub.status.idle": "2024-06-05T15:06:08.672297Z",
     "shell.execute_reply": "2024-06-05T15:06:08.671143Z"
    },
    "papermill": {
     "duration": 0.026128,
     "end_time": "2024-06-05T15:06:08.674987",
     "exception": false,
     "start_time": "2024-06-05T15:06:08.648859",
     "status": "completed"
    },
    "tags": []
   },
   "outputs": [],
   "source": [
    "X_train = si.fit_transform(X_train)"
   ]
  },
  {
   "cell_type": "code",
   "execution_count": 24,
   "id": "3d74b28d",
   "metadata": {
    "execution": {
     "iopub.execute_input": "2024-06-05T15:06:08.700189Z",
     "iopub.status.busy": "2024-06-05T15:06:08.699185Z",
     "iopub.status.idle": "2024-06-05T15:06:08.706801Z",
     "shell.execute_reply": "2024-06-05T15:06:08.705723Z"
    },
    "papermill": {
     "duration": 0.022434,
     "end_time": "2024-06-05T15:06:08.709076",
     "exception": false,
     "start_time": "2024-06-05T15:06:08.686642",
     "status": "completed"
    },
    "tags": []
   },
   "outputs": [],
   "source": [
    "X_test = si.transform(X_test)"
   ]
  },
  {
   "cell_type": "code",
   "execution_count": 25,
   "id": "0c745b8b",
   "metadata": {
    "execution": {
     "iopub.execute_input": "2024-06-05T15:06:08.734369Z",
     "iopub.status.busy": "2024-06-05T15:06:08.733905Z",
     "iopub.status.idle": "2024-06-05T15:06:08.754272Z",
     "shell.execute_reply": "2024-06-05T15:06:08.753105Z"
    },
    "papermill": {
     "duration": 0.03611,
     "end_time": "2024-06-05T15:06:08.757054",
     "exception": false,
     "start_time": "2024-06-05T15:06:08.720944",
     "status": "completed"
    },
    "tags": []
   },
   "outputs": [
    {
     "data": {
      "text/plain": [
       "0.6089385474860335"
      ]
     },
     "execution_count": 25,
     "metadata": {},
     "output_type": "execute_result"
    }
   ],
   "source": [
    "from sklearn.linear_model import LogisticRegression\n",
    "\n",
    "clf = LogisticRegression()\n",
    "\n",
    "clf.fit(X_train_trf2,y_train)\n",
    "\n",
    "y_pred = clf.predict(X_test_trf2)\n",
    "\n",
    "from sklearn.metrics import accuracy_score\n",
    "accuracy_score(y_test,y_pred)"
   ]
  },
  {
   "cell_type": "code",
   "execution_count": null,
   "id": "46997c5b",
   "metadata": {
    "papermill": {
     "duration": 0.011295,
     "end_time": "2024-06-05T15:06:08.779804",
     "exception": false,
     "start_time": "2024-06-05T15:06:08.768509",
     "status": "completed"
    },
    "tags": []
   },
   "outputs": [],
   "source": []
  }
 ],
 "metadata": {
  "kaggle": {
   "accelerator": "none",
   "dataSources": [
    {
     "datasetId": 5006429,
     "sourceId": 8411652,
     "sourceType": "datasetVersion"
    }
   ],
   "dockerImageVersionId": 30732,
   "isGpuEnabled": false,
   "isInternetEnabled": false,
   "language": "python",
   "sourceType": "notebook"
  },
  "kernelspec": {
   "display_name": "Python 3",
   "language": "python",
   "name": "python3"
  },
  "language_info": {
   "codemirror_mode": {
    "name": "ipython",
    "version": 3
   },
   "file_extension": ".py",
   "mimetype": "text/x-python",
   "name": "python",
   "nbconvert_exporter": "python",
   "pygments_lexer": "ipython3",
   "version": "3.10.13"
  },
  "papermill": {
   "default_parameters": {},
   "duration": 7.469244,
   "end_time": "2024-06-05T15:06:09.413530",
   "environment_variables": {},
   "exception": null,
   "input_path": "__notebook__.ipynb",
   "output_path": "__notebook__.ipynb",
   "parameters": {},
   "start_time": "2024-06-05T15:06:01.944286",
   "version": "2.5.0"
  }
 },
 "nbformat": 4,
 "nbformat_minor": 5
}
