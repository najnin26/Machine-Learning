{
 "cells": [
  {
   "cell_type": "code",
   "execution_count": 1,
   "id": "3e4bbeb0",
   "metadata": {
    "_cell_guid": "b1076dfc-b9ad-4769-8c92-a6c4dae69d19",
    "_uuid": "8f2839f25d086af736a60e9eeb907d3b93b6e0e5",
    "execution": {
     "iopub.execute_input": "2024-06-05T14:38:17.801277Z",
     "iopub.status.busy": "2024-06-05T14:38:17.800868Z",
     "iopub.status.idle": "2024-06-05T14:38:20.341256Z",
     "shell.execute_reply": "2024-06-05T14:38:20.340059Z"
    },
    "papermill": {
     "duration": 2.548817,
     "end_time": "2024-06-05T14:38:20.343905",
     "exception": false,
     "start_time": "2024-06-05T14:38:17.795088",
     "status": "completed"
    },
    "tags": []
   },
   "outputs": [],
   "source": [
    "import numpy as np\n",
    "import pandas as pd\n",
    "\n",
    "from sklearn.model_selection import train_test_split\n",
    "\n",
    "from sklearn.impute import MissingIndicator,SimpleImputer"
   ]
  },
  {
   "cell_type": "code",
   "execution_count": 2,
   "id": "4b4f7e9b",
   "metadata": {
    "execution": {
     "iopub.execute_input": "2024-06-05T14:38:20.354100Z",
     "iopub.status.busy": "2024-06-05T14:38:20.353158Z",
     "iopub.status.idle": "2024-06-05T14:38:20.377334Z",
     "shell.execute_reply": "2024-06-05T14:38:20.376033Z"
    },
    "papermill": {
     "duration": 0.032142,
     "end_time": "2024-06-05T14:38:20.380220",
     "exception": false,
     "start_time": "2024-06-05T14:38:20.348078",
     "status": "completed"
    },
    "tags": []
   },
   "outputs": [],
   "source": [
    "df=pd.read_csv(\"/kaggle/input/titanic-toy/titanic_toy.csv\",usecols=['Age','Fare','Survived'])"
   ]
  },
  {
   "cell_type": "code",
   "execution_count": 3,
   "id": "f1d9bb28",
   "metadata": {
    "execution": {
     "iopub.execute_input": "2024-06-05T14:38:20.390204Z",
     "iopub.status.busy": "2024-06-05T14:38:20.389799Z",
     "iopub.status.idle": "2024-06-05T14:38:20.415987Z",
     "shell.execute_reply": "2024-06-05T14:38:20.414795Z"
    },
    "papermill": {
     "duration": 0.034103,
     "end_time": "2024-06-05T14:38:20.418644",
     "exception": false,
     "start_time": "2024-06-05T14:38:20.384541",
     "status": "completed"
    },
    "tags": []
   },
   "outputs": [
    {
     "data": {
      "text/html": [
       "<div>\n",
       "<style scoped>\n",
       "    .dataframe tbody tr th:only-of-type {\n",
       "        vertical-align: middle;\n",
       "    }\n",
       "\n",
       "    .dataframe tbody tr th {\n",
       "        vertical-align: top;\n",
       "    }\n",
       "\n",
       "    .dataframe thead th {\n",
       "        text-align: right;\n",
       "    }\n",
       "</style>\n",
       "<table border=\"1\" class=\"dataframe\">\n",
       "  <thead>\n",
       "    <tr style=\"text-align: right;\">\n",
       "      <th></th>\n",
       "      <th>Age</th>\n",
       "      <th>Fare</th>\n",
       "      <th>Survived</th>\n",
       "    </tr>\n",
       "  </thead>\n",
       "  <tbody>\n",
       "    <tr>\n",
       "      <th>0</th>\n",
       "      <td>22.0</td>\n",
       "      <td>7.2500</td>\n",
       "      <td>0</td>\n",
       "    </tr>\n",
       "    <tr>\n",
       "      <th>1</th>\n",
       "      <td>38.0</td>\n",
       "      <td>71.2833</td>\n",
       "      <td>1</td>\n",
       "    </tr>\n",
       "    <tr>\n",
       "      <th>2</th>\n",
       "      <td>26.0</td>\n",
       "      <td>7.9250</td>\n",
       "      <td>1</td>\n",
       "    </tr>\n",
       "    <tr>\n",
       "      <th>3</th>\n",
       "      <td>35.0</td>\n",
       "      <td>53.1000</td>\n",
       "      <td>1</td>\n",
       "    </tr>\n",
       "    <tr>\n",
       "      <th>4</th>\n",
       "      <td>35.0</td>\n",
       "      <td>8.0500</td>\n",
       "      <td>0</td>\n",
       "    </tr>\n",
       "  </tbody>\n",
       "</table>\n",
       "</div>"
      ],
      "text/plain": [
       "    Age     Fare  Survived\n",
       "0  22.0   7.2500         0\n",
       "1  38.0  71.2833         1\n",
       "2  26.0   7.9250         1\n",
       "3  35.0  53.1000         1\n",
       "4  35.0   8.0500         0"
      ]
     },
     "execution_count": 3,
     "metadata": {},
     "output_type": "execute_result"
    }
   ],
   "source": [
    "df.head()"
   ]
  },
  {
   "cell_type": "code",
   "execution_count": 4,
   "id": "dc032447",
   "metadata": {
    "execution": {
     "iopub.execute_input": "2024-06-05T14:38:20.429187Z",
     "iopub.status.busy": "2024-06-05T14:38:20.428265Z",
     "iopub.status.idle": "2024-06-05T14:38:20.439494Z",
     "shell.execute_reply": "2024-06-05T14:38:20.438207Z"
    },
    "papermill": {
     "duration": 0.019127,
     "end_time": "2024-06-05T14:38:20.442016",
     "exception": false,
     "start_time": "2024-06-05T14:38:20.422889",
     "status": "completed"
    },
    "tags": []
   },
   "outputs": [],
   "source": [
    "X = df.drop(columns=['Survived'])\n",
    "y = df['Survived']"
   ]
  },
  {
   "cell_type": "code",
   "execution_count": 5,
   "id": "b651fbdb",
   "metadata": {
    "execution": {
     "iopub.execute_input": "2024-06-05T14:38:20.451728Z",
     "iopub.status.busy": "2024-06-05T14:38:20.451304Z",
     "iopub.status.idle": "2024-06-05T14:38:20.460956Z",
     "shell.execute_reply": "2024-06-05T14:38:20.459799Z"
    },
    "papermill": {
     "duration": 0.017391,
     "end_time": "2024-06-05T14:38:20.463470",
     "exception": false,
     "start_time": "2024-06-05T14:38:20.446079",
     "status": "completed"
    },
    "tags": []
   },
   "outputs": [],
   "source": [
    "X_train,X_test,y_train,y_test = train_test_split(X,y,test_size=0.2,random_state=2)"
   ]
  },
  {
   "cell_type": "code",
   "execution_count": 6,
   "id": "f117b03a",
   "metadata": {
    "execution": {
     "iopub.execute_input": "2024-06-05T14:38:20.473453Z",
     "iopub.status.busy": "2024-06-05T14:38:20.473043Z",
     "iopub.status.idle": "2024-06-05T14:38:20.484423Z",
     "shell.execute_reply": "2024-06-05T14:38:20.482944Z"
    },
    "papermill": {
     "duration": 0.019436,
     "end_time": "2024-06-05T14:38:20.487102",
     "exception": false,
     "start_time": "2024-06-05T14:38:20.467666",
     "status": "completed"
    },
    "tags": []
   },
   "outputs": [
    {
     "data": {
      "text/html": [
       "<div>\n",
       "<style scoped>\n",
       "    .dataframe tbody tr th:only-of-type {\n",
       "        vertical-align: middle;\n",
       "    }\n",
       "\n",
       "    .dataframe tbody tr th {\n",
       "        vertical-align: top;\n",
       "    }\n",
       "\n",
       "    .dataframe thead th {\n",
       "        text-align: right;\n",
       "    }\n",
       "</style>\n",
       "<table border=\"1\" class=\"dataframe\">\n",
       "  <thead>\n",
       "    <tr style=\"text-align: right;\">\n",
       "      <th></th>\n",
       "      <th>Age</th>\n",
       "      <th>Fare</th>\n",
       "    </tr>\n",
       "  </thead>\n",
       "  <tbody>\n",
       "    <tr>\n",
       "      <th>30</th>\n",
       "      <td>40.0</td>\n",
       "      <td>27.7208</td>\n",
       "    </tr>\n",
       "    <tr>\n",
       "      <th>10</th>\n",
       "      <td>4.0</td>\n",
       "      <td>16.7000</td>\n",
       "    </tr>\n",
       "    <tr>\n",
       "      <th>873</th>\n",
       "      <td>47.0</td>\n",
       "      <td>9.0000</td>\n",
       "    </tr>\n",
       "    <tr>\n",
       "      <th>182</th>\n",
       "      <td>9.0</td>\n",
       "      <td>31.3875</td>\n",
       "    </tr>\n",
       "    <tr>\n",
       "      <th>876</th>\n",
       "      <td>20.0</td>\n",
       "      <td>9.8458</td>\n",
       "    </tr>\n",
       "  </tbody>\n",
       "</table>\n",
       "</div>"
      ],
      "text/plain": [
       "      Age     Fare\n",
       "30   40.0  27.7208\n",
       "10    4.0  16.7000\n",
       "873  47.0   9.0000\n",
       "182   9.0  31.3875\n",
       "876  20.0   9.8458"
      ]
     },
     "execution_count": 6,
     "metadata": {},
     "output_type": "execute_result"
    }
   ],
   "source": [
    "X_train.head()"
   ]
  },
  {
   "cell_type": "code",
   "execution_count": 7,
   "id": "7f4bd357",
   "metadata": {
    "execution": {
     "iopub.execute_input": "2024-06-05T14:38:20.498013Z",
     "iopub.status.busy": "2024-06-05T14:38:20.497639Z",
     "iopub.status.idle": "2024-06-05T14:38:20.511527Z",
     "shell.execute_reply": "2024-06-05T14:38:20.510370Z"
    },
    "papermill": {
     "duration": 0.023094,
     "end_time": "2024-06-05T14:38:20.514411",
     "exception": false,
     "start_time": "2024-06-05T14:38:20.491317",
     "status": "completed"
    },
    "tags": []
   },
   "outputs": [],
   "source": [
    "si = SimpleImputer()\n",
    "X_train_trf = si.fit_transform(X_train)\n",
    "X_test_trf = si.transform(X_test)"
   ]
  },
  {
   "cell_type": "code",
   "execution_count": 8,
   "id": "c5796d99",
   "metadata": {
    "execution": {
     "iopub.execute_input": "2024-06-05T14:38:20.524449Z",
     "iopub.status.busy": "2024-06-05T14:38:20.524032Z",
     "iopub.status.idle": "2024-06-05T14:38:20.531502Z",
     "shell.execute_reply": "2024-06-05T14:38:20.530448Z"
    },
    "papermill": {
     "duration": 0.015157,
     "end_time": "2024-06-05T14:38:20.533775",
     "exception": false,
     "start_time": "2024-06-05T14:38:20.518618",
     "status": "completed"
    },
    "tags": []
   },
   "outputs": [
    {
     "data": {
      "text/plain": [
       "array([[ 40.        ,  27.7208    ],\n",
       "       [  4.        ,  16.7       ],\n",
       "       [ 47.        ,   9.        ],\n",
       "       ...,\n",
       "       [ 71.        ,  49.5042    ],\n",
       "       [ 29.78590426, 221.7792    ],\n",
       "       [ 29.78590426,  25.925     ]])"
      ]
     },
     "execution_count": 8,
     "metadata": {},
     "output_type": "execute_result"
    }
   ],
   "source": [
    "X_train_trf"
   ]
  },
  {
   "cell_type": "code",
   "execution_count": 9,
   "id": "601f26bc",
   "metadata": {
    "execution": {
     "iopub.execute_input": "2024-06-05T14:38:20.544202Z",
     "iopub.status.busy": "2024-06-05T14:38:20.543838Z",
     "iopub.status.idle": "2024-06-05T14:38:20.566765Z",
     "shell.execute_reply": "2024-06-05T14:38:20.565462Z"
    },
    "papermill": {
     "duration": 0.031157,
     "end_time": "2024-06-05T14:38:20.569353",
     "exception": false,
     "start_time": "2024-06-05T14:38:20.538196",
     "status": "completed"
    },
    "tags": []
   },
   "outputs": [
    {
     "data": {
      "text/plain": [
       "0.6033519553072626"
      ]
     },
     "execution_count": 9,
     "metadata": {},
     "output_type": "execute_result"
    }
   ],
   "source": [
    "from sklearn.linear_model import LogisticRegression\n",
    "\n",
    "clf = LogisticRegression()\n",
    "\n",
    "clf.fit(X_train_trf,y_train)\n",
    "\n",
    "y_pred = clf.predict(X_test_trf)\n",
    "\n",
    "from sklearn.metrics import accuracy_score\n",
    "accuracy_score(y_test,y_pred)"
   ]
  },
  {
   "cell_type": "code",
   "execution_count": 10,
   "id": "f35c8774",
   "metadata": {
    "execution": {
     "iopub.execute_input": "2024-06-05T14:38:20.579871Z",
     "iopub.status.busy": "2024-06-05T14:38:20.579494Z",
     "iopub.status.idle": "2024-06-05T14:38:20.590688Z",
     "shell.execute_reply": "2024-06-05T14:38:20.589598Z"
    },
    "papermill": {
     "duration": 0.019249,
     "end_time": "2024-06-05T14:38:20.593138",
     "exception": false,
     "start_time": "2024-06-05T14:38:20.573889",
     "status": "completed"
    },
    "tags": []
   },
   "outputs": [
    {
     "data": {
      "text/html": [
       "<style>#sk-container-id-1 {color: black;background-color: white;}#sk-container-id-1 pre{padding: 0;}#sk-container-id-1 div.sk-toggleable {background-color: white;}#sk-container-id-1 label.sk-toggleable__label {cursor: pointer;display: block;width: 100%;margin-bottom: 0;padding: 0.3em;box-sizing: border-box;text-align: center;}#sk-container-id-1 label.sk-toggleable__label-arrow:before {content: \"▸\";float: left;margin-right: 0.25em;color: #696969;}#sk-container-id-1 label.sk-toggleable__label-arrow:hover:before {color: black;}#sk-container-id-1 div.sk-estimator:hover label.sk-toggleable__label-arrow:before {color: black;}#sk-container-id-1 div.sk-toggleable__content {max-height: 0;max-width: 0;overflow: hidden;text-align: left;background-color: #f0f8ff;}#sk-container-id-1 div.sk-toggleable__content pre {margin: 0.2em;color: black;border-radius: 0.25em;background-color: #f0f8ff;}#sk-container-id-1 input.sk-toggleable__control:checked~div.sk-toggleable__content {max-height: 200px;max-width: 100%;overflow: auto;}#sk-container-id-1 input.sk-toggleable__control:checked~label.sk-toggleable__label-arrow:before {content: \"▾\";}#sk-container-id-1 div.sk-estimator input.sk-toggleable__control:checked~label.sk-toggleable__label {background-color: #d4ebff;}#sk-container-id-1 div.sk-label input.sk-toggleable__control:checked~label.sk-toggleable__label {background-color: #d4ebff;}#sk-container-id-1 input.sk-hidden--visually {border: 0;clip: rect(1px 1px 1px 1px);clip: rect(1px, 1px, 1px, 1px);height: 1px;margin: -1px;overflow: hidden;padding: 0;position: absolute;width: 1px;}#sk-container-id-1 div.sk-estimator {font-family: monospace;background-color: #f0f8ff;border: 1px dotted black;border-radius: 0.25em;box-sizing: border-box;margin-bottom: 0.5em;}#sk-container-id-1 div.sk-estimator:hover {background-color: #d4ebff;}#sk-container-id-1 div.sk-parallel-item::after {content: \"\";width: 100%;border-bottom: 1px solid gray;flex-grow: 1;}#sk-container-id-1 div.sk-label:hover label.sk-toggleable__label {background-color: #d4ebff;}#sk-container-id-1 div.sk-serial::before {content: \"\";position: absolute;border-left: 1px solid gray;box-sizing: border-box;top: 0;bottom: 0;left: 50%;z-index: 0;}#sk-container-id-1 div.sk-serial {display: flex;flex-direction: column;align-items: center;background-color: white;padding-right: 0.2em;padding-left: 0.2em;position: relative;}#sk-container-id-1 div.sk-item {position: relative;z-index: 1;}#sk-container-id-1 div.sk-parallel {display: flex;align-items: stretch;justify-content: center;background-color: white;position: relative;}#sk-container-id-1 div.sk-item::before, #sk-container-id-1 div.sk-parallel-item::before {content: \"\";position: absolute;border-left: 1px solid gray;box-sizing: border-box;top: 0;bottom: 0;left: 50%;z-index: -1;}#sk-container-id-1 div.sk-parallel-item {display: flex;flex-direction: column;z-index: 1;position: relative;background-color: white;}#sk-container-id-1 div.sk-parallel-item:first-child::after {align-self: flex-end;width: 50%;}#sk-container-id-1 div.sk-parallel-item:last-child::after {align-self: flex-start;width: 50%;}#sk-container-id-1 div.sk-parallel-item:only-child::after {width: 0;}#sk-container-id-1 div.sk-dashed-wrapped {border: 1px dashed gray;margin: 0 0.4em 0.5em 0.4em;box-sizing: border-box;padding-bottom: 0.4em;background-color: white;}#sk-container-id-1 div.sk-label label {font-family: monospace;font-weight: bold;display: inline-block;line-height: 1.2em;}#sk-container-id-1 div.sk-label-container {text-align: center;}#sk-container-id-1 div.sk-container {/* jupyter's `normalize.less` sets `[hidden] { display: none; }` but bootstrap.min.css set `[hidden] { display: none !important; }` so we also need the `!important` here to be able to override the default hidden behavior on the sphinx rendered scikit-learn.org. See: https://github.com/scikit-learn/scikit-learn/issues/21755 */display: inline-block !important;position: relative;}#sk-container-id-1 div.sk-text-repr-fallback {display: none;}</style><div id=\"sk-container-id-1\" class=\"sk-top-container\"><div class=\"sk-text-repr-fallback\"><pre>MissingIndicator()</pre><b>In a Jupyter environment, please rerun this cell to show the HTML representation or trust the notebook. <br />On GitHub, the HTML representation is unable to render, please try loading this page with nbviewer.org.</b></div><div class=\"sk-container\" hidden><div class=\"sk-item\"><div class=\"sk-estimator sk-toggleable\"><input class=\"sk-toggleable__control sk-hidden--visually\" id=\"sk-estimator-id-1\" type=\"checkbox\" checked><label for=\"sk-estimator-id-1\" class=\"sk-toggleable__label sk-toggleable__label-arrow\">MissingIndicator</label><div class=\"sk-toggleable__content\"><pre>MissingIndicator()</pre></div></div></div></div></div>"
      ],
      "text/plain": [
       "MissingIndicator()"
      ]
     },
     "execution_count": 10,
     "metadata": {},
     "output_type": "execute_result"
    }
   ],
   "source": [
    "mi = MissingIndicator()\n",
    "\n",
    "mi.fit(X_train)"
   ]
  },
  {
   "cell_type": "code",
   "execution_count": 11,
   "id": "ae1acf50",
   "metadata": {
    "execution": {
     "iopub.execute_input": "2024-06-05T14:38:20.604253Z",
     "iopub.status.busy": "2024-06-05T14:38:20.603894Z",
     "iopub.status.idle": "2024-06-05T14:38:20.611018Z",
     "shell.execute_reply": "2024-06-05T14:38:20.609974Z"
    },
    "papermill": {
     "duration": 0.015397,
     "end_time": "2024-06-05T14:38:20.613341",
     "exception": false,
     "start_time": "2024-06-05T14:38:20.597944",
     "status": "completed"
    },
    "tags": []
   },
   "outputs": [
    {
     "data": {
      "text/plain": [
       "array([0, 1])"
      ]
     },
     "execution_count": 11,
     "metadata": {},
     "output_type": "execute_result"
    }
   ],
   "source": [
    "mi.features_"
   ]
  },
  {
   "cell_type": "code",
   "execution_count": 12,
   "id": "024c6db5",
   "metadata": {
    "execution": {
     "iopub.execute_input": "2024-06-05T14:38:20.624562Z",
     "iopub.status.busy": "2024-06-05T14:38:20.624143Z",
     "iopub.status.idle": "2024-06-05T14:38:20.631823Z",
     "shell.execute_reply": "2024-06-05T14:38:20.630448Z"
    },
    "papermill": {
     "duration": 0.015983,
     "end_time": "2024-06-05T14:38:20.634101",
     "exception": false,
     "start_time": "2024-06-05T14:38:20.618118",
     "status": "completed"
    },
    "tags": []
   },
   "outputs": [],
   "source": [
    "X_train_missing = mi.transform(X_train)"
   ]
  },
  {
   "cell_type": "code",
   "execution_count": null,
   "id": "b0b88144",
   "metadata": {
    "papermill": {
     "duration": 0.004357,
     "end_time": "2024-06-05T14:38:20.643311",
     "exception": false,
     "start_time": "2024-06-05T14:38:20.638954",
     "status": "completed"
    },
    "tags": []
   },
   "outputs": [],
   "source": []
  }
 ],
 "metadata": {
  "kaggle": {
   "accelerator": "none",
   "dataSources": [
    {
     "datasetId": 5006429,
     "sourceId": 8411652,
     "sourceType": "datasetVersion"
    }
   ],
   "dockerImageVersionId": 30732,
   "isGpuEnabled": false,
   "isInternetEnabled": false,
   "language": "python",
   "sourceType": "notebook"
  },
  "kernelspec": {
   "display_name": "Python 3",
   "language": "python",
   "name": "python3"
  },
  "language_info": {
   "codemirror_mode": {
    "name": "ipython",
    "version": 3
   },
   "file_extension": ".py",
   "mimetype": "text/x-python",
   "name": "python",
   "nbconvert_exporter": "python",
   "pygments_lexer": "ipython3",
   "version": "3.10.13"
  },
  "papermill": {
   "default_parameters": {},
   "duration": 6.41809,
   "end_time": "2024-06-05T14:38:21.270241",
   "environment_variables": {},
   "exception": null,
   "input_path": "__notebook__.ipynb",
   "output_path": "__notebook__.ipynb",
   "parameters": {},
   "start_time": "2024-06-05T14:38:14.852151",
   "version": "2.5.0"
  }
 },
 "nbformat": 4,
 "nbformat_minor": 5
}
