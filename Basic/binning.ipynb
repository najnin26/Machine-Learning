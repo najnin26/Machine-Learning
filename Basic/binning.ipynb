{
 "cells": [
  {
   "cell_type": "code",
   "execution_count": 1,
   "id": "e1c32c5a",
   "metadata": {
    "_cell_guid": "b1076dfc-b9ad-4769-8c92-a6c4dae69d19",
    "_uuid": "8f2839f25d086af736a60e9eeb907d3b93b6e0e5",
    "execution": {
     "iopub.execute_input": "2024-05-10T17:15:29.875844Z",
     "iopub.status.busy": "2024-05-10T17:15:29.875200Z",
     "iopub.status.idle": "2024-05-10T17:15:31.011110Z",
     "shell.execute_reply": "2024-05-10T17:15:31.009522Z"
    },
    "papermill": {
     "duration": 1.151096,
     "end_time": "2024-05-10T17:15:31.014238",
     "exception": false,
     "start_time": "2024-05-10T17:15:29.863142",
     "status": "completed"
    },
    "tags": []
   },
   "outputs": [],
   "source": [
    "import pandas as pd\n",
    "import numpy as np"
   ]
  },
  {
   "cell_type": "code",
   "execution_count": 2,
   "id": "cdc9680a",
   "metadata": {
    "execution": {
     "iopub.execute_input": "2024-05-10T17:15:31.037121Z",
     "iopub.status.busy": "2024-05-10T17:15:31.036458Z",
     "iopub.status.idle": "2024-05-10T17:15:32.874704Z",
     "shell.execute_reply": "2024-05-10T17:15:32.873015Z"
    },
    "papermill": {
     "duration": 1.854737,
     "end_time": "2024-05-10T17:15:32.878560",
     "exception": false,
     "start_time": "2024-05-10T17:15:31.023823",
     "status": "completed"
    },
    "tags": []
   },
   "outputs": [],
   "source": [
    "import matplotlib.pyplot as plt\n",
    "from sklearn.model_selection import train_test_split\n",
    "from sklearn.tree import DecisionTreeClassifier\n",
    "from sklearn.metrics import accuracy_score\n",
    "from sklearn.model_selection import cross_val_score\n",
    "from sklearn.compose import ColumnTransformer\n",
    "\n",
    "from sklearn.preprocessing import KBinsDiscretizer"
   ]
  },
  {
   "cell_type": "code",
   "execution_count": 3,
   "id": "988f34ff",
   "metadata": {
    "execution": {
     "iopub.execute_input": "2024-05-10T17:15:32.905085Z",
     "iopub.status.busy": "2024-05-10T17:15:32.904153Z",
     "iopub.status.idle": "2024-05-10T17:15:32.934706Z",
     "shell.execute_reply": "2024-05-10T17:15:32.933460Z"
    },
    "papermill": {
     "duration": 0.045465,
     "end_time": "2024-05-10T17:15:32.937983",
     "exception": false,
     "start_time": "2024-05-10T17:15:32.892518",
     "status": "completed"
    },
    "tags": []
   },
   "outputs": [],
   "source": [
    "df = pd.read_csv('/kaggle/input/data-science-day1-titanic/DSB_Day1_Titanic_train.csv',usecols=['Age','Fare','Survived'])\n"
   ]
  },
  {
   "cell_type": "code",
   "execution_count": 4,
   "id": "b3bee291",
   "metadata": {
    "execution": {
     "iopub.execute_input": "2024-05-10T17:15:32.960337Z",
     "iopub.status.busy": "2024-05-10T17:15:32.959454Z",
     "iopub.status.idle": "2024-05-10T17:15:32.976903Z",
     "shell.execute_reply": "2024-05-10T17:15:32.975773Z"
    },
    "papermill": {
     "duration": 0.034717,
     "end_time": "2024-05-10T17:15:32.982576",
     "exception": false,
     "start_time": "2024-05-10T17:15:32.947859",
     "status": "completed"
    },
    "tags": []
   },
   "outputs": [],
   "source": [
    "df.dropna(inplace=True)"
   ]
  },
  {
   "cell_type": "code",
   "execution_count": 5,
   "id": "3e502ca1",
   "metadata": {
    "execution": {
     "iopub.execute_input": "2024-05-10T17:15:33.012860Z",
     "iopub.status.busy": "2024-05-10T17:15:33.012262Z",
     "iopub.status.idle": "2024-05-10T17:15:33.025187Z",
     "shell.execute_reply": "2024-05-10T17:15:33.023245Z"
    },
    "papermill": {
     "duration": 0.034248,
     "end_time": "2024-05-10T17:15:33.030540",
     "exception": false,
     "start_time": "2024-05-10T17:15:32.996292",
     "status": "completed"
    },
    "tags": []
   },
   "outputs": [
    {
     "data": {
      "text/plain": [
       "(714, 3)"
      ]
     },
     "execution_count": 5,
     "metadata": {},
     "output_type": "execute_result"
    }
   ],
   "source": [
    "df.shape\n"
   ]
  },
  {
   "cell_type": "code",
   "execution_count": 6,
   "id": "df3d3812",
   "metadata": {
    "execution": {
     "iopub.execute_input": "2024-05-10T17:15:33.065350Z",
     "iopub.status.busy": "2024-05-10T17:15:33.063780Z",
     "iopub.status.idle": "2024-05-10T17:15:33.097733Z",
     "shell.execute_reply": "2024-05-10T17:15:33.096628Z"
    },
    "papermill": {
     "duration": 0.058368,
     "end_time": "2024-05-10T17:15:33.102620",
     "exception": false,
     "start_time": "2024-05-10T17:15:33.044252",
     "status": "completed"
    },
    "tags": []
   },
   "outputs": [
    {
     "data": {
      "text/html": [
       "<div>\n",
       "<style scoped>\n",
       "    .dataframe tbody tr th:only-of-type {\n",
       "        vertical-align: middle;\n",
       "    }\n",
       "\n",
       "    .dataframe tbody tr th {\n",
       "        vertical-align: top;\n",
       "    }\n",
       "\n",
       "    .dataframe thead th {\n",
       "        text-align: right;\n",
       "    }\n",
       "</style>\n",
       "<table border=\"1\" class=\"dataframe\">\n",
       "  <thead>\n",
       "    <tr style=\"text-align: right;\">\n",
       "      <th></th>\n",
       "      <th>Survived</th>\n",
       "      <th>Age</th>\n",
       "      <th>Fare</th>\n",
       "    </tr>\n",
       "  </thead>\n",
       "  <tbody>\n",
       "    <tr>\n",
       "      <th>0</th>\n",
       "      <td>0</td>\n",
       "      <td>22.0</td>\n",
       "      <td>7.2500</td>\n",
       "    </tr>\n",
       "    <tr>\n",
       "      <th>1</th>\n",
       "      <td>1</td>\n",
       "      <td>38.0</td>\n",
       "      <td>71.2833</td>\n",
       "    </tr>\n",
       "    <tr>\n",
       "      <th>2</th>\n",
       "      <td>1</td>\n",
       "      <td>26.0</td>\n",
       "      <td>7.9250</td>\n",
       "    </tr>\n",
       "    <tr>\n",
       "      <th>3</th>\n",
       "      <td>1</td>\n",
       "      <td>35.0</td>\n",
       "      <td>53.1000</td>\n",
       "    </tr>\n",
       "    <tr>\n",
       "      <th>4</th>\n",
       "      <td>0</td>\n",
       "      <td>35.0</td>\n",
       "      <td>8.0500</td>\n",
       "    </tr>\n",
       "  </tbody>\n",
       "</table>\n",
       "</div>"
      ],
      "text/plain": [
       "   Survived   Age     Fare\n",
       "0         0  22.0   7.2500\n",
       "1         1  38.0  71.2833\n",
       "2         1  26.0   7.9250\n",
       "3         1  35.0  53.1000\n",
       "4         0  35.0   8.0500"
      ]
     },
     "execution_count": 6,
     "metadata": {},
     "output_type": "execute_result"
    }
   ],
   "source": [
    "df.head()\n"
   ]
  },
  {
   "cell_type": "code",
   "execution_count": 7,
   "id": "7030c4e9",
   "metadata": {
    "execution": {
     "iopub.execute_input": "2024-05-10T17:15:33.141969Z",
     "iopub.status.busy": "2024-05-10T17:15:33.140430Z",
     "iopub.status.idle": "2024-05-10T17:15:33.285536Z",
     "shell.execute_reply": "2024-05-10T17:15:33.284170Z"
    },
    "papermill": {
     "duration": 0.16358,
     "end_time": "2024-05-10T17:15:33.289481",
     "exception": false,
     "start_time": "2024-05-10T17:15:33.125901",
     "status": "completed"
    },
    "tags": []
   },
   "outputs": [],
   "source": [
    "X = df.iloc[:,1:]\n",
    "y = df.iloc[:,0]"
   ]
  },
  {
   "cell_type": "code",
   "execution_count": 8,
   "id": "b580e69a",
   "metadata": {
    "execution": {
     "iopub.execute_input": "2024-05-10T17:15:33.323685Z",
     "iopub.status.busy": "2024-05-10T17:15:33.322195Z",
     "iopub.status.idle": "2024-05-10T17:15:33.336520Z",
     "shell.execute_reply": "2024-05-10T17:15:33.334229Z"
    },
    "papermill": {
     "duration": 0.039248,
     "end_time": "2024-05-10T17:15:33.342126",
     "exception": false,
     "start_time": "2024-05-10T17:15:33.302878",
     "status": "completed"
    },
    "tags": []
   },
   "outputs": [],
   "source": [
    "X_train,X_test,y_train,y_test = train_test_split(X,y,test_size=0.2,random_state=42)"
   ]
  },
  {
   "cell_type": "code",
   "execution_count": 9,
   "id": "1fdeda60",
   "metadata": {
    "execution": {
     "iopub.execute_input": "2024-05-10T17:15:33.377458Z",
     "iopub.status.busy": "2024-05-10T17:15:33.375891Z",
     "iopub.status.idle": "2024-05-10T17:15:33.394796Z",
     "shell.execute_reply": "2024-05-10T17:15:33.393344Z"
    },
    "papermill": {
     "duration": 0.039328,
     "end_time": "2024-05-10T17:15:33.397683",
     "exception": false,
     "start_time": "2024-05-10T17:15:33.358355",
     "status": "completed"
    },
    "tags": []
   },
   "outputs": [
    {
     "data": {
      "text/html": [
       "<div>\n",
       "<style scoped>\n",
       "    .dataframe tbody tr th:only-of-type {\n",
       "        vertical-align: middle;\n",
       "    }\n",
       "\n",
       "    .dataframe tbody tr th {\n",
       "        vertical-align: top;\n",
       "    }\n",
       "\n",
       "    .dataframe thead th {\n",
       "        text-align: right;\n",
       "    }\n",
       "</style>\n",
       "<table border=\"1\" class=\"dataframe\">\n",
       "  <thead>\n",
       "    <tr style=\"text-align: right;\">\n",
       "      <th></th>\n",
       "      <th>Age</th>\n",
       "      <th>Fare</th>\n",
       "    </tr>\n",
       "  </thead>\n",
       "  <tbody>\n",
       "    <tr>\n",
       "      <th>328</th>\n",
       "      <td>31.0</td>\n",
       "      <td>20.5250</td>\n",
       "    </tr>\n",
       "    <tr>\n",
       "      <th>73</th>\n",
       "      <td>26.0</td>\n",
       "      <td>14.4542</td>\n",
       "    </tr>\n",
       "  </tbody>\n",
       "</table>\n",
       "</div>"
      ],
      "text/plain": [
       "      Age     Fare\n",
       "328  31.0  20.5250\n",
       "73   26.0  14.4542"
      ]
     },
     "execution_count": 9,
     "metadata": {},
     "output_type": "execute_result"
    }
   ],
   "source": [
    "X_train.head(2)"
   ]
  },
  {
   "cell_type": "code",
   "execution_count": 10,
   "id": "be34dba9",
   "metadata": {
    "execution": {
     "iopub.execute_input": "2024-05-10T17:15:33.422093Z",
     "iopub.status.busy": "2024-05-10T17:15:33.420959Z",
     "iopub.status.idle": "2024-05-10T17:15:33.426671Z",
     "shell.execute_reply": "2024-05-10T17:15:33.425567Z"
    },
    "papermill": {
     "duration": 0.021265,
     "end_time": "2024-05-10T17:15:33.429458",
     "exception": false,
     "start_time": "2024-05-10T17:15:33.408193",
     "status": "completed"
    },
    "tags": []
   },
   "outputs": [],
   "source": [
    "clf = DecisionTreeClassifier()"
   ]
  },
  {
   "cell_type": "code",
   "execution_count": 11,
   "id": "e1f55812",
   "metadata": {
    "execution": {
     "iopub.execute_input": "2024-05-10T17:15:33.452975Z",
     "iopub.status.busy": "2024-05-10T17:15:33.451618Z",
     "iopub.status.idle": "2024-05-10T17:15:33.468309Z",
     "shell.execute_reply": "2024-05-10T17:15:33.466608Z"
    },
    "papermill": {
     "duration": 0.032122,
     "end_time": "2024-05-10T17:15:33.471675",
     "exception": false,
     "start_time": "2024-05-10T17:15:33.439553",
     "status": "completed"
    },
    "tags": []
   },
   "outputs": [],
   "source": [
    "clf.fit(X_train,y_train)\n",
    "y_pred = clf.predict(X_test)"
   ]
  },
  {
   "cell_type": "code",
   "execution_count": 12,
   "id": "8fdffaaa",
   "metadata": {
    "execution": {
     "iopub.execute_input": "2024-05-10T17:15:33.495594Z",
     "iopub.status.busy": "2024-05-10T17:15:33.494278Z",
     "iopub.status.idle": "2024-05-10T17:15:33.508133Z",
     "shell.execute_reply": "2024-05-10T17:15:33.505870Z"
    },
    "papermill": {
     "duration": 0.029941,
     "end_time": "2024-05-10T17:15:33.511769",
     "exception": false,
     "start_time": "2024-05-10T17:15:33.481828",
     "status": "completed"
    },
    "tags": []
   },
   "outputs": [
    {
     "data": {
      "text/plain": [
       "0.6433566433566433"
      ]
     },
     "execution_count": 12,
     "metadata": {},
     "output_type": "execute_result"
    }
   ],
   "source": [
    "accuracy_score(y_test,y_pred)"
   ]
  },
  {
   "cell_type": "code",
   "execution_count": 13,
   "id": "6beecadc",
   "metadata": {
    "execution": {
     "iopub.execute_input": "2024-05-10T17:15:33.535552Z",
     "iopub.status.busy": "2024-05-10T17:15:33.535052Z",
     "iopub.status.idle": "2024-05-10T17:15:33.615958Z",
     "shell.execute_reply": "2024-05-10T17:15:33.614421Z"
    },
    "papermill": {
     "duration": 0.096644,
     "end_time": "2024-05-10T17:15:33.618942",
     "exception": false,
     "start_time": "2024-05-10T17:15:33.522298",
     "status": "completed"
    },
    "tags": []
   },
   "outputs": [
    {
     "data": {
      "text/plain": [
       "0.6358763693270735"
      ]
     },
     "execution_count": 13,
     "metadata": {},
     "output_type": "execute_result"
    }
   ],
   "source": [
    "np.mean(cross_val_score(DecisionTreeClassifier(),X,y,cv=10,scoring='accuracy'))"
   ]
  },
  {
   "cell_type": "code",
   "execution_count": 14,
   "id": "9e4e066b",
   "metadata": {
    "execution": {
     "iopub.execute_input": "2024-05-10T17:15:33.643247Z",
     "iopub.status.busy": "2024-05-10T17:15:33.641820Z",
     "iopub.status.idle": "2024-05-10T17:15:33.649090Z",
     "shell.execute_reply": "2024-05-10T17:15:33.647671Z"
    },
    "papermill": {
     "duration": 0.022168,
     "end_time": "2024-05-10T17:15:33.651946",
     "exception": false,
     "start_time": "2024-05-10T17:15:33.629778",
     "status": "completed"
    },
    "tags": []
   },
   "outputs": [],
   "source": [
    "kbin_age=KBinsDiscretizer(n_bins=15,encode='ordinal',strategy='quantile')\n",
    "kbin_fare=KBinsDiscretizer(n_bins=15,encode='ordinal',strategy='quantile')"
   ]
  },
  {
   "cell_type": "code",
   "execution_count": 15,
   "id": "ee2ecbde",
   "metadata": {
    "execution": {
     "iopub.execute_input": "2024-05-10T17:15:33.677138Z",
     "iopub.status.busy": "2024-05-10T17:15:33.676602Z",
     "iopub.status.idle": "2024-05-10T17:15:33.683331Z",
     "shell.execute_reply": "2024-05-10T17:15:33.681943Z"
    },
    "papermill": {
     "duration": 0.022848,
     "end_time": "2024-05-10T17:15:33.686094",
     "exception": false,
     "start_time": "2024-05-10T17:15:33.663246",
     "status": "completed"
    },
    "tags": []
   },
   "outputs": [],
   "source": [
    "trf = ColumnTransformer([\n",
    "('first',kbin_age,[0]),\n",
    "('second',kbin_fare,[1])\n",
    "])"
   ]
  },
  {
   "cell_type": "code",
   "execution_count": 16,
   "id": "0d1d0c52",
   "metadata": {
    "execution": {
     "iopub.execute_input": "2024-05-10T17:15:33.709019Z",
     "iopub.status.busy": "2024-05-10T17:15:33.708508Z",
     "iopub.status.idle": "2024-05-10T17:15:33.733655Z",
     "shell.execute_reply": "2024-05-10T17:15:33.732216Z"
    },
    "papermill": {
     "duration": 0.040206,
     "end_time": "2024-05-10T17:15:33.736495",
     "exception": false,
     "start_time": "2024-05-10T17:15:33.696289",
     "status": "completed"
    },
    "tags": []
   },
   "outputs": [],
   "source": [
    "X_train_trf = trf.fit_transform(X_train)\n",
    "X_test_trf = trf.transform(X_test)"
   ]
  },
  {
   "cell_type": "code",
   "execution_count": 17,
   "id": "ea0b835f",
   "metadata": {
    "execution": {
     "iopub.execute_input": "2024-05-10T17:15:33.759792Z",
     "iopub.status.busy": "2024-05-10T17:15:33.759324Z",
     "iopub.status.idle": "2024-05-10T17:15:33.768148Z",
     "shell.execute_reply": "2024-05-10T17:15:33.766985Z"
    },
    "papermill": {
     "duration": 0.023682,
     "end_time": "2024-05-10T17:15:33.770698",
     "exception": false,
     "start_time": "2024-05-10T17:15:33.747016",
     "status": "completed"
    },
    "tags": []
   },
   "outputs": [
    {
     "data": {
      "text/plain": [
       "array([array([ 0.42,  6.  , 16.  , 19.  , 21.  , 23.  , 25.  , 28.  , 30.  ,\n",
       "              32.  , 35.  , 38.  , 42.  , 47.  , 54.  , 80.  ])             ],\n",
       "      dtype=object)"
      ]
     },
     "execution_count": 17,
     "metadata": {},
     "output_type": "execute_result"
    }
   ],
   "source": [
    "trf.named_transformers_['first'].bin_edges_"
   ]
  },
  {
   "cell_type": "code",
   "execution_count": 18,
   "id": "87938e84",
   "metadata": {
    "execution": {
     "iopub.execute_input": "2024-05-10T17:15:33.796186Z",
     "iopub.status.busy": "2024-05-10T17:15:33.794610Z",
     "iopub.status.idle": "2024-05-10T17:15:33.805351Z",
     "shell.execute_reply": "2024-05-10T17:15:33.803860Z"
    },
    "papermill": {
     "duration": 0.027286,
     "end_time": "2024-05-10T17:15:33.808731",
     "exception": false,
     "start_time": "2024-05-10T17:15:33.781445",
     "status": "completed"
    },
    "tags": []
   },
   "outputs": [
    {
     "data": {
      "text/plain": [
       "array([array([ 0.42,  6.  , 16.  , 19.  , 21.  , 23.  , 25.  , 28.  , 30.  ,\n",
       "              32.  , 35.  , 38.  , 42.  , 47.  , 54.  , 80.  ])             ],\n",
       "      dtype=object)"
      ]
     },
     "execution_count": 18,
     "metadata": {},
     "output_type": "execute_result"
    }
   ],
   "source": [
    "trf.named_transformers_['first'].bin_edges_"
   ]
  },
  {
   "cell_type": "code",
   "execution_count": 19,
   "id": "b758edc8",
   "metadata": {
    "execution": {
     "iopub.execute_input": "2024-05-10T17:15:33.833429Z",
     "iopub.status.busy": "2024-05-10T17:15:33.832851Z",
     "iopub.status.idle": "2024-05-10T17:15:33.841734Z",
     "shell.execute_reply": "2024-05-10T17:15:33.840081Z"
    },
    "papermill": {
     "duration": 0.02483,
     "end_time": "2024-05-10T17:15:33.844737",
     "exception": false,
     "start_time": "2024-05-10T17:15:33.819907",
     "status": "completed"
    },
    "tags": []
   },
   "outputs": [],
   "source": [
    "output = pd.DataFrame({\n",
    "    'age':X_train['Age'],\n",
    "    'age_trf':X_train_trf[:,0],\n",
    "    'fare':X_train['Fare'],\n",
    "    'fare_trf':X_train_trf[:,1]\n",
    "})"
   ]
  },
  {
   "cell_type": "code",
   "execution_count": 20,
   "id": "bdaf48a1",
   "metadata": {
    "execution": {
     "iopub.execute_input": "2024-05-10T17:15:33.870965Z",
     "iopub.status.busy": "2024-05-10T17:15:33.870456Z",
     "iopub.status.idle": "2024-05-10T17:15:33.888276Z",
     "shell.execute_reply": "2024-05-10T17:15:33.887127Z"
    },
    "papermill": {
     "duration": 0.034506,
     "end_time": "2024-05-10T17:15:33.890789",
     "exception": false,
     "start_time": "2024-05-10T17:15:33.856283",
     "status": "completed"
    },
    "tags": []
   },
   "outputs": [
    {
     "data": {
      "text/html": [
       "<div>\n",
       "<style scoped>\n",
       "    .dataframe tbody tr th:only-of-type {\n",
       "        vertical-align: middle;\n",
       "    }\n",
       "\n",
       "    .dataframe tbody tr th {\n",
       "        vertical-align: top;\n",
       "    }\n",
       "\n",
       "    .dataframe thead th {\n",
       "        text-align: right;\n",
       "    }\n",
       "</style>\n",
       "<table border=\"1\" class=\"dataframe\">\n",
       "  <thead>\n",
       "    <tr style=\"text-align: right;\">\n",
       "      <th></th>\n",
       "      <th>age</th>\n",
       "      <th>age_trf</th>\n",
       "      <th>fare</th>\n",
       "      <th>fare_trf</th>\n",
       "    </tr>\n",
       "  </thead>\n",
       "  <tbody>\n",
       "    <tr>\n",
       "      <th>861</th>\n",
       "      <td>21.0</td>\n",
       "      <td>4.0</td>\n",
       "      <td>11.5000</td>\n",
       "      <td>5.0</td>\n",
       "    </tr>\n",
       "    <tr>\n",
       "      <th>599</th>\n",
       "      <td>49.0</td>\n",
       "      <td>13.0</td>\n",
       "      <td>56.9292</td>\n",
       "      <td>12.0</td>\n",
       "    </tr>\n",
       "    <tr>\n",
       "      <th>465</th>\n",
       "      <td>38.0</td>\n",
       "      <td>11.0</td>\n",
       "      <td>7.0500</td>\n",
       "      <td>0.0</td>\n",
       "    </tr>\n",
       "    <tr>\n",
       "      <th>208</th>\n",
       "      <td>16.0</td>\n",
       "      <td>2.0</td>\n",
       "      <td>7.7500</td>\n",
       "      <td>1.0</td>\n",
       "    </tr>\n",
       "    <tr>\n",
       "      <th>700</th>\n",
       "      <td>18.0</td>\n",
       "      <td>2.0</td>\n",
       "      <td>227.5250</td>\n",
       "      <td>14.0</td>\n",
       "    </tr>\n",
       "  </tbody>\n",
       "</table>\n",
       "</div>"
      ],
      "text/plain": [
       "      age  age_trf      fare  fare_trf\n",
       "861  21.0      4.0   11.5000       5.0\n",
       "599  49.0     13.0   56.9292      12.0\n",
       "465  38.0     11.0    7.0500       0.0\n",
       "208  16.0      2.0    7.7500       1.0\n",
       "700  18.0      2.0  227.5250      14.0"
      ]
     },
     "execution_count": 20,
     "metadata": {},
     "output_type": "execute_result"
    }
   ],
   "source": [
    "output.sample(5)"
   ]
  },
  {
   "cell_type": "code",
   "execution_count": 21,
   "id": "09be752c",
   "metadata": {
    "execution": {
     "iopub.execute_input": "2024-05-10T17:15:33.916100Z",
     "iopub.status.busy": "2024-05-10T17:15:33.914599Z",
     "iopub.status.idle": "2024-05-10T17:15:33.924487Z",
     "shell.execute_reply": "2024-05-10T17:15:33.923306Z"
    },
    "papermill": {
     "duration": 0.025472,
     "end_time": "2024-05-10T17:15:33.927303",
     "exception": false,
     "start_time": "2024-05-10T17:15:33.901831",
     "status": "completed"
    },
    "tags": []
   },
   "outputs": [],
   "source": [
    "clf = DecisionTreeClassifier()\n",
    "clf.fit(X_train_trf,y_train)\n",
    "y_pred2 = clf.predict(X_test_trf)"
   ]
  },
  {
   "cell_type": "code",
   "execution_count": 22,
   "id": "a8b0331c",
   "metadata": {
    "execution": {
     "iopub.execute_input": "2024-05-10T17:15:33.952524Z",
     "iopub.status.busy": "2024-05-10T17:15:33.950569Z",
     "iopub.status.idle": "2024-05-10T17:15:33.962902Z",
     "shell.execute_reply": "2024-05-10T17:15:33.961333Z"
    },
    "papermill": {
     "duration": 0.028091,
     "end_time": "2024-05-10T17:15:33.965841",
     "exception": false,
     "start_time": "2024-05-10T17:15:33.937750",
     "status": "completed"
    },
    "tags": []
   },
   "outputs": [
    {
     "data": {
      "text/plain": [
       "0.6363636363636364"
      ]
     },
     "execution_count": 22,
     "metadata": {},
     "output_type": "execute_result"
    }
   ],
   "source": [
    "accuracy_score(y_test,y_pred2)"
   ]
  },
  {
   "cell_type": "code",
   "execution_count": 23,
   "id": "26c78114",
   "metadata": {
    "execution": {
     "iopub.execute_input": "2024-05-10T17:15:33.989207Z",
     "iopub.status.busy": "2024-05-10T17:15:33.988772Z",
     "iopub.status.idle": "2024-05-10T17:15:34.073361Z",
     "shell.execute_reply": "2024-05-10T17:15:34.071871Z"
    },
    "papermill": {
     "duration": 0.099638,
     "end_time": "2024-05-10T17:15:34.076224",
     "exception": false,
     "start_time": "2024-05-10T17:15:33.976586",
     "status": "completed"
    },
    "tags": []
   },
   "outputs": [
    {
     "data": {
      "text/plain": [
       "0.6344874804381846"
      ]
     },
     "execution_count": 23,
     "metadata": {},
     "output_type": "execute_result"
    }
   ],
   "source": [
    "X_trf = trf.fit_transform(X)\n",
    "np.mean(cross_val_score(DecisionTreeClassifier(),X,y,cv=10,scoring='accuracy'))"
   ]
  },
  {
   "cell_type": "code",
   "execution_count": 24,
   "id": "76115281",
   "metadata": {
    "execution": {
     "iopub.execute_input": "2024-05-10T17:15:34.101082Z",
     "iopub.status.busy": "2024-05-10T17:15:34.100644Z",
     "iopub.status.idle": "2024-05-10T17:15:34.112911Z",
     "shell.execute_reply": "2024-05-10T17:15:34.111348Z"
    },
    "papermill": {
     "duration": 0.028097,
     "end_time": "2024-05-10T17:15:34.115505",
     "exception": false,
     "start_time": "2024-05-10T17:15:34.087408",
     "status": "completed"
    },
    "tags": []
   },
   "outputs": [],
   "source": [
    "def discretize(bins,strategy):\n",
    "    kbin_age = KBinsDiscretizer(n_bins=bins,encode='ordinal',strategy=strategy)\n",
    "    kbin_fare = KBinsDiscretizer(n_bins=bins,encode='ordinal',strategy=strategy)\n",
    "    \n",
    "    trf = ColumnTransformer([\n",
    "        ('first',kbin_age,[0]),\n",
    "        ('second',kbin_fare,[1])\n",
    "    ])\n",
    "    \n",
    "    X_trf = trf.fit_transform(X)\n",
    "    print(np.mean(cross_val_score(DecisionTreeClassifier(),X,y,cv=10,scoring='accuracy')))\n",
    "    \n",
    "    plt.figure(figsize=(14,4))\n",
    "    plt.subplot(121)\n",
    "    plt.hist(X['Age'])\n",
    "    plt.title(\"Before\")\n",
    "\n",
    "    plt.subplot(122)\n",
    "    plt.hist(X_trf[:,0],color='red')\n",
    "    plt.title(\"After\")\n",
    "\n",
    "    plt.show()\n",
    "    \n",
    "    plt.figure(figsize=(14,4))\n",
    "    plt.subplot(121)\n",
    "    plt.hist(X['Fare'])\n",
    "    plt.title(\"Before\")\n",
    "\n",
    "    plt.subplot(122)\n",
    "    plt.hist(X_trf[:,1],color='red')\n",
    "    plt.title(\"Fare\")\n",
    "\n",
    "    plt.show()\n",
    "    "
   ]
  },
  {
   "cell_type": "code",
   "execution_count": 25,
   "id": "826970ac",
   "metadata": {
    "execution": {
     "iopub.execute_input": "2024-05-10T17:15:34.138896Z",
     "iopub.status.busy": "2024-05-10T17:15:34.138504Z",
     "iopub.status.idle": "2024-05-10T17:15:35.425551Z",
     "shell.execute_reply": "2024-05-10T17:15:35.424426Z"
    },
    "papermill": {
     "duration": 1.302054,
     "end_time": "2024-05-10T17:15:35.428347",
     "exception": false,
     "start_time": "2024-05-10T17:15:34.126293",
     "status": "completed"
    },
    "tags": []
   },
   "outputs": [
    {
     "name": "stdout",
     "output_type": "stream",
     "text": [
      "0.6261345852895148\n"
     ]
    },
    {
     "data": {
      "image/png": "[encoded data removed]",
      "text/plain": [
       "<Figure size 1400x400 with 2 Axes>"
      ]
     },
     "metadata": {},
     "output_type": "display_data"
    },
    {
     "data": {
      "image/png": "[encoded data removed]",
      "text/plain": [
       "<Figure size 1400x400 with 2 Axes>"
      ]
     },
     "metadata": {},
     "output_type": "display_data"
    }
   ],
   "source": [
    "discretize(5,'quantile')"
   ]
  },
  {
   "cell_type": "code",
   "execution_count": 26,
   "id": "e3b1990c",
   "metadata": {
    "execution": {
     "iopub.execute_input": "2024-05-10T17:15:35.455568Z",
     "iopub.status.busy": "2024-05-10T17:15:35.454152Z",
     "iopub.status.idle": "2024-05-10T17:15:36.793127Z",
     "shell.execute_reply": "2024-05-10T17:15:36.791535Z"
    },
    "papermill": {
     "duration": 1.35573,
     "end_time": "2024-05-10T17:15:36.796185",
     "exception": false,
     "start_time": "2024-05-10T17:15:35.440455",
     "status": "completed"
    },
    "tags": []
   },
   "outputs": [
    {
     "name": "stdout",
     "output_type": "stream",
     "text": [
      "0.6373239436619718\n"
     ]
    },
    {
     "data": {
      "image/png": "[encoded data removed]",
      "text/plain": [
       "<Figure size 1400x400 with 2 Axes>"
      ]
     },
     "metadata": {},
     "output_type": "display_data"
    },
    {
     "data": {
      "image/png": "[encoded data removed]",
      "text/plain": [
       "<Figure size 1400x400 with 2 Axes>"
      ]
     },
     "metadata": {},
     "output_type": "display_data"
    }
   ],
   "source": [
    "discretize(5,'kmeans')"
   ]
  },
  {
   "cell_type": "code",
   "execution_count": null,
   "id": "828f7193",
   "metadata": {
    "papermill": {
     "duration": 0.012933,
     "end_time": "2024-05-10T17:15:36.822172",
     "exception": false,
     "start_time": "2024-05-10T17:15:36.809239",
     "status": "completed"
    },
    "tags": []
   },
   "outputs": [],
   "source": []
  }
 ],
 "metadata": {
  "kaggle": {
   "accelerator": "none",
   "dataSources": [
    {
     "datasetId": 1247358,
     "sourceId": 2080558,
     "sourceType": "datasetVersion"
    }
   ],
   "dockerImageVersionId": 30698,
   "isGpuEnabled": false,
   "isInternetEnabled": false,
   "language": "python",
   "sourceType": "notebook"
  },
  "kernelspec": {
   "display_name": "Python 3",
   "language": "python",
   "name": "python3"
  },
  "language_info": {
   "codemirror_mode": {
    "name": "ipython",
    "version": 3
   },
   "file_extension": ".py",
   "mimetype": "text/x-python",
   "name": "python",
   "nbconvert_exporter": "python",
   "pygments_lexer": "ipython3",
   "version": "3.10.13"
  },
  "papermill": {
   "default_parameters": {},
   "duration": 11.549569,
   "end_time": "2024-05-10T17:15:37.558755",
   "environment_variables": {},
   "exception": null,
   "input_path": "__notebook__.ipynb",
   "output_path": "__notebook__.ipynb",
   "parameters": {},
   "start_time": "2024-05-10T17:15:26.009186",
   "version": "2.5.0"
  }
 },
 "nbformat": 4,
 "nbformat_minor": 5
}
