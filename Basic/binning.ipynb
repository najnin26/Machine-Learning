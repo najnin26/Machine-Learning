{
 "cells": [
  {
   "cell_type": "code",
   "execution_count": 1,
   "id": "4c8f74f2",
   "metadata": {
    "_cell_guid": "b1076dfc-b9ad-4769-8c92-a6c4dae69d19",
    "_uuid": "8f2839f25d086af736a60e9eeb907d3b93b6e0e5",
    "execution": {
     "iopub.execute_input": "2024-05-10T16:35:28.672407Z",
     "iopub.status.busy": "2024-05-10T16:35:28.671476Z",
     "iopub.status.idle": "2024-05-10T16:35:29.642916Z",
     "shell.execute_reply": "2024-05-10T16:35:29.641669Z"
    },
    "papermill": {
     "duration": 0.982298,
     "end_time": "2024-05-10T16:35:29.645815",
     "exception": false,
     "start_time": "2024-05-10T16:35:28.663517",
     "status": "completed"
    },
    "tags": []
   },
   "outputs": [],
   "source": [
    "import pandas as pd\n",
    "import numpy as np"
   ]
  },
  {
   "cell_type": "code",
   "execution_count": 2,
   "id": "e08512f5",
   "metadata": {
    "execution": {
     "iopub.execute_input": "2024-05-10T16:35:29.659664Z",
     "iopub.status.busy": "2024-05-10T16:35:29.658238Z",
     "iopub.status.idle": "2024-05-10T16:35:31.183292Z",
     "shell.execute_reply": "2024-05-10T16:35:31.182144Z"
    },
    "papermill": {
     "duration": 1.534568,
     "end_time": "2024-05-10T16:35:31.186074",
     "exception": false,
     "start_time": "2024-05-10T16:35:29.651506",
     "status": "completed"
    },
    "tags": []
   },
   "outputs": [],
   "source": [
    "import matplotlib.pyplot as plt\n",
    "from sklearn.model_selection import train_test_split\n",
    "from sklearn.tree import DecisionTreeClassifier\n",
    "from sklearn.metrics import accuracy_score\n",
    "from sklearn.model_selection import cross_val_score\n",
    "from sklearn.compose import ColumnTransformer\n",
    "\n",
    "from sklearn.preprocessing import KBinsDiscretizer"
   ]
  },
  {
   "cell_type": "code",
   "execution_count": 3,
   "id": "abfe51a5",
   "metadata": {
    "execution": {
     "iopub.execute_input": "2024-05-10T16:35:31.199526Z",
     "iopub.status.busy": "2024-05-10T16:35:31.199138Z",
     "iopub.status.idle": "2024-05-10T16:35:31.222107Z",
     "shell.execute_reply": "2024-05-10T16:35:31.221024Z"
    },
    "papermill": {
     "duration": 0.032858,
     "end_time": "2024-05-10T16:35:31.224688",
     "exception": false,
     "start_time": "2024-05-10T16:35:31.191830",
     "status": "completed"
    },
    "tags": []
   },
   "outputs": [],
   "source": [
    "df = pd.read_csv('/kaggle/input/data-science-day1-titanic/DSB_Day1_Titanic_train.csv',usecols=['Age','Fare','Survived'])\n"
   ]
  },
  {
   "cell_type": "code",
   "execution_count": 4,
   "id": "099c0ed9",
   "metadata": {
    "execution": {
     "iopub.execute_input": "2024-05-10T16:35:31.238897Z",
     "iopub.status.busy": "2024-05-10T16:35:31.237811Z",
     "iopub.status.idle": "2024-05-10T16:35:31.254456Z",
     "shell.execute_reply": "2024-05-10T16:35:31.253103Z"
    },
    "papermill": {
     "duration": 0.026044,
     "end_time": "2024-05-10T16:35:31.257127",
     "exception": false,
     "start_time": "2024-05-10T16:35:31.231083",
     "status": "completed"
    },
    "tags": []
   },
   "outputs": [],
   "source": [
    "df.dropna(inplace=True)"
   ]
  },
  {
   "cell_type": "code",
   "execution_count": 5,
   "id": "7307508a",
   "metadata": {
    "execution": {
     "iopub.execute_input": "2024-05-10T16:35:31.269748Z",
     "iopub.status.busy": "2024-05-10T16:35:31.269320Z",
     "iopub.status.idle": "2024-05-10T16:35:31.278071Z",
     "shell.execute_reply": "2024-05-10T16:35:31.276745Z"
    },
    "papermill": {
     "duration": 0.018211,
     "end_time": "2024-05-10T16:35:31.280773",
     "exception": false,
     "start_time": "2024-05-10T16:35:31.262562",
     "status": "completed"
    },
    "tags": []
   },
   "outputs": [
    {
     "data": {
      "text/plain": [
       "(714, 3)"
      ]
     },
     "execution_count": 5,
     "metadata": {},
     "output_type": "execute_result"
    }
   ],
   "source": [
    "df.shape\n"
   ]
  },
  {
   "cell_type": "code",
   "execution_count": 6,
   "id": "cc03084e",
   "metadata": {
    "execution": {
     "iopub.execute_input": "2024-05-10T16:35:31.294354Z",
     "iopub.status.busy": "2024-05-10T16:35:31.293486Z",
     "iopub.status.idle": "2024-05-10T16:35:31.315956Z",
     "shell.execute_reply": "2024-05-10T16:35:31.314930Z"
    },
    "papermill": {
     "duration": 0.031895,
     "end_time": "2024-05-10T16:35:31.318407",
     "exception": false,
     "start_time": "2024-05-10T16:35:31.286512",
     "status": "completed"
    },
    "tags": []
   },
   "outputs": [
    {
     "data": {
      "text/html": [
       "<div>\n",
       "<style scoped>\n",
       "    .dataframe tbody tr th:only-of-type {\n",
       "        vertical-align: middle;\n",
       "    }\n",
       "\n",
       "    .dataframe tbody tr th {\n",
       "        vertical-align: top;\n",
       "    }\n",
       "\n",
       "    .dataframe thead th {\n",
       "        text-align: right;\n",
       "    }\n",
       "</style>\n",
       "<table border=\"1\" class=\"dataframe\">\n",
       "  <thead>\n",
       "    <tr style=\"text-align: right;\">\n",
       "      <th></th>\n",
       "      <th>Survived</th>\n",
       "      <th>Age</th>\n",
       "      <th>Fare</th>\n",
       "    </tr>\n",
       "  </thead>\n",
       "  <tbody>\n",
       "    <tr>\n",
       "      <th>0</th>\n",
       "      <td>0</td>\n",
       "      <td>22.0</td>\n",
       "      <td>7.2500</td>\n",
       "    </tr>\n",
       "    <tr>\n",
       "      <th>1</th>\n",
       "      <td>1</td>\n",
       "      <td>38.0</td>\n",
       "      <td>71.2833</td>\n",
       "    </tr>\n",
       "    <tr>\n",
       "      <th>2</th>\n",
       "      <td>1</td>\n",
       "      <td>26.0</td>\n",
       "      <td>7.9250</td>\n",
       "    </tr>\n",
       "    <tr>\n",
       "      <th>3</th>\n",
       "      <td>1</td>\n",
       "      <td>35.0</td>\n",
       "      <td>53.1000</td>\n",
       "    </tr>\n",
       "    <tr>\n",
       "      <th>4</th>\n",
       "      <td>0</td>\n",
       "      <td>35.0</td>\n",
       "      <td>8.0500</td>\n",
       "    </tr>\n",
       "  </tbody>\n",
       "</table>\n",
       "</div>"
      ],
      "text/plain": [
       "   Survived   Age     Fare\n",
       "0         0  22.0   7.2500\n",
       "1         1  38.0  71.2833\n",
       "2         1  26.0   7.9250\n",
       "3         1  35.0  53.1000\n",
       "4         0  35.0   8.0500"
      ]
     },
     "execution_count": 6,
     "metadata": {},
     "output_type": "execute_result"
    }
   ],
   "source": [
    "df.head()\n"
   ]
  },
  {
   "cell_type": "code",
   "execution_count": 7,
   "id": "149971a5",
   "metadata": {
    "execution": {
     "iopub.execute_input": "2024-05-10T16:35:31.331805Z",
     "iopub.status.busy": "2024-05-10T16:35:31.331374Z",
     "iopub.status.idle": "2024-05-10T16:35:31.419720Z",
     "shell.execute_reply": "2024-05-10T16:35:31.418365Z"
    },
    "papermill": {
     "duration": 0.098499,
     "end_time": "2024-05-10T16:35:31.422729",
     "exception": false,
     "start_time": "2024-05-10T16:35:31.324230",
     "status": "completed"
    },
    "tags": []
   },
   "outputs": [],
   "source": [
    "X = df.iloc[:,1:]\n",
    "y = df.iloc[:,0]"
   ]
  },
  {
   "cell_type": "code",
   "execution_count": 8,
   "id": "96e93086",
   "metadata": {
    "execution": {
     "iopub.execute_input": "2024-05-10T16:35:31.437833Z",
     "iopub.status.busy": "2024-05-10T16:35:31.436998Z",
     "iopub.status.idle": "2024-05-10T16:35:31.446671Z",
     "shell.execute_reply": "2024-05-10T16:35:31.445190Z"
    },
    "papermill": {
     "duration": 0.019692,
     "end_time": "2024-05-10T16:35:31.449423",
     "exception": false,
     "start_time": "2024-05-10T16:35:31.429731",
     "status": "completed"
    },
    "tags": []
   },
   "outputs": [],
   "source": [
    "X_train,X_test,y_train,y_test = train_test_split(X,y,test_size=0.2,random_state=42)"
   ]
  },
  {
   "cell_type": "code",
   "execution_count": 9,
   "id": "085cdff5",
   "metadata": {
    "execution": {
     "iopub.execute_input": "2024-05-10T16:35:31.463178Z",
     "iopub.status.busy": "2024-05-10T16:35:31.462453Z",
     "iopub.status.idle": "2024-05-10T16:35:31.476403Z",
     "shell.execute_reply": "2024-05-10T16:35:31.475000Z"
    },
    "papermill": {
     "duration": 0.023911,
     "end_time": "2024-05-10T16:35:31.479125",
     "exception": false,
     "start_time": "2024-05-10T16:35:31.455214",
     "status": "completed"
    },
    "tags": []
   },
   "outputs": [
    {
     "data": {
      "text/html": [
       "<div>\n",
       "<style scoped>\n",
       "    .dataframe tbody tr th:only-of-type {\n",
       "        vertical-align: middle;\n",
       "    }\n",
       "\n",
       "    .dataframe tbody tr th {\n",
       "        vertical-align: top;\n",
       "    }\n",
       "\n",
       "    .dataframe thead th {\n",
       "        text-align: right;\n",
       "    }\n",
       "</style>\n",
       "<table border=\"1\" class=\"dataframe\">\n",
       "  <thead>\n",
       "    <tr style=\"text-align: right;\">\n",
       "      <th></th>\n",
       "      <th>Age</th>\n",
       "      <th>Fare</th>\n",
       "    </tr>\n",
       "  </thead>\n",
       "  <tbody>\n",
       "    <tr>\n",
       "      <th>328</th>\n",
       "      <td>31.0</td>\n",
       "      <td>20.5250</td>\n",
       "    </tr>\n",
       "    <tr>\n",
       "      <th>73</th>\n",
       "      <td>26.0</td>\n",
       "      <td>14.4542</td>\n",
       "    </tr>\n",
       "  </tbody>\n",
       "</table>\n",
       "</div>"
      ],
      "text/plain": [
       "      Age     Fare\n",
       "328  31.0  20.5250\n",
       "73   26.0  14.4542"
      ]
     },
     "execution_count": 9,
     "metadata": {},
     "output_type": "execute_result"
    }
   ],
   "source": [
    "X_train.head(2)"
   ]
  },
  {
   "cell_type": "code",
   "execution_count": 10,
   "id": "3477e990",
   "metadata": {
    "execution": {
     "iopub.execute_input": "2024-05-10T16:35:31.493611Z",
     "iopub.status.busy": "2024-05-10T16:35:31.493200Z",
     "iopub.status.idle": "2024-05-10T16:35:31.498865Z",
     "shell.execute_reply": "2024-05-10T16:35:31.497423Z"
    },
    "papermill": {
     "duration": 0.016153,
     "end_time": "2024-05-10T16:35:31.501395",
     "exception": false,
     "start_time": "2024-05-10T16:35:31.485242",
     "status": "completed"
    },
    "tags": []
   },
   "outputs": [],
   "source": [
    "clf = DecisionTreeClassifier()"
   ]
  },
  {
   "cell_type": "code",
   "execution_count": 11,
   "id": "8f75e73e",
   "metadata": {
    "execution": {
     "iopub.execute_input": "2024-05-10T16:35:31.516207Z",
     "iopub.status.busy": "2024-05-10T16:35:31.515287Z",
     "iopub.status.idle": "2024-05-10T16:35:31.527818Z",
     "shell.execute_reply": "2024-05-10T16:35:31.526755Z"
    },
    "papermill": {
     "duration": 0.022964,
     "end_time": "2024-05-10T16:35:31.530462",
     "exception": false,
     "start_time": "2024-05-10T16:35:31.507498",
     "status": "completed"
    },
    "tags": []
   },
   "outputs": [],
   "source": [
    "clf.fit(X_train,y_train)\n",
    "y_pred = clf.predict(X_test)"
   ]
  },
  {
   "cell_type": "code",
   "execution_count": 12,
   "id": "d95dd84d",
   "metadata": {
    "execution": {
     "iopub.execute_input": "2024-05-10T16:35:31.544626Z",
     "iopub.status.busy": "2024-05-10T16:35:31.544218Z",
     "iopub.status.idle": "2024-05-10T16:35:31.552934Z",
     "shell.execute_reply": "2024-05-10T16:35:31.551839Z"
    },
    "papermill": {
     "duration": 0.01868,
     "end_time": "2024-05-10T16:35:31.555307",
     "exception": false,
     "start_time": "2024-05-10T16:35:31.536627",
     "status": "completed"
    },
    "tags": []
   },
   "outputs": [
    {
     "data": {
      "text/plain": [
       "0.6293706293706294"
      ]
     },
     "execution_count": 12,
     "metadata": {},
     "output_type": "execute_result"
    }
   ],
   "source": [
    "accuracy_score(y_test,y_pred)"
   ]
  },
  {
   "cell_type": "code",
   "execution_count": 13,
   "id": "cac45c3d",
   "metadata": {
    "execution": {
     "iopub.execute_input": "2024-05-10T16:35:31.570648Z",
     "iopub.status.busy": "2024-05-10T16:35:31.569830Z",
     "iopub.status.idle": "2024-05-10T16:35:31.642595Z",
     "shell.execute_reply": "2024-05-10T16:35:31.641739Z"
    },
    "papermill": {
     "duration": 0.082944,
     "end_time": "2024-05-10T16:35:31.644795",
     "exception": false,
     "start_time": "2024-05-10T16:35:31.561851",
     "status": "completed"
    },
    "tags": []
   },
   "outputs": [
    {
     "data": {
      "text/plain": [
       "0.6302621283255085"
      ]
     },
     "execution_count": 13,
     "metadata": {},
     "output_type": "execute_result"
    }
   ],
   "source": [
    "np.mean(cross_val_score(DecisionTreeClassifier(),X,y,cv=10,scoring='accuracy'))"
   ]
  },
  {
   "cell_type": "code",
   "execution_count": null,
   "id": "a1690c8d",
   "metadata": {
    "papermill": {
     "duration": 0.007062,
     "end_time": "2024-05-10T16:35:31.658179",
     "exception": false,
     "start_time": "2024-05-10T16:35:31.651117",
     "status": "completed"
    },
    "tags": []
   },
   "outputs": [],
   "source": []
  }
 ],
 "metadata": {
  "kaggle": {
   "accelerator": "none",
   "dataSources": [
    {
     "datasetId": 1247358,
     "sourceId": 2080558,
     "sourceType": "datasetVersion"
    }
   ],
   "dockerImageVersionId": 30698,
   "isGpuEnabled": false,
   "isInternetEnabled": false,
   "language": "python",
   "sourceType": "notebook"
  },
  "kernelspec": {
   "display_name": "Python 3",
   "language": "python",
   "name": "python3"
  },
  "language_info": {
   "codemirror_mode": {
    "name": "ipython",
    "version": 3
   },
   "file_extension": ".py",
   "mimetype": "text/x-python",
   "name": "python",
   "nbconvert_exporter": "python",
   "pygments_lexer": "ipython3",
   "version": "3.10.13"
  },
  "papermill": {
   "default_parameters": {},
   "duration": 6.765018,
   "end_time": "2024-05-10T16:35:32.285405",
   "environment_variables": {},
   "exception": null,
   "input_path": "__notebook__.ipynb",
   "output_path": "__notebook__.ipynb",
   "parameters": {},
   "start_time": "2024-05-10T16:35:25.520387",
   "version": "2.5.0"
  }
 },
 "nbformat": 4,
 "nbformat_minor": 5
}
