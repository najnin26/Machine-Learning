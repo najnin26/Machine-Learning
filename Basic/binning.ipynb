{
 "cells": [
  {
   "cell_type": "code",
   "execution_count": 1,
   "id": "88f00eba",
   "metadata": {
    "_cell_guid": "b1076dfc-b9ad-4769-8c92-a6c4dae69d19",
    "_uuid": "8f2839f25d086af736a60e9eeb907d3b93b6e0e5",
    "execution": {
     "iopub.execute_input": "2024-05-10T17:03:04.568723Z",
     "iopub.status.busy": "2024-05-10T17:03:04.568345Z",
     "iopub.status.idle": "2024-05-10T17:03:05.332077Z",
     "shell.execute_reply": "2024-05-10T17:03:05.331006Z"
    },
    "papermill": {
     "duration": 0.773991,
     "end_time": "2024-05-10T17:03:05.335148",
     "exception": false,
     "start_time": "2024-05-10T17:03:04.561157",
     "status": "completed"
    },
    "tags": []
   },
   "outputs": [],
   "source": [
    "import pandas as pd\n",
    "import numpy as np"
   ]
  },
  {
   "cell_type": "code",
   "execution_count": 2,
   "id": "e0d45c5f",
   "metadata": {
    "execution": {
     "iopub.execute_input": "2024-05-10T17:03:05.349201Z",
     "iopub.status.busy": "2024-05-10T17:03:05.348404Z",
     "iopub.status.idle": "2024-05-10T17:03:06.576884Z",
     "shell.execute_reply": "2024-05-10T17:03:06.575758Z"
    },
    "papermill": {
     "duration": 1.237375,
     "end_time": "2024-05-10T17:03:06.579494",
     "exception": false,
     "start_time": "2024-05-10T17:03:05.342119",
     "status": "completed"
    },
    "tags": []
   },
   "outputs": [],
   "source": [
    "import matplotlib.pyplot as plt\n",
    "from sklearn.model_selection import train_test_split\n",
    "from sklearn.tree import DecisionTreeClassifier\n",
    "from sklearn.metrics import accuracy_score\n",
    "from sklearn.model_selection import cross_val_score\n",
    "from sklearn.compose import ColumnTransformer\n",
    "\n",
    "from sklearn.preprocessing import KBinsDiscretizer"
   ]
  },
  {
   "cell_type": "code",
   "execution_count": 3,
   "id": "5170597f",
   "metadata": {
    "execution": {
     "iopub.execute_input": "2024-05-10T17:03:06.591434Z",
     "iopub.status.busy": "2024-05-10T17:03:06.591055Z",
     "iopub.status.idle": "2024-05-10T17:03:06.620359Z",
     "shell.execute_reply": "2024-05-10T17:03:06.619276Z"
    },
    "papermill": {
     "duration": 0.038033,
     "end_time": "2024-05-10T17:03:06.622812",
     "exception": false,
     "start_time": "2024-05-10T17:03:06.584779",
     "status": "completed"
    },
    "tags": []
   },
   "outputs": [],
   "source": [
    "df = pd.read_csv('/kaggle/input/data-science-day1-titanic/DSB_Day1_Titanic_train.csv',usecols=['Age','Fare','Survived'])\n"
   ]
  },
  {
   "cell_type": "code",
   "execution_count": 4,
   "id": "7ef34e2d",
   "metadata": {
    "execution": {
     "iopub.execute_input": "2024-05-10T17:03:06.634691Z",
     "iopub.status.busy": "2024-05-10T17:03:06.634361Z",
     "iopub.status.idle": "2024-05-10T17:03:06.647544Z",
     "shell.execute_reply": "2024-05-10T17:03:06.646678Z"
    },
    "papermill": {
     "duration": 0.021609,
     "end_time": "2024-05-10T17:03:06.649642",
     "exception": false,
     "start_time": "2024-05-10T17:03:06.628033",
     "status": "completed"
    },
    "tags": []
   },
   "outputs": [],
   "source": [
    "df.dropna(inplace=True)"
   ]
  },
  {
   "cell_type": "code",
   "execution_count": 5,
   "id": "0bd66c7b",
   "metadata": {
    "execution": {
     "iopub.execute_input": "2024-05-10T17:03:06.661307Z",
     "iopub.status.busy": "2024-05-10T17:03:06.660674Z",
     "iopub.status.idle": "2024-05-10T17:03:06.666752Z",
     "shell.execute_reply": "2024-05-10T17:03:06.665901Z"
    },
    "papermill": {
     "duration": 0.013871,
     "end_time": "2024-05-10T17:03:06.668572",
     "exception": false,
     "start_time": "2024-05-10T17:03:06.654701",
     "status": "completed"
    },
    "tags": []
   },
   "outputs": [
    {
     "data": {
      "text/plain": [
       "(714, 3)"
      ]
     },
     "execution_count": 5,
     "metadata": {},
     "output_type": "execute_result"
    }
   ],
   "source": [
    "df.shape\n"
   ]
  },
  {
   "cell_type": "code",
   "execution_count": 6,
   "id": "97265661",
   "metadata": {
    "execution": {
     "iopub.execute_input": "2024-05-10T17:03:06.680678Z",
     "iopub.status.busy": "2024-05-10T17:03:06.680025Z",
     "iopub.status.idle": "2024-05-10T17:03:06.696382Z",
     "shell.execute_reply": "2024-05-10T17:03:06.695431Z"
    },
    "papermill": {
     "duration": 0.024755,
     "end_time": "2024-05-10T17:03:06.698503",
     "exception": false,
     "start_time": "2024-05-10T17:03:06.673748",
     "status": "completed"
    },
    "tags": []
   },
   "outputs": [
    {
     "data": {
      "text/html": [
       "<div>\n",
       "<style scoped>\n",
       "    .dataframe tbody tr th:only-of-type {\n",
       "        vertical-align: middle;\n",
       "    }\n",
       "\n",
       "    .dataframe tbody tr th {\n",
       "        vertical-align: top;\n",
       "    }\n",
       "\n",
       "    .dataframe thead th {\n",
       "        text-align: right;\n",
       "    }\n",
       "</style>\n",
       "<table border=\"1\" class=\"dataframe\">\n",
       "  <thead>\n",
       "    <tr style=\"text-align: right;\">\n",
       "      <th></th>\n",
       "      <th>Survived</th>\n",
       "      <th>Age</th>\n",
       "      <th>Fare</th>\n",
       "    </tr>\n",
       "  </thead>\n",
       "  <tbody>\n",
       "    <tr>\n",
       "      <th>0</th>\n",
       "      <td>0</td>\n",
       "      <td>22.0</td>\n",
       "      <td>7.2500</td>\n",
       "    </tr>\n",
       "    <tr>\n",
       "      <th>1</th>\n",
       "      <td>1</td>\n",
       "      <td>38.0</td>\n",
       "      <td>71.2833</td>\n",
       "    </tr>\n",
       "    <tr>\n",
       "      <th>2</th>\n",
       "      <td>1</td>\n",
       "      <td>26.0</td>\n",
       "      <td>7.9250</td>\n",
       "    </tr>\n",
       "    <tr>\n",
       "      <th>3</th>\n",
       "      <td>1</td>\n",
       "      <td>35.0</td>\n",
       "      <td>53.1000</td>\n",
       "    </tr>\n",
       "    <tr>\n",
       "      <th>4</th>\n",
       "      <td>0</td>\n",
       "      <td>35.0</td>\n",
       "      <td>8.0500</td>\n",
       "    </tr>\n",
       "  </tbody>\n",
       "</table>\n",
       "</div>"
      ],
      "text/plain": [
       "   Survived   Age     Fare\n",
       "0         0  22.0   7.2500\n",
       "1         1  38.0  71.2833\n",
       "2         1  26.0   7.9250\n",
       "3         1  35.0  53.1000\n",
       "4         0  35.0   8.0500"
      ]
     },
     "execution_count": 6,
     "metadata": {},
     "output_type": "execute_result"
    }
   ],
   "source": [
    "df.head()\n"
   ]
  },
  {
   "cell_type": "code",
   "execution_count": 7,
   "id": "ac5d7c2d",
   "metadata": {
    "execution": {
     "iopub.execute_input": "2024-05-10T17:03:06.711078Z",
     "iopub.status.busy": "2024-05-10T17:03:06.710417Z",
     "iopub.status.idle": "2024-05-10T17:03:06.789344Z",
     "shell.execute_reply": "2024-05-10T17:03:06.788278Z"
    },
    "papermill": {
     "duration": 0.087683,
     "end_time": "2024-05-10T17:03:06.791543",
     "exception": false,
     "start_time": "2024-05-10T17:03:06.703860",
     "status": "completed"
    },
    "tags": []
   },
   "outputs": [],
   "source": [
    "X = df.iloc[:,1:]\n",
    "y = df.iloc[:,0]"
   ]
  },
  {
   "cell_type": "code",
   "execution_count": 8,
   "id": "d9612b38",
   "metadata": {
    "execution": {
     "iopub.execute_input": "2024-05-10T17:03:06.804442Z",
     "iopub.status.busy": "2024-05-10T17:03:06.803681Z",
     "iopub.status.idle": "2024-05-10T17:03:06.811539Z",
     "shell.execute_reply": "2024-05-10T17:03:06.810511Z"
    },
    "papermill": {
     "duration": 0.016466,
     "end_time": "2024-05-10T17:03:06.813609",
     "exception": false,
     "start_time": "2024-05-10T17:03:06.797143",
     "status": "completed"
    },
    "tags": []
   },
   "outputs": [],
   "source": [
    "X_train,X_test,y_train,y_test = train_test_split(X,y,test_size=0.2,random_state=42)"
   ]
  },
  {
   "cell_type": "code",
   "execution_count": 9,
   "id": "921a1e29",
   "metadata": {
    "execution": {
     "iopub.execute_input": "2024-05-10T17:03:06.826362Z",
     "iopub.status.busy": "2024-05-10T17:03:06.825971Z",
     "iopub.status.idle": "2024-05-10T17:03:06.836274Z",
     "shell.execute_reply": "2024-05-10T17:03:06.834850Z"
    },
    "papermill": {
     "duration": 0.019277,
     "end_time": "2024-05-10T17:03:06.838396",
     "exception": false,
     "start_time": "2024-05-10T17:03:06.819119",
     "status": "completed"
    },
    "tags": []
   },
   "outputs": [
    {
     "data": {
      "text/html": [
       "<div>\n",
       "<style scoped>\n",
       "    .dataframe tbody tr th:only-of-type {\n",
       "        vertical-align: middle;\n",
       "    }\n",
       "\n",
       "    .dataframe tbody tr th {\n",
       "        vertical-align: top;\n",
       "    }\n",
       "\n",
       "    .dataframe thead th {\n",
       "        text-align: right;\n",
       "    }\n",
       "</style>\n",
       "<table border=\"1\" class=\"dataframe\">\n",
       "  <thead>\n",
       "    <tr style=\"text-align: right;\">\n",
       "      <th></th>\n",
       "      <th>Age</th>\n",
       "      <th>Fare</th>\n",
       "    </tr>\n",
       "  </thead>\n",
       "  <tbody>\n",
       "    <tr>\n",
       "      <th>328</th>\n",
       "      <td>31.0</td>\n",
       "      <td>20.5250</td>\n",
       "    </tr>\n",
       "    <tr>\n",
       "      <th>73</th>\n",
       "      <td>26.0</td>\n",
       "      <td>14.4542</td>\n",
       "    </tr>\n",
       "  </tbody>\n",
       "</table>\n",
       "</div>"
      ],
      "text/plain": [
       "      Age     Fare\n",
       "328  31.0  20.5250\n",
       "73   26.0  14.4542"
      ]
     },
     "execution_count": 9,
     "metadata": {},
     "output_type": "execute_result"
    }
   ],
   "source": [
    "X_train.head(2)"
   ]
  },
  {
   "cell_type": "code",
   "execution_count": 10,
   "id": "bbc2f55f",
   "metadata": {
    "execution": {
     "iopub.execute_input": "2024-05-10T17:03:06.852260Z",
     "iopub.status.busy": "2024-05-10T17:03:06.851853Z",
     "iopub.status.idle": "2024-05-10T17:03:06.855966Z",
     "shell.execute_reply": "2024-05-10T17:03:06.855052Z"
    },
    "papermill": {
     "duration": 0.013743,
     "end_time": "2024-05-10T17:03:06.857880",
     "exception": false,
     "start_time": "2024-05-10T17:03:06.844137",
     "status": "completed"
    },
    "tags": []
   },
   "outputs": [],
   "source": [
    "clf = DecisionTreeClassifier()"
   ]
  },
  {
   "cell_type": "code",
   "execution_count": 11,
   "id": "3fcb62fb",
   "metadata": {
    "execution": {
     "iopub.execute_input": "2024-05-10T17:03:06.870941Z",
     "iopub.status.busy": "2024-05-10T17:03:06.870571Z",
     "iopub.status.idle": "2024-05-10T17:03:06.881577Z",
     "shell.execute_reply": "2024-05-10T17:03:06.880490Z"
    },
    "papermill": {
     "duration": 0.020665,
     "end_time": "2024-05-10T17:03:06.884102",
     "exception": false,
     "start_time": "2024-05-10T17:03:06.863437",
     "status": "completed"
    },
    "tags": []
   },
   "outputs": [],
   "source": [
    "clf.fit(X_train,y_train)\n",
    "y_pred = clf.predict(X_test)"
   ]
  },
  {
   "cell_type": "code",
   "execution_count": 12,
   "id": "3cea2a5a",
   "metadata": {
    "execution": {
     "iopub.execute_input": "2024-05-10T17:03:06.897657Z",
     "iopub.status.busy": "2024-05-10T17:03:06.897272Z",
     "iopub.status.idle": "2024-05-10T17:03:06.906056Z",
     "shell.execute_reply": "2024-05-10T17:03:06.904948Z"
    },
    "papermill": {
     "duration": 0.01819,
     "end_time": "2024-05-10T17:03:06.908168",
     "exception": false,
     "start_time": "2024-05-10T17:03:06.889978",
     "status": "completed"
    },
    "tags": []
   },
   "outputs": [
    {
     "data": {
      "text/plain": [
       "0.6363636363636364"
      ]
     },
     "execution_count": 12,
     "metadata": {},
     "output_type": "execute_result"
    }
   ],
   "source": [
    "accuracy_score(y_test,y_pred)"
   ]
  },
  {
   "cell_type": "code",
   "execution_count": 13,
   "id": "572a3597",
   "metadata": {
    "execution": {
     "iopub.execute_input": "2024-05-10T17:03:06.922763Z",
     "iopub.status.busy": "2024-05-10T17:03:06.922385Z",
     "iopub.status.idle": "2024-05-10T17:03:06.985189Z",
     "shell.execute_reply": "2024-05-10T17:03:06.984099Z"
    },
    "papermill": {
     "duration": 0.071753,
     "end_time": "2024-05-10T17:03:06.987317",
     "exception": false,
     "start_time": "2024-05-10T17:03:06.915564",
     "status": "completed"
    },
    "tags": []
   },
   "outputs": [
    {
     "data": {
      "text/plain": [
       "0.6345070422535212"
      ]
     },
     "execution_count": 13,
     "metadata": {},
     "output_type": "execute_result"
    }
   ],
   "source": [
    "np.mean(cross_val_score(DecisionTreeClassifier(),X,y,cv=10,scoring='accuracy'))"
   ]
  },
  {
   "cell_type": "code",
   "execution_count": 14,
   "id": "8eaac148",
   "metadata": {
    "execution": {
     "iopub.execute_input": "2024-05-10T17:03:07.000301Z",
     "iopub.status.busy": "2024-05-10T17:03:06.999928Z",
     "iopub.status.idle": "2024-05-10T17:03:07.004846Z",
     "shell.execute_reply": "2024-05-10T17:03:07.003744Z"
    },
    "papermill": {
     "duration": 0.01402,
     "end_time": "2024-05-10T17:03:07.007006",
     "exception": false,
     "start_time": "2024-05-10T17:03:06.992986",
     "status": "completed"
    },
    "tags": []
   },
   "outputs": [],
   "source": [
    "kbin_age=KBinsDiscretizer(n_bins=15,encode='ordinal',strategy='quantile')\n",
    "kbin_fare=KBinsDiscretizer(n_bins=15,encode='ordinal',strategy='quantile')"
   ]
  },
  {
   "cell_type": "code",
   "execution_count": 15,
   "id": "04da3845",
   "metadata": {
    "execution": {
     "iopub.execute_input": "2024-05-10T17:03:07.020609Z",
     "iopub.status.busy": "2024-05-10T17:03:07.019900Z",
     "iopub.status.idle": "2024-05-10T17:03:07.024615Z",
     "shell.execute_reply": "2024-05-10T17:03:07.023933Z"
    },
    "papermill": {
     "duration": 0.013806,
     "end_time": "2024-05-10T17:03:07.026618",
     "exception": false,
     "start_time": "2024-05-10T17:03:07.012812",
     "status": "completed"
    },
    "tags": []
   },
   "outputs": [],
   "source": [
    "trf = ColumnTransformer([\n",
    "('first',kbin_age,[0]),\n",
    "('second',kbin_fare,[1])\n",
    "])"
   ]
  },
  {
   "cell_type": "code",
   "execution_count": 16,
   "id": "c7ba939d",
   "metadata": {
    "execution": {
     "iopub.execute_input": "2024-05-10T17:03:07.039808Z",
     "iopub.status.busy": "2024-05-10T17:03:07.039447Z",
     "iopub.status.idle": "2024-05-10T17:03:07.056188Z",
     "shell.execute_reply": "2024-05-10T17:03:07.055065Z"
    },
    "papermill": {
     "duration": 0.02632,
     "end_time": "2024-05-10T17:03:07.058613",
     "exception": false,
     "start_time": "2024-05-10T17:03:07.032293",
     "status": "completed"
    },
    "tags": []
   },
   "outputs": [],
   "source": [
    "X_train_trf = trf.fit_transform(X_train)\n",
    "X_test_trf = trf.transform(X_test)"
   ]
  },
  {
   "cell_type": "code",
   "execution_count": 17,
   "id": "23708020",
   "metadata": {
    "execution": {
     "iopub.execute_input": "2024-05-10T17:03:07.071894Z",
     "iopub.status.busy": "2024-05-10T17:03:07.071503Z",
     "iopub.status.idle": "2024-05-10T17:03:07.078178Z",
     "shell.execute_reply": "2024-05-10T17:03:07.077200Z"
    },
    "papermill": {
     "duration": 0.01594,
     "end_time": "2024-05-10T17:03:07.080407",
     "exception": false,
     "start_time": "2024-05-10T17:03:07.064467",
     "status": "completed"
    },
    "tags": []
   },
   "outputs": [
    {
     "data": {
      "text/plain": [
       "array([array([ 0.42,  6.  , 16.  , 19.  , 21.  , 23.  , 25.  , 28.  , 30.  ,\n",
       "              32.  , 35.  , 38.  , 42.  , 47.  , 54.  , 80.  ])             ],\n",
       "      dtype=object)"
      ]
     },
     "execution_count": 17,
     "metadata": {},
     "output_type": "execute_result"
    }
   ],
   "source": [
    "trf.named_transformers_['first'].bin_edges_"
   ]
  },
  {
   "cell_type": "code",
   "execution_count": 18,
   "id": "24e47b2b",
   "metadata": {
    "execution": {
     "iopub.execute_input": "2024-05-10T17:03:07.094599Z",
     "iopub.status.busy": "2024-05-10T17:03:07.093983Z",
     "iopub.status.idle": "2024-05-10T17:03:07.100811Z",
     "shell.execute_reply": "2024-05-10T17:03:07.099901Z"
    },
    "papermill": {
     "duration": 0.016274,
     "end_time": "2024-05-10T17:03:07.102877",
     "exception": false,
     "start_time": "2024-05-10T17:03:07.086603",
     "status": "completed"
    },
    "tags": []
   },
   "outputs": [
    {
     "data": {
      "text/plain": [
       "array([array([ 0.42,  6.  , 16.  , 19.  , 21.  , 23.  , 25.  , 28.  , 30.  ,\n",
       "              32.  , 35.  , 38.  , 42.  , 47.  , 54.  , 80.  ])             ],\n",
       "      dtype=object)"
      ]
     },
     "execution_count": 18,
     "metadata": {},
     "output_type": "execute_result"
    }
   ],
   "source": [
    "trf.named_transformers_['first'].bin_edges_"
   ]
  },
  {
   "cell_type": "code",
   "execution_count": 19,
   "id": "83b7a6af",
   "metadata": {
    "execution": {
     "iopub.execute_input": "2024-05-10T17:03:07.117308Z",
     "iopub.status.busy": "2024-05-10T17:03:07.116681Z",
     "iopub.status.idle": "2024-05-10T17:03:07.122301Z",
     "shell.execute_reply": "2024-05-10T17:03:07.121554Z"
    },
    "papermill": {
     "duration": 0.015533,
     "end_time": "2024-05-10T17:03:07.124371",
     "exception": false,
     "start_time": "2024-05-10T17:03:07.108838",
     "status": "completed"
    },
    "tags": []
   },
   "outputs": [],
   "source": [
    "output = pd.DataFrame({\n",
    "    'age':X_train['Age'],\n",
    "    'age_trf':X_train_trf[:,0],\n",
    "    'fare':X_train['Fare'],\n",
    "    'fare_trf':X_train_trf[:,1]\n",
    "})"
   ]
  },
  {
   "cell_type": "code",
   "execution_count": 20,
   "id": "2dbd20b8",
   "metadata": {
    "execution": {
     "iopub.execute_input": "2024-05-10T17:03:07.138483Z",
     "iopub.status.busy": "2024-05-10T17:03:07.137830Z",
     "iopub.status.idle": "2024-05-10T17:03:07.150485Z",
     "shell.execute_reply": "2024-05-10T17:03:07.149266Z"
    },
    "papermill": {
     "duration": 0.022274,
     "end_time": "2024-05-10T17:03:07.152733",
     "exception": false,
     "start_time": "2024-05-10T17:03:07.130459",
     "status": "completed"
    },
    "tags": []
   },
   "outputs": [
    {
     "data": {
      "text/html": [
       "<div>\n",
       "<style scoped>\n",
       "    .dataframe tbody tr th:only-of-type {\n",
       "        vertical-align: middle;\n",
       "    }\n",
       "\n",
       "    .dataframe tbody tr th {\n",
       "        vertical-align: top;\n",
       "    }\n",
       "\n",
       "    .dataframe thead th {\n",
       "        text-align: right;\n",
       "    }\n",
       "</style>\n",
       "<table border=\"1\" class=\"dataframe\">\n",
       "  <thead>\n",
       "    <tr style=\"text-align: right;\">\n",
       "      <th></th>\n",
       "      <th>age</th>\n",
       "      <th>age_trf</th>\n",
       "      <th>fare</th>\n",
       "      <th>fare_trf</th>\n",
       "    </tr>\n",
       "  </thead>\n",
       "  <tbody>\n",
       "    <tr>\n",
       "      <th>824</th>\n",
       "      <td>2.0</td>\n",
       "      <td>0.0</td>\n",
       "      <td>39.6875</td>\n",
       "      <td>11.0</td>\n",
       "    </tr>\n",
       "    <tr>\n",
       "      <th>222</th>\n",
       "      <td>51.0</td>\n",
       "      <td>13.0</td>\n",
       "      <td>8.0500</td>\n",
       "      <td>3.0</td>\n",
       "    </tr>\n",
       "    <tr>\n",
       "      <th>401</th>\n",
       "      <td>26.0</td>\n",
       "      <td>6.0</td>\n",
       "      <td>8.0500</td>\n",
       "      <td>3.0</td>\n",
       "    </tr>\n",
       "    <tr>\n",
       "      <th>325</th>\n",
       "      <td>36.0</td>\n",
       "      <td>10.0</td>\n",
       "      <td>135.6333</td>\n",
       "      <td>14.0</td>\n",
       "    </tr>\n",
       "    <tr>\n",
       "      <th>812</th>\n",
       "      <td>35.0</td>\n",
       "      <td>10.0</td>\n",
       "      <td>10.5000</td>\n",
       "      <td>5.0</td>\n",
       "    </tr>\n",
       "  </tbody>\n",
       "</table>\n",
       "</div>"
      ],
      "text/plain": [
       "      age  age_trf      fare  fare_trf\n",
       "824   2.0      0.0   39.6875      11.0\n",
       "222  51.0     13.0    8.0500       3.0\n",
       "401  26.0      6.0    8.0500       3.0\n",
       "325  36.0     10.0  135.6333      14.0\n",
       "812  35.0     10.0   10.5000       5.0"
      ]
     },
     "execution_count": 20,
     "metadata": {},
     "output_type": "execute_result"
    }
   ],
   "source": [
    "output.sample(5)"
   ]
  },
  {
   "cell_type": "code",
   "execution_count": null,
   "id": "1e821016",
   "metadata": {
    "papermill": {
     "duration": 0.005932,
     "end_time": "2024-05-10T17:03:07.164888",
     "exception": false,
     "start_time": "2024-05-10T17:03:07.158956",
     "status": "completed"
    },
    "tags": []
   },
   "outputs": [],
   "source": []
  }
 ],
 "metadata": {
  "kaggle": {
   "accelerator": "none",
   "dataSources": [
    {
     "datasetId": 1247358,
     "sourceId": 2080558,
     "sourceType": "datasetVersion"
    }
   ],
   "dockerImageVersionId": 30698,
   "isGpuEnabled": false,
   "isInternetEnabled": false,
   "language": "python",
   "sourceType": "notebook"
  },
  "kernelspec": {
   "display_name": "Python 3",
   "language": "python",
   "name": "python3"
  },
  "language_info": {
   "codemirror_mode": {
    "name": "ipython",
    "version": 3
   },
   "file_extension": ".py",
   "mimetype": "text/x-python",
   "name": "python",
   "nbconvert_exporter": "python",
   "pygments_lexer": "ipython3",
   "version": "3.10.13"
  },
  "papermill": {
   "default_parameters": {},
   "duration": 5.708388,
   "end_time": "2024-05-10T17:03:07.691105",
   "environment_variables": {},
   "exception": null,
   "input_path": "__notebook__.ipynb",
   "output_path": "__notebook__.ipynb",
   "parameters": {},
   "start_time": "2024-05-10T17:03:01.982717",
   "version": "2.5.0"
  }
 },
 "nbformat": 4,
 "nbformat_minor": 5
}
