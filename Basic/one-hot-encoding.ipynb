{
 "cells": [
  {
   "cell_type": "code",
   "execution_count": 1,
   "id": "4149b7a2",
   "metadata": {
    "_cell_guid": "b1076dfc-b9ad-4769-8c92-a6c4dae69d19",
    "_uuid": "8f2839f25d086af736a60e9eeb907d3b93b6e0e5",
    "execution": {
     "iopub.execute_input": "2024-04-30T14:13:01.996478Z",
     "iopub.status.busy": "2024-04-30T14:13:01.995965Z",
     "iopub.status.idle": "2024-04-30T14:13:02.875701Z",
     "shell.execute_reply": "2024-04-30T14:13:02.874447Z"
    },
    "papermill": {
     "duration": 0.890406,
     "end_time": "2024-04-30T14:13:02.878481",
     "exception": false,
     "start_time": "2024-04-30T14:13:01.988075",
     "status": "completed"
    },
    "tags": []
   },
   "outputs": [],
   "source": [
    "import numpy as np\n",
    "import pandas as pd"
   ]
  },
  {
   "cell_type": "code",
   "execution_count": 2,
   "id": "b6046c56",
   "metadata": {
    "execution": {
     "iopub.execute_input": "2024-04-30T14:13:02.889819Z",
     "iopub.status.busy": "2024-04-30T14:13:02.889305Z",
     "iopub.status.idle": "2024-04-30T14:13:02.924167Z",
     "shell.execute_reply": "2024-04-30T14:13:02.923137Z"
    },
    "papermill": {
     "duration": 0.04364,
     "end_time": "2024-04-30T14:13:02.926899",
     "exception": false,
     "start_time": "2024-04-30T14:13:02.883259",
     "status": "completed"
    },
    "tags": []
   },
   "outputs": [],
   "source": [
    "df=pd.read_csv('/kaggle/input/day-27-of-100days-of-ml/Day 27 Nominal Categorical data- One Hot Encoding/cars.csv')"
   ]
  },
  {
   "cell_type": "code",
   "execution_count": 3,
   "id": "9b53c017",
   "metadata": {
    "execution": {
     "iopub.execute_input": "2024-04-30T14:13:02.937763Z",
     "iopub.status.busy": "2024-04-30T14:13:02.937382Z",
     "iopub.status.idle": "2024-04-30T14:13:02.960199Z",
     "shell.execute_reply": "2024-04-30T14:13:02.959019Z"
    },
    "papermill": {
     "duration": 0.0316,
     "end_time": "2024-04-30T14:13:02.962890",
     "exception": false,
     "start_time": "2024-04-30T14:13:02.931290",
     "status": "completed"
    },
    "tags": []
   },
   "outputs": [
    {
     "data": {
      "text/html": [
       "<div>\n",
       "<style scoped>\n",
       "    .dataframe tbody tr th:only-of-type {\n",
       "        vertical-align: middle;\n",
       "    }\n",
       "\n",
       "    .dataframe tbody tr th {\n",
       "        vertical-align: top;\n",
       "    }\n",
       "\n",
       "    .dataframe thead th {\n",
       "        text-align: right;\n",
       "    }\n",
       "</style>\n",
       "<table border=\"1\" class=\"dataframe\">\n",
       "  <thead>\n",
       "    <tr style=\"text-align: right;\">\n",
       "      <th></th>\n",
       "      <th>brand</th>\n",
       "      <th>km_driven</th>\n",
       "      <th>fuel</th>\n",
       "      <th>owner</th>\n",
       "      <th>selling_price</th>\n",
       "    </tr>\n",
       "  </thead>\n",
       "  <tbody>\n",
       "    <tr>\n",
       "      <th>0</th>\n",
       "      <td>Maruti</td>\n",
       "      <td>145500</td>\n",
       "      <td>Diesel</td>\n",
       "      <td>First Owner</td>\n",
       "      <td>450000</td>\n",
       "    </tr>\n",
       "    <tr>\n",
       "      <th>1</th>\n",
       "      <td>Skoda</td>\n",
       "      <td>120000</td>\n",
       "      <td>Diesel</td>\n",
       "      <td>Second Owner</td>\n",
       "      <td>370000</td>\n",
       "    </tr>\n",
       "    <tr>\n",
       "      <th>2</th>\n",
       "      <td>Honda</td>\n",
       "      <td>140000</td>\n",
       "      <td>Petrol</td>\n",
       "      <td>Third Owner</td>\n",
       "      <td>158000</td>\n",
       "    </tr>\n",
       "    <tr>\n",
       "      <th>3</th>\n",
       "      <td>Hyundai</td>\n",
       "      <td>127000</td>\n",
       "      <td>Diesel</td>\n",
       "      <td>First Owner</td>\n",
       "      <td>225000</td>\n",
       "    </tr>\n",
       "    <tr>\n",
       "      <th>4</th>\n",
       "      <td>Maruti</td>\n",
       "      <td>120000</td>\n",
       "      <td>Petrol</td>\n",
       "      <td>First Owner</td>\n",
       "      <td>130000</td>\n",
       "    </tr>\n",
       "  </tbody>\n",
       "</table>\n",
       "</div>"
      ],
      "text/plain": [
       "     brand  km_driven    fuel         owner  selling_price\n",
       "0   Maruti     145500  Diesel   First Owner         450000\n",
       "1    Skoda     120000  Diesel  Second Owner         370000\n",
       "2    Honda     140000  Petrol   Third Owner         158000\n",
       "3  Hyundai     127000  Diesel   First Owner         225000\n",
       "4   Maruti     120000  Petrol   First Owner         130000"
      ]
     },
     "execution_count": 3,
     "metadata": {},
     "output_type": "execute_result"
    }
   ],
   "source": [
    "df.head()"
   ]
  },
  {
   "cell_type": "code",
   "execution_count": 4,
   "id": "fa526285",
   "metadata": {
    "execution": {
     "iopub.execute_input": "2024-04-30T14:13:02.974179Z",
     "iopub.status.busy": "2024-04-30T14:13:02.973773Z",
     "iopub.status.idle": "2024-04-30T14:13:02.988463Z",
     "shell.execute_reply": "2024-04-30T14:13:02.987145Z"
    },
    "papermill": {
     "duration": 0.023319,
     "end_time": "2024-04-30T14:13:02.990828",
     "exception": false,
     "start_time": "2024-04-30T14:13:02.967509",
     "status": "completed"
    },
    "tags": []
   },
   "outputs": [
    {
     "data": {
      "text/plain": [
       "owner\n",
       "First Owner             5289\n",
       "Second Owner            2105\n",
       "Third Owner              555\n",
       "Fourth & Above Owner     174\n",
       "Test Drive Car             5\n",
       "Name: count, dtype: int64"
      ]
     },
     "execution_count": 4,
     "metadata": {},
     "output_type": "execute_result"
    }
   ],
   "source": [
    "df['owner'].value_counts()"
   ]
  },
  {
   "cell_type": "markdown",
   "id": "37ffed94",
   "metadata": {
    "papermill": {
     "duration": 0.004416,
     "end_time": "2024-04-30T14:13:03.000076",
     "exception": false,
     "start_time": "2024-04-30T14:13:02.995660",
     "status": "completed"
    },
    "tags": []
   },
   "source": [
    "# **1. OneHotEncoding using Pandas**"
   ]
  },
  {
   "cell_type": "code",
   "execution_count": null,
   "id": "edca2e66",
   "metadata": {
    "papermill": {
     "duration": 0.004326,
     "end_time": "2024-04-30T14:13:03.009050",
     "exception": false,
     "start_time": "2024-04-30T14:13:03.004724",
     "status": "completed"
    },
    "tags": []
   },
   "outputs": [],
   "source": []
  },
  {
   "cell_type": "markdown",
   "id": "9a9540c6",
   "metadata": {
    "papermill": {
     "duration": 0.004409,
     "end_time": "2024-04-30T14:13:03.018120",
     "exception": false,
     "start_time": "2024-04-30T14:13:03.013711",
     "status": "completed"
    },
    "tags": []
   },
   "source": [
    "# **2. K-1 OneHotEncoding**"
   ]
  },
  {
   "cell_type": "code",
   "execution_count": null,
   "id": "21c7f967",
   "metadata": {
    "papermill": {
     "duration": 0.004309,
     "end_time": "2024-04-30T14:13:03.027036",
     "exception": false,
     "start_time": "2024-04-30T14:13:03.022727",
     "status": "completed"
    },
    "tags": []
   },
   "outputs": [],
   "source": []
  },
  {
   "cell_type": "markdown",
   "id": "0282ebbe",
   "metadata": {
    "papermill": {
     "duration": 0.004437,
     "end_time": "2024-04-30T14:13:03.036626",
     "exception": false,
     "start_time": "2024-04-30T14:13:03.032189",
     "status": "completed"
    },
    "tags": []
   },
   "source": [
    "# **3. OneHotEncoding using Sklearn**"
   ]
  },
  {
   "cell_type": "code",
   "execution_count": null,
   "id": "c79c5f75",
   "metadata": {
    "papermill": {
     "duration": 0.004487,
     "end_time": "2024-04-30T14:13:03.045800",
     "exception": false,
     "start_time": "2024-04-30T14:13:03.041313",
     "status": "completed"
    },
    "tags": []
   },
   "outputs": [],
   "source": []
  },
  {
   "cell_type": "markdown",
   "id": "4cb08102",
   "metadata": {
    "papermill": {
     "duration": 0.004393,
     "end_time": "2024-04-30T14:13:03.055015",
     "exception": false,
     "start_time": "2024-04-30T14:13:03.050622",
     "status": "completed"
    },
    "tags": []
   },
   "source": [
    "# **4. OneHotEncoding with Top Categories**"
   ]
  },
  {
   "cell_type": "code",
   "execution_count": null,
   "id": "2b143be2",
   "metadata": {
    "papermill": {
     "duration": 0.004377,
     "end_time": "2024-04-30T14:13:03.064039",
     "exception": false,
     "start_time": "2024-04-30T14:13:03.059662",
     "status": "completed"
    },
    "tags": []
   },
   "outputs": [],
   "source": []
  }
 ],
 "metadata": {
  "kaggle": {
   "accelerator": "none",
   "dataSources": [
    {
     "datasetId": 4654881,
     "sourceId": 7921121,
     "sourceType": "datasetVersion"
    }
   ],
   "dockerImageVersionId": 30698,
   "isGpuEnabled": false,
   "isInternetEnabled": false,
   "language": "python",
   "sourceType": "notebook"
  },
  "kernelspec": {
   "display_name": "Python 3",
   "language": "python",
   "name": "python3"
  },
  "language_info": {
   "codemirror_mode": {
    "name": "ipython",
    "version": 3
   },
   "file_extension": ".py",
   "mimetype": "text/x-python",
   "name": "python",
   "nbconvert_exporter": "python",
   "pygments_lexer": "ipython3",
   "version": "3.10.13"
  },
  "papermill": {
   "default_parameters": {},
   "duration": 4.685265,
   "end_time": "2024-04-30T14:13:03.589742",
   "environment_variables": {},
   "exception": null,
   "input_path": "__notebook__.ipynb",
   "output_path": "__notebook__.ipynb",
   "parameters": {},
   "start_time": "2024-04-30T14:12:58.904477",
   "version": "2.5.0"
  }
 },
 "nbformat": 4,
 "nbformat_minor": 5
}
