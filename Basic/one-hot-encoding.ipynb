{
 "cells": [
  {
   "cell_type": "code",
   "execution_count": 1,
   "id": "9bbfe08e",
   "metadata": {
    "_cell_guid": "b1076dfc-b9ad-4769-8c92-a6c4dae69d19",
    "_uuid": "8f2839f25d086af736a60e9eeb907d3b93b6e0e5",
    "execution": {
     "iopub.execute_input": "2024-04-30T15:31:56.351567Z",
     "iopub.status.busy": "2024-04-30T15:31:56.350313Z",
     "iopub.status.idle": "2024-04-30T15:31:57.403534Z",
     "shell.execute_reply": "2024-04-30T15:31:57.401995Z"
    },
    "papermill": {
     "duration": 1.068505,
     "end_time": "2024-04-30T15:31:57.406552",
     "exception": false,
     "start_time": "2024-04-30T15:31:56.338047",
     "status": "completed"
    },
    "tags": []
   },
   "outputs": [],
   "source": [
    "import numpy as np\n",
    "import pandas as pd"
   ]
  },
  {
   "cell_type": "code",
   "execution_count": 2,
   "id": "24fcb25a",
   "metadata": {
    "execution": {
     "iopub.execute_input": "2024-04-30T15:31:57.428460Z",
     "iopub.status.busy": "2024-04-30T15:31:57.427836Z",
     "iopub.status.idle": "2024-04-30T15:31:57.472636Z",
     "shell.execute_reply": "2024-04-30T15:31:57.471287Z"
    },
    "papermill": {
     "duration": 0.059326,
     "end_time": "2024-04-30T15:31:57.475871",
     "exception": false,
     "start_time": "2024-04-30T15:31:57.416545",
     "status": "completed"
    },
    "tags": []
   },
   "outputs": [],
   "source": [
    "df=pd.read_csv('/kaggle/input/day-27-of-100days-of-ml/Day 27 Nominal Categorical data- One Hot Encoding/cars.csv')"
   ]
  },
  {
   "cell_type": "code",
   "execution_count": 3,
   "id": "cbff54b0",
   "metadata": {
    "execution": {
     "iopub.execute_input": "2024-04-30T15:31:57.498286Z",
     "iopub.status.busy": "2024-04-30T15:31:57.497560Z",
     "iopub.status.idle": "2024-04-30T15:31:57.523552Z",
     "shell.execute_reply": "2024-04-30T15:31:57.522374Z"
    },
    "papermill": {
     "duration": 0.040396,
     "end_time": "2024-04-30T15:31:57.526381",
     "exception": false,
     "start_time": "2024-04-30T15:31:57.485985",
     "status": "completed"
    },
    "tags": []
   },
   "outputs": [
    {
     "data": {
      "text/html": [
       "<div>\n",
       "<style scoped>\n",
       "    .dataframe tbody tr th:only-of-type {\n",
       "        vertical-align: middle;\n",
       "    }\n",
       "\n",
       "    .dataframe tbody tr th {\n",
       "        vertical-align: top;\n",
       "    }\n",
       "\n",
       "    .dataframe thead th {\n",
       "        text-align: right;\n",
       "    }\n",
       "</style>\n",
       "<table border=\"1\" class=\"dataframe\">\n",
       "  <thead>\n",
       "    <tr style=\"text-align: right;\">\n",
       "      <th></th>\n",
       "      <th>brand</th>\n",
       "      <th>km_driven</th>\n",
       "      <th>fuel</th>\n",
       "      <th>owner</th>\n",
       "      <th>selling_price</th>\n",
       "    </tr>\n",
       "  </thead>\n",
       "  <tbody>\n",
       "    <tr>\n",
       "      <th>0</th>\n",
       "      <td>Maruti</td>\n",
       "      <td>145500</td>\n",
       "      <td>Diesel</td>\n",
       "      <td>First Owner</td>\n",
       "      <td>450000</td>\n",
       "    </tr>\n",
       "    <tr>\n",
       "      <th>1</th>\n",
       "      <td>Skoda</td>\n",
       "      <td>120000</td>\n",
       "      <td>Diesel</td>\n",
       "      <td>Second Owner</td>\n",
       "      <td>370000</td>\n",
       "    </tr>\n",
       "    <tr>\n",
       "      <th>2</th>\n",
       "      <td>Honda</td>\n",
       "      <td>140000</td>\n",
       "      <td>Petrol</td>\n",
       "      <td>Third Owner</td>\n",
       "      <td>158000</td>\n",
       "    </tr>\n",
       "    <tr>\n",
       "      <th>3</th>\n",
       "      <td>Hyundai</td>\n",
       "      <td>127000</td>\n",
       "      <td>Diesel</td>\n",
       "      <td>First Owner</td>\n",
       "      <td>225000</td>\n",
       "    </tr>\n",
       "    <tr>\n",
       "      <th>4</th>\n",
       "      <td>Maruti</td>\n",
       "      <td>120000</td>\n",
       "      <td>Petrol</td>\n",
       "      <td>First Owner</td>\n",
       "      <td>130000</td>\n",
       "    </tr>\n",
       "  </tbody>\n",
       "</table>\n",
       "</div>"
      ],
      "text/plain": [
       "     brand  km_driven    fuel         owner  selling_price\n",
       "0   Maruti     145500  Diesel   First Owner         450000\n",
       "1    Skoda     120000  Diesel  Second Owner         370000\n",
       "2    Honda     140000  Petrol   Third Owner         158000\n",
       "3  Hyundai     127000  Diesel   First Owner         225000\n",
       "4   Maruti     120000  Petrol   First Owner         130000"
      ]
     },
     "execution_count": 3,
     "metadata": {},
     "output_type": "execute_result"
    }
   ],
   "source": [
    "df.head()"
   ]
  },
  {
   "cell_type": "code",
   "execution_count": 4,
   "id": "c84aa292",
   "metadata": {
    "execution": {
     "iopub.execute_input": "2024-04-30T15:31:57.550075Z",
     "iopub.status.busy": "2024-04-30T15:31:57.548658Z",
     "iopub.status.idle": "2024-04-30T15:31:57.565159Z",
     "shell.execute_reply": "2024-04-30T15:31:57.564067Z"
    },
    "papermill": {
     "duration": 0.030755,
     "end_time": "2024-04-30T15:31:57.567676",
     "exception": false,
     "start_time": "2024-04-30T15:31:57.536921",
     "status": "completed"
    },
    "tags": []
   },
   "outputs": [
    {
     "data": {
      "text/plain": [
       "owner\n",
       "First Owner             5289\n",
       "Second Owner            2105\n",
       "Third Owner              555\n",
       "Fourth & Above Owner     174\n",
       "Test Drive Car             5\n",
       "Name: count, dtype: int64"
      ]
     },
     "execution_count": 4,
     "metadata": {},
     "output_type": "execute_result"
    }
   ],
   "source": [
    "df['owner'].value_counts()"
   ]
  },
  {
   "cell_type": "code",
   "execution_count": 5,
   "id": "23dfcd9d",
   "metadata": {
    "execution": {
     "iopub.execute_input": "2024-04-30T15:31:57.590264Z",
     "iopub.status.busy": "2024-04-30T15:31:57.589826Z",
     "iopub.status.idle": "2024-04-30T15:31:57.600970Z",
     "shell.execute_reply": "2024-04-30T15:31:57.599839Z"
    },
    "papermill": {
     "duration": 0.025437,
     "end_time": "2024-04-30T15:31:57.603498",
     "exception": false,
     "start_time": "2024-04-30T15:31:57.578061",
     "status": "completed"
    },
    "tags": []
   },
   "outputs": [
    {
     "data": {
      "text/plain": [
       "brand\n",
       "Maruti           2448\n",
       "Hyundai          1415\n",
       "Mahindra          772\n",
       "Tata              734\n",
       "Toyota            488\n",
       "Honda             467\n",
       "Ford              397\n",
       "Chevrolet         230\n",
       "Renault           228\n",
       "Volkswagen        186\n",
       "BMW               120\n",
       "Skoda             105\n",
       "Nissan             81\n",
       "Jaguar             71\n",
       "Volvo              67\n",
       "Datsun             65\n",
       "Mercedes-Benz      54\n",
       "Fiat               47\n",
       "Audi               40\n",
       "Lexus              34\n",
       "Jeep               31\n",
       "Mitsubishi         14\n",
       "Force               6\n",
       "Land                6\n",
       "Isuzu               5\n",
       "Kia                 4\n",
       "Ambassador          4\n",
       "Daewoo              3\n",
       "MG                  3\n",
       "Ashok               1\n",
       "Opel                1\n",
       "Peugeot             1\n",
       "Name: count, dtype: int64"
      ]
     },
     "execution_count": 5,
     "metadata": {},
     "output_type": "execute_result"
    }
   ],
   "source": [
    "df['brand'].value_counts()"
   ]
  },
  {
   "cell_type": "code",
   "execution_count": 6,
   "id": "256136a6",
   "metadata": {
    "execution": {
     "iopub.execute_input": "2024-04-30T15:31:57.625985Z",
     "iopub.status.busy": "2024-04-30T15:31:57.625555Z",
     "iopub.status.idle": "2024-04-30T15:31:57.635568Z",
     "shell.execute_reply": "2024-04-30T15:31:57.634330Z"
    },
    "papermill": {
     "duration": 0.024536,
     "end_time": "2024-04-30T15:31:57.638185",
     "exception": false,
     "start_time": "2024-04-30T15:31:57.613649",
     "status": "completed"
    },
    "tags": []
   },
   "outputs": [
    {
     "data": {
      "text/plain": [
       "array(['First Owner', 'Second Owner', 'Third Owner',\n",
       "       'Fourth & Above Owner', 'Test Drive Car'], dtype=object)"
      ]
     },
     "execution_count": 6,
     "metadata": {},
     "output_type": "execute_result"
    }
   ],
   "source": [
    "df['owner'].unique()"
   ]
  },
  {
   "cell_type": "code",
   "execution_count": 7,
   "id": "260c6497",
   "metadata": {
    "execution": {
     "iopub.execute_input": "2024-04-30T15:31:57.663744Z",
     "iopub.status.busy": "2024-04-30T15:31:57.662352Z",
     "iopub.status.idle": "2024-04-30T15:31:57.671736Z",
     "shell.execute_reply": "2024-04-30T15:31:57.670517Z"
    },
    "papermill": {
     "duration": 0.025123,
     "end_time": "2024-04-30T15:31:57.674042",
     "exception": false,
     "start_time": "2024-04-30T15:31:57.648919",
     "status": "completed"
    },
    "tags": []
   },
   "outputs": [
    {
     "data": {
      "text/plain": [
       "array(['Maruti', 'Skoda', 'Honda', 'Hyundai', 'Toyota', 'Ford', 'Renault',\n",
       "       'Mahindra', 'Tata', 'Chevrolet', 'Fiat', 'Datsun', 'Jeep',\n",
       "       'Mercedes-Benz', 'Mitsubishi', 'Audi', 'Volkswagen', 'BMW',\n",
       "       'Nissan', 'Lexus', 'Jaguar', 'Land', 'MG', 'Volvo', 'Daewoo',\n",
       "       'Kia', 'Force', 'Ambassador', 'Ashok', 'Isuzu', 'Opel', 'Peugeot'],\n",
       "      dtype=object)"
      ]
     },
     "execution_count": 7,
     "metadata": {},
     "output_type": "execute_result"
    }
   ],
   "source": [
    "df['brand'].unique()"
   ]
  },
  {
   "cell_type": "code",
   "execution_count": 8,
   "id": "ef16b71a",
   "metadata": {
    "execution": {
     "iopub.execute_input": "2024-04-30T15:31:57.697470Z",
     "iopub.status.busy": "2024-04-30T15:31:57.697056Z",
     "iopub.status.idle": "2024-04-30T15:31:57.705455Z",
     "shell.execute_reply": "2024-04-30T15:31:57.704593Z"
    },
    "papermill": {
     "duration": 0.022725,
     "end_time": "2024-04-30T15:31:57.707472",
     "exception": false,
     "start_time": "2024-04-30T15:31:57.684747",
     "status": "completed"
    },
    "tags": []
   },
   "outputs": [
    {
     "data": {
      "text/plain": [
       "array(['Diesel', 'Petrol', 'LPG', 'CNG'], dtype=object)"
      ]
     },
     "execution_count": 8,
     "metadata": {},
     "output_type": "execute_result"
    }
   ],
   "source": [
    "df['fuel'].unique()"
   ]
  },
  {
   "cell_type": "markdown",
   "id": "50cf9c38",
   "metadata": {
    "papermill": {
     "duration": 0.011159,
     "end_time": "2024-04-30T15:31:57.729505",
     "exception": false,
     "start_time": "2024-04-30T15:31:57.718346",
     "status": "completed"
    },
    "tags": []
   },
   "source": [
    "# **1. OneHotEncoding using Pandas**"
   ]
  },
  {
   "cell_type": "code",
   "execution_count": 9,
   "id": "e092bda5",
   "metadata": {
    "execution": {
     "iopub.execute_input": "2024-04-30T15:31:57.754112Z",
     "iopub.status.busy": "2024-04-30T15:31:57.753012Z",
     "iopub.status.idle": "2024-04-30T15:31:57.791568Z",
     "shell.execute_reply": "2024-04-30T15:31:57.790371Z"
    },
    "papermill": {
     "duration": 0.053381,
     "end_time": "2024-04-30T15:31:57.794042",
     "exception": false,
     "start_time": "2024-04-30T15:31:57.740661",
     "status": "completed"
    },
    "tags": []
   },
   "outputs": [
    {
     "data": {
      "text/html": [
       "<div>\n",
       "<style scoped>\n",
       "    .dataframe tbody tr th:only-of-type {\n",
       "        vertical-align: middle;\n",
       "    }\n",
       "\n",
       "    .dataframe tbody tr th {\n",
       "        vertical-align: top;\n",
       "    }\n",
       "\n",
       "    .dataframe thead th {\n",
       "        text-align: right;\n",
       "    }\n",
       "</style>\n",
       "<table border=\"1\" class=\"dataframe\">\n",
       "  <thead>\n",
       "    <tr style=\"text-align: right;\">\n",
       "      <th></th>\n",
       "      <th>brand</th>\n",
       "      <th>km_driven</th>\n",
       "      <th>selling_price</th>\n",
       "      <th>fuel_CNG</th>\n",
       "      <th>fuel_Diesel</th>\n",
       "      <th>fuel_LPG</th>\n",
       "      <th>fuel_Petrol</th>\n",
       "      <th>owner_First Owner</th>\n",
       "      <th>owner_Fourth &amp; Above Owner</th>\n",
       "      <th>owner_Second Owner</th>\n",
       "      <th>owner_Test Drive Car</th>\n",
       "      <th>owner_Third Owner</th>\n",
       "    </tr>\n",
       "  </thead>\n",
       "  <tbody>\n",
       "    <tr>\n",
       "      <th>0</th>\n",
       "      <td>Maruti</td>\n",
       "      <td>145500</td>\n",
       "      <td>450000</td>\n",
       "      <td>False</td>\n",
       "      <td>True</td>\n",
       "      <td>False</td>\n",
       "      <td>False</td>\n",
       "      <td>True</td>\n",
       "      <td>False</td>\n",
       "      <td>False</td>\n",
       "      <td>False</td>\n",
       "      <td>False</td>\n",
       "    </tr>\n",
       "    <tr>\n",
       "      <th>1</th>\n",
       "      <td>Skoda</td>\n",
       "      <td>120000</td>\n",
       "      <td>370000</td>\n",
       "      <td>False</td>\n",
       "      <td>True</td>\n",
       "      <td>False</td>\n",
       "      <td>False</td>\n",
       "      <td>False</td>\n",
       "      <td>False</td>\n",
       "      <td>True</td>\n",
       "      <td>False</td>\n",
       "      <td>False</td>\n",
       "    </tr>\n",
       "    <tr>\n",
       "      <th>2</th>\n",
       "      <td>Honda</td>\n",
       "      <td>140000</td>\n",
       "      <td>158000</td>\n",
       "      <td>False</td>\n",
       "      <td>False</td>\n",
       "      <td>False</td>\n",
       "      <td>True</td>\n",
       "      <td>False</td>\n",
       "      <td>False</td>\n",
       "      <td>False</td>\n",
       "      <td>False</td>\n",
       "      <td>True</td>\n",
       "    </tr>\n",
       "    <tr>\n",
       "      <th>3</th>\n",
       "      <td>Hyundai</td>\n",
       "      <td>127000</td>\n",
       "      <td>225000</td>\n",
       "      <td>False</td>\n",
       "      <td>True</td>\n",
       "      <td>False</td>\n",
       "      <td>False</td>\n",
       "      <td>True</td>\n",
       "      <td>False</td>\n",
       "      <td>False</td>\n",
       "      <td>False</td>\n",
       "      <td>False</td>\n",
       "    </tr>\n",
       "    <tr>\n",
       "      <th>4</th>\n",
       "      <td>Maruti</td>\n",
       "      <td>120000</td>\n",
       "      <td>130000</td>\n",
       "      <td>False</td>\n",
       "      <td>False</td>\n",
       "      <td>False</td>\n",
       "      <td>True</td>\n",
       "      <td>True</td>\n",
       "      <td>False</td>\n",
       "      <td>False</td>\n",
       "      <td>False</td>\n",
       "      <td>False</td>\n",
       "    </tr>\n",
       "    <tr>\n",
       "      <th>...</th>\n",
       "      <td>...</td>\n",
       "      <td>...</td>\n",
       "      <td>...</td>\n",
       "      <td>...</td>\n",
       "      <td>...</td>\n",
       "      <td>...</td>\n",
       "      <td>...</td>\n",
       "      <td>...</td>\n",
       "      <td>...</td>\n",
       "      <td>...</td>\n",
       "      <td>...</td>\n",
       "      <td>...</td>\n",
       "    </tr>\n",
       "    <tr>\n",
       "      <th>8123</th>\n",
       "      <td>Hyundai</td>\n",
       "      <td>110000</td>\n",
       "      <td>320000</td>\n",
       "      <td>False</td>\n",
       "      <td>False</td>\n",
       "      <td>False</td>\n",
       "      <td>True</td>\n",
       "      <td>True</td>\n",
       "      <td>False</td>\n",
       "      <td>False</td>\n",
       "      <td>False</td>\n",
       "      <td>False</td>\n",
       "    </tr>\n",
       "    <tr>\n",
       "      <th>8124</th>\n",
       "      <td>Hyundai</td>\n",
       "      <td>119000</td>\n",
       "      <td>135000</td>\n",
       "      <td>False</td>\n",
       "      <td>True</td>\n",
       "      <td>False</td>\n",
       "      <td>False</td>\n",
       "      <td>False</td>\n",
       "      <td>True</td>\n",
       "      <td>False</td>\n",
       "      <td>False</td>\n",
       "      <td>False</td>\n",
       "    </tr>\n",
       "    <tr>\n",
       "      <th>8125</th>\n",
       "      <td>Maruti</td>\n",
       "      <td>120000</td>\n",
       "      <td>382000</td>\n",
       "      <td>False</td>\n",
       "      <td>True</td>\n",
       "      <td>False</td>\n",
       "      <td>False</td>\n",
       "      <td>True</td>\n",
       "      <td>False</td>\n",
       "      <td>False</td>\n",
       "      <td>False</td>\n",
       "      <td>False</td>\n",
       "    </tr>\n",
       "    <tr>\n",
       "      <th>8126</th>\n",
       "      <td>Tata</td>\n",
       "      <td>25000</td>\n",
       "      <td>290000</td>\n",
       "      <td>False</td>\n",
       "      <td>True</td>\n",
       "      <td>False</td>\n",
       "      <td>False</td>\n",
       "      <td>True</td>\n",
       "      <td>False</td>\n",
       "      <td>False</td>\n",
       "      <td>False</td>\n",
       "      <td>False</td>\n",
       "    </tr>\n",
       "    <tr>\n",
       "      <th>8127</th>\n",
       "      <td>Tata</td>\n",
       "      <td>25000</td>\n",
       "      <td>290000</td>\n",
       "      <td>False</td>\n",
       "      <td>True</td>\n",
       "      <td>False</td>\n",
       "      <td>False</td>\n",
       "      <td>True</td>\n",
       "      <td>False</td>\n",
       "      <td>False</td>\n",
       "      <td>False</td>\n",
       "      <td>False</td>\n",
       "    </tr>\n",
       "  </tbody>\n",
       "</table>\n",
       "<p>8128 rows × 12 columns</p>\n",
       "</div>"
      ],
      "text/plain": [
       "        brand  km_driven  selling_price  fuel_CNG  fuel_Diesel  fuel_LPG  \\\n",
       "0      Maruti     145500         450000     False         True     False   \n",
       "1       Skoda     120000         370000     False         True     False   \n",
       "2       Honda     140000         158000     False        False     False   \n",
       "3     Hyundai     127000         225000     False         True     False   \n",
       "4      Maruti     120000         130000     False        False     False   \n",
       "...       ...        ...            ...       ...          ...       ...   \n",
       "8123  Hyundai     110000         320000     False        False     False   \n",
       "8124  Hyundai     119000         135000     False         True     False   \n",
       "8125   Maruti     120000         382000     False         True     False   \n",
       "8126     Tata      25000         290000     False         True     False   \n",
       "8127     Tata      25000         290000     False         True     False   \n",
       "\n",
       "      fuel_Petrol  owner_First Owner  owner_Fourth & Above Owner  \\\n",
       "0           False               True                       False   \n",
       "1           False              False                       False   \n",
       "2            True              False                       False   \n",
       "3           False               True                       False   \n",
       "4            True               True                       False   \n",
       "...           ...                ...                         ...   \n",
       "8123         True               True                       False   \n",
       "8124        False              False                        True   \n",
       "8125        False               True                       False   \n",
       "8126        False               True                       False   \n",
       "8127        False               True                       False   \n",
       "\n",
       "      owner_Second Owner  owner_Test Drive Car  owner_Third Owner  \n",
       "0                  False                 False              False  \n",
       "1                   True                 False              False  \n",
       "2                  False                 False               True  \n",
       "3                  False                 False              False  \n",
       "4                  False                 False              False  \n",
       "...                  ...                   ...                ...  \n",
       "8123               False                 False              False  \n",
       "8124               False                 False              False  \n",
       "8125               False                 False              False  \n",
       "8126               False                 False              False  \n",
       "8127               False                 False              False  \n",
       "\n",
       "[8128 rows x 12 columns]"
      ]
     },
     "execution_count": 9,
     "metadata": {},
     "output_type": "execute_result"
    }
   ],
   "source": [
    "pd.get_dummies(df,columns=['fuel','owner'])"
   ]
  },
  {
   "cell_type": "markdown",
   "id": "c850be61",
   "metadata": {
    "papermill": {
     "duration": 0.011331,
     "end_time": "2024-04-30T15:31:57.816855",
     "exception": false,
     "start_time": "2024-04-30T15:31:57.805524",
     "status": "completed"
    },
    "tags": []
   },
   "source": [
    "# **2. K-1 OneHotEncoding**"
   ]
  },
  {
   "cell_type": "code",
   "execution_count": 10,
   "id": "300186ce",
   "metadata": {
    "execution": {
     "iopub.execute_input": "2024-04-30T15:31:57.841918Z",
     "iopub.status.busy": "2024-04-30T15:31:57.841447Z",
     "iopub.status.idle": "2024-04-30T15:31:57.867171Z",
     "shell.execute_reply": "2024-04-30T15:31:57.866024Z"
    },
    "papermill": {
     "duration": 0.041742,
     "end_time": "2024-04-30T15:31:57.870066",
     "exception": false,
     "start_time": "2024-04-30T15:31:57.828324",
     "status": "completed"
    },
    "tags": []
   },
   "outputs": [
    {
     "data": {
      "text/html": [
       "<div>\n",
       "<style scoped>\n",
       "    .dataframe tbody tr th:only-of-type {\n",
       "        vertical-align: middle;\n",
       "    }\n",
       "\n",
       "    .dataframe tbody tr th {\n",
       "        vertical-align: top;\n",
       "    }\n",
       "\n",
       "    .dataframe thead th {\n",
       "        text-align: right;\n",
       "    }\n",
       "</style>\n",
       "<table border=\"1\" class=\"dataframe\">\n",
       "  <thead>\n",
       "    <tr style=\"text-align: right;\">\n",
       "      <th></th>\n",
       "      <th>brand</th>\n",
       "      <th>km_driven</th>\n",
       "      <th>selling_price</th>\n",
       "      <th>fuel_Diesel</th>\n",
       "      <th>fuel_LPG</th>\n",
       "      <th>fuel_Petrol</th>\n",
       "      <th>owner_Fourth &amp; Above Owner</th>\n",
       "      <th>owner_Second Owner</th>\n",
       "      <th>owner_Test Drive Car</th>\n",
       "      <th>owner_Third Owner</th>\n",
       "    </tr>\n",
       "  </thead>\n",
       "  <tbody>\n",
       "    <tr>\n",
       "      <th>0</th>\n",
       "      <td>Maruti</td>\n",
       "      <td>145500</td>\n",
       "      <td>450000</td>\n",
       "      <td>True</td>\n",
       "      <td>False</td>\n",
       "      <td>False</td>\n",
       "      <td>False</td>\n",
       "      <td>False</td>\n",
       "      <td>False</td>\n",
       "      <td>False</td>\n",
       "    </tr>\n",
       "    <tr>\n",
       "      <th>1</th>\n",
       "      <td>Skoda</td>\n",
       "      <td>120000</td>\n",
       "      <td>370000</td>\n",
       "      <td>True</td>\n",
       "      <td>False</td>\n",
       "      <td>False</td>\n",
       "      <td>False</td>\n",
       "      <td>True</td>\n",
       "      <td>False</td>\n",
       "      <td>False</td>\n",
       "    </tr>\n",
       "    <tr>\n",
       "      <th>2</th>\n",
       "      <td>Honda</td>\n",
       "      <td>140000</td>\n",
       "      <td>158000</td>\n",
       "      <td>False</td>\n",
       "      <td>False</td>\n",
       "      <td>True</td>\n",
       "      <td>False</td>\n",
       "      <td>False</td>\n",
       "      <td>False</td>\n",
       "      <td>True</td>\n",
       "    </tr>\n",
       "    <tr>\n",
       "      <th>3</th>\n",
       "      <td>Hyundai</td>\n",
       "      <td>127000</td>\n",
       "      <td>225000</td>\n",
       "      <td>True</td>\n",
       "      <td>False</td>\n",
       "      <td>False</td>\n",
       "      <td>False</td>\n",
       "      <td>False</td>\n",
       "      <td>False</td>\n",
       "      <td>False</td>\n",
       "    </tr>\n",
       "    <tr>\n",
       "      <th>4</th>\n",
       "      <td>Maruti</td>\n",
       "      <td>120000</td>\n",
       "      <td>130000</td>\n",
       "      <td>False</td>\n",
       "      <td>False</td>\n",
       "      <td>True</td>\n",
       "      <td>False</td>\n",
       "      <td>False</td>\n",
       "      <td>False</td>\n",
       "      <td>False</td>\n",
       "    </tr>\n",
       "    <tr>\n",
       "      <th>...</th>\n",
       "      <td>...</td>\n",
       "      <td>...</td>\n",
       "      <td>...</td>\n",
       "      <td>...</td>\n",
       "      <td>...</td>\n",
       "      <td>...</td>\n",
       "      <td>...</td>\n",
       "      <td>...</td>\n",
       "      <td>...</td>\n",
       "      <td>...</td>\n",
       "    </tr>\n",
       "    <tr>\n",
       "      <th>8123</th>\n",
       "      <td>Hyundai</td>\n",
       "      <td>110000</td>\n",
       "      <td>320000</td>\n",
       "      <td>False</td>\n",
       "      <td>False</td>\n",
       "      <td>True</td>\n",
       "      <td>False</td>\n",
       "      <td>False</td>\n",
       "      <td>False</td>\n",
       "      <td>False</td>\n",
       "    </tr>\n",
       "    <tr>\n",
       "      <th>8124</th>\n",
       "      <td>Hyundai</td>\n",
       "      <td>119000</td>\n",
       "      <td>135000</td>\n",
       "      <td>True</td>\n",
       "      <td>False</td>\n",
       "      <td>False</td>\n",
       "      <td>True</td>\n",
       "      <td>False</td>\n",
       "      <td>False</td>\n",
       "      <td>False</td>\n",
       "    </tr>\n",
       "    <tr>\n",
       "      <th>8125</th>\n",
       "      <td>Maruti</td>\n",
       "      <td>120000</td>\n",
       "      <td>382000</td>\n",
       "      <td>True</td>\n",
       "      <td>False</td>\n",
       "      <td>False</td>\n",
       "      <td>False</td>\n",
       "      <td>False</td>\n",
       "      <td>False</td>\n",
       "      <td>False</td>\n",
       "    </tr>\n",
       "    <tr>\n",
       "      <th>8126</th>\n",
       "      <td>Tata</td>\n",
       "      <td>25000</td>\n",
       "      <td>290000</td>\n",
       "      <td>True</td>\n",
       "      <td>False</td>\n",
       "      <td>False</td>\n",
       "      <td>False</td>\n",
       "      <td>False</td>\n",
       "      <td>False</td>\n",
       "      <td>False</td>\n",
       "    </tr>\n",
       "    <tr>\n",
       "      <th>8127</th>\n",
       "      <td>Tata</td>\n",
       "      <td>25000</td>\n",
       "      <td>290000</td>\n",
       "      <td>True</td>\n",
       "      <td>False</td>\n",
       "      <td>False</td>\n",
       "      <td>False</td>\n",
       "      <td>False</td>\n",
       "      <td>False</td>\n",
       "      <td>False</td>\n",
       "    </tr>\n",
       "  </tbody>\n",
       "</table>\n",
       "<p>8128 rows × 10 columns</p>\n",
       "</div>"
      ],
      "text/plain": [
       "        brand  km_driven  selling_price  fuel_Diesel  fuel_LPG  fuel_Petrol  \\\n",
       "0      Maruti     145500         450000         True     False        False   \n",
       "1       Skoda     120000         370000         True     False        False   \n",
       "2       Honda     140000         158000        False     False         True   \n",
       "3     Hyundai     127000         225000         True     False        False   \n",
       "4      Maruti     120000         130000        False     False         True   \n",
       "...       ...        ...            ...          ...       ...          ...   \n",
       "8123  Hyundai     110000         320000        False     False         True   \n",
       "8124  Hyundai     119000         135000         True     False        False   \n",
       "8125   Maruti     120000         382000         True     False        False   \n",
       "8126     Tata      25000         290000         True     False        False   \n",
       "8127     Tata      25000         290000         True     False        False   \n",
       "\n",
       "      owner_Fourth & Above Owner  owner_Second Owner  owner_Test Drive Car  \\\n",
       "0                          False               False                 False   \n",
       "1                          False                True                 False   \n",
       "2                          False               False                 False   \n",
       "3                          False               False                 False   \n",
       "4                          False               False                 False   \n",
       "...                          ...                 ...                   ...   \n",
       "8123                       False               False                 False   \n",
       "8124                        True               False                 False   \n",
       "8125                       False               False                 False   \n",
       "8126                       False               False                 False   \n",
       "8127                       False               False                 False   \n",
       "\n",
       "      owner_Third Owner  \n",
       "0                 False  \n",
       "1                 False  \n",
       "2                  True  \n",
       "3                 False  \n",
       "4                 False  \n",
       "...                 ...  \n",
       "8123              False  \n",
       "8124              False  \n",
       "8125              False  \n",
       "8126              False  \n",
       "8127              False  \n",
       "\n",
       "[8128 rows x 10 columns]"
      ]
     },
     "execution_count": 10,
     "metadata": {},
     "output_type": "execute_result"
    }
   ],
   "source": [
    "pd.get_dummies(df,columns=['fuel','owner'],drop_first=True)"
   ]
  },
  {
   "cell_type": "markdown",
   "id": "59e30636",
   "metadata": {
    "papermill": {
     "duration": 0.011474,
     "end_time": "2024-04-30T15:31:57.893540",
     "exception": false,
     "start_time": "2024-04-30T15:31:57.882066",
     "status": "completed"
    },
    "tags": []
   },
   "source": [
    "# **3. OneHotEncoding using Sklearn**"
   ]
  },
  {
   "cell_type": "code",
   "execution_count": 11,
   "id": "5b011af8",
   "metadata": {
    "execution": {
     "iopub.execute_input": "2024-04-30T15:31:57.919573Z",
     "iopub.status.busy": "2024-04-30T15:31:57.919179Z",
     "iopub.status.idle": "2024-04-30T15:31:59.380018Z",
     "shell.execute_reply": "2024-04-30T15:31:59.378621Z"
    },
    "papermill": {
     "duration": 1.478036,
     "end_time": "2024-04-30T15:31:59.383479",
     "exception": false,
     "start_time": "2024-04-30T15:31:57.905443",
     "status": "completed"
    },
    "tags": []
   },
   "outputs": [],
   "source": [
    "from sklearn.model_selection import train_test_split\n",
    "X_train,X_test,y_train,y_test = train_test_split(df.iloc[:,0:4],df.iloc[:,-1],test_size=0.2,random_state=2)"
   ]
  },
  {
   "cell_type": "code",
   "execution_count": 12,
   "id": "bc55ba6f",
   "metadata": {
    "execution": {
     "iopub.execute_input": "2024-04-30T15:31:59.410084Z",
     "iopub.status.busy": "2024-04-30T15:31:59.409621Z",
     "iopub.status.idle": "2024-04-30T15:31:59.423198Z",
     "shell.execute_reply": "2024-04-30T15:31:59.421958Z"
    },
    "papermill": {
     "duration": 0.030849,
     "end_time": "2024-04-30T15:31:59.426264",
     "exception": false,
     "start_time": "2024-04-30T15:31:59.395415",
     "status": "completed"
    },
    "tags": []
   },
   "outputs": [
    {
     "data": {
      "text/html": [
       "<div>\n",
       "<style scoped>\n",
       "    .dataframe tbody tr th:only-of-type {\n",
       "        vertical-align: middle;\n",
       "    }\n",
       "\n",
       "    .dataframe tbody tr th {\n",
       "        vertical-align: top;\n",
       "    }\n",
       "\n",
       "    .dataframe thead th {\n",
       "        text-align: right;\n",
       "    }\n",
       "</style>\n",
       "<table border=\"1\" class=\"dataframe\">\n",
       "  <thead>\n",
       "    <tr style=\"text-align: right;\">\n",
       "      <th></th>\n",
       "      <th>brand</th>\n",
       "      <th>km_driven</th>\n",
       "      <th>fuel</th>\n",
       "      <th>owner</th>\n",
       "    </tr>\n",
       "  </thead>\n",
       "  <tbody>\n",
       "    <tr>\n",
       "      <th>5571</th>\n",
       "      <td>Hyundai</td>\n",
       "      <td>35000</td>\n",
       "      <td>Diesel</td>\n",
       "      <td>First Owner</td>\n",
       "    </tr>\n",
       "    <tr>\n",
       "      <th>2038</th>\n",
       "      <td>Jeep</td>\n",
       "      <td>60000</td>\n",
       "      <td>Diesel</td>\n",
       "      <td>First Owner</td>\n",
       "    </tr>\n",
       "    <tr>\n",
       "      <th>2957</th>\n",
       "      <td>Hyundai</td>\n",
       "      <td>25000</td>\n",
       "      <td>Petrol</td>\n",
       "      <td>First Owner</td>\n",
       "    </tr>\n",
       "    <tr>\n",
       "      <th>7618</th>\n",
       "      <td>Mahindra</td>\n",
       "      <td>130000</td>\n",
       "      <td>Diesel</td>\n",
       "      <td>Second Owner</td>\n",
       "    </tr>\n",
       "    <tr>\n",
       "      <th>6684</th>\n",
       "      <td>Hyundai</td>\n",
       "      <td>155000</td>\n",
       "      <td>Diesel</td>\n",
       "      <td>First Owner</td>\n",
       "    </tr>\n",
       "  </tbody>\n",
       "</table>\n",
       "</div>"
      ],
      "text/plain": [
       "         brand  km_driven    fuel         owner\n",
       "5571   Hyundai      35000  Diesel   First Owner\n",
       "2038      Jeep      60000  Diesel   First Owner\n",
       "2957   Hyundai      25000  Petrol   First Owner\n",
       "7618  Mahindra     130000  Diesel  Second Owner\n",
       "6684   Hyundai     155000  Diesel   First Owner"
      ]
     },
     "execution_count": 12,
     "metadata": {},
     "output_type": "execute_result"
    }
   ],
   "source": [
    "X_train.head()"
   ]
  },
  {
   "cell_type": "code",
   "execution_count": 13,
   "id": "9c8ab594",
   "metadata": {
    "execution": {
     "iopub.execute_input": "2024-04-30T15:31:59.453045Z",
     "iopub.status.busy": "2024-04-30T15:31:59.452591Z",
     "iopub.status.idle": "2024-04-30T15:31:59.457347Z",
     "shell.execute_reply": "2024-04-30T15:31:59.456087Z"
    },
    "papermill": {
     "duration": 0.021272,
     "end_time": "2024-04-30T15:31:59.459892",
     "exception": false,
     "start_time": "2024-04-30T15:31:59.438620",
     "status": "completed"
    },
    "tags": []
   },
   "outputs": [],
   "source": [
    "from sklearn.preprocessing import OneHotEncoder"
   ]
  },
  {
   "cell_type": "code",
   "execution_count": 14,
   "id": "01a8e147",
   "metadata": {
    "execution": {
     "iopub.execute_input": "2024-04-30T15:31:59.487407Z",
     "iopub.status.busy": "2024-04-30T15:31:59.486125Z",
     "iopub.status.idle": "2024-04-30T15:31:59.492296Z",
     "shell.execute_reply": "2024-04-30T15:31:59.491283Z"
    },
    "papermill": {
     "duration": 0.022565,
     "end_time": "2024-04-30T15:31:59.494746",
     "exception": false,
     "start_time": "2024-04-30T15:31:59.472181",
     "status": "completed"
    },
    "tags": []
   },
   "outputs": [],
   "source": [
    "ohe=OneHotEncoder(drop='first')"
   ]
  },
  {
   "cell_type": "code",
   "execution_count": 15,
   "id": "9fa15d29",
   "metadata": {
    "execution": {
     "iopub.execute_input": "2024-04-30T15:31:59.522601Z",
     "iopub.status.busy": "2024-04-30T15:31:59.521381Z",
     "iopub.status.idle": "2024-04-30T15:31:59.543462Z",
     "shell.execute_reply": "2024-04-30T15:31:59.542177Z"
    },
    "papermill": {
     "duration": 0.039429,
     "end_time": "2024-04-30T15:31:59.546415",
     "exception": false,
     "start_time": "2024-04-30T15:31:59.506986",
     "status": "completed"
    },
    "tags": []
   },
   "outputs": [],
   "source": [
    "X_train_new=ohe.fit_transform(X_train[['fuel','owner']]).toarray()"
   ]
  },
  {
   "cell_type": "code",
   "execution_count": 16,
   "id": "8ac21643",
   "metadata": {
    "execution": {
     "iopub.execute_input": "2024-04-30T15:31:59.573480Z",
     "iopub.status.busy": "2024-04-30T15:31:59.572802Z",
     "iopub.status.idle": "2024-04-30T15:31:59.582570Z",
     "shell.execute_reply": "2024-04-30T15:31:59.581293Z"
    },
    "papermill": {
     "duration": 0.026586,
     "end_time": "2024-04-30T15:31:59.585471",
     "exception": false,
     "start_time": "2024-04-30T15:31:59.558885",
     "status": "completed"
    },
    "tags": []
   },
   "outputs": [],
   "source": [
    "X_test_new=ohe.fit_transform(X_test[['fuel','owner']]).toarray()"
   ]
  },
  {
   "cell_type": "code",
   "execution_count": 17,
   "id": "4dddd2dd",
   "metadata": {
    "execution": {
     "iopub.execute_input": "2024-04-30T15:31:59.611631Z",
     "iopub.status.busy": "2024-04-30T15:31:59.611141Z",
     "iopub.status.idle": "2024-04-30T15:31:59.619625Z",
     "shell.execute_reply": "2024-04-30T15:31:59.618512Z"
    },
    "papermill": {
     "duration": 0.024658,
     "end_time": "2024-04-30T15:31:59.622127",
     "exception": false,
     "start_time": "2024-04-30T15:31:59.597469",
     "status": "completed"
    },
    "tags": []
   },
   "outputs": [
    {
     "data": {
      "text/plain": [
       "array([[1., 0., 0., ..., 0., 0., 0.],\n",
       "       [1., 0., 0., ..., 0., 0., 0.],\n",
       "       [0., 0., 1., ..., 0., 0., 0.],\n",
       "       ...,\n",
       "       [0., 0., 1., ..., 0., 0., 0.],\n",
       "       [1., 0., 0., ..., 1., 0., 0.],\n",
       "       [1., 0., 0., ..., 0., 0., 0.]])"
      ]
     },
     "execution_count": 17,
     "metadata": {},
     "output_type": "execute_result"
    }
   ],
   "source": [
    "X_train_new"
   ]
  },
  {
   "cell_type": "code",
   "execution_count": 18,
   "id": "defcc5f4",
   "metadata": {
    "execution": {
     "iopub.execute_input": "2024-04-30T15:31:59.648591Z",
     "iopub.status.busy": "2024-04-30T15:31:59.647920Z",
     "iopub.status.idle": "2024-04-30T15:31:59.655344Z",
     "shell.execute_reply": "2024-04-30T15:31:59.653840Z"
    },
    "papermill": {
     "duration": 0.024286,
     "end_time": "2024-04-30T15:31:59.658334",
     "exception": false,
     "start_time": "2024-04-30T15:31:59.634048",
     "status": "completed"
    },
    "tags": []
   },
   "outputs": [
    {
     "data": {
      "text/plain": [
       "(6502, 7)"
      ]
     },
     "execution_count": 18,
     "metadata": {},
     "output_type": "execute_result"
    }
   ],
   "source": [
    "X_train_new.shape"
   ]
  },
  {
   "cell_type": "code",
   "execution_count": 19,
   "id": "2525b303",
   "metadata": {
    "execution": {
     "iopub.execute_input": "2024-04-30T15:31:59.685593Z",
     "iopub.status.busy": "2024-04-30T15:31:59.685183Z",
     "iopub.status.idle": "2024-04-30T15:31:59.700123Z",
     "shell.execute_reply": "2024-04-30T15:31:59.698741Z"
    },
    "papermill": {
     "duration": 0.031639,
     "end_time": "2024-04-30T15:31:59.702627",
     "exception": false,
     "start_time": "2024-04-30T15:31:59.670988",
     "status": "completed"
    },
    "tags": []
   },
   "outputs": [
    {
     "data": {
      "text/plain": [
       "array([['Hyundai', 35000, 1.0, ..., 0.0, 0.0, 0.0],\n",
       "       ['Jeep', 60000, 1.0, ..., 0.0, 0.0, 0.0],\n",
       "       ['Hyundai', 25000, 0.0, ..., 0.0, 0.0, 0.0],\n",
       "       ...,\n",
       "       ['Tata', 15000, 0.0, ..., 0.0, 0.0, 0.0],\n",
       "       ['Maruti', 32500, 1.0, ..., 1.0, 0.0, 0.0],\n",
       "       ['Isuzu', 121000, 1.0, ..., 0.0, 0.0, 0.0]], dtype=object)"
      ]
     },
     "execution_count": 19,
     "metadata": {},
     "output_type": "execute_result"
    }
   ],
   "source": [
    "np.hstack((X_train[['brand','km_driven']].values,X_train_new))"
   ]
  },
  {
   "cell_type": "code",
   "execution_count": 20,
   "id": "05fd4a1f",
   "metadata": {
    "execution": {
     "iopub.execute_input": "2024-04-30T15:31:59.729995Z",
     "iopub.status.busy": "2024-04-30T15:31:59.729517Z",
     "iopub.status.idle": "2024-04-30T15:31:59.745114Z",
     "shell.execute_reply": "2024-04-30T15:31:59.743726Z"
    },
    "papermill": {
     "duration": 0.032679,
     "end_time": "2024-04-30T15:31:59.747870",
     "exception": false,
     "start_time": "2024-04-30T15:31:59.715191",
     "status": "completed"
    },
    "tags": []
   },
   "outputs": [
    {
     "data": {
      "text/plain": [
       "(6502, 9)"
      ]
     },
     "execution_count": 20,
     "metadata": {},
     "output_type": "execute_result"
    }
   ],
   "source": [
    "np.hstack((X_train[['brand','km_driven']].values,X_train_new)).shape"
   ]
  },
  {
   "cell_type": "markdown",
   "id": "9e091e9b",
   "metadata": {
    "papermill": {
     "duration": 0.012873,
     "end_time": "2024-04-30T15:31:59.773605",
     "exception": false,
     "start_time": "2024-04-30T15:31:59.760732",
     "status": "completed"
    },
    "tags": []
   },
   "source": [
    "# **4. OneHotEncoding with Top Categories**"
   ]
  },
  {
   "cell_type": "code",
   "execution_count": 21,
   "id": "56f23d88",
   "metadata": {
    "execution": {
     "iopub.execute_input": "2024-04-30T15:31:59.801797Z",
     "iopub.status.busy": "2024-04-30T15:31:59.801092Z",
     "iopub.status.idle": "2024-04-30T15:31:59.807888Z",
     "shell.execute_reply": "2024-04-30T15:31:59.806600Z"
    },
    "papermill": {
     "duration": 0.02401,
     "end_time": "2024-04-30T15:31:59.810618",
     "exception": false,
     "start_time": "2024-04-30T15:31:59.786608",
     "status": "completed"
    },
    "tags": []
   },
   "outputs": [],
   "source": [
    "counts = df['brand'].value_counts()"
   ]
  },
  {
   "cell_type": "code",
   "execution_count": 22,
   "id": "bf10a133",
   "metadata": {
    "execution": {
     "iopub.execute_input": "2024-04-30T15:31:59.838543Z",
     "iopub.status.busy": "2024-04-30T15:31:59.838088Z",
     "iopub.status.idle": "2024-04-30T15:31:59.847804Z",
     "shell.execute_reply": "2024-04-30T15:31:59.846359Z"
    },
    "papermill": {
     "duration": 0.026968,
     "end_time": "2024-04-30T15:31:59.850341",
     "exception": false,
     "start_time": "2024-04-30T15:31:59.823373",
     "status": "completed"
    },
    "tags": []
   },
   "outputs": [
    {
     "data": {
      "text/plain": [
       "brand\n",
       "Maruti           2448\n",
       "Hyundai          1415\n",
       "Mahindra          772\n",
       "Tata              734\n",
       "Toyota            488\n",
       "Honda             467\n",
       "Ford              397\n",
       "Chevrolet         230\n",
       "Renault           228\n",
       "Volkswagen        186\n",
       "BMW               120\n",
       "Skoda             105\n",
       "Nissan             81\n",
       "Jaguar             71\n",
       "Volvo              67\n",
       "Datsun             65\n",
       "Mercedes-Benz      54\n",
       "Fiat               47\n",
       "Audi               40\n",
       "Lexus              34\n",
       "Jeep               31\n",
       "Mitsubishi         14\n",
       "Force               6\n",
       "Land                6\n",
       "Isuzu               5\n",
       "Kia                 4\n",
       "Ambassador          4\n",
       "Daewoo              3\n",
       "MG                  3\n",
       "Ashok               1\n",
       "Opel                1\n",
       "Peugeot             1\n",
       "Name: count, dtype: int64"
      ]
     },
     "execution_count": 22,
     "metadata": {},
     "output_type": "execute_result"
    }
   ],
   "source": [
    "counts"
   ]
  },
  {
   "cell_type": "code",
   "execution_count": 23,
   "id": "0b75cec3",
   "metadata": {
    "execution": {
     "iopub.execute_input": "2024-04-30T15:31:59.879304Z",
     "iopub.status.busy": "2024-04-30T15:31:59.878498Z",
     "iopub.status.idle": "2024-04-30T15:31:59.885831Z",
     "shell.execute_reply": "2024-04-30T15:31:59.885006Z"
    },
    "papermill": {
     "duration": 0.024441,
     "end_time": "2024-04-30T15:31:59.888063",
     "exception": false,
     "start_time": "2024-04-30T15:31:59.863622",
     "status": "completed"
    },
    "tags": []
   },
   "outputs": [
    {
     "data": {
      "text/plain": [
       "32"
      ]
     },
     "execution_count": 23,
     "metadata": {},
     "output_type": "execute_result"
    }
   ],
   "source": [
    "df['brand'].nunique()"
   ]
  },
  {
   "cell_type": "code",
   "execution_count": 24,
   "id": "fb630c8f",
   "metadata": {
    "execution": {
     "iopub.execute_input": "2024-04-30T15:31:59.918100Z",
     "iopub.status.busy": "2024-04-30T15:31:59.917311Z",
     "iopub.status.idle": "2024-04-30T15:31:59.921626Z",
     "shell.execute_reply": "2024-04-30T15:31:59.920805Z"
    },
    "papermill": {
     "duration": 0.022717,
     "end_time": "2024-04-30T15:31:59.924039",
     "exception": false,
     "start_time": "2024-04-30T15:31:59.901322",
     "status": "completed"
    },
    "tags": []
   },
   "outputs": [],
   "source": [
    "threshold = 100"
   ]
  },
  {
   "cell_type": "code",
   "execution_count": 25,
   "id": "f7ab3b1e",
   "metadata": {
    "execution": {
     "iopub.execute_input": "2024-04-30T15:31:59.953563Z",
     "iopub.status.busy": "2024-04-30T15:31:59.953114Z",
     "iopub.status.idle": "2024-04-30T15:31:59.959727Z",
     "shell.execute_reply": "2024-04-30T15:31:59.958298Z"
    },
    "papermill": {
     "duration": 0.024011,
     "end_time": "2024-04-30T15:31:59.962253",
     "exception": false,
     "start_time": "2024-04-30T15:31:59.938242",
     "status": "completed"
    },
    "tags": []
   },
   "outputs": [],
   "source": [
    "repl=counts[counts<=threshold].index"
   ]
  },
  {
   "cell_type": "code",
   "execution_count": 26,
   "id": "908dc1e1",
   "metadata": {
    "execution": {
     "iopub.execute_input": "2024-04-30T15:31:59.991173Z",
     "iopub.status.busy": "2024-04-30T15:31:59.989904Z",
     "iopub.status.idle": "2024-04-30T15:32:00.026234Z",
     "shell.execute_reply": "2024-04-30T15:32:00.024801Z"
    },
    "papermill": {
     "duration": 0.053527,
     "end_time": "2024-04-30T15:32:00.028877",
     "exception": false,
     "start_time": "2024-04-30T15:31:59.975350",
     "status": "completed"
    },
    "tags": []
   },
   "outputs": [
    {
     "data": {
      "text/html": [
       "<div>\n",
       "<style scoped>\n",
       "    .dataframe tbody tr th:only-of-type {\n",
       "        vertical-align: middle;\n",
       "    }\n",
       "\n",
       "    .dataframe tbody tr th {\n",
       "        vertical-align: top;\n",
       "    }\n",
       "\n",
       "    .dataframe thead th {\n",
       "        text-align: right;\n",
       "    }\n",
       "</style>\n",
       "<table border=\"1\" class=\"dataframe\">\n",
       "  <thead>\n",
       "    <tr style=\"text-align: right;\">\n",
       "      <th></th>\n",
       "      <th>BMW</th>\n",
       "      <th>Chevrolet</th>\n",
       "      <th>Ford</th>\n",
       "      <th>Honda</th>\n",
       "      <th>Hyundai</th>\n",
       "      <th>Mahindra</th>\n",
       "      <th>Maruti</th>\n",
       "      <th>Renault</th>\n",
       "      <th>Skoda</th>\n",
       "      <th>Tata</th>\n",
       "      <th>Toyota</th>\n",
       "      <th>Volkswagen</th>\n",
       "      <th>uncommon</th>\n",
       "    </tr>\n",
       "  </thead>\n",
       "  <tbody>\n",
       "    <tr>\n",
       "      <th>2273</th>\n",
       "      <td>False</td>\n",
       "      <td>False</td>\n",
       "      <td>False</td>\n",
       "      <td>False</td>\n",
       "      <td>False</td>\n",
       "      <td>False</td>\n",
       "      <td>False</td>\n",
       "      <td>False</td>\n",
       "      <td>False</td>\n",
       "      <td>False</td>\n",
       "      <td>True</td>\n",
       "      <td>False</td>\n",
       "      <td>False</td>\n",
       "    </tr>\n",
       "    <tr>\n",
       "      <th>6261</th>\n",
       "      <td>False</td>\n",
       "      <td>False</td>\n",
       "      <td>False</td>\n",
       "      <td>False</td>\n",
       "      <td>True</td>\n",
       "      <td>False</td>\n",
       "      <td>False</td>\n",
       "      <td>False</td>\n",
       "      <td>False</td>\n",
       "      <td>False</td>\n",
       "      <td>False</td>\n",
       "      <td>False</td>\n",
       "      <td>False</td>\n",
       "    </tr>\n",
       "    <tr>\n",
       "      <th>563</th>\n",
       "      <td>False</td>\n",
       "      <td>False</td>\n",
       "      <td>False</td>\n",
       "      <td>False</td>\n",
       "      <td>True</td>\n",
       "      <td>False</td>\n",
       "      <td>False</td>\n",
       "      <td>False</td>\n",
       "      <td>False</td>\n",
       "      <td>False</td>\n",
       "      <td>False</td>\n",
       "      <td>False</td>\n",
       "      <td>False</td>\n",
       "    </tr>\n",
       "    <tr>\n",
       "      <th>1512</th>\n",
       "      <td>False</td>\n",
       "      <td>False</td>\n",
       "      <td>False</td>\n",
       "      <td>False</td>\n",
       "      <td>False</td>\n",
       "      <td>False</td>\n",
       "      <td>True</td>\n",
       "      <td>False</td>\n",
       "      <td>False</td>\n",
       "      <td>False</td>\n",
       "      <td>False</td>\n",
       "      <td>False</td>\n",
       "      <td>False</td>\n",
       "    </tr>\n",
       "    <tr>\n",
       "      <th>2686</th>\n",
       "      <td>False</td>\n",
       "      <td>False</td>\n",
       "      <td>False</td>\n",
       "      <td>False</td>\n",
       "      <td>False</td>\n",
       "      <td>True</td>\n",
       "      <td>False</td>\n",
       "      <td>False</td>\n",
       "      <td>False</td>\n",
       "      <td>False</td>\n",
       "      <td>False</td>\n",
       "      <td>False</td>\n",
       "      <td>False</td>\n",
       "    </tr>\n",
       "  </tbody>\n",
       "</table>\n",
       "</div>"
      ],
      "text/plain": [
       "        BMW  Chevrolet   Ford  Honda  Hyundai  Mahindra  Maruti  Renault  \\\n",
       "2273  False      False  False  False    False     False   False    False   \n",
       "6261  False      False  False  False     True     False   False    False   \n",
       "563   False      False  False  False     True     False   False    False   \n",
       "1512  False      False  False  False    False     False    True    False   \n",
       "2686  False      False  False  False    False      True   False    False   \n",
       "\n",
       "      Skoda   Tata  Toyota  Volkswagen  uncommon  \n",
       "2273  False  False    True       False     False  \n",
       "6261  False  False   False       False     False  \n",
       "563   False  False   False       False     False  \n",
       "1512  False  False   False       False     False  \n",
       "2686  False  False   False       False     False  "
      ]
     },
     "execution_count": 26,
     "metadata": {},
     "output_type": "execute_result"
    }
   ],
   "source": [
    "pd.get_dummies(df['brand'].replace(repl,'uncommon')).sample(5)"
   ]
  },
  {
   "cell_type": "code",
   "execution_count": null,
   "id": "05eebaad",
   "metadata": {
    "papermill": {
     "duration": 0.013124,
     "end_time": "2024-04-30T15:32:00.055611",
     "exception": false,
     "start_time": "2024-04-30T15:32:00.042487",
     "status": "completed"
    },
    "tags": []
   },
   "outputs": [],
   "source": []
  }
 ],
 "metadata": {
  "kaggle": {
   "accelerator": "none",
   "dataSources": [
    {
     "datasetId": 4654881,
     "sourceId": 7921121,
     "sourceType": "datasetVersion"
    }
   ],
   "dockerImageVersionId": 30698,
   "isGpuEnabled": false,
   "isInternetEnabled": false,
   "language": "python",
   "sourceType": "notebook"
  },
  "kernelspec": {
   "display_name": "Python 3",
   "language": "python",
   "name": "python3"
  },
  "language_info": {
   "codemirror_mode": {
    "name": "ipython",
    "version": 3
   },
   "file_extension": ".py",
   "mimetype": "text/x-python",
   "name": "python",
   "nbconvert_exporter": "python",
   "pygments_lexer": "ipython3",
   "version": "3.10.13"
  },
  "papermill": {
   "default_parameters": {},
   "duration": 7.86936,
   "end_time": "2024-04-30T15:32:00.892535",
   "environment_variables": {},
   "exception": null,
   "input_path": "__notebook__.ipynb",
   "output_path": "__notebook__.ipynb",
   "parameters": {},
   "start_time": "2024-04-30T15:31:53.023175",
   "version": "2.5.0"
  }
 },
 "nbformat": 4,
 "nbformat_minor": 5
}
