{
 "cells": [
  {
   "cell_type": "code",
   "execution_count": 1,
   "id": "089a0c8b",
   "metadata": {
    "_cell_guid": "b1076dfc-b9ad-4769-8c92-a6c4dae69d19",
    "_uuid": "8f2839f25d086af736a60e9eeb907d3b93b6e0e5",
    "execution": {
     "iopub.execute_input": "2024-05-11T06:19:53.750914Z",
     "iopub.status.busy": "2024-05-11T06:19:53.750516Z",
     "iopub.status.idle": "2024-05-11T06:19:54.455069Z",
     "shell.execute_reply": "2024-05-11T06:19:54.454226Z"
    },
    "papermill": {
     "duration": 0.711857,
     "end_time": "2024-05-11T06:19:54.457774",
     "exception": false,
     "start_time": "2024-05-11T06:19:53.745917",
     "status": "completed"
    },
    "tags": []
   },
   "outputs": [],
   "source": [
    "import numpy as np\n",
    "import pandas as pd"
   ]
  },
  {
   "cell_type": "code",
   "execution_count": 2,
   "id": "fe44a729",
   "metadata": {
    "execution": {
     "iopub.execute_input": "2024-05-11T06:19:54.464367Z",
     "iopub.status.busy": "2024-05-11T06:19:54.463936Z",
     "iopub.status.idle": "2024-05-11T06:19:54.479552Z",
     "shell.execute_reply": "2024-05-11T06:19:54.478791Z"
    },
    "papermill": {
     "duration": 0.021331,
     "end_time": "2024-05-11T06:19:54.481665",
     "exception": false,
     "start_time": "2024-05-11T06:19:54.460334",
     "status": "completed"
    },
    "tags": []
   },
   "outputs": [],
   "source": [
    "df = pd.read_csv('/kaggle/input/titanic/titanic.csv')"
   ]
  },
  {
   "cell_type": "code",
   "execution_count": 3,
   "id": "1f63e0f0",
   "metadata": {
    "execution": {
     "iopub.execute_input": "2024-05-11T06:19:54.487390Z",
     "iopub.status.busy": "2024-05-11T06:19:54.487087Z",
     "iopub.status.idle": "2024-05-11T06:19:54.503687Z",
     "shell.execute_reply": "2024-05-11T06:19:54.502999Z"
    },
    "papermill": {
     "duration": 0.02151,
     "end_time": "2024-05-11T06:19:54.505448",
     "exception": false,
     "start_time": "2024-05-11T06:19:54.483938",
     "status": "completed"
    },
    "tags": []
   },
   "outputs": [
    {
     "data": {
      "text/html": [
       "<div>\n",
       "<style scoped>\n",
       "    .dataframe tbody tr th:only-of-type {\n",
       "        vertical-align: middle;\n",
       "    }\n",
       "\n",
       "    .dataframe tbody tr th {\n",
       "        vertical-align: top;\n",
       "    }\n",
       "\n",
       "    .dataframe thead th {\n",
       "        text-align: right;\n",
       "    }\n",
       "</style>\n",
       "<table border=\"1\" class=\"dataframe\">\n",
       "  <thead>\n",
       "    <tr style=\"text-align: right;\">\n",
       "      <th></th>\n",
       "      <th>Cabin</th>\n",
       "      <th>Ticket</th>\n",
       "      <th>number</th>\n",
       "      <th>Survived</th>\n",
       "    </tr>\n",
       "  </thead>\n",
       "  <tbody>\n",
       "    <tr>\n",
       "      <th>0</th>\n",
       "      <td>NaN</td>\n",
       "      <td>A/5 21171</td>\n",
       "      <td>5</td>\n",
       "      <td>0</td>\n",
       "    </tr>\n",
       "    <tr>\n",
       "      <th>1</th>\n",
       "      <td>C85</td>\n",
       "      <td>PC 17599</td>\n",
       "      <td>3</td>\n",
       "      <td>1</td>\n",
       "    </tr>\n",
       "    <tr>\n",
       "      <th>2</th>\n",
       "      <td>NaN</td>\n",
       "      <td>STON/O2. 3101282</td>\n",
       "      <td>6</td>\n",
       "      <td>1</td>\n",
       "    </tr>\n",
       "    <tr>\n",
       "      <th>3</th>\n",
       "      <td>C123</td>\n",
       "      <td>113803</td>\n",
       "      <td>3</td>\n",
       "      <td>1</td>\n",
       "    </tr>\n",
       "    <tr>\n",
       "      <th>4</th>\n",
       "      <td>NaN</td>\n",
       "      <td>373450</td>\n",
       "      <td>A</td>\n",
       "      <td>0</td>\n",
       "    </tr>\n",
       "  </tbody>\n",
       "</table>\n",
       "</div>"
      ],
      "text/plain": [
       "  Cabin            Ticket number  Survived\n",
       "0   NaN         A/5 21171      5         0\n",
       "1   C85          PC 17599      3         1\n",
       "2   NaN  STON/O2. 3101282      6         1\n",
       "3  C123            113803      3         1\n",
       "4   NaN            373450      A         0"
      ]
     },
     "execution_count": 3,
     "metadata": {},
     "output_type": "execute_result"
    }
   ],
   "source": [
    "df.head()"
   ]
  },
  {
   "cell_type": "code",
   "execution_count": 4,
   "id": "e901b114",
   "metadata": {
    "execution": {
     "iopub.execute_input": "2024-05-11T06:19:54.511726Z",
     "iopub.status.busy": "2024-05-11T06:19:54.510936Z",
     "iopub.status.idle": "2024-05-11T06:19:54.519418Z",
     "shell.execute_reply": "2024-05-11T06:19:54.518331Z"
    },
    "papermill": {
     "duration": 0.013712,
     "end_time": "2024-05-11T06:19:54.521552",
     "exception": false,
     "start_time": "2024-05-11T06:19:54.507840",
     "status": "completed"
    },
    "tags": []
   },
   "outputs": [
    {
     "data": {
      "text/plain": [
       "array(['5', '3', '6', 'A', '2', '1', '4'], dtype=object)"
      ]
     },
     "execution_count": 4,
     "metadata": {},
     "output_type": "execute_result"
    }
   ],
   "source": [
    "df['number'].unique()"
   ]
  },
  {
   "cell_type": "code",
   "execution_count": 5,
   "id": "b1990cff",
   "metadata": {
    "execution": {
     "iopub.execute_input": "2024-05-11T06:19:54.527960Z",
     "iopub.status.busy": "2024-05-11T06:19:54.527650Z",
     "iopub.status.idle": "2024-05-11T06:19:54.813879Z",
     "shell.execute_reply": "2024-05-11T06:19:54.812776Z"
    },
    "papermill": {
     "duration": 0.294895,
     "end_time": "2024-05-11T06:19:54.818977",
     "exception": false,
     "start_time": "2024-05-11T06:19:54.524082",
     "status": "completed"
    },
    "tags": []
   },
   "outputs": [
    {
     "data": {
      "text/plain": [
       "Text(0.5, 1.0, 'Passengers travelling with')"
      ]
     },
     "execution_count": 5,
     "metadata": {},
     "output_type": "execute_result"
    },
    {
     "data": {
      "image/png": "[encoded data removed]",
      "text/plain": [
       "<Figure size 640x480 with 1 Axes>"
      ]
     },
     "metadata": {},
     "output_type": "display_data"
    }
   ],
   "source": [
    "fig = df['number'].value_counts().plot.bar()\n",
    "fig.set_title('Passengers travelling with')"
   ]
  },
  {
   "cell_type": "code",
   "execution_count": 6,
   "id": "0a7478c0",
   "metadata": {
    "execution": {
     "iopub.execute_input": "2024-05-11T06:19:54.826537Z",
     "iopub.status.busy": "2024-05-11T06:19:54.826201Z",
     "iopub.status.idle": "2024-05-11T06:19:54.832526Z",
     "shell.execute_reply": "2024-05-11T06:19:54.831719Z"
    },
    "papermill": {
     "duration": 0.012345,
     "end_time": "2024-05-11T06:19:54.834474",
     "exception": false,
     "start_time": "2024-05-11T06:19:54.822129",
     "status": "completed"
    },
    "tags": []
   },
   "outputs": [],
   "source": [
    "# extract numerical part\n",
    "df['number_numerical'] = pd.to_numeric(df[\"number\"],errors='coerce',downcast='integer')"
   ]
  }
 ],
 "metadata": {
  "kaggle": {
   "accelerator": "none",
   "dataSources": [
    {
     "datasetId": 4983934,
     "sourceId": 8381047,
     "sourceType": "datasetVersion"
    }
   ],
   "dockerImageVersionId": 30698,
   "isGpuEnabled": false,
   "isInternetEnabled": false,
   "language": "python",
   "sourceType": "notebook"
  },
  "kernelspec": {
   "display_name": "Python 3",
   "language": "python",
   "name": "python3"
  },
  "language_info": {
   "codemirror_mode": {
    "name": "ipython",
    "version": 3
   },
   "file_extension": ".py",
   "mimetype": "text/x-python",
   "name": "python",
   "nbconvert_exporter": "python",
   "pygments_lexer": "ipython3",
   "version": "3.10.13"
  },
  "papermill": {
   "default_parameters": {},
   "duration": 3.976108,
   "end_time": "2024-05-11T06:19:55.255347",
   "environment_variables": {},
   "exception": null,
   "input_path": "__notebook__.ipynb",
   "output_path": "__notebook__.ipynb",
   "parameters": {},
   "start_time": "2024-05-11T06:19:51.279239",
   "version": "2.5.0"
  }
 },
 "nbformat": 4,
 "nbformat_minor": 5
}
