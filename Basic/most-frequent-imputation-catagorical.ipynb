{
 "cells": [
  {
   "cell_type": "code",
   "execution_count": 1,
   "id": "e4101588",
   "metadata": {
    "_cell_guid": "b1076dfc-b9ad-4769-8c92-a6c4dae69d19",
    "_uuid": "8f2839f25d086af736a60e9eeb907d3b93b6e0e5",
    "execution": {
     "iopub.execute_input": "2024-05-15T18:36:43.320408Z",
     "iopub.status.busy": "2024-05-15T18:36:43.319663Z",
     "iopub.status.idle": "2024-05-15T18:36:44.290772Z",
     "shell.execute_reply": "2024-05-15T18:36:44.289852Z"
    },
    "papermill": {
     "duration": 0.978277,
     "end_time": "2024-05-15T18:36:44.293240",
     "exception": false,
     "start_time": "2024-05-15T18:36:43.314963",
     "status": "completed"
    },
    "tags": []
   },
   "outputs": [],
   "source": [
    "import pandas as pd\n",
    "import numpy as np\n",
    "import matplotlib.pyplot as plt"
   ]
  },
  {
   "cell_type": "code",
   "execution_count": 2,
   "id": "91358b7d",
   "metadata": {
    "execution": {
     "iopub.execute_input": "2024-05-15T18:36:44.301247Z",
     "iopub.status.busy": "2024-05-15T18:36:44.300028Z",
     "iopub.status.idle": "2024-05-15T18:36:44.341619Z",
     "shell.execute_reply": "2024-05-15T18:36:44.340290Z"
    },
    "papermill": {
     "duration": 0.048084,
     "end_time": "2024-05-15T18:36:44.344312",
     "exception": false,
     "start_time": "2024-05-15T18:36:44.296228",
     "status": "completed"
    },
    "tags": []
   },
   "outputs": [],
   "source": [
    "df = pd.read_csv('/kaggle/input/train1/train1.csv',usecols=['GarageQual','FireplaceQu','SalePrice'])"
   ]
  },
  {
   "cell_type": "code",
   "execution_count": 3,
   "id": "8cba5505",
   "metadata": {
    "execution": {
     "iopub.execute_input": "2024-05-15T18:36:44.352216Z",
     "iopub.status.busy": "2024-05-15T18:36:44.350801Z",
     "iopub.status.idle": "2024-05-15T18:36:44.373757Z",
     "shell.execute_reply": "2024-05-15T18:36:44.372981Z"
    },
    "papermill": {
     "duration": 0.029701,
     "end_time": "2024-05-15T18:36:44.376724",
     "exception": false,
     "start_time": "2024-05-15T18:36:44.347023",
     "status": "completed"
    },
    "tags": []
   },
   "outputs": [
    {
     "data": {
      "text/html": [
       "<div>\n",
       "<style scoped>\n",
       "    .dataframe tbody tr th:only-of-type {\n",
       "        vertical-align: middle;\n",
       "    }\n",
       "\n",
       "    .dataframe tbody tr th {\n",
       "        vertical-align: top;\n",
       "    }\n",
       "\n",
       "    .dataframe thead th {\n",
       "        text-align: right;\n",
       "    }\n",
       "</style>\n",
       "<table border=\"1\" class=\"dataframe\">\n",
       "  <thead>\n",
       "    <tr style=\"text-align: right;\">\n",
       "      <th></th>\n",
       "      <th>FireplaceQu</th>\n",
       "      <th>GarageQual</th>\n",
       "      <th>SalePrice</th>\n",
       "    </tr>\n",
       "  </thead>\n",
       "  <tbody>\n",
       "    <tr>\n",
       "      <th>0</th>\n",
       "      <td>NaN</td>\n",
       "      <td>TA</td>\n",
       "      <td>208500</td>\n",
       "    </tr>\n",
       "    <tr>\n",
       "      <th>1</th>\n",
       "      <td>TA</td>\n",
       "      <td>TA</td>\n",
       "      <td>181500</td>\n",
       "    </tr>\n",
       "    <tr>\n",
       "      <th>2</th>\n",
       "      <td>TA</td>\n",
       "      <td>TA</td>\n",
       "      <td>223500</td>\n",
       "    </tr>\n",
       "    <tr>\n",
       "      <th>3</th>\n",
       "      <td>Gd</td>\n",
       "      <td>TA</td>\n",
       "      <td>140000</td>\n",
       "    </tr>\n",
       "    <tr>\n",
       "      <th>4</th>\n",
       "      <td>TA</td>\n",
       "      <td>TA</td>\n",
       "      <td>250000</td>\n",
       "    </tr>\n",
       "  </tbody>\n",
       "</table>\n",
       "</div>"
      ],
      "text/plain": [
       "  FireplaceQu GarageQual  SalePrice\n",
       "0         NaN         TA     208500\n",
       "1          TA         TA     181500\n",
       "2          TA         TA     223500\n",
       "3          Gd         TA     140000\n",
       "4          TA         TA     250000"
      ]
     },
     "execution_count": 3,
     "metadata": {},
     "output_type": "execute_result"
    }
   ],
   "source": [
    "df.head()"
   ]
  },
  {
   "cell_type": "code",
   "execution_count": 4,
   "id": "bcf585f4",
   "metadata": {
    "execution": {
     "iopub.execute_input": "2024-05-15T18:36:44.384553Z",
     "iopub.status.busy": "2024-05-15T18:36:44.384217Z",
     "iopub.status.idle": "2024-05-15T18:36:44.397023Z",
     "shell.execute_reply": "2024-05-15T18:36:44.395923Z"
    },
    "papermill": {
     "duration": 0.018879,
     "end_time": "2024-05-15T18:36:44.399370",
     "exception": false,
     "start_time": "2024-05-15T18:36:44.380491",
     "status": "completed"
    },
    "tags": []
   },
   "outputs": [
    {
     "data": {
      "text/plain": [
       "FireplaceQu    47.260274\n",
       "GarageQual      5.547945\n",
       "SalePrice       0.000000\n",
       "dtype: float64"
      ]
     },
     "execution_count": 4,
     "metadata": {},
     "output_type": "execute_result"
    }
   ],
   "source": [
    "df.isnull().mean()*100"
   ]
  },
  {
   "cell_type": "code",
   "execution_count": 5,
   "id": "5b056713",
   "metadata": {
    "execution": {
     "iopub.execute_input": "2024-05-15T18:36:44.406484Z",
     "iopub.status.busy": "2024-05-15T18:36:44.406151Z",
     "iopub.status.idle": "2024-05-15T18:36:44.696775Z",
     "shell.execute_reply": "2024-05-15T18:36:44.695907Z"
    },
    "papermill": {
     "duration": 0.297174,
     "end_time": "2024-05-15T18:36:44.699404",
     "exception": false,
     "start_time": "2024-05-15T18:36:44.402230",
     "status": "completed"
    },
    "tags": []
   },
   "outputs": [
    {
     "data": {
      "text/plain": [
       "<Axes: xlabel='GarageQual'>"
      ]
     },
     "execution_count": 5,
     "metadata": {},
     "output_type": "execute_result"
    },
    {
     "data": {
      "image/png": "[encoded data removed]",
      "text/plain": [
       "<Figure size 640x480 with 1 Axes>"
      ]
     },
     "metadata": {},
     "output_type": "display_data"
    }
   ],
   "source": [
    "df['GarageQual'].value_counts().plot(kind='bar')"
   ]
  },
  {
   "cell_type": "code",
   "execution_count": 6,
   "id": "202f0eee",
   "metadata": {
    "execution": {
     "iopub.execute_input": "2024-05-15T18:36:44.711728Z",
     "iopub.status.busy": "2024-05-15T18:36:44.710597Z",
     "iopub.status.idle": "2024-05-15T18:36:44.718420Z",
     "shell.execute_reply": "2024-05-15T18:36:44.717583Z"
    },
    "papermill": {
     "duration": 0.01654,
     "end_time": "2024-05-15T18:36:44.720945",
     "exception": false,
     "start_time": "2024-05-15T18:36:44.704405",
     "status": "completed"
    },
    "tags": []
   },
   "outputs": [
    {
     "data": {
      "text/plain": [
       "0    TA\n",
       "Name: GarageQual, dtype: object"
      ]
     },
     "execution_count": 6,
     "metadata": {},
     "output_type": "execute_result"
    }
   ],
   "source": [
    "df['GarageQual'].mode()"
   ]
  },
  {
   "cell_type": "code",
   "execution_count": null,
   "id": "537e84cb",
   "metadata": {
    "papermill": {
     "duration": 0.004818,
     "end_time": "2024-05-15T18:36:44.731162",
     "exception": false,
     "start_time": "2024-05-15T18:36:44.726344",
     "status": "completed"
    },
    "tags": []
   },
   "outputs": [],
   "source": []
  }
 ],
 "metadata": {
  "kaggle": {
   "accelerator": "none",
   "dataSources": [
    {
     "datasetId": 3484025,
     "sourceId": 6084836,
     "sourceType": "datasetVersion"
    }
   ],
   "dockerImageVersionId": 30698,
   "isGpuEnabled": false,
   "isInternetEnabled": false,
   "language": "python",
   "sourceType": "notebook"
  },
  "kernelspec": {
   "display_name": "Python 3",
   "language": "python",
   "name": "python3"
  },
  "language_info": {
   "codemirror_mode": {
    "name": "ipython",
    "version": 3
   },
   "file_extension": ".py",
   "mimetype": "text/x-python",
   "name": "python",
   "nbconvert_exporter": "python",
   "pygments_lexer": "ipython3",
   "version": "3.10.13"
  },
  "papermill": {
   "default_parameters": {},
   "duration": 4.816947,
   "end_time": "2024-05-15T18:36:45.259257",
   "environment_variables": {},
   "exception": null,
   "input_path": "__notebook__.ipynb",
   "output_path": "__notebook__.ipynb",
   "parameters": {},
   "start_time": "2024-05-15T18:36:40.442310",
   "version": "2.5.0"
  }
 },
 "nbformat": 4,
 "nbformat_minor": 5
}
