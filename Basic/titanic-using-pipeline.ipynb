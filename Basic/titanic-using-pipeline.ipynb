{
 "cells": [
  {
   "cell_type": "code",
   "execution_count": 1,
   "id": "7521dec6",
   "metadata": {
    "_cell_guid": "b1076dfc-b9ad-4769-8c92-a6c4dae69d19",
    "_uuid": "8f2839f25d086af736a60e9eeb907d3b93b6e0e5",
    "execution": {
     "iopub.execute_input": "2024-05-04T05:55:24.445510Z",
     "iopub.status.busy": "2024-05-04T05:55:24.444976Z",
     "iopub.status.idle": "2024-05-04T05:55:25.124665Z",
     "shell.execute_reply": "2024-05-04T05:55:25.123816Z"
    },
    "papermill": {
     "duration": 0.690359,
     "end_time": "2024-05-04T05:55:25.126822",
     "exception": false,
     "start_time": "2024-05-04T05:55:24.436463",
     "status": "completed"
    },
    "tags": []
   },
   "outputs": [],
   "source": [
    "import numpy as np\n",
    "import pandas as pd"
   ]
  },
  {
   "cell_type": "code",
   "execution_count": 2,
   "id": "1fa26de0",
   "metadata": {
    "execution": {
     "iopub.execute_input": "2024-05-04T05:55:25.141155Z",
     "iopub.status.busy": "2024-05-04T05:55:25.140759Z",
     "iopub.status.idle": "2024-05-04T05:55:26.282261Z",
     "shell.execute_reply": "2024-05-04T05:55:26.281411Z"
    },
    "papermill": {
     "duration": 1.150817,
     "end_time": "2024-05-04T05:55:26.284439",
     "exception": false,
     "start_time": "2024-05-04T05:55:25.133622",
     "status": "completed"
    },
    "tags": []
   },
   "outputs": [],
   "source": [
    "from sklearn.model_selection import train_test_split\n",
    "from sklearn.compose import ColumnTransformer\n",
    "from sklearn.impute import SimpleImputer\n",
    "from sklearn.preprocessing import OneHotEncoder\n",
    "from sklearn.preprocessing import MinMaxScaler\n",
    "from sklearn.pipeline import Pipeline,make_pipeline\n",
    "from sklearn.feature_selection import SelectKBest,chi2\n",
    "from sklearn.tree import DecisionTreeClassifier"
   ]
  },
  {
   "cell_type": "code",
   "execution_count": 3,
   "id": "1b043492",
   "metadata": {
    "execution": {
     "iopub.execute_input": "2024-05-04T05:55:26.298576Z",
     "iopub.status.busy": "2024-05-04T05:55:26.298293Z",
     "iopub.status.idle": "2024-05-04T05:55:26.378423Z",
     "shell.execute_reply": "2024-05-04T05:55:26.377269Z"
    },
    "papermill": {
     "duration": 0.089309,
     "end_time": "2024-05-04T05:55:26.380439",
     "exception": false,
     "start_time": "2024-05-04T05:55:26.291130",
     "status": "completed"
    },
    "tags": []
   },
   "outputs": [],
   "source": [
    "df=pd.read_csv('/kaggle/input/data-science-day1-titanic/DSB_Day1_Titanic_train.csv')"
   ]
  },
  {
   "cell_type": "code",
   "execution_count": 4,
   "id": "ce5259ba",
   "metadata": {
    "execution": {
     "iopub.execute_input": "2024-05-04T05:55:26.396084Z",
     "iopub.status.busy": "2024-05-04T05:55:26.394818Z",
     "iopub.status.idle": "2024-05-04T05:55:26.422454Z",
     "shell.execute_reply": "2024-05-04T05:55:26.421771Z"
    },
    "papermill": {
     "duration": 0.037095,
     "end_time": "2024-05-04T05:55:26.424480",
     "exception": false,
     "start_time": "2024-05-04T05:55:26.387385",
     "status": "completed"
    },
    "tags": []
   },
   "outputs": [
    {
     "data": {
      "text/html": [
       "<div>\n",
       "<style scoped>\n",
       "    .dataframe tbody tr th:only-of-type {\n",
       "        vertical-align: middle;\n",
       "    }\n",
       "\n",
       "    .dataframe tbody tr th {\n",
       "        vertical-align: top;\n",
       "    }\n",
       "\n",
       "    .dataframe thead th {\n",
       "        text-align: right;\n",
       "    }\n",
       "</style>\n",
       "<table border=\"1\" class=\"dataframe\">\n",
       "  <thead>\n",
       "    <tr style=\"text-align: right;\">\n",
       "      <th></th>\n",
       "      <th>PassengerId</th>\n",
       "      <th>Survived</th>\n",
       "      <th>Pclass</th>\n",
       "      <th>Name</th>\n",
       "      <th>Sex</th>\n",
       "      <th>Age</th>\n",
       "      <th>SibSp</th>\n",
       "      <th>Parch</th>\n",
       "      <th>Ticket</th>\n",
       "      <th>Fare</th>\n",
       "      <th>Cabin</th>\n",
       "      <th>Embarked</th>\n",
       "    </tr>\n",
       "  </thead>\n",
       "  <tbody>\n",
       "    <tr>\n",
       "      <th>0</th>\n",
       "      <td>1</td>\n",
       "      <td>0</td>\n",
       "      <td>3</td>\n",
       "      <td>Braund, Mr. Owen Harris</td>\n",
       "      <td>male</td>\n",
       "      <td>22.0</td>\n",
       "      <td>1</td>\n",
       "      <td>0</td>\n",
       "      <td>A/5 21171</td>\n",
       "      <td>7.2500</td>\n",
       "      <td>NaN</td>\n",
       "      <td>S</td>\n",
       "    </tr>\n",
       "    <tr>\n",
       "      <th>1</th>\n",
       "      <td>2</td>\n",
       "      <td>1</td>\n",
       "      <td>1</td>\n",
       "      <td>Cumings, Mrs. John Bradley (Florence Briggs Th...</td>\n",
       "      <td>female</td>\n",
       "      <td>38.0</td>\n",
       "      <td>1</td>\n",
       "      <td>0</td>\n",
       "      <td>PC 17599</td>\n",
       "      <td>71.2833</td>\n",
       "      <td>C85</td>\n",
       "      <td>C</td>\n",
       "    </tr>\n",
       "    <tr>\n",
       "      <th>2</th>\n",
       "      <td>3</td>\n",
       "      <td>1</td>\n",
       "      <td>3</td>\n",
       "      <td>Heikkinen, Miss. Laina</td>\n",
       "      <td>female</td>\n",
       "      <td>26.0</td>\n",
       "      <td>0</td>\n",
       "      <td>0</td>\n",
       "      <td>STON/O2. 3101282</td>\n",
       "      <td>7.9250</td>\n",
       "      <td>NaN</td>\n",
       "      <td>S</td>\n",
       "    </tr>\n",
       "    <tr>\n",
       "      <th>3</th>\n",
       "      <td>4</td>\n",
       "      <td>1</td>\n",
       "      <td>1</td>\n",
       "      <td>Futrelle, Mrs. Jacques Heath (Lily May Peel)</td>\n",
       "      <td>female</td>\n",
       "      <td>35.0</td>\n",
       "      <td>1</td>\n",
       "      <td>0</td>\n",
       "      <td>113803</td>\n",
       "      <td>53.1000</td>\n",
       "      <td>C123</td>\n",
       "      <td>S</td>\n",
       "    </tr>\n",
       "    <tr>\n",
       "      <th>4</th>\n",
       "      <td>5</td>\n",
       "      <td>0</td>\n",
       "      <td>3</td>\n",
       "      <td>Allen, Mr. William Henry</td>\n",
       "      <td>male</td>\n",
       "      <td>35.0</td>\n",
       "      <td>0</td>\n",
       "      <td>0</td>\n",
       "      <td>373450</td>\n",
       "      <td>8.0500</td>\n",
       "      <td>NaN</td>\n",
       "      <td>S</td>\n",
       "    </tr>\n",
       "  </tbody>\n",
       "</table>\n",
       "</div>"
      ],
      "text/plain": [
       "   PassengerId  Survived  Pclass  \\\n",
       "0            1         0       3   \n",
       "1            2         1       1   \n",
       "2            3         1       3   \n",
       "3            4         1       1   \n",
       "4            5         0       3   \n",
       "\n",
       "                                                Name     Sex   Age  SibSp  \\\n",
       "0                            Braund, Mr. Owen Harris    male  22.0      1   \n",
       "1  Cumings, Mrs. John Bradley (Florence Briggs Th...  female  38.0      1   \n",
       "2                             Heikkinen, Miss. Laina  female  26.0      0   \n",
       "3       Futrelle, Mrs. Jacques Heath (Lily May Peel)  female  35.0      1   \n",
       "4                           Allen, Mr. William Henry    male  35.0      0   \n",
       "\n",
       "   Parch            Ticket     Fare Cabin Embarked  \n",
       "0      0         A/5 21171   7.2500   NaN        S  \n",
       "1      0          PC 17599  71.2833   C85        C  \n",
       "2      0  STON/O2. 3101282   7.9250   NaN        S  \n",
       "3      0            113803  53.1000  C123        S  \n",
       "4      0            373450   8.0500   NaN        S  "
      ]
     },
     "execution_count": 4,
     "metadata": {},
     "output_type": "execute_result"
    }
   ],
   "source": [
    "df.head()"
   ]
  },
  {
   "cell_type": "code",
   "execution_count": 5,
   "id": "575c3656",
   "metadata": {
    "execution": {
     "iopub.execute_input": "2024-05-04T05:55:26.438477Z",
     "iopub.status.busy": "2024-05-04T05:55:26.438266Z",
     "iopub.status.idle": "2024-05-04T05:55:26.446727Z",
     "shell.execute_reply": "2024-05-04T05:55:26.445882Z"
    },
    "papermill": {
     "duration": 0.017804,
     "end_time": "2024-05-04T05:55:26.448965",
     "exception": false,
     "start_time": "2024-05-04T05:55:26.431161",
     "status": "completed"
    },
    "tags": []
   },
   "outputs": [],
   "source": [
    "df.drop(columns=['PassengerId','Name','Ticket','Cabin'],inplace=True)"
   ]
  },
  {
   "cell_type": "code",
   "execution_count": 6,
   "id": "0c7ba828",
   "metadata": {
    "execution": {
     "iopub.execute_input": "2024-05-04T05:55:26.463758Z",
     "iopub.status.busy": "2024-05-04T05:55:26.463535Z",
     "iopub.status.idle": "2024-05-04T05:55:26.472388Z",
     "shell.execute_reply": "2024-05-04T05:55:26.471522Z"
    },
    "papermill": {
     "duration": 0.017969,
     "end_time": "2024-05-04T05:55:26.474109",
     "exception": false,
     "start_time": "2024-05-04T05:55:26.456140",
     "status": "completed"
    },
    "tags": []
   },
   "outputs": [],
   "source": [
    "# Step 1 -> train/test/split\n",
    "X_train,X_test,y_train,y_test = train_test_split(df.drop(columns=['Survived']),\n",
    "                                                 df['Survived'],\n",
    "                                                 test_size=0.2,\n",
    "                                                random_state=42)"
   ]
  },
  {
   "cell_type": "code",
   "execution_count": 7,
   "id": "53ddcfe8",
   "metadata": {
    "execution": {
     "iopub.execute_input": "2024-05-04T05:55:26.489363Z",
     "iopub.status.busy": "2024-05-04T05:55:26.489080Z",
     "iopub.status.idle": "2024-05-04T05:55:26.498751Z",
     "shell.execute_reply": "2024-05-04T05:55:26.498209Z"
    },
    "papermill": {
     "duration": 0.018471,
     "end_time": "2024-05-04T05:55:26.500145",
     "exception": false,
     "start_time": "2024-05-04T05:55:26.481674",
     "status": "completed"
    },
    "tags": []
   },
   "outputs": [
    {
     "data": {
      "text/html": [
       "<div>\n",
       "<style scoped>\n",
       "    .dataframe tbody tr th:only-of-type {\n",
       "        vertical-align: middle;\n",
       "    }\n",
       "\n",
       "    .dataframe tbody tr th {\n",
       "        vertical-align: top;\n",
       "    }\n",
       "\n",
       "    .dataframe thead th {\n",
       "        text-align: right;\n",
       "    }\n",
       "</style>\n",
       "<table border=\"1\" class=\"dataframe\">\n",
       "  <thead>\n",
       "    <tr style=\"text-align: right;\">\n",
       "      <th></th>\n",
       "      <th>Pclass</th>\n",
       "      <th>Sex</th>\n",
       "      <th>Age</th>\n",
       "      <th>SibSp</th>\n",
       "      <th>Parch</th>\n",
       "      <th>Fare</th>\n",
       "      <th>Embarked</th>\n",
       "    </tr>\n",
       "  </thead>\n",
       "  <tbody>\n",
       "    <tr>\n",
       "      <th>331</th>\n",
       "      <td>1</td>\n",
       "      <td>male</td>\n",
       "      <td>45.5</td>\n",
       "      <td>0</td>\n",
       "      <td>0</td>\n",
       "      <td>28.5000</td>\n",
       "      <td>S</td>\n",
       "    </tr>\n",
       "    <tr>\n",
       "      <th>733</th>\n",
       "      <td>2</td>\n",
       "      <td>male</td>\n",
       "      <td>23.0</td>\n",
       "      <td>0</td>\n",
       "      <td>0</td>\n",
       "      <td>13.0000</td>\n",
       "      <td>S</td>\n",
       "    </tr>\n",
       "    <tr>\n",
       "      <th>382</th>\n",
       "      <td>3</td>\n",
       "      <td>male</td>\n",
       "      <td>32.0</td>\n",
       "      <td>0</td>\n",
       "      <td>0</td>\n",
       "      <td>7.9250</td>\n",
       "      <td>S</td>\n",
       "    </tr>\n",
       "    <tr>\n",
       "      <th>704</th>\n",
       "      <td>3</td>\n",
       "      <td>male</td>\n",
       "      <td>26.0</td>\n",
       "      <td>1</td>\n",
       "      <td>0</td>\n",
       "      <td>7.8542</td>\n",
       "      <td>S</td>\n",
       "    </tr>\n",
       "    <tr>\n",
       "      <th>813</th>\n",
       "      <td>3</td>\n",
       "      <td>female</td>\n",
       "      <td>6.0</td>\n",
       "      <td>4</td>\n",
       "      <td>2</td>\n",
       "      <td>31.2750</td>\n",
       "      <td>S</td>\n",
       "    </tr>\n",
       "  </tbody>\n",
       "</table>\n",
       "</div>"
      ],
      "text/plain": [
       "     Pclass     Sex   Age  SibSp  Parch     Fare Embarked\n",
       "331       1    male  45.5      0      0  28.5000        S\n",
       "733       2    male  23.0      0      0  13.0000        S\n",
       "382       3    male  32.0      0      0   7.9250        S\n",
       "704       3    male  26.0      1      0   7.8542        S\n",
       "813       3  female   6.0      4      2  31.2750        S"
      ]
     },
     "execution_count": 7,
     "metadata": {},
     "output_type": "execute_result"
    }
   ],
   "source": [
    "X_train.head()"
   ]
  },
  {
   "cell_type": "code",
   "execution_count": 8,
   "id": "9e50e910",
   "metadata": {
    "execution": {
     "iopub.execute_input": "2024-05-04T05:55:26.515477Z",
     "iopub.status.busy": "2024-05-04T05:55:26.514947Z",
     "iopub.status.idle": "2024-05-04T05:55:26.521812Z",
     "shell.execute_reply": "2024-05-04T05:55:26.521212Z"
    },
    "papermill": {
     "duration": 0.016411,
     "end_time": "2024-05-04T05:55:26.523247",
     "exception": false,
     "start_time": "2024-05-04T05:55:26.506836",
     "status": "completed"
    },
    "tags": []
   },
   "outputs": [
    {
     "data": {
      "text/plain": [
       "737    1\n",
       "533    1\n",
       "549    1\n",
       "612    1\n",
       "242    0\n",
       "Name: Survived, dtype: int64"
      ]
     },
     "execution_count": 8,
     "metadata": {},
     "output_type": "execute_result"
    }
   ],
   "source": [
    "y_train.sample(5)"
   ]
  },
  {
   "cell_type": "code",
   "execution_count": 9,
   "id": "87437dd9",
   "metadata": {
    "execution": {
     "iopub.execute_input": "2024-05-04T05:55:26.538395Z",
     "iopub.status.busy": "2024-05-04T05:55:26.537901Z",
     "iopub.status.idle": "2024-05-04T05:55:26.541617Z",
     "shell.execute_reply": "2024-05-04T05:55:26.541031Z"
    },
    "papermill": {
     "duration": 0.013075,
     "end_time": "2024-05-04T05:55:26.543030",
     "exception": false,
     "start_time": "2024-05-04T05:55:26.529955",
     "status": "completed"
    },
    "tags": []
   },
   "outputs": [],
   "source": [
    "# imputation transformer\n",
    "trf1 = ColumnTransformer([\n",
    "    ('impute_age',SimpleImputer(),[2]),\n",
    "    ('impute_embarked',SimpleImputer(strategy='most_frequent'),[6])\n",
    "],remainder='passthrough')"
   ]
  },
  {
   "cell_type": "code",
   "execution_count": 10,
   "id": "26db5f49",
   "metadata": {
    "execution": {
     "iopub.execute_input": "2024-05-04T05:55:26.558124Z",
     "iopub.status.busy": "2024-05-04T05:55:26.557567Z",
     "iopub.status.idle": "2024-05-04T05:55:26.561506Z",
     "shell.execute_reply": "2024-05-04T05:55:26.560881Z"
    },
    "papermill": {
     "duration": 0.013354,
     "end_time": "2024-05-04T05:55:26.563009",
     "exception": false,
     "start_time": "2024-05-04T05:55:26.549655",
     "status": "completed"
    },
    "tags": []
   },
   "outputs": [],
   "source": [
    "# one hot encoding\n",
    "trf2 = ColumnTransformer([\n",
    "    ('ohe_sex_embarked',OneHotEncoder(sparse=False,handle_unknown='ignore'),[1,6])\n",
    "],remainder='passthrough')"
   ]
  },
  {
   "cell_type": "code",
   "execution_count": 11,
   "id": "547c4763",
   "metadata": {
    "execution": {
     "iopub.execute_input": "2024-05-04T05:55:26.577670Z",
     "iopub.status.busy": "2024-05-04T05:55:26.577393Z",
     "iopub.status.idle": "2024-05-04T05:55:26.581675Z",
     "shell.execute_reply": "2024-05-04T05:55:26.580828Z"
    },
    "papermill": {
     "duration": 0.013869,
     "end_time": "2024-05-04T05:55:26.583608",
     "exception": false,
     "start_time": "2024-05-04T05:55:26.569739",
     "status": "completed"
    },
    "tags": []
   },
   "outputs": [],
   "source": [
    "# Scaling\n",
    "trf3 = ColumnTransformer([\n",
    "    ('scale',MinMaxScaler(),slice(0,10))\n",
    "])"
   ]
  },
  {
   "cell_type": "code",
   "execution_count": 12,
   "id": "2a0f9192",
   "metadata": {
    "execution": {
     "iopub.execute_input": "2024-05-04T05:55:26.598748Z",
     "iopub.status.busy": "2024-05-04T05:55:26.598486Z",
     "iopub.status.idle": "2024-05-04T05:55:26.602155Z",
     "shell.execute_reply": "2024-05-04T05:55:26.601399Z"
    },
    "papermill": {
     "duration": 0.012867,
     "end_time": "2024-05-04T05:55:26.603759",
     "exception": false,
     "start_time": "2024-05-04T05:55:26.590892",
     "status": "completed"
    },
    "tags": []
   },
   "outputs": [],
   "source": [
    "# Feature selection\n",
    "trf4 = SelectKBest(score_func=chi2,k=8)"
   ]
  },
  {
   "cell_type": "code",
   "execution_count": 13,
   "id": "6a9e0a25",
   "metadata": {
    "execution": {
     "iopub.execute_input": "2024-05-04T05:55:26.618448Z",
     "iopub.status.busy": "2024-05-04T05:55:26.618165Z",
     "iopub.status.idle": "2024-05-04T05:55:26.622215Z",
     "shell.execute_reply": "2024-05-04T05:55:26.621244Z"
    },
    "papermill": {
     "duration": 0.013327,
     "end_time": "2024-05-04T05:55:26.623888",
     "exception": false,
     "start_time": "2024-05-04T05:55:26.610561",
     "status": "completed"
    },
    "tags": []
   },
   "outputs": [],
   "source": [
    "# train the model\n",
    "trf5 = DecisionTreeClassifier()"
   ]
  },
  {
   "cell_type": "markdown",
   "id": "e042d4d0",
   "metadata": {
    "papermill": {
     "duration": 0.006527,
     "end_time": "2024-05-04T05:55:26.637470",
     "exception": false,
     "start_time": "2024-05-04T05:55:26.630943",
     "status": "completed"
    },
    "tags": []
   },
   "source": [
    "# **Create Pipeline**"
   ]
  },
  {
   "cell_type": "code",
   "execution_count": 14,
   "id": "8f82ee72",
   "metadata": {
    "execution": {
     "iopub.execute_input": "2024-05-04T05:55:26.652719Z",
     "iopub.status.busy": "2024-05-04T05:55:26.652405Z",
     "iopub.status.idle": "2024-05-04T05:55:26.656949Z",
     "shell.execute_reply": "2024-05-04T05:55:26.655918Z"
    },
    "papermill": {
     "duration": 0.014817,
     "end_time": "2024-05-04T05:55:26.659123",
     "exception": false,
     "start_time": "2024-05-04T05:55:26.644306",
     "status": "completed"
    },
    "tags": []
   },
   "outputs": [],
   "source": [
    "pipe = Pipeline([\n",
    "    ('trf1',trf1),\n",
    "    ('trf2',trf2),\n",
    "    ('trf3',trf3),\n",
    "    ('trf4',trf4),\n",
    "    ('trf5',trf5)\n",
    "])"
   ]
  },
  {
   "cell_type": "markdown",
   "id": "2914e624",
   "metadata": {
    "papermill": {
     "duration": 0.006618,
     "end_time": "2024-05-04T05:55:26.673043",
     "exception": false,
     "start_time": "2024-05-04T05:55:26.666425",
     "status": "completed"
    },
    "tags": []
   },
   "source": [
    "# **Pipeline Vs make_pipeline**\n",
    "Pipeline requires naming of steps, make_pipeline does not.\n",
    "\n",
    "(Same applies to ColumnTransformer vs make_column_transformer)"
   ]
  },
  {
   "cell_type": "code",
   "execution_count": 15,
   "id": "88aaf839",
   "metadata": {
    "execution": {
     "iopub.execute_input": "2024-05-04T05:55:26.688175Z",
     "iopub.status.busy": "2024-05-04T05:55:26.687714Z",
     "iopub.status.idle": "2024-05-04T05:55:26.690884Z",
     "shell.execute_reply": "2024-05-04T05:55:26.690324Z"
    },
    "papermill": {
     "duration": 0.012468,
     "end_time": "2024-05-04T05:55:26.692353",
     "exception": false,
     "start_time": "2024-05-04T05:55:26.679885",
     "status": "completed"
    },
    "tags": []
   },
   "outputs": [],
   "source": [
    "# Alternate Syntax\n",
    "pipe = make_pipeline(trf1,trf2,trf3,trf4,trf5)"
   ]
  },
  {
   "cell_type": "code",
   "execution_count": 16,
   "id": "4ca06411",
   "metadata": {
    "execution": {
     "iopub.execute_input": "2024-05-04T05:55:26.707486Z",
     "iopub.status.busy": "2024-05-04T05:55:26.707116Z",
     "iopub.status.idle": "2024-05-04T05:55:26.782033Z",
     "shell.execute_reply": "2024-05-04T05:55:26.780908Z"
    },
    "papermill": {
     "duration": 0.084774,
     "end_time": "2024-05-04T05:55:26.783913",
     "exception": false,
     "start_time": "2024-05-04T05:55:26.699139",
     "status": "completed"
    },
    "tags": []
   },
   "outputs": [
    {
     "name": "stderr",
     "output_type": "stream",
     "text": [
      "/opt/conda/lib/python3.10/site-packages/sklearn/preprocessing/_encoders.py:868: FutureWarning: `sparse` was renamed to `sparse_output` in version 1.2 and will be removed in 1.4. `sparse_output` is ignored unless you leave `sparse` to its default value.\n",
      "  warnings.warn(\n"
     ]
    },
    {
     "data": {
      "text/html": [
       "<style>#sk-container-id-1 {color: black;background-color: white;}#sk-container-id-1 pre{padding: 0;}#sk-container-id-1 div.sk-toggleable {background-color: white;}#sk-container-id-1 label.sk-toggleable__label {cursor: pointer;display: block;width: 100%;margin-bottom: 0;padding: 0.3em;box-sizing: border-box;text-align: center;}#sk-container-id-1 label.sk-toggleable__label-arrow:before {content: \"▸\";float: left;margin-right: 0.25em;color: #696969;}#sk-container-id-1 label.sk-toggleable__label-arrow:hover:before {color: black;}#sk-container-id-1 div.sk-estimator:hover label.sk-toggleable__label-arrow:before {color: black;}#sk-container-id-1 div.sk-toggleable__content {max-height: 0;max-width: 0;overflow: hidden;text-align: left;background-color: #f0f8ff;}#sk-container-id-1 div.sk-toggleable__content pre {margin: 0.2em;color: black;border-radius: 0.25em;background-color: #f0f8ff;}#sk-container-id-1 input.sk-toggleable__control:checked~div.sk-toggleable__content {max-height: 200px;max-width: 100%;overflow: auto;}#sk-container-id-1 input.sk-toggleable__control:checked~label.sk-toggleable__label-arrow:before {content: \"▾\";}#sk-container-id-1 div.sk-estimator input.sk-toggleable__control:checked~label.sk-toggleable__label {background-color: #d4ebff;}#sk-container-id-1 div.sk-label input.sk-toggleable__control:checked~label.sk-toggleable__label {background-color: #d4ebff;}#sk-container-id-1 input.sk-hidden--visually {border: 0;clip: rect(1px 1px 1px 1px);clip: rect(1px, 1px, 1px, 1px);height: 1px;margin: -1px;overflow: hidden;padding: 0;position: absolute;width: 1px;}#sk-container-id-1 div.sk-estimator {font-family: monospace;background-color: #f0f8ff;border: 1px dotted black;border-radius: 0.25em;box-sizing: border-box;margin-bottom: 0.5em;}#sk-container-id-1 div.sk-estimator:hover {background-color: #d4ebff;}#sk-container-id-1 div.sk-parallel-item::after {content: \"\";width: 100%;border-bottom: 1px solid gray;flex-grow: 1;}#sk-container-id-1 div.sk-label:hover label.sk-toggleable__label {background-color: #d4ebff;}#sk-container-id-1 div.sk-serial::before {content: \"\";position: absolute;border-left: 1px solid gray;box-sizing: border-box;top: 0;bottom: 0;left: 50%;z-index: 0;}#sk-container-id-1 div.sk-serial {display: flex;flex-direction: column;align-items: center;background-color: white;padding-right: 0.2em;padding-left: 0.2em;position: relative;}#sk-container-id-1 div.sk-item {position: relative;z-index: 1;}#sk-container-id-1 div.sk-parallel {display: flex;align-items: stretch;justify-content: center;background-color: white;position: relative;}#sk-container-id-1 div.sk-item::before, #sk-container-id-1 div.sk-parallel-item::before {content: \"\";position: absolute;border-left: 1px solid gray;box-sizing: border-box;top: 0;bottom: 0;left: 50%;z-index: -1;}#sk-container-id-1 div.sk-parallel-item {display: flex;flex-direction: column;z-index: 1;position: relative;background-color: white;}#sk-container-id-1 div.sk-parallel-item:first-child::after {align-self: flex-end;width: 50%;}#sk-container-id-1 div.sk-parallel-item:last-child::after {align-self: flex-start;width: 50%;}#sk-container-id-1 div.sk-parallel-item:only-child::after {width: 0;}#sk-container-id-1 div.sk-dashed-wrapped {border: 1px dashed gray;margin: 0 0.4em 0.5em 0.4em;box-sizing: border-box;padding-bottom: 0.4em;background-color: white;}#sk-container-id-1 div.sk-label label {font-family: monospace;font-weight: bold;display: inline-block;line-height: 1.2em;}#sk-container-id-1 div.sk-label-container {text-align: center;}#sk-container-id-1 div.sk-container {/* jupyter's `normalize.less` sets `[hidden] { display: none; }` but bootstrap.min.css set `[hidden] { display: none !important; }` so we also need the `!important` here to be able to override the default hidden behavior on the sphinx rendered scikit-learn.org. See: https://github.com/scikit-learn/scikit-learn/issues/21755 */display: inline-block !important;position: relative;}#sk-container-id-1 div.sk-text-repr-fallback {display: none;}</style><div id=\"sk-container-id-1\" class=\"sk-top-container\"><div class=\"sk-text-repr-fallback\"><pre>Pipeline(steps=[(&#x27;columntransformer-1&#x27;,\n",
       "                 ColumnTransformer(remainder=&#x27;passthrough&#x27;,\n",
       "                                   transformers=[(&#x27;impute_age&#x27;, SimpleImputer(),\n",
       "                                                  [2]),\n",
       "                                                 (&#x27;impute_embarked&#x27;,\n",
       "                                                  SimpleImputer(strategy=&#x27;most_frequent&#x27;),\n",
       "                                                  [6])])),\n",
       "                (&#x27;columntransformer-2&#x27;,\n",
       "                 ColumnTransformer(remainder=&#x27;passthrough&#x27;,\n",
       "                                   transformers=[(&#x27;ohe_sex_embarked&#x27;,\n",
       "                                                  OneHotEncoder(handle_unknown=&#x27;ignore&#x27;,\n",
       "                                                                sparse=False),\n",
       "                                                  [1, 6])])),\n",
       "                (&#x27;columntransformer-3&#x27;,\n",
       "                 ColumnTransformer(transformers=[(&#x27;scale&#x27;, MinMaxScaler(),\n",
       "                                                  slice(0, 10, None))])),\n",
       "                (&#x27;selectkbest&#x27;,\n",
       "                 SelectKBest(k=8,\n",
       "                             score_func=&lt;function chi2 at 0x7aaf84be56c0&gt;)),\n",
       "                (&#x27;decisiontreeclassifier&#x27;, DecisionTreeClassifier())])</pre><b>In a Jupyter environment, please rerun this cell to show the HTML representation or trust the notebook. <br />On GitHub, the HTML representation is unable to render, please try loading this page with nbviewer.org.</b></div><div class=\"sk-container\" hidden><div class=\"sk-item sk-dashed-wrapped\"><div class=\"sk-label-container\"><div class=\"sk-label sk-toggleable\"><input class=\"sk-toggleable__control sk-hidden--visually\" id=\"sk-estimator-id-1\" type=\"checkbox\" ><label for=\"sk-estimator-id-1\" class=\"sk-toggleable__label sk-toggleable__label-arrow\">Pipeline</label><div class=\"sk-toggleable__content\"><pre>Pipeline(steps=[(&#x27;columntransformer-1&#x27;,\n",
       "                 ColumnTransformer(remainder=&#x27;passthrough&#x27;,\n",
       "                                   transformers=[(&#x27;impute_age&#x27;, SimpleImputer(),\n",
       "                                                  [2]),\n",
       "                                                 (&#x27;impute_embarked&#x27;,\n",
       "                                                  SimpleImputer(strategy=&#x27;most_frequent&#x27;),\n",
       "                                                  [6])])),\n",
       "                (&#x27;columntransformer-2&#x27;,\n",
       "                 ColumnTransformer(remainder=&#x27;passthrough&#x27;,\n",
       "                                   transformers=[(&#x27;ohe_sex_embarked&#x27;,\n",
       "                                                  OneHotEncoder(handle_unknown=&#x27;ignore&#x27;,\n",
       "                                                                sparse=False),\n",
       "                                                  [1, 6])])),\n",
       "                (&#x27;columntransformer-3&#x27;,\n",
       "                 ColumnTransformer(transformers=[(&#x27;scale&#x27;, MinMaxScaler(),\n",
       "                                                  slice(0, 10, None))])),\n",
       "                (&#x27;selectkbest&#x27;,\n",
       "                 SelectKBest(k=8,\n",
       "                             score_func=&lt;function chi2 at 0x7aaf84be56c0&gt;)),\n",
       "                (&#x27;decisiontreeclassifier&#x27;, DecisionTreeClassifier())])</pre></div></div></div><div class=\"sk-serial\"><div class=\"sk-item sk-dashed-wrapped\"><div class=\"sk-label-container\"><div class=\"sk-label sk-toggleable\"><input class=\"sk-toggleable__control sk-hidden--visually\" id=\"sk-estimator-id-2\" type=\"checkbox\" ><label for=\"sk-estimator-id-2\" class=\"sk-toggleable__label sk-toggleable__label-arrow\">columntransformer-1: ColumnTransformer</label><div class=\"sk-toggleable__content\"><pre>ColumnTransformer(remainder=&#x27;passthrough&#x27;,\n",
       "                  transformers=[(&#x27;impute_age&#x27;, SimpleImputer(), [2]),\n",
       "                                (&#x27;impute_embarked&#x27;,\n",
       "                                 SimpleImputer(strategy=&#x27;most_frequent&#x27;),\n",
       "                                 [6])])</pre></div></div></div><div class=\"sk-parallel\"><div class=\"sk-parallel-item\"><div class=\"sk-item\"><div class=\"sk-label-container\"><div class=\"sk-label sk-toggleable\"><input class=\"sk-toggleable__control sk-hidden--visually\" id=\"sk-estimator-id-3\" type=\"checkbox\" ><label for=\"sk-estimator-id-3\" class=\"sk-toggleable__label sk-toggleable__label-arrow\">impute_age</label><div class=\"sk-toggleable__content\"><pre>[2]</pre></div></div></div><div class=\"sk-serial\"><div class=\"sk-item\"><div class=\"sk-estimator sk-toggleable\"><input class=\"sk-toggleable__control sk-hidden--visually\" id=\"sk-estimator-id-4\" type=\"checkbox\" ><label for=\"sk-estimator-id-4\" class=\"sk-toggleable__label sk-toggleable__label-arrow\">SimpleImputer</label><div class=\"sk-toggleable__content\"><pre>SimpleImputer()</pre></div></div></div></div></div></div><div class=\"sk-parallel-item\"><div class=\"sk-item\"><div class=\"sk-label-container\"><div class=\"sk-label sk-toggleable\"><input class=\"sk-toggleable__control sk-hidden--visually\" id=\"sk-estimator-id-5\" type=\"checkbox\" ><label for=\"sk-estimator-id-5\" class=\"sk-toggleable__label sk-toggleable__label-arrow\">impute_embarked</label><div class=\"sk-toggleable__content\"><pre>[6]</pre></div></div></div><div class=\"sk-serial\"><div class=\"sk-item\"><div class=\"sk-estimator sk-toggleable\"><input class=\"sk-toggleable__control sk-hidden--visually\" id=\"sk-estimator-id-6\" type=\"checkbox\" ><label for=\"sk-estimator-id-6\" class=\"sk-toggleable__label sk-toggleable__label-arrow\">SimpleImputer</label><div class=\"sk-toggleable__content\"><pre>SimpleImputer(strategy=&#x27;most_frequent&#x27;)</pre></div></div></div></div></div></div><div class=\"sk-parallel-item\"><div class=\"sk-item\"><div class=\"sk-label-container\"><div class=\"sk-label sk-toggleable\"><input class=\"sk-toggleable__control sk-hidden--visually\" id=\"sk-estimator-id-7\" type=\"checkbox\" ><label for=\"sk-estimator-id-7\" class=\"sk-toggleable__label sk-toggleable__label-arrow\">remainder</label><div class=\"sk-toggleable__content\"><pre>[&#x27;Pclass&#x27;, &#x27;Sex&#x27;, &#x27;SibSp&#x27;, &#x27;Parch&#x27;, &#x27;Fare&#x27;]</pre></div></div></div><div class=\"sk-serial\"><div class=\"sk-item\"><div class=\"sk-estimator sk-toggleable\"><input class=\"sk-toggleable__control sk-hidden--visually\" id=\"sk-estimator-id-8\" type=\"checkbox\" ><label for=\"sk-estimator-id-8\" class=\"sk-toggleable__label sk-toggleable__label-arrow\">passthrough</label><div class=\"sk-toggleable__content\"><pre>passthrough</pre></div></div></div></div></div></div></div></div><div class=\"sk-item sk-dashed-wrapped\"><div class=\"sk-label-container\"><div class=\"sk-label sk-toggleable\"><input class=\"sk-toggleable__control sk-hidden--visually\" id=\"sk-estimator-id-9\" type=\"checkbox\" ><label for=\"sk-estimator-id-9\" class=\"sk-toggleable__label sk-toggleable__label-arrow\">columntransformer-2: ColumnTransformer</label><div class=\"sk-toggleable__content\"><pre>ColumnTransformer(remainder=&#x27;passthrough&#x27;,\n",
       "                  transformers=[(&#x27;ohe_sex_embarked&#x27;,\n",
       "                                 OneHotEncoder(handle_unknown=&#x27;ignore&#x27;,\n",
       "                                               sparse=False),\n",
       "                                 [1, 6])])</pre></div></div></div><div class=\"sk-parallel\"><div class=\"sk-parallel-item\"><div class=\"sk-item\"><div class=\"sk-label-container\"><div class=\"sk-label sk-toggleable\"><input class=\"sk-toggleable__control sk-hidden--visually\" id=\"sk-estimator-id-10\" type=\"checkbox\" ><label for=\"sk-estimator-id-10\" class=\"sk-toggleable__label sk-toggleable__label-arrow\">ohe_sex_embarked</label><div class=\"sk-toggleable__content\"><pre>[1, 6]</pre></div></div></div><div class=\"sk-serial\"><div class=\"sk-item\"><div class=\"sk-estimator sk-toggleable\"><input class=\"sk-toggleable__control sk-hidden--visually\" id=\"sk-estimator-id-11\" type=\"checkbox\" ><label for=\"sk-estimator-id-11\" class=\"sk-toggleable__label sk-toggleable__label-arrow\">OneHotEncoder</label><div class=\"sk-toggleable__content\"><pre>OneHotEncoder(handle_unknown=&#x27;ignore&#x27;, sparse=False)</pre></div></div></div></div></div></div><div class=\"sk-parallel-item\"><div class=\"sk-item\"><div class=\"sk-label-container\"><div class=\"sk-label sk-toggleable\"><input class=\"sk-toggleable__control sk-hidden--visually\" id=\"sk-estimator-id-12\" type=\"checkbox\" ><label for=\"sk-estimator-id-12\" class=\"sk-toggleable__label sk-toggleable__label-arrow\">remainder</label><div class=\"sk-toggleable__content\"><pre>[0, 2, 3, 4, 5]</pre></div></div></div><div class=\"sk-serial\"><div class=\"sk-item\"><div class=\"sk-estimator sk-toggleable\"><input class=\"sk-toggleable__control sk-hidden--visually\" id=\"sk-estimator-id-13\" type=\"checkbox\" ><label for=\"sk-estimator-id-13\" class=\"sk-toggleable__label sk-toggleable__label-arrow\">passthrough</label><div class=\"sk-toggleable__content\"><pre>passthrough</pre></div></div></div></div></div></div></div></div><div class=\"sk-item sk-dashed-wrapped\"><div class=\"sk-label-container\"><div class=\"sk-label sk-toggleable\"><input class=\"sk-toggleable__control sk-hidden--visually\" id=\"sk-estimator-id-14\" type=\"checkbox\" ><label for=\"sk-estimator-id-14\" class=\"sk-toggleable__label sk-toggleable__label-arrow\">columntransformer-3: ColumnTransformer</label><div class=\"sk-toggleable__content\"><pre>ColumnTransformer(transformers=[(&#x27;scale&#x27;, MinMaxScaler(), slice(0, 10, None))])</pre></div></div></div><div class=\"sk-parallel\"><div class=\"sk-parallel-item\"><div class=\"sk-item\"><div class=\"sk-label-container\"><div class=\"sk-label sk-toggleable\"><input class=\"sk-toggleable__control sk-hidden--visually\" id=\"sk-estimator-id-15\" type=\"checkbox\" ><label for=\"sk-estimator-id-15\" class=\"sk-toggleable__label sk-toggleable__label-arrow\">scale</label><div class=\"sk-toggleable__content\"><pre>slice(0, 10, None)</pre></div></div></div><div class=\"sk-serial\"><div class=\"sk-item\"><div class=\"sk-estimator sk-toggleable\"><input class=\"sk-toggleable__control sk-hidden--visually\" id=\"sk-estimator-id-16\" type=\"checkbox\" ><label for=\"sk-estimator-id-16\" class=\"sk-toggleable__label sk-toggleable__label-arrow\">MinMaxScaler</label><div class=\"sk-toggleable__content\"><pre>MinMaxScaler()</pre></div></div></div></div></div></div></div></div><div class=\"sk-item\"><div class=\"sk-estimator sk-toggleable\"><input class=\"sk-toggleable__control sk-hidden--visually\" id=\"sk-estimator-id-17\" type=\"checkbox\" ><label for=\"sk-estimator-id-17\" class=\"sk-toggleable__label sk-toggleable__label-arrow\">SelectKBest</label><div class=\"sk-toggleable__content\"><pre>SelectKBest(k=8, score_func=&lt;function chi2 at 0x7aaf84be56c0&gt;)</pre></div></div></div><div class=\"sk-item\"><div class=\"sk-estimator sk-toggleable\"><input class=\"sk-toggleable__control sk-hidden--visually\" id=\"sk-estimator-id-18\" type=\"checkbox\" ><label for=\"sk-estimator-id-18\" class=\"sk-toggleable__label sk-toggleable__label-arrow\">DecisionTreeClassifier</label><div class=\"sk-toggleable__content\"><pre>DecisionTreeClassifier()</pre></div></div></div></div></div></div></div>"
      ],
      "text/plain": [
       "Pipeline(steps=[('columntransformer-1',\n",
       "                 ColumnTransformer(remainder='passthrough',\n",
       "                                   transformers=[('impute_age', SimpleImputer(),\n",
       "                                                  [2]),\n",
       "                                                 ('impute_embarked',\n",
       "                                                  SimpleImputer(strategy='most_frequent'),\n",
       "                                                  [6])])),\n",
       "                ('columntransformer-2',\n",
       "                 ColumnTransformer(remainder='passthrough',\n",
       "                                   transformers=[('ohe_sex_embarked',\n",
       "                                                  OneHotEncoder(handle_unknown='ignore',\n",
       "                                                                sparse=False),\n",
       "                                                  [1, 6])])),\n",
       "                ('columntransformer-3',\n",
       "                 ColumnTransformer(transformers=[('scale', MinMaxScaler(),\n",
       "                                                  slice(0, 10, None))])),\n",
       "                ('selectkbest',\n",
       "                 SelectKBest(k=8,\n",
       "                             score_func=<function chi2 at 0x7aaf84be56c0>)),\n",
       "                ('decisiontreeclassifier', DecisionTreeClassifier())])"
      ]
     },
     "execution_count": 16,
     "metadata": {},
     "output_type": "execute_result"
    }
   ],
   "source": [
    "# train\n",
    "pipe.fit(X_train,y_train)"
   ]
  },
  {
   "cell_type": "markdown",
   "id": "7f7237a3",
   "metadata": {
    "papermill": {
     "duration": 0.006964,
     "end_time": "2024-05-04T05:55:26.798204",
     "exception": false,
     "start_time": "2024-05-04T05:55:26.791240",
     "status": "completed"
    },
    "tags": []
   },
   "source": [
    "# **Explore the Pipeline**"
   ]
  },
  {
   "cell_type": "code",
   "execution_count": 17,
   "id": "4e6afec6",
   "metadata": {
    "execution": {
     "iopub.execute_input": "2024-05-04T05:55:26.813555Z",
     "iopub.status.busy": "2024-05-04T05:55:26.813288Z",
     "iopub.status.idle": "2024-05-04T05:55:26.822878Z",
     "shell.execute_reply": "2024-05-04T05:55:26.822068Z"
    },
    "papermill": {
     "duration": 0.019669,
     "end_time": "2024-05-04T05:55:26.824931",
     "exception": false,
     "start_time": "2024-05-04T05:55:26.805262",
     "status": "completed"
    },
    "tags": []
   },
   "outputs": [
    {
     "data": {
      "text/plain": [
       "{'columntransformer-1': ColumnTransformer(remainder='passthrough',\n",
       "                   transformers=[('impute_age', SimpleImputer(), [2]),\n",
       "                                 ('impute_embarked',\n",
       "                                  SimpleImputer(strategy='most_frequent'),\n",
       "                                  [6])]),\n",
       " 'columntransformer-2': ColumnTransformer(remainder='passthrough',\n",
       "                   transformers=[('ohe_sex_embarked',\n",
       "                                  OneHotEncoder(handle_unknown='ignore',\n",
       "                                                sparse=False),\n",
       "                                  [1, 6])]),\n",
       " 'columntransformer-3': ColumnTransformer(transformers=[('scale', MinMaxScaler(), slice(0, 10, None))]),\n",
       " 'selectkbest': SelectKBest(k=8, score_func=<function chi2 at 0x7aaf84be56c0>),\n",
       " 'decisiontreeclassifier': DecisionTreeClassifier()}"
      ]
     },
     "execution_count": 17,
     "metadata": {},
     "output_type": "execute_result"
    }
   ],
   "source": [
    "pipe.named_steps"
   ]
  },
  {
   "cell_type": "code",
   "execution_count": 18,
   "id": "f6f8bb46",
   "metadata": {
    "execution": {
     "iopub.execute_input": "2024-05-04T05:55:26.842026Z",
     "iopub.status.busy": "2024-05-04T05:55:26.841679Z",
     "iopub.status.idle": "2024-05-04T05:55:26.847739Z",
     "shell.execute_reply": "2024-05-04T05:55:26.846880Z"
    },
    "papermill": {
     "duration": 0.016347,
     "end_time": "2024-05-04T05:55:26.849442",
     "exception": false,
     "start_time": "2024-05-04T05:55:26.833095",
     "status": "completed"
    },
    "tags": []
   },
   "outputs": [
    {
     "data": {
      "text/plain": [
       "array(['S'], dtype=object)"
      ]
     },
     "execution_count": 18,
     "metadata": {},
     "output_type": "execute_result"
    }
   ],
   "source": [
    "pipe.named_steps['columntransformer-1'].transformers_[1][1].statistics_"
   ]
  },
  {
   "cell_type": "code",
   "execution_count": 19,
   "id": "92aceb79",
   "metadata": {
    "execution": {
     "iopub.execute_input": "2024-05-04T05:55:26.866028Z",
     "iopub.status.busy": "2024-05-04T05:55:26.865421Z",
     "iopub.status.idle": "2024-05-04T05:55:26.870690Z",
     "shell.execute_reply": "2024-05-04T05:55:26.870092Z"
    },
    "papermill": {
     "duration": 0.014835,
     "end_time": "2024-05-04T05:55:26.872200",
     "exception": false,
     "start_time": "2024-05-04T05:55:26.857365",
     "status": "completed"
    },
    "tags": []
   },
   "outputs": [
    {
     "data": {
      "text/plain": [
       "array([29.49884615])"
      ]
     },
     "execution_count": 19,
     "metadata": {},
     "output_type": "execute_result"
    }
   ],
   "source": [
    "pipe.named_steps['columntransformer-1'].transformers_[0][1].statistics_"
   ]
  },
  {
   "cell_type": "code",
   "execution_count": 20,
   "id": "d494f186",
   "metadata": {
    "execution": {
     "iopub.execute_input": "2024-05-04T05:55:26.888109Z",
     "iopub.status.busy": "2024-05-04T05:55:26.887717Z",
     "iopub.status.idle": "2024-05-04T05:55:26.891128Z",
     "shell.execute_reply": "2024-05-04T05:55:26.890526Z"
    },
    "papermill": {
     "duration": 0.013023,
     "end_time": "2024-05-04T05:55:26.892616",
     "exception": false,
     "start_time": "2024-05-04T05:55:26.879593",
     "status": "completed"
    },
    "tags": []
   },
   "outputs": [],
   "source": [
    "# Display Pipeline\n",
    "\n",
    "from sklearn import set_config\n",
    "set_config(display='diagram')"
   ]
  },
  {
   "cell_type": "code",
   "execution_count": 21,
   "id": "cde9a41a",
   "metadata": {
    "execution": {
     "iopub.execute_input": "2024-05-04T05:55:26.908466Z",
     "iopub.status.busy": "2024-05-04T05:55:26.908028Z",
     "iopub.status.idle": "2024-05-04T05:55:26.918570Z",
     "shell.execute_reply": "2024-05-04T05:55:26.917884Z"
    },
    "papermill": {
     "duration": 0.020306,
     "end_time": "2024-05-04T05:55:26.920248",
     "exception": false,
     "start_time": "2024-05-04T05:55:26.899942",
     "status": "completed"
    },
    "tags": []
   },
   "outputs": [],
   "source": [
    "# Predict\n",
    "y_pred = pipe.predict(X_test)"
   ]
  },
  {
   "cell_type": "code",
   "execution_count": 22,
   "id": "d65f5775",
   "metadata": {
    "execution": {
     "iopub.execute_input": "2024-05-04T05:55:26.936124Z",
     "iopub.status.busy": "2024-05-04T05:55:26.935883Z",
     "iopub.status.idle": "2024-05-04T05:55:26.940510Z",
     "shell.execute_reply": "2024-05-04T05:55:26.939907Z"
    },
    "papermill": {
     "duration": 0.014204,
     "end_time": "2024-05-04T05:55:26.941960",
     "exception": false,
     "start_time": "2024-05-04T05:55:26.927756",
     "status": "completed"
    },
    "tags": []
   },
   "outputs": [
    {
     "data": {
      "text/plain": [
       "array([1, 0, 0, 0, 1, 0, 0, 0, 0, 0, 0, 0, 0, 1, 0, 0, 0, 0, 0, 0, 0, 0,\n",
       "       0, 0, 0, 0, 1, 0, 0, 0, 0, 0, 1, 0, 0, 1, 0, 0, 1, 0, 0, 0, 0, 0,\n",
       "       1, 0, 0, 0, 0, 1, 1, 0, 0, 0, 0, 0, 0, 1, 0, 0, 0, 0, 0, 0, 0, 0,\n",
       "       0, 0, 1, 1, 0, 1, 1, 1, 0, 0, 0, 1, 0, 0, 0, 0, 1, 0, 1, 1, 1, 1,\n",
       "       0, 0, 0, 0, 0, 0, 0, 0, 0, 0, 0, 0, 0, 0, 1, 0, 0, 0, 0, 0, 0, 1,\n",
       "       0, 0, 1, 0, 0, 0, 1, 1, 0, 0, 0, 1, 0, 0, 0, 1, 0, 1, 1, 0, 0, 1,\n",
       "       0, 0, 1, 1, 1, 0, 0, 0, 0, 0, 0, 0, 0, 0, 0, 0, 1, 0, 1, 0, 0, 0,\n",
       "       0, 0, 0, 0, 0, 0, 1, 0, 0, 1, 0, 1, 0, 0, 0, 0, 1, 0, 0, 1, 0, 1,\n",
       "       0, 0, 0])"
      ]
     },
     "execution_count": 22,
     "metadata": {},
     "output_type": "execute_result"
    }
   ],
   "source": [
    "y_pred"
   ]
  },
  {
   "cell_type": "code",
   "execution_count": 23,
   "id": "6553809f",
   "metadata": {
    "execution": {
     "iopub.execute_input": "2024-05-04T05:55:26.958604Z",
     "iopub.status.busy": "2024-05-04T05:55:26.958060Z",
     "iopub.status.idle": "2024-05-04T05:55:26.964635Z",
     "shell.execute_reply": "2024-05-04T05:55:26.963806Z"
    },
    "papermill": {
     "duration": 0.017019,
     "end_time": "2024-05-04T05:55:26.966510",
     "exception": false,
     "start_time": "2024-05-04T05:55:26.949491",
     "status": "completed"
    },
    "tags": []
   },
   "outputs": [
    {
     "data": {
      "text/plain": [
       "0.6256983240223464"
      ]
     },
     "execution_count": 23,
     "metadata": {},
     "output_type": "execute_result"
    }
   ],
   "source": [
    "from sklearn.metrics import accuracy_score\n",
    "accuracy_score(y_test,y_pred)"
   ]
  },
  {
   "cell_type": "markdown",
   "id": "b7ca1ad4",
   "metadata": {
    "papermill": {
     "duration": 0.007579,
     "end_time": "2024-05-04T05:55:26.982509",
     "exception": false,
     "start_time": "2024-05-04T05:55:26.974930",
     "status": "completed"
    },
    "tags": []
   },
   "source": [
    "# **Cross Validation using Pipeline**"
   ]
  },
  {
   "cell_type": "code",
   "execution_count": 24,
   "id": "dd471dc7",
   "metadata": {
    "execution": {
     "iopub.execute_input": "2024-05-04T05:55:27.000116Z",
     "iopub.status.busy": "2024-05-04T05:55:26.999131Z",
     "iopub.status.idle": "2024-05-04T05:55:27.003475Z",
     "shell.execute_reply": "2024-05-04T05:55:27.002570Z"
    },
    "papermill": {
     "duration": 0.014637,
     "end_time": "2024-05-04T05:55:27.005059",
     "exception": false,
     "start_time": "2024-05-04T05:55:26.990422",
     "status": "completed"
    },
    "tags": []
   },
   "outputs": [],
   "source": [
    "# cross validation using cross_val_score\n",
    "from sklearn.model_selection import cross_val_score"
   ]
  },
  {
   "cell_type": "code",
   "execution_count": 25,
   "id": "05ac859b",
   "metadata": {
    "execution": {
     "iopub.execute_input": "2024-05-04T05:55:27.021995Z",
     "iopub.status.busy": "2024-05-04T05:55:27.021534Z",
     "iopub.status.idle": "2024-05-04T05:55:27.155097Z",
     "shell.execute_reply": "2024-05-04T05:55:27.154193Z"
    },
    "papermill": {
     "duration": 0.143787,
     "end_time": "2024-05-04T05:55:27.156779",
     "exception": false,
     "start_time": "2024-05-04T05:55:27.012992",
     "status": "completed"
    },
    "tags": []
   },
   "outputs": [
    {
     "name": "stderr",
     "output_type": "stream",
     "text": [
      "/opt/conda/lib/python3.10/site-packages/sklearn/preprocessing/_encoders.py:868: FutureWarning: `sparse` was renamed to `sparse_output` in version 1.2 and will be removed in 1.4. `sparse_output` is ignored unless you leave `sparse` to its default value.\n",
      "  warnings.warn(\n",
      "/opt/conda/lib/python3.10/site-packages/sklearn/preprocessing/_encoders.py:868: FutureWarning: `sparse` was renamed to `sparse_output` in version 1.2 and will be removed in 1.4. `sparse_output` is ignored unless you leave `sparse` to its default value.\n",
      "  warnings.warn(\n",
      "/opt/conda/lib/python3.10/site-packages/sklearn/preprocessing/_encoders.py:868: FutureWarning: `sparse` was renamed to `sparse_output` in version 1.2 and will be removed in 1.4. `sparse_output` is ignored unless you leave `sparse` to its default value.\n",
      "  warnings.warn(\n",
      "/opt/conda/lib/python3.10/site-packages/sklearn/preprocessing/_encoders.py:868: FutureWarning: `sparse` was renamed to `sparse_output` in version 1.2 and will be removed in 1.4. `sparse_output` is ignored unless you leave `sparse` to its default value.\n",
      "  warnings.warn(\n",
      "/opt/conda/lib/python3.10/site-packages/sklearn/preprocessing/_encoders.py:868: FutureWarning: `sparse` was renamed to `sparse_output` in version 1.2 and will be removed in 1.4. `sparse_output` is ignored unless you leave `sparse` to its default value.\n",
      "  warnings.warn(\n"
     ]
    },
    {
     "data": {
      "text/plain": [
       "0.6391214419383433"
      ]
     },
     "execution_count": 25,
     "metadata": {},
     "output_type": "execute_result"
    }
   ],
   "source": [
    "cross_val_score(pipe, X_train, y_train, cv=5, scoring='accuracy').mean()"
   ]
  },
  {
   "cell_type": "markdown",
   "id": "da84ec34",
   "metadata": {
    "papermill": {
     "duration": 0.00765,
     "end_time": "2024-05-04T05:55:27.172695",
     "exception": false,
     "start_time": "2024-05-04T05:55:27.165045",
     "status": "completed"
    },
    "tags": []
   },
   "source": [
    "# **GridSearch using Pipeline**"
   ]
  },
  {
   "cell_type": "code",
   "execution_count": 26,
   "id": "f85fa16c",
   "metadata": {
    "execution": {
     "iopub.execute_input": "2024-05-04T05:55:27.190470Z",
     "iopub.status.busy": "2024-05-04T05:55:27.189718Z",
     "iopub.status.idle": "2024-05-04T05:55:27.208767Z",
     "shell.execute_reply": "2024-05-04T05:55:27.207537Z"
    },
    "papermill": {
     "duration": 0.030829,
     "end_time": "2024-05-04T05:55:27.211314",
     "exception": false,
     "start_time": "2024-05-04T05:55:27.180485",
     "status": "completed"
    },
    "tags": []
   },
   "outputs": [
    {
     "name": "stdout",
     "output_type": "stream",
     "text": [
      "Pipeline(steps=[('columntransformer-1',\n",
      "                 ColumnTransformer(remainder='passthrough',\n",
      "                                   transformers=[('impute_age', SimpleImputer(),\n",
      "                                                  [2]),\n",
      "                                                 ('impute_embarked',\n",
      "                                                  SimpleImputer(strategy='most_frequent'),\n",
      "                                                  [6])])),\n",
      "                ('columntransformer-2',\n",
      "                 ColumnTransformer(remainder='passthrough',\n",
      "                                   transformers=[('ohe_sex_embarked',\n",
      "                                                  OneHotEncoder(handle_unknown='ignore',\n",
      "                                                                sparse=False),\n",
      "                                                  [1, 6])])),\n",
      "                ('columntransformer-3',\n",
      "                 ColumnTransformer(transformers=[('scale', MinMaxScaler(),\n",
      "                                                  slice(0, 10, None))])),\n",
      "                ('selectkbest',\n",
      "                 SelectKBest(k=8,\n",
      "                             score_func=<function chi2 at 0x7aaf84be56c0>)),\n",
      "                ('decisiontreeclassifier', DecisionTreeClassifier())])\n"
     ]
    }
   ],
   "source": [
    "print(pipe)"
   ]
  },
  {
   "cell_type": "code",
   "execution_count": 27,
   "id": "e56933b9",
   "metadata": {
    "execution": {
     "iopub.execute_input": "2024-05-04T05:55:27.229577Z",
     "iopub.status.busy": "2024-05-04T05:55:27.229262Z",
     "iopub.status.idle": "2024-05-04T05:55:27.233178Z",
     "shell.execute_reply": "2024-05-04T05:55:27.232270Z"
    },
    "papermill": {
     "duration": 0.014937,
     "end_time": "2024-05-04T05:55:27.234897",
     "exception": false,
     "start_time": "2024-05-04T05:55:27.219960",
     "status": "completed"
    },
    "tags": []
   },
   "outputs": [],
   "source": [
    "# gridsearchcv\n",
    "params = {\n",
    "    'trf5__max_depth':[1,2,3,4,5,None]\n",
    "}"
   ]
  },
  {
   "cell_type": "code",
   "execution_count": 28,
   "id": "8d0364b2",
   "metadata": {
    "execution": {
     "iopub.execute_input": "2024-05-04T05:55:27.253057Z",
     "iopub.status.busy": "2024-05-04T05:55:27.252729Z",
     "iopub.status.idle": "2024-05-04T05:55:27.256227Z",
     "shell.execute_reply": "2024-05-04T05:55:27.255613Z"
    },
    "papermill": {
     "duration": 0.014499,
     "end_time": "2024-05-04T05:55:27.257799",
     "exception": false,
     "start_time": "2024-05-04T05:55:27.243300",
     "status": "completed"
    },
    "tags": []
   },
   "outputs": [],
   "source": [
    "# from sklearn.model_selection import GridSearchCV\n",
    "# grid = GridSearchCV(pipe, params, cv=5, scoring='accuracy')\n",
    "# grid.fit(X_train, y_train)\n",
    "# grid.best_score_\n",
    "# grid.best_params_"
   ]
  },
  {
   "cell_type": "markdown",
   "id": "45cefd19",
   "metadata": {
    "papermill": {
     "duration": 0.007831,
     "end_time": "2024-05-04T05:55:27.273920",
     "exception": false,
     "start_time": "2024-05-04T05:55:27.266089",
     "status": "completed"
    },
    "tags": []
   },
   "source": [
    "# **Exporting the Pipeline**"
   ]
  },
  {
   "cell_type": "code",
   "execution_count": 29,
   "id": "47f0f347",
   "metadata": {
    "execution": {
     "iopub.execute_input": "2024-05-04T05:55:27.291913Z",
     "iopub.status.busy": "2024-05-04T05:55:27.291398Z",
     "iopub.status.idle": "2024-05-04T05:55:27.295150Z",
     "shell.execute_reply": "2024-05-04T05:55:27.294462Z"
    },
    "papermill": {
     "duration": 0.014446,
     "end_time": "2024-05-04T05:55:27.296734",
     "exception": false,
     "start_time": "2024-05-04T05:55:27.282288",
     "status": "completed"
    },
    "tags": []
   },
   "outputs": [],
   "source": [
    "import pickle\n",
    "# pickle.dump(pipe,open('pipe.pkl','wb'))"
   ]
  },
  {
   "cell_type": "code",
   "execution_count": null,
   "id": "0db5c8f1",
   "metadata": {
    "papermill": {
     "duration": 0.007671,
     "end_time": "2024-05-04T05:55:27.312618",
     "exception": false,
     "start_time": "2024-05-04T05:55:27.304947",
     "status": "completed"
    },
    "tags": []
   },
   "outputs": [],
   "source": []
  }
 ],
 "metadata": {
  "kaggle": {
   "accelerator": "none",
   "dataSources": [
    {
     "datasetId": 1247358,
     "sourceId": 2080558,
     "sourceType": "datasetVersion"
    }
   ],
   "dockerImageVersionId": 30698,
   "isGpuEnabled": false,
   "isInternetEnabled": false,
   "language": "python",
   "sourceType": "notebook"
  },
  "kernelspec": {
   "display_name": "Python 3",
   "language": "python",
   "name": "python3"
  },
  "language_info": {
   "codemirror_mode": {
    "name": "ipython",
    "version": 3
   },
   "file_extension": ".py",
   "mimetype": "text/x-python",
   "name": "python",
   "nbconvert_exporter": "python",
   "pygments_lexer": "ipython3",
   "version": "3.10.13"
  },
  "papermill": {
   "default_parameters": {},
   "duration": 5.412257,
   "end_time": "2024-05-04T05:55:27.738292",
   "environment_variables": {},
   "exception": null,
   "input_path": "__notebook__.ipynb",
   "output_path": "__notebook__.ipynb",
   "parameters": {},
   "start_time": "2024-05-04T05:55:22.326035",
   "version": "2.5.0"
  }
 },
 "nbformat": 4,
 "nbformat_minor": 5
}
