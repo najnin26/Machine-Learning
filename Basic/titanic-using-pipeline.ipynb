{
 "cells": [
  {
   "cell_type": "code",
   "execution_count": 1,
   "id": "84738ee3",
   "metadata": {
    "_cell_guid": "b1076dfc-b9ad-4769-8c92-a6c4dae69d19",
    "_uuid": "8f2839f25d086af736a60e9eeb907d3b93b6e0e5",
    "execution": {
     "iopub.execute_input": "2024-05-04T04:24:58.595432Z",
     "iopub.status.busy": "2024-05-04T04:24:58.595003Z",
     "iopub.status.idle": "2024-05-04T04:24:59.454606Z",
     "shell.execute_reply": "2024-05-04T04:24:59.453311Z"
    },
    "papermill": {
     "duration": 0.871071,
     "end_time": "2024-05-04T04:24:59.457433",
     "exception": false,
     "start_time": "2024-05-04T04:24:58.586362",
     "status": "completed"
    },
    "tags": []
   },
   "outputs": [],
   "source": [
    "import numpy as np\n",
    "import pandas as pd"
   ]
  },
  {
   "cell_type": "code",
   "execution_count": 2,
   "id": "8e854ff2",
   "metadata": {
    "execution": {
     "iopub.execute_input": "2024-05-04T04:24:59.471055Z",
     "iopub.status.busy": "2024-05-04T04:24:59.470545Z",
     "iopub.status.idle": "2024-05-04T04:25:00.851250Z",
     "shell.execute_reply": "2024-05-04T04:25:00.849166Z"
    },
    "papermill": {
     "duration": 1.390283,
     "end_time": "2024-05-04T04:25:00.853891",
     "exception": false,
     "start_time": "2024-05-04T04:24:59.463608",
     "status": "completed"
    },
    "tags": []
   },
   "outputs": [],
   "source": [
    "from sklearn.model_selection import train_test_split\n",
    "from sklearn.compose import ColumnTransformer\n",
    "from sklearn.impute import SimpleImputer\n",
    "from sklearn.preprocessing import OneHotEncoder\n",
    "from sklearn.preprocessing import MinMaxScaler\n",
    "from sklearn.pipeline import Pipeline,make_pipeline\n",
    "from sklearn.feature_selection import SelectKBest,chi2\n",
    "from sklearn.tree import DecisionTreeClassifier"
   ]
  },
  {
   "cell_type": "code",
   "execution_count": 3,
   "id": "731464b8",
   "metadata": {
    "execution": {
     "iopub.execute_input": "2024-05-04T04:25:00.867136Z",
     "iopub.status.busy": "2024-05-04T04:25:00.866767Z",
     "iopub.status.idle": "2024-05-04T04:25:00.962574Z",
     "shell.execute_reply": "2024-05-04T04:25:00.961773Z"
    },
    "papermill": {
     "duration": 0.10539,
     "end_time": "2024-05-04T04:25:00.965384",
     "exception": false,
     "start_time": "2024-05-04T04:25:00.859994",
     "status": "completed"
    },
    "tags": []
   },
   "outputs": [],
   "source": [
    "df=pd.read_csv('/kaggle/input/data-science-day1-titanic/DSB_Day1_Titanic_train.csv')"
   ]
  },
  {
   "cell_type": "code",
   "execution_count": 4,
   "id": "56a03eea",
   "metadata": {
    "execution": {
     "iopub.execute_input": "2024-05-04T04:25:00.979293Z",
     "iopub.status.busy": "2024-05-04T04:25:00.978945Z",
     "iopub.status.idle": "2024-05-04T04:25:01.009285Z",
     "shell.execute_reply": "2024-05-04T04:25:01.008046Z"
    },
    "papermill": {
     "duration": 0.040306,
     "end_time": "2024-05-04T04:25:01.011631",
     "exception": false,
     "start_time": "2024-05-04T04:25:00.971325",
     "status": "completed"
    },
    "tags": []
   },
   "outputs": [
    {
     "data": {
      "text/html": [
       "<div>\n",
       "<style scoped>\n",
       "    .dataframe tbody tr th:only-of-type {\n",
       "        vertical-align: middle;\n",
       "    }\n",
       "\n",
       "    .dataframe tbody tr th {\n",
       "        vertical-align: top;\n",
       "    }\n",
       "\n",
       "    .dataframe thead th {\n",
       "        text-align: right;\n",
       "    }\n",
       "</style>\n",
       "<table border=\"1\" class=\"dataframe\">\n",
       "  <thead>\n",
       "    <tr style=\"text-align: right;\">\n",
       "      <th></th>\n",
       "      <th>PassengerId</th>\n",
       "      <th>Survived</th>\n",
       "      <th>Pclass</th>\n",
       "      <th>Name</th>\n",
       "      <th>Sex</th>\n",
       "      <th>Age</th>\n",
       "      <th>SibSp</th>\n",
       "      <th>Parch</th>\n",
       "      <th>Ticket</th>\n",
       "      <th>Fare</th>\n",
       "      <th>Cabin</th>\n",
       "      <th>Embarked</th>\n",
       "    </tr>\n",
       "  </thead>\n",
       "  <tbody>\n",
       "    <tr>\n",
       "      <th>0</th>\n",
       "      <td>1</td>\n",
       "      <td>0</td>\n",
       "      <td>3</td>\n",
       "      <td>Braund, Mr. Owen Harris</td>\n",
       "      <td>male</td>\n",
       "      <td>22.0</td>\n",
       "      <td>1</td>\n",
       "      <td>0</td>\n",
       "      <td>A/5 21171</td>\n",
       "      <td>7.2500</td>\n",
       "      <td>NaN</td>\n",
       "      <td>S</td>\n",
       "    </tr>\n",
       "    <tr>\n",
       "      <th>1</th>\n",
       "      <td>2</td>\n",
       "      <td>1</td>\n",
       "      <td>1</td>\n",
       "      <td>Cumings, Mrs. John Bradley (Florence Briggs Th...</td>\n",
       "      <td>female</td>\n",
       "      <td>38.0</td>\n",
       "      <td>1</td>\n",
       "      <td>0</td>\n",
       "      <td>PC 17599</td>\n",
       "      <td>71.2833</td>\n",
       "      <td>C85</td>\n",
       "      <td>C</td>\n",
       "    </tr>\n",
       "    <tr>\n",
       "      <th>2</th>\n",
       "      <td>3</td>\n",
       "      <td>1</td>\n",
       "      <td>3</td>\n",
       "      <td>Heikkinen, Miss. Laina</td>\n",
       "      <td>female</td>\n",
       "      <td>26.0</td>\n",
       "      <td>0</td>\n",
       "      <td>0</td>\n",
       "      <td>STON/O2. 3101282</td>\n",
       "      <td>7.9250</td>\n",
       "      <td>NaN</td>\n",
       "      <td>S</td>\n",
       "    </tr>\n",
       "    <tr>\n",
       "      <th>3</th>\n",
       "      <td>4</td>\n",
       "      <td>1</td>\n",
       "      <td>1</td>\n",
       "      <td>Futrelle, Mrs. Jacques Heath (Lily May Peel)</td>\n",
       "      <td>female</td>\n",
       "      <td>35.0</td>\n",
       "      <td>1</td>\n",
       "      <td>0</td>\n",
       "      <td>113803</td>\n",
       "      <td>53.1000</td>\n",
       "      <td>C123</td>\n",
       "      <td>S</td>\n",
       "    </tr>\n",
       "    <tr>\n",
       "      <th>4</th>\n",
       "      <td>5</td>\n",
       "      <td>0</td>\n",
       "      <td>3</td>\n",
       "      <td>Allen, Mr. William Henry</td>\n",
       "      <td>male</td>\n",
       "      <td>35.0</td>\n",
       "      <td>0</td>\n",
       "      <td>0</td>\n",
       "      <td>373450</td>\n",
       "      <td>8.0500</td>\n",
       "      <td>NaN</td>\n",
       "      <td>S</td>\n",
       "    </tr>\n",
       "  </tbody>\n",
       "</table>\n",
       "</div>"
      ],
      "text/plain": [
       "   PassengerId  Survived  Pclass  \\\n",
       "0            1         0       3   \n",
       "1            2         1       1   \n",
       "2            3         1       3   \n",
       "3            4         1       1   \n",
       "4            5         0       3   \n",
       "\n",
       "                                                Name     Sex   Age  SibSp  \\\n",
       "0                            Braund, Mr. Owen Harris    male  22.0      1   \n",
       "1  Cumings, Mrs. John Bradley (Florence Briggs Th...  female  38.0      1   \n",
       "2                             Heikkinen, Miss. Laina  female  26.0      0   \n",
       "3       Futrelle, Mrs. Jacques Heath (Lily May Peel)  female  35.0      1   \n",
       "4                           Allen, Mr. William Henry    male  35.0      0   \n",
       "\n",
       "   Parch            Ticket     Fare Cabin Embarked  \n",
       "0      0         A/5 21171   7.2500   NaN        S  \n",
       "1      0          PC 17599  71.2833   C85        C  \n",
       "2      0  STON/O2. 3101282   7.9250   NaN        S  \n",
       "3      0            113803  53.1000  C123        S  \n",
       "4      0            373450   8.0500   NaN        S  "
      ]
     },
     "execution_count": 4,
     "metadata": {},
     "output_type": "execute_result"
    }
   ],
   "source": [
    "df.head()"
   ]
  },
  {
   "cell_type": "code",
   "execution_count": 5,
   "id": "7c68ca7e",
   "metadata": {
    "execution": {
     "iopub.execute_input": "2024-05-04T04:25:01.025191Z",
     "iopub.status.busy": "2024-05-04T04:25:01.024833Z",
     "iopub.status.idle": "2024-05-04T04:25:01.033938Z",
     "shell.execute_reply": "2024-05-04T04:25:01.033178Z"
    },
    "papermill": {
     "duration": 0.018172,
     "end_time": "2024-05-04T04:25:01.036041",
     "exception": false,
     "start_time": "2024-05-04T04:25:01.017869",
     "status": "completed"
    },
    "tags": []
   },
   "outputs": [],
   "source": [
    "df.drop(columns=['PassengerId','Name','Ticket','Cabin'],inplace=True)"
   ]
  },
  {
   "cell_type": "code",
   "execution_count": 6,
   "id": "ad6b8a9f",
   "metadata": {
    "execution": {
     "iopub.execute_input": "2024-05-04T04:25:01.050001Z",
     "iopub.status.busy": "2024-05-04T04:25:01.049292Z",
     "iopub.status.idle": "2024-05-04T04:25:01.060239Z",
     "shell.execute_reply": "2024-05-04T04:25:01.059227Z"
    },
    "papermill": {
     "duration": 0.020371,
     "end_time": "2024-05-04T04:25:01.062647",
     "exception": false,
     "start_time": "2024-05-04T04:25:01.042276",
     "status": "completed"
    },
    "tags": []
   },
   "outputs": [],
   "source": [
    "# Step 1 -> train/test/split\n",
    "X_train,X_test,y_train,y_test = train_test_split(df.drop(columns=['Survived']),\n",
    "                                                 df['Survived'],\n",
    "                                                 test_size=0.2,\n",
    "                                                random_state=42)"
   ]
  },
  {
   "cell_type": "code",
   "execution_count": 7,
   "id": "21375e9a",
   "metadata": {
    "execution": {
     "iopub.execute_input": "2024-05-04T04:25:01.076351Z",
     "iopub.status.busy": "2024-05-04T04:25:01.075871Z",
     "iopub.status.idle": "2024-05-04T04:25:01.089581Z",
     "shell.execute_reply": "2024-05-04T04:25:01.088498Z"
    },
    "papermill": {
     "duration": 0.023231,
     "end_time": "2024-05-04T04:25:01.091913",
     "exception": false,
     "start_time": "2024-05-04T04:25:01.068682",
     "status": "completed"
    },
    "tags": []
   },
   "outputs": [
    {
     "data": {
      "text/html": [
       "<div>\n",
       "<style scoped>\n",
       "    .dataframe tbody tr th:only-of-type {\n",
       "        vertical-align: middle;\n",
       "    }\n",
       "\n",
       "    .dataframe tbody tr th {\n",
       "        vertical-align: top;\n",
       "    }\n",
       "\n",
       "    .dataframe thead th {\n",
       "        text-align: right;\n",
       "    }\n",
       "</style>\n",
       "<table border=\"1\" class=\"dataframe\">\n",
       "  <thead>\n",
       "    <tr style=\"text-align: right;\">\n",
       "      <th></th>\n",
       "      <th>Pclass</th>\n",
       "      <th>Sex</th>\n",
       "      <th>Age</th>\n",
       "      <th>SibSp</th>\n",
       "      <th>Parch</th>\n",
       "      <th>Fare</th>\n",
       "      <th>Embarked</th>\n",
       "    </tr>\n",
       "  </thead>\n",
       "  <tbody>\n",
       "    <tr>\n",
       "      <th>331</th>\n",
       "      <td>1</td>\n",
       "      <td>male</td>\n",
       "      <td>45.5</td>\n",
       "      <td>0</td>\n",
       "      <td>0</td>\n",
       "      <td>28.5000</td>\n",
       "      <td>S</td>\n",
       "    </tr>\n",
       "    <tr>\n",
       "      <th>733</th>\n",
       "      <td>2</td>\n",
       "      <td>male</td>\n",
       "      <td>23.0</td>\n",
       "      <td>0</td>\n",
       "      <td>0</td>\n",
       "      <td>13.0000</td>\n",
       "      <td>S</td>\n",
       "    </tr>\n",
       "    <tr>\n",
       "      <th>382</th>\n",
       "      <td>3</td>\n",
       "      <td>male</td>\n",
       "      <td>32.0</td>\n",
       "      <td>0</td>\n",
       "      <td>0</td>\n",
       "      <td>7.9250</td>\n",
       "      <td>S</td>\n",
       "    </tr>\n",
       "    <tr>\n",
       "      <th>704</th>\n",
       "      <td>3</td>\n",
       "      <td>male</td>\n",
       "      <td>26.0</td>\n",
       "      <td>1</td>\n",
       "      <td>0</td>\n",
       "      <td>7.8542</td>\n",
       "      <td>S</td>\n",
       "    </tr>\n",
       "    <tr>\n",
       "      <th>813</th>\n",
       "      <td>3</td>\n",
       "      <td>female</td>\n",
       "      <td>6.0</td>\n",
       "      <td>4</td>\n",
       "      <td>2</td>\n",
       "      <td>31.2750</td>\n",
       "      <td>S</td>\n",
       "    </tr>\n",
       "  </tbody>\n",
       "</table>\n",
       "</div>"
      ],
      "text/plain": [
       "     Pclass     Sex   Age  SibSp  Parch     Fare Embarked\n",
       "331       1    male  45.5      0      0  28.5000        S\n",
       "733       2    male  23.0      0      0  13.0000        S\n",
       "382       3    male  32.0      0      0   7.9250        S\n",
       "704       3    male  26.0      1      0   7.8542        S\n",
       "813       3  female   6.0      4      2  31.2750        S"
      ]
     },
     "execution_count": 7,
     "metadata": {},
     "output_type": "execute_result"
    }
   ],
   "source": [
    "X_train.head()"
   ]
  },
  {
   "cell_type": "code",
   "execution_count": 8,
   "id": "e5c78edc",
   "metadata": {
    "execution": {
     "iopub.execute_input": "2024-05-04T04:25:01.106181Z",
     "iopub.status.busy": "2024-05-04T04:25:01.105847Z",
     "iopub.status.idle": "2024-05-04T04:25:01.114952Z",
     "shell.execute_reply": "2024-05-04T04:25:01.113828Z"
    },
    "papermill": {
     "duration": 0.018788,
     "end_time": "2024-05-04T04:25:01.117177",
     "exception": false,
     "start_time": "2024-05-04T04:25:01.098389",
     "status": "completed"
    },
    "tags": []
   },
   "outputs": [
    {
     "data": {
      "text/plain": [
       "105    0\n",
       "406    0\n",
       "878    0\n",
       "548    0\n",
       "459    0\n",
       "Name: Survived, dtype: int64"
      ]
     },
     "execution_count": 8,
     "metadata": {},
     "output_type": "execute_result"
    }
   ],
   "source": [
    "y_train.sample(5)"
   ]
  },
  {
   "cell_type": "code",
   "execution_count": 9,
   "id": "f2046f1e",
   "metadata": {
    "execution": {
     "iopub.execute_input": "2024-05-04T04:25:01.131193Z",
     "iopub.status.busy": "2024-05-04T04:25:01.130887Z",
     "iopub.status.idle": "2024-05-04T04:25:01.135849Z",
     "shell.execute_reply": "2024-05-04T04:25:01.134947Z"
    },
    "papermill": {
     "duration": 0.014599,
     "end_time": "2024-05-04T04:25:01.138036",
     "exception": false,
     "start_time": "2024-05-04T04:25:01.123437",
     "status": "completed"
    },
    "tags": []
   },
   "outputs": [],
   "source": [
    "# imputation transformer\n",
    "trf1 = ColumnTransformer([\n",
    "    ('impute_age',SimpleImputer(),[2]),\n",
    "    ('impute_embarked',SimpleImputer(strategy='most_frequent'),[6])\n",
    "],remainder='passthrough')"
   ]
  },
  {
   "cell_type": "code",
   "execution_count": 10,
   "id": "358f8301",
   "metadata": {
    "execution": {
     "iopub.execute_input": "2024-05-04T04:25:01.152264Z",
     "iopub.status.busy": "2024-05-04T04:25:01.151963Z",
     "iopub.status.idle": "2024-05-04T04:25:01.156800Z",
     "shell.execute_reply": "2024-05-04T04:25:01.155831Z"
    },
    "papermill": {
     "duration": 0.014556,
     "end_time": "2024-05-04T04:25:01.159044",
     "exception": false,
     "start_time": "2024-05-04T04:25:01.144488",
     "status": "completed"
    },
    "tags": []
   },
   "outputs": [],
   "source": [
    "# one hot encoding\n",
    "trf2 = ColumnTransformer([\n",
    "    ('ohe_sex_embarked',OneHotEncoder(sparse=False,handle_unknown='ignore'),[1,6])\n",
    "],remainder='passthrough')"
   ]
  },
  {
   "cell_type": "code",
   "execution_count": 11,
   "id": "36c570f7",
   "metadata": {
    "execution": {
     "iopub.execute_input": "2024-05-04T04:25:01.173523Z",
     "iopub.status.busy": "2024-05-04T04:25:01.173200Z",
     "iopub.status.idle": "2024-05-04T04:25:01.177801Z",
     "shell.execute_reply": "2024-05-04T04:25:01.176809Z"
    },
    "papermill": {
     "duration": 0.01464,
     "end_time": "2024-05-04T04:25:01.179989",
     "exception": false,
     "start_time": "2024-05-04T04:25:01.165349",
     "status": "completed"
    },
    "tags": []
   },
   "outputs": [],
   "source": [
    "# Scaling\n",
    "trf3 = ColumnTransformer([\n",
    "    ('scale',MinMaxScaler(),slice(0,10))\n",
    "])"
   ]
  },
  {
   "cell_type": "code",
   "execution_count": 12,
   "id": "a4ae7cb4",
   "metadata": {
    "execution": {
     "iopub.execute_input": "2024-05-04T04:25:01.194538Z",
     "iopub.status.busy": "2024-05-04T04:25:01.194205Z",
     "iopub.status.idle": "2024-05-04T04:25:01.198555Z",
     "shell.execute_reply": "2024-05-04T04:25:01.197566Z"
    },
    "papermill": {
     "duration": 0.014151,
     "end_time": "2024-05-04T04:25:01.200617",
     "exception": false,
     "start_time": "2024-05-04T04:25:01.186466",
     "status": "completed"
    },
    "tags": []
   },
   "outputs": [],
   "source": [
    "# Feature selection\n",
    "trf4 = SelectKBest(score_func=chi2,k=8)"
   ]
  },
  {
   "cell_type": "code",
   "execution_count": 13,
   "id": "f8b7a869",
   "metadata": {
    "execution": {
     "iopub.execute_input": "2024-05-04T04:25:01.214546Z",
     "iopub.status.busy": "2024-05-04T04:25:01.214262Z",
     "iopub.status.idle": "2024-05-04T04:25:01.218232Z",
     "shell.execute_reply": "2024-05-04T04:25:01.217236Z"
    },
    "papermill": {
     "duration": 0.013309,
     "end_time": "2024-05-04T04:25:01.220265",
     "exception": false,
     "start_time": "2024-05-04T04:25:01.206956",
     "status": "completed"
    },
    "tags": []
   },
   "outputs": [],
   "source": [
    "# train the model\n",
    "trf5 = DecisionTreeClassifier()"
   ]
  },
  {
   "cell_type": "markdown",
   "id": "0ac3a87c",
   "metadata": {
    "papermill": {
     "duration": 0.006198,
     "end_time": "2024-05-04T04:25:01.233852",
     "exception": false,
     "start_time": "2024-05-04T04:25:01.227654",
     "status": "completed"
    },
    "tags": []
   },
   "source": [
    "# **Create Pipeline**"
   ]
  },
  {
   "cell_type": "code",
   "execution_count": 14,
   "id": "48602ed8",
   "metadata": {
    "execution": {
     "iopub.execute_input": "2024-05-04T04:25:01.248539Z",
     "iopub.status.busy": "2024-05-04T04:25:01.247417Z",
     "iopub.status.idle": "2024-05-04T04:25:01.252429Z",
     "shell.execute_reply": "2024-05-04T04:25:01.251700Z"
    },
    "papermill": {
     "duration": 0.014208,
     "end_time": "2024-05-04T04:25:01.254395",
     "exception": false,
     "start_time": "2024-05-04T04:25:01.240187",
     "status": "completed"
    },
    "tags": []
   },
   "outputs": [],
   "source": [
    "pipe = Pipeline([\n",
    "    ('trf1',trf1),\n",
    "    ('trf2',trf2),\n",
    "    ('trf3',trf3),\n",
    "    ('trf4',trf4),\n",
    "    ('trf5',trf5)\n",
    "])"
   ]
  },
  {
   "cell_type": "markdown",
   "id": "65a3308c",
   "metadata": {
    "papermill": {
     "duration": 0.005934,
     "end_time": "2024-05-04T04:25:01.266675",
     "exception": false,
     "start_time": "2024-05-04T04:25:01.260741",
     "status": "completed"
    },
    "tags": []
   },
   "source": [
    "# **Pipeline Vs make_pipeline**\n",
    "Pipeline requires naming of steps, make_pipeline does not.\n",
    "\n",
    "(Same applies to ColumnTransformer vs make_column_transformer)"
   ]
  },
  {
   "cell_type": "code",
   "execution_count": null,
   "id": "45ae2c55",
   "metadata": {
    "papermill": {
     "duration": 0.006208,
     "end_time": "2024-05-04T04:25:01.279580",
     "exception": false,
     "start_time": "2024-05-04T04:25:01.273372",
     "status": "completed"
    },
    "tags": []
   },
   "outputs": [],
   "source": []
  }
 ],
 "metadata": {
  "kaggle": {
   "accelerator": "none",
   "dataSources": [
    {
     "datasetId": 1247358,
     "sourceId": 2080558,
     "sourceType": "datasetVersion"
    }
   ],
   "dockerImageVersionId": 30698,
   "isGpuEnabled": false,
   "isInternetEnabled": false,
   "language": "python",
   "sourceType": "notebook"
  },
  "kernelspec": {
   "display_name": "Python 3",
   "language": "python",
   "name": "python3"
  },
  "language_info": {
   "codemirror_mode": {
    "name": "ipython",
    "version": 3
   },
   "file_extension": ".py",
   "mimetype": "text/x-python",
   "name": "python",
   "nbconvert_exporter": "python",
   "pygments_lexer": "ipython3",
   "version": "3.10.13"
  },
  "papermill": {
   "default_parameters": {},
   "duration": 6.40639,
   "end_time": "2024-05-04T04:25:01.805308",
   "environment_variables": {},
   "exception": null,
   "input_path": "__notebook__.ipynb",
   "output_path": "__notebook__.ipynb",
   "parameters": {},
   "start_time": "2024-05-04T04:24:55.398918",
   "version": "2.5.0"
  }
 },
 "nbformat": 4,
 "nbformat_minor": 5
}
