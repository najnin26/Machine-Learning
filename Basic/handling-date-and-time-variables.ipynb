{
 "cells": [
  {
   "cell_type": "code",
   "execution_count": 1,
   "id": "268b3109",
   "metadata": {
    "_cell_guid": "b1076dfc-b9ad-4769-8c92-a6c4dae69d19",
    "_uuid": "8f2839f25d086af736a60e9eeb907d3b93b6e0e5",
    "execution": {
     "iopub.execute_input": "2024-05-12T16:13:07.499656Z",
     "iopub.status.busy": "2024-05-12T16:13:07.498911Z",
     "iopub.status.idle": "2024-05-12T16:13:08.317885Z",
     "shell.execute_reply": "2024-05-12T16:13:08.316752Z"
    },
    "papermill": {
     "duration": 0.83025,
     "end_time": "2024-05-12T16:13:08.320843",
     "exception": false,
     "start_time": "2024-05-12T16:13:07.490593",
     "status": "completed"
    },
    "tags": []
   },
   "outputs": [],
   "source": [
    "import numpy as np # linear algebra\n",
    "import pandas as pd # data processing, CSV file I/O (e.g. pd.read_csv)"
   ]
  },
  {
   "cell_type": "code",
   "execution_count": 2,
   "id": "3ce0f027",
   "metadata": {
    "execution": {
     "iopub.execute_input": "2024-05-12T16:13:08.334686Z",
     "iopub.status.busy": "2024-05-12T16:13:08.334166Z",
     "iopub.status.idle": "2024-05-12T16:13:08.367662Z",
     "shell.execute_reply": "2024-05-12T16:13:08.366784Z"
    },
    "papermill": {
     "duration": 0.043095,
     "end_time": "2024-05-12T16:13:08.370209",
     "exception": false,
     "start_time": "2024-05-12T16:13:08.327114",
     "status": "completed"
    },
    "tags": []
   },
   "outputs": [],
   "source": [
    "date = pd.read_csv('/kaggle/input/orders/orders.csv')\n",
    "time = pd.read_csv('/kaggle/input/messages/messages.csv')"
   ]
  },
  {
   "cell_type": "code",
   "execution_count": 3,
   "id": "e6977e15",
   "metadata": {
    "execution": {
     "iopub.execute_input": "2024-05-12T16:13:08.383639Z",
     "iopub.status.busy": "2024-05-12T16:13:08.383306Z",
     "iopub.status.idle": "2024-05-12T16:13:08.402425Z",
     "shell.execute_reply": "2024-05-12T16:13:08.401280Z"
    },
    "papermill": {
     "duration": 0.028289,
     "end_time": "2024-05-12T16:13:08.404606",
     "exception": false,
     "start_time": "2024-05-12T16:13:08.376317",
     "status": "completed"
    },
    "tags": []
   },
   "outputs": [
    {
     "data": {
      "text/html": [
       "<div>\n",
       "<style scoped>\n",
       "    .dataframe tbody tr th:only-of-type {\n",
       "        vertical-align: middle;\n",
       "    }\n",
       "\n",
       "    .dataframe tbody tr th {\n",
       "        vertical-align: top;\n",
       "    }\n",
       "\n",
       "    .dataframe thead th {\n",
       "        text-align: right;\n",
       "    }\n",
       "</style>\n",
       "<table border=\"1\" class=\"dataframe\">\n",
       "  <thead>\n",
       "    <tr style=\"text-align: right;\">\n",
       "      <th></th>\n",
       "      <th>date</th>\n",
       "      <th>product_id</th>\n",
       "      <th>city_id</th>\n",
       "      <th>orders</th>\n",
       "    </tr>\n",
       "  </thead>\n",
       "  <tbody>\n",
       "    <tr>\n",
       "      <th>0</th>\n",
       "      <td>2019-12-10</td>\n",
       "      <td>5628</td>\n",
       "      <td>25</td>\n",
       "      <td>3</td>\n",
       "    </tr>\n",
       "    <tr>\n",
       "      <th>1</th>\n",
       "      <td>2018-08-15</td>\n",
       "      <td>3646</td>\n",
       "      <td>14</td>\n",
       "      <td>157</td>\n",
       "    </tr>\n",
       "    <tr>\n",
       "      <th>2</th>\n",
       "      <td>2018-10-23</td>\n",
       "      <td>1859</td>\n",
       "      <td>25</td>\n",
       "      <td>1</td>\n",
       "    </tr>\n",
       "    <tr>\n",
       "      <th>3</th>\n",
       "      <td>2019-08-17</td>\n",
       "      <td>7292</td>\n",
       "      <td>25</td>\n",
       "      <td>1</td>\n",
       "    </tr>\n",
       "    <tr>\n",
       "      <th>4</th>\n",
       "      <td>2019-01-06</td>\n",
       "      <td>4344</td>\n",
       "      <td>25</td>\n",
       "      <td>3</td>\n",
       "    </tr>\n",
       "  </tbody>\n",
       "</table>\n",
       "</div>"
      ],
      "text/plain": [
       "         date  product_id  city_id  orders\n",
       "0  2019-12-10        5628       25       3\n",
       "1  2018-08-15        3646       14     157\n",
       "2  2018-10-23        1859       25       1\n",
       "3  2019-08-17        7292       25       1\n",
       "4  2019-01-06        4344       25       3"
      ]
     },
     "execution_count": 3,
     "metadata": {},
     "output_type": "execute_result"
    }
   ],
   "source": [
    "date.head()"
   ]
  },
  {
   "cell_type": "code",
   "execution_count": 4,
   "id": "546a1d78",
   "metadata": {
    "execution": {
     "iopub.execute_input": "2024-05-12T16:13:08.418035Z",
     "iopub.status.busy": "2024-05-12T16:13:08.417677Z",
     "iopub.status.idle": "2024-05-12T16:13:08.427442Z",
     "shell.execute_reply": "2024-05-12T16:13:08.426472Z"
    },
    "papermill": {
     "duration": 0.018835,
     "end_time": "2024-05-12T16:13:08.429656",
     "exception": false,
     "start_time": "2024-05-12T16:13:08.410821",
     "status": "completed"
    },
    "tags": []
   },
   "outputs": [
    {
     "data": {
      "text/html": [
       "<div>\n",
       "<style scoped>\n",
       "    .dataframe tbody tr th:only-of-type {\n",
       "        vertical-align: middle;\n",
       "    }\n",
       "\n",
       "    .dataframe tbody tr th {\n",
       "        vertical-align: top;\n",
       "    }\n",
       "\n",
       "    .dataframe thead th {\n",
       "        text-align: right;\n",
       "    }\n",
       "</style>\n",
       "<table border=\"1\" class=\"dataframe\">\n",
       "  <thead>\n",
       "    <tr style=\"text-align: right;\">\n",
       "      <th></th>\n",
       "      <th>date</th>\n",
       "      <th>msg</th>\n",
       "    </tr>\n",
       "  </thead>\n",
       "  <tbody>\n",
       "    <tr>\n",
       "      <th>0</th>\n",
       "      <td>2013-12-15 00:50:00</td>\n",
       "      <td>ищу на сегодня мужика 37</td>\n",
       "    </tr>\n",
       "    <tr>\n",
       "      <th>1</th>\n",
       "      <td>2014-04-29 23:40:00</td>\n",
       "      <td>ПАРЕНЬ БИ ИЩЕТ ДРУГА СЕЙЧАС!! СМС ММС 0955532826</td>\n",
       "    </tr>\n",
       "    <tr>\n",
       "      <th>2</th>\n",
       "      <td>2012-12-30 00:21:00</td>\n",
       "      <td>Днепр.м 43 позн.с д/ж *.о  067.16.34.576</td>\n",
       "    </tr>\n",
       "    <tr>\n",
       "      <th>3</th>\n",
       "      <td>2014-11-28 00:31:00</td>\n",
       "      <td>КИЕВ ИЩУ Д/Ж ДО 45 МНЕ СЕЙЧАС СКУЧНО 093 629 9...</td>\n",
       "    </tr>\n",
       "    <tr>\n",
       "      <th>4</th>\n",
       "      <td>2013-10-26 23:11:00</td>\n",
       "      <td>Зая я тебя никогда не обижу  люблю тебя!)  Даше</td>\n",
       "    </tr>\n",
       "  </tbody>\n",
       "</table>\n",
       "</div>"
      ],
      "text/plain": [
       "                  date                                                msg\n",
       "0  2013-12-15 00:50:00                           ищу на сегодня мужика 37\n",
       "1  2014-04-29 23:40:00   ПАРЕНЬ БИ ИЩЕТ ДРУГА СЕЙЧАС!! СМС ММС 0955532826\n",
       "2  2012-12-30 00:21:00           Днепр.м 43 позн.с д/ж *.о  067.16.34.576\n",
       "3  2014-11-28 00:31:00  КИЕВ ИЩУ Д/Ж ДО 45 МНЕ СЕЙЧАС СКУЧНО 093 629 9...\n",
       "4  2013-10-26 23:11:00    Зая я тебя никогда не обижу  люблю тебя!)  Даше"
      ]
     },
     "execution_count": 4,
     "metadata": {},
     "output_type": "execute_result"
    }
   ],
   "source": [
    "time.head()"
   ]
  },
  {
   "cell_type": "code",
   "execution_count": 5,
   "id": "41b3fed4",
   "metadata": {
    "execution": {
     "iopub.execute_input": "2024-05-12T16:13:08.443857Z",
     "iopub.status.busy": "2024-05-12T16:13:08.443533Z",
     "iopub.status.idle": "2024-05-12T16:13:08.464409Z",
     "shell.execute_reply": "2024-05-12T16:13:08.463039Z"
    },
    "papermill": {
     "duration": 0.030406,
     "end_time": "2024-05-12T16:13:08.466612",
     "exception": false,
     "start_time": "2024-05-12T16:13:08.436206",
     "status": "completed"
    },
    "tags": []
   },
   "outputs": [
    {
     "name": "stdout",
     "output_type": "stream",
     "text": [
      "<class 'pandas.core.frame.DataFrame'>\n",
      "RangeIndex: 1000 entries, 0 to 999\n",
      "Data columns (total 4 columns):\n",
      " #   Column      Non-Null Count  Dtype \n",
      "---  ------      --------------  ----- \n",
      " 0   date        1000 non-null   object\n",
      " 1   product_id  1000 non-null   int64 \n",
      " 2   city_id     1000 non-null   int64 \n",
      " 3   orders      1000 non-null   int64 \n",
      "dtypes: int64(3), object(1)\n",
      "memory usage: 31.4+ KB\n"
     ]
    }
   ],
   "source": [
    "date.info()"
   ]
  },
  {
   "cell_type": "markdown",
   "id": "a559c0aa",
   "metadata": {
    "papermill": {
     "duration": 0.006167,
     "end_time": "2024-05-12T16:13:08.479346",
     "exception": false,
     "start_time": "2024-05-12T16:13:08.473179",
     "status": "completed"
    },
    "tags": []
   },
   "source": [
    "# **Working with Dates**"
   ]
  },
  {
   "cell_type": "code",
   "execution_count": 6,
   "id": "cd7a7e84",
   "metadata": {
    "execution": {
     "iopub.execute_input": "2024-05-12T16:13:08.494091Z",
     "iopub.status.busy": "2024-05-12T16:13:08.493285Z",
     "iopub.status.idle": "2024-05-12T16:13:08.503145Z",
     "shell.execute_reply": "2024-05-12T16:13:08.502344Z"
    },
    "papermill": {
     "duration": 0.019773,
     "end_time": "2024-05-12T16:13:08.505542",
     "exception": false,
     "start_time": "2024-05-12T16:13:08.485769",
     "status": "completed"
    },
    "tags": []
   },
   "outputs": [],
   "source": [
    "date['date'] = pd.to_datetime(date['date'])"
   ]
  },
  {
   "cell_type": "code",
   "execution_count": 7,
   "id": "ba55cc50",
   "metadata": {
    "execution": {
     "iopub.execute_input": "2024-05-12T16:13:08.520204Z",
     "iopub.status.busy": "2024-05-12T16:13:08.519823Z",
     "iopub.status.idle": "2024-05-12T16:13:08.529630Z",
     "shell.execute_reply": "2024-05-12T16:13:08.528571Z"
    },
    "papermill": {
     "duration": 0.019906,
     "end_time": "2024-05-12T16:13:08.532038",
     "exception": false,
     "start_time": "2024-05-12T16:13:08.512132",
     "status": "completed"
    },
    "tags": []
   },
   "outputs": [
    {
     "name": "stdout",
     "output_type": "stream",
     "text": [
      "<class 'pandas.core.series.Series'>\n",
      "RangeIndex: 1000 entries, 0 to 999\n",
      "Series name: date\n",
      "Non-Null Count  Dtype         \n",
      "--------------  -----         \n",
      "1000 non-null   datetime64[ns]\n",
      "dtypes: datetime64[ns](1)\n",
      "memory usage: 7.9 KB\n"
     ]
    }
   ],
   "source": [
    "date['date'].info()"
   ]
  },
  {
   "cell_type": "markdown",
   "id": "c31bddae",
   "metadata": {
    "papermill": {
     "duration": 0.006403,
     "end_time": "2024-05-12T16:13:08.545316",
     "exception": false,
     "start_time": "2024-05-12T16:13:08.538913",
     "status": "completed"
    },
    "tags": []
   },
   "source": [
    "# 1. Extract year"
   ]
  },
  {
   "cell_type": "code",
   "execution_count": 8,
   "id": "7d9c4068",
   "metadata": {
    "execution": {
     "iopub.execute_input": "2024-05-12T16:13:08.560367Z",
     "iopub.status.busy": "2024-05-12T16:13:08.559351Z",
     "iopub.status.idle": "2024-05-12T16:13:08.571675Z",
     "shell.execute_reply": "2024-05-12T16:13:08.570690Z"
    },
    "papermill": {
     "duration": 0.021926,
     "end_time": "2024-05-12T16:13:08.573726",
     "exception": false,
     "start_time": "2024-05-12T16:13:08.551800",
     "status": "completed"
    },
    "tags": []
   },
   "outputs": [
    {
     "data": {
      "text/html": [
       "<div>\n",
       "<style scoped>\n",
       "    .dataframe tbody tr th:only-of-type {\n",
       "        vertical-align: middle;\n",
       "    }\n",
       "\n",
       "    .dataframe tbody tr th {\n",
       "        vertical-align: top;\n",
       "    }\n",
       "\n",
       "    .dataframe thead th {\n",
       "        text-align: right;\n",
       "    }\n",
       "</style>\n",
       "<table border=\"1\" class=\"dataframe\">\n",
       "  <thead>\n",
       "    <tr style=\"text-align: right;\">\n",
       "      <th></th>\n",
       "      <th>date</th>\n",
       "      <th>product_id</th>\n",
       "      <th>city_id</th>\n",
       "      <th>orders</th>\n",
       "      <th>date_year</th>\n",
       "    </tr>\n",
       "  </thead>\n",
       "  <tbody>\n",
       "    <tr>\n",
       "      <th>0</th>\n",
       "      <td>2019-12-10</td>\n",
       "      <td>5628</td>\n",
       "      <td>25</td>\n",
       "      <td>3</td>\n",
       "      <td>2019</td>\n",
       "    </tr>\n",
       "    <tr>\n",
       "      <th>1</th>\n",
       "      <td>2018-08-15</td>\n",
       "      <td>3646</td>\n",
       "      <td>14</td>\n",
       "      <td>157</td>\n",
       "      <td>2018</td>\n",
       "    </tr>\n",
       "    <tr>\n",
       "      <th>2</th>\n",
       "      <td>2018-10-23</td>\n",
       "      <td>1859</td>\n",
       "      <td>25</td>\n",
       "      <td>1</td>\n",
       "      <td>2018</td>\n",
       "    </tr>\n",
       "    <tr>\n",
       "      <th>3</th>\n",
       "      <td>2019-08-17</td>\n",
       "      <td>7292</td>\n",
       "      <td>25</td>\n",
       "      <td>1</td>\n",
       "      <td>2019</td>\n",
       "    </tr>\n",
       "    <tr>\n",
       "      <th>4</th>\n",
       "      <td>2019-01-06</td>\n",
       "      <td>4344</td>\n",
       "      <td>25</td>\n",
       "      <td>3</td>\n",
       "      <td>2019</td>\n",
       "    </tr>\n",
       "  </tbody>\n",
       "</table>\n",
       "</div>"
      ],
      "text/plain": [
       "        date  product_id  city_id  orders  date_year\n",
       "0 2019-12-10        5628       25       3       2019\n",
       "1 2018-08-15        3646       14     157       2018\n",
       "2 2018-10-23        1859       25       1       2018\n",
       "3 2019-08-17        7292       25       1       2019\n",
       "4 2019-01-06        4344       25       3       2019"
      ]
     },
     "execution_count": 8,
     "metadata": {},
     "output_type": "execute_result"
    }
   ],
   "source": [
    "date['date_year'] = date['date'].dt.year\n",
    "date.head()"
   ]
  },
  {
   "cell_type": "markdown",
   "id": "ce4d4a62",
   "metadata": {
    "papermill": {
     "duration": 0.006702,
     "end_time": "2024-05-12T16:13:08.587628",
     "exception": false,
     "start_time": "2024-05-12T16:13:08.580926",
     "status": "completed"
    },
    "tags": []
   },
   "source": [
    "# 2. Extract Month"
   ]
  },
  {
   "cell_type": "code",
   "execution_count": 9,
   "id": "b15f063c",
   "metadata": {
    "execution": {
     "iopub.execute_input": "2024-05-12T16:13:08.603111Z",
     "iopub.status.busy": "2024-05-12T16:13:08.602471Z",
     "iopub.status.idle": "2024-05-12T16:13:08.615357Z",
     "shell.execute_reply": "2024-05-12T16:13:08.614191Z"
    },
    "papermill": {
     "duration": 0.023267,
     "end_time": "2024-05-12T16:13:08.617521",
     "exception": false,
     "start_time": "2024-05-12T16:13:08.594254",
     "status": "completed"
    },
    "tags": []
   },
   "outputs": [
    {
     "data": {
      "text/html": [
       "<div>\n",
       "<style scoped>\n",
       "    .dataframe tbody tr th:only-of-type {\n",
       "        vertical-align: middle;\n",
       "    }\n",
       "\n",
       "    .dataframe tbody tr th {\n",
       "        vertical-align: top;\n",
       "    }\n",
       "\n",
       "    .dataframe thead th {\n",
       "        text-align: right;\n",
       "    }\n",
       "</style>\n",
       "<table border=\"1\" class=\"dataframe\">\n",
       "  <thead>\n",
       "    <tr style=\"text-align: right;\">\n",
       "      <th></th>\n",
       "      <th>date</th>\n",
       "      <th>product_id</th>\n",
       "      <th>city_id</th>\n",
       "      <th>orders</th>\n",
       "      <th>date_year</th>\n",
       "      <th>date_month_no</th>\n",
       "    </tr>\n",
       "  </thead>\n",
       "  <tbody>\n",
       "    <tr>\n",
       "      <th>0</th>\n",
       "      <td>2019-12-10</td>\n",
       "      <td>5628</td>\n",
       "      <td>25</td>\n",
       "      <td>3</td>\n",
       "      <td>2019</td>\n",
       "      <td>12</td>\n",
       "    </tr>\n",
       "    <tr>\n",
       "      <th>1</th>\n",
       "      <td>2018-08-15</td>\n",
       "      <td>3646</td>\n",
       "      <td>14</td>\n",
       "      <td>157</td>\n",
       "      <td>2018</td>\n",
       "      <td>8</td>\n",
       "    </tr>\n",
       "    <tr>\n",
       "      <th>2</th>\n",
       "      <td>2018-10-23</td>\n",
       "      <td>1859</td>\n",
       "      <td>25</td>\n",
       "      <td>1</td>\n",
       "      <td>2018</td>\n",
       "      <td>10</td>\n",
       "    </tr>\n",
       "    <tr>\n",
       "      <th>3</th>\n",
       "      <td>2019-08-17</td>\n",
       "      <td>7292</td>\n",
       "      <td>25</td>\n",
       "      <td>1</td>\n",
       "      <td>2019</td>\n",
       "      <td>8</td>\n",
       "    </tr>\n",
       "    <tr>\n",
       "      <th>4</th>\n",
       "      <td>2019-01-06</td>\n",
       "      <td>4344</td>\n",
       "      <td>25</td>\n",
       "      <td>3</td>\n",
       "      <td>2019</td>\n",
       "      <td>1</td>\n",
       "    </tr>\n",
       "  </tbody>\n",
       "</table>\n",
       "</div>"
      ],
      "text/plain": [
       "        date  product_id  city_id  orders  date_year  date_month_no\n",
       "0 2019-12-10        5628       25       3       2019             12\n",
       "1 2018-08-15        3646       14     157       2018              8\n",
       "2 2018-10-23        1859       25       1       2018             10\n",
       "3 2019-08-17        7292       25       1       2019              8\n",
       "4 2019-01-06        4344       25       3       2019              1"
      ]
     },
     "execution_count": 9,
     "metadata": {},
     "output_type": "execute_result"
    }
   ],
   "source": [
    "date['date_month_no'] = date['date'].dt.month\n",
    "date.head()"
   ]
  },
  {
   "cell_type": "code",
   "execution_count": 10,
   "id": "66fd5026",
   "metadata": {
    "execution": {
     "iopub.execute_input": "2024-05-12T16:13:08.634824Z",
     "iopub.status.busy": "2024-05-12T16:13:08.634202Z",
     "iopub.status.idle": "2024-05-12T16:13:08.648144Z",
     "shell.execute_reply": "2024-05-12T16:13:08.646926Z"
    },
    "papermill": {
     "duration": 0.024487,
     "end_time": "2024-05-12T16:13:08.650243",
     "exception": false,
     "start_time": "2024-05-12T16:13:08.625756",
     "status": "completed"
    },
    "tags": []
   },
   "outputs": [
    {
     "data": {
      "text/html": [
       "<div>\n",
       "<style scoped>\n",
       "    .dataframe tbody tr th:only-of-type {\n",
       "        vertical-align: middle;\n",
       "    }\n",
       "\n",
       "    .dataframe tbody tr th {\n",
       "        vertical-align: top;\n",
       "    }\n",
       "\n",
       "    .dataframe thead th {\n",
       "        text-align: right;\n",
       "    }\n",
       "</style>\n",
       "<table border=\"1\" class=\"dataframe\">\n",
       "  <thead>\n",
       "    <tr style=\"text-align: right;\">\n",
       "      <th></th>\n",
       "      <th>date</th>\n",
       "      <th>product_id</th>\n",
       "      <th>city_id</th>\n",
       "      <th>orders</th>\n",
       "      <th>date_year</th>\n",
       "      <th>date_month_no</th>\n",
       "      <th>date_month_name</th>\n",
       "    </tr>\n",
       "  </thead>\n",
       "  <tbody>\n",
       "    <tr>\n",
       "      <th>0</th>\n",
       "      <td>2019-12-10</td>\n",
       "      <td>5628</td>\n",
       "      <td>25</td>\n",
       "      <td>3</td>\n",
       "      <td>2019</td>\n",
       "      <td>12</td>\n",
       "      <td>December</td>\n",
       "    </tr>\n",
       "    <tr>\n",
       "      <th>1</th>\n",
       "      <td>2018-08-15</td>\n",
       "      <td>3646</td>\n",
       "      <td>14</td>\n",
       "      <td>157</td>\n",
       "      <td>2018</td>\n",
       "      <td>8</td>\n",
       "      <td>August</td>\n",
       "    </tr>\n",
       "    <tr>\n",
       "      <th>2</th>\n",
       "      <td>2018-10-23</td>\n",
       "      <td>1859</td>\n",
       "      <td>25</td>\n",
       "      <td>1</td>\n",
       "      <td>2018</td>\n",
       "      <td>10</td>\n",
       "      <td>October</td>\n",
       "    </tr>\n",
       "    <tr>\n",
       "      <th>3</th>\n",
       "      <td>2019-08-17</td>\n",
       "      <td>7292</td>\n",
       "      <td>25</td>\n",
       "      <td>1</td>\n",
       "      <td>2019</td>\n",
       "      <td>8</td>\n",
       "      <td>August</td>\n",
       "    </tr>\n",
       "    <tr>\n",
       "      <th>4</th>\n",
       "      <td>2019-01-06</td>\n",
       "      <td>4344</td>\n",
       "      <td>25</td>\n",
       "      <td>3</td>\n",
       "      <td>2019</td>\n",
       "      <td>1</td>\n",
       "      <td>January</td>\n",
       "    </tr>\n",
       "  </tbody>\n",
       "</table>\n",
       "</div>"
      ],
      "text/plain": [
       "        date  product_id  city_id  orders  date_year  date_month_no  \\\n",
       "0 2019-12-10        5628       25       3       2019             12   \n",
       "1 2018-08-15        3646       14     157       2018              8   \n",
       "2 2018-10-23        1859       25       1       2018             10   \n",
       "3 2019-08-17        7292       25       1       2019              8   \n",
       "4 2019-01-06        4344       25       3       2019              1   \n",
       "\n",
       "  date_month_name  \n",
       "0        December  \n",
       "1          August  \n",
       "2         October  \n",
       "3          August  \n",
       "4         January  "
      ]
     },
     "execution_count": 10,
     "metadata": {},
     "output_type": "execute_result"
    }
   ],
   "source": [
    "date['date_month_name'] = date['date'].dt.month_name()\n",
    "date.head()"
   ]
  },
  {
   "cell_type": "markdown",
   "id": "9bb47343",
   "metadata": {
    "papermill": {
     "duration": 0.007491,
     "end_time": "2024-05-12T16:13:08.665115",
     "exception": false,
     "start_time": "2024-05-12T16:13:08.657624",
     "status": "completed"
    },
    "tags": []
   },
   "source": [
    "# Extract Days"
   ]
  },
  {
   "cell_type": "code",
   "execution_count": 11,
   "id": "40b8f3cd",
   "metadata": {
    "execution": {
     "iopub.execute_input": "2024-05-12T16:13:08.681844Z",
     "iopub.status.busy": "2024-05-12T16:13:08.681232Z",
     "iopub.status.idle": "2024-05-12T16:13:08.695427Z",
     "shell.execute_reply": "2024-05-12T16:13:08.694190Z"
    },
    "papermill": {
     "duration": 0.025874,
     "end_time": "2024-05-12T16:13:08.698369",
     "exception": false,
     "start_time": "2024-05-12T16:13:08.672495",
     "status": "completed"
    },
    "tags": []
   },
   "outputs": [
    {
     "data": {
      "text/html": [
       "<div>\n",
       "<style scoped>\n",
       "    .dataframe tbody tr th:only-of-type {\n",
       "        vertical-align: middle;\n",
       "    }\n",
       "\n",
       "    .dataframe tbody tr th {\n",
       "        vertical-align: top;\n",
       "    }\n",
       "\n",
       "    .dataframe thead th {\n",
       "        text-align: right;\n",
       "    }\n",
       "</style>\n",
       "<table border=\"1\" class=\"dataframe\">\n",
       "  <thead>\n",
       "    <tr style=\"text-align: right;\">\n",
       "      <th></th>\n",
       "      <th>date</th>\n",
       "      <th>product_id</th>\n",
       "      <th>city_id</th>\n",
       "      <th>orders</th>\n",
       "      <th>date_year</th>\n",
       "      <th>date_month_no</th>\n",
       "      <th>date_month_name</th>\n",
       "      <th>date_day</th>\n",
       "    </tr>\n",
       "  </thead>\n",
       "  <tbody>\n",
       "    <tr>\n",
       "      <th>0</th>\n",
       "      <td>2019-12-10</td>\n",
       "      <td>5628</td>\n",
       "      <td>25</td>\n",
       "      <td>3</td>\n",
       "      <td>2019</td>\n",
       "      <td>12</td>\n",
       "      <td>December</td>\n",
       "      <td>10</td>\n",
       "    </tr>\n",
       "    <tr>\n",
       "      <th>1</th>\n",
       "      <td>2018-08-15</td>\n",
       "      <td>3646</td>\n",
       "      <td>14</td>\n",
       "      <td>157</td>\n",
       "      <td>2018</td>\n",
       "      <td>8</td>\n",
       "      <td>August</td>\n",
       "      <td>15</td>\n",
       "    </tr>\n",
       "    <tr>\n",
       "      <th>2</th>\n",
       "      <td>2018-10-23</td>\n",
       "      <td>1859</td>\n",
       "      <td>25</td>\n",
       "      <td>1</td>\n",
       "      <td>2018</td>\n",
       "      <td>10</td>\n",
       "      <td>October</td>\n",
       "      <td>23</td>\n",
       "    </tr>\n",
       "    <tr>\n",
       "      <th>3</th>\n",
       "      <td>2019-08-17</td>\n",
       "      <td>7292</td>\n",
       "      <td>25</td>\n",
       "      <td>1</td>\n",
       "      <td>2019</td>\n",
       "      <td>8</td>\n",
       "      <td>August</td>\n",
       "      <td>17</td>\n",
       "    </tr>\n",
       "    <tr>\n",
       "      <th>4</th>\n",
       "      <td>2019-01-06</td>\n",
       "      <td>4344</td>\n",
       "      <td>25</td>\n",
       "      <td>3</td>\n",
       "      <td>2019</td>\n",
       "      <td>1</td>\n",
       "      <td>January</td>\n",
       "      <td>6</td>\n",
       "    </tr>\n",
       "  </tbody>\n",
       "</table>\n",
       "</div>"
      ],
      "text/plain": [
       "        date  product_id  city_id  orders  date_year  date_month_no  \\\n",
       "0 2019-12-10        5628       25       3       2019             12   \n",
       "1 2018-08-15        3646       14     157       2018              8   \n",
       "2 2018-10-23        1859       25       1       2018             10   \n",
       "3 2019-08-17        7292       25       1       2019              8   \n",
       "4 2019-01-06        4344       25       3       2019              1   \n",
       "\n",
       "  date_month_name  date_day  \n",
       "0        December        10  \n",
       "1          August        15  \n",
       "2         October        23  \n",
       "3          August        17  \n",
       "4         January         6  "
      ]
     },
     "execution_count": 11,
     "metadata": {},
     "output_type": "execute_result"
    }
   ],
   "source": [
    "date['date_day'] = date['date'].dt.day\n",
    "date.head()"
   ]
  },
  {
   "cell_type": "code",
   "execution_count": 12,
   "id": "69ab77f2",
   "metadata": {
    "execution": {
     "iopub.execute_input": "2024-05-12T16:13:08.717179Z",
     "iopub.status.busy": "2024-05-12T16:13:08.716042Z",
     "iopub.status.idle": "2024-05-12T16:13:08.730891Z",
     "shell.execute_reply": "2024-05-12T16:13:08.729865Z"
    },
    "papermill": {
     "duration": 0.026189,
     "end_time": "2024-05-12T16:13:08.733220",
     "exception": false,
     "start_time": "2024-05-12T16:13:08.707031",
     "status": "completed"
    },
    "tags": []
   },
   "outputs": [
    {
     "data": {
      "text/html": [
       "<div>\n",
       "<style scoped>\n",
       "    .dataframe tbody tr th:only-of-type {\n",
       "        vertical-align: middle;\n",
       "    }\n",
       "\n",
       "    .dataframe tbody tr th {\n",
       "        vertical-align: top;\n",
       "    }\n",
       "\n",
       "    .dataframe thead th {\n",
       "        text-align: right;\n",
       "    }\n",
       "</style>\n",
       "<table border=\"1\" class=\"dataframe\">\n",
       "  <thead>\n",
       "    <tr style=\"text-align: right;\">\n",
       "      <th></th>\n",
       "      <th>date</th>\n",
       "      <th>product_id</th>\n",
       "      <th>city_id</th>\n",
       "      <th>orders</th>\n",
       "      <th>date_year</th>\n",
       "      <th>date_month_no</th>\n",
       "      <th>date_month_name</th>\n",
       "      <th>date_day</th>\n",
       "      <th>date_dow</th>\n",
       "    </tr>\n",
       "  </thead>\n",
       "  <tbody>\n",
       "    <tr>\n",
       "      <th>0</th>\n",
       "      <td>2019-12-10</td>\n",
       "      <td>5628</td>\n",
       "      <td>25</td>\n",
       "      <td>3</td>\n",
       "      <td>2019</td>\n",
       "      <td>12</td>\n",
       "      <td>December</td>\n",
       "      <td>10</td>\n",
       "      <td>1</td>\n",
       "    </tr>\n",
       "    <tr>\n",
       "      <th>1</th>\n",
       "      <td>2018-08-15</td>\n",
       "      <td>3646</td>\n",
       "      <td>14</td>\n",
       "      <td>157</td>\n",
       "      <td>2018</td>\n",
       "      <td>8</td>\n",
       "      <td>August</td>\n",
       "      <td>15</td>\n",
       "      <td>2</td>\n",
       "    </tr>\n",
       "    <tr>\n",
       "      <th>2</th>\n",
       "      <td>2018-10-23</td>\n",
       "      <td>1859</td>\n",
       "      <td>25</td>\n",
       "      <td>1</td>\n",
       "      <td>2018</td>\n",
       "      <td>10</td>\n",
       "      <td>October</td>\n",
       "      <td>23</td>\n",
       "      <td>1</td>\n",
       "    </tr>\n",
       "    <tr>\n",
       "      <th>3</th>\n",
       "      <td>2019-08-17</td>\n",
       "      <td>7292</td>\n",
       "      <td>25</td>\n",
       "      <td>1</td>\n",
       "      <td>2019</td>\n",
       "      <td>8</td>\n",
       "      <td>August</td>\n",
       "      <td>17</td>\n",
       "      <td>5</td>\n",
       "    </tr>\n",
       "    <tr>\n",
       "      <th>4</th>\n",
       "      <td>2019-01-06</td>\n",
       "      <td>4344</td>\n",
       "      <td>25</td>\n",
       "      <td>3</td>\n",
       "      <td>2019</td>\n",
       "      <td>1</td>\n",
       "      <td>January</td>\n",
       "      <td>6</td>\n",
       "      <td>6</td>\n",
       "    </tr>\n",
       "  </tbody>\n",
       "</table>\n",
       "</div>"
      ],
      "text/plain": [
       "        date  product_id  city_id  orders  date_year  date_month_no  \\\n",
       "0 2019-12-10        5628       25       3       2019             12   \n",
       "1 2018-08-15        3646       14     157       2018              8   \n",
       "2 2018-10-23        1859       25       1       2018             10   \n",
       "3 2019-08-17        7292       25       1       2019              8   \n",
       "4 2019-01-06        4344       25       3       2019              1   \n",
       "\n",
       "  date_month_name  date_day  date_dow  \n",
       "0        December        10         1  \n",
       "1          August        15         2  \n",
       "2         October        23         1  \n",
       "3          August        17         5  \n",
       "4         January         6         6  "
      ]
     },
     "execution_count": 12,
     "metadata": {},
     "output_type": "execute_result"
    }
   ],
   "source": [
    "date['date_dow'] = date['date'].dt.dayofweek\n",
    "date.head()"
   ]
  },
  {
   "cell_type": "code",
   "execution_count": 13,
   "id": "32dd7c1d",
   "metadata": {
    "execution": {
     "iopub.execute_input": "2024-05-12T16:13:08.751569Z",
     "iopub.status.busy": "2024-05-12T16:13:08.750534Z",
     "iopub.status.idle": "2024-05-12T16:13:08.768168Z",
     "shell.execute_reply": "2024-05-12T16:13:08.767206Z"
    },
    "papermill": {
     "duration": 0.02919,
     "end_time": "2024-05-12T16:13:08.770477",
     "exception": false,
     "start_time": "2024-05-12T16:13:08.741287",
     "status": "completed"
    },
    "tags": []
   },
   "outputs": [
    {
     "data": {
      "text/html": [
       "<div>\n",
       "<style scoped>\n",
       "    .dataframe tbody tr th:only-of-type {\n",
       "        vertical-align: middle;\n",
       "    }\n",
       "\n",
       "    .dataframe tbody tr th {\n",
       "        vertical-align: top;\n",
       "    }\n",
       "\n",
       "    .dataframe thead th {\n",
       "        text-align: right;\n",
       "    }\n",
       "</style>\n",
       "<table border=\"1\" class=\"dataframe\">\n",
       "  <thead>\n",
       "    <tr style=\"text-align: right;\">\n",
       "      <th></th>\n",
       "      <th>date</th>\n",
       "      <th>date_year</th>\n",
       "      <th>date_month_no</th>\n",
       "      <th>date_month_name</th>\n",
       "      <th>date_day</th>\n",
       "      <th>date_dow</th>\n",
       "      <th>date_dow_name</th>\n",
       "    </tr>\n",
       "  </thead>\n",
       "  <tbody>\n",
       "    <tr>\n",
       "      <th>0</th>\n",
       "      <td>2019-12-10</td>\n",
       "      <td>2019</td>\n",
       "      <td>12</td>\n",
       "      <td>December</td>\n",
       "      <td>10</td>\n",
       "      <td>1</td>\n",
       "      <td>Tuesday</td>\n",
       "    </tr>\n",
       "    <tr>\n",
       "      <th>1</th>\n",
       "      <td>2018-08-15</td>\n",
       "      <td>2018</td>\n",
       "      <td>8</td>\n",
       "      <td>August</td>\n",
       "      <td>15</td>\n",
       "      <td>2</td>\n",
       "      <td>Wednesday</td>\n",
       "    </tr>\n",
       "    <tr>\n",
       "      <th>2</th>\n",
       "      <td>2018-10-23</td>\n",
       "      <td>2018</td>\n",
       "      <td>10</td>\n",
       "      <td>October</td>\n",
       "      <td>23</td>\n",
       "      <td>1</td>\n",
       "      <td>Tuesday</td>\n",
       "    </tr>\n",
       "    <tr>\n",
       "      <th>3</th>\n",
       "      <td>2019-08-17</td>\n",
       "      <td>2019</td>\n",
       "      <td>8</td>\n",
       "      <td>August</td>\n",
       "      <td>17</td>\n",
       "      <td>5</td>\n",
       "      <td>Saturday</td>\n",
       "    </tr>\n",
       "    <tr>\n",
       "      <th>4</th>\n",
       "      <td>2019-01-06</td>\n",
       "      <td>2019</td>\n",
       "      <td>1</td>\n",
       "      <td>January</td>\n",
       "      <td>6</td>\n",
       "      <td>6</td>\n",
       "      <td>Sunday</td>\n",
       "    </tr>\n",
       "  </tbody>\n",
       "</table>\n",
       "</div>"
      ],
      "text/plain": [
       "        date  date_year  date_month_no date_month_name  date_day  date_dow  \\\n",
       "0 2019-12-10       2019             12        December        10         1   \n",
       "1 2018-08-15       2018              8          August        15         2   \n",
       "2 2018-10-23       2018             10         October        23         1   \n",
       "3 2019-08-17       2019              8          August        17         5   \n",
       "4 2019-01-06       2019              1         January         6         6   \n",
       "\n",
       "  date_dow_name  \n",
       "0       Tuesday  \n",
       "1     Wednesday  \n",
       "2       Tuesday  \n",
       "3      Saturday  \n",
       "4        Sunday  "
      ]
     },
     "execution_count": 13,
     "metadata": {},
     "output_type": "execute_result"
    }
   ],
   "source": [
    "date['date_dow_name'] = date['date'].dt.day_name()\n",
    "date.drop(columns=['product_id','city_id','orders']).head()"
   ]
  },
  {
   "cell_type": "code",
   "execution_count": null,
   "id": "261c4d10",
   "metadata": {
    "papermill": {
     "duration": 0.008149,
     "end_time": "2024-05-12T16:13:08.787269",
     "exception": false,
     "start_time": "2024-05-12T16:13:08.779120",
     "status": "completed"
    },
    "tags": []
   },
   "outputs": [],
   "source": []
  }
 ],
 "metadata": {
  "kaggle": {
   "accelerator": "none",
   "dataSources": [
    {
     "datasetId": 4985009,
     "sourceId": 8382451,
     "sourceType": "datasetVersion"
    },
    {
     "datasetId": 4985012,
     "sourceId": 8382455,
     "sourceType": "datasetVersion"
    }
   ],
   "dockerImageVersionId": 30698,
   "isGpuEnabled": false,
   "isInternetEnabled": false,
   "language": "python",
   "sourceType": "notebook"
  },
  "kernelspec": {
   "display_name": "Python 3",
   "language": "python",
   "name": "python3"
  },
  "language_info": {
   "codemirror_mode": {
    "name": "ipython",
    "version": 3
   },
   "file_extension": ".py",
   "mimetype": "text/x-python",
   "name": "python",
   "nbconvert_exporter": "python",
   "pygments_lexer": "ipython3",
   "version": "3.10.13"
  },
  "papermill": {
   "default_parameters": {},
   "duration": 4.826775,
   "end_time": "2024-05-12T16:13:09.215081",
   "environment_variables": {},
   "exception": null,
   "input_path": "__notebook__.ipynb",
   "output_path": "__notebook__.ipynb",
   "parameters": {},
   "start_time": "2024-05-12T16:13:04.388306",
   "version": "2.5.0"
  }
 },
 "nbformat": 4,
 "nbformat_minor": 5
}
