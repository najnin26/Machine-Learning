{
 "cells": [
  {
   "cell_type": "code",
   "execution_count": 1,
   "id": "a6abbf58",
   "metadata": {
    "_cell_guid": "b1076dfc-b9ad-4769-8c92-a6c4dae69d19",
    "_uuid": "8f2839f25d086af736a60e9eeb907d3b93b6e0e5",
    "execution": {
     "iopub.execute_input": "2024-07-02T08:14:21.344061Z",
     "iopub.status.busy": "2024-07-02T08:14:21.343638Z",
     "iopub.status.idle": "2024-07-02T08:14:23.719094Z",
     "shell.execute_reply": "2024-07-02T08:14:23.717782Z"
    },
    "papermill": {
     "duration": 2.385635,
     "end_time": "2024-07-02T08:14:23.721960",
     "exception": false,
     "start_time": "2024-07-02T08:14:21.336325",
     "status": "completed"
    },
    "tags": []
   },
   "outputs": [],
   "source": [
    "from sklearn.datasets import load_diabetes\n",
    "\n",
    "import numpy as np\n",
    "from sklearn.linear_model import LinearRegression\n",
    "from sklearn.metrics import r2_score\n",
    "from sklearn.model_selection import train_test_split"
   ]
  },
  {
   "cell_type": "code",
   "execution_count": 2,
   "id": "952a7f34",
   "metadata": {
    "execution": {
     "iopub.execute_input": "2024-07-02T08:14:23.734819Z",
     "iopub.status.busy": "2024-07-02T08:14:23.734411Z",
     "iopub.status.idle": "2024-07-02T08:14:23.760161Z",
     "shell.execute_reply": "2024-07-02T08:14:23.759029Z"
    },
    "papermill": {
     "duration": 0.035116,
     "end_time": "2024-07-02T08:14:23.762868",
     "exception": false,
     "start_time": "2024-07-02T08:14:23.727752",
     "status": "completed"
    },
    "tags": []
   },
   "outputs": [],
   "source": [
    "X,y = load_diabetes(return_X_y=True)"
   ]
  },
  {
   "cell_type": "code",
   "execution_count": 3,
   "id": "fe39fa1b",
   "metadata": {
    "execution": {
     "iopub.execute_input": "2024-07-02T08:14:23.776308Z",
     "iopub.status.busy": "2024-07-02T08:14:23.775198Z",
     "iopub.status.idle": "2024-07-02T08:14:23.781875Z",
     "shell.execute_reply": "2024-07-02T08:14:23.780618Z"
    },
    "papermill": {
     "duration": 0.017003,
     "end_time": "2024-07-02T08:14:23.785379",
     "exception": false,
     "start_time": "2024-07-02T08:14:23.768376",
     "status": "completed"
    },
    "tags": []
   },
   "outputs": [
    {
     "name": "stdout",
     "output_type": "stream",
     "text": [
      "(442, 10)\n",
      "(442,)\n"
     ]
    }
   ],
   "source": [
    "print(X.shape)\n",
    "print(y.shape)"
   ]
  },
  {
   "cell_type": "code",
   "execution_count": 4,
   "id": "dfe0e129",
   "metadata": {
    "execution": {
     "iopub.execute_input": "2024-07-02T08:14:23.798690Z",
     "iopub.status.busy": "2024-07-02T08:14:23.798277Z",
     "iopub.status.idle": "2024-07-02T08:14:23.806835Z",
     "shell.execute_reply": "2024-07-02T08:14:23.805820Z"
    },
    "papermill": {
     "duration": 0.018324,
     "end_time": "2024-07-02T08:14:23.809416",
     "exception": false,
     "start_time": "2024-07-02T08:14:23.791092",
     "status": "completed"
    },
    "tags": []
   },
   "outputs": [],
   "source": [
    "X_train,X_test,y_train,y_test = train_test_split(X,y,test_size=0.2,random_state=2)"
   ]
  },
  {
   "cell_type": "code",
   "execution_count": 5,
   "id": "1baf5578",
   "metadata": {
    "execution": {
     "iopub.execute_input": "2024-07-02T08:14:23.822195Z",
     "iopub.status.busy": "2024-07-02T08:14:23.821731Z",
     "iopub.status.idle": "2024-07-02T08:14:23.861484Z",
     "shell.execute_reply": "2024-07-02T08:14:23.860220Z"
    },
    "papermill": {
     "duration": 0.049095,
     "end_time": "2024-07-02T08:14:23.863981",
     "exception": false,
     "start_time": "2024-07-02T08:14:23.814886",
     "status": "completed"
    },
    "tags": []
   },
   "outputs": [
    {
     "data": {
      "text/html": [
       "<style>#sk-container-id-1 {color: black;background-color: white;}#sk-container-id-1 pre{padding: 0;}#sk-container-id-1 div.sk-toggleable {background-color: white;}#sk-container-id-1 label.sk-toggleable__label {cursor: pointer;display: block;width: 100%;margin-bottom: 0;padding: 0.3em;box-sizing: border-box;text-align: center;}#sk-container-id-1 label.sk-toggleable__label-arrow:before {content: \"▸\";float: left;margin-right: 0.25em;color: #696969;}#sk-container-id-1 label.sk-toggleable__label-arrow:hover:before {color: black;}#sk-container-id-1 div.sk-estimator:hover label.sk-toggleable__label-arrow:before {color: black;}#sk-container-id-1 div.sk-toggleable__content {max-height: 0;max-width: 0;overflow: hidden;text-align: left;background-color: #f0f8ff;}#sk-container-id-1 div.sk-toggleable__content pre {margin: 0.2em;color: black;border-radius: 0.25em;background-color: #f0f8ff;}#sk-container-id-1 input.sk-toggleable__control:checked~div.sk-toggleable__content {max-height: 200px;max-width: 100%;overflow: auto;}#sk-container-id-1 input.sk-toggleable__control:checked~label.sk-toggleable__label-arrow:before {content: \"▾\";}#sk-container-id-1 div.sk-estimator input.sk-toggleable__control:checked~label.sk-toggleable__label {background-color: #d4ebff;}#sk-container-id-1 div.sk-label input.sk-toggleable__control:checked~label.sk-toggleable__label {background-color: #d4ebff;}#sk-container-id-1 input.sk-hidden--visually {border: 0;clip: rect(1px 1px 1px 1px);clip: rect(1px, 1px, 1px, 1px);height: 1px;margin: -1px;overflow: hidden;padding: 0;position: absolute;width: 1px;}#sk-container-id-1 div.sk-estimator {font-family: monospace;background-color: #f0f8ff;border: 1px dotted black;border-radius: 0.25em;box-sizing: border-box;margin-bottom: 0.5em;}#sk-container-id-1 div.sk-estimator:hover {background-color: #d4ebff;}#sk-container-id-1 div.sk-parallel-item::after {content: \"\";width: 100%;border-bottom: 1px solid gray;flex-grow: 1;}#sk-container-id-1 div.sk-label:hover label.sk-toggleable__label {background-color: #d4ebff;}#sk-container-id-1 div.sk-serial::before {content: \"\";position: absolute;border-left: 1px solid gray;box-sizing: border-box;top: 0;bottom: 0;left: 50%;z-index: 0;}#sk-container-id-1 div.sk-serial {display: flex;flex-direction: column;align-items: center;background-color: white;padding-right: 0.2em;padding-left: 0.2em;position: relative;}#sk-container-id-1 div.sk-item {position: relative;z-index: 1;}#sk-container-id-1 div.sk-parallel {display: flex;align-items: stretch;justify-content: center;background-color: white;position: relative;}#sk-container-id-1 div.sk-item::before, #sk-container-id-1 div.sk-parallel-item::before {content: \"\";position: absolute;border-left: 1px solid gray;box-sizing: border-box;top: 0;bottom: 0;left: 50%;z-index: -1;}#sk-container-id-1 div.sk-parallel-item {display: flex;flex-direction: column;z-index: 1;position: relative;background-color: white;}#sk-container-id-1 div.sk-parallel-item:first-child::after {align-self: flex-end;width: 50%;}#sk-container-id-1 div.sk-parallel-item:last-child::after {align-self: flex-start;width: 50%;}#sk-container-id-1 div.sk-parallel-item:only-child::after {width: 0;}#sk-container-id-1 div.sk-dashed-wrapped {border: 1px dashed gray;margin: 0 0.4em 0.5em 0.4em;box-sizing: border-box;padding-bottom: 0.4em;background-color: white;}#sk-container-id-1 div.sk-label label {font-family: monospace;font-weight: bold;display: inline-block;line-height: 1.2em;}#sk-container-id-1 div.sk-label-container {text-align: center;}#sk-container-id-1 div.sk-container {/* jupyter's `normalize.less` sets `[hidden] { display: none; }` but bootstrap.min.css set `[hidden] { display: none !important; }` so we also need the `!important` here to be able to override the default hidden behavior on the sphinx rendered scikit-learn.org. See: https://github.com/scikit-learn/scikit-learn/issues/21755 */display: inline-block !important;position: relative;}#sk-container-id-1 div.sk-text-repr-fallback {display: none;}</style><div id=\"sk-container-id-1\" class=\"sk-top-container\"><div class=\"sk-text-repr-fallback\"><pre>LinearRegression()</pre><b>In a Jupyter environment, please rerun this cell to show the HTML representation or trust the notebook. <br />On GitHub, the HTML representation is unable to render, please try loading this page with nbviewer.org.</b></div><div class=\"sk-container\" hidden><div class=\"sk-item\"><div class=\"sk-estimator sk-toggleable\"><input class=\"sk-toggleable__control sk-hidden--visually\" id=\"sk-estimator-id-1\" type=\"checkbox\" checked><label for=\"sk-estimator-id-1\" class=\"sk-toggleable__label sk-toggleable__label-arrow\">LinearRegression</label><div class=\"sk-toggleable__content\"><pre>LinearRegression()</pre></div></div></div></div></div>"
      ],
      "text/plain": [
       "LinearRegression()"
      ]
     },
     "execution_count": 5,
     "metadata": {},
     "output_type": "execute_result"
    }
   ],
   "source": [
    "reg = LinearRegression()\n",
    "reg.fit(X_train,y_train)"
   ]
  },
  {
   "cell_type": "code",
   "execution_count": 6,
   "id": "6f1ea35e",
   "metadata": {
    "execution": {
     "iopub.execute_input": "2024-07-02T08:14:23.877312Z",
     "iopub.status.busy": "2024-07-02T08:14:23.876868Z",
     "iopub.status.idle": "2024-07-02T08:14:23.883311Z",
     "shell.execute_reply": "2024-07-02T08:14:23.882146Z"
    },
    "papermill": {
     "duration": 0.016044,
     "end_time": "2024-07-02T08:14:23.885771",
     "exception": false,
     "start_time": "2024-07-02T08:14:23.869727",
     "status": "completed"
    },
    "tags": []
   },
   "outputs": [
    {
     "name": "stdout",
     "output_type": "stream",
     "text": [
      "[  -9.15865318 -205.45432163  516.69374454  340.61999905 -895.5520019\n",
      "  561.22067904  153.89310954  126.73139688  861.12700152   52.42112238]\n",
      "151.88331005254167\n"
     ]
    }
   ],
   "source": [
    "print(reg.coef_)\n",
    "print(reg.intercept_)"
   ]
  },
  {
   "cell_type": "code",
   "execution_count": 7,
   "id": "116e0b2a",
   "metadata": {
    "execution": {
     "iopub.execute_input": "2024-07-02T08:14:23.899569Z",
     "iopub.status.busy": "2024-07-02T08:14:23.899139Z",
     "iopub.status.idle": "2024-07-02T08:14:23.908135Z",
     "shell.execute_reply": "2024-07-02T08:14:23.907104Z"
    },
    "papermill": {
     "duration": 0.018591,
     "end_time": "2024-07-02T08:14:23.910526",
     "exception": false,
     "start_time": "2024-07-02T08:14:23.891935",
     "status": "completed"
    },
    "tags": []
   },
   "outputs": [
    {
     "data": {
      "text/plain": [
       "0.4399338661568968"
      ]
     },
     "execution_count": 7,
     "metadata": {},
     "output_type": "execute_result"
    }
   ],
   "source": [
    "y_pred = reg.predict(X_test)\n",
    "r2_score(y_test,y_pred)"
   ]
  },
  {
   "cell_type": "code",
   "execution_count": 8,
   "id": "f102db02",
   "metadata": {
    "execution": {
     "iopub.execute_input": "2024-07-02T08:14:23.925093Z",
     "iopub.status.busy": "2024-07-02T08:14:23.923968Z",
     "iopub.status.idle": "2024-07-02T08:14:23.931693Z",
     "shell.execute_reply": "2024-07-02T08:14:23.930527Z"
    },
    "papermill": {
     "duration": 0.017915,
     "end_time": "2024-07-02T08:14:23.934502",
     "exception": false,
     "start_time": "2024-07-02T08:14:23.916587",
     "status": "completed"
    },
    "tags": []
   },
   "outputs": [
    {
     "data": {
      "text/plain": [
       "(353, 10)"
      ]
     },
     "execution_count": 8,
     "metadata": {},
     "output_type": "execute_result"
    }
   ],
   "source": [
    "X_train.shape"
   ]
  },
  {
   "cell_type": "code",
   "execution_count": 9,
   "id": "d77b5f35",
   "metadata": {
    "execution": {
     "iopub.execute_input": "2024-07-02T08:14:23.948911Z",
     "iopub.status.busy": "2024-07-02T08:14:23.948516Z",
     "iopub.status.idle": "2024-07-02T08:14:23.960456Z",
     "shell.execute_reply": "2024-07-02T08:14:23.959214Z"
    },
    "papermill": {
     "duration": 0.022734,
     "end_time": "2024-07-02T08:14:23.963591",
     "exception": false,
     "start_time": "2024-07-02T08:14:23.940857",
     "status": "completed"
    },
    "tags": []
   },
   "outputs": [],
   "source": [
    "class GDRegressor:\n",
    "    \n",
    "    def __init__(self,learning_rate=0.01,epochs=100):\n",
    "        \n",
    "        self.coef_ = None\n",
    "        self.intercept_ = None\n",
    "        self.lr = learning_rate\n",
    "        self.epochs = epochs\n",
    "        \n",
    "    def fit(self,X_train,y_train):\n",
    "        # init your coefs\n",
    "        self.intercept_ = 0\n",
    "        self.coef_ = np.ones(X_train.shape[1])\n",
    "        \n",
    "        for i in range(self.epochs):\n",
    "            # update all the coef and the intercept\n",
    "            y_hat = np.dot(X_train,self.coef_) + self.intercept_\n",
    "            #print(\"Shape of y_hat\",y_hat.shape)\n",
    "            intercept_der = -2 * np.mean(y_train - y_hat)\n",
    "            self.intercept_ = self.intercept_ - (self.lr * intercept_der)\n",
    "            \n",
    "            coef_der = -2 * np.dot((y_train - y_hat),X_train)/X_train.shape[0]\n",
    "            self.coef_ = self.coef_ - (self.lr * coef_der)\n",
    "        \n",
    "        print(self.intercept_,self.coef_)\n",
    "    \n",
    "    def predict(self,X_test):\n",
    "        return np.dot(X_test,self.coef_) + self.intercept_"
   ]
  },
  {
   "cell_type": "code",
   "execution_count": 10,
   "id": "64da3d48",
   "metadata": {
    "execution": {
     "iopub.execute_input": "2024-07-02T08:14:23.978180Z",
     "iopub.status.busy": "2024-07-02T08:14:23.977707Z",
     "iopub.status.idle": "2024-07-02T08:14:23.983567Z",
     "shell.execute_reply": "2024-07-02T08:14:23.982363Z"
    },
    "papermill": {
     "duration": 0.016173,
     "end_time": "2024-07-02T08:14:23.986177",
     "exception": false,
     "start_time": "2024-07-02T08:14:23.970004",
     "status": "completed"
    },
    "tags": []
   },
   "outputs": [],
   "source": [
    "gdr = GDRegressor(epochs=1000,learning_rate=0.5)"
   ]
  },
  {
   "cell_type": "code",
   "execution_count": 11,
   "id": "6034eb61",
   "metadata": {
    "execution": {
     "iopub.execute_input": "2024-07-02T08:14:24.000645Z",
     "iopub.status.busy": "2024-07-02T08:14:24.000200Z",
     "iopub.status.idle": "2024-07-02T08:14:24.048799Z",
     "shell.execute_reply": "2024-07-02T08:14:24.047630Z"
    },
    "papermill": {
     "duration": 0.058945,
     "end_time": "2024-07-02T08:14:24.051495",
     "exception": false,
     "start_time": "2024-07-02T08:14:23.992550",
     "status": "completed"
    },
    "tags": []
   },
   "outputs": [
    {
     "name": "stdout",
     "output_type": "stream",
     "text": [
      "152.01351687661833 [  14.38990585 -173.7235727   491.54898524  323.91524824  -39.32648042\n",
      " -116.01061213 -194.04077415  103.38135565  451.63448787   97.57218278]\n"
     ]
    }
   ],
   "source": [
    "gdr.fit(X_train,y_train)\n"
   ]
  },
  {
   "cell_type": "code",
   "execution_count": 12,
   "id": "7a8c927a",
   "metadata": {
    "execution": {
     "iopub.execute_input": "2024-07-02T08:14:24.065809Z",
     "iopub.status.busy": "2024-07-02T08:14:24.065429Z",
     "iopub.status.idle": "2024-07-02T08:14:24.071286Z",
     "shell.execute_reply": "2024-07-02T08:14:24.070094Z"
    },
    "papermill": {
     "duration": 0.016412,
     "end_time": "2024-07-02T08:14:24.074162",
     "exception": false,
     "start_time": "2024-07-02T08:14:24.057750",
     "status": "completed"
    },
    "tags": []
   },
   "outputs": [],
   "source": [
    "y_pred = gdr.predict(X_test)"
   ]
  },
  {
   "cell_type": "code",
   "execution_count": 13,
   "id": "d3910e21",
   "metadata": {
    "execution": {
     "iopub.execute_input": "2024-07-02T08:14:24.089305Z",
     "iopub.status.busy": "2024-07-02T08:14:24.088727Z",
     "iopub.status.idle": "2024-07-02T08:14:24.096993Z",
     "shell.execute_reply": "2024-07-02T08:14:24.095821Z"
    },
    "papermill": {
     "duration": 0.018868,
     "end_time": "2024-07-02T08:14:24.099774",
     "exception": false,
     "start_time": "2024-07-02T08:14:24.080906",
     "status": "completed"
    },
    "tags": []
   },
   "outputs": [
    {
     "data": {
      "text/plain": [
       "0.4534503034722803"
      ]
     },
     "execution_count": 13,
     "metadata": {},
     "output_type": "execute_result"
    }
   ],
   "source": [
    "r2_score(y_test,y_pred)"
   ]
  },
  {
   "cell_type": "code",
   "execution_count": null,
   "id": "fc6e588a",
   "metadata": {
    "papermill": {
     "duration": 0.006083,
     "end_time": "2024-07-02T08:14:24.112337",
     "exception": false,
     "start_time": "2024-07-02T08:14:24.106254",
     "status": "completed"
    },
    "tags": []
   },
   "outputs": [],
   "source": []
  }
 ],
 "metadata": {
  "kaggle": {
   "accelerator": "none",
   "dataSources": [],
   "dockerImageVersionId": 30732,
   "isGpuEnabled": false,
   "isInternetEnabled": false,
   "language": "python",
   "sourceType": "notebook"
  },
  "kernelspec": {
   "display_name": "Python 3",
   "language": "python",
   "name": "python3"
  },
  "language_info": {
   "codemirror_mode": {
    "name": "ipython",
    "version": 3
   },
   "file_extension": ".py",
   "mimetype": "text/x-python",
   "name": "python",
   "nbconvert_exporter": "python",
   "pygments_lexer": "ipython3",
   "version": "3.10.13"
  },
  "papermill": {
   "default_parameters": {},
   "duration": 6.730725,
   "end_time": "2024-07-02T08:14:24.640137",
   "environment_variables": {},
   "exception": null,
   "input_path": "__notebook__.ipynb",
   "output_path": "__notebook__.ipynb",
   "parameters": {},
   "start_time": "2024-07-02T08:14:17.909412",
   "version": "2.5.0"
  }
 },
 "nbformat": 4,
 "nbformat_minor": 5
}
